{
  "nbformat": 4,
  "nbformat_minor": 0,
  "metadata": {
    "colab": {
      "provenance": [],
      "machine_shape": "hm",
      "include_colab_link": true
    },
    "kernelspec": {
      "name": "python3",
      "display_name": "Python 3"
    },
    "language_info": {
      "name": "python"
    },
    "accelerator": "GPU",
    "gpuClass": "premium"
  },
  "cells": [
    {
      "cell_type": "markdown",
      "metadata": {
        "id": "view-in-github",
        "colab_type": "text"
      },
      "source": [
        "<a href=\"https://colab.research.google.com/github/Wanita-8943/Main_Project/blob/main/A11_Train_Unfreeze.ipynb\" target=\"_parent\"><img src=\"https://colab.research.google.com/assets/colab-badge.svg\" alt=\"Open In Colab\"/></a>"
      ]
    },
    {
      "cell_type": "markdown",
      "source": [
        "#เรียกใช้ CSV"
      ],
      "metadata": {
        "id": "ow7eWoNw6U-c"
      }
    },
    {
      "cell_type": "code",
      "execution_count": 1,
      "metadata": {
        "id": "z8o_VVNXzcL8"
      },
      "outputs": [],
      "source": [
        "import pandas as pd\n",
        "import shutil"
      ]
    },
    {
      "cell_type": "code",
      "source": [
        "from google.colab import drive\n",
        "drive.mount('/content/drive')"
      ],
      "metadata": {
        "colab": {
          "base_uri": "https://localhost:8080/"
        },
        "id": "1_2Fe8u81d5r",
        "outputId": "3a64623b-b7cb-46cf-fe1e-ac64b44d0ea8"
      },
      "execution_count": 2,
      "outputs": [
        {
          "output_type": "stream",
          "name": "stdout",
          "text": [
            "Mounted at /content/drive\n"
          ]
        }
      ]
    },
    {
      "cell_type": "markdown",
      "source": [
        "#Imports"
      ],
      "metadata": {
        "id": "5qxePnnn7TGW"
      }
    },
    {
      "cell_type": "code",
      "source": [
        "from tensorflow.keras import models\n",
        "from tensorflow.keras import layers\n",
        "from tensorflow.keras import optimizers\n",
        "import os\n",
        "import glob\n",
        "import shutil\n",
        "import sys\n",
        "import numpy as np\n",
        "from skimage.io import imread\n",
        "import matplotlib.pyplot as plt\n",
        "from IPython.display import Image\n",
        "%matplotlib inline"
      ],
      "metadata": {
        "id": "D-hCRloc3t39"
      },
      "execution_count": 3,
      "outputs": []
    },
    {
      "cell_type": "code",
      "source": [
        "import tensorflow as tf\n",
        "from tensorflow.keras import Sequential\n",
        "from tensorflow.keras.layers import Dense\n",
        "from tensorflow.keras.optimizers import Adam\n",
        "from tensorflow.keras import backend as K"
      ],
      "metadata": {
        "id": "YZWXwjXeGxZP"
      },
      "execution_count": 4,
      "outputs": []
    },
    {
      "cell_type": "markdown",
      "source": [
        "#กำหนดค่าพารามิเตอร์\n"
      ],
      "metadata": {
        "id": "RooqSdBc7QHC"
      }
    },
    {
      "cell_type": "code",
      "source": [
        "batch_size = 16\n",
        "width = 150\n",
        "height = 150\n",
        "epochs = 250\n",
        "NUM_TRAIN = 2850\n",
        "NUM_TEST = 950\n",
        "dropout_rate = 0.2\n",
        "input_shape = (height, width, 3)"
      ],
      "metadata": {
        "id": "thDb7U9B3xOo"
      },
      "execution_count": 5,
      "outputs": []
    },
    {
      "cell_type": "markdown",
      "source": [
        "#Clone efficientnet repo\n"
      ],
      "metadata": {
        "id": "pumGmy6f3eSW"
      }
    },
    {
      "cell_type": "code",
      "source": [
        "#ดึงข้อมูลใน Github มาใช้\n",
        "import os\n",
        "%cd /content\n",
        "if not os.path.isdir(\"efficientnet_keras_transfer_learning\"):\n",
        " !git clone https://github.com/Wanita-8943/efficientnet_keras_transfer_learning\n",
        "%cd efficientnet_keras_transfer_learning/\n"
      ],
      "metadata": {
        "colab": {
          "base_uri": "https://localhost:8080/"
        },
        "id": "P7iy2f8n16p0",
        "outputId": "64d0af46-a557-4647-cc57-a7e75502f4a6"
      },
      "execution_count": 6,
      "outputs": [
        {
          "output_type": "stream",
          "name": "stdout",
          "text": [
            "/content\n",
            "Cloning into 'efficientnet_keras_transfer_learning'...\n",
            "remote: Enumerating objects: 1085, done.\u001b[K\n",
            "remote: Counting objects: 100% (248/248), done.\u001b[K\n",
            "remote: Compressing objects: 100% (127/127), done.\u001b[K\n",
            "remote: Total 1085 (delta 124), reused 241 (delta 121), pack-reused 837\u001b[K\n",
            "Receiving objects: 100% (1085/1085), 14.09 MiB | 10.13 MiB/s, done.\n",
            "Resolving deltas: 100% (621/621), done.\n",
            "/content/efficientnet_keras_transfer_learning\n"
          ]
        }
      ]
    },
    {
      "cell_type": "code",
      "source": [
        "# Options: EfficientNetB0, EfficientNetB1, EfficientNetB2, EfficientNetB3\n",
        "# Higher the number, the more complex the model is.\n",
        "from efficientnet import EfficientNetB0 as Net\n",
        "from efficientnet import center_crop_and_resize, preprocess_input"
      ],
      "metadata": {
        "id": "tjZBRnfo3bN0"
      },
      "execution_count": 7,
      "outputs": []
    },
    {
      "cell_type": "code",
      "source": [
        "# loading pretrained conv base model\n",
        "# โหลดโมเดล มาโดยตัด output ของโมเดลออก เเต่ยังใช้ input อันเดิม\n",
        "# เเละโหลด weight ของโมเดล มาด้วยที่ชื่อว่า imagenet\n",
        "conv_base = Net(weights='imagenet', include_top=False, input_shape=input_shape)"
      ],
      "metadata": {
        "colab": {
          "base_uri": "https://localhost:8080/"
        },
        "id": "r8BN74_JJdfj",
        "outputId": "210f1d01-deb5-4cde-9a59-14abf0bc1c08"
      },
      "execution_count": 8,
      "outputs": [
        {
          "output_type": "stream",
          "name": "stdout",
          "text": [
            "Downloading data from https://github.com/qubvel/efficientnet/releases/download/v0.0.1/efficientnet-b0_imagenet_1000_notop.h5\n",
            "16717576/16717576 [==============================] - 1s 0us/step\n"
          ]
        }
      ]
    },
    {
      "cell_type": "markdown",
      "source": [
        "#load model\n"
      ],
      "metadata": {
        "id": "PdNWyD-QYkzK"
      }
    },
    {
      "cell_type": "code",
      "source": [
        "import sys\n",
        "sys.path.append('/content/drive/MyDrive/cut_panoramic/Model/Regression/All/10Re_All_1G_1e-4_16_0.2_250_New_Unfreez.h5')\n",
        "\n",
        "from efficientnet.layers import Swish, DropConnect\n",
        "from efficientnet.model import ConvKernalInitializer\n",
        "from tensorflow.keras.utils import get_custom_objects\n",
        "\n",
        "get_custom_objects().update({\n",
        "    'ConvKernalInitializer': ConvKernalInitializer,\n",
        "    'Swish': Swish,\n",
        "    'DropConnect':DropConnect\n",
        "})"
      ],
      "metadata": {
        "id": "_gPnx2UvYf5A"
      },
      "execution_count": 9,
      "outputs": []
    },
    {
      "cell_type": "code",
      "source": [
        "#load model \n",
        "from tensorflow.keras.models import load_model\n",
        "model = load_model('/content/drive/MyDrive/cut_panoramic/Model/Regression/All/10Re_All_1G_1e-4_16_0.2_250_New_Unfreez.h5')\n",
        "height = width = model.input_shape[1]"
      ],
      "metadata": {
        "id": "Nu93WzFUYm9e"
      },
      "execution_count": 10,
      "outputs": []
    },
    {
      "cell_type": "code",
      "source": [
        "model.summary()"
      ],
      "metadata": {
        "id": "gp5EbyyXYvc6",
        "colab": {
          "base_uri": "https://localhost:8080/"
        },
        "outputId": "c6e6fcb7-17ec-451c-ffc5-155f398a696f"
      },
      "execution_count": 11,
      "outputs": [
        {
          "output_type": "stream",
          "name": "stdout",
          "text": [
            "Model: \"sequential\"\n",
            "_________________________________________________________________\n",
            " Layer (type)                Output Shape              Param #   \n",
            "=================================================================\n",
            " efficientnet-b0 (Functional  (None, 5, 5, 1280)       4049564   \n",
            " )                                                               \n",
            "                                                                 \n",
            " gap (GlobalMaxPooling2D)    (None, 1280)              0         \n",
            "                                                                 \n",
            " dropout_out (Dropout)       (None, 1280)              0         \n",
            "                                                                 \n",
            " fc_out (Dense)              (None, 19)                24339     \n",
            "                                                                 \n",
            " dense (Dense)               (None, 1)                 20        \n",
            "                                                                 \n",
            "=================================================================\n",
            "Total params: 4,073,923\n",
            "Trainable params: 4,031,907\n",
            "Non-trainable params: 42,016\n",
            "_________________________________________________________________\n"
          ]
        }
      ]
    },
    {
      "cell_type": "code",
      "source": [
        "df = pd.read_csv (r'/content/drive/MyDrive/cut_panoramic/Data/All_Re.csv')\n",
        "df"
      ],
      "metadata": {
        "id": "q1Dc131_Y3uA",
        "colab": {
          "base_uri": "https://localhost:8080/",
          "height": 423
        },
        "outputId": "bb7b4351-2d71-4731-b489-61510889a129"
      },
      "execution_count": 12,
      "outputs": [
        {
          "output_type": "execute_result",
          "data": {
            "text/plain": [
              "      Fig_Age  Fig_Person_Sex  Age(year) Class  Class_Re       Filename  \\\n",
              "0           1               1          7  Y07F         1         V1.jpg   \n",
              "1           2               1          7  Y07F         1    Flip_V1.jpg   \n",
              "2           3               2          7  Y07F         1         V2.jpg   \n",
              "3           4               2          7  Y07F         1    Flip_V2.jpg   \n",
              "4           5               3          7  Y07F         1         V3.jpg   \n",
              "...       ...             ...        ...   ...       ...            ...   \n",
              "4745      121              77         25  Y25M        19  Flip_J463.jpg   \n",
              "4746      122              78         25  Y25M        19       J464.jpg   \n",
              "4747      123              78         25  Y25M        19  Flip_J464.jpg   \n",
              "4748      124              79         25  Y25M        19       J465.jpg   \n",
              "4749      125              79         25  Y25M        19  Flip_J465.jpg   \n",
              "\n",
              "                                          Path_filename     Sex Floder  \n",
              "0     /content/drive/My Drive/TVT_Gender/train/Femal...  Female   Both  \n",
              "1     /content/drive/My Drive/TVT_Gender/train/Femal...  Female   Both  \n",
              "2     /content/drive/My Drive/TVT_Gender/train/Femal...  Female   Both  \n",
              "3     /content/drive/My Drive/TVT_Gender/train/Femal...  Female   Both  \n",
              "4     /content/drive/My Drive/TVT_Gender/train/Femal...  Female   Both  \n",
              "...                                                 ...     ...    ...  \n",
              "4745  /content/drive/My Drive/TVT_Gender/test/Male/F...    Male   Both  \n",
              "4746  /content/drive/My Drive/TVT_Gender/test/Male/J...    Male   Both  \n",
              "4747  /content/drive/My Drive/TVT_Gender/test/Male/F...    Male   Both  \n",
              "4748  /content/drive/My Drive/TVT_Gender/test/Male/J...    Male   Both  \n",
              "4749  /content/drive/My Drive/TVT_Gender/test/Male/F...    Male   Both  \n",
              "\n",
              "[4750 rows x 9 columns]"
            ],
            "text/html": [
              "\n",
              "  <div id=\"df-7174411a-2600-4151-a729-b4058c9d8311\">\n",
              "    <div class=\"colab-df-container\">\n",
              "      <div>\n",
              "<style scoped>\n",
              "    .dataframe tbody tr th:only-of-type {\n",
              "        vertical-align: middle;\n",
              "    }\n",
              "\n",
              "    .dataframe tbody tr th {\n",
              "        vertical-align: top;\n",
              "    }\n",
              "\n",
              "    .dataframe thead th {\n",
              "        text-align: right;\n",
              "    }\n",
              "</style>\n",
              "<table border=\"1\" class=\"dataframe\">\n",
              "  <thead>\n",
              "    <tr style=\"text-align: right;\">\n",
              "      <th></th>\n",
              "      <th>Fig_Age</th>\n",
              "      <th>Fig_Person_Sex</th>\n",
              "      <th>Age(year)</th>\n",
              "      <th>Class</th>\n",
              "      <th>Class_Re</th>\n",
              "      <th>Filename</th>\n",
              "      <th>Path_filename</th>\n",
              "      <th>Sex</th>\n",
              "      <th>Floder</th>\n",
              "    </tr>\n",
              "  </thead>\n",
              "  <tbody>\n",
              "    <tr>\n",
              "      <th>0</th>\n",
              "      <td>1</td>\n",
              "      <td>1</td>\n",
              "      <td>7</td>\n",
              "      <td>Y07F</td>\n",
              "      <td>1</td>\n",
              "      <td>V1.jpg</td>\n",
              "      <td>/content/drive/My Drive/TVT_Gender/train/Femal...</td>\n",
              "      <td>Female</td>\n",
              "      <td>Both</td>\n",
              "    </tr>\n",
              "    <tr>\n",
              "      <th>1</th>\n",
              "      <td>2</td>\n",
              "      <td>1</td>\n",
              "      <td>7</td>\n",
              "      <td>Y07F</td>\n",
              "      <td>1</td>\n",
              "      <td>Flip_V1.jpg</td>\n",
              "      <td>/content/drive/My Drive/TVT_Gender/train/Femal...</td>\n",
              "      <td>Female</td>\n",
              "      <td>Both</td>\n",
              "    </tr>\n",
              "    <tr>\n",
              "      <th>2</th>\n",
              "      <td>3</td>\n",
              "      <td>2</td>\n",
              "      <td>7</td>\n",
              "      <td>Y07F</td>\n",
              "      <td>1</td>\n",
              "      <td>V2.jpg</td>\n",
              "      <td>/content/drive/My Drive/TVT_Gender/train/Femal...</td>\n",
              "      <td>Female</td>\n",
              "      <td>Both</td>\n",
              "    </tr>\n",
              "    <tr>\n",
              "      <th>3</th>\n",
              "      <td>4</td>\n",
              "      <td>2</td>\n",
              "      <td>7</td>\n",
              "      <td>Y07F</td>\n",
              "      <td>1</td>\n",
              "      <td>Flip_V2.jpg</td>\n",
              "      <td>/content/drive/My Drive/TVT_Gender/train/Femal...</td>\n",
              "      <td>Female</td>\n",
              "      <td>Both</td>\n",
              "    </tr>\n",
              "    <tr>\n",
              "      <th>4</th>\n",
              "      <td>5</td>\n",
              "      <td>3</td>\n",
              "      <td>7</td>\n",
              "      <td>Y07F</td>\n",
              "      <td>1</td>\n",
              "      <td>V3.jpg</td>\n",
              "      <td>/content/drive/My Drive/TVT_Gender/train/Femal...</td>\n",
              "      <td>Female</td>\n",
              "      <td>Both</td>\n",
              "    </tr>\n",
              "    <tr>\n",
              "      <th>...</th>\n",
              "      <td>...</td>\n",
              "      <td>...</td>\n",
              "      <td>...</td>\n",
              "      <td>...</td>\n",
              "      <td>...</td>\n",
              "      <td>...</td>\n",
              "      <td>...</td>\n",
              "      <td>...</td>\n",
              "      <td>...</td>\n",
              "    </tr>\n",
              "    <tr>\n",
              "      <th>4745</th>\n",
              "      <td>121</td>\n",
              "      <td>77</td>\n",
              "      <td>25</td>\n",
              "      <td>Y25M</td>\n",
              "      <td>19</td>\n",
              "      <td>Flip_J463.jpg</td>\n",
              "      <td>/content/drive/My Drive/TVT_Gender/test/Male/F...</td>\n",
              "      <td>Male</td>\n",
              "      <td>Both</td>\n",
              "    </tr>\n",
              "    <tr>\n",
              "      <th>4746</th>\n",
              "      <td>122</td>\n",
              "      <td>78</td>\n",
              "      <td>25</td>\n",
              "      <td>Y25M</td>\n",
              "      <td>19</td>\n",
              "      <td>J464.jpg</td>\n",
              "      <td>/content/drive/My Drive/TVT_Gender/test/Male/J...</td>\n",
              "      <td>Male</td>\n",
              "      <td>Both</td>\n",
              "    </tr>\n",
              "    <tr>\n",
              "      <th>4747</th>\n",
              "      <td>123</td>\n",
              "      <td>78</td>\n",
              "      <td>25</td>\n",
              "      <td>Y25M</td>\n",
              "      <td>19</td>\n",
              "      <td>Flip_J464.jpg</td>\n",
              "      <td>/content/drive/My Drive/TVT_Gender/test/Male/F...</td>\n",
              "      <td>Male</td>\n",
              "      <td>Both</td>\n",
              "    </tr>\n",
              "    <tr>\n",
              "      <th>4748</th>\n",
              "      <td>124</td>\n",
              "      <td>79</td>\n",
              "      <td>25</td>\n",
              "      <td>Y25M</td>\n",
              "      <td>19</td>\n",
              "      <td>J465.jpg</td>\n",
              "      <td>/content/drive/My Drive/TVT_Gender/test/Male/J...</td>\n",
              "      <td>Male</td>\n",
              "      <td>Both</td>\n",
              "    </tr>\n",
              "    <tr>\n",
              "      <th>4749</th>\n",
              "      <td>125</td>\n",
              "      <td>79</td>\n",
              "      <td>25</td>\n",
              "      <td>Y25M</td>\n",
              "      <td>19</td>\n",
              "      <td>Flip_J465.jpg</td>\n",
              "      <td>/content/drive/My Drive/TVT_Gender/test/Male/F...</td>\n",
              "      <td>Male</td>\n",
              "      <td>Both</td>\n",
              "    </tr>\n",
              "  </tbody>\n",
              "</table>\n",
              "<p>4750 rows × 9 columns</p>\n",
              "</div>\n",
              "      <button class=\"colab-df-convert\" onclick=\"convertToInteractive('df-7174411a-2600-4151-a729-b4058c9d8311')\"\n",
              "              title=\"Convert this dataframe to an interactive table.\"\n",
              "              style=\"display:none;\">\n",
              "        \n",
              "  <svg xmlns=\"http://www.w3.org/2000/svg\" height=\"24px\"viewBox=\"0 0 24 24\"\n",
              "       width=\"24px\">\n",
              "    <path d=\"M0 0h24v24H0V0z\" fill=\"none\"/>\n",
              "    <path d=\"M18.56 5.44l.94 2.06.94-2.06 2.06-.94-2.06-.94-.94-2.06-.94 2.06-2.06.94zm-11 1L8.5 8.5l.94-2.06 2.06-.94-2.06-.94L8.5 2.5l-.94 2.06-2.06.94zm10 10l.94 2.06.94-2.06 2.06-.94-2.06-.94-.94-2.06-.94 2.06-2.06.94z\"/><path d=\"M17.41 7.96l-1.37-1.37c-.4-.4-.92-.59-1.43-.59-.52 0-1.04.2-1.43.59L10.3 9.45l-7.72 7.72c-.78.78-.78 2.05 0 2.83L4 21.41c.39.39.9.59 1.41.59.51 0 1.02-.2 1.41-.59l7.78-7.78 2.81-2.81c.8-.78.8-2.07 0-2.86zM5.41 20L4 18.59l7.72-7.72 1.47 1.35L5.41 20z\"/>\n",
              "  </svg>\n",
              "      </button>\n",
              "      \n",
              "  <style>\n",
              "    .colab-df-container {\n",
              "      display:flex;\n",
              "      flex-wrap:wrap;\n",
              "      gap: 12px;\n",
              "    }\n",
              "\n",
              "    .colab-df-convert {\n",
              "      background-color: #E8F0FE;\n",
              "      border: none;\n",
              "      border-radius: 50%;\n",
              "      cursor: pointer;\n",
              "      display: none;\n",
              "      fill: #1967D2;\n",
              "      height: 32px;\n",
              "      padding: 0 0 0 0;\n",
              "      width: 32px;\n",
              "    }\n",
              "\n",
              "    .colab-df-convert:hover {\n",
              "      background-color: #E2EBFA;\n",
              "      box-shadow: 0px 1px 2px rgba(60, 64, 67, 0.3), 0px 1px 3px 1px rgba(60, 64, 67, 0.15);\n",
              "      fill: #174EA6;\n",
              "    }\n",
              "\n",
              "    [theme=dark] .colab-df-convert {\n",
              "      background-color: #3B4455;\n",
              "      fill: #D2E3FC;\n",
              "    }\n",
              "\n",
              "    [theme=dark] .colab-df-convert:hover {\n",
              "      background-color: #434B5C;\n",
              "      box-shadow: 0px 1px 3px 1px rgba(0, 0, 0, 0.15);\n",
              "      filter: drop-shadow(0px 1px 2px rgba(0, 0, 0, 0.3));\n",
              "      fill: #FFFFFF;\n",
              "    }\n",
              "  </style>\n",
              "\n",
              "      <script>\n",
              "        const buttonEl =\n",
              "          document.querySelector('#df-7174411a-2600-4151-a729-b4058c9d8311 button.colab-df-convert');\n",
              "        buttonEl.style.display =\n",
              "          google.colab.kernel.accessAllowed ? 'block' : 'none';\n",
              "\n",
              "        async function convertToInteractive(key) {\n",
              "          const element = document.querySelector('#df-7174411a-2600-4151-a729-b4058c9d8311');\n",
              "          const dataTable =\n",
              "            await google.colab.kernel.invokeFunction('convertToInteractive',\n",
              "                                                     [key], {});\n",
              "          if (!dataTable) return;\n",
              "\n",
              "          const docLinkHtml = 'Like what you see? Visit the ' +\n",
              "            '<a target=\"_blank\" href=https://colab.research.google.com/notebooks/data_table.ipynb>data table notebook</a>'\n",
              "            + ' to learn more about interactive tables.';\n",
              "          element.innerHTML = '';\n",
              "          dataTable['output_type'] = 'display_data';\n",
              "          await google.colab.output.renderOutput(dataTable, element);\n",
              "          const docLink = document.createElement('div');\n",
              "          docLink.innerHTML = docLinkHtml;\n",
              "          element.appendChild(docLink);\n",
              "        }\n",
              "      </script>\n",
              "    </div>\n",
              "  </div>\n",
              "  "
            ]
          },
          "metadata": {},
          "execution_count": 12
        }
      ]
    },
    {
      "cell_type": "code",
      "source": [
        "train = df[df['Fig_Age'].between(1,75)]\n",
        "val = df[df['Fig_Age'].between(76,100)]"
      ],
      "metadata": {
        "id": "Z1zBw01Gl8Ac"
      },
      "execution_count": 13,
      "outputs": []
    },
    {
      "cell_type": "code",
      "source": [
        "DATA_PATH = \"/content/drive/My Drive/TVT_Gender\"\n",
        "os.chdir(DATA_PATH)\n",
        "train_dir = os.path.join(DATA_PATH, 'train')\n",
        "print(train_dir)\n",
        "validation_dir = os.path.join(DATA_PATH, 'validation')\n",
        "print(validation_dir)"
      ],
      "metadata": {
        "colab": {
          "base_uri": "https://localhost:8080/"
        },
        "id": "QL0g-8iOnMC4",
        "outputId": "a92e1e6c-9ea5-47e4-dd90-dcf97584cc27"
      },
      "execution_count": 14,
      "outputs": [
        {
          "output_type": "stream",
          "name": "stdout",
          "text": [
            "/content/drive/My Drive/TVT_Gender/train\n",
            "/content/drive/My Drive/TVT_Gender/validation\n"
          ]
        }
      ]
    },
    {
      "cell_type": "markdown",
      "source": [
        "\n",
        "#Train"
      ],
      "metadata": {
        "id": "bWEnlTSwazL5"
      }
    },
    {
      "cell_type": "code",
      "source": [
        "# Train ด้วย ImageDataGenerator ของ Keras ซึ่งจะเพิ่มข้อมูลเสริมระหว่างการฝึกเพื่อลดโอกาสเกิด overfitting\n",
        "#overfitting เกิดจากข้อมูลที่ซับซ้อนกันเกินไป\n",
        "from tensorflow.keras.preprocessing.image import ImageDataGenerator\n",
        "\n",
        "train_datagen = ImageDataGenerator(\n",
        "      rescale=1./255, #โมเดลส่วนใหญ่ต้องใช้ RGB ในช่วง 0–1\n",
        "      rotation_range=40,\n",
        "      width_shift_range=0.2,\n",
        "      height_shift_range=0.2,\n",
        "      shear_range=0.2,\n",
        "      zoom_range=0.2,\n",
        "      horizontal_flip=True,\n",
        "      fill_mode='nearest')\n",
        "\n",
        "# Note that the validation data should not be augmented!\n",
        "test_datagen = ImageDataGenerator(rescale=1./255)"
      ],
      "metadata": {
        "id": "xGPrsn9no_pa"
      },
      "execution_count": 15,
      "outputs": []
    },
    {
      "cell_type": "code",
      "source": [
        "train_generator = train_datagen.flow_from_dataframe(\n",
        "        dataframe = train,\n",
        "        directory = train_dir,\n",
        "        x_col = 'Path_filename',\n",
        "        y_col = 'Class_Re',\n",
        "        class_mode = 'other',\n",
        "        target_size=(height, width),\n",
        "        batch_size=batch_size)\n",
        "\n",
        "validation_generator = test_datagen.flow_from_dataframe(\n",
        "        dataframe = val,\n",
        "        directory = validation_dir,\n",
        "        x_col = 'Path_filename',\n",
        "        y_col = 'Class_Re',\n",
        "        class_mode = 'other',\n",
        "        target_size=(height, width),\n",
        "        batch_size=batch_size)"
      ],
      "metadata": {
        "colab": {
          "base_uri": "https://localhost:8080/"
        },
        "id": "8nVlmAszntK_",
        "outputId": "cc79a84d-b19e-456c-8c28-f269d50dbc6a"
      },
      "execution_count": 16,
      "outputs": [
        {
          "output_type": "stream",
          "name": "stdout",
          "text": [
            "Found 2850 validated image filenames.\n",
            "Found 950 validated image filenames.\n"
          ]
        }
      ]
    },
    {
      "cell_type": "code",
      "source": [
        "model.summary()"
      ],
      "metadata": {
        "colab": {
          "base_uri": "https://localhost:8080/"
        },
        "id": "zzCdn3X4Jm_E",
        "outputId": "48eca8e3-8e8f-405d-8750-ada98fab43e1"
      },
      "execution_count": 17,
      "outputs": [
        {
          "output_type": "stream",
          "name": "stdout",
          "text": [
            "Model: \"sequential\"\n",
            "_________________________________________________________________\n",
            " Layer (type)                Output Shape              Param #   \n",
            "=================================================================\n",
            " efficientnet-b0 (Functional  (None, 5, 5, 1280)       4049564   \n",
            " )                                                               \n",
            "                                                                 \n",
            " gap (GlobalMaxPooling2D)    (None, 1280)              0         \n",
            "                                                                 \n",
            " dropout_out (Dropout)       (None, 1280)              0         \n",
            "                                                                 \n",
            " fc_out (Dense)              (None, 19)                24339     \n",
            "                                                                 \n",
            " dense (Dense)               (None, 1)                 20        \n",
            "                                                                 \n",
            "=================================================================\n",
            "Total params: 4,073,923\n",
            "Trainable params: 4,031,907\n",
            "Non-trainable params: 42,016\n",
            "_________________________________________________________________\n"
          ]
        }
      ]
    },
    {
      "cell_type": "code",
      "source": [
        "model.compile(loss='mse',\n",
        "          optimizer=Adam(learning_rate=1e-4),\n",
        "          metrics=['mae'])\n",
        "history = model.fit_generator(\n",
        "      train_generator,\n",
        "      steps_per_epoch= NUM_TRAIN //batch_size,\n",
        "      epochs=epochs,\n",
        "      validation_data=validation_generator,\n",
        "      validation_steps= NUM_TEST //batch_size,\n",
        "      verbose=1,\n",
        "      use_multiprocessing=True,\n",
        "      workers=4)"
      ],
      "metadata": {
        "id": "N6qUmmF856ZE",
        "outputId": "31ec827a-7f43-4362-ac12-f3aa8b5256fc",
        "colab": {
          "base_uri": "https://localhost:8080/"
        }
      },
      "execution_count": 18,
      "outputs": [
        {
          "output_type": "stream",
          "name": "stderr",
          "text": [
            "<ipython-input-18-f59104fd3985>:4: UserWarning: `Model.fit_generator` is deprecated and will be removed in a future version. Please use `Model.fit`, which supports generators.\n",
            "  history = model.fit_generator(\n"
          ]
        },
        {
          "output_type": "stream",
          "name": "stdout",
          "text": [
            "Epoch 1/250\n",
            "178/178 [==============================] - 842s 4s/step - loss: 0.4772 - mae: 0.4902 - val_loss: 6.2239 - val_mae: 1.7939\n",
            "Epoch 2/250\n",
            "178/178 [==============================] - 18s 99ms/step - loss: 0.4369 - mae: 0.4768 - val_loss: 5.5564 - val_mae: 1.7413\n",
            "Epoch 3/250\n",
            "178/178 [==============================] - 18s 99ms/step - loss: 0.4266 - mae: 0.4695 - val_loss: 6.7477 - val_mae: 1.8932\n",
            "Epoch 4/250\n",
            "178/178 [==============================] - 18s 99ms/step - loss: 0.4905 - mae: 0.4867 - val_loss: 5.6785 - val_mae: 1.7944\n",
            "Epoch 5/250\n",
            "178/178 [==============================] - 18s 98ms/step - loss: 0.4981 - mae: 0.5080 - val_loss: 6.0849 - val_mae: 1.8280\n",
            "Epoch 6/250\n",
            "178/178 [==============================] - 18s 99ms/step - loss: 0.4889 - mae: 0.4786 - val_loss: 5.5314 - val_mae: 1.7569\n",
            "Epoch 7/250\n",
            "178/178 [==============================] - 18s 99ms/step - loss: 0.4508 - mae: 0.4860 - val_loss: 5.7082 - val_mae: 1.7700\n",
            "Epoch 8/250\n",
            "178/178 [==============================] - 18s 99ms/step - loss: 0.5723 - mae: 0.4912 - val_loss: 6.1101 - val_mae: 1.8288\n",
            "Epoch 9/250\n",
            "178/178 [==============================] - 18s 99ms/step - loss: 0.4065 - mae: 0.4549 - val_loss: 5.6003 - val_mae: 1.7527\n",
            "Epoch 10/250\n",
            "178/178 [==============================] - 18s 99ms/step - loss: 0.3858 - mae: 0.4557 - val_loss: 6.2335 - val_mae: 1.8471\n",
            "Epoch 11/250\n",
            "178/178 [==============================] - 18s 99ms/step - loss: 0.3986 - mae: 0.4576 - val_loss: 5.9020 - val_mae: 1.7837\n",
            "Epoch 12/250\n",
            "178/178 [==============================] - 18s 99ms/step - loss: 0.4769 - mae: 0.4520 - val_loss: 5.4787 - val_mae: 1.7481\n",
            "Epoch 13/250\n",
            "178/178 [==============================] - 18s 100ms/step - loss: 0.3885 - mae: 0.4493 - val_loss: 5.9418 - val_mae: 1.8047\n",
            "Epoch 14/250\n",
            "178/178 [==============================] - 18s 99ms/step - loss: 0.4302 - mae: 0.4436 - val_loss: 5.4268 - val_mae: 1.7302\n",
            "Epoch 15/250\n",
            "178/178 [==============================] - 18s 99ms/step - loss: 0.4947 - mae: 0.4590 - val_loss: 5.2112 - val_mae: 1.6937\n",
            "Epoch 16/250\n",
            "178/178 [==============================] - 18s 99ms/step - loss: 0.4839 - mae: 0.4738 - val_loss: 5.2870 - val_mae: 1.7148\n",
            "Epoch 17/250\n",
            "178/178 [==============================] - 18s 99ms/step - loss: 0.5177 - mae: 0.4914 - val_loss: 4.9162 - val_mae: 1.6713\n",
            "Epoch 18/250\n",
            "178/178 [==============================] - 18s 99ms/step - loss: 0.5255 - mae: 0.5009 - val_loss: 6.0343 - val_mae: 1.8077\n",
            "Epoch 19/250\n",
            "178/178 [==============================] - 18s 99ms/step - loss: 0.4933 - mae: 0.4845 - val_loss: 5.4351 - val_mae: 1.7238\n",
            "Epoch 20/250\n",
            "178/178 [==============================] - 18s 99ms/step - loss: 0.4278 - mae: 0.4679 - val_loss: 5.3859 - val_mae: 1.7148\n",
            "Epoch 21/250\n",
            "178/178 [==============================] - 18s 99ms/step - loss: 0.4011 - mae: 0.4581 - val_loss: 5.0944 - val_mae: 1.6829\n",
            "Epoch 22/250\n",
            "178/178 [==============================] - 18s 100ms/step - loss: 0.4581 - mae: 0.4589 - val_loss: 5.1022 - val_mae: 1.6646\n",
            "Epoch 23/250\n",
            "178/178 [==============================] - 18s 99ms/step - loss: 0.4060 - mae: 0.4553 - val_loss: 5.3182 - val_mae: 1.7089\n",
            "Epoch 24/250\n",
            "178/178 [==============================] - 18s 98ms/step - loss: 0.3892 - mae: 0.4539 - val_loss: 5.0320 - val_mae: 1.6601\n",
            "Epoch 25/250\n",
            "178/178 [==============================] - 18s 99ms/step - loss: 0.4031 - mae: 0.4597 - val_loss: 5.4626 - val_mae: 1.7338\n",
            "Epoch 26/250\n",
            "178/178 [==============================] - 18s 100ms/step - loss: 0.6311 - mae: 0.4838 - val_loss: 5.5392 - val_mae: 1.7318\n",
            "Epoch 27/250\n",
            "178/178 [==============================] - 18s 99ms/step - loss: 0.4382 - mae: 0.4759 - val_loss: 5.2817 - val_mae: 1.6885\n",
            "Epoch 28/250\n",
            "178/178 [==============================] - 18s 99ms/step - loss: 0.4970 - mae: 0.4793 - val_loss: 5.4054 - val_mae: 1.7045\n",
            "Epoch 29/250\n",
            "178/178 [==============================] - 18s 99ms/step - loss: 0.3901 - mae: 0.4537 - val_loss: 5.4535 - val_mae: 1.7385\n",
            "Epoch 30/250\n",
            "178/178 [==============================] - 18s 99ms/step - loss: 0.4315 - mae: 0.4698 - val_loss: 5.3052 - val_mae: 1.6969\n",
            "Epoch 31/250\n",
            "178/178 [==============================] - 18s 98ms/step - loss: 0.4949 - mae: 0.4636 - val_loss: 5.0467 - val_mae: 1.6531\n",
            "Epoch 32/250\n",
            "178/178 [==============================] - 18s 99ms/step - loss: 0.4065 - mae: 0.4597 - val_loss: 4.9497 - val_mae: 1.6467\n",
            "Epoch 33/250\n",
            "178/178 [==============================] - 18s 99ms/step - loss: 0.4862 - mae: 0.4495 - val_loss: 4.9536 - val_mae: 1.6476\n",
            "Epoch 34/250\n",
            "178/178 [==============================] - 18s 99ms/step - loss: 0.3775 - mae: 0.4387 - val_loss: 4.5760 - val_mae: 1.6034\n",
            "Epoch 35/250\n",
            "178/178 [==============================] - 18s 99ms/step - loss: 0.4199 - mae: 0.4553 - val_loss: 5.4583 - val_mae: 1.6941\n",
            "Epoch 36/250\n",
            "178/178 [==============================] - 18s 99ms/step - loss: 0.4429 - mae: 0.4359 - val_loss: 4.8522 - val_mae: 1.6348\n",
            "Epoch 37/250\n",
            "178/178 [==============================] - 18s 99ms/step - loss: 0.4015 - mae: 0.4369 - val_loss: 5.0449 - val_mae: 1.6678\n",
            "Epoch 38/250\n",
            "178/178 [==============================] - 18s 100ms/step - loss: 0.4419 - mae: 0.4480 - val_loss: 5.1959 - val_mae: 1.6861\n",
            "Epoch 39/250\n",
            "178/178 [==============================] - 18s 101ms/step - loss: 0.3567 - mae: 0.4280 - val_loss: 6.4455 - val_mae: 1.8572\n",
            "Epoch 40/250\n",
            "178/178 [==============================] - 18s 101ms/step - loss: 0.3504 - mae: 0.4311 - val_loss: 6.3325 - val_mae: 1.8362\n",
            "Epoch 41/250\n",
            "178/178 [==============================] - 19s 102ms/step - loss: 0.3710 - mae: 0.4257 - val_loss: 5.2046 - val_mae: 1.6849\n",
            "Epoch 42/250\n",
            "178/178 [==============================] - 19s 104ms/step - loss: 0.3484 - mae: 0.4273 - val_loss: 4.7430 - val_mae: 1.6397\n",
            "Epoch 43/250\n",
            "178/178 [==============================] - 18s 99ms/step - loss: 0.3890 - mae: 0.4324 - val_loss: 4.3330 - val_mae: 1.5782\n",
            "Epoch 44/250\n",
            "178/178 [==============================] - 18s 99ms/step - loss: 0.6411 - mae: 0.5242 - val_loss: 5.5532 - val_mae: 1.7414\n",
            "Epoch 45/250\n",
            "178/178 [==============================] - 18s 99ms/step - loss: 0.7557 - mae: 0.4881 - val_loss: 8.7901 - val_mae: 1.9682\n",
            "Epoch 46/250\n",
            "178/178 [==============================] - 18s 98ms/step - loss: 0.7737 - mae: 0.5348 - val_loss: 16.3474 - val_mae: 2.3974\n",
            "Epoch 47/250\n",
            "178/178 [==============================] - 18s 98ms/step - loss: 0.4279 - mae: 0.4788 - val_loss: 20.6879 - val_mae: 2.6235\n",
            "Epoch 48/250\n",
            "178/178 [==============================] - 18s 100ms/step - loss: 0.4906 - mae: 0.4843 - val_loss: 17.6829 - val_mae: 2.4395\n",
            "Epoch 49/250\n",
            "178/178 [==============================] - 18s 99ms/step - loss: 0.3645 - mae: 0.4480 - val_loss: 9.3152 - val_mae: 1.9419\n",
            "Epoch 50/250\n",
            "178/178 [==============================] - 18s 99ms/step - loss: 0.3949 - mae: 0.4523 - val_loss: 10.0711 - val_mae: 1.9904\n",
            "Epoch 51/250\n",
            "178/178 [==============================] - 18s 99ms/step - loss: 0.3758 - mae: 0.4422 - val_loss: 9.8871 - val_mae: 1.9929\n",
            "Epoch 52/250\n",
            "178/178 [==============================] - 18s 99ms/step - loss: 0.3699 - mae: 0.4364 - val_loss: 10.3540 - val_mae: 2.0060\n",
            "Epoch 53/250\n",
            "178/178 [==============================] - 18s 100ms/step - loss: 0.3601 - mae: 0.4375 - val_loss: 9.1473 - val_mae: 1.9514\n",
            "Epoch 54/250\n",
            "178/178 [==============================] - 18s 99ms/step - loss: 0.3416 - mae: 0.4279 - val_loss: 10.0865 - val_mae: 1.9914\n",
            "Epoch 55/250\n",
            "178/178 [==============================] - 18s 99ms/step - loss: 0.3440 - mae: 0.4228 - val_loss: 10.0844 - val_mae: 1.9934\n",
            "Epoch 56/250\n",
            "178/178 [==============================] - 18s 100ms/step - loss: 0.3591 - mae: 0.4217 - val_loss: 9.9943 - val_mae: 1.9923\n",
            "Epoch 57/250\n",
            "178/178 [==============================] - 18s 99ms/step - loss: 0.3293 - mae: 0.4149 - val_loss: 9.8489 - val_mae: 1.9997\n",
            "Epoch 58/250\n",
            "178/178 [==============================] - 18s 99ms/step - loss: 0.3162 - mae: 0.4111 - val_loss: 13.5696 - val_mae: 2.2087\n",
            "Epoch 59/250\n",
            "178/178 [==============================] - 18s 100ms/step - loss: 0.3266 - mae: 0.4094 - val_loss: 9.6933 - val_mae: 1.9898\n",
            "Epoch 60/250\n",
            "178/178 [==============================] - 18s 99ms/step - loss: 0.4647 - mae: 0.4453 - val_loss: 18.6162 - val_mae: 2.4881\n",
            "Epoch 61/250\n",
            "178/178 [==============================] - 18s 99ms/step - loss: 0.5881 - mae: 0.4569 - val_loss: 8.0894 - val_mae: 1.8352\n",
            "Epoch 62/250\n",
            "178/178 [==============================] - 18s 99ms/step - loss: 0.4839 - mae: 0.4713 - val_loss: 17.0170 - val_mae: 2.3706\n",
            "Epoch 63/250\n",
            "178/178 [==============================] - 18s 100ms/step - loss: 0.4092 - mae: 0.4500 - val_loss: 4.7779 - val_mae: 1.6272\n",
            "Epoch 64/250\n",
            "178/178 [==============================] - 18s 100ms/step - loss: 0.5036 - mae: 0.4845 - val_loss: 6.3942 - val_mae: 1.8389\n",
            "Epoch 65/250\n",
            "178/178 [==============================] - 18s 99ms/step - loss: 0.4373 - mae: 0.4455 - val_loss: 5.9091 - val_mae: 1.8213\n",
            "Epoch 66/250\n",
            "178/178 [==============================] - 18s 99ms/step - loss: 0.4215 - mae: 0.4423 - val_loss: 4.9647 - val_mae: 1.6869\n",
            "Epoch 67/250\n",
            "178/178 [==============================] - 18s 99ms/step - loss: 0.5895 - mae: 0.4595 - val_loss: 5.3068 - val_mae: 1.7593\n",
            "Epoch 68/250\n",
            "178/178 [==============================] - 18s 100ms/step - loss: 0.3963 - mae: 0.4449 - val_loss: 5.1244 - val_mae: 1.7191\n",
            "Epoch 69/250\n",
            "178/178 [==============================] - 18s 99ms/step - loss: 0.4260 - mae: 0.4485 - val_loss: 4.9749 - val_mae: 1.6693\n",
            "Epoch 70/250\n",
            "178/178 [==============================] - 18s 99ms/step - loss: 0.4076 - mae: 0.4235 - val_loss: 5.7952 - val_mae: 1.8185\n",
            "Epoch 71/250\n",
            "178/178 [==============================] - 18s 99ms/step - loss: 0.3490 - mae: 0.4168 - val_loss: 5.4246 - val_mae: 1.7555\n",
            "Epoch 72/250\n",
            "178/178 [==============================] - 18s 99ms/step - loss: 0.4687 - mae: 0.4626 - val_loss: 6.9229 - val_mae: 1.9135\n",
            "Epoch 73/250\n",
            "178/178 [==============================] - 18s 100ms/step - loss: 0.5654 - mae: 0.4817 - val_loss: 6.6164 - val_mae: 1.8904\n",
            "Epoch 74/250\n",
            "178/178 [==============================] - 18s 100ms/step - loss: 0.5383 - mae: 0.4738 - val_loss: 6.2027 - val_mae: 1.7861\n",
            "Epoch 75/250\n",
            "178/178 [==============================] - 18s 99ms/step - loss: 0.6454 - mae: 0.4968 - val_loss: 6.5336 - val_mae: 1.8422\n",
            "Epoch 76/250\n",
            "178/178 [==============================] - 18s 99ms/step - loss: 0.6725 - mae: 0.4928 - val_loss: 6.2699 - val_mae: 1.8354\n",
            "Epoch 77/250\n",
            "178/178 [==============================] - 18s 100ms/step - loss: 0.5343 - mae: 0.4605 - val_loss: 5.5912 - val_mae: 1.7550\n",
            "Epoch 78/250\n",
            "178/178 [==============================] - 13s 72ms/step - loss: 0.5005 - mae: 0.4588 - val_loss: 5.5617 - val_mae: 1.7500\n",
            "Epoch 79/250\n",
            "178/178 [==============================] - 18s 100ms/step - loss: 0.5508 - mae: 0.4558 - val_loss: 5.2203 - val_mae: 1.6919\n",
            "Epoch 80/250\n",
            "178/178 [==============================] - 18s 99ms/step - loss: 0.4848 - mae: 0.4523 - val_loss: 9.9048 - val_mae: 2.1491\n",
            "Epoch 81/250\n",
            "178/178 [==============================] - 18s 99ms/step - loss: 0.4021 - mae: 0.4245 - val_loss: 11.3339 - val_mae: 2.1685\n",
            "Epoch 82/250\n",
            "178/178 [==============================] - 18s 99ms/step - loss: 0.4363 - mae: 0.4350 - val_loss: 8.5958 - val_mae: 1.9758\n",
            "Epoch 83/250\n",
            "178/178 [==============================] - 18s 99ms/step - loss: 0.3878 - mae: 0.4122 - val_loss: 9.1336 - val_mae: 1.9593\n",
            "Epoch 84/250\n",
            "178/178 [==============================] - 18s 99ms/step - loss: 0.3410 - mae: 0.4133 - val_loss: 12.2293 - val_mae: 2.1778\n",
            "Epoch 85/250\n",
            "178/178 [==============================] - 18s 100ms/step - loss: 0.3635 - mae: 0.4273 - val_loss: 9.6822 - val_mae: 2.1178\n",
            "Epoch 86/250\n",
            "178/178 [==============================] - 18s 99ms/step - loss: 0.3665 - mae: 0.4287 - val_loss: 10.8772 - val_mae: 2.1255\n",
            "Epoch 87/250\n",
            "178/178 [==============================] - 18s 100ms/step - loss: 0.3703 - mae: 0.4321 - val_loss: 18.2467 - val_mae: 2.5706\n",
            "Epoch 88/250\n",
            "178/178 [==============================] - 18s 100ms/step - loss: 0.3607 - mae: 0.4248 - val_loss: 7.2575 - val_mae: 1.8455\n",
            "Epoch 89/250\n",
            "178/178 [==============================] - 18s 99ms/step - loss: 0.3718 - mae: 0.4279 - val_loss: 12.5748 - val_mae: 2.1707\n",
            "Epoch 90/250\n",
            "178/178 [==============================] - 18s 99ms/step - loss: 0.3718 - mae: 0.4190 - val_loss: 24.2654 - val_mae: 2.8515\n",
            "Epoch 91/250\n",
            "178/178 [==============================] - 18s 99ms/step - loss: 0.3434 - mae: 0.4152 - val_loss: 20.5882 - val_mae: 2.6446\n",
            "Epoch 92/250\n",
            "178/178 [==============================] - 18s 99ms/step - loss: 0.3278 - mae: 0.4121 - val_loss: 10.5840 - val_mae: 2.0287\n",
            "Epoch 93/250\n",
            "178/178 [==============================] - 18s 99ms/step - loss: 0.3829 - mae: 0.4199 - val_loss: 11.3562 - val_mae: 2.0828\n",
            "Epoch 94/250\n",
            "178/178 [==============================] - 18s 99ms/step - loss: 0.3306 - mae: 0.4063 - val_loss: 13.7942 - val_mae: 2.2160\n",
            "Epoch 95/250\n",
            "178/178 [==============================] - 18s 99ms/step - loss: 0.3230 - mae: 0.4040 - val_loss: 15.2913 - val_mae: 2.2714\n",
            "Epoch 96/250\n",
            "178/178 [==============================] - 18s 98ms/step - loss: 0.3839 - mae: 0.4170 - val_loss: 21.0761 - val_mae: 2.6580\n",
            "Epoch 97/250\n",
            "178/178 [==============================] - 18s 100ms/step - loss: 0.3213 - mae: 0.3985 - val_loss: 20.2628 - val_mae: 2.6035\n",
            "Epoch 98/250\n",
            "178/178 [==============================] - 18s 100ms/step - loss: 0.2949 - mae: 0.3915 - val_loss: 24.6534 - val_mae: 2.9480\n",
            "Epoch 99/250\n",
            "178/178 [==============================] - 18s 100ms/step - loss: 0.4005 - mae: 0.4316 - val_loss: 20.9918 - val_mae: 2.7487\n",
            "Epoch 100/250\n",
            "178/178 [==============================] - 18s 100ms/step - loss: 0.4050 - mae: 0.4197 - val_loss: 20.4224 - val_mae: 2.6238\n",
            "Epoch 101/250\n",
            "178/178 [==============================] - 18s 100ms/step - loss: 0.3066 - mae: 0.3988 - val_loss: 24.4458 - val_mae: 2.9202\n",
            "Epoch 102/250\n",
            "178/178 [==============================] - 18s 99ms/step - loss: 0.3651 - mae: 0.4257 - val_loss: 26.0627 - val_mae: 3.0687\n",
            "Epoch 103/250\n",
            "178/178 [==============================] - 18s 100ms/step - loss: 0.3452 - mae: 0.4187 - val_loss: 10.1387 - val_mae: 2.0775\n",
            "Epoch 104/250\n",
            "178/178 [==============================] - 18s 100ms/step - loss: 0.3323 - mae: 0.4097 - val_loss: 6.8287 - val_mae: 1.8147\n",
            "Epoch 105/250\n",
            "178/178 [==============================] - 13s 72ms/step - loss: 0.3263 - mae: 0.4056 - val_loss: 8.2615 - val_mae: 1.9198\n",
            "Epoch 106/250\n",
            "178/178 [==============================] - 18s 99ms/step - loss: 0.3540 - mae: 0.4159 - val_loss: 10.0965 - val_mae: 2.1263\n",
            "Epoch 107/250\n",
            "178/178 [==============================] - 18s 100ms/step - loss: 0.3492 - mae: 0.3983 - val_loss: 14.8050 - val_mae: 2.2910\n",
            "Epoch 108/250\n",
            "178/178 [==============================] - 18s 99ms/step - loss: 0.3989 - mae: 0.4285 - val_loss: 4.6027 - val_mae: 1.5567\n",
            "Epoch 109/250\n",
            "178/178 [==============================] - 18s 99ms/step - loss: 0.4872 - mae: 0.4641 - val_loss: 6.8666 - val_mae: 1.8743\n",
            "Epoch 110/250\n",
            "178/178 [==============================] - 18s 100ms/step - loss: 0.5114 - mae: 0.4757 - val_loss: 11.1479 - val_mae: 2.1155\n",
            "Epoch 111/250\n",
            "178/178 [==============================] - 18s 100ms/step - loss: 0.4163 - mae: 0.4346 - val_loss: 17.8399 - val_mae: 2.5096\n",
            "Epoch 112/250\n",
            "178/178 [==============================] - 18s 100ms/step - loss: 0.3935 - mae: 0.4446 - val_loss: 10.0426 - val_mae: 1.9436\n",
            "Epoch 113/250\n",
            "178/178 [==============================] - 18s 100ms/step - loss: 0.3767 - mae: 0.4260 - val_loss: 9.6477 - val_mae: 2.0953\n",
            "Epoch 114/250\n",
            "178/178 [==============================] - 18s 99ms/step - loss: 0.4330 - mae: 0.4536 - val_loss: 6.8875 - val_mae: 1.9051\n",
            "Epoch 115/250\n",
            "178/178 [==============================] - 18s 100ms/step - loss: 0.4268 - mae: 0.4398 - val_loss: 6.1538 - val_mae: 1.8176\n",
            "Epoch 116/250\n",
            "178/178 [==============================] - 18s 100ms/step - loss: 0.4248 - mae: 0.4378 - val_loss: 14.5153 - val_mae: 2.2723\n",
            "Epoch 117/250\n",
            "178/178 [==============================] - 18s 100ms/step - loss: 0.3042 - mae: 0.4036 - val_loss: 17.8976 - val_mae: 2.4549\n",
            "Epoch 118/250\n",
            "178/178 [==============================] - 18s 100ms/step - loss: 0.3184 - mae: 0.4010 - val_loss: 16.6035 - val_mae: 2.4032\n",
            "Epoch 119/250\n",
            "178/178 [==============================] - 18s 100ms/step - loss: 0.3520 - mae: 0.4182 - val_loss: 10.2460 - val_mae: 1.9497\n",
            "Epoch 120/250\n",
            "178/178 [==============================] - 18s 99ms/step - loss: 0.3079 - mae: 0.3943 - val_loss: 9.5292 - val_mae: 1.9404\n",
            "Epoch 121/250\n",
            "178/178 [==============================] - 13s 72ms/step - loss: 0.3498 - mae: 0.4143 - val_loss: 12.6851 - val_mae: 2.1608\n",
            "Epoch 122/250\n",
            "178/178 [==============================] - 18s 99ms/step - loss: 0.2987 - mae: 0.3966 - val_loss: 6.5085 - val_mae: 1.7992\n",
            "Epoch 123/250\n",
            "178/178 [==============================] - 18s 100ms/step - loss: 0.3230 - mae: 0.4022 - val_loss: 6.4088 - val_mae: 1.8573\n",
            "Epoch 124/250\n",
            "178/178 [==============================] - 13s 72ms/step - loss: 0.3467 - mae: 0.4112 - val_loss: 5.3118 - val_mae: 1.7022\n",
            "Epoch 125/250\n",
            "178/178 [==============================] - 18s 100ms/step - loss: 0.3286 - mae: 0.4030 - val_loss: 5.6331 - val_mae: 1.7411\n",
            "Epoch 126/250\n",
            "178/178 [==============================] - 18s 99ms/step - loss: 0.3270 - mae: 0.4047 - val_loss: 4.8577 - val_mae: 1.6727\n",
            "Epoch 127/250\n",
            "178/178 [==============================] - 18s 100ms/step - loss: 0.3500 - mae: 0.4065 - val_loss: 5.3836 - val_mae: 1.6712\n",
            "Epoch 128/250\n",
            "178/178 [==============================] - 18s 99ms/step - loss: 0.2923 - mae: 0.3953 - val_loss: 11.0621 - val_mae: 1.9800\n",
            "Epoch 129/250\n",
            "178/178 [==============================] - 18s 100ms/step - loss: 0.3382 - mae: 0.4175 - val_loss: 8.5729 - val_mae: 1.8781\n",
            "Epoch 130/250\n",
            "178/178 [==============================] - 18s 100ms/step - loss: 0.3035 - mae: 0.3890 - val_loss: 9.7120 - val_mae: 2.0221\n",
            "Epoch 131/250\n",
            "178/178 [==============================] - 18s 100ms/step - loss: 0.2757 - mae: 0.3835 - val_loss: 9.6067 - val_mae: 1.9822\n",
            "Epoch 132/250\n",
            "178/178 [==============================] - 18s 99ms/step - loss: 0.3128 - mae: 0.3967 - val_loss: 6.3432 - val_mae: 1.7655\n",
            "Epoch 133/250\n",
            "178/178 [==============================] - 18s 100ms/step - loss: 0.3562 - mae: 0.3977 - val_loss: 5.3358 - val_mae: 1.6864\n",
            "Epoch 134/250\n",
            "178/178 [==============================] - 18s 99ms/step - loss: 0.2897 - mae: 0.3899 - val_loss: 5.0945 - val_mae: 1.6536\n",
            "Epoch 135/250\n",
            "178/178 [==============================] - 18s 99ms/step - loss: 0.2720 - mae: 0.3799 - val_loss: 11.7200 - val_mae: 2.0753\n",
            "Epoch 136/250\n",
            "178/178 [==============================] - 18s 100ms/step - loss: 0.2914 - mae: 0.3879 - val_loss: 5.4884 - val_mae: 1.7358\n",
            "Epoch 137/250\n",
            "178/178 [==============================] - 18s 100ms/step - loss: 0.3551 - mae: 0.4169 - val_loss: 8.5108 - val_mae: 1.8877\n",
            "Epoch 138/250\n",
            "178/178 [==============================] - 18s 100ms/step - loss: 0.4323 - mae: 0.4224 - val_loss: 5.2455 - val_mae: 1.6805\n",
            "Epoch 139/250\n",
            "178/178 [==============================] - 18s 100ms/step - loss: 0.4140 - mae: 0.4312 - val_loss: 7.6016 - val_mae: 1.8617\n",
            "Epoch 140/250\n",
            "178/178 [==============================] - 18s 100ms/step - loss: 0.3300 - mae: 0.4027 - val_loss: 8.4944 - val_mae: 1.8426\n",
            "Epoch 141/250\n",
            "178/178 [==============================] - 18s 101ms/step - loss: 1.1633 - mae: 0.4754 - val_loss: 5.9010 - val_mae: 1.7838\n",
            "Epoch 142/250\n",
            "178/178 [==============================] - 18s 100ms/step - loss: 0.4417 - mae: 0.4618 - val_loss: 10.8023 - val_mae: 2.1006\n",
            "Epoch 143/250\n",
            "178/178 [==============================] - 18s 100ms/step - loss: 0.4847 - mae: 0.4480 - val_loss: 5.8568 - val_mae: 1.7883\n",
            "Epoch 144/250\n",
            "178/178 [==============================] - 18s 99ms/step - loss: 0.4078 - mae: 0.4282 - val_loss: 6.4268 - val_mae: 1.8518\n",
            "Epoch 145/250\n",
            "178/178 [==============================] - 18s 99ms/step - loss: 0.3472 - mae: 0.4140 - val_loss: 12.4399 - val_mae: 2.1254\n",
            "Epoch 146/250\n",
            "178/178 [==============================] - 18s 100ms/step - loss: 0.3387 - mae: 0.4106 - val_loss: 11.2128 - val_mae: 2.0340\n",
            "Epoch 147/250\n",
            "178/178 [==============================] - 18s 100ms/step - loss: 0.3329 - mae: 0.3985 - val_loss: 29.2643 - val_mae: 3.1507\n",
            "Epoch 148/250\n",
            "178/178 [==============================] - 18s 101ms/step - loss: 0.3506 - mae: 0.4186 - val_loss: 21.6789 - val_mae: 2.7520\n",
            "Epoch 149/250\n",
            "178/178 [==============================] - 18s 101ms/step - loss: 0.3407 - mae: 0.4113 - val_loss: 14.8036 - val_mae: 2.3022\n",
            "Epoch 150/250\n",
            "178/178 [==============================] - 18s 101ms/step - loss: 0.3222 - mae: 0.4029 - val_loss: 12.2051 - val_mae: 2.1873\n",
            "Epoch 151/250\n",
            "178/178 [==============================] - 18s 101ms/step - loss: 0.4283 - mae: 0.4171 - val_loss: 5.0335 - val_mae: 1.6744\n",
            "Epoch 152/250\n",
            "178/178 [==============================] - 18s 100ms/step - loss: 0.7501 - mae: 0.4749 - val_loss: 5.6155 - val_mae: 1.7647\n",
            "Epoch 153/250\n",
            "178/178 [==============================] - 18s 100ms/step - loss: 0.4849 - mae: 0.4716 - val_loss: 5.6047 - val_mae: 1.7562\n",
            "Epoch 154/250\n",
            "178/178 [==============================] - 18s 101ms/step - loss: 0.5224 - mae: 0.4458 - val_loss: 6.2211 - val_mae: 1.8301\n",
            "Epoch 155/250\n",
            "178/178 [==============================] - 18s 100ms/step - loss: 0.4129 - mae: 0.4316 - val_loss: 6.3868 - val_mae: 1.8546\n",
            "Epoch 156/250\n",
            "178/178 [==============================] - 18s 100ms/step - loss: 0.6674 - mae: 0.4814 - val_loss: 6.9866 - val_mae: 1.9110\n",
            "Epoch 157/250\n",
            "178/178 [==============================] - 18s 100ms/step - loss: 0.4268 - mae: 0.4396 - val_loss: 5.7543 - val_mae: 1.7893\n",
            "Epoch 158/250\n",
            "178/178 [==============================] - 18s 100ms/step - loss: 0.3932 - mae: 0.4446 - val_loss: 5.9026 - val_mae: 1.8223\n",
            "Epoch 159/250\n",
            "178/178 [==============================] - 18s 101ms/step - loss: 0.3803 - mae: 0.4338 - val_loss: 6.1314 - val_mae: 1.8379\n",
            "Epoch 160/250\n",
            "178/178 [==============================] - 18s 100ms/step - loss: 0.3639 - mae: 0.4265 - val_loss: 6.1366 - val_mae: 1.8361\n",
            "Epoch 161/250\n",
            "178/178 [==============================] - 18s 100ms/step - loss: 0.3742 - mae: 0.4367 - val_loss: 6.6781 - val_mae: 1.9053\n",
            "Epoch 162/250\n",
            "178/178 [==============================] - 18s 99ms/step - loss: 0.3419 - mae: 0.4199 - val_loss: 5.6804 - val_mae: 1.7829\n",
            "Epoch 163/250\n",
            "178/178 [==============================] - 18s 100ms/step - loss: 0.3430 - mae: 0.4126 - val_loss: 5.8757 - val_mae: 1.8071\n",
            "Epoch 164/250\n",
            "178/178 [==============================] - 18s 101ms/step - loss: 0.3379 - mae: 0.4220 - val_loss: 5.6698 - val_mae: 1.7784\n",
            "Epoch 165/250\n",
            "178/178 [==============================] - 18s 99ms/step - loss: 0.3642 - mae: 0.4282 - val_loss: 5.2895 - val_mae: 1.7250\n",
            "Epoch 166/250\n",
            "178/178 [==============================] - 18s 100ms/step - loss: 0.3633 - mae: 0.4186 - val_loss: 5.7186 - val_mae: 1.7957\n",
            "Epoch 167/250\n",
            "178/178 [==============================] - 18s 100ms/step - loss: 0.3640 - mae: 0.4248 - val_loss: 8.6162 - val_mae: 2.1364\n",
            "Epoch 168/250\n",
            "178/178 [==============================] - 18s 100ms/step - loss: 0.3797 - mae: 0.4260 - val_loss: 6.4527 - val_mae: 1.8707\n",
            "Epoch 169/250\n",
            "178/178 [==============================] - 18s 100ms/step - loss: 0.3285 - mae: 0.4110 - val_loss: 5.6560 - val_mae: 1.7599\n",
            "Epoch 170/250\n",
            "178/178 [==============================] - 18s 100ms/step - loss: 0.3200 - mae: 0.4094 - val_loss: 8.3846 - val_mae: 2.0021\n",
            "Epoch 171/250\n",
            "178/178 [==============================] - 18s 100ms/step - loss: 0.3610 - mae: 0.4109 - val_loss: 5.5048 - val_mae: 1.7487\n",
            "Epoch 172/250\n",
            "178/178 [==============================] - 18s 100ms/step - loss: 0.3401 - mae: 0.4087 - val_loss: 6.2926 - val_mae: 1.8260\n",
            "Epoch 173/250\n",
            "178/178 [==============================] - 18s 100ms/step - loss: 0.3322 - mae: 0.4071 - val_loss: 5.7186 - val_mae: 1.7541\n",
            "Epoch 174/250\n",
            "178/178 [==============================] - 18s 100ms/step - loss: 0.3188 - mae: 0.3990 - val_loss: 5.1468 - val_mae: 1.6672\n",
            "Epoch 175/250\n",
            "178/178 [==============================] - 18s 100ms/step - loss: 0.3753 - mae: 0.4273 - val_loss: 5.5059 - val_mae: 1.7457\n",
            "Epoch 176/250\n",
            "178/178 [==============================] - 18s 100ms/step - loss: 0.3317 - mae: 0.4137 - val_loss: 4.7683 - val_mae: 1.6488\n",
            "Epoch 177/250\n",
            "178/178 [==============================] - 18s 100ms/step - loss: 0.3466 - mae: 0.4065 - val_loss: 5.2846 - val_mae: 1.7240\n",
            "Epoch 178/250\n",
            "178/178 [==============================] - 18s 100ms/step - loss: 0.3098 - mae: 0.3958 - val_loss: 5.5097 - val_mae: 1.7585\n",
            "Epoch 179/250\n",
            "178/178 [==============================] - 18s 100ms/step - loss: 0.3547 - mae: 0.4051 - val_loss: 6.3770 - val_mae: 1.8169\n",
            "Epoch 180/250\n",
            "178/178 [==============================] - 18s 100ms/step - loss: 0.3432 - mae: 0.3954 - val_loss: 5.5235 - val_mae: 1.7557\n",
            "Epoch 181/250\n",
            "178/178 [==============================] - 18s 100ms/step - loss: 0.3750 - mae: 0.3966 - val_loss: 6.2335 - val_mae: 1.8420\n",
            "Epoch 182/250\n",
            "178/178 [==============================] - 18s 100ms/step - loss: 0.3255 - mae: 0.4069 - val_loss: 5.3665 - val_mae: 1.7352\n",
            "Epoch 183/250\n",
            "178/178 [==============================] - 18s 100ms/step - loss: 0.3250 - mae: 0.4068 - val_loss: 5.7018 - val_mae: 1.7704\n",
            "Epoch 184/250\n",
            "178/178 [==============================] - 18s 100ms/step - loss: 0.3026 - mae: 0.3894 - val_loss: 4.8703 - val_mae: 1.6565\n",
            "Epoch 185/250\n",
            "178/178 [==============================] - 18s 99ms/step - loss: 0.3326 - mae: 0.4002 - val_loss: 5.3369 - val_mae: 1.7222\n",
            "Epoch 186/250\n",
            "178/178 [==============================] - 18s 100ms/step - loss: 0.2983 - mae: 0.3954 - val_loss: 4.7132 - val_mae: 1.6337\n",
            "Epoch 187/250\n",
            "178/178 [==============================] - 18s 100ms/step - loss: 0.3098 - mae: 0.3853 - val_loss: 4.8722 - val_mae: 1.6726\n",
            "Epoch 188/250\n",
            "178/178 [==============================] - 18s 100ms/step - loss: 0.3012 - mae: 0.3873 - val_loss: 5.3473 - val_mae: 1.7407\n",
            "Epoch 189/250\n",
            "178/178 [==============================] - 18s 100ms/step - loss: 0.3101 - mae: 0.3915 - val_loss: 5.5624 - val_mae: 1.7319\n",
            "Epoch 190/250\n",
            "178/178 [==============================] - 18s 100ms/step - loss: 0.3002 - mae: 0.3867 - val_loss: 5.3360 - val_mae: 1.7315\n",
            "Epoch 191/250\n",
            "178/178 [==============================] - 18s 100ms/step - loss: 0.2820 - mae: 0.3855 - val_loss: 5.4625 - val_mae: 1.7034\n",
            "Epoch 192/250\n",
            "178/178 [==============================] - 18s 99ms/step - loss: 0.3275 - mae: 0.3989 - val_loss: 5.2280 - val_mae: 1.7007\n",
            "Epoch 193/250\n",
            "178/178 [==============================] - 18s 100ms/step - loss: 0.4121 - mae: 0.4033 - val_loss: 7.1897 - val_mae: 1.9183\n",
            "Epoch 194/250\n",
            "178/178 [==============================] - 18s 100ms/step - loss: 0.4104 - mae: 0.4459 - val_loss: 5.7926 - val_mae: 1.7558\n",
            "Epoch 195/250\n",
            "178/178 [==============================] - 18s 101ms/step - loss: 0.3492 - mae: 0.4150 - val_loss: 6.2642 - val_mae: 1.8199\n",
            "Epoch 196/250\n",
            "178/178 [==============================] - 18s 99ms/step - loss: 0.3416 - mae: 0.4105 - val_loss: 5.6468 - val_mae: 1.7325\n",
            "Epoch 197/250\n",
            "178/178 [==============================] - 18s 99ms/step - loss: 0.2788 - mae: 0.3839 - val_loss: 6.4798 - val_mae: 1.8364\n",
            "Epoch 198/250\n",
            "178/178 [==============================] - 18s 100ms/step - loss: 0.2893 - mae: 0.3882 - val_loss: 5.5030 - val_mae: 1.7202\n",
            "Epoch 199/250\n",
            "178/178 [==============================] - 18s 100ms/step - loss: 0.2837 - mae: 0.3824 - val_loss: 5.4184 - val_mae: 1.7135\n",
            "Epoch 200/250\n",
            "178/178 [==============================] - 18s 101ms/step - loss: 0.2865 - mae: 0.3775 - val_loss: 5.6048 - val_mae: 1.7521\n",
            "Epoch 201/250\n",
            "178/178 [==============================] - 18s 101ms/step - loss: 0.3093 - mae: 0.3878 - val_loss: 6.2412 - val_mae: 1.8040\n",
            "Epoch 202/250\n",
            "178/178 [==============================] - 18s 100ms/step - loss: 0.9156 - mae: 0.4882 - val_loss: 7.2859 - val_mae: 2.0358\n",
            "Epoch 203/250\n",
            "178/178 [==============================] - 18s 100ms/step - loss: 0.4401 - mae: 0.4581 - val_loss: 6.6611 - val_mae: 1.9089\n",
            "Epoch 204/250\n",
            "178/178 [==============================] - 18s 100ms/step - loss: 0.4198 - mae: 0.4410 - val_loss: 5.2772 - val_mae: 1.7070\n",
            "Epoch 205/250\n",
            "178/178 [==============================] - 18s 100ms/step - loss: 0.4185 - mae: 0.4144 - val_loss: 5.0799 - val_mae: 1.6851\n",
            "Epoch 206/250\n",
            "178/178 [==============================] - 18s 100ms/step - loss: 0.3675 - mae: 0.4227 - val_loss: 6.0633 - val_mae: 1.8174\n",
            "Epoch 207/250\n",
            "178/178 [==============================] - 18s 101ms/step - loss: 0.3843 - mae: 0.4227 - val_loss: 6.3144 - val_mae: 1.8422\n",
            "Epoch 208/250\n",
            "178/178 [==============================] - 18s 100ms/step - loss: 0.4188 - mae: 0.4263 - val_loss: 6.9272 - val_mae: 1.9077\n",
            "Epoch 209/250\n",
            "178/178 [==============================] - 18s 100ms/step - loss: 0.3448 - mae: 0.4051 - val_loss: 5.5223 - val_mae: 1.7443\n",
            "Epoch 210/250\n",
            "178/178 [==============================] - 18s 99ms/step - loss: 0.3680 - mae: 0.4170 - val_loss: 5.2313 - val_mae: 1.7128\n",
            "Epoch 211/250\n",
            "178/178 [==============================] - 18s 100ms/step - loss: 0.3698 - mae: 0.4107 - val_loss: 5.8834 - val_mae: 1.7925\n",
            "Epoch 212/250\n",
            "178/178 [==============================] - 18s 100ms/step - loss: 0.3456 - mae: 0.4135 - val_loss: 6.8019 - val_mae: 1.8952\n",
            "Epoch 213/250\n",
            "178/178 [==============================] - 18s 99ms/step - loss: 0.3820 - mae: 0.4115 - val_loss: 5.6415 - val_mae: 1.7689\n",
            "Epoch 214/250\n",
            "178/178 [==============================] - 18s 100ms/step - loss: 0.3131 - mae: 0.3919 - val_loss: 5.4259 - val_mae: 1.7352\n",
            "Epoch 215/250\n",
            "178/178 [==============================] - 18s 99ms/step - loss: 0.2937 - mae: 0.3853 - val_loss: 5.3057 - val_mae: 1.7184\n",
            "Epoch 216/250\n",
            "178/178 [==============================] - 18s 100ms/step - loss: 0.3443 - mae: 0.4001 - val_loss: 5.4990 - val_mae: 1.7413\n",
            "Epoch 217/250\n",
            "178/178 [==============================] - 18s 100ms/step - loss: 0.3115 - mae: 0.3883 - val_loss: 5.1659 - val_mae: 1.7035\n",
            "Epoch 218/250\n",
            "178/178 [==============================] - 18s 100ms/step - loss: 0.3039 - mae: 0.3712 - val_loss: 5.5278 - val_mae: 1.7493\n",
            "Epoch 219/250\n",
            "178/178 [==============================] - 18s 100ms/step - loss: 0.2887 - mae: 0.3837 - val_loss: 6.4593 - val_mae: 1.8738\n",
            "Epoch 220/250\n",
            "178/178 [==============================] - 18s 99ms/step - loss: 0.2858 - mae: 0.3819 - val_loss: 6.0478 - val_mae: 1.8066\n",
            "Epoch 221/250\n",
            "178/178 [==============================] - 18s 100ms/step - loss: 0.3206 - mae: 0.3981 - val_loss: 5.1073 - val_mae: 1.6899\n",
            "Epoch 222/250\n",
            "178/178 [==============================] - 18s 99ms/step - loss: 0.4496 - mae: 0.4423 - val_loss: 4.9539 - val_mae: 1.6659\n",
            "Epoch 223/250\n",
            "178/178 [==============================] - 18s 100ms/step - loss: 0.4778 - mae: 0.4458 - val_loss: 7.2465 - val_mae: 1.9654\n",
            "Epoch 224/250\n",
            "178/178 [==============================] - 18s 99ms/step - loss: 0.3667 - mae: 0.4191 - val_loss: 6.8924 - val_mae: 1.9068\n",
            "Epoch 225/250\n",
            "178/178 [==============================] - 18s 99ms/step - loss: 0.3874 - mae: 0.4219 - val_loss: 6.1016 - val_mae: 1.8000\n",
            "Epoch 226/250\n",
            "178/178 [==============================] - 18s 100ms/step - loss: 0.4317 - mae: 0.4146 - val_loss: 6.2323 - val_mae: 1.8213\n",
            "Epoch 227/250\n",
            "178/178 [==============================] - 18s 100ms/step - loss: 0.3528 - mae: 0.4119 - val_loss: 7.0438 - val_mae: 1.9206\n",
            "Epoch 228/250\n",
            "178/178 [==============================] - 18s 99ms/step - loss: 0.4262 - mae: 0.4155 - val_loss: 6.6038 - val_mae: 1.8547\n",
            "Epoch 229/250\n",
            "178/178 [==============================] - 18s 100ms/step - loss: 0.3326 - mae: 0.3996 - val_loss: 6.2956 - val_mae: 1.8346\n",
            "Epoch 230/250\n",
            "178/178 [==============================] - 18s 100ms/step - loss: 0.3326 - mae: 0.4073 - val_loss: 5.9473 - val_mae: 1.7738\n",
            "Epoch 231/250\n",
            "178/178 [==============================] - 18s 100ms/step - loss: 0.3240 - mae: 0.3997 - val_loss: 5.3996 - val_mae: 1.7268\n",
            "Epoch 232/250\n",
            "178/178 [==============================] - 18s 100ms/step - loss: 0.4790 - mae: 0.4289 - val_loss: 9.0783 - val_mae: 2.1569\n",
            "Epoch 233/250\n",
            "178/178 [==============================] - 18s 99ms/step - loss: 0.4519 - mae: 0.4505 - val_loss: 4.9320 - val_mae: 1.6831\n",
            "Epoch 234/250\n",
            "178/178 [==============================] - 18s 99ms/step - loss: 0.5605 - mae: 0.4709 - val_loss: 7.2702 - val_mae: 1.9834\n",
            "Epoch 235/250\n",
            "178/178 [==============================] - 18s 100ms/step - loss: 0.4555 - mae: 0.4522 - val_loss: 7.6687 - val_mae: 2.0163\n",
            "Epoch 236/250\n",
            "178/178 [==============================] - 18s 100ms/step - loss: 0.4875 - mae: 0.4473 - val_loss: 6.3989 - val_mae: 1.8548\n",
            "Epoch 237/250\n",
            "178/178 [==============================] - 18s 100ms/step - loss: 0.4660 - mae: 0.4412 - val_loss: 6.6841 - val_mae: 1.9045\n",
            "Epoch 238/250\n",
            "178/178 [==============================] - 18s 100ms/step - loss: 0.5012 - mae: 0.4428 - val_loss: 5.9565 - val_mae: 1.8173\n",
            "Epoch 239/250\n",
            "178/178 [==============================] - 18s 100ms/step - loss: 0.4304 - mae: 0.4321 - val_loss: 6.6513 - val_mae: 1.9100\n",
            "Epoch 240/250\n",
            "178/178 [==============================] - 18s 100ms/step - loss: 0.3928 - mae: 0.4246 - val_loss: 6.9477 - val_mae: 1.9228\n",
            "Epoch 241/250\n",
            "178/178 [==============================] - 18s 100ms/step - loss: 0.3979 - mae: 0.4290 - val_loss: 6.5409 - val_mae: 1.8982\n",
            "Epoch 242/250\n",
            "178/178 [==============================] - 18s 100ms/step - loss: 0.4080 - mae: 0.4222 - val_loss: 5.6599 - val_mae: 1.7984\n",
            "Epoch 243/250\n",
            "178/178 [==============================] - 18s 100ms/step - loss: 0.4276 - mae: 0.4217 - val_loss: 5.9495 - val_mae: 1.8047\n",
            "Epoch 244/250\n",
            "178/178 [==============================] - 18s 100ms/step - loss: 0.5026 - mae: 0.4386 - val_loss: 5.7815 - val_mae: 1.7782\n",
            "Epoch 245/250\n",
            "178/178 [==============================] - 18s 100ms/step - loss: 0.5085 - mae: 0.4627 - val_loss: 6.6613 - val_mae: 1.8994\n",
            "Epoch 246/250\n",
            "178/178 [==============================] - 18s 100ms/step - loss: 0.4115 - mae: 0.4353 - val_loss: 6.9599 - val_mae: 1.9499\n",
            "Epoch 247/250\n",
            "178/178 [==============================] - 18s 99ms/step - loss: 0.5049 - mae: 0.4445 - val_loss: 7.2410 - val_mae: 2.0830\n",
            "Epoch 248/250\n",
            "178/178 [==============================] - 18s 101ms/step - loss: 0.4887 - mae: 0.4451 - val_loss: 4.8263 - val_mae: 1.6599\n",
            "Epoch 249/250\n",
            "178/178 [==============================] - 18s 99ms/step - loss: 0.3971 - mae: 0.4363 - val_loss: 5.9199 - val_mae: 1.8119\n",
            "Epoch 250/250\n",
            "178/178 [==============================] - 18s 100ms/step - loss: 0.4001 - mae: 0.4381 - val_loss: 5.2179 - val_mae: 1.7512\n"
          ]
        }
      ]
    },
    {
      "cell_type": "code",
      "source": [
        "loss = history.history['loss']\n",
        "val_loss = history.history['val_loss']\n",
        "mae = history.history['mae']\n",
        "val_mae = history.history['val_mae']\n",
        "\n",
        "\n",
        "epochs_x = range(len(loss))\n",
        "\n",
        "\n",
        "plt.plot(epochs_x, mae, 'o', color ='darkviolet', label='Training MAE')\n",
        "plt.plot(epochs_x, val_mae, 'k', label='Validation MAE')\n",
        "plt.title('Training and validation MeanAbsoluteError')\n",
        "plt.legend()\n",
        "\n",
        "plt.figure()\n",
        "plt.plot(epochs_x, loss, 'o', color ='darkviolet', label='Training loss')\n",
        "plt.plot(epochs_x, val_loss, 'k', label='Validation loss')\n",
        "plt.title('Training and validation loss')\n",
        "plt.legend()\n",
        "\n",
        "plt.show()"
      ],
      "metadata": {
        "id": "Y3K89-CM-dfg",
        "colab": {
          "base_uri": "https://localhost:8080/",
          "height": 887
        },
        "outputId": "60bdf523-a0fb-4b48-e613-e4fd8859d420"
      },
      "execution_count": 19,
      "outputs": [
        {
          "output_type": "display_data",
          "data": {
            "text/plain": [
              "<Figure size 640x480 with 1 Axes>"
            ],
            "image/png": "[encoded data removed]"
          },
          "metadata": {}
        },
        {
          "output_type": "display_data",
          "data": {
            "text/plain": [
              "<Figure size 640x480 with 1 Axes>"
            ],
            "image/png": "[encoded data removed]"
          },
          "metadata": {}
        }
      ]
    },
    {
      "cell_type": "code",
      "source": [],
      "metadata": {
        "id": "sI5JVEwwQsjc"
      },
      "execution_count": 19,
      "outputs": []
    },
    {
      "cell_type": "code",
      "source": [
        "epochs_x"
      ],
      "metadata": {
        "id": "N_sP_ZmSY-Jv",
        "colab": {
          "base_uri": "https://localhost:8080/"
        },
        "outputId": "0432ae37-df37-4e6b-9839-942c2e63b656"
      },
      "execution_count": 20,
      "outputs": [
        {
          "output_type": "execute_result",
          "data": {
            "text/plain": [
              "range(0, 250)"
            ]
          },
          "metadata": {},
          "execution_count": 20
        }
      ]
    },
    {
      "cell_type": "markdown",
      "source": [
        "#Download the model\n"
      ],
      "metadata": {
        "id": "R19IJQSYoW7J"
      }
    },
    {
      "cell_type": "code",
      "source": [
        "os.makedirs('/content/drive/My Drive/cut_panoramic/Model', exist_ok=True)\n",
        "model.save('/content/drive/MyDrive/cut_panoramic/Model/Regression/All/11Re_All_1G_1e-4_16_0.2_250_New_Unfreez.h5')"
      ],
      "metadata": {
        "id": "Zed4TdFcG2iJ"
      },
      "execution_count": 21,
      "outputs": []
    },
    {
      "cell_type": "markdown",
      "source": [],
      "metadata": {
        "id": "n5YxZ-5QjQ0-"
      }
    },
    {
      "cell_type": "code",
      "source": [
        "# from google.colab import files\n",
        "# files.download('/content/drive/My Drive/cut_panoramic/Model/1.1_รอบแรก_Flimpano_Male125_250.h5')"
      ],
      "metadata": {
        "id": "P5eMxm1NV-oY"
      },
      "execution_count": 22,
      "outputs": []
    },
    {
      "cell_type": "code",
      "source": [
        "\n"
      ],
      "metadata": {
        "id": "wY_pDlxkRwxS"
      },
      "execution_count": 22,
      "outputs": []
    }
  ]
}