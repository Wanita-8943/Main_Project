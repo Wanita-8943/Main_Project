{
  "cells": [
    {
      "cell_type": "markdown",
      "metadata": {
        "id": "view-in-github",
        "colab_type": "text"
      },
      "source": [
        "<a href=\"https://colab.research.google.com/github/Wanita-8943/Main_Project/blob/main/AC3_AllAge_Unfreeze_500.ipynb\" target=\"_parent\"><img src=\"https://colab.research.google.com/assets/colab-badge.svg\" alt=\"Open In Colab\"/></a>"
      ]
    },
    {
      "cell_type": "markdown",
      "metadata": {
        "id": "ow7eWoNw6U-c"
      },
      "source": [
        "#เรียกใช้ CSV"
      ]
    },
    {
      "cell_type": "code",
      "execution_count": 1,
      "metadata": {
        "id": "z8o_VVNXzcL8"
      },
      "outputs": [],
      "source": [
        "import pandas as pd\n",
        "import shutil"
      ]
    },
    {
      "cell_type": "code",
      "execution_count": 2,
      "metadata": {
        "id": "1_2Fe8u81d5r",
        "colab": {
          "base_uri": "https://localhost:8080/"
        },
        "outputId": "5f9b4dd0-4917-4d99-c99d-946354d36a5d"
      },
      "outputs": [
        {
          "output_type": "stream",
          "name": "stdout",
          "text": [
            "Mounted at /content/drive\n"
          ]
        }
      ],
      "source": [
        "from google.colab import drive\n",
        "drive.mount('/content/drive')"
      ]
    },
    {
      "cell_type": "code",
      "execution_count": 3,
      "metadata": {
        "id": "mbLFqTO1ze9O",
        "colab": {
          "base_uri": "https://localhost:8080/",
          "height": 424
        },
        "outputId": "c374e703-005d-468a-ccce-7e26171f5231"
      },
      "outputs": [
        {
          "output_type": "execute_result",
          "data": {
            "text/plain": [
              "      Fig_Age  Fig_Person_Sex  Age(year) Class  Class_Re       Filename  \\\n",
              "0           1               1          7   Y07         0         V1.jpg   \n",
              "1           2               1          7   Y07         0    Flip_V1.jpg   \n",
              "2           3               2          7   Y07         0         V2.jpg   \n",
              "3           4               2          7   Y07         0    Flip_V2.jpg   \n",
              "4           5               3          7   Y07         0         V3.jpg   \n",
              "...       ...             ...        ...   ...       ...            ...   \n",
              "4745      121              77         25   Y25        18  Flip_J463.jpg   \n",
              "4746      122              78         25   Y25        18       J464.jpg   \n",
              "4747      123              78         25   Y25        18  Flip_J464.jpg   \n",
              "4748      124              79         25   Y25        18       J465.jpg   \n",
              "4749      125              79         25   Y25        18  Flip_J465.jpg   \n",
              "\n",
              "                                          Path_filename     Sex Floder  \n",
              "0     /content/drive/My Drive/TVT_All_Age/train/Y07/...  Female   Both  \n",
              "1     /content/drive/My Drive/TVT_All_Age/train/Y07/...  Female   Both  \n",
              "2     /content/drive/My Drive/TVT_All_Age/train/Y07/...  Female   Both  \n",
              "3     /content/drive/My Drive/TVT_All_Age/train/Y07/...  Female   Both  \n",
              "4     /content/drive/My Drive/TVT_All_Age/train/Y07/...  Female   Both  \n",
              "...                                                 ...     ...    ...  \n",
              "4745  /content/drive/My Drive/TVT_All_Age/test/Y25/F...    Male   Both  \n",
              "4746  /content/drive/My Drive/TVT_All_Age/test/Y25/J...    Male   Both  \n",
              "4747  /content/drive/My Drive/TVT_All_Age/test/Y25/F...    Male   Both  \n",
              "4748  /content/drive/My Drive/TVT_All_Age/test/Y25/J...    Male   Both  \n",
              "4749  /content/drive/My Drive/TVT_All_Age/test/Y25/F...    Male   Both  \n",
              "\n",
              "[4750 rows x 9 columns]"
            ],
            "text/html": [
              "\n",
              "  <div id=\"df-6707796d-64ce-475a-99b7-d74faaf49dda\">\n",
              "    <div class=\"colab-df-container\">\n",
              "      <div>\n",
              "<style scoped>\n",
              "    .dataframe tbody tr th:only-of-type {\n",
              "        vertical-align: middle;\n",
              "    }\n",
              "\n",
              "    .dataframe tbody tr th {\n",
              "        vertical-align: top;\n",
              "    }\n",
              "\n",
              "    .dataframe thead th {\n",
              "        text-align: right;\n",
              "    }\n",
              "</style>\n",
              "<table border=\"1\" class=\"dataframe\">\n",
              "  <thead>\n",
              "    <tr style=\"text-align: right;\">\n",
              "      <th></th>\n",
              "      <th>Fig_Age</th>\n",
              "      <th>Fig_Person_Sex</th>\n",
              "      <th>Age(year)</th>\n",
              "      <th>Class</th>\n",
              "      <th>Class_Re</th>\n",
              "      <th>Filename</th>\n",
              "      <th>Path_filename</th>\n",
              "      <th>Sex</th>\n",
              "      <th>Floder</th>\n",
              "    </tr>\n",
              "  </thead>\n",
              "  <tbody>\n",
              "    <tr>\n",
              "      <th>0</th>\n",
              "      <td>1</td>\n",
              "      <td>1</td>\n",
              "      <td>7</td>\n",
              "      <td>Y07</td>\n",
              "      <td>0</td>\n",
              "      <td>V1.jpg</td>\n",
              "      <td>/content/drive/My Drive/TVT_All_Age/train/Y07/...</td>\n",
              "      <td>Female</td>\n",
              "      <td>Both</td>\n",
              "    </tr>\n",
              "    <tr>\n",
              "      <th>1</th>\n",
              "      <td>2</td>\n",
              "      <td>1</td>\n",
              "      <td>7</td>\n",
              "      <td>Y07</td>\n",
              "      <td>0</td>\n",
              "      <td>Flip_V1.jpg</td>\n",
              "      <td>/content/drive/My Drive/TVT_All_Age/train/Y07/...</td>\n",
              "      <td>Female</td>\n",
              "      <td>Both</td>\n",
              "    </tr>\n",
              "    <tr>\n",
              "      <th>2</th>\n",
              "      <td>3</td>\n",
              "      <td>2</td>\n",
              "      <td>7</td>\n",
              "      <td>Y07</td>\n",
              "      <td>0</td>\n",
              "      <td>V2.jpg</td>\n",
              "      <td>/content/drive/My Drive/TVT_All_Age/train/Y07/...</td>\n",
              "      <td>Female</td>\n",
              "      <td>Both</td>\n",
              "    </tr>\n",
              "    <tr>\n",
              "      <th>3</th>\n",
              "      <td>4</td>\n",
              "      <td>2</td>\n",
              "      <td>7</td>\n",
              "      <td>Y07</td>\n",
              "      <td>0</td>\n",
              "      <td>Flip_V2.jpg</td>\n",
              "      <td>/content/drive/My Drive/TVT_All_Age/train/Y07/...</td>\n",
              "      <td>Female</td>\n",
              "      <td>Both</td>\n",
              "    </tr>\n",
              "    <tr>\n",
              "      <th>4</th>\n",
              "      <td>5</td>\n",
              "      <td>3</td>\n",
              "      <td>7</td>\n",
              "      <td>Y07</td>\n",
              "      <td>0</td>\n",
              "      <td>V3.jpg</td>\n",
              "      <td>/content/drive/My Drive/TVT_All_Age/train/Y07/...</td>\n",
              "      <td>Female</td>\n",
              "      <td>Both</td>\n",
              "    </tr>\n",
              "    <tr>\n",
              "      <th>...</th>\n",
              "      <td>...</td>\n",
              "      <td>...</td>\n",
              "      <td>...</td>\n",
              "      <td>...</td>\n",
              "      <td>...</td>\n",
              "      <td>...</td>\n",
              "      <td>...</td>\n",
              "      <td>...</td>\n",
              "      <td>...</td>\n",
              "    </tr>\n",
              "    <tr>\n",
              "      <th>4745</th>\n",
              "      <td>121</td>\n",
              "      <td>77</td>\n",
              "      <td>25</td>\n",
              "      <td>Y25</td>\n",
              "      <td>18</td>\n",
              "      <td>Flip_J463.jpg</td>\n",
              "      <td>/content/drive/My Drive/TVT_All_Age/test/Y25/F...</td>\n",
              "      <td>Male</td>\n",
              "      <td>Both</td>\n",
              "    </tr>\n",
              "    <tr>\n",
              "      <th>4746</th>\n",
              "      <td>122</td>\n",
              "      <td>78</td>\n",
              "      <td>25</td>\n",
              "      <td>Y25</td>\n",
              "      <td>18</td>\n",
              "      <td>J464.jpg</td>\n",
              "      <td>/content/drive/My Drive/TVT_All_Age/test/Y25/J...</td>\n",
              "      <td>Male</td>\n",
              "      <td>Both</td>\n",
              "    </tr>\n",
              "    <tr>\n",
              "      <th>4747</th>\n",
              "      <td>123</td>\n",
              "      <td>78</td>\n",
              "      <td>25</td>\n",
              "      <td>Y25</td>\n",
              "      <td>18</td>\n",
              "      <td>Flip_J464.jpg</td>\n",
              "      <td>/content/drive/My Drive/TVT_All_Age/test/Y25/F...</td>\n",
              "      <td>Male</td>\n",
              "      <td>Both</td>\n",
              "    </tr>\n",
              "    <tr>\n",
              "      <th>4748</th>\n",
              "      <td>124</td>\n",
              "      <td>79</td>\n",
              "      <td>25</td>\n",
              "      <td>Y25</td>\n",
              "      <td>18</td>\n",
              "      <td>J465.jpg</td>\n",
              "      <td>/content/drive/My Drive/TVT_All_Age/test/Y25/J...</td>\n",
              "      <td>Male</td>\n",
              "      <td>Both</td>\n",
              "    </tr>\n",
              "    <tr>\n",
              "      <th>4749</th>\n",
              "      <td>125</td>\n",
              "      <td>79</td>\n",
              "      <td>25</td>\n",
              "      <td>Y25</td>\n",
              "      <td>18</td>\n",
              "      <td>Flip_J465.jpg</td>\n",
              "      <td>/content/drive/My Drive/TVT_All_Age/test/Y25/F...</td>\n",
              "      <td>Male</td>\n",
              "      <td>Both</td>\n",
              "    </tr>\n",
              "  </tbody>\n",
              "</table>\n",
              "<p>4750 rows × 9 columns</p>\n",
              "</div>\n",
              "      <button class=\"colab-df-convert\" onclick=\"convertToInteractive('df-6707796d-64ce-475a-99b7-d74faaf49dda')\"\n",
              "              title=\"Convert this dataframe to an interactive table.\"\n",
              "              style=\"display:none;\">\n",
              "        \n",
              "  <svg xmlns=\"http://www.w3.org/2000/svg\" height=\"24px\"viewBox=\"0 0 24 24\"\n",
              "       width=\"24px\">\n",
              "    <path d=\"M0 0h24v24H0V0z\" fill=\"none\"/>\n",
              "    <path d=\"M18.56 5.44l.94 2.06.94-2.06 2.06-.94-2.06-.94-.94-2.06-.94 2.06-2.06.94zm-11 1L8.5 8.5l.94-2.06 2.06-.94-2.06-.94L8.5 2.5l-.94 2.06-2.06.94zm10 10l.94 2.06.94-2.06 2.06-.94-2.06-.94-.94-2.06-.94 2.06-2.06.94z\"/><path d=\"M17.41 7.96l-1.37-1.37c-.4-.4-.92-.59-1.43-.59-.52 0-1.04.2-1.43.59L10.3 9.45l-7.72 7.72c-.78.78-.78 2.05 0 2.83L4 21.41c.39.39.9.59 1.41.59.51 0 1.02-.2 1.41-.59l7.78-7.78 2.81-2.81c.8-.78.8-2.07 0-2.86zM5.41 20L4 18.59l7.72-7.72 1.47 1.35L5.41 20z\"/>\n",
              "  </svg>\n",
              "      </button>\n",
              "      \n",
              "  <style>\n",
              "    .colab-df-container {\n",
              "      display:flex;\n",
              "      flex-wrap:wrap;\n",
              "      gap: 12px;\n",
              "    }\n",
              "\n",
              "    .colab-df-convert {\n",
              "      background-color: #E8F0FE;\n",
              "      border: none;\n",
              "      border-radius: 50%;\n",
              "      cursor: pointer;\n",
              "      display: none;\n",
              "      fill: #1967D2;\n",
              "      height: 32px;\n",
              "      padding: 0 0 0 0;\n",
              "      width: 32px;\n",
              "    }\n",
              "\n",
              "    .colab-df-convert:hover {\n",
              "      background-color: #E2EBFA;\n",
              "      box-shadow: 0px 1px 2px rgba(60, 64, 67, 0.3), 0px 1px 3px 1px rgba(60, 64, 67, 0.15);\n",
              "      fill: #174EA6;\n",
              "    }\n",
              "\n",
              "    [theme=dark] .colab-df-convert {\n",
              "      background-color: #3B4455;\n",
              "      fill: #D2E3FC;\n",
              "    }\n",
              "\n",
              "    [theme=dark] .colab-df-convert:hover {\n",
              "      background-color: #434B5C;\n",
              "      box-shadow: 0px 1px 3px 1px rgba(0, 0, 0, 0.15);\n",
              "      filter: drop-shadow(0px 1px 2px rgba(0, 0, 0, 0.3));\n",
              "      fill: #FFFFFF;\n",
              "    }\n",
              "  </style>\n",
              "\n",
              "      <script>\n",
              "        const buttonEl =\n",
              "          document.querySelector('#df-6707796d-64ce-475a-99b7-d74faaf49dda button.colab-df-convert');\n",
              "        buttonEl.style.display =\n",
              "          google.colab.kernel.accessAllowed ? 'block' : 'none';\n",
              "\n",
              "        async function convertToInteractive(key) {\n",
              "          const element = document.querySelector('#df-6707796d-64ce-475a-99b7-d74faaf49dda');\n",
              "          const dataTable =\n",
              "            await google.colab.kernel.invokeFunction('convertToInteractive',\n",
              "                                                     [key], {});\n",
              "          if (!dataTable) return;\n",
              "\n",
              "          const docLinkHtml = 'Like what you see? Visit the ' +\n",
              "            '<a target=\"_blank\" href=https://colab.research.google.com/notebooks/data_table.ipynb>data table notebook</a>'\n",
              "            + ' to learn more about interactive tables.';\n",
              "          element.innerHTML = '';\n",
              "          dataTable['output_type'] = 'display_data';\n",
              "          await google.colab.output.renderOutput(dataTable, element);\n",
              "          const docLink = document.createElement('div');\n",
              "          docLink.innerHTML = docLinkHtml;\n",
              "          element.appendChild(docLink);\n",
              "        }\n",
              "      </script>\n",
              "    </div>\n",
              "  </div>\n",
              "  "
            ]
          },
          "metadata": {},
          "execution_count": 3
        }
      ],
      "source": [
        "df = pd.read_csv (r'/content/drive/MyDrive/cut_panoramic/Data/New_All_Age_0.csv')\n",
        "df"
      ]
    },
    {
      "cell_type": "markdown",
      "metadata": {
        "id": "5qxePnnn7TGW"
      },
      "source": [
        "#Imports"
      ]
    },
    {
      "cell_type": "code",
      "execution_count": 4,
      "metadata": {
        "id": "D-hCRloc3t39"
      },
      "outputs": [],
      "source": [
        "from tensorflow.keras import models\n",
        "from tensorflow.keras import layers\n",
        "from tensorflow.keras import optimizers\n",
        "import os\n",
        "import glob\n",
        "import shutil\n",
        "import sys\n",
        "import numpy as np\n",
        "from skimage.io import imread\n",
        "import matplotlib.pyplot as plt\n",
        "from IPython.display import Image\n",
        "%matplotlib inline"
      ]
    },
    {
      "cell_type": "markdown",
      "metadata": {
        "id": "RooqSdBc7QHC"
      },
      "source": [
        "#กำหนดค่าพารามิเตอร์\n"
      ]
    },
    {
      "cell_type": "code",
      "execution_count": 5,
      "metadata": {
        "id": "thDb7U9B3xOo"
      },
      "outputs": [],
      "source": [
        "batch_size = 16\n",
        "width = 150\n",
        "height = 150\n",
        "epochs = 500\n",
        "NUM_TRAIN = 2850\n",
        "NUM_TEST = 950\n",
        "dropout_rate = 0.2\n",
        "input_shape = (height, width, 3)"
      ]
    },
    {
      "cell_type": "markdown",
      "metadata": {
        "id": "pumGmy6f3eSW"
      },
      "source": [
        "#Clone efficientnet repo\n"
      ]
    },
    {
      "cell_type": "code",
      "execution_count": 6,
      "metadata": {
        "colab": {
          "base_uri": "https://localhost:8080/"
        },
        "id": "P7iy2f8n16p0",
        "outputId": "de2d263a-484f-4328-9924-a2cb41681782"
      },
      "outputs": [
        {
          "output_type": "stream",
          "name": "stdout",
          "text": [
            "/content\n",
            "Cloning into 'efficientnet_keras_transfer_learning'...\n",
            "remote: Enumerating objects: 1079, done.\u001b[K\n",
            "remote: Counting objects: 100% (242/242), done.\u001b[K\n",
            "remote: Compressing objects: 100% (121/121), done.\u001b[K\n",
            "remote: Total 1079 (delta 121), reused 241 (delta 121), pack-reused 837\u001b[K\n",
            "Receiving objects: 100% (1079/1079), 13.94 MiB | 33.36 MiB/s, done.\n",
            "Resolving deltas: 100% (618/618), done.\n",
            "/content/efficientnet_keras_transfer_learning\n"
          ]
        }
      ],
      "source": [
        "#ดึงข้อมูลใน Github มาใช้\n",
        "import os\n",
        "%cd /content\n",
        "if not os.path.isdir(\"efficientnet_keras_transfer_learning\"):\n",
        " !git clone https://github.com/Wanita-8943/efficientnet_keras_transfer_learning\n",
        "%cd efficientnet_keras_transfer_learning/\n"
      ]
    },
    {
      "cell_type": "code",
      "execution_count": 7,
      "metadata": {
        "id": "Gqg_EUxrKkcK"
      },
      "outputs": [],
      "source": [
        "# Options: EfficientNetB0, EfficientNetB1, EfficientNetB2, EfficientNetB3\n",
        "# Higher the number, the more complex the model is.\n",
        "from efficientnet import EfficientNetB0 as Net\n",
        "from efficientnet import center_crop_and_resize, preprocess_input"
      ]
    },
    {
      "cell_type": "code",
      "source": [
        "# loading pretrained conv base model\n",
        "# โหลดโมเดล มาโดยตัด output ของโมเดลออก เเต่ยังใช้ input อันเดิม\n",
        "# เเละโหลด weight ของโมเดล มาด้วยที่ชื่อว่า imagenet\n",
        "conv_base = Net(weights='imagenet', include_top=False, input_shape=input_shape)"
      ],
      "metadata": {
        "colab": {
          "base_uri": "https://localhost:8080/"
        },
        "id": "sjq4AxnfPMPF",
        "outputId": "a9a1ca9b-48fb-47e6-ac7e-f5280824078e"
      },
      "execution_count": 8,
      "outputs": [
        {
          "output_type": "stream",
          "name": "stderr",
          "text": [
            "WARNING:tensorflow:From /usr/local/lib/python3.9/dist-packages/tensorflow/python/autograph/pyct/static_analysis/liveness.py:83: Analyzer.lamba_check (from tensorflow.python.autograph.pyct.static_analysis.liveness) is deprecated and will be removed after 2023-09-23.\n",
            "Instructions for updating:\n",
            "Lambda fuctions will be no more assumed to be used in the statement where they are used, or at least in the same block. https://github.com/tensorflow/tensorflow/issues/56089\n"
          ]
        },
        {
          "output_type": "stream",
          "name": "stdout",
          "text": [
            "Downloading data from https://github.com/qubvel/efficientnet/releases/download/v0.0.1/efficientnet-b0_imagenet_1000_notop.h5\n",
            "16717576/16717576 [==============================] - 0s 0us/step\n"
          ]
        }
      ]
    },
    {
      "cell_type": "markdown",
      "source": [
        "#load model \n"
      ],
      "metadata": {
        "id": "Jqlg5Z7X5MlQ"
      }
    },
    {
      "cell_type": "code",
      "source": [
        "\n",
        "import sys\n",
        "sys.path.append('/content/drive/MyDrive/cut_panoramic/Model/Classification/All_Age/AC2_AllAge_Freeze_250.h5')\n",
        "\n",
        "from efficientnet.layers import Swish, DropConnect\n",
        "from efficientnet.model import ConvKernalInitializer\n",
        "from tensorflow.keras.utils import get_custom_objects\n",
        "\n",
        "get_custom_objects().update({\n",
        "    'ConvKernalInitializer': ConvKernalInitializer,\n",
        "    'Swish': Swish,\n",
        "    'DropConnect':DropConnect\n",
        "})\n",
        "    "
      ],
      "metadata": {
        "id": "CS9-uI0G5JDO"
      },
      "execution_count": 9,
      "outputs": []
    },
    {
      "cell_type": "code",
      "source": [
        "#load model \n",
        "from tensorflow.keras.models import load_model\n",
        "model = load_model('/content/drive/MyDrive/cut_panoramic/Model/Classification/All_Age/AC2_AllAge_Freeze_250.h5')\n",
        "height = width = model.input_shape[1]"
      ],
      "metadata": {
        "id": "X8ZC22Qe5J4Q"
      },
      "execution_count": 10,
      "outputs": []
    },
    {
      "cell_type": "code",
      "execution_count": 11,
      "metadata": {
        "colab": {
          "base_uri": "https://localhost:8080/"
        },
        "id": "NadBB12251jh",
        "outputId": "1c08ffb0-a39c-42bf-f46b-97ac48f2db3b"
      },
      "outputs": [
        {
          "output_type": "stream",
          "name": "stdout",
          "text": [
            "Model: \"sequential\"\n",
            "_________________________________________________________________\n",
            " Layer (type)                Output Shape              Param #   \n",
            "=================================================================\n",
            " efficientnet-b0 (Functional  (None, 5, 5, 1280)       4049564   \n",
            " )                                                               \n",
            "                                                                 \n",
            " gap (GlobalMaxPooling2D)    (None, 1280)              0         \n",
            "                                                                 \n",
            " dropout_out (Dropout)       (None, 1280)              0         \n",
            "                                                                 \n",
            " fc_out (Dense)              (None, 19)                24339     \n",
            "                                                                 \n",
            "=================================================================\n",
            "Total params: 4,073,903\n",
            "Trainable params: 24,339\n",
            "Non-trainable params: 4,049,564\n",
            "_________________________________________________________________\n"
          ]
        }
      ],
      "source": [
        "model.summary()"
      ]
    },
    {
      "cell_type": "code",
      "source": [
        "# multiply_16\n",
        "# set 'multiply_16' and following layers trainable\n",
        "model.trainable = True\n",
        "\n",
        "set_trainable = False\n",
        "for layer in conv_base.layers:\n",
        "    if layer.name == 'multiply_16':\n",
        "        set_trainable = True\n",
        "    if set_trainable:\n",
        "        layer.trainable = True\n",
        "    else:\n",
        "        layer.trainable = False  "
      ],
      "metadata": {
        "id": "lBYpecYxPfq5"
      },
      "execution_count": 12,
      "outputs": []
    },
    {
      "cell_type": "code",
      "source": [
        "model.summary()"
      ],
      "metadata": {
        "colab": {
          "base_uri": "https://localhost:8080/"
        },
        "id": "QpOX8Bk0Pjt1",
        "outputId": "4e5825f9-248b-4391-df55-4f6f1f673906"
      },
      "execution_count": 13,
      "outputs": [
        {
          "output_type": "stream",
          "name": "stdout",
          "text": [
            "Model: \"sequential\"\n",
            "_________________________________________________________________\n",
            " Layer (type)                Output Shape              Param #   \n",
            "=================================================================\n",
            " efficientnet-b0 (Functional  (None, 5, 5, 1280)       4049564   \n",
            " )                                                               \n",
            "                                                                 \n",
            " gap (GlobalMaxPooling2D)    (None, 1280)              0         \n",
            "                                                                 \n",
            " dropout_out (Dropout)       (None, 1280)              0         \n",
            "                                                                 \n",
            " fc_out (Dense)              (None, 19)                24339     \n",
            "                                                                 \n",
            "=================================================================\n",
            "Total params: 4,073,903\n",
            "Trainable params: 4,031,887\n",
            "Non-trainable params: 42,016\n",
            "_________________________________________________________________\n"
          ]
        }
      ]
    },
    {
      "cell_type": "markdown",
      "metadata": {
        "id": "J36J9EAE7qSB"
      },
      "source": [
        "#สร้างโฟลเดอร์ Train Valodation และ Test"
      ]
    },
    {
      "cell_type": "code",
      "execution_count": 14,
      "metadata": {
        "id": "nqCFbjRQ3okB"
      },
      "outputs": [],
      "source": [
        "base_dir = '/content/drive/MyDrive/TVT_All_Age'\n",
        "os.makedirs(base_dir, exist_ok=True)\n",
        "\n",
        "# Directories for our training,\n",
        "# validation and test splits\n",
        "train_dir = os.path.join(base_dir, 'train')\n",
        "os.makedirs(train_dir, exist_ok=True)\n",
        "validation_dir = os.path.join(base_dir, 'validation')\n",
        "os.makedirs(validation_dir, exist_ok=True)\n",
        "test_dir = os.path.join(base_dir, 'test')\n",
        "os.makedirs(test_dir, exist_ok=True)"
      ]
    },
    {
      "cell_type": "markdown",
      "metadata": {
        "id": "bWEnlTSwazL5"
      },
      "source": [
        "\n",
        "#Train"
      ]
    },
    {
      "cell_type": "code",
      "execution_count": 15,
      "metadata": {
        "colab": {
          "base_uri": "https://localhost:8080/"
        },
        "id": "xGPrsn9no_pa",
        "outputId": "04ea8c56-c13b-466d-b8d2-f20495ffb59a"
      },
      "outputs": [
        {
          "output_type": "stream",
          "name": "stdout",
          "text": [
            "Found 2850 images belonging to 19 classes.\n",
            "Found 950 images belonging to 19 classes.\n"
          ]
        }
      ],
      "source": [
        "# Train ด้วย ImageDataGenerator ของ Keras ซึ่งจะเพิ่มข้อมูลเสริมระหว่างการฝึกเพื่อลดโอกาสเกิด overfitting\n",
        "#overfitting เกิดจากข้อมูลที่ซับซ้อนกันเกินไป\n",
        "from tensorflow.keras.preprocessing.image import ImageDataGenerator\n",
        "\n",
        "train_datagen = ImageDataGenerator(\n",
        "      rescale=1./255, #โมเดลส่วนใหญ่ต้องใช้ RGB ในช่วง 0–1\n",
        "      rotation_range=40,\n",
        "      width_shift_range=0.2,\n",
        "      height_shift_range=0.2,\n",
        "      shear_range=0.2,\n",
        "      zoom_range=0.2,\n",
        "      horizontal_flip=True,\n",
        "      fill_mode='nearest')\n",
        "\n",
        "# Note that the validation data should not be augmented!\n",
        "test_datagen = ImageDataGenerator(rescale=1./255)\n",
        "\n",
        "train_generator = train_datagen.flow_from_directory(\n",
        "        # This is the target directory #ไดเรกเป้าหมาย\n",
        "        train_dir,\n",
        "        # รูปภาพทั้งหมดจะถูกปรับขนาดตามความสูงและความกว้างของเป้าหมาย\n",
        "        target_size=(height, width),\n",
        "        batch_size=batch_size,\n",
        "        # Since we use categorical_crossentropy loss, we need categorical labels\n",
        "        #เนื่องจากเราใช้ categorical_crossentropy loss เราจึงต้องมีป้ายกำกับตามหมวดหมู่\n",
        "        class_mode='categorical')\n",
        "\n",
        "validation_generator = test_datagen.flow_from_directory( #การดึงภาพจาก Directory มาเข้าโมเดล \n",
        "        validation_dir,\n",
        "        target_size=(height, width),\n",
        "        batch_size=batch_size,\n",
        "        class_mode='categorical')"
      ]
    },
    {
      "cell_type": "code",
      "execution_count": 16,
      "metadata": {
        "colab": {
          "base_uri": "https://localhost:8080/"
        },
        "id": "N6qUmmF856ZE",
        "outputId": "09859a31-c7d9-408b-c9c1-821ebb80376c"
      },
      "outputs": [
        {
          "output_type": "stream",
          "name": "stderr",
          "text": [
            "<ipython-input-16-caa7b37242a8>:1: UserWarning: `Model.fit_generator` is deprecated and will be removed in a future version. Please use `Model.fit`, which supports generators.\n",
            "  history = model.fit_generator(\n"
          ]
        },
        {
          "output_type": "stream",
          "name": "stdout",
          "text": [
            "Epoch 1/250\n",
            "178/178 [==============================] - 371s 2s/step - loss: 2.5983 - acc: 0.2417 - val_loss: 4.1094 - val_acc: 0.1917\n",
            "Epoch 2/250\n",
            "178/178 [==============================] - 25s 135ms/step - loss: 2.6036 - acc: 0.2459 - val_loss: 4.1441 - val_acc: 0.1949\n",
            "Epoch 3/250\n",
            "178/178 [==============================] - 25s 138ms/step - loss: 2.5874 - acc: 0.2463 - val_loss: 4.3000 - val_acc: 0.1674\n",
            "Epoch 4/250\n",
            "178/178 [==============================] - 24s 135ms/step - loss: 2.5934 - acc: 0.2392 - val_loss: 4.3266 - val_acc: 0.1822\n",
            "Epoch 5/250\n",
            "178/178 [==============================] - 24s 134ms/step - loss: 2.6586 - acc: 0.2371 - val_loss: 4.1449 - val_acc: 0.1875\n",
            "Epoch 6/250\n",
            "178/178 [==============================] - 19s 107ms/step - loss: 2.5995 - acc: 0.2410 - val_loss: 4.1604 - val_acc: 0.1886\n",
            "Epoch 7/250\n",
            "178/178 [==============================] - 25s 136ms/step - loss: 2.6414 - acc: 0.2329 - val_loss: 4.1480 - val_acc: 0.1907\n",
            "Epoch 8/250\n",
            "178/178 [==============================] - 24s 134ms/step - loss: 2.6312 - acc: 0.2530 - val_loss: 4.1328 - val_acc: 0.1949\n",
            "Epoch 9/250\n",
            "178/178 [==============================] - 19s 107ms/step - loss: 2.6274 - acc: 0.2332 - val_loss: 4.1348 - val_acc: 0.1864\n",
            "Epoch 10/250\n",
            "178/178 [==============================] - 25s 139ms/step - loss: 2.5959 - acc: 0.2329 - val_loss: 4.1850 - val_acc: 0.1758\n",
            "Epoch 11/250\n",
            "178/178 [==============================] - 24s 135ms/step - loss: 2.5986 - acc: 0.2421 - val_loss: 4.2859 - val_acc: 0.1896\n",
            "Epoch 12/250\n",
            "178/178 [==============================] - 25s 136ms/step - loss: 2.6776 - acc: 0.2347 - val_loss: 4.2101 - val_acc: 0.1843\n",
            "Epoch 13/250\n",
            "178/178 [==============================] - 24s 135ms/step - loss: 2.6741 - acc: 0.2272 - val_loss: 4.1938 - val_acc: 0.1939\n",
            "Epoch 14/250\n",
            "178/178 [==============================] - 24s 134ms/step - loss: 2.6201 - acc: 0.2350 - val_loss: 4.1917 - val_acc: 0.1758\n",
            "Epoch 15/250\n",
            "178/178 [==============================] - 25s 139ms/step - loss: 2.5648 - acc: 0.2442 - val_loss: 4.2037 - val_acc: 0.1833\n",
            "Epoch 16/250\n",
            "178/178 [==============================] - 25s 139ms/step - loss: 2.5976 - acc: 0.2385 - val_loss: 4.3472 - val_acc: 0.1864\n",
            "Epoch 17/250\n",
            "178/178 [==============================] - 24s 135ms/step - loss: 2.6461 - acc: 0.2378 - val_loss: 4.1817 - val_acc: 0.1992\n",
            "Epoch 18/250\n",
            "178/178 [==============================] - 24s 135ms/step - loss: 2.6751 - acc: 0.2428 - val_loss: 4.2505 - val_acc: 0.2002\n",
            "Epoch 19/250\n",
            "178/178 [==============================] - 25s 138ms/step - loss: 2.6925 - acc: 0.2385 - val_loss: 4.2910 - val_acc: 0.1843\n",
            "Epoch 20/250\n",
            "178/178 [==============================] - 25s 136ms/step - loss: 2.6365 - acc: 0.2417 - val_loss: 4.4337 - val_acc: 0.1801\n",
            "Epoch 21/250\n",
            "178/178 [==============================] - 25s 139ms/step - loss: 2.6414 - acc: 0.2325 - val_loss: 4.1922 - val_acc: 0.1811\n",
            "Epoch 22/250\n",
            "178/178 [==============================] - 25s 136ms/step - loss: 2.6569 - acc: 0.2428 - val_loss: 4.2220 - val_acc: 0.2023\n",
            "Epoch 23/250\n",
            "178/178 [==============================] - 25s 136ms/step - loss: 2.7612 - acc: 0.2227 - val_loss: 4.4432 - val_acc: 0.1907\n",
            "Epoch 24/250\n",
            "178/178 [==============================] - 25s 139ms/step - loss: 2.7032 - acc: 0.2354 - val_loss: 4.2059 - val_acc: 0.1790\n",
            "Epoch 25/250\n",
            "178/178 [==============================] - 25s 140ms/step - loss: 2.5791 - acc: 0.2445 - val_loss: 4.4713 - val_acc: 0.1748\n",
            "Epoch 26/250\n",
            "178/178 [==============================] - 24s 134ms/step - loss: 2.6318 - acc: 0.2410 - val_loss: 4.4537 - val_acc: 0.1854\n",
            "Epoch 27/250\n",
            "178/178 [==============================] - 24s 134ms/step - loss: 2.6757 - acc: 0.2410 - val_loss: 4.2289 - val_acc: 0.1833\n",
            "Epoch 28/250\n",
            "178/178 [==============================] - 24s 135ms/step - loss: 2.6640 - acc: 0.2414 - val_loss: 4.0620 - val_acc: 0.1833\n",
            "Epoch 29/250\n",
            "178/178 [==============================] - 25s 136ms/step - loss: 2.6514 - acc: 0.2470 - val_loss: 4.1479 - val_acc: 0.1674\n",
            "Epoch 30/250\n",
            "178/178 [==============================] - 26s 142ms/step - loss: 2.6705 - acc: 0.2177 - val_loss: 4.1902 - val_acc: 0.1716\n",
            "Epoch 31/250\n",
            "178/178 [==============================] - 25s 141ms/step - loss: 2.6566 - acc: 0.2385 - val_loss: 4.3134 - val_acc: 0.1801\n",
            "Epoch 32/250\n",
            "178/178 [==============================] - 25s 136ms/step - loss: 2.6530 - acc: 0.2484 - val_loss: 4.2814 - val_acc: 0.1716\n",
            "Epoch 33/250\n",
            "178/178 [==============================] - 25s 136ms/step - loss: 2.5814 - acc: 0.2452 - val_loss: 4.2421 - val_acc: 0.1610\n",
            "Epoch 34/250\n",
            "178/178 [==============================] - 25s 136ms/step - loss: 2.6800 - acc: 0.2318 - val_loss: 4.0206 - val_acc: 0.1833\n",
            "Epoch 35/250\n",
            "178/178 [==============================] - 25s 138ms/step - loss: 2.7295 - acc: 0.2410 - val_loss: 4.0478 - val_acc: 0.1833\n",
            "Epoch 36/250\n",
            "178/178 [==============================] - 25s 137ms/step - loss: 2.6875 - acc: 0.2308 - val_loss: 4.1520 - val_acc: 0.1886\n",
            "Epoch 37/250\n",
            "178/178 [==============================] - 26s 142ms/step - loss: 2.6491 - acc: 0.2477 - val_loss: 4.2267 - val_acc: 0.1642\n",
            "Epoch 38/250\n",
            "178/178 [==============================] - 25s 141ms/step - loss: 2.6802 - acc: 0.2347 - val_loss: 4.0806 - val_acc: 0.1907\n",
            "Epoch 39/250\n",
            "178/178 [==============================] - 24s 135ms/step - loss: 2.6304 - acc: 0.2452 - val_loss: 4.1564 - val_acc: 0.1928\n",
            "Epoch 40/250\n",
            "178/178 [==============================] - 25s 137ms/step - loss: 2.6860 - acc: 0.2347 - val_loss: 4.1289 - val_acc: 0.1663\n",
            "Epoch 41/250\n",
            "178/178 [==============================] - 25s 139ms/step - loss: 2.6948 - acc: 0.2294 - val_loss: 4.2296 - val_acc: 0.1695\n",
            "Epoch 42/250\n",
            "178/178 [==============================] - 25s 138ms/step - loss: 2.6357 - acc: 0.2371 - val_loss: 4.3629 - val_acc: 0.1801\n",
            "Epoch 43/250\n",
            "178/178 [==============================] - 25s 140ms/step - loss: 2.6804 - acc: 0.2339 - val_loss: 4.1663 - val_acc: 0.1758\n",
            "Epoch 44/250\n",
            "178/178 [==============================] - 26s 143ms/step - loss: 2.6879 - acc: 0.2350 - val_loss: 4.3347 - val_acc: 0.1896\n",
            "Epoch 45/250\n",
            "178/178 [==============================] - 26s 142ms/step - loss: 2.6425 - acc: 0.2537 - val_loss: 4.4456 - val_acc: 0.1621\n",
            "Epoch 46/250\n",
            "178/178 [==============================] - 25s 138ms/step - loss: 2.6991 - acc: 0.2318 - val_loss: 4.1263 - val_acc: 0.1843\n",
            "Epoch 47/250\n",
            "178/178 [==============================] - 25s 139ms/step - loss: 2.6952 - acc: 0.2322 - val_loss: 4.2611 - val_acc: 0.1748\n",
            "Epoch 48/250\n",
            "178/178 [==============================] - 25s 139ms/step - loss: 2.6912 - acc: 0.2399 - val_loss: 4.2432 - val_acc: 0.1843\n",
            "Epoch 49/250\n",
            "178/178 [==============================] - 25s 136ms/step - loss: 2.6824 - acc: 0.2459 - val_loss: 4.0864 - val_acc: 0.1970\n",
            "Epoch 50/250\n",
            "178/178 [==============================] - 25s 136ms/step - loss: 2.6883 - acc: 0.2297 - val_loss: 4.2118 - val_acc: 0.1822\n",
            "Epoch 51/250\n",
            "178/178 [==============================] - 25s 140ms/step - loss: 2.6284 - acc: 0.2368 - val_loss: 4.5588 - val_acc: 0.1790\n",
            "Epoch 52/250\n",
            "178/178 [==============================] - 25s 139ms/step - loss: 2.6962 - acc: 0.2304 - val_loss: 4.2487 - val_acc: 0.1716\n",
            "Epoch 53/250\n",
            "178/178 [==============================] - 24s 135ms/step - loss: 2.7253 - acc: 0.2371 - val_loss: 4.1266 - val_acc: 0.1864\n",
            "Epoch 54/250\n",
            "178/178 [==============================] - 24s 135ms/step - loss: 2.6709 - acc: 0.2318 - val_loss: 4.3739 - val_acc: 0.1928\n",
            "Epoch 55/250\n",
            "178/178 [==============================] - 24s 135ms/step - loss: 2.7403 - acc: 0.2428 - val_loss: 4.5700 - val_acc: 0.1631\n",
            "Epoch 56/250\n",
            "178/178 [==============================] - 25s 136ms/step - loss: 2.6866 - acc: 0.2435 - val_loss: 4.1875 - val_acc: 0.1811\n",
            "Epoch 57/250\n",
            "178/178 [==============================] - 24s 135ms/step - loss: 2.7127 - acc: 0.2361 - val_loss: 4.2510 - val_acc: 0.1960\n",
            "Epoch 58/250\n",
            "178/178 [==============================] - 24s 134ms/step - loss: 2.6970 - acc: 0.2315 - val_loss: 4.0919 - val_acc: 0.1833\n",
            "Epoch 59/250\n",
            "178/178 [==============================] - 25s 136ms/step - loss: 2.6832 - acc: 0.2258 - val_loss: 4.3770 - val_acc: 0.1833\n",
            "Epoch 60/250\n",
            "178/178 [==============================] - 25s 139ms/step - loss: 2.7725 - acc: 0.2347 - val_loss: 4.1681 - val_acc: 0.1706\n",
            "Epoch 61/250\n",
            "178/178 [==============================] - 25s 140ms/step - loss: 2.6630 - acc: 0.2311 - val_loss: 4.2797 - val_acc: 0.1843\n",
            "Epoch 62/250\n",
            "178/178 [==============================] - 20s 109ms/step - loss: 2.7192 - acc: 0.2209 - val_loss: 4.3611 - val_acc: 0.1780\n",
            "Epoch 63/250\n",
            "178/178 [==============================] - 25s 137ms/step - loss: 2.8514 - acc: 0.2336 - val_loss: 4.3227 - val_acc: 0.1727\n",
            "Epoch 64/250\n",
            "178/178 [==============================] - 21s 113ms/step - loss: 2.6308 - acc: 0.2339 - val_loss: 4.1677 - val_acc: 0.1907\n",
            "Epoch 65/250\n",
            "178/178 [==============================] - 25s 139ms/step - loss: 2.6843 - acc: 0.2304 - val_loss: 4.4109 - val_acc: 0.1748\n",
            "Epoch 66/250\n",
            "178/178 [==============================] - 25s 140ms/step - loss: 2.7022 - acc: 0.2442 - val_loss: 4.2541 - val_acc: 0.1727\n",
            "Epoch 67/250\n",
            "178/178 [==============================] - 24s 133ms/step - loss: 2.6185 - acc: 0.2414 - val_loss: 4.4927 - val_acc: 0.1737\n",
            "Epoch 68/250\n",
            "178/178 [==============================] - 21s 114ms/step - loss: 2.6843 - acc: 0.2414 - val_loss: 4.3053 - val_acc: 0.1843\n",
            "Epoch 69/250\n",
            "178/178 [==============================] - 26s 145ms/step - loss: 2.7567 - acc: 0.2248 - val_loss: 4.1155 - val_acc: 0.1790\n",
            "Epoch 70/250\n",
            "178/178 [==============================] - 26s 141ms/step - loss: 2.7362 - acc: 0.2392 - val_loss: 4.3200 - val_acc: 0.1822\n",
            "Epoch 71/250\n",
            "178/178 [==============================] - 24s 134ms/step - loss: 2.6735 - acc: 0.2350 - val_loss: 4.2188 - val_acc: 0.1716\n",
            "Epoch 72/250\n",
            "178/178 [==============================] - 24s 134ms/step - loss: 2.7022 - acc: 0.2459 - val_loss: 4.3546 - val_acc: 0.1822\n",
            "Epoch 73/250\n",
            "178/178 [==============================] - 24s 134ms/step - loss: 2.6999 - acc: 0.2495 - val_loss: 4.1990 - val_acc: 0.1811\n",
            "Epoch 74/250\n",
            "178/178 [==============================] - 21s 113ms/step - loss: 2.6617 - acc: 0.2445 - val_loss: 4.4922 - val_acc: 0.1833\n",
            "Epoch 75/250\n",
            "178/178 [==============================] - 25s 138ms/step - loss: 2.6716 - acc: 0.2586 - val_loss: 4.2536 - val_acc: 0.1621\n",
            "Epoch 76/250\n",
            "178/178 [==============================] - 24s 134ms/step - loss: 2.6757 - acc: 0.2318 - val_loss: 4.2714 - val_acc: 0.1843\n",
            "Epoch 77/250\n",
            "178/178 [==============================] - 24s 133ms/step - loss: 2.7051 - acc: 0.2354 - val_loss: 4.3949 - val_acc: 0.1748\n",
            "Epoch 78/250\n",
            "178/178 [==============================] - 24s 133ms/step - loss: 2.7607 - acc: 0.2375 - val_loss: 4.4151 - val_acc: 0.1811\n",
            "Epoch 79/250\n",
            "178/178 [==============================] - 25s 136ms/step - loss: 2.7614 - acc: 0.2470 - val_loss: 4.3155 - val_acc: 0.1716\n",
            "Epoch 80/250\n",
            "178/178 [==============================] - 25s 140ms/step - loss: 2.7428 - acc: 0.2248 - val_loss: 4.3544 - val_acc: 0.1811\n",
            "Epoch 81/250\n",
            "178/178 [==============================] - 25s 136ms/step - loss: 2.7375 - acc: 0.2329 - val_loss: 4.3822 - val_acc: 0.1737\n",
            "Epoch 82/250\n",
            "178/178 [==============================] - 25s 136ms/step - loss: 2.6527 - acc: 0.2399 - val_loss: 4.2149 - val_acc: 0.1769\n",
            "Epoch 83/250\n",
            "178/178 [==============================] - 20s 111ms/step - loss: 2.6850 - acc: 0.2399 - val_loss: 4.4667 - val_acc: 0.1674\n",
            "Epoch 84/250\n",
            "178/178 [==============================] - 25s 141ms/step - loss: 2.7195 - acc: 0.2287 - val_loss: 4.3570 - val_acc: 0.1706\n",
            "Epoch 85/250\n",
            "178/178 [==============================] - 25s 137ms/step - loss: 2.6940 - acc: 0.2428 - val_loss: 4.5084 - val_acc: 0.1769\n",
            "Epoch 86/250\n",
            "178/178 [==============================] - 24s 134ms/step - loss: 2.7111 - acc: 0.2378 - val_loss: 4.4599 - val_acc: 0.1790\n",
            "Epoch 87/250\n",
            "178/178 [==============================] - 24s 135ms/step - loss: 2.7919 - acc: 0.2463 - val_loss: 4.4404 - val_acc: 0.1727\n",
            "Epoch 88/250\n",
            "178/178 [==============================] - 24s 134ms/step - loss: 2.6656 - acc: 0.2470 - val_loss: 4.5093 - val_acc: 0.1748\n",
            "Epoch 89/250\n",
            "178/178 [==============================] - 25s 137ms/step - loss: 2.7357 - acc: 0.2361 - val_loss: 4.5347 - val_acc: 0.1642\n",
            "Epoch 90/250\n",
            "178/178 [==============================] - 25s 140ms/step - loss: 2.7813 - acc: 0.2456 - val_loss: 4.4046 - val_acc: 0.1748\n",
            "Epoch 91/250\n",
            "178/178 [==============================] - 25s 137ms/step - loss: 2.7131 - acc: 0.2484 - val_loss: 4.3493 - val_acc: 0.1833\n",
            "Epoch 92/250\n",
            "178/178 [==============================] - 24s 134ms/step - loss: 2.6792 - acc: 0.2449 - val_loss: 4.6612 - val_acc: 0.1864\n",
            "Epoch 93/250\n",
            "178/178 [==============================] - 25s 136ms/step - loss: 2.7207 - acc: 0.2459 - val_loss: 4.4398 - val_acc: 0.1790\n",
            "Epoch 94/250\n",
            "178/178 [==============================] - 24s 134ms/step - loss: 2.6312 - acc: 0.2544 - val_loss: 4.5523 - val_acc: 0.1706\n",
            "Epoch 95/250\n",
            "178/178 [==============================] - 25s 137ms/step - loss: 2.7243 - acc: 0.2431 - val_loss: 4.6639 - val_acc: 0.1610\n",
            "Epoch 96/250\n",
            "178/178 [==============================] - 25s 138ms/step - loss: 2.8105 - acc: 0.2290 - val_loss: 4.7165 - val_acc: 0.1811\n",
            "Epoch 97/250\n",
            "178/178 [==============================] - 25s 138ms/step - loss: 2.7059 - acc: 0.2361 - val_loss: 4.6161 - val_acc: 0.1811\n",
            "Epoch 98/250\n",
            "178/178 [==============================] - 25s 137ms/step - loss: 2.7603 - acc: 0.2262 - val_loss: 4.3734 - val_acc: 0.1907\n",
            "Epoch 99/250\n",
            "178/178 [==============================] - 25s 137ms/step - loss: 2.8164 - acc: 0.2396 - val_loss: 4.2761 - val_acc: 0.1706\n",
            "Epoch 100/250\n",
            "178/178 [==============================] - 24s 135ms/step - loss: 2.7633 - acc: 0.2361 - val_loss: 4.3530 - val_acc: 0.1981\n",
            "Epoch 101/250\n",
            "178/178 [==============================] - 24s 134ms/step - loss: 2.7479 - acc: 0.2339 - val_loss: 4.4350 - val_acc: 0.1875\n",
            "Epoch 102/250\n",
            "178/178 [==============================] - 25s 140ms/step - loss: 2.6539 - acc: 0.2364 - val_loss: 4.3521 - val_acc: 0.1706\n",
            "Epoch 103/250\n",
            "178/178 [==============================] - 26s 142ms/step - loss: 2.6960 - acc: 0.2449 - val_loss: 4.5417 - val_acc: 0.1716\n",
            "Epoch 104/250\n",
            "178/178 [==============================] - 25s 139ms/step - loss: 2.7274 - acc: 0.2431 - val_loss: 4.2263 - val_acc: 0.1780\n",
            "Epoch 105/250\n",
            "178/178 [==============================] - 25s 138ms/step - loss: 2.8284 - acc: 0.2375 - val_loss: 4.4781 - val_acc: 0.1653\n",
            "Epoch 106/250\n",
            "178/178 [==============================] - 25s 136ms/step - loss: 2.7257 - acc: 0.2368 - val_loss: 4.7533 - val_acc: 0.1716\n",
            "Epoch 107/250\n",
            "178/178 [==============================] - 25s 136ms/step - loss: 2.7838 - acc: 0.2311 - val_loss: 4.3071 - val_acc: 0.1843\n",
            "Epoch 108/250\n",
            "178/178 [==============================] - 25s 137ms/step - loss: 2.7608 - acc: 0.2336 - val_loss: 4.3438 - val_acc: 0.1727\n",
            "Epoch 109/250\n",
            "178/178 [==============================] - 24s 135ms/step - loss: 2.6814 - acc: 0.2392 - val_loss: 4.3332 - val_acc: 0.1896\n",
            "Epoch 110/250\n",
            "178/178 [==============================] - 24s 134ms/step - loss: 2.7400 - acc: 0.2371 - val_loss: 4.3381 - val_acc: 0.1748\n",
            "Epoch 111/250\n",
            "178/178 [==============================] - 25s 139ms/step - loss: 2.6562 - acc: 0.2452 - val_loss: 4.5321 - val_acc: 0.1769\n",
            "Epoch 112/250\n",
            "178/178 [==============================] - 25s 141ms/step - loss: 2.7078 - acc: 0.2435 - val_loss: 4.4758 - val_acc: 0.1684\n",
            "Epoch 113/250\n",
            "178/178 [==============================] - 24s 135ms/step - loss: 2.7465 - acc: 0.2279 - val_loss: 4.5809 - val_acc: 0.1716\n",
            "Epoch 114/250\n",
            "178/178 [==============================] - 24s 135ms/step - loss: 2.7949 - acc: 0.2417 - val_loss: 4.4397 - val_acc: 0.1695\n",
            "Epoch 115/250\n",
            "178/178 [==============================] - 24s 134ms/step - loss: 2.8481 - acc: 0.2339 - val_loss: 4.4313 - val_acc: 0.1748\n",
            "Epoch 116/250\n",
            "178/178 [==============================] - 24s 134ms/step - loss: 2.7637 - acc: 0.2368 - val_loss: 4.6091 - val_acc: 0.1727\n",
            "Epoch 117/250\n",
            "178/178 [==============================] - 24s 134ms/step - loss: 2.6942 - acc: 0.2296 - val_loss: 4.8464 - val_acc: 0.1674\n",
            "Epoch 118/250\n",
            "178/178 [==============================] - 24s 133ms/step - loss: 2.6985 - acc: 0.2343 - val_loss: 4.6626 - val_acc: 0.1684\n",
            "Epoch 119/250\n",
            "178/178 [==============================] - 24s 134ms/step - loss: 2.7569 - acc: 0.2385 - val_loss: 4.7674 - val_acc: 0.1748\n",
            "Epoch 120/250\n",
            "178/178 [==============================] - 24s 134ms/step - loss: 2.6994 - acc: 0.2470 - val_loss: 4.5899 - val_acc: 0.1716\n",
            "Epoch 121/250\n",
            "178/178 [==============================] - 24s 134ms/step - loss: 2.7217 - acc: 0.2438 - val_loss: 4.5323 - val_acc: 0.1621\n",
            "Epoch 122/250\n",
            "178/178 [==============================] - 25s 137ms/step - loss: 2.6412 - acc: 0.2428 - val_loss: 4.6951 - val_acc: 0.1653\n",
            "Epoch 123/250\n",
            "178/178 [==============================] - 26s 141ms/step - loss: 2.7774 - acc: 0.2364 - val_loss: 4.5435 - val_acc: 0.1674\n",
            "Epoch 124/250\n",
            "178/178 [==============================] - 25s 138ms/step - loss: 2.8166 - acc: 0.2347 - val_loss: 4.4233 - val_acc: 0.1610\n",
            "Epoch 125/250\n",
            "178/178 [==============================] - 25s 137ms/step - loss: 2.6704 - acc: 0.2385 - val_loss: 4.6498 - val_acc: 0.1822\n",
            "Epoch 126/250\n",
            "178/178 [==============================] - 24s 134ms/step - loss: 2.7366 - acc: 0.2435 - val_loss: 4.6374 - val_acc: 0.1663\n",
            "Epoch 127/250\n",
            "178/178 [==============================] - 24s 133ms/step - loss: 2.7768 - acc: 0.2452 - val_loss: 4.6908 - val_acc: 0.1653\n",
            "Epoch 128/250\n",
            "178/178 [==============================] - 24s 134ms/step - loss: 2.7337 - acc: 0.2322 - val_loss: 4.6887 - val_acc: 0.1706\n",
            "Epoch 129/250\n",
            "178/178 [==============================] - 25s 139ms/step - loss: 2.7891 - acc: 0.2350 - val_loss: 4.5712 - val_acc: 0.1758\n",
            "Epoch 130/250\n",
            "178/178 [==============================] - 25s 140ms/step - loss: 2.7932 - acc: 0.2315 - val_loss: 4.5100 - val_acc: 0.1684\n",
            "Epoch 131/250\n",
            "178/178 [==============================] - 25s 137ms/step - loss: 2.7373 - acc: 0.2347 - val_loss: 4.5268 - val_acc: 0.1621\n",
            "Epoch 132/250\n",
            "178/178 [==============================] - 24s 135ms/step - loss: 2.7356 - acc: 0.2410 - val_loss: 4.6297 - val_acc: 0.1822\n",
            "Epoch 133/250\n",
            "178/178 [==============================] - 20s 109ms/step - loss: 2.7665 - acc: 0.2297 - val_loss: 4.9070 - val_acc: 0.1748\n",
            "Epoch 134/250\n",
            "178/178 [==============================] - 25s 139ms/step - loss: 2.7934 - acc: 0.2375 - val_loss: 4.6932 - val_acc: 0.1600\n",
            "Epoch 135/250\n",
            "178/178 [==============================] - 24s 135ms/step - loss: 2.7664 - acc: 0.2431 - val_loss: 4.7686 - val_acc: 0.1706\n",
            "Epoch 136/250\n",
            "178/178 [==============================] - 24s 134ms/step - loss: 2.6696 - acc: 0.2428 - val_loss: 4.7023 - val_acc: 0.1589\n",
            "Epoch 137/250\n",
            "178/178 [==============================] - 24s 134ms/step - loss: 2.7211 - acc: 0.2414 - val_loss: 4.8189 - val_acc: 0.1642\n",
            "Epoch 138/250\n",
            "178/178 [==============================] - 25s 134ms/step - loss: 2.8210 - acc: 0.2399 - val_loss: 4.6328 - val_acc: 0.1748\n",
            "Epoch 139/250\n",
            "178/178 [==============================] - 26s 140ms/step - loss: 2.7441 - acc: 0.2410 - val_loss: 4.6430 - val_acc: 0.1610\n",
            "Epoch 140/250\n",
            "178/178 [==============================] - 25s 139ms/step - loss: 2.7463 - acc: 0.2438 - val_loss: 4.7166 - val_acc: 0.1642\n",
            "Epoch 141/250\n",
            "178/178 [==============================] - 25s 135ms/step - loss: 2.8455 - acc: 0.2378 - val_loss: 4.7508 - val_acc: 0.1547\n",
            "Epoch 142/250\n",
            "178/178 [==============================] - 24s 135ms/step - loss: 2.7979 - acc: 0.2237 - val_loss: 4.3926 - val_acc: 0.1917\n",
            "Epoch 143/250\n",
            "178/178 [==============================] - 25s 135ms/step - loss: 2.7131 - acc: 0.2364 - val_loss: 4.5685 - val_acc: 0.1631\n",
            "Epoch 144/250\n",
            "178/178 [==============================] - 24s 135ms/step - loss: 2.8114 - acc: 0.2474 - val_loss: 4.6062 - val_acc: 0.1642\n",
            "Epoch 145/250\n",
            "178/178 [==============================] - 25s 136ms/step - loss: 2.7499 - acc: 0.2466 - val_loss: 4.4054 - val_acc: 0.1748\n",
            "Epoch 146/250\n",
            "178/178 [==============================] - 24s 134ms/step - loss: 2.7791 - acc: 0.2382 - val_loss: 4.5656 - val_acc: 0.1706\n",
            "Epoch 147/250\n",
            "178/178 [==============================] - 25s 135ms/step - loss: 2.8266 - acc: 0.2350 - val_loss: 4.4012 - val_acc: 0.1907\n",
            "Epoch 148/250\n",
            "178/178 [==============================] - 25s 140ms/step - loss: 2.7499 - acc: 0.2428 - val_loss: 4.6333 - val_acc: 0.1843\n",
            "Epoch 149/250\n",
            "178/178 [==============================] - 25s 138ms/step - loss: 2.7715 - acc: 0.2364 - val_loss: 4.6033 - val_acc: 0.1758\n",
            "Epoch 150/250\n",
            "178/178 [==============================] - 24s 135ms/step - loss: 2.8316 - acc: 0.2361 - val_loss: 4.4433 - val_acc: 0.1928\n",
            "Epoch 151/250\n",
            "178/178 [==============================] - 24s 134ms/step - loss: 2.7756 - acc: 0.2262 - val_loss: 4.5346 - val_acc: 0.1917\n",
            "Epoch 152/250\n",
            "178/178 [==============================] - 24s 134ms/step - loss: 2.7972 - acc: 0.2294 - val_loss: 4.6056 - val_acc: 0.1769\n",
            "Epoch 153/250\n",
            "178/178 [==============================] - 25s 135ms/step - loss: 2.8019 - acc: 0.2304 - val_loss: 4.4485 - val_acc: 0.1864\n",
            "Epoch 154/250\n",
            "178/178 [==============================] - 25s 138ms/step - loss: 2.8117 - acc: 0.2339 - val_loss: 4.4543 - val_acc: 0.1992\n",
            "Epoch 155/250\n",
            "178/178 [==============================] - 21s 113ms/step - loss: 2.8083 - acc: 0.2406 - val_loss: 4.6032 - val_acc: 0.1928\n",
            "Epoch 156/250\n",
            "178/178 [==============================] - 25s 139ms/step - loss: 2.7951 - acc: 0.2389 - val_loss: 4.7130 - val_acc: 0.1939\n",
            "Epoch 157/250\n",
            "178/178 [==============================] - 25s 136ms/step - loss: 2.8002 - acc: 0.2414 - val_loss: 4.5303 - val_acc: 0.1875\n",
            "Epoch 158/250\n",
            "178/178 [==============================] - 20s 111ms/step - loss: 2.7986 - acc: 0.2442 - val_loss: 4.5241 - val_acc: 0.1896\n",
            "Epoch 159/250\n",
            "178/178 [==============================] - 25s 140ms/step - loss: 2.7974 - acc: 0.2269 - val_loss: 4.5023 - val_acc: 0.1811\n",
            "Epoch 160/250\n",
            "178/178 [==============================] - 25s 141ms/step - loss: 2.7536 - acc: 0.2417 - val_loss: 4.6121 - val_acc: 0.1917\n",
            "Epoch 161/250\n",
            "178/178 [==============================] - 25s 135ms/step - loss: 2.7891 - acc: 0.2421 - val_loss: 4.6730 - val_acc: 0.1928\n",
            "Epoch 162/250\n",
            "178/178 [==============================] - 25s 136ms/step - loss: 2.7393 - acc: 0.2519 - val_loss: 4.4344 - val_acc: 0.1928\n",
            "Epoch 163/250\n",
            "178/178 [==============================] - 24s 134ms/step - loss: 2.7929 - acc: 0.2410 - val_loss: 4.3506 - val_acc: 0.1822\n",
            "Epoch 164/250\n",
            "178/178 [==============================] - 25s 137ms/step - loss: 2.7868 - acc: 0.2421 - val_loss: 4.5744 - val_acc: 0.1769\n",
            "Epoch 165/250\n",
            "178/178 [==============================] - 25s 137ms/step - loss: 2.8302 - acc: 0.2389 - val_loss: 4.8001 - val_acc: 0.1578\n",
            "Epoch 166/250\n",
            "178/178 [==============================] - 25s 140ms/step - loss: 2.7468 - acc: 0.2470 - val_loss: 4.7674 - val_acc: 0.1780\n",
            "Epoch 167/250\n",
            "178/178 [==============================] - 25s 137ms/step - loss: 2.8604 - acc: 0.2311 - val_loss: 4.5454 - val_acc: 0.2013\n",
            "Epoch 168/250\n",
            "178/178 [==============================] - 25s 136ms/step - loss: 2.8454 - acc: 0.2350 - val_loss: 4.8448 - val_acc: 0.1748\n",
            "Epoch 169/250\n",
            "178/178 [==============================] - 21s 114ms/step - loss: 2.7804 - acc: 0.2364 - val_loss: 4.6157 - val_acc: 0.1811\n",
            "Epoch 170/250\n",
            "178/178 [==============================] - 26s 141ms/step - loss: 2.8966 - acc: 0.2310 - val_loss: 4.4727 - val_acc: 0.1801\n",
            "Epoch 171/250\n",
            "178/178 [==============================] - 25s 139ms/step - loss: 2.8305 - acc: 0.2445 - val_loss: 4.6332 - val_acc: 0.1928\n",
            "Epoch 172/250\n",
            "178/178 [==============================] - 25s 136ms/step - loss: 2.8463 - acc: 0.2272 - val_loss: 4.5783 - val_acc: 0.1843\n",
            "Epoch 173/250\n",
            "178/178 [==============================] - 25s 136ms/step - loss: 2.8581 - acc: 0.2385 - val_loss: 4.6815 - val_acc: 0.1684\n",
            "Epoch 174/250\n",
            "178/178 [==============================] - 20s 110ms/step - loss: 2.8596 - acc: 0.2255 - val_loss: 4.8173 - val_acc: 0.1684\n",
            "Epoch 175/250\n",
            "178/178 [==============================] - 25s 139ms/step - loss: 2.8046 - acc: 0.2315 - val_loss: 4.6777 - val_acc: 0.1843\n",
            "Epoch 176/250\n",
            "178/178 [==============================] - 24s 133ms/step - loss: 2.7932 - acc: 0.2474 - val_loss: 4.5711 - val_acc: 0.1706\n",
            "Epoch 177/250\n",
            "178/178 [==============================] - 24s 135ms/step - loss: 2.8101 - acc: 0.2399 - val_loss: 4.9538 - val_acc: 0.1663\n",
            "Epoch 178/250\n",
            "178/178 [==============================] - 24s 134ms/step - loss: 2.7667 - acc: 0.2470 - val_loss: 4.8440 - val_acc: 0.1653\n",
            "Epoch 179/250\n",
            "178/178 [==============================] - 24s 134ms/step - loss: 2.7759 - acc: 0.2466 - val_loss: 4.6880 - val_acc: 0.1727\n",
            "Epoch 180/250\n",
            "178/178 [==============================] - 25s 139ms/step - loss: 2.8530 - acc: 0.2410 - val_loss: 4.8329 - val_acc: 0.1780\n",
            "Epoch 181/250\n",
            "178/178 [==============================] - 25s 139ms/step - loss: 2.8787 - acc: 0.2428 - val_loss: 4.7160 - val_acc: 0.1875\n",
            "Epoch 182/250\n",
            "178/178 [==============================] - 24s 134ms/step - loss: 2.7649 - acc: 0.2481 - val_loss: 4.7208 - val_acc: 0.1886\n",
            "Epoch 183/250\n",
            "178/178 [==============================] - 24s 135ms/step - loss: 2.6971 - acc: 0.2488 - val_loss: 4.6237 - val_acc: 0.1907\n",
            "Epoch 184/250\n",
            "178/178 [==============================] - 25s 137ms/step - loss: 2.8131 - acc: 0.2565 - val_loss: 4.9002 - val_acc: 0.1642\n",
            "Epoch 185/250\n",
            "178/178 [==============================] - 25s 136ms/step - loss: 2.8453 - acc: 0.2431 - val_loss: 4.7377 - val_acc: 0.1600\n",
            "Epoch 186/250\n",
            "178/178 [==============================] - 25s 139ms/step - loss: 2.8522 - acc: 0.2414 - val_loss: 4.9316 - val_acc: 0.1642\n",
            "Epoch 187/250\n",
            "178/178 [==============================] - 25s 141ms/step - loss: 2.8105 - acc: 0.2276 - val_loss: 4.7523 - val_acc: 0.1790\n",
            "Epoch 188/250\n",
            "178/178 [==============================] - 25s 138ms/step - loss: 2.7899 - acc: 0.2396 - val_loss: 4.8218 - val_acc: 0.1843\n",
            "Epoch 189/250\n",
            "178/178 [==============================] - 25s 135ms/step - loss: 2.8110 - acc: 0.2290 - val_loss: 4.8184 - val_acc: 0.1748\n",
            "Epoch 190/250\n",
            "178/178 [==============================] - 25s 137ms/step - loss: 2.7916 - acc: 0.2332 - val_loss: 5.0154 - val_acc: 0.1896\n",
            "Epoch 191/250\n",
            "178/178 [==============================] - 24s 134ms/step - loss: 2.8197 - acc: 0.2406 - val_loss: 4.8542 - val_acc: 0.1780\n",
            "Epoch 192/250\n",
            "178/178 [==============================] - 25s 135ms/step - loss: 2.8668 - acc: 0.2343 - val_loss: 4.7499 - val_acc: 0.1907\n",
            "Epoch 193/250\n",
            "178/178 [==============================] - 26s 142ms/step - loss: 2.8008 - acc: 0.2371 - val_loss: 4.8542 - val_acc: 0.1896\n",
            "Epoch 194/250\n",
            "178/178 [==============================] - 26s 141ms/step - loss: 2.8272 - acc: 0.2339 - val_loss: 5.2144 - val_acc: 0.1695\n",
            "Epoch 195/250\n",
            "178/178 [==============================] - 25s 138ms/step - loss: 2.8024 - acc: 0.2357 - val_loss: 5.0917 - val_acc: 0.1684\n",
            "Epoch 196/250\n",
            "178/178 [==============================] - 25s 140ms/step - loss: 2.8581 - acc: 0.2484 - val_loss: 4.7891 - val_acc: 0.1706\n",
            "Epoch 197/250\n",
            "178/178 [==============================] - 25s 139ms/step - loss: 2.8207 - acc: 0.2526 - val_loss: 4.9827 - val_acc: 0.1674\n",
            "Epoch 198/250\n",
            "178/178 [==============================] - 24s 134ms/step - loss: 2.8029 - acc: 0.2541 - val_loss: 4.9418 - val_acc: 0.1684\n",
            "Epoch 199/250\n",
            "178/178 [==============================] - 24s 134ms/step - loss: 2.7288 - acc: 0.2498 - val_loss: 4.8652 - val_acc: 0.1547\n",
            "Epoch 200/250\n",
            "178/178 [==============================] - 25s 138ms/step - loss: 2.8477 - acc: 0.2385 - val_loss: 4.6929 - val_acc: 0.1917\n",
            "Epoch 201/250\n",
            "178/178 [==============================] - 25s 140ms/step - loss: 2.8613 - acc: 0.2438 - val_loss: 4.7184 - val_acc: 0.1822\n",
            "Epoch 202/250\n",
            "178/178 [==============================] - 20s 110ms/step - loss: 2.8308 - acc: 0.2498 - val_loss: 4.6986 - val_acc: 0.1631\n",
            "Epoch 203/250\n",
            "178/178 [==============================] - 25s 136ms/step - loss: 2.8819 - acc: 0.2361 - val_loss: 4.9885 - val_acc: 0.1769\n",
            "Epoch 204/250\n",
            "178/178 [==============================] - 25s 138ms/step - loss: 2.7892 - acc: 0.2368 - val_loss: 4.9069 - val_acc: 0.1631\n",
            "Epoch 205/250\n",
            "178/178 [==============================] - 25s 139ms/step - loss: 2.7928 - acc: 0.2481 - val_loss: 4.6587 - val_acc: 0.1886\n",
            "Epoch 206/250\n",
            "178/178 [==============================] - 24s 135ms/step - loss: 2.8340 - acc: 0.2431 - val_loss: 4.8970 - val_acc: 0.1780\n",
            "Epoch 207/250\n",
            "178/178 [==============================] - 24s 135ms/step - loss: 2.8476 - acc: 0.2177 - val_loss: 4.8996 - val_acc: 0.1780\n",
            "Epoch 208/250\n",
            "178/178 [==============================] - 24s 133ms/step - loss: 2.8027 - acc: 0.2452 - val_loss: 4.8346 - val_acc: 0.1907\n",
            "Epoch 209/250\n",
            "178/178 [==============================] - 25s 136ms/step - loss: 2.8437 - acc: 0.2470 - val_loss: 4.9095 - val_acc: 0.1917\n",
            "Epoch 210/250\n",
            "178/178 [==============================] - 25s 138ms/step - loss: 2.9084 - acc: 0.2354 - val_loss: 4.6672 - val_acc: 0.1833\n",
            "Epoch 211/250\n",
            "178/178 [==============================] - 25s 137ms/step - loss: 2.8333 - acc: 0.2392 - val_loss: 4.8088 - val_acc: 0.1653\n",
            "Epoch 212/250\n",
            "178/178 [==============================] - 20s 109ms/step - loss: 2.8379 - acc: 0.2354 - val_loss: 4.9110 - val_acc: 0.1769\n",
            "Epoch 213/250\n",
            "178/178 [==============================] - 25s 137ms/step - loss: 2.8923 - acc: 0.2417 - val_loss: 4.8142 - val_acc: 0.1992\n",
            "Epoch 214/250\n",
            "178/178 [==============================] - 25s 139ms/step - loss: 2.8516 - acc: 0.2537 - val_loss: 4.8352 - val_acc: 0.1769\n",
            "Epoch 215/250\n",
            "178/178 [==============================] - 20s 111ms/step - loss: 2.8185 - acc: 0.2445 - val_loss: 4.9399 - val_acc: 0.1780\n",
            "Epoch 216/250\n",
            "178/178 [==============================] - 25s 134ms/step - loss: 2.8287 - acc: 0.2361 - val_loss: 4.7794 - val_acc: 0.1854\n",
            "Epoch 217/250\n",
            "178/178 [==============================] - 25s 137ms/step - loss: 2.9047 - acc: 0.2361 - val_loss: 4.9690 - val_acc: 0.1653\n",
            "Epoch 218/250\n",
            "178/178 [==============================] - 25s 139ms/step - loss: 2.7579 - acc: 0.2456 - val_loss: 5.1558 - val_acc: 0.1737\n",
            "Epoch 219/250\n",
            "178/178 [==============================] - 24s 134ms/step - loss: 2.8257 - acc: 0.2428 - val_loss: 5.0626 - val_acc: 0.1811\n",
            "Epoch 220/250\n",
            "178/178 [==============================] - 24s 134ms/step - loss: 2.8061 - acc: 0.2445 - val_loss: 4.9506 - val_acc: 0.1695\n",
            "Epoch 221/250\n",
            "178/178 [==============================] - 24s 133ms/step - loss: 2.8014 - acc: 0.2350 - val_loss: 4.9787 - val_acc: 0.1801\n",
            "Epoch 222/250\n",
            "178/178 [==============================] - 25s 137ms/step - loss: 2.7735 - acc: 0.2392 - val_loss: 4.9436 - val_acc: 0.1716\n",
            "Epoch 223/250\n",
            "178/178 [==============================] - 25s 137ms/step - loss: 2.8267 - acc: 0.2470 - val_loss: 4.9657 - val_acc: 0.1727\n",
            "Epoch 224/250\n",
            "178/178 [==============================] - 25s 137ms/step - loss: 2.9320 - acc: 0.2368 - val_loss: 4.7055 - val_acc: 0.1928\n",
            "Epoch 225/250\n",
            "178/178 [==============================] - 24s 135ms/step - loss: 2.7941 - acc: 0.2378 - val_loss: 5.1272 - val_acc: 0.1642\n",
            "Epoch 226/250\n",
            "178/178 [==============================] - 24s 135ms/step - loss: 2.8871 - acc: 0.2325 - val_loss: 4.6404 - val_acc: 0.1822\n",
            "Epoch 227/250\n",
            "178/178 [==============================] - 24s 134ms/step - loss: 2.8416 - acc: 0.2392 - val_loss: 4.8922 - val_acc: 0.1716\n",
            "Epoch 228/250\n",
            "178/178 [==============================] - 24s 133ms/step - loss: 2.8056 - acc: 0.2350 - val_loss: 4.8687 - val_acc: 0.1801\n",
            "Epoch 229/250\n",
            "178/178 [==============================] - 24s 135ms/step - loss: 2.8094 - acc: 0.2343 - val_loss: 4.7780 - val_acc: 0.1758\n",
            "Epoch 230/250\n",
            "178/178 [==============================] - 24s 134ms/step - loss: 2.8430 - acc: 0.2477 - val_loss: 4.9094 - val_acc: 0.1875\n",
            "Epoch 231/250\n",
            "178/178 [==============================] - 24s 135ms/step - loss: 2.8473 - acc: 0.2396 - val_loss: 5.0365 - val_acc: 0.1631\n",
            "Epoch 232/250\n",
            "178/178 [==============================] - 25s 135ms/step - loss: 2.9024 - acc: 0.2290 - val_loss: 4.8241 - val_acc: 0.1674\n",
            "Epoch 233/250\n",
            "178/178 [==============================] - 24s 134ms/step - loss: 2.9074 - acc: 0.2414 - val_loss: 4.7580 - val_acc: 0.1758\n",
            "Epoch 234/250\n",
            "178/178 [==============================] - 25s 138ms/step - loss: 2.8824 - acc: 0.2428 - val_loss: 4.7397 - val_acc: 0.1790\n",
            "Epoch 235/250\n",
            "178/178 [==============================] - 25s 140ms/step - loss: 2.9316 - acc: 0.2357 - val_loss: 4.8504 - val_acc: 0.1769\n",
            "Epoch 236/250\n",
            "178/178 [==============================] - 25s 136ms/step - loss: 2.8402 - acc: 0.2442 - val_loss: 4.9806 - val_acc: 0.1854\n",
            "Epoch 237/250\n",
            "178/178 [==============================] - 20s 112ms/step - loss: 2.8589 - acc: 0.2445 - val_loss: 4.6873 - val_acc: 0.1833\n",
            "Epoch 238/250\n",
            "178/178 [==============================] - 25s 139ms/step - loss: 2.9231 - acc: 0.2354 - val_loss: 5.0563 - val_acc: 0.1864\n",
            "Epoch 239/250\n",
            "178/178 [==============================] - 25s 139ms/step - loss: 2.8711 - acc: 0.2474 - val_loss: 4.9258 - val_acc: 0.1748\n",
            "Epoch 240/250\n",
            "178/178 [==============================] - 25s 136ms/step - loss: 2.7936 - acc: 0.2442 - val_loss: 4.9254 - val_acc: 0.1780\n",
            "Epoch 241/250\n",
            "178/178 [==============================] - 25s 136ms/step - loss: 2.9449 - acc: 0.2304 - val_loss: 4.7760 - val_acc: 0.1875\n",
            "Epoch 242/250\n",
            "178/178 [==============================] - 25s 135ms/step - loss: 2.8326 - acc: 0.2399 - val_loss: 5.0461 - val_acc: 0.1748\n",
            "Epoch 243/250\n",
            "178/178 [==============================] - 24s 134ms/step - loss: 2.9608 - acc: 0.2392 - val_loss: 4.7636 - val_acc: 0.1631\n",
            "Epoch 244/250\n",
            "178/178 [==============================] - 25s 138ms/step - loss: 2.8383 - acc: 0.2431 - val_loss: 4.6405 - val_acc: 0.1642\n",
            "Epoch 245/250\n",
            "178/178 [==============================] - 25s 139ms/step - loss: 2.9826 - acc: 0.2470 - val_loss: 4.7001 - val_acc: 0.1939\n",
            "Epoch 246/250\n",
            "178/178 [==============================] - 25s 138ms/step - loss: 2.8590 - acc: 0.2431 - val_loss: 4.9786 - val_acc: 0.1875\n",
            "Epoch 247/250\n",
            "178/178 [==============================] - 24s 134ms/step - loss: 2.9179 - acc: 0.2435 - val_loss: 4.7190 - val_acc: 0.1886\n",
            "Epoch 248/250\n",
            "178/178 [==============================] - 24s 135ms/step - loss: 2.8847 - acc: 0.2294 - val_loss: 4.8479 - val_acc: 0.1801\n",
            "Epoch 249/250\n",
            "178/178 [==============================] - 24s 134ms/step - loss: 2.8717 - acc: 0.2438 - val_loss: 5.1508 - val_acc: 0.1684\n",
            "Epoch 250/250\n",
            "178/178 [==============================] - 25s 135ms/step - loss: 2.8970 - acc: 0.2406 - val_loss: 4.9209 - val_acc: 0.1854\n"
          ]
        }
      ],
      "source": [
        "history = model.fit_generator(\n",
        "      train_generator,\n",
        "      steps_per_epoch= NUM_TRAIN //batch_size,\n",
        "      epochs=epochs,\n",
        "      validation_data=validation_generator,\n",
        "      validation_steps= NUM_TEST //batch_size,\n",
        "      verbose=1,\n",
        "      use_multiprocessing=True,\n",
        "      workers=4)"
      ]
    },
    {
      "cell_type": "code",
      "execution_count": 17,
      "metadata": {
        "id": "Y3K89-CM-dfg",
        "colab": {
          "base_uri": "https://localhost:8080/",
          "height": 545
        },
        "outputId": "00110f9f-18e6-4b49-b786-f6fa08cf713c"
      },
      "outputs": [
        {
          "output_type": "display_data",
          "data": {
            "text/plain": [
              "<Figure size 432x288 with 1 Axes>"
            ],
            "image/png": "[encoded data removed]"
          },
          "metadata": {
            "needs_background": "light"
          }
        },
        {
          "output_type": "display_data",
          "data": {
            "text/plain": [
              "<Figure size 432x288 with 1 Axes>"
            ],
            "image/png": "[encoded data removed]"
          },
          "metadata": {
            "needs_background": "light"
          }
        }
      ],
      "source": [
        "acc = history.history['acc']\n",
        "val_acc = history.history['val_acc']\n",
        "loss = history.history['loss']\n",
        "val_loss = history.history['val_loss']\n",
        "\n",
        "epochs_x = range(len(acc))\n",
        "\n",
        "plt.plot(epochs_x, acc, 'ro', label='Training acc')\n",
        "plt.plot(epochs_x, val_acc, 'k', label='Validation acc')\n",
        "plt.title('Training and validation accuracy')\n",
        "plt.legend()\n",
        "\n",
        "plt.figure()\n",
        "\n",
        "plt.plot(epochs_x, loss, 'ro', label='Training loss')\n",
        "plt.plot(epochs_x, val_loss, 'k', label='Validation loss')\n",
        "plt.title('Training and validation loss')\n",
        "plt.legend()\n",
        "\n",
        "plt.show()"
      ]
    },
    {
      "cell_type": "markdown",
      "metadata": {
        "id": "R19IJQSYoW7J"
      },
      "source": [
        "#Download the model\n"
      ]
    },
    {
      "cell_type": "code",
      "execution_count": 18,
      "metadata": {
        "id": "Zed4TdFcG2iJ"
      },
      "outputs": [],
      "source": [
        "os.makedirs('/content/drive/My Drive/cut_panoramic/Model', exist_ok=True)\n",
        "model.save('/content/drive/MyDrive/cut_panoramic/Model/Classification/All_Age/AC3_AllAge_Unfreeze_500.h5')"
      ]
    },
    {
      "cell_type": "code",
      "execution_count": 19,
      "metadata": {
        "id": "P5eMxm1NV-oY",
        "colab": {
          "base_uri": "https://localhost:8080/",
          "height": 17
        },
        "outputId": "aa2fbaf6-41bd-4bd5-d11e-e5723963ac87"
      },
      "outputs": [
        {
          "output_type": "display_data",
          "data": {
            "text/plain": [
              "<IPython.core.display.Javascript object>"
            ],
            "application/javascript": [
              "\n",
              "    async function download(id, filename, size) {\n",
              "      if (!google.colab.kernel.accessAllowed) {\n",
              "        return;\n",
              "      }\n",
              "      const div = document.createElement('div');\n",
              "      const label = document.createElement('label');\n",
              "      label.textContent = `Downloading \"${filename}\": `;\n",
              "      div.appendChild(label);\n",
              "      const progress = document.createElement('progress');\n",
              "      progress.max = size;\n",
              "      div.appendChild(progress);\n",
              "      document.body.appendChild(div);\n",
              "\n",
              "      const buffers = [];\n",
              "      let downloaded = 0;\n",
              "\n",
              "      const channel = await google.colab.kernel.comms.open(id);\n",
              "      // Send a message to notify the kernel that we're ready.\n",
              "      channel.send({})\n",
              "\n",
              "      for await (const message of channel.messages) {\n",
              "        // Send a message to notify the kernel that we're ready.\n",
              "        channel.send({})\n",
              "        if (message.buffers) {\n",
              "          for (const buffer of message.buffers) {\n",
              "            buffers.push(buffer);\n",
              "            downloaded += buffer.byteLength;\n",
              "            progress.value = downloaded;\n",
              "          }\n",
              "        }\n",
              "      }\n",
              "      const blob = new Blob(buffers, {type: 'application/binary'});\n",
              "      const a = document.createElement('a');\n",
              "      a.href = window.URL.createObjectURL(blob);\n",
              "      a.download = filename;\n",
              "      div.appendChild(a);\n",
              "      a.click();\n",
              "      div.remove();\n",
              "    }\n",
              "  "
            ]
          },
          "metadata": {}
        },
        {
          "output_type": "display_data",
          "data": {
            "text/plain": [
              "<IPython.core.display.Javascript object>"
            ],
            "application/javascript": [
              "download(\"download_54e42003-50d2-44ec-93b5-654ba2294e28\", \"AC3_AllAge_Unfreeze_500.h5\", 16778608)"
            ]
          },
          "metadata": {}
        }
      ],
      "source": [
        "from google.colab import files\n",
        "files.download('/content/drive/MyDrive/cut_panoramic/Model/Classification/All_Age/AC3_AllAge_Unfreeze_500.h5')"
      ]
    },
    {
      "cell_type": "code",
      "execution_count": null,
      "metadata": {
        "id": "xlsuaFIUVriv"
      },
      "outputs": [],
      "source": []
    }
  ],
  "metadata": {
    "colab": {
      "provenance": [],
      "machine_shape": "hm",
      "include_colab_link": true
    },
    "kernelspec": {
      "display_name": "Python 3",
      "name": "python3"
    },
    "language_info": {
      "name": "python"
    },
    "accelerator": "GPU",
    "gpuClass": "standard"
  },
  "nbformat": 4,
  "nbformat_minor": 0
}