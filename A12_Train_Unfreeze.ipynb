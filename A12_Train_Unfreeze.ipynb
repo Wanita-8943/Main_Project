{
  "nbformat": 4,
  "nbformat_minor": 0,
  "metadata": {
    "colab": {
      "provenance": [],
      "machine_shape": "hm",
      "include_colab_link": true
    },
    "kernelspec": {
      "name": "python3",
      "display_name": "Python 3"
    },
    "language_info": {
      "name": "python"
    },
    "accelerator": "GPU",
    "gpuClass": "premium"
  },
  "cells": [
    {
      "cell_type": "markdown",
      "metadata": {
        "id": "view-in-github",
        "colab_type": "text"
      },
      "source": [
        "<a href=\"https://colab.research.google.com/github/Wanita-8943/Main_Project/blob/main/A12_Train_Unfreeze.ipynb\" target=\"_parent\"><img src=\"https://colab.research.google.com/assets/colab-badge.svg\" alt=\"Open In Colab\"/></a>"
      ]
    },
    {
      "cell_type": "markdown",
      "source": [
        "#เรียกใช้ CSV"
      ],
      "metadata": {
        "id": "ow7eWoNw6U-c"
      }
    },
    {
      "cell_type": "code",
      "execution_count": 1,
      "metadata": {
        "id": "z8o_VVNXzcL8"
      },
      "outputs": [],
      "source": [
        "import pandas as pd\n",
        "import shutil"
      ]
    },
    {
      "cell_type": "code",
      "source": [
        "from google.colab import drive\n",
        "drive.mount('/content/drive')"
      ],
      "metadata": {
        "colab": {
          "base_uri": "https://localhost:8080/"
        },
        "id": "1_2Fe8u81d5r",
        "outputId": "44f8c620-151f-4f67-ff06-e76eec4e53ee"
      },
      "execution_count": 2,
      "outputs": [
        {
          "output_type": "stream",
          "name": "stdout",
          "text": [
            "Mounted at /content/drive\n"
          ]
        }
      ]
    },
    {
      "cell_type": "markdown",
      "source": [
        "#Imports"
      ],
      "metadata": {
        "id": "5qxePnnn7TGW"
      }
    },
    {
      "cell_type": "code",
      "source": [
        "from tensorflow.keras import models\n",
        "from tensorflow.keras import layers\n",
        "from tensorflow.keras import optimizers\n",
        "import os\n",
        "import glob\n",
        "import shutil\n",
        "import sys\n",
        "import numpy as np\n",
        "from skimage.io import imread\n",
        "import matplotlib.pyplot as plt\n",
        "from IPython.display import Image\n",
        "%matplotlib inline"
      ],
      "metadata": {
        "id": "D-hCRloc3t39"
      },
      "execution_count": 3,
      "outputs": []
    },
    {
      "cell_type": "code",
      "source": [
        "import tensorflow as tf\n",
        "from tensorflow.keras import Sequential\n",
        "from tensorflow.keras.layers import Dense\n",
        "from tensorflow.keras.optimizers import Adam\n",
        "from tensorflow.keras import backend as K"
      ],
      "metadata": {
        "id": "YZWXwjXeGxZP"
      },
      "execution_count": 4,
      "outputs": []
    },
    {
      "cell_type": "markdown",
      "source": [
        "#กำหนดค่าพารามิเตอร์\n"
      ],
      "metadata": {
        "id": "RooqSdBc7QHC"
      }
    },
    {
      "cell_type": "code",
      "source": [
        "batch_size = 16\n",
        "width = 150\n",
        "height = 150\n",
        "epochs = 250\n",
        "NUM_TRAIN = 2850\n",
        "NUM_TEST = 950\n",
        "dropout_rate = 0.2\n",
        "input_shape = (height, width, 3)"
      ],
      "metadata": {
        "id": "thDb7U9B3xOo"
      },
      "execution_count": 5,
      "outputs": []
    },
    {
      "cell_type": "markdown",
      "source": [
        "#Clone efficientnet repo\n"
      ],
      "metadata": {
        "id": "pumGmy6f3eSW"
      }
    },
    {
      "cell_type": "code",
      "source": [
        "#ดึงข้อมูลใน Github มาใช้\n",
        "import os\n",
        "%cd /content\n",
        "if not os.path.isdir(\"efficientnet_keras_transfer_learning\"):\n",
        " !git clone https://github.com/Wanita-8943/efficientnet_keras_transfer_learning\n",
        "%cd efficientnet_keras_transfer_learning/\n"
      ],
      "metadata": {
        "colab": {
          "base_uri": "https://localhost:8080/"
        },
        "id": "P7iy2f8n16p0",
        "outputId": "d09f31cc-9745-45ae-9b87-6a7a6fdadc8e"
      },
      "execution_count": 6,
      "outputs": [
        {
          "output_type": "stream",
          "name": "stdout",
          "text": [
            "/content\n",
            "Cloning into 'efficientnet_keras_transfer_learning'...\n",
            "remote: Enumerating objects: 1085, done.\u001b[K\n",
            "remote: Counting objects: 100% (248/248), done.\u001b[K\n",
            "remote: Compressing objects: 100% (127/127), done.\u001b[K\n",
            "remote: Total 1085 (delta 124), reused 241 (delta 121), pack-reused 837\u001b[K\n",
            "Receiving objects: 100% (1085/1085), 14.09 MiB | 19.40 MiB/s, done.\n",
            "Resolving deltas: 100% (621/621), done.\n",
            "/content/efficientnet_keras_transfer_learning\n"
          ]
        }
      ]
    },
    {
      "cell_type": "code",
      "source": [
        "# Options: EfficientNetB0, EfficientNetB1, EfficientNetB2, EfficientNetB3\n",
        "# Higher the number, the more complex the model is.\n",
        "from efficientnet import EfficientNetB0 as Net\n",
        "from efficientnet import center_crop_and_resize, preprocess_input"
      ],
      "metadata": {
        "id": "tjZBRnfo3bN0"
      },
      "execution_count": 7,
      "outputs": []
    },
    {
      "cell_type": "code",
      "source": [
        "# loading pretrained conv base model\n",
        "# โหลดโมเดล มาโดยตัด output ของโมเดลออก เเต่ยังใช้ input อันเดิม\n",
        "# เเละโหลด weight ของโมเดล มาด้วยที่ชื่อว่า imagenet\n",
        "conv_base = Net(weights='imagenet', include_top=False, input_shape=input_shape)"
      ],
      "metadata": {
        "colab": {
          "base_uri": "https://localhost:8080/"
        },
        "id": "r8BN74_JJdfj",
        "outputId": "1e9d05bc-9418-43f9-ae71-07bc51958eba"
      },
      "execution_count": 8,
      "outputs": [
        {
          "output_type": "stream",
          "name": "stdout",
          "text": [
            "Downloading data from https://github.com/qubvel/efficientnet/releases/download/v0.0.1/efficientnet-b0_imagenet_1000_notop.h5\n",
            "16717576/16717576 [==============================] - 1s 0us/step\n"
          ]
        }
      ]
    },
    {
      "cell_type": "markdown",
      "source": [
        "#load model\n"
      ],
      "metadata": {
        "id": "PdNWyD-QYkzK"
      }
    },
    {
      "cell_type": "code",
      "source": [
        "import sys\n",
        "sys.path.append('/content/drive/MyDrive/cut_panoramic/Model/Regression/All/11Re_All_1G_1e-4_16_0.2_250_New_Unfreez.h5')\n",
        "\n",
        "from efficientnet.layers import Swish, DropConnect\n",
        "from efficientnet.model import ConvKernalInitializer\n",
        "from tensorflow.keras.utils import get_custom_objects\n",
        "\n",
        "get_custom_objects().update({\n",
        "    'ConvKernalInitializer': ConvKernalInitializer,\n",
        "    'Swish': Swish,\n",
        "    'DropConnect':DropConnect\n",
        "})"
      ],
      "metadata": {
        "id": "_gPnx2UvYf5A"
      },
      "execution_count": 9,
      "outputs": []
    },
    {
      "cell_type": "code",
      "source": [
        "#load model \n",
        "from tensorflow.keras.models import load_model\n",
        "model = load_model('/content/drive/MyDrive/cut_panoramic/Model/Regression/All/11Re_All_1G_1e-4_16_0.2_250_New_Unfreez.h5')\n",
        "height = width = model.input_shape[1]"
      ],
      "metadata": {
        "id": "Nu93WzFUYm9e"
      },
      "execution_count": 10,
      "outputs": []
    },
    {
      "cell_type": "code",
      "source": [
        "model.summary()"
      ],
      "metadata": {
        "id": "gp5EbyyXYvc6",
        "colab": {
          "base_uri": "https://localhost:8080/"
        },
        "outputId": "6aaad58f-ec79-4a23-83d5-a14aaf3d9054"
      },
      "execution_count": 11,
      "outputs": [
        {
          "output_type": "stream",
          "name": "stdout",
          "text": [
            "Model: \"sequential\"\n",
            "_________________________________________________________________\n",
            " Layer (type)                Output Shape              Param #   \n",
            "=================================================================\n",
            " efficientnet-b0 (Functional  (None, 5, 5, 1280)       4049564   \n",
            " )                                                               \n",
            "                                                                 \n",
            " gap (GlobalMaxPooling2D)    (None, 1280)              0         \n",
            "                                                                 \n",
            " dropout_out (Dropout)       (None, 1280)              0         \n",
            "                                                                 \n",
            " fc_out (Dense)              (None, 19)                24339     \n",
            "                                                                 \n",
            " dense (Dense)               (None, 1)                 20        \n",
            "                                                                 \n",
            "=================================================================\n",
            "Total params: 4,073,923\n",
            "Trainable params: 4,031,907\n",
            "Non-trainable params: 42,016\n",
            "_________________________________________________________________\n"
          ]
        }
      ]
    },
    {
      "cell_type": "code",
      "source": [
        "df = pd.read_csv (r'/content/drive/MyDrive/cut_panoramic/Data/All_Re.csv')\n",
        "df"
      ],
      "metadata": {
        "id": "q1Dc131_Y3uA",
        "colab": {
          "base_uri": "https://localhost:8080/",
          "height": 423
        },
        "outputId": "e02496e8-5568-4f1c-84b2-0d2b90fbf853"
      },
      "execution_count": 12,
      "outputs": [
        {
          "output_type": "execute_result",
          "data": {
            "text/plain": [
              "      Fig_Age  Fig_Person_Sex  Age(year) Class  Class_Re       Filename  \\\n",
              "0           1               1          7  Y07F         1         V1.jpg   \n",
              "1           2               1          7  Y07F         1    Flip_V1.jpg   \n",
              "2           3               2          7  Y07F         1         V2.jpg   \n",
              "3           4               2          7  Y07F         1    Flip_V2.jpg   \n",
              "4           5               3          7  Y07F         1         V3.jpg   \n",
              "...       ...             ...        ...   ...       ...            ...   \n",
              "4745      121              77         25  Y25M        19  Flip_J463.jpg   \n",
              "4746      122              78         25  Y25M        19       J464.jpg   \n",
              "4747      123              78         25  Y25M        19  Flip_J464.jpg   \n",
              "4748      124              79         25  Y25M        19       J465.jpg   \n",
              "4749      125              79         25  Y25M        19  Flip_J465.jpg   \n",
              "\n",
              "                                          Path_filename     Sex Floder  \n",
              "0     /content/drive/My Drive/TVT_Gender/train/Femal...  Female   Both  \n",
              "1     /content/drive/My Drive/TVT_Gender/train/Femal...  Female   Both  \n",
              "2     /content/drive/My Drive/TVT_Gender/train/Femal...  Female   Both  \n",
              "3     /content/drive/My Drive/TVT_Gender/train/Femal...  Female   Both  \n",
              "4     /content/drive/My Drive/TVT_Gender/train/Femal...  Female   Both  \n",
              "...                                                 ...     ...    ...  \n",
              "4745  /content/drive/My Drive/TVT_Gender/test/Male/F...    Male   Both  \n",
              "4746  /content/drive/My Drive/TVT_Gender/test/Male/J...    Male   Both  \n",
              "4747  /content/drive/My Drive/TVT_Gender/test/Male/F...    Male   Both  \n",
              "4748  /content/drive/My Drive/TVT_Gender/test/Male/J...    Male   Both  \n",
              "4749  /content/drive/My Drive/TVT_Gender/test/Male/F...    Male   Both  \n",
              "\n",
              "[4750 rows x 9 columns]"
            ],
            "text/html": [
              "\n",
              "  <div id=\"df-9cd0723e-4c80-45dd-9e39-3dea9ac39b30\">\n",
              "    <div class=\"colab-df-container\">\n",
              "      <div>\n",
              "<style scoped>\n",
              "    .dataframe tbody tr th:only-of-type {\n",
              "        vertical-align: middle;\n",
              "    }\n",
              "\n",
              "    .dataframe tbody tr th {\n",
              "        vertical-align: top;\n",
              "    }\n",
              "\n",
              "    .dataframe thead th {\n",
              "        text-align: right;\n",
              "    }\n",
              "</style>\n",
              "<table border=\"1\" class=\"dataframe\">\n",
              "  <thead>\n",
              "    <tr style=\"text-align: right;\">\n",
              "      <th></th>\n",
              "      <th>Fig_Age</th>\n",
              "      <th>Fig_Person_Sex</th>\n",
              "      <th>Age(year)</th>\n",
              "      <th>Class</th>\n",
              "      <th>Class_Re</th>\n",
              "      <th>Filename</th>\n",
              "      <th>Path_filename</th>\n",
              "      <th>Sex</th>\n",
              "      <th>Floder</th>\n",
              "    </tr>\n",
              "  </thead>\n",
              "  <tbody>\n",
              "    <tr>\n",
              "      <th>0</th>\n",
              "      <td>1</td>\n",
              "      <td>1</td>\n",
              "      <td>7</td>\n",
              "      <td>Y07F</td>\n",
              "      <td>1</td>\n",
              "      <td>V1.jpg</td>\n",
              "      <td>/content/drive/My Drive/TVT_Gender/train/Femal...</td>\n",
              "      <td>Female</td>\n",
              "      <td>Both</td>\n",
              "    </tr>\n",
              "    <tr>\n",
              "      <th>1</th>\n",
              "      <td>2</td>\n",
              "      <td>1</td>\n",
              "      <td>7</td>\n",
              "      <td>Y07F</td>\n",
              "      <td>1</td>\n",
              "      <td>Flip_V1.jpg</td>\n",
              "      <td>/content/drive/My Drive/TVT_Gender/train/Femal...</td>\n",
              "      <td>Female</td>\n",
              "      <td>Both</td>\n",
              "    </tr>\n",
              "    <tr>\n",
              "      <th>2</th>\n",
              "      <td>3</td>\n",
              "      <td>2</td>\n",
              "      <td>7</td>\n",
              "      <td>Y07F</td>\n",
              "      <td>1</td>\n",
              "      <td>V2.jpg</td>\n",
              "      <td>/content/drive/My Drive/TVT_Gender/train/Femal...</td>\n",
              "      <td>Female</td>\n",
              "      <td>Both</td>\n",
              "    </tr>\n",
              "    <tr>\n",
              "      <th>3</th>\n",
              "      <td>4</td>\n",
              "      <td>2</td>\n",
              "      <td>7</td>\n",
              "      <td>Y07F</td>\n",
              "      <td>1</td>\n",
              "      <td>Flip_V2.jpg</td>\n",
              "      <td>/content/drive/My Drive/TVT_Gender/train/Femal...</td>\n",
              "      <td>Female</td>\n",
              "      <td>Both</td>\n",
              "    </tr>\n",
              "    <tr>\n",
              "      <th>4</th>\n",
              "      <td>5</td>\n",
              "      <td>3</td>\n",
              "      <td>7</td>\n",
              "      <td>Y07F</td>\n",
              "      <td>1</td>\n",
              "      <td>V3.jpg</td>\n",
              "      <td>/content/drive/My Drive/TVT_Gender/train/Femal...</td>\n",
              "      <td>Female</td>\n",
              "      <td>Both</td>\n",
              "    </tr>\n",
              "    <tr>\n",
              "      <th>...</th>\n",
              "      <td>...</td>\n",
              "      <td>...</td>\n",
              "      <td>...</td>\n",
              "      <td>...</td>\n",
              "      <td>...</td>\n",
              "      <td>...</td>\n",
              "      <td>...</td>\n",
              "      <td>...</td>\n",
              "      <td>...</td>\n",
              "    </tr>\n",
              "    <tr>\n",
              "      <th>4745</th>\n",
              "      <td>121</td>\n",
              "      <td>77</td>\n",
              "      <td>25</td>\n",
              "      <td>Y25M</td>\n",
              "      <td>19</td>\n",
              "      <td>Flip_J463.jpg</td>\n",
              "      <td>/content/drive/My Drive/TVT_Gender/test/Male/F...</td>\n",
              "      <td>Male</td>\n",
              "      <td>Both</td>\n",
              "    </tr>\n",
              "    <tr>\n",
              "      <th>4746</th>\n",
              "      <td>122</td>\n",
              "      <td>78</td>\n",
              "      <td>25</td>\n",
              "      <td>Y25M</td>\n",
              "      <td>19</td>\n",
              "      <td>J464.jpg</td>\n",
              "      <td>/content/drive/My Drive/TVT_Gender/test/Male/J...</td>\n",
              "      <td>Male</td>\n",
              "      <td>Both</td>\n",
              "    </tr>\n",
              "    <tr>\n",
              "      <th>4747</th>\n",
              "      <td>123</td>\n",
              "      <td>78</td>\n",
              "      <td>25</td>\n",
              "      <td>Y25M</td>\n",
              "      <td>19</td>\n",
              "      <td>Flip_J464.jpg</td>\n",
              "      <td>/content/drive/My Drive/TVT_Gender/test/Male/F...</td>\n",
              "      <td>Male</td>\n",
              "      <td>Both</td>\n",
              "    </tr>\n",
              "    <tr>\n",
              "      <th>4748</th>\n",
              "      <td>124</td>\n",
              "      <td>79</td>\n",
              "      <td>25</td>\n",
              "      <td>Y25M</td>\n",
              "      <td>19</td>\n",
              "      <td>J465.jpg</td>\n",
              "      <td>/content/drive/My Drive/TVT_Gender/test/Male/J...</td>\n",
              "      <td>Male</td>\n",
              "      <td>Both</td>\n",
              "    </tr>\n",
              "    <tr>\n",
              "      <th>4749</th>\n",
              "      <td>125</td>\n",
              "      <td>79</td>\n",
              "      <td>25</td>\n",
              "      <td>Y25M</td>\n",
              "      <td>19</td>\n",
              "      <td>Flip_J465.jpg</td>\n",
              "      <td>/content/drive/My Drive/TVT_Gender/test/Male/F...</td>\n",
              "      <td>Male</td>\n",
              "      <td>Both</td>\n",
              "    </tr>\n",
              "  </tbody>\n",
              "</table>\n",
              "<p>4750 rows × 9 columns</p>\n",
              "</div>\n",
              "      <button class=\"colab-df-convert\" onclick=\"convertToInteractive('df-9cd0723e-4c80-45dd-9e39-3dea9ac39b30')\"\n",
              "              title=\"Convert this dataframe to an interactive table.\"\n",
              "              style=\"display:none;\">\n",
              "        \n",
              "  <svg xmlns=\"http://www.w3.org/2000/svg\" height=\"24px\"viewBox=\"0 0 24 24\"\n",
              "       width=\"24px\">\n",
              "    <path d=\"M0 0h24v24H0V0z\" fill=\"none\"/>\n",
              "    <path d=\"M18.56 5.44l.94 2.06.94-2.06 2.06-.94-2.06-.94-.94-2.06-.94 2.06-2.06.94zm-11 1L8.5 8.5l.94-2.06 2.06-.94-2.06-.94L8.5 2.5l-.94 2.06-2.06.94zm10 10l.94 2.06.94-2.06 2.06-.94-2.06-.94-.94-2.06-.94 2.06-2.06.94z\"/><path d=\"M17.41 7.96l-1.37-1.37c-.4-.4-.92-.59-1.43-.59-.52 0-1.04.2-1.43.59L10.3 9.45l-7.72 7.72c-.78.78-.78 2.05 0 2.83L4 21.41c.39.39.9.59 1.41.59.51 0 1.02-.2 1.41-.59l7.78-7.78 2.81-2.81c.8-.78.8-2.07 0-2.86zM5.41 20L4 18.59l7.72-7.72 1.47 1.35L5.41 20z\"/>\n",
              "  </svg>\n",
              "      </button>\n",
              "      \n",
              "  <style>\n",
              "    .colab-df-container {\n",
              "      display:flex;\n",
              "      flex-wrap:wrap;\n",
              "      gap: 12px;\n",
              "    }\n",
              "\n",
              "    .colab-df-convert {\n",
              "      background-color: #E8F0FE;\n",
              "      border: none;\n",
              "      border-radius: 50%;\n",
              "      cursor: pointer;\n",
              "      display: none;\n",
              "      fill: #1967D2;\n",
              "      height: 32px;\n",
              "      padding: 0 0 0 0;\n",
              "      width: 32px;\n",
              "    }\n",
              "\n",
              "    .colab-df-convert:hover {\n",
              "      background-color: #E2EBFA;\n",
              "      box-shadow: 0px 1px 2px rgba(60, 64, 67, 0.3), 0px 1px 3px 1px rgba(60, 64, 67, 0.15);\n",
              "      fill: #174EA6;\n",
              "    }\n",
              "\n",
              "    [theme=dark] .colab-df-convert {\n",
              "      background-color: #3B4455;\n",
              "      fill: #D2E3FC;\n",
              "    }\n",
              "\n",
              "    [theme=dark] .colab-df-convert:hover {\n",
              "      background-color: #434B5C;\n",
              "      box-shadow: 0px 1px 3px 1px rgba(0, 0, 0, 0.15);\n",
              "      filter: drop-shadow(0px 1px 2px rgba(0, 0, 0, 0.3));\n",
              "      fill: #FFFFFF;\n",
              "    }\n",
              "  </style>\n",
              "\n",
              "      <script>\n",
              "        const buttonEl =\n",
              "          document.querySelector('#df-9cd0723e-4c80-45dd-9e39-3dea9ac39b30 button.colab-df-convert');\n",
              "        buttonEl.style.display =\n",
              "          google.colab.kernel.accessAllowed ? 'block' : 'none';\n",
              "\n",
              "        async function convertToInteractive(key) {\n",
              "          const element = document.querySelector('#df-9cd0723e-4c80-45dd-9e39-3dea9ac39b30');\n",
              "          const dataTable =\n",
              "            await google.colab.kernel.invokeFunction('convertToInteractive',\n",
              "                                                     [key], {});\n",
              "          if (!dataTable) return;\n",
              "\n",
              "          const docLinkHtml = 'Like what you see? Visit the ' +\n",
              "            '<a target=\"_blank\" href=https://colab.research.google.com/notebooks/data_table.ipynb>data table notebook</a>'\n",
              "            + ' to learn more about interactive tables.';\n",
              "          element.innerHTML = '';\n",
              "          dataTable['output_type'] = 'display_data';\n",
              "          await google.colab.output.renderOutput(dataTable, element);\n",
              "          const docLink = document.createElement('div');\n",
              "          docLink.innerHTML = docLinkHtml;\n",
              "          element.appendChild(docLink);\n",
              "        }\n",
              "      </script>\n",
              "    </div>\n",
              "  </div>\n",
              "  "
            ]
          },
          "metadata": {},
          "execution_count": 12
        }
      ]
    },
    {
      "cell_type": "code",
      "source": [
        "train = df[df['Fig_Age'].between(1,75)]\n",
        "val = df[df['Fig_Age'].between(76,100)]"
      ],
      "metadata": {
        "id": "Z1zBw01Gl8Ac"
      },
      "execution_count": 13,
      "outputs": []
    },
    {
      "cell_type": "code",
      "source": [
        "DATA_PATH = \"/content/drive/My Drive/TVT_Gender\"\n",
        "os.chdir(DATA_PATH)\n",
        "train_dir = os.path.join(DATA_PATH, 'train')\n",
        "print(train_dir)\n",
        "validation_dir = os.path.join(DATA_PATH, 'validation')\n",
        "print(validation_dir)"
      ],
      "metadata": {
        "colab": {
          "base_uri": "https://localhost:8080/"
        },
        "id": "QL0g-8iOnMC4",
        "outputId": "7a8aa677-54c4-43d3-cee4-1672bf27e191"
      },
      "execution_count": 14,
      "outputs": [
        {
          "output_type": "stream",
          "name": "stdout",
          "text": [
            "/content/drive/My Drive/TVT_Gender/train\n",
            "/content/drive/My Drive/TVT_Gender/validation\n"
          ]
        }
      ]
    },
    {
      "cell_type": "markdown",
      "source": [
        "\n",
        "#Train"
      ],
      "metadata": {
        "id": "bWEnlTSwazL5"
      }
    },
    {
      "cell_type": "code",
      "source": [
        "# Train ด้วย ImageDataGenerator ของ Keras ซึ่งจะเพิ่มข้อมูลเสริมระหว่างการฝึกเพื่อลดโอกาสเกิด overfitting\n",
        "#overfitting เกิดจากข้อมูลที่ซับซ้อนกันเกินไป\n",
        "from tensorflow.keras.preprocessing.image import ImageDataGenerator\n",
        "\n",
        "train_datagen = ImageDataGenerator(\n",
        "      rescale=1./255, #โมเดลส่วนใหญ่ต้องใช้ RGB ในช่วง 0–1\n",
        "      rotation_range=40,\n",
        "      width_shift_range=0.2,\n",
        "      height_shift_range=0.2,\n",
        "      shear_range=0.2,\n",
        "      zoom_range=0.2,\n",
        "      horizontal_flip=True,\n",
        "      fill_mode='nearest')\n",
        "\n",
        "# Note that the validation data should not be augmented!\n",
        "test_datagen = ImageDataGenerator(rescale=1./255)"
      ],
      "metadata": {
        "id": "xGPrsn9no_pa"
      },
      "execution_count": 15,
      "outputs": []
    },
    {
      "cell_type": "code",
      "source": [
        "train_generator = train_datagen.flow_from_dataframe(\n",
        "        dataframe = train,\n",
        "        directory = train_dir,\n",
        "        x_col = 'Path_filename',\n",
        "        y_col = 'Class_Re',\n",
        "        class_mode = 'other',\n",
        "        target_size=(height, width),\n",
        "        batch_size=batch_size)\n",
        "\n",
        "validation_generator = test_datagen.flow_from_dataframe(\n",
        "        dataframe = val,\n",
        "        directory = validation_dir,\n",
        "        x_col = 'Path_filename',\n",
        "        y_col = 'Class_Re',\n",
        "        class_mode = 'other',\n",
        "        target_size=(height, width),\n",
        "        batch_size=batch_size)"
      ],
      "metadata": {
        "colab": {
          "base_uri": "https://localhost:8080/"
        },
        "id": "8nVlmAszntK_",
        "outputId": "4a9668e1-1989-436a-a1fc-969c3d4cecee"
      },
      "execution_count": 16,
      "outputs": [
        {
          "output_type": "stream",
          "name": "stdout",
          "text": [
            "Found 2850 validated image filenames.\n",
            "Found 950 validated image filenames.\n"
          ]
        }
      ]
    },
    {
      "cell_type": "code",
      "source": [
        "model.summary()"
      ],
      "metadata": {
        "colab": {
          "base_uri": "https://localhost:8080/"
        },
        "id": "zzCdn3X4Jm_E",
        "outputId": "a07cdb78-9353-45fa-e551-6b4ea1273ac5"
      },
      "execution_count": 17,
      "outputs": [
        {
          "output_type": "stream",
          "name": "stdout",
          "text": [
            "Model: \"sequential\"\n",
            "_________________________________________________________________\n",
            " Layer (type)                Output Shape              Param #   \n",
            "=================================================================\n",
            " efficientnet-b0 (Functional  (None, 5, 5, 1280)       4049564   \n",
            " )                                                               \n",
            "                                                                 \n",
            " gap (GlobalMaxPooling2D)    (None, 1280)              0         \n",
            "                                                                 \n",
            " dropout_out (Dropout)       (None, 1280)              0         \n",
            "                                                                 \n",
            " fc_out (Dense)              (None, 19)                24339     \n",
            "                                                                 \n",
            " dense (Dense)               (None, 1)                 20        \n",
            "                                                                 \n",
            "=================================================================\n",
            "Total params: 4,073,923\n",
            "Trainable params: 4,031,907\n",
            "Non-trainable params: 42,016\n",
            "_________________________________________________________________\n"
          ]
        }
      ]
    },
    {
      "cell_type": "code",
      "source": [
        "model.compile(loss='mse',\n",
        "          optimizer=Adam(learning_rate=1e-4),\n",
        "          metrics=['mae'])\n",
        "history = model.fit_generator(\n",
        "      train_generator,\n",
        "      steps_per_epoch= NUM_TRAIN //batch_size,\n",
        "      epochs=epochs,\n",
        "      validation_data=validation_generator,\n",
        "      validation_steps= NUM_TEST //batch_size,\n",
        "      verbose=1,\n",
        "      use_multiprocessing=True,\n",
        "      workers=4)"
      ],
      "metadata": {
        "id": "N6qUmmF856ZE",
        "outputId": "813b94da-ff0f-4e4c-fdad-664587f16fd5",
        "colab": {
          "base_uri": "https://localhost:8080/"
        }
      },
      "execution_count": 18,
      "outputs": [
        {
          "output_type": "stream",
          "name": "stderr",
          "text": [
            "<ipython-input-18-f59104fd3985>:4: UserWarning: `Model.fit_generator` is deprecated and will be removed in a future version. Please use `Model.fit`, which supports generators.\n",
            "  history = model.fit_generator(\n"
          ]
        },
        {
          "output_type": "stream",
          "name": "stdout",
          "text": [
            "Epoch 1/250\n",
            "178/178 [==============================] - 622s 3s/step - loss: 0.3813 - mae: 0.4351 - val_loss: 5.7120 - val_mae: 1.7909\n",
            "Epoch 2/250\n",
            "178/178 [==============================] - 18s 99ms/step - loss: 0.3804 - mae: 0.4272 - val_loss: 6.7352 - val_mae: 1.9293\n",
            "Epoch 3/250\n",
            "178/178 [==============================] - 18s 99ms/step - loss: 0.3306 - mae: 0.4091 - val_loss: 5.9354 - val_mae: 1.8099\n",
            "Epoch 4/250\n",
            "178/178 [==============================] - 18s 99ms/step - loss: 0.3765 - mae: 0.4142 - val_loss: 5.5973 - val_mae: 1.7464\n",
            "Epoch 5/250\n",
            "178/178 [==============================] - 18s 99ms/step - loss: 0.3751 - mae: 0.4155 - val_loss: 6.3244 - val_mae: 1.8471\n",
            "Epoch 6/250\n",
            "178/178 [==============================] - 18s 100ms/step - loss: 0.3465 - mae: 0.4067 - val_loss: 5.6458 - val_mae: 1.7806\n",
            "Epoch 7/250\n",
            "178/178 [==============================] - 18s 98ms/step - loss: 0.3131 - mae: 0.3922 - val_loss: 4.7082 - val_mae: 1.6596\n",
            "Epoch 8/250\n",
            "178/178 [==============================] - 18s 99ms/step - loss: 0.3198 - mae: 0.4010 - val_loss: 5.4446 - val_mae: 1.7237\n",
            "Epoch 9/250\n",
            "178/178 [==============================] - 18s 99ms/step - loss: 0.3966 - mae: 0.4047 - val_loss: 4.9931 - val_mae: 1.6765\n",
            "Epoch 10/250\n",
            "178/178 [==============================] - 18s 100ms/step - loss: 0.3343 - mae: 0.4027 - val_loss: 6.0891 - val_mae: 1.8837\n",
            "Epoch 11/250\n",
            "178/178 [==============================] - 18s 99ms/step - loss: 0.4195 - mae: 0.4258 - val_loss: 6.0523 - val_mae: 1.7942\n",
            "Epoch 12/250\n",
            "178/178 [==============================] - 18s 99ms/step - loss: 0.4530 - mae: 0.4524 - val_loss: 5.7534 - val_mae: 1.7858\n",
            "Epoch 13/250\n",
            "178/178 [==============================] - 18s 100ms/step - loss: 0.4461 - mae: 0.4532 - val_loss: 11.0663 - val_mae: 2.3625\n",
            "Epoch 14/250\n",
            "178/178 [==============================] - 18s 100ms/step - loss: 0.4297 - mae: 0.4370 - val_loss: 8.4194 - val_mae: 2.0906\n",
            "Epoch 15/250\n",
            "178/178 [==============================] - 18s 99ms/step - loss: 0.6511 - mae: 0.4627 - val_loss: 6.1977 - val_mae: 1.8510\n",
            "Epoch 16/250\n",
            "178/178 [==============================] - 18s 100ms/step - loss: 0.4340 - mae: 0.4310 - val_loss: 6.5606 - val_mae: 1.8985\n",
            "Epoch 17/250\n",
            "178/178 [==============================] - 18s 99ms/step - loss: 0.3205 - mae: 0.4004 - val_loss: 6.8045 - val_mae: 1.9399\n",
            "Epoch 18/250\n",
            "178/178 [==============================] - 18s 100ms/step - loss: 0.2850 - mae: 0.3880 - val_loss: 6.7170 - val_mae: 1.9246\n",
            "Epoch 19/250\n",
            "178/178 [==============================] - 18s 99ms/step - loss: 0.3075 - mae: 0.3959 - val_loss: 6.8884 - val_mae: 1.9173\n",
            "Epoch 20/250\n",
            "178/178 [==============================] - 18s 100ms/step - loss: 0.3965 - mae: 0.4218 - val_loss: 5.1534 - val_mae: 1.7321\n",
            "Epoch 21/250\n",
            "178/178 [==============================] - 18s 99ms/step - loss: 0.3087 - mae: 0.3954 - val_loss: 5.0750 - val_mae: 1.7198\n",
            "Epoch 22/250\n",
            "178/178 [==============================] - 18s 100ms/step - loss: 0.2996 - mae: 0.3967 - val_loss: 5.2973 - val_mae: 1.7210\n",
            "Epoch 23/250\n",
            "178/178 [==============================] - 18s 99ms/step - loss: 0.3352 - mae: 0.3883 - val_loss: 5.4693 - val_mae: 1.7580\n",
            "Epoch 24/250\n",
            "178/178 [==============================] - 18s 99ms/step - loss: 0.4043 - mae: 0.3912 - val_loss: 4.8514 - val_mae: 1.6506\n",
            "Epoch 25/250\n",
            "178/178 [==============================] - 18s 99ms/step - loss: 0.3078 - mae: 0.3908 - val_loss: 5.7214 - val_mae: 1.8221\n",
            "Epoch 26/250\n",
            "178/178 [==============================] - 18s 100ms/step - loss: 0.3506 - mae: 0.3967 - val_loss: 5.3360 - val_mae: 1.7428\n",
            "Epoch 27/250\n",
            "178/178 [==============================] - 18s 100ms/step - loss: 0.3332 - mae: 0.3911 - val_loss: 4.7559 - val_mae: 1.6696\n",
            "Epoch 28/250\n",
            "178/178 [==============================] - 18s 99ms/step - loss: 0.3500 - mae: 0.4006 - val_loss: 4.9078 - val_mae: 1.6916\n",
            "Epoch 29/250\n",
            "178/178 [==============================] - 18s 100ms/step - loss: 0.3039 - mae: 0.3853 - val_loss: 4.8459 - val_mae: 1.6765\n",
            "Epoch 30/250\n",
            "178/178 [==============================] - 18s 100ms/step - loss: 0.3141 - mae: 0.3979 - val_loss: 5.4213 - val_mae: 1.7684\n",
            "Epoch 31/250\n",
            "178/178 [==============================] - 18s 100ms/step - loss: 0.2743 - mae: 0.3787 - val_loss: 5.3629 - val_mae: 1.7561\n",
            "Epoch 32/250\n",
            "178/178 [==============================] - 18s 100ms/step - loss: 0.3403 - mae: 0.3993 - val_loss: 10.7918 - val_mae: 2.0847\n",
            "Epoch 33/250\n",
            "178/178 [==============================] - 18s 100ms/step - loss: 0.4415 - mae: 0.4373 - val_loss: 4.8127 - val_mae: 1.6699\n",
            "Epoch 34/250\n",
            "178/178 [==============================] - 18s 100ms/step - loss: 0.3845 - mae: 0.4196 - val_loss: 4.9446 - val_mae: 1.7001\n",
            "Epoch 35/250\n",
            "178/178 [==============================] - 18s 100ms/step - loss: 0.3299 - mae: 0.4049 - val_loss: 4.6831 - val_mae: 1.6574\n",
            "Epoch 36/250\n",
            "178/178 [==============================] - 18s 100ms/step - loss: 0.3879 - mae: 0.4163 - val_loss: 4.5284 - val_mae: 1.6415\n",
            "Epoch 37/250\n",
            "178/178 [==============================] - 18s 101ms/step - loss: 0.3644 - mae: 0.4131 - val_loss: 4.9187 - val_mae: 1.6890\n",
            "Epoch 38/250\n",
            "178/178 [==============================] - 18s 101ms/step - loss: 0.3527 - mae: 0.4046 - val_loss: 5.1020 - val_mae: 1.7169\n",
            "Epoch 39/250\n",
            "178/178 [==============================] - 18s 100ms/step - loss: 0.3091 - mae: 0.3963 - val_loss: 5.3437 - val_mae: 1.7397\n",
            "Epoch 40/250\n",
            "178/178 [==============================] - 19s 103ms/step - loss: 0.3294 - mae: 0.4089 - val_loss: 5.1505 - val_mae: 1.7141\n",
            "Epoch 41/250\n",
            "178/178 [==============================] - 19s 105ms/step - loss: 0.3127 - mae: 0.3906 - val_loss: 5.0173 - val_mae: 1.6898\n",
            "Epoch 42/250\n",
            "178/178 [==============================] - 18s 100ms/step - loss: 0.3727 - mae: 0.3969 - val_loss: 5.6612 - val_mae: 1.7771\n",
            "Epoch 43/250\n",
            "178/178 [==============================] - 18s 100ms/step - loss: 0.3715 - mae: 0.4071 - val_loss: 4.8582 - val_mae: 1.6588\n",
            "Epoch 44/250\n",
            "178/178 [==============================] - 18s 100ms/step - loss: 0.3288 - mae: 0.3925 - val_loss: 4.4681 - val_mae: 1.6029\n",
            "Epoch 45/250\n",
            "178/178 [==============================] - 18s 101ms/step - loss: 0.3475 - mae: 0.3960 - val_loss: 4.2129 - val_mae: 1.5523\n",
            "Epoch 46/250\n",
            "178/178 [==============================] - 18s 100ms/step - loss: 0.3910 - mae: 0.4199 - val_loss: 4.8339 - val_mae: 1.6559\n",
            "Epoch 47/250\n",
            "178/178 [==============================] - 18s 100ms/step - loss: 0.3872 - mae: 0.4173 - val_loss: 4.4698 - val_mae: 1.6039\n",
            "Epoch 48/250\n",
            "178/178 [==============================] - 18s 100ms/step - loss: 0.4429 - mae: 0.4196 - val_loss: 5.2212 - val_mae: 1.7081\n",
            "Epoch 49/250\n",
            "178/178 [==============================] - 18s 100ms/step - loss: 0.3452 - mae: 0.4029 - val_loss: 4.6970 - val_mae: 1.6562\n",
            "Epoch 50/250\n",
            "178/178 [==============================] - 13s 72ms/step - loss: 0.4013 - mae: 0.4179 - val_loss: 5.1895 - val_mae: 1.7114\n",
            "Epoch 51/250\n",
            "178/178 [==============================] - 18s 100ms/step - loss: 0.3311 - mae: 0.4019 - val_loss: 4.1740 - val_mae: 1.5910\n",
            "Epoch 52/250\n",
            "178/178 [==============================] - 18s 100ms/step - loss: 0.4355 - mae: 0.4164 - val_loss: 4.9645 - val_mae: 1.6951\n",
            "Epoch 53/250\n",
            "178/178 [==============================] - 18s 101ms/step - loss: 0.3499 - mae: 0.4035 - val_loss: 4.7819 - val_mae: 1.6569\n",
            "Epoch 54/250\n",
            "178/178 [==============================] - 18s 100ms/step - loss: 0.3454 - mae: 0.4093 - val_loss: 4.5851 - val_mae: 1.6296\n",
            "Epoch 55/250\n",
            "178/178 [==============================] - 18s 100ms/step - loss: 0.3449 - mae: 0.4067 - val_loss: 5.8689 - val_mae: 1.8020\n",
            "Epoch 56/250\n",
            "178/178 [==============================] - 18s 100ms/step - loss: 0.3768 - mae: 0.4115 - val_loss: 5.7995 - val_mae: 1.8077\n",
            "Epoch 57/250\n",
            "178/178 [==============================] - 18s 100ms/step - loss: 0.3152 - mae: 0.3930 - val_loss: 5.4839 - val_mae: 1.7556\n",
            "Epoch 58/250\n",
            "178/178 [==============================] - 18s 100ms/step - loss: 0.3149 - mae: 0.3865 - val_loss: 4.8512 - val_mae: 1.6702\n",
            "Epoch 59/250\n",
            "178/178 [==============================] - 18s 99ms/step - loss: 0.3200 - mae: 0.3859 - val_loss: 5.9810 - val_mae: 1.8143\n",
            "Epoch 60/250\n",
            "178/178 [==============================] - 18s 100ms/step - loss: 0.3046 - mae: 0.3785 - val_loss: 5.3330 - val_mae: 1.7304\n",
            "Epoch 61/250\n",
            "178/178 [==============================] - 18s 100ms/step - loss: 0.2566 - mae: 0.3572 - val_loss: 5.2703 - val_mae: 1.7218\n",
            "Epoch 62/250\n",
            "178/178 [==============================] - 18s 99ms/step - loss: 0.3162 - mae: 0.3913 - val_loss: 5.6659 - val_mae: 1.7887\n",
            "Epoch 63/250\n",
            "178/178 [==============================] - 18s 100ms/step - loss: 0.2961 - mae: 0.3795 - val_loss: 4.6601 - val_mae: 1.6599\n",
            "Epoch 64/250\n",
            "178/178 [==============================] - 18s 100ms/step - loss: 0.2728 - mae: 0.3683 - val_loss: 5.2334 - val_mae: 1.7417\n",
            "Epoch 65/250\n",
            "178/178 [==============================] - 18s 100ms/step - loss: 0.2943 - mae: 0.3572 - val_loss: 5.0805 - val_mae: 1.7192\n",
            "Epoch 66/250\n",
            "178/178 [==============================] - 18s 100ms/step - loss: 0.2650 - mae: 0.3682 - val_loss: 5.2552 - val_mae: 1.7355\n",
            "Epoch 67/250\n",
            "178/178 [==============================] - 18s 99ms/step - loss: 0.2418 - mae: 0.3470 - val_loss: 4.8358 - val_mae: 1.6570\n",
            "Epoch 68/250\n",
            "178/178 [==============================] - 18s 99ms/step - loss: 0.3440 - mae: 0.3953 - val_loss: 4.5681 - val_mae: 1.6142\n",
            "Epoch 69/250\n",
            "178/178 [==============================] - 18s 100ms/step - loss: 0.2857 - mae: 0.3788 - val_loss: 4.6676 - val_mae: 1.6494\n",
            "Epoch 70/250\n",
            "178/178 [==============================] - 18s 100ms/step - loss: 0.2889 - mae: 0.3747 - val_loss: 4.4427 - val_mae: 1.6305\n",
            "Epoch 71/250\n",
            "178/178 [==============================] - 18s 100ms/step - loss: 0.3328 - mae: 0.3800 - val_loss: 4.6122 - val_mae: 1.6504\n",
            "Epoch 72/250\n",
            "178/178 [==============================] - 18s 100ms/step - loss: 0.3237 - mae: 0.3763 - val_loss: 4.9286 - val_mae: 1.6751\n",
            "Epoch 73/250\n",
            "178/178 [==============================] - 18s 100ms/step - loss: 0.2785 - mae: 0.3734 - val_loss: 4.6809 - val_mae: 1.6418\n",
            "Epoch 74/250\n",
            "178/178 [==============================] - 18s 101ms/step - loss: 0.2877 - mae: 0.3728 - val_loss: 4.7534 - val_mae: 1.6492\n",
            "Epoch 75/250\n",
            "178/178 [==============================] - 14s 74ms/step - loss: 0.3291 - mae: 0.3840 - val_loss: 5.5244 - val_mae: 1.7482\n",
            "Epoch 76/250\n",
            "178/178 [==============================] - 18s 100ms/step - loss: 0.4242 - mae: 0.4386 - val_loss: 4.4612 - val_mae: 1.6068\n",
            "Epoch 77/250\n",
            "178/178 [==============================] - 18s 100ms/step - loss: 0.3070 - mae: 0.3854 - val_loss: 5.5669 - val_mae: 1.7618\n",
            "Epoch 78/250\n",
            "178/178 [==============================] - 18s 100ms/step - loss: 0.3572 - mae: 0.3982 - val_loss: 4.7698 - val_mae: 1.6519\n",
            "Epoch 79/250\n",
            "178/178 [==============================] - 18s 100ms/step - loss: 0.2843 - mae: 0.3716 - val_loss: 4.9657 - val_mae: 1.6769\n",
            "Epoch 80/250\n",
            "178/178 [==============================] - 18s 99ms/step - loss: 0.2932 - mae: 0.3729 - val_loss: 5.2046 - val_mae: 1.6957\n",
            "Epoch 81/250\n",
            "178/178 [==============================] - 18s 100ms/step - loss: 0.2523 - mae: 0.3553 - val_loss: 5.0942 - val_mae: 1.6954\n",
            "Epoch 82/250\n",
            "178/178 [==============================] - 18s 100ms/step - loss: 0.3257 - mae: 0.3903 - val_loss: 5.3401 - val_mae: 1.7233\n",
            "Epoch 83/250\n",
            "178/178 [==============================] - 18s 100ms/step - loss: 0.3116 - mae: 0.3824 - val_loss: 5.6288 - val_mae: 1.7385\n",
            "Epoch 84/250\n",
            "178/178 [==============================] - 18s 100ms/step - loss: 0.3711 - mae: 0.4065 - val_loss: 4.8065 - val_mae: 1.6430\n",
            "Epoch 85/250\n",
            "178/178 [==============================] - 18s 100ms/step - loss: 0.3325 - mae: 0.3874 - val_loss: 5.5226 - val_mae: 1.7507\n",
            "Epoch 86/250\n",
            "178/178 [==============================] - 18s 100ms/step - loss: 0.2989 - mae: 0.3771 - val_loss: 4.8183 - val_mae: 1.6535\n",
            "Epoch 87/250\n",
            "178/178 [==============================] - 18s 100ms/step - loss: 0.2848 - mae: 0.3711 - val_loss: 5.0065 - val_mae: 1.6799\n",
            "Epoch 88/250\n",
            "178/178 [==============================] - 18s 100ms/step - loss: 0.2663 - mae: 0.3606 - val_loss: 4.8779 - val_mae: 1.6599\n",
            "Epoch 89/250\n",
            "178/178 [==============================] - 18s 100ms/step - loss: 0.2735 - mae: 0.3558 - val_loss: 4.9245 - val_mae: 1.6681\n",
            "Epoch 90/250\n",
            "178/178 [==============================] - 18s 99ms/step - loss: 0.2916 - mae: 0.3651 - val_loss: 5.6413 - val_mae: 1.7561\n",
            "Epoch 91/250\n",
            "178/178 [==============================] - 18s 100ms/step - loss: 0.2815 - mae: 0.3664 - val_loss: 5.1751 - val_mae: 1.6846\n",
            "Epoch 92/250\n",
            "178/178 [==============================] - 18s 101ms/step - loss: 0.3164 - mae: 0.3637 - val_loss: 6.4130 - val_mae: 1.7476\n",
            "Epoch 93/250\n",
            "178/178 [==============================] - 18s 100ms/step - loss: 0.2588 - mae: 0.3437 - val_loss: 7.4046 - val_mae: 1.8226\n",
            "Epoch 94/250\n",
            "178/178 [==============================] - 18s 100ms/step - loss: 0.3002 - mae: 0.3753 - val_loss: 9.1368 - val_mae: 1.9055\n",
            "Epoch 95/250\n",
            "178/178 [==============================] - 18s 99ms/step - loss: 0.2696 - mae: 0.3614 - val_loss: 5.1041 - val_mae: 1.6648\n",
            "Epoch 96/250\n",
            "178/178 [==============================] - 18s 100ms/step - loss: 0.2693 - mae: 0.3556 - val_loss: 5.2350 - val_mae: 1.6839\n",
            "Epoch 97/250\n",
            "178/178 [==============================] - 18s 100ms/step - loss: 0.2962 - mae: 0.3707 - val_loss: 5.2469 - val_mae: 1.6645\n",
            "Epoch 98/250\n",
            "178/178 [==============================] - 18s 100ms/step - loss: 0.2714 - mae: 0.3587 - val_loss: 5.2482 - val_mae: 1.6634\n",
            "Epoch 99/250\n",
            "178/178 [==============================] - 18s 100ms/step - loss: 0.2557 - mae: 0.3419 - val_loss: 5.2697 - val_mae: 1.6741\n",
            "Epoch 100/250\n",
            "178/178 [==============================] - 18s 100ms/step - loss: 0.3443 - mae: 0.3970 - val_loss: 5.4355 - val_mae: 1.7173\n",
            "Epoch 101/250\n",
            "178/178 [==============================] - 18s 100ms/step - loss: 0.3000 - mae: 0.3886 - val_loss: 4.6128 - val_mae: 1.6258\n",
            "Epoch 102/250\n",
            "178/178 [==============================] - 18s 100ms/step - loss: 0.2661 - mae: 0.3672 - val_loss: 4.6391 - val_mae: 1.6311\n",
            "Epoch 103/250\n",
            "178/178 [==============================] - 18s 100ms/step - loss: 0.2719 - mae: 0.3668 - val_loss: 5.0704 - val_mae: 1.6842\n",
            "Epoch 104/250\n",
            "178/178 [==============================] - 18s 100ms/step - loss: 0.2922 - mae: 0.3671 - val_loss: 4.8705 - val_mae: 1.6540\n",
            "Epoch 105/250\n",
            "178/178 [==============================] - 18s 100ms/step - loss: 0.2546 - mae: 0.3544 - val_loss: 5.1620 - val_mae: 1.6925\n",
            "Epoch 106/250\n",
            "178/178 [==============================] - 18s 100ms/step - loss: 0.3143 - mae: 0.3684 - val_loss: 5.2202 - val_mae: 1.7043\n",
            "Epoch 107/250\n",
            "178/178 [==============================] - 18s 99ms/step - loss: 0.2435 - mae: 0.3468 - val_loss: 5.3983 - val_mae: 1.7164\n",
            "Epoch 108/250\n",
            "178/178 [==============================] - 18s 100ms/step - loss: 0.2459 - mae: 0.3393 - val_loss: 5.6501 - val_mae: 1.7577\n",
            "Epoch 109/250\n",
            "178/178 [==============================] - 18s 100ms/step - loss: 0.2272 - mae: 0.3393 - val_loss: 5.5726 - val_mae: 1.7506\n",
            "Epoch 110/250\n",
            "178/178 [==============================] - 18s 100ms/step - loss: 0.2552 - mae: 0.3477 - val_loss: 5.2936 - val_mae: 1.7384\n",
            "Epoch 111/250\n",
            "178/178 [==============================] - 18s 99ms/step - loss: 0.3475 - mae: 0.3601 - val_loss: 5.2689 - val_mae: 1.7113\n",
            "Epoch 112/250\n",
            "178/178 [==============================] - 18s 99ms/step - loss: 0.3638 - mae: 0.4027 - val_loss: 6.9457 - val_mae: 1.9086\n",
            "Epoch 113/250\n",
            "178/178 [==============================] - 18s 101ms/step - loss: 0.3299 - mae: 0.3841 - val_loss: 6.0998 - val_mae: 1.7969\n",
            "Epoch 114/250\n",
            "178/178 [==============================] - 18s 101ms/step - loss: 0.3106 - mae: 0.3738 - val_loss: 5.5978 - val_mae: 1.7603\n",
            "Epoch 115/250\n",
            "178/178 [==============================] - 18s 100ms/step - loss: 0.3067 - mae: 0.3792 - val_loss: 6.4188 - val_mae: 1.8754\n",
            "Epoch 116/250\n",
            "178/178 [==============================] - 18s 100ms/step - loss: 0.2941 - mae: 0.3649 - val_loss: 5.7213 - val_mae: 1.7868\n",
            "Epoch 117/250\n",
            "178/178 [==============================] - 18s 100ms/step - loss: 0.2830 - mae: 0.3647 - val_loss: 6.5881 - val_mae: 1.8938\n",
            "Epoch 118/250\n",
            "178/178 [==============================] - 18s 100ms/step - loss: 0.3647 - mae: 0.3803 - val_loss: 5.7525 - val_mae: 1.7744\n",
            "Epoch 119/250\n",
            "178/178 [==============================] - 18s 100ms/step - loss: 0.3598 - mae: 0.3980 - val_loss: 5.5532 - val_mae: 1.7716\n",
            "Epoch 120/250\n",
            "178/178 [==============================] - 18s 100ms/step - loss: 0.2920 - mae: 0.3753 - val_loss: 5.3282 - val_mae: 1.7411\n",
            "Epoch 121/250\n",
            "178/178 [==============================] - 18s 101ms/step - loss: 0.3495 - mae: 0.3933 - val_loss: 5.3406 - val_mae: 1.7640\n",
            "Epoch 122/250\n",
            "178/178 [==============================] - 18s 100ms/step - loss: 0.2912 - mae: 0.3711 - val_loss: 5.2929 - val_mae: 1.7391\n",
            "Epoch 123/250\n",
            "178/178 [==============================] - 18s 100ms/step - loss: 0.3059 - mae: 0.3782 - val_loss: 5.7191 - val_mae: 1.7890\n",
            "Epoch 124/250\n",
            "178/178 [==============================] - 18s 100ms/step - loss: 0.2980 - mae: 0.3654 - val_loss: 5.4104 - val_mae: 1.7609\n",
            "Epoch 125/250\n",
            "178/178 [==============================] - 18s 100ms/step - loss: 0.4474 - mae: 0.3978 - val_loss: 5.8901 - val_mae: 1.8147\n",
            "Epoch 126/250\n",
            "178/178 [==============================] - 18s 101ms/step - loss: 0.2499 - mae: 0.3515 - val_loss: 5.7074 - val_mae: 1.7894\n",
            "Epoch 127/250\n",
            "178/178 [==============================] - 18s 101ms/step - loss: 0.2691 - mae: 0.3577 - val_loss: 6.1611 - val_mae: 1.8394\n",
            "Epoch 128/250\n",
            "178/178 [==============================] - 18s 101ms/step - loss: 0.3339 - mae: 0.3731 - val_loss: 5.6001 - val_mae: 1.7836\n",
            "Epoch 129/250\n",
            "178/178 [==============================] - 18s 100ms/step - loss: 0.2640 - mae: 0.3570 - val_loss: 4.9686 - val_mae: 1.7023\n",
            "Epoch 130/250\n",
            "178/178 [==============================] - 18s 100ms/step - loss: 0.2867 - mae: 0.3651 - val_loss: 6.8794 - val_mae: 1.9441\n",
            "Epoch 131/250\n",
            "178/178 [==============================] - 18s 100ms/step - loss: 0.3388 - mae: 0.3751 - val_loss: 5.9482 - val_mae: 1.8177\n",
            "Epoch 132/250\n",
            "178/178 [==============================] - 18s 101ms/step - loss: 0.2800 - mae: 0.3581 - val_loss: 5.8592 - val_mae: 1.8059\n",
            "Epoch 133/250\n",
            "178/178 [==============================] - 18s 101ms/step - loss: 0.2700 - mae: 0.3522 - val_loss: 5.5034 - val_mae: 1.7610\n",
            "Epoch 134/250\n",
            "178/178 [==============================] - 18s 101ms/step - loss: 0.2937 - mae: 0.3564 - val_loss: 5.5521 - val_mae: 1.7581\n",
            "Epoch 135/250\n",
            "178/178 [==============================] - 18s 100ms/step - loss: 0.3853 - mae: 0.3758 - val_loss: 5.4946 - val_mae: 1.7432\n",
            "Epoch 136/250\n",
            "178/178 [==============================] - 18s 100ms/step - loss: 0.2728 - mae: 0.3569 - val_loss: 5.8033 - val_mae: 1.7880\n",
            "Epoch 137/250\n",
            "178/178 [==============================] - 19s 101ms/step - loss: 0.2421 - mae: 0.3464 - val_loss: 5.7848 - val_mae: 1.7935\n",
            "Epoch 138/250\n",
            "178/178 [==============================] - 18s 101ms/step - loss: 0.2762 - mae: 0.3525 - val_loss: 5.2084 - val_mae: 1.7357\n",
            "Epoch 139/250\n",
            "178/178 [==============================] - 18s 100ms/step - loss: 0.3335 - mae: 0.3588 - val_loss: 5.5424 - val_mae: 1.7669\n",
            "Epoch 140/250\n",
            "178/178 [==============================] - 18s 100ms/step - loss: 0.2934 - mae: 0.3667 - val_loss: 7.6640 - val_mae: 2.0213\n",
            "Epoch 141/250\n",
            "178/178 [==============================] - 18s 100ms/step - loss: 0.2689 - mae: 0.3573 - val_loss: 6.2622 - val_mae: 1.8405\n",
            "Epoch 142/250\n",
            "178/178 [==============================] - 18s 101ms/step - loss: 0.3354 - mae: 0.3551 - val_loss: 6.2382 - val_mae: 1.8566\n",
            "Epoch 143/250\n",
            "178/178 [==============================] - 18s 101ms/step - loss: 0.2656 - mae: 0.3467 - val_loss: 6.2793 - val_mae: 1.8639\n",
            "Epoch 144/250\n",
            "178/178 [==============================] - 18s 101ms/step - loss: 0.2560 - mae: 0.3499 - val_loss: 6.5180 - val_mae: 1.8997\n",
            "Epoch 145/250\n",
            "178/178 [==============================] - 18s 101ms/step - loss: 0.2433 - mae: 0.3406 - val_loss: 6.0624 - val_mae: 1.8290\n",
            "Epoch 146/250\n",
            "178/178 [==============================] - 18s 100ms/step - loss: 0.3919 - mae: 0.4170 - val_loss: 5.9988 - val_mae: 1.8254\n",
            "Epoch 147/250\n",
            "178/178 [==============================] - 18s 100ms/step - loss: 0.3637 - mae: 0.4136 - val_loss: 12.0253 - val_mae: 2.1873\n",
            "Epoch 148/250\n",
            "178/178 [==============================] - 18s 100ms/step - loss: 0.4431 - mae: 0.3969 - val_loss: 14.0276 - val_mae: 2.5953\n",
            "Epoch 149/250\n",
            "178/178 [==============================] - 18s 100ms/step - loss: 0.5001 - mae: 0.4042 - val_loss: 19.9698 - val_mae: 2.6974\n",
            "Epoch 150/250\n",
            "178/178 [==============================] - 18s 101ms/step - loss: 0.8612 - mae: 0.4497 - val_loss: 6.8392 - val_mae: 1.9088\n",
            "Epoch 151/250\n",
            "178/178 [==============================] - 18s 100ms/step - loss: 0.5799 - mae: 0.4232 - val_loss: 6.5995 - val_mae: 1.9453\n",
            "Epoch 152/250\n",
            "178/178 [==============================] - 18s 101ms/step - loss: 0.3926 - mae: 0.4205 - val_loss: 5.8307 - val_mae: 1.8287\n",
            "Epoch 153/250\n",
            "178/178 [==============================] - 18s 100ms/step - loss: 1.3452 - mae: 0.4911 - val_loss: 8.3551 - val_mae: 2.1783\n",
            "Epoch 154/250\n",
            "178/178 [==============================] - 18s 101ms/step - loss: 0.5017 - mae: 0.4504 - val_loss: 6.5183 - val_mae: 1.9364\n",
            "Epoch 155/250\n",
            "178/178 [==============================] - 18s 100ms/step - loss: 0.4414 - mae: 0.4255 - val_loss: 6.4226 - val_mae: 1.9140\n",
            "Epoch 156/250\n",
            "178/178 [==============================] - 18s 101ms/step - loss: 0.3026 - mae: 0.3832 - val_loss: 5.8571 - val_mae: 1.8334\n",
            "Epoch 157/250\n",
            "178/178 [==============================] - 18s 100ms/step - loss: 0.3210 - mae: 0.3892 - val_loss: 6.1120 - val_mae: 1.8734\n",
            "Epoch 158/250\n",
            "178/178 [==============================] - 18s 100ms/step - loss: 0.3670 - mae: 0.3955 - val_loss: 5.6333 - val_mae: 1.8206\n",
            "Epoch 159/250\n",
            "178/178 [==============================] - 18s 101ms/step - loss: 0.3612 - mae: 0.3856 - val_loss: 5.6711 - val_mae: 1.8289\n",
            "Epoch 160/250\n",
            "178/178 [==============================] - 18s 101ms/step - loss: 0.3763 - mae: 0.3883 - val_loss: 5.3265 - val_mae: 1.7707\n",
            "Epoch 161/250\n",
            "178/178 [==============================] - 18s 100ms/step - loss: 0.4195 - mae: 0.3934 - val_loss: 5.5985 - val_mae: 1.8111\n",
            "Epoch 162/250\n",
            "178/178 [==============================] - 18s 98ms/step - loss: 0.8476 - mae: 0.4530 - val_loss: 4.8738 - val_mae: 1.6925\n",
            "Epoch 163/250\n",
            "178/178 [==============================] - 18s 100ms/step - loss: 0.9824 - mae: 0.4596 - val_loss: 5.2813 - val_mae: 1.7470\n",
            "Epoch 164/250\n",
            "178/178 [==============================] - 18s 100ms/step - loss: 0.6905 - mae: 0.4282 - val_loss: 7.4872 - val_mae: 1.9388\n",
            "Epoch 165/250\n",
            "178/178 [==============================] - 18s 100ms/step - loss: 0.4297 - mae: 0.3881 - val_loss: 7.0287 - val_mae: 1.8928\n",
            "Epoch 166/250\n",
            "178/178 [==============================] - 18s 100ms/step - loss: 0.3481 - mae: 0.3781 - val_loss: 5.7944 - val_mae: 1.8139\n",
            "Epoch 167/250\n",
            "178/178 [==============================] - 18s 100ms/step - loss: 0.3896 - mae: 0.3748 - val_loss: 7.0835 - val_mae: 1.8652\n",
            "Epoch 168/250\n",
            "178/178 [==============================] - 18s 100ms/step - loss: 0.4091 - mae: 0.3743 - val_loss: 13.8579 - val_mae: 2.6107\n",
            "Epoch 169/250\n",
            "178/178 [==============================] - 18s 100ms/step - loss: 0.4135 - mae: 0.3961 - val_loss: 6.2662 - val_mae: 1.8638\n",
            "Epoch 170/250\n",
            "178/178 [==============================] - 18s 100ms/step - loss: 0.3164 - mae: 0.3813 - val_loss: 7.1145 - val_mae: 1.9989\n",
            "Epoch 171/250\n",
            "178/178 [==============================] - 18s 99ms/step - loss: 0.4611 - mae: 0.3842 - val_loss: 13.7261 - val_mae: 2.4650\n",
            "Epoch 172/250\n",
            "178/178 [==============================] - 18s 100ms/step - loss: 0.4210 - mae: 0.3901 - val_loss: 15.5231 - val_mae: 2.5164\n",
            "Epoch 173/250\n",
            "178/178 [==============================] - 18s 100ms/step - loss: 0.9731 - mae: 0.4493 - val_loss: 38.3692 - val_mae: 3.7223\n",
            "Epoch 174/250\n",
            "178/178 [==============================] - 18s 100ms/step - loss: 0.2889 - mae: 0.3673 - val_loss: 34.6420 - val_mae: 3.4202\n",
            "Epoch 175/250\n",
            "178/178 [==============================] - 18s 100ms/step - loss: 0.3482 - mae: 0.3968 - val_loss: 8.7606 - val_mae: 1.9551\n",
            "Epoch 176/250\n",
            "178/178 [==============================] - 18s 100ms/step - loss: 0.4031 - mae: 0.3945 - val_loss: 11.8061 - val_mae: 2.1378\n",
            "Epoch 177/250\n",
            "178/178 [==============================] - 18s 100ms/step - loss: 0.3246 - mae: 0.3840 - val_loss: 13.5735 - val_mae: 2.2011\n",
            "Epoch 178/250\n",
            "178/178 [==============================] - 18s 100ms/step - loss: 0.3322 - mae: 0.3742 - val_loss: 10.5175 - val_mae: 2.0438\n",
            "Epoch 179/250\n",
            "178/178 [==============================] - 18s 99ms/step - loss: 0.3693 - mae: 0.3865 - val_loss: 16.3211 - val_mae: 2.4975\n",
            "Epoch 180/250\n",
            "178/178 [==============================] - 18s 100ms/step - loss: 0.3304 - mae: 0.3740 - val_loss: 9.9483 - val_mae: 2.0286\n",
            "Epoch 181/250\n",
            "178/178 [==============================] - 18s 100ms/step - loss: 0.2898 - mae: 0.3682 - val_loss: 10.9332 - val_mae: 2.0837\n",
            "Epoch 182/250\n",
            "178/178 [==============================] - 18s 101ms/step - loss: 0.2799 - mae: 0.3638 - val_loss: 11.5467 - val_mae: 2.1312\n",
            "Epoch 183/250\n",
            "178/178 [==============================] - 18s 100ms/step - loss: 0.2801 - mae: 0.3622 - val_loss: 10.1002 - val_mae: 2.0228\n",
            "Epoch 184/250\n",
            "178/178 [==============================] - 18s 100ms/step - loss: 0.3226 - mae: 0.3604 - val_loss: 12.0184 - val_mae: 2.1213\n",
            "Epoch 185/250\n",
            "178/178 [==============================] - 18s 101ms/step - loss: 0.2927 - mae: 0.3586 - val_loss: 12.1146 - val_mae: 2.0944\n",
            "Epoch 186/250\n",
            "178/178 [==============================] - 18s 100ms/step - loss: 0.2889 - mae: 0.3570 - val_loss: 12.6347 - val_mae: 2.1487\n",
            "Epoch 187/250\n",
            "178/178 [==============================] - 18s 100ms/step - loss: 0.3708 - mae: 0.3762 - val_loss: 6.1027 - val_mae: 1.9109\n",
            "Epoch 188/250\n",
            "178/178 [==============================] - 18s 100ms/step - loss: 0.3093 - mae: 0.3824 - val_loss: 4.5443 - val_mae: 1.6354\n",
            "Epoch 189/250\n",
            "178/178 [==============================] - 18s 101ms/step - loss: 0.2805 - mae: 0.3733 - val_loss: 4.4904 - val_mae: 1.6137\n",
            "Epoch 190/250\n",
            "178/178 [==============================] - 18s 100ms/step - loss: 0.3770 - mae: 0.3863 - val_loss: 10.2846 - val_mae: 2.2409\n",
            "Epoch 191/250\n",
            "178/178 [==============================] - 18s 100ms/step - loss: 0.3587 - mae: 0.4054 - val_loss: 11.4457 - val_mae: 2.1539\n",
            "Epoch 192/250\n",
            "178/178 [==============================] - 18s 100ms/step - loss: 0.3360 - mae: 0.4004 - val_loss: 9.9164 - val_mae: 2.0960\n",
            "Epoch 193/250\n",
            "178/178 [==============================] - 18s 101ms/step - loss: 0.3153 - mae: 0.3745 - val_loss: 9.6819 - val_mae: 2.0695\n",
            "Epoch 194/250\n",
            "178/178 [==============================] - 18s 100ms/step - loss: 0.3120 - mae: 0.3714 - val_loss: 14.0491 - val_mae: 2.3129\n",
            "Epoch 195/250\n",
            "178/178 [==============================] - 18s 100ms/step - loss: 0.3081 - mae: 0.3595 - val_loss: 9.5395 - val_mae: 2.0061\n",
            "Epoch 196/250\n",
            "178/178 [==============================] - 18s 100ms/step - loss: 0.2900 - mae: 0.3580 - val_loss: 12.6747 - val_mae: 2.1933\n",
            "Epoch 197/250\n",
            "178/178 [==============================] - 18s 101ms/step - loss: 0.3033 - mae: 0.3647 - val_loss: 11.7342 - val_mae: 2.1300\n",
            "Epoch 198/250\n",
            "178/178 [==============================] - 18s 101ms/step - loss: 0.3149 - mae: 0.3582 - val_loss: 10.7348 - val_mae: 2.0875\n",
            "Epoch 199/250\n",
            "178/178 [==============================] - 18s 100ms/step - loss: 0.3179 - mae: 0.3726 - val_loss: 13.9106 - val_mae: 2.2797\n",
            "Epoch 200/250\n",
            "178/178 [==============================] - 18s 100ms/step - loss: 0.2991 - mae: 0.3619 - val_loss: 16.0297 - val_mae: 2.3707\n",
            "Epoch 201/250\n",
            "178/178 [==============================] - 18s 101ms/step - loss: 0.2842 - mae: 0.3568 - val_loss: 10.1633 - val_mae: 2.1271\n",
            "Epoch 202/250\n",
            "178/178 [==============================] - 18s 101ms/step - loss: 0.2847 - mae: 0.3602 - val_loss: 12.4182 - val_mae: 2.2599\n",
            "Epoch 203/250\n",
            "178/178 [==============================] - 18s 100ms/step - loss: 0.2497 - mae: 0.3493 - val_loss: 14.9760 - val_mae: 2.4243\n",
            "Epoch 204/250\n",
            "178/178 [==============================] - 19s 102ms/step - loss: 0.2923 - mae: 0.3557 - val_loss: 14.2528 - val_mae: 2.3306\n",
            "Epoch 205/250\n",
            "178/178 [==============================] - 18s 101ms/step - loss: 0.2993 - mae: 0.3547 - val_loss: 19.4489 - val_mae: 2.6883\n",
            "Epoch 206/250\n",
            "178/178 [==============================] - 18s 101ms/step - loss: 0.3285 - mae: 0.3565 - val_loss: 14.2757 - val_mae: 2.3035\n",
            "Epoch 207/250\n",
            "178/178 [==============================] - 18s 100ms/step - loss: 0.2591 - mae: 0.3456 - val_loss: 19.6435 - val_mae: 2.5838\n",
            "Epoch 208/250\n",
            "178/178 [==============================] - 18s 100ms/step - loss: 0.2426 - mae: 0.3350 - val_loss: 21.2737 - val_mae: 2.6553\n",
            "Epoch 209/250\n",
            "178/178 [==============================] - 18s 100ms/step - loss: 0.2766 - mae: 0.3405 - val_loss: 21.0100 - val_mae: 2.5993\n",
            "Epoch 210/250\n",
            "178/178 [==============================] - 19s 101ms/step - loss: 0.2618 - mae: 0.3506 - val_loss: 24.4047 - val_mae: 2.8335\n",
            "Epoch 211/250\n",
            "178/178 [==============================] - 18s 101ms/step - loss: 0.2585 - mae: 0.3508 - val_loss: 23.9522 - val_mae: 2.7797\n",
            "Epoch 212/250\n",
            "178/178 [==============================] - 18s 99ms/step - loss: 0.2761 - mae: 0.3443 - val_loss: 23.1384 - val_mae: 2.7351\n",
            "Epoch 213/250\n",
            "178/178 [==============================] - 18s 100ms/step - loss: 0.3008 - mae: 0.3645 - val_loss: 7.5027 - val_mae: 1.9448\n",
            "Epoch 214/250\n",
            "178/178 [==============================] - 18s 100ms/step - loss: 0.2892 - mae: 0.3628 - val_loss: 5.6611 - val_mae: 1.6842\n",
            "Epoch 215/250\n",
            "178/178 [==============================] - 18s 100ms/step - loss: 0.4005 - mae: 0.4098 - val_loss: 33.1785 - val_mae: 3.5002\n",
            "Epoch 216/250\n",
            "178/178 [==============================] - 18s 100ms/step - loss: 0.3225 - mae: 0.3692 - val_loss: 20.9843 - val_mae: 2.7517\n",
            "Epoch 217/250\n",
            "178/178 [==============================] - 18s 100ms/step - loss: 0.3168 - mae: 0.3540 - val_loss: 19.6962 - val_mae: 2.6684\n",
            "Epoch 218/250\n",
            "178/178 [==============================] - 18s 100ms/step - loss: 0.2547 - mae: 0.3464 - val_loss: 18.1323 - val_mae: 2.5099\n",
            "Epoch 219/250\n",
            "178/178 [==============================] - 18s 100ms/step - loss: 0.2737 - mae: 0.3431 - val_loss: 16.5684 - val_mae: 2.5053\n",
            "Epoch 220/250\n",
            "178/178 [==============================] - 18s 100ms/step - loss: 0.2383 - mae: 0.3318 - val_loss: 13.7468 - val_mae: 2.4171\n",
            "Epoch 221/250\n",
            "178/178 [==============================] - 18s 100ms/step - loss: 0.3026 - mae: 0.3598 - val_loss: 17.2378 - val_mae: 2.4405\n",
            "Epoch 222/250\n",
            "178/178 [==============================] - 18s 100ms/step - loss: 0.2620 - mae: 0.3471 - val_loss: 10.1277 - val_mae: 1.9967\n",
            "Epoch 223/250\n",
            "178/178 [==============================] - 18s 101ms/step - loss: 0.2497 - mae: 0.3408 - val_loss: 9.2855 - val_mae: 1.9061\n",
            "Epoch 224/250\n",
            "178/178 [==============================] - 18s 100ms/step - loss: 0.3711 - mae: 0.3753 - val_loss: 11.2186 - val_mae: 2.1031\n",
            "Epoch 225/250\n",
            "178/178 [==============================] - 18s 100ms/step - loss: 0.3195 - mae: 0.3726 - val_loss: 12.1079 - val_mae: 2.0479\n",
            "Epoch 226/250\n",
            "178/178 [==============================] - 18s 100ms/step - loss: 0.2901 - mae: 0.3519 - val_loss: 11.0673 - val_mae: 1.9747\n",
            "Epoch 227/250\n",
            "178/178 [==============================] - 18s 101ms/step - loss: 0.2555 - mae: 0.3409 - val_loss: 8.9397 - val_mae: 1.8636\n",
            "Epoch 228/250\n",
            "178/178 [==============================] - 18s 99ms/step - loss: 0.3217 - mae: 0.3639 - val_loss: 8.4492 - val_mae: 1.8713\n",
            "Epoch 229/250\n",
            "178/178 [==============================] - 18s 100ms/step - loss: 0.3203 - mae: 0.3758 - val_loss: 12.0994 - val_mae: 2.0694\n",
            "Epoch 230/250\n",
            "178/178 [==============================] - 18s 101ms/step - loss: 0.2798 - mae: 0.3552 - val_loss: 5.8573 - val_mae: 1.6866\n",
            "Epoch 231/250\n",
            "178/178 [==============================] - 18s 100ms/step - loss: 0.2878 - mae: 0.3500 - val_loss: 4.7533 - val_mae: 1.6328\n",
            "Epoch 232/250\n",
            "178/178 [==============================] - 18s 100ms/step - loss: 0.2961 - mae: 0.3475 - val_loss: 9.8438 - val_mae: 1.8763\n",
            "Epoch 233/250\n",
            "178/178 [==============================] - 18s 100ms/step - loss: 0.2850 - mae: 0.3604 - val_loss: 4.1699 - val_mae: 1.5511\n",
            "Epoch 234/250\n",
            "178/178 [==============================] - 18s 101ms/step - loss: 0.3602 - mae: 0.3691 - val_loss: 4.3802 - val_mae: 1.5890\n",
            "Epoch 235/250\n",
            "178/178 [==============================] - 18s 100ms/step - loss: 0.4188 - mae: 0.3686 - val_loss: 4.5185 - val_mae: 1.6106\n",
            "Epoch 236/250\n",
            "178/178 [==============================] - 18s 100ms/step - loss: 0.3683 - mae: 0.3758 - val_loss: 4.8760 - val_mae: 1.6858\n",
            "Epoch 237/250\n",
            "178/178 [==============================] - 18s 100ms/step - loss: 0.2994 - mae: 0.3652 - val_loss: 4.3609 - val_mae: 1.6137\n",
            "Epoch 238/250\n",
            "178/178 [==============================] - 18s 100ms/step - loss: 0.2689 - mae: 0.3475 - val_loss: 4.6071 - val_mae: 1.6541\n",
            "Epoch 239/250\n",
            "178/178 [==============================] - 18s 100ms/step - loss: 0.2539 - mae: 0.3511 - val_loss: 4.9688 - val_mae: 1.6853\n",
            "Epoch 240/250\n",
            "178/178 [==============================] - 18s 100ms/step - loss: 0.2984 - mae: 0.3547 - val_loss: 5.0382 - val_mae: 1.6897\n",
            "Epoch 241/250\n",
            "178/178 [==============================] - 18s 100ms/step - loss: 0.3094 - mae: 0.3482 - val_loss: 4.2709 - val_mae: 1.5842\n",
            "Epoch 242/250\n",
            "178/178 [==============================] - 18s 100ms/step - loss: 0.2664 - mae: 0.3415 - val_loss: 4.2885 - val_mae: 1.5907\n",
            "Epoch 243/250\n",
            "178/178 [==============================] - 18s 100ms/step - loss: 0.2942 - mae: 0.3504 - val_loss: 4.4919 - val_mae: 1.6192\n",
            "Epoch 244/250\n",
            "178/178 [==============================] - 18s 100ms/step - loss: 0.3534 - mae: 0.3447 - val_loss: 4.3919 - val_mae: 1.6033\n",
            "Epoch 245/250\n",
            "178/178 [==============================] - 18s 101ms/step - loss: 0.2634 - mae: 0.3466 - val_loss: 4.9453 - val_mae: 1.6759\n",
            "Epoch 246/250\n",
            "178/178 [==============================] - 18s 100ms/step - loss: 0.3812 - mae: 0.3478 - val_loss: 5.1481 - val_mae: 1.7033\n",
            "Epoch 247/250\n",
            "178/178 [==============================] - 18s 100ms/step - loss: 0.2701 - mae: 0.3404 - val_loss: 5.1373 - val_mae: 1.6918\n",
            "Epoch 248/250\n",
            "178/178 [==============================] - 18s 100ms/step - loss: 0.3247 - mae: 0.3526 - val_loss: 5.0369 - val_mae: 1.6837\n",
            "Epoch 249/250\n",
            "178/178 [==============================] - 18s 101ms/step - loss: 0.2308 - mae: 0.3311 - val_loss: 4.8619 - val_mae: 1.6540\n",
            "Epoch 250/250\n",
            "178/178 [==============================] - 18s 100ms/step - loss: 0.2730 - mae: 0.3448 - val_loss: 5.3719 - val_mae: 1.7225\n"
          ]
        }
      ]
    },
    {
      "cell_type": "code",
      "source": [
        "loss = history.history['loss']\n",
        "val_loss = history.history['val_loss']\n",
        "mae = history.history['mae']\n",
        "val_mae = history.history['val_mae']\n",
        "\n",
        "\n",
        "epochs_x = range(len(loss))\n",
        "\n",
        "\n",
        "plt.plot(epochs_x, mae, 'o', color ='darkviolet', label='Training MAE')\n",
        "plt.plot(epochs_x, val_mae, 'k', label='Validation MAE')\n",
        "plt.title('Training and validation MeanAbsoluteError')\n",
        "plt.legend()\n",
        "\n",
        "plt.figure()\n",
        "plt.plot(epochs_x, loss, 'o', color ='darkviolet', label='Training loss')\n",
        "plt.plot(epochs_x, val_loss, 'k', label='Validation loss')\n",
        "plt.title('Training and validation loss')\n",
        "plt.legend()\n",
        "\n",
        "plt.show()"
      ],
      "metadata": {
        "id": "Y3K89-CM-dfg",
        "colab": {
          "base_uri": "https://localhost:8080/",
          "height": 887
        },
        "outputId": "583518b3-015d-46a8-dc9a-a514e00dcf40"
      },
      "execution_count": 19,
      "outputs": [
        {
          "output_type": "display_data",
          "data": {
            "text/plain": [
              "<Figure size 640x480 with 1 Axes>"
            ],
            "image/png": "[encoded data removed]"
          },
          "metadata": {}
        },
        {
          "output_type": "display_data",
          "data": {
            "text/plain": [
              "<Figure size 640x480 with 1 Axes>"
            ],
            "image/png": "[encoded data removed]"
          },
          "metadata": {}
        }
      ]
    },
    {
      "cell_type": "code",
      "source": [],
      "metadata": {
        "id": "sI5JVEwwQsjc"
      },
      "execution_count": 19,
      "outputs": []
    },
    {
      "cell_type": "code",
      "source": [
        "epochs_x"
      ],
      "metadata": {
        "id": "N_sP_ZmSY-Jv",
        "colab": {
          "base_uri": "https://localhost:8080/"
        },
        "outputId": "d33270f6-036a-48e8-e6a4-675fc75babb6"
      },
      "execution_count": 20,
      "outputs": [
        {
          "output_type": "execute_result",
          "data": {
            "text/plain": [
              "range(0, 250)"
            ]
          },
          "metadata": {},
          "execution_count": 20
        }
      ]
    },
    {
      "cell_type": "markdown",
      "source": [
        "#Download the model\n"
      ],
      "metadata": {
        "id": "R19IJQSYoW7J"
      }
    },
    {
      "cell_type": "code",
      "source": [
        "os.makedirs('/content/drive/My Drive/cut_panoramic/Model', exist_ok=True)\n",
        "model.save('/content/drive/MyDrive/cut_panoramic/Model/Regression/All/12Re_All_1G_1e-4_16_0.2_250_New_Unfreez.h5')"
      ],
      "metadata": {
        "id": "Zed4TdFcG2iJ"
      },
      "execution_count": 21,
      "outputs": []
    },
    {
      "cell_type": "markdown",
      "source": [],
      "metadata": {
        "id": "n5YxZ-5QjQ0-"
      }
    },
    {
      "cell_type": "code",
      "source": [
        "# from google.colab import files\n",
        "# files.download('/content/drive/My Drive/cut_panoramic/Model/1.1_รอบแรก_Flimpano_Male125_250.h5')"
      ],
      "metadata": {
        "id": "P5eMxm1NV-oY"
      },
      "execution_count": 22,
      "outputs": []
    },
    {
      "cell_type": "code",
      "source": [
        "\n"
      ],
      "metadata": {
        "id": "wY_pDlxkRwxS"
      },
      "execution_count": 22,
      "outputs": []
    }
  ]
}