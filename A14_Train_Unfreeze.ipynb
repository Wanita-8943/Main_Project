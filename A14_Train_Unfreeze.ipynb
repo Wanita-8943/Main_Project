{
  "nbformat": 4,
  "nbformat_minor": 0,
  "metadata": {
    "colab": {
      "provenance": [],
      "machine_shape": "hm",
      "include_colab_link": true
    },
    "kernelspec": {
      "name": "python3",
      "display_name": "Python 3"
    },
    "language_info": {
      "name": "python"
    },
    "accelerator": "GPU",
    "gpuClass": "standard"
  },
  "cells": [
    {
      "cell_type": "markdown",
      "metadata": {
        "id": "view-in-github",
        "colab_type": "text"
      },
      "source": [
        "<a href=\"https://colab.research.google.com/github/Wanita-8943/Main_Project/blob/main/A14_Train_Unfreeze.ipynb\" target=\"_parent\"><img src=\"https://colab.research.google.com/assets/colab-badge.svg\" alt=\"Open In Colab\"/></a>"
      ]
    },
    {
      "cell_type": "markdown",
      "source": [
        "#เรียกใช้ CSV"
      ],
      "metadata": {
        "id": "ow7eWoNw6U-c"
      }
    },
    {
      "cell_type": "code",
      "execution_count": 1,
      "metadata": {
        "id": "z8o_VVNXzcL8"
      },
      "outputs": [],
      "source": [
        "import pandas as pd\n",
        "import shutil"
      ]
    },
    {
      "cell_type": "code",
      "source": [
        "from google.colab import drive\n",
        "drive.mount('/content/drive')"
      ],
      "metadata": {
        "colab": {
          "base_uri": "https://localhost:8080/"
        },
        "id": "1_2Fe8u81d5r",
        "outputId": "74ba6545-073f-44e4-f266-57ba35d5b31b"
      },
      "execution_count": 2,
      "outputs": [
        {
          "output_type": "stream",
          "name": "stdout",
          "text": [
            "Mounted at /content/drive\n"
          ]
        }
      ]
    },
    {
      "cell_type": "markdown",
      "source": [
        "#Imports"
      ],
      "metadata": {
        "id": "5qxePnnn7TGW"
      }
    },
    {
      "cell_type": "code",
      "source": [
        "from tensorflow.keras import models\n",
        "from tensorflow.keras import layers\n",
        "from tensorflow.keras import optimizers\n",
        "import os\n",
        "import glob\n",
        "import shutil\n",
        "import sys\n",
        "import numpy as np\n",
        "from skimage.io import imread\n",
        "import matplotlib.pyplot as plt\n",
        "from IPython.display import Image\n",
        "%matplotlib inline"
      ],
      "metadata": {
        "id": "D-hCRloc3t39"
      },
      "execution_count": 3,
      "outputs": []
    },
    {
      "cell_type": "code",
      "source": [
        "import tensorflow as tf\n",
        "from tensorflow.keras import Sequential\n",
        "from tensorflow.keras.layers import Dense\n",
        "from tensorflow.keras.optimizers import Adam\n",
        "from tensorflow.keras import backend as K"
      ],
      "metadata": {
        "id": "YZWXwjXeGxZP"
      },
      "execution_count": 4,
      "outputs": []
    },
    {
      "cell_type": "markdown",
      "source": [
        "#กำหนดค่าพารามิเตอร์\n"
      ],
      "metadata": {
        "id": "RooqSdBc7QHC"
      }
    },
    {
      "cell_type": "code",
      "source": [
        "batch_size = 16\n",
        "width = 150\n",
        "height = 150\n",
        "epochs = 250\n",
        "NUM_TRAIN = 2850\n",
        "NUM_TEST = 950\n",
        "dropout_rate = 0.2\n",
        "input_shape = (height, width, 3)"
      ],
      "metadata": {
        "id": "thDb7U9B3xOo"
      },
      "execution_count": 5,
      "outputs": []
    },
    {
      "cell_type": "markdown",
      "source": [
        "#Clone efficientnet repo\n"
      ],
      "metadata": {
        "id": "pumGmy6f3eSW"
      }
    },
    {
      "cell_type": "code",
      "source": [
        "#ดึงข้อมูลใน Github มาใช้\n",
        "import os\n",
        "%cd /content\n",
        "if not os.path.isdir(\"efficientnet_keras_transfer_learning\"):\n",
        " !git clone https://github.com/Wanita-8943/efficientnet_keras_transfer_learning\n",
        "%cd efficientnet_keras_transfer_learning/\n"
      ],
      "metadata": {
        "colab": {
          "base_uri": "https://localhost:8080/"
        },
        "id": "P7iy2f8n16p0",
        "outputId": "4c424c9c-a85a-4807-d5bc-5d198d575d2c"
      },
      "execution_count": 6,
      "outputs": [
        {
          "output_type": "stream",
          "name": "stdout",
          "text": [
            "/content\n",
            "Cloning into 'efficientnet_keras_transfer_learning'...\n",
            "remote: Enumerating objects: 1085, done.\u001b[K\n",
            "remote: Counting objects: 100% (248/248), done.\u001b[K\n",
            "remote: Compressing objects: 100% (127/127), done.\u001b[K\n",
            "remote: Total 1085 (delta 124), reused 241 (delta 121), pack-reused 837\u001b[K\n",
            "Receiving objects: 100% (1085/1085), 14.09 MiB | 20.53 MiB/s, done.\n",
            "Resolving deltas: 100% (621/621), done.\n",
            "/content/efficientnet_keras_transfer_learning\n"
          ]
        }
      ]
    },
    {
      "cell_type": "code",
      "source": [
        "# Options: EfficientNetB0, EfficientNetB1, EfficientNetB2, EfficientNetB3\n",
        "# Higher the number, the more complex the model is.\n",
        "from efficientnet import EfficientNetB0 as Net\n",
        "from efficientnet import center_crop_and_resize, preprocess_input"
      ],
      "metadata": {
        "id": "tjZBRnfo3bN0"
      },
      "execution_count": 7,
      "outputs": []
    },
    {
      "cell_type": "code",
      "source": [
        "# loading pretrained conv base model\n",
        "# โหลดโมเดล มาโดยตัด output ของโมเดลออก เเต่ยังใช้ input อันเดิม\n",
        "# เเละโหลด weight ของโมเดล มาด้วยที่ชื่อว่า imagenet\n",
        "conv_base = Net(weights='imagenet', include_top=False, input_shape=input_shape)"
      ],
      "metadata": {
        "colab": {
          "base_uri": "https://localhost:8080/"
        },
        "id": "r8BN74_JJdfj",
        "outputId": "5ebd72e5-bae6-4e11-d072-9fb1ef7151da"
      },
      "execution_count": 8,
      "outputs": [
        {
          "output_type": "stream",
          "name": "stdout",
          "text": [
            "Downloading data from https://github.com/qubvel/efficientnet/releases/download/v0.0.1/efficientnet-b0_imagenet_1000_notop.h5\n",
            "16717576/16717576 [==============================] - 2s 0us/step\n"
          ]
        }
      ]
    },
    {
      "cell_type": "markdown",
      "source": [
        "#load model\n"
      ],
      "metadata": {
        "id": "PdNWyD-QYkzK"
      }
    },
    {
      "cell_type": "code",
      "source": [
        "import sys\n",
        "sys.path.append('/content/drive/MyDrive/cut_panoramic/Model/Regression/All/13Re_All_1G_1e-4_16_0.2_250_New_Unfreez.h5')\n",
        "\n",
        "from efficientnet.layers import Swish, DropConnect\n",
        "from efficientnet.model import ConvKernalInitializer\n",
        "from tensorflow.keras.utils import get_custom_objects\n",
        "\n",
        "get_custom_objects().update({\n",
        "    'ConvKernalInitializer': ConvKernalInitializer,\n",
        "    'Swish': Swish,\n",
        "    'DropConnect':DropConnect\n",
        "})"
      ],
      "metadata": {
        "id": "_gPnx2UvYf5A"
      },
      "execution_count": 9,
      "outputs": []
    },
    {
      "cell_type": "code",
      "source": [
        "#load model \n",
        "from tensorflow.keras.models import load_model\n",
        "model = load_model('/content/drive/MyDrive/cut_panoramic/Model/Regression/All/13Re_All_1G_1e-4_16_0.2_250_New_Unfreez.h5')\n",
        "height = width = model.input_shape[1]"
      ],
      "metadata": {
        "id": "Nu93WzFUYm9e"
      },
      "execution_count": 10,
      "outputs": []
    },
    {
      "cell_type": "code",
      "source": [
        "model.summary()"
      ],
      "metadata": {
        "id": "gp5EbyyXYvc6",
        "colab": {
          "base_uri": "https://localhost:8080/"
        },
        "outputId": "29a5009b-0fe5-43ec-9d6a-0f89bcc4b9d7"
      },
      "execution_count": 11,
      "outputs": [
        {
          "output_type": "stream",
          "name": "stdout",
          "text": [
            "Model: \"sequential\"\n",
            "_________________________________________________________________\n",
            " Layer (type)                Output Shape              Param #   \n",
            "=================================================================\n",
            " efficientnet-b0 (Functional  (None, 5, 5, 1280)       4049564   \n",
            " )                                                               \n",
            "                                                                 \n",
            " gap (GlobalMaxPooling2D)    (None, 1280)              0         \n",
            "                                                                 \n",
            " dropout_out (Dropout)       (None, 1280)              0         \n",
            "                                                                 \n",
            " fc_out (Dense)              (None, 19)                24339     \n",
            "                                                                 \n",
            " dense (Dense)               (None, 1)                 20        \n",
            "                                                                 \n",
            "=================================================================\n",
            "Total params: 4,073,923\n",
            "Trainable params: 4,031,907\n",
            "Non-trainable params: 42,016\n",
            "_________________________________________________________________\n"
          ]
        }
      ]
    },
    {
      "cell_type": "code",
      "source": [
        "df = pd.read_csv (r'/content/drive/MyDrive/cut_panoramic/Data/All_Re.csv')\n",
        "df"
      ],
      "metadata": {
        "id": "q1Dc131_Y3uA",
        "colab": {
          "base_uri": "https://localhost:8080/",
          "height": 641
        },
        "outputId": "0e16a947-258e-4606-80a3-8c8f51340832"
      },
      "execution_count": 12,
      "outputs": [
        {
          "output_type": "execute_result",
          "data": {
            "text/plain": [
              "      Fig_Age  Fig_Person_Sex  Age(year) Class  Class_Re       Filename  \\\n",
              "0           1               1          7  Y07F         1         V1.jpg   \n",
              "1           2               1          7  Y07F         1    Flip_V1.jpg   \n",
              "2           3               2          7  Y07F         1         V2.jpg   \n",
              "3           4               2          7  Y07F         1    Flip_V2.jpg   \n",
              "4           5               3          7  Y07F         1         V3.jpg   \n",
              "...       ...             ...        ...   ...       ...            ...   \n",
              "4745      121              77         25  Y25M        19  Flip_J463.jpg   \n",
              "4746      122              78         25  Y25M        19       J464.jpg   \n",
              "4747      123              78         25  Y25M        19  Flip_J464.jpg   \n",
              "4748      124              79         25  Y25M        19       J465.jpg   \n",
              "4749      125              79         25  Y25M        19  Flip_J465.jpg   \n",
              "\n",
              "                                          Path_filename     Sex Floder  \n",
              "0     /content/drive/My Drive/TVT_Gender/train/Femal...  Female   Both  \n",
              "1     /content/drive/My Drive/TVT_Gender/train/Femal...  Female   Both  \n",
              "2     /content/drive/My Drive/TVT_Gender/train/Femal...  Female   Both  \n",
              "3     /content/drive/My Drive/TVT_Gender/train/Femal...  Female   Both  \n",
              "4     /content/drive/My Drive/TVT_Gender/train/Femal...  Female   Both  \n",
              "...                                                 ...     ...    ...  \n",
              "4745  /content/drive/My Drive/TVT_Gender/test/Male/F...    Male   Both  \n",
              "4746  /content/drive/My Drive/TVT_Gender/test/Male/J...    Male   Both  \n",
              "4747  /content/drive/My Drive/TVT_Gender/test/Male/F...    Male   Both  \n",
              "4748  /content/drive/My Drive/TVT_Gender/test/Male/J...    Male   Both  \n",
              "4749  /content/drive/My Drive/TVT_Gender/test/Male/F...    Male   Both  \n",
              "\n",
              "[4750 rows x 9 columns]"
            ],
            "text/html": [
              "\n",
              "  <div id=\"df-4f5154db-ba98-4973-8653-296c0c37ef3e\">\n",
              "    <div class=\"colab-df-container\">\n",
              "      <div>\n",
              "<style scoped>\n",
              "    .dataframe tbody tr th:only-of-type {\n",
              "        vertical-align: middle;\n",
              "    }\n",
              "\n",
              "    .dataframe tbody tr th {\n",
              "        vertical-align: top;\n",
              "    }\n",
              "\n",
              "    .dataframe thead th {\n",
              "        text-align: right;\n",
              "    }\n",
              "</style>\n",
              "<table border=\"1\" class=\"dataframe\">\n",
              "  <thead>\n",
              "    <tr style=\"text-align: right;\">\n",
              "      <th></th>\n",
              "      <th>Fig_Age</th>\n",
              "      <th>Fig_Person_Sex</th>\n",
              "      <th>Age(year)</th>\n",
              "      <th>Class</th>\n",
              "      <th>Class_Re</th>\n",
              "      <th>Filename</th>\n",
              "      <th>Path_filename</th>\n",
              "      <th>Sex</th>\n",
              "      <th>Floder</th>\n",
              "    </tr>\n",
              "  </thead>\n",
              "  <tbody>\n",
              "    <tr>\n",
              "      <th>0</th>\n",
              "      <td>1</td>\n",
              "      <td>1</td>\n",
              "      <td>7</td>\n",
              "      <td>Y07F</td>\n",
              "      <td>1</td>\n",
              "      <td>V1.jpg</td>\n",
              "      <td>/content/drive/My Drive/TVT_Gender/train/Femal...</td>\n",
              "      <td>Female</td>\n",
              "      <td>Both</td>\n",
              "    </tr>\n",
              "    <tr>\n",
              "      <th>1</th>\n",
              "      <td>2</td>\n",
              "      <td>1</td>\n",
              "      <td>7</td>\n",
              "      <td>Y07F</td>\n",
              "      <td>1</td>\n",
              "      <td>Flip_V1.jpg</td>\n",
              "      <td>/content/drive/My Drive/TVT_Gender/train/Femal...</td>\n",
              "      <td>Female</td>\n",
              "      <td>Both</td>\n",
              "    </tr>\n",
              "    <tr>\n",
              "      <th>2</th>\n",
              "      <td>3</td>\n",
              "      <td>2</td>\n",
              "      <td>7</td>\n",
              "      <td>Y07F</td>\n",
              "      <td>1</td>\n",
              "      <td>V2.jpg</td>\n",
              "      <td>/content/drive/My Drive/TVT_Gender/train/Femal...</td>\n",
              "      <td>Female</td>\n",
              "      <td>Both</td>\n",
              "    </tr>\n",
              "    <tr>\n",
              "      <th>3</th>\n",
              "      <td>4</td>\n",
              "      <td>2</td>\n",
              "      <td>7</td>\n",
              "      <td>Y07F</td>\n",
              "      <td>1</td>\n",
              "      <td>Flip_V2.jpg</td>\n",
              "      <td>/content/drive/My Drive/TVT_Gender/train/Femal...</td>\n",
              "      <td>Female</td>\n",
              "      <td>Both</td>\n",
              "    </tr>\n",
              "    <tr>\n",
              "      <th>4</th>\n",
              "      <td>5</td>\n",
              "      <td>3</td>\n",
              "      <td>7</td>\n",
              "      <td>Y07F</td>\n",
              "      <td>1</td>\n",
              "      <td>V3.jpg</td>\n",
              "      <td>/content/drive/My Drive/TVT_Gender/train/Femal...</td>\n",
              "      <td>Female</td>\n",
              "      <td>Both</td>\n",
              "    </tr>\n",
              "    <tr>\n",
              "      <th>...</th>\n",
              "      <td>...</td>\n",
              "      <td>...</td>\n",
              "      <td>...</td>\n",
              "      <td>...</td>\n",
              "      <td>...</td>\n",
              "      <td>...</td>\n",
              "      <td>...</td>\n",
              "      <td>...</td>\n",
              "      <td>...</td>\n",
              "    </tr>\n",
              "    <tr>\n",
              "      <th>4745</th>\n",
              "      <td>121</td>\n",
              "      <td>77</td>\n",
              "      <td>25</td>\n",
              "      <td>Y25M</td>\n",
              "      <td>19</td>\n",
              "      <td>Flip_J463.jpg</td>\n",
              "      <td>/content/drive/My Drive/TVT_Gender/test/Male/F...</td>\n",
              "      <td>Male</td>\n",
              "      <td>Both</td>\n",
              "    </tr>\n",
              "    <tr>\n",
              "      <th>4746</th>\n",
              "      <td>122</td>\n",
              "      <td>78</td>\n",
              "      <td>25</td>\n",
              "      <td>Y25M</td>\n",
              "      <td>19</td>\n",
              "      <td>J464.jpg</td>\n",
              "      <td>/content/drive/My Drive/TVT_Gender/test/Male/J...</td>\n",
              "      <td>Male</td>\n",
              "      <td>Both</td>\n",
              "    </tr>\n",
              "    <tr>\n",
              "      <th>4747</th>\n",
              "      <td>123</td>\n",
              "      <td>78</td>\n",
              "      <td>25</td>\n",
              "      <td>Y25M</td>\n",
              "      <td>19</td>\n",
              "      <td>Flip_J464.jpg</td>\n",
              "      <td>/content/drive/My Drive/TVT_Gender/test/Male/F...</td>\n",
              "      <td>Male</td>\n",
              "      <td>Both</td>\n",
              "    </tr>\n",
              "    <tr>\n",
              "      <th>4748</th>\n",
              "      <td>124</td>\n",
              "      <td>79</td>\n",
              "      <td>25</td>\n",
              "      <td>Y25M</td>\n",
              "      <td>19</td>\n",
              "      <td>J465.jpg</td>\n",
              "      <td>/content/drive/My Drive/TVT_Gender/test/Male/J...</td>\n",
              "      <td>Male</td>\n",
              "      <td>Both</td>\n",
              "    </tr>\n",
              "    <tr>\n",
              "      <th>4749</th>\n",
              "      <td>125</td>\n",
              "      <td>79</td>\n",
              "      <td>25</td>\n",
              "      <td>Y25M</td>\n",
              "      <td>19</td>\n",
              "      <td>Flip_J465.jpg</td>\n",
              "      <td>/content/drive/My Drive/TVT_Gender/test/Male/F...</td>\n",
              "      <td>Male</td>\n",
              "      <td>Both</td>\n",
              "    </tr>\n",
              "  </tbody>\n",
              "</table>\n",
              "<p>4750 rows × 9 columns</p>\n",
              "</div>\n",
              "      <button class=\"colab-df-convert\" onclick=\"convertToInteractive('df-4f5154db-ba98-4973-8653-296c0c37ef3e')\"\n",
              "              title=\"Convert this dataframe to an interactive table.\"\n",
              "              style=\"display:none;\">\n",
              "        \n",
              "  <svg xmlns=\"http://www.w3.org/2000/svg\" height=\"24px\"viewBox=\"0 0 24 24\"\n",
              "       width=\"24px\">\n",
              "    <path d=\"M0 0h24v24H0V0z\" fill=\"none\"/>\n",
              "    <path d=\"M18.56 5.44l.94 2.06.94-2.06 2.06-.94-2.06-.94-.94-2.06-.94 2.06-2.06.94zm-11 1L8.5 8.5l.94-2.06 2.06-.94-2.06-.94L8.5 2.5l-.94 2.06-2.06.94zm10 10l.94 2.06.94-2.06 2.06-.94-2.06-.94-.94-2.06-.94 2.06-2.06.94z\"/><path d=\"M17.41 7.96l-1.37-1.37c-.4-.4-.92-.59-1.43-.59-.52 0-1.04.2-1.43.59L10.3 9.45l-7.72 7.72c-.78.78-.78 2.05 0 2.83L4 21.41c.39.39.9.59 1.41.59.51 0 1.02-.2 1.41-.59l7.78-7.78 2.81-2.81c.8-.78.8-2.07 0-2.86zM5.41 20L4 18.59l7.72-7.72 1.47 1.35L5.41 20z\"/>\n",
              "  </svg>\n",
              "      </button>\n",
              "      \n",
              "  <style>\n",
              "    .colab-df-container {\n",
              "      display:flex;\n",
              "      flex-wrap:wrap;\n",
              "      gap: 12px;\n",
              "    }\n",
              "\n",
              "    .colab-df-convert {\n",
              "      background-color: #E8F0FE;\n",
              "      border: none;\n",
              "      border-radius: 50%;\n",
              "      cursor: pointer;\n",
              "      display: none;\n",
              "      fill: #1967D2;\n",
              "      height: 32px;\n",
              "      padding: 0 0 0 0;\n",
              "      width: 32px;\n",
              "    }\n",
              "\n",
              "    .colab-df-convert:hover {\n",
              "      background-color: #E2EBFA;\n",
              "      box-shadow: 0px 1px 2px rgba(60, 64, 67, 0.3), 0px 1px 3px 1px rgba(60, 64, 67, 0.15);\n",
              "      fill: #174EA6;\n",
              "    }\n",
              "\n",
              "    [theme=dark] .colab-df-convert {\n",
              "      background-color: #3B4455;\n",
              "      fill: #D2E3FC;\n",
              "    }\n",
              "\n",
              "    [theme=dark] .colab-df-convert:hover {\n",
              "      background-color: #434B5C;\n",
              "      box-shadow: 0px 1px 3px 1px rgba(0, 0, 0, 0.15);\n",
              "      filter: drop-shadow(0px 1px 2px rgba(0, 0, 0, 0.3));\n",
              "      fill: #FFFFFF;\n",
              "    }\n",
              "  </style>\n",
              "\n",
              "      <script>\n",
              "        const buttonEl =\n",
              "          document.querySelector('#df-4f5154db-ba98-4973-8653-296c0c37ef3e button.colab-df-convert');\n",
              "        buttonEl.style.display =\n",
              "          google.colab.kernel.accessAllowed ? 'block' : 'none';\n",
              "\n",
              "        async function convertToInteractive(key) {\n",
              "          const element = document.querySelector('#df-4f5154db-ba98-4973-8653-296c0c37ef3e');\n",
              "          const dataTable =\n",
              "            await google.colab.kernel.invokeFunction('convertToInteractive',\n",
              "                                                     [key], {});\n",
              "          if (!dataTable) return;\n",
              "\n",
              "          const docLinkHtml = 'Like what you see? Visit the ' +\n",
              "            '<a target=\"_blank\" href=https://colab.research.google.com/notebooks/data_table.ipynb>data table notebook</a>'\n",
              "            + ' to learn more about interactive tables.';\n",
              "          element.innerHTML = '';\n",
              "          dataTable['output_type'] = 'display_data';\n",
              "          await google.colab.output.renderOutput(dataTable, element);\n",
              "          const docLink = document.createElement('div');\n",
              "          docLink.innerHTML = docLinkHtml;\n",
              "          element.appendChild(docLink);\n",
              "        }\n",
              "      </script>\n",
              "    </div>\n",
              "  </div>\n",
              "  "
            ]
          },
          "metadata": {},
          "execution_count": 12
        }
      ]
    },
    {
      "cell_type": "code",
      "source": [
        "train = df[df['Fig_Age'].between(1,75)]\n",
        "val = df[df['Fig_Age'].between(76,100)]"
      ],
      "metadata": {
        "id": "Z1zBw01Gl8Ac"
      },
      "execution_count": 13,
      "outputs": []
    },
    {
      "cell_type": "code",
      "source": [
        "DATA_PATH = \"/content/drive/My Drive/TVT_Gender\"\n",
        "os.chdir(DATA_PATH)\n",
        "train_dir = os.path.join(DATA_PATH, 'train')\n",
        "print(train_dir)\n",
        "validation_dir = os.path.join(DATA_PATH, 'validation')\n",
        "print(validation_dir)"
      ],
      "metadata": {
        "colab": {
          "base_uri": "https://localhost:8080/"
        },
        "id": "QL0g-8iOnMC4",
        "outputId": "676b6a6a-1ba2-4d7c-e182-73b185ec4259"
      },
      "execution_count": 14,
      "outputs": [
        {
          "output_type": "stream",
          "name": "stdout",
          "text": [
            "/content/drive/My Drive/TVT_Gender/train\n",
            "/content/drive/My Drive/TVT_Gender/validation\n"
          ]
        }
      ]
    },
    {
      "cell_type": "markdown",
      "source": [
        "\n",
        "#Train"
      ],
      "metadata": {
        "id": "bWEnlTSwazL5"
      }
    },
    {
      "cell_type": "code",
      "source": [
        "# Train ด้วย ImageDataGenerator ของ Keras ซึ่งจะเพิ่มข้อมูลเสริมระหว่างการฝึกเพื่อลดโอกาสเกิด overfitting\n",
        "#overfitting เกิดจากข้อมูลที่ซับซ้อนกันเกินไป\n",
        "from tensorflow.keras.preprocessing.image import ImageDataGenerator\n",
        "\n",
        "train_datagen = ImageDataGenerator(\n",
        "      rescale=1./255, #โมเดลส่วนใหญ่ต้องใช้ RGB ในช่วง 0–1\n",
        "      rotation_range=40,\n",
        "      width_shift_range=0.2,\n",
        "      height_shift_range=0.2,\n",
        "      shear_range=0.2,\n",
        "      zoom_range=0.2,\n",
        "      horizontal_flip=True,\n",
        "      fill_mode='nearest')\n",
        "\n",
        "# Note that the validation data should not be augmented!\n",
        "test_datagen = ImageDataGenerator(rescale=1./255)"
      ],
      "metadata": {
        "id": "xGPrsn9no_pa"
      },
      "execution_count": 15,
      "outputs": []
    },
    {
      "cell_type": "code",
      "source": [
        "train_generator = train_datagen.flow_from_dataframe(\n",
        "        dataframe = train,\n",
        "        directory = train_dir,\n",
        "        x_col = 'Path_filename',\n",
        "        y_col = 'Class_Re',\n",
        "        class_mode = 'other',\n",
        "        target_size=(height, width),\n",
        "        batch_size=batch_size)\n",
        "\n",
        "validation_generator = test_datagen.flow_from_dataframe(\n",
        "        dataframe = val,\n",
        "        directory = validation_dir,\n",
        "        x_col = 'Path_filename',\n",
        "        y_col = 'Class_Re',\n",
        "        class_mode = 'other',\n",
        "        target_size=(height, width),\n",
        "        batch_size=batch_size)"
      ],
      "metadata": {
        "colab": {
          "base_uri": "https://localhost:8080/"
        },
        "id": "8nVlmAszntK_",
        "outputId": "9da4a6fe-713a-49c1-d001-55e4c26eb76f"
      },
      "execution_count": 16,
      "outputs": [
        {
          "output_type": "stream",
          "name": "stdout",
          "text": [
            "Found 2850 validated image filenames.\n",
            "Found 950 validated image filenames.\n"
          ]
        }
      ]
    },
    {
      "cell_type": "code",
      "source": [
        "model.summary()"
      ],
      "metadata": {
        "colab": {
          "base_uri": "https://localhost:8080/"
        },
        "id": "zzCdn3X4Jm_E",
        "outputId": "ec944fea-64b6-4143-994d-45fda8e02380"
      },
      "execution_count": 17,
      "outputs": [
        {
          "output_type": "stream",
          "name": "stdout",
          "text": [
            "Model: \"sequential\"\n",
            "_________________________________________________________________\n",
            " Layer (type)                Output Shape              Param #   \n",
            "=================================================================\n",
            " efficientnet-b0 (Functional  (None, 5, 5, 1280)       4049564   \n",
            " )                                                               \n",
            "                                                                 \n",
            " gap (GlobalMaxPooling2D)    (None, 1280)              0         \n",
            "                                                                 \n",
            " dropout_out (Dropout)       (None, 1280)              0         \n",
            "                                                                 \n",
            " fc_out (Dense)              (None, 19)                24339     \n",
            "                                                                 \n",
            " dense (Dense)               (None, 1)                 20        \n",
            "                                                                 \n",
            "=================================================================\n",
            "Total params: 4,073,923\n",
            "Trainable params: 4,031,907\n",
            "Non-trainable params: 42,016\n",
            "_________________________________________________________________\n"
          ]
        }
      ]
    },
    {
      "cell_type": "code",
      "source": [
        "model.compile(loss='mse',\n",
        "          optimizer=Adam(learning_rate=1e-4),\n",
        "          metrics=['mae'])\n",
        "history = model.fit_generator(\n",
        "      train_generator,\n",
        "      steps_per_epoch= NUM_TRAIN //batch_size,\n",
        "      epochs=epochs,\n",
        "      validation_data=validation_generator,\n",
        "      validation_steps= NUM_TEST //batch_size,\n",
        "      verbose=1,\n",
        "      use_multiprocessing=True,\n",
        "      workers=4)"
      ],
      "metadata": {
        "id": "N6qUmmF856ZE",
        "outputId": "db8d8486-b85b-4f98-f043-9189a260587b",
        "colab": {
          "base_uri": "https://localhost:8080/"
        }
      },
      "execution_count": 18,
      "outputs": [
        {
          "output_type": "stream",
          "name": "stderr",
          "text": [
            "<ipython-input-18-f59104fd3985>:4: UserWarning: `Model.fit_generator` is deprecated and will be removed in a future version. Please use `Model.fit`, which supports generators.\n",
            "  history = model.fit_generator(\n"
          ]
        },
        {
          "output_type": "stream",
          "name": "stdout",
          "text": [
            "Epoch 1/250\n",
            "178/178 [==============================] - 474s 2s/step - loss: 0.2670 - mae: 0.3306 - val_loss: 7.0542 - val_mae: 1.9467\n",
            "Epoch 2/250\n",
            "178/178 [==============================] - 28s 152ms/step - loss: 0.2472 - mae: 0.3248 - val_loss: 6.4689 - val_mae: 1.8875\n",
            "Epoch 3/250\n",
            "178/178 [==============================] - 27s 151ms/step - loss: 0.2450 - mae: 0.3180 - val_loss: 6.5461 - val_mae: 1.8831\n",
            "Epoch 4/250\n",
            "178/178 [==============================] - 23s 127ms/step - loss: 0.2418 - mae: 0.3091 - val_loss: 8.9704 - val_mae: 2.2590\n",
            "Epoch 5/250\n",
            "178/178 [==============================] - 28s 154ms/step - loss: 0.2857 - mae: 0.3388 - val_loss: 6.9212 - val_mae: 1.9830\n",
            "Epoch 6/250\n",
            "178/178 [==============================] - 28s 153ms/step - loss: 0.2572 - mae: 0.3219 - val_loss: 7.2440 - val_mae: 2.0200\n",
            "Epoch 7/250\n",
            "178/178 [==============================] - 29s 158ms/step - loss: 0.2562 - mae: 0.3127 - val_loss: 6.7602 - val_mae: 1.9720\n",
            "Epoch 8/250\n",
            "178/178 [==============================] - 27s 147ms/step - loss: 0.2417 - mae: 0.2999 - val_loss: 5.9680 - val_mae: 1.8313\n",
            "Epoch 9/250\n",
            "178/178 [==============================] - 27s 148ms/step - loss: 0.2413 - mae: 0.3095 - val_loss: 6.4190 - val_mae: 1.9217\n",
            "Epoch 10/250\n",
            "178/178 [==============================] - 27s 146ms/step - loss: 0.2189 - mae: 0.2980 - val_loss: 6.8522 - val_mae: 1.9844\n",
            "Epoch 11/250\n",
            "178/178 [==============================] - 27s 146ms/step - loss: 0.2371 - mae: 0.3086 - val_loss: 6.0231 - val_mae: 1.8322\n",
            "Epoch 12/250\n",
            "178/178 [==============================] - 26s 145ms/step - loss: 0.2226 - mae: 0.3131 - val_loss: 6.4527 - val_mae: 1.8822\n",
            "Epoch 13/250\n",
            "178/178 [==============================] - 26s 146ms/step - loss: 0.2798 - mae: 0.3071 - val_loss: 5.2773 - val_mae: 1.7239\n",
            "Epoch 14/250\n",
            "178/178 [==============================] - 27s 146ms/step - loss: 0.2681 - mae: 0.3141 - val_loss: 7.2077 - val_mae: 1.9991\n",
            "Epoch 15/250\n",
            "178/178 [==============================] - 27s 148ms/step - loss: 0.2306 - mae: 0.2971 - val_loss: 8.2349 - val_mae: 2.0313\n",
            "Epoch 16/250\n",
            "178/178 [==============================] - 27s 146ms/step - loss: 0.2874 - mae: 0.3109 - val_loss: 8.1512 - val_mae: 2.0055\n",
            "Epoch 17/250\n",
            "178/178 [==============================] - 26s 145ms/step - loss: 0.2192 - mae: 0.2987 - val_loss: 8.6012 - val_mae: 2.0549\n",
            "Epoch 18/250\n",
            "178/178 [==============================] - 27s 146ms/step - loss: 0.3327 - mae: 0.3672 - val_loss: 7.7343 - val_mae: 2.0002\n",
            "Epoch 19/250\n",
            "178/178 [==============================] - 26s 146ms/step - loss: 0.3166 - mae: 0.3612 - val_loss: 8.9679 - val_mae: 2.1264\n",
            "Epoch 20/250\n",
            "178/178 [==============================] - 27s 147ms/step - loss: 0.2407 - mae: 0.3294 - val_loss: 7.7132 - val_mae: 1.9925\n",
            "Epoch 21/250\n",
            "178/178 [==============================] - 26s 144ms/step - loss: 0.2573 - mae: 0.3352 - val_loss: 6.2847 - val_mae: 1.8475\n",
            "Epoch 22/250\n",
            "178/178 [==============================] - 27s 146ms/step - loss: 0.2683 - mae: 0.3071 - val_loss: 6.5444 - val_mae: 1.8609\n",
            "Epoch 23/250\n",
            "178/178 [==============================] - 26s 145ms/step - loss: 0.2070 - mae: 0.3022 - val_loss: 7.0257 - val_mae: 1.8973\n",
            "Epoch 24/250\n",
            "178/178 [==============================] - 26s 145ms/step - loss: 0.1849 - mae: 0.2926 - val_loss: 6.9319 - val_mae: 1.8967\n",
            "Epoch 25/250\n",
            "178/178 [==============================] - 26s 145ms/step - loss: 0.2307 - mae: 0.3006 - val_loss: 8.3411 - val_mae: 2.0684\n",
            "Epoch 26/250\n",
            "178/178 [==============================] - 26s 145ms/step - loss: 0.1933 - mae: 0.2946 - val_loss: 8.0517 - val_mae: 2.0543\n",
            "Epoch 27/250\n",
            "178/178 [==============================] - 23s 125ms/step - loss: 0.2770 - mae: 0.3278 - val_loss: 7.2608 - val_mae: 1.9447\n",
            "Epoch 28/250\n",
            "178/178 [==============================] - 27s 148ms/step - loss: 0.2904 - mae: 0.3465 - val_loss: 8.2889 - val_mae: 2.0573\n",
            "Epoch 29/250\n",
            "178/178 [==============================] - 27s 146ms/step - loss: 0.2607 - mae: 0.3415 - val_loss: 7.6321 - val_mae: 1.9828\n",
            "Epoch 30/250\n",
            "178/178 [==============================] - 27s 146ms/step - loss: 0.2581 - mae: 0.3318 - val_loss: 13.0316 - val_mae: 2.3213\n",
            "Epoch 31/250\n",
            "178/178 [==============================] - 27s 145ms/step - loss: 0.3509 - mae: 0.3444 - val_loss: 7.9387 - val_mae: 2.0398\n",
            "Epoch 32/250\n",
            "178/178 [==============================] - 26s 145ms/step - loss: 0.2642 - mae: 0.3366 - val_loss: 7.6572 - val_mae: 1.9958\n",
            "Epoch 33/250\n",
            "178/178 [==============================] - 26s 145ms/step - loss: 0.2257 - mae: 0.3114 - val_loss: 7.5789 - val_mae: 2.0066\n",
            "Epoch 34/250\n",
            "178/178 [==============================] - 26s 146ms/step - loss: 0.2498 - mae: 0.3212 - val_loss: 7.6707 - val_mae: 2.0274\n",
            "Epoch 35/250\n",
            "178/178 [==============================] - 26s 145ms/step - loss: 0.3820 - mae: 0.3472 - val_loss: 6.4474 - val_mae: 1.8730\n",
            "Epoch 36/250\n",
            "178/178 [==============================] - 26s 145ms/step - loss: 0.2795 - mae: 0.3348 - val_loss: 6.0320 - val_mae: 1.8231\n",
            "Epoch 37/250\n",
            "178/178 [==============================] - 26s 145ms/step - loss: 0.3747 - mae: 0.3372 - val_loss: 7.6004 - val_mae: 1.9916\n",
            "Epoch 38/250\n",
            "178/178 [==============================] - 26s 145ms/step - loss: 0.2647 - mae: 0.3337 - val_loss: 5.6386 - val_mae: 1.7937\n",
            "Epoch 39/250\n",
            "178/178 [==============================] - 26s 145ms/step - loss: 0.1995 - mae: 0.3060 - val_loss: 5.2703 - val_mae: 1.7443\n",
            "Epoch 40/250\n",
            "178/178 [==============================] - 26s 145ms/step - loss: 0.2473 - mae: 0.3260 - val_loss: 6.3512 - val_mae: 1.8873\n",
            "Epoch 41/250\n",
            "178/178 [==============================] - 26s 145ms/step - loss: 0.2887 - mae: 0.3325 - val_loss: 5.3807 - val_mae: 1.7853\n",
            "Epoch 42/250\n",
            "178/178 [==============================] - 27s 147ms/step - loss: 0.2535 - mae: 0.3303 - val_loss: 5.3773 - val_mae: 1.7676\n",
            "Epoch 43/250\n",
            "178/178 [==============================] - 26s 146ms/step - loss: 0.2377 - mae: 0.3110 - val_loss: 5.3373 - val_mae: 1.7613\n",
            "Epoch 44/250\n",
            "178/178 [==============================] - 26s 145ms/step - loss: 0.2659 - mae: 0.3203 - val_loss: 5.1442 - val_mae: 1.7458\n",
            "Epoch 45/250\n",
            "178/178 [==============================] - 26s 145ms/step - loss: 0.2248 - mae: 0.3161 - val_loss: 5.7403 - val_mae: 1.8055\n",
            "Epoch 46/250\n",
            "178/178 [==============================] - 26s 144ms/step - loss: 0.2547 - mae: 0.3211 - val_loss: 5.4784 - val_mae: 1.7762\n",
            "Epoch 47/250\n",
            "178/178 [==============================] - 27s 147ms/step - loss: 0.2439 - mae: 0.3228 - val_loss: 5.8010 - val_mae: 1.8231\n",
            "Epoch 48/250\n",
            "178/178 [==============================] - 28s 153ms/step - loss: 0.2541 - mae: 0.3119 - val_loss: 6.3006 - val_mae: 1.8718\n",
            "Epoch 49/250\n",
            "178/178 [==============================] - 27s 148ms/step - loss: 0.2080 - mae: 0.3041 - val_loss: 6.6783 - val_mae: 1.9073\n",
            "Epoch 50/250\n",
            "178/178 [==============================] - 27s 151ms/step - loss: 0.2244 - mae: 0.3079 - val_loss: 5.6216 - val_mae: 1.7830\n",
            "Epoch 51/250\n",
            "178/178 [==============================] - 23s 126ms/step - loss: 0.2350 - mae: 0.3079 - val_loss: 5.3171 - val_mae: 1.7361\n",
            "Epoch 52/250\n",
            "178/178 [==============================] - 27s 147ms/step - loss: 0.2343 - mae: 0.3174 - val_loss: 5.5026 - val_mae: 1.7560\n",
            "Epoch 53/250\n",
            "178/178 [==============================] - 27s 149ms/step - loss: 0.2160 - mae: 0.2988 - val_loss: 5.1025 - val_mae: 1.7098\n",
            "Epoch 54/250\n",
            "178/178 [==============================] - 27s 147ms/step - loss: 0.2021 - mae: 0.2949 - val_loss: 5.6094 - val_mae: 1.7798\n",
            "Epoch 55/250\n",
            "178/178 [==============================] - 27s 148ms/step - loss: 0.2083 - mae: 0.2978 - val_loss: 5.3575 - val_mae: 1.7555\n",
            "Epoch 56/250\n",
            "178/178 [==============================] - 26s 146ms/step - loss: 0.2085 - mae: 0.2917 - val_loss: 5.2722 - val_mae: 1.7326\n",
            "Epoch 57/250\n",
            "178/178 [==============================] - 28s 154ms/step - loss: 0.2128 - mae: 0.2920 - val_loss: 5.0142 - val_mae: 1.6933\n",
            "Epoch 58/250\n",
            "178/178 [==============================] - 28s 152ms/step - loss: 0.2717 - mae: 0.2961 - val_loss: 5.6956 - val_mae: 1.7763\n",
            "Epoch 59/250\n",
            "178/178 [==============================] - 23s 126ms/step - loss: 0.1901 - mae: 0.2814 - val_loss: 5.3123 - val_mae: 1.7421\n",
            "Epoch 60/250\n",
            "178/178 [==============================] - 27s 146ms/step - loss: 0.2060 - mae: 0.2937 - val_loss: 5.6686 - val_mae: 1.7710\n",
            "Epoch 61/250\n",
            "178/178 [==============================] - 26s 145ms/step - loss: 0.2106 - mae: 0.2876 - val_loss: 5.5452 - val_mae: 1.7789\n",
            "Epoch 62/250\n",
            "178/178 [==============================] - 27s 147ms/step - loss: 0.2145 - mae: 0.2951 - val_loss: 5.4243 - val_mae: 1.7402\n",
            "Epoch 63/250\n",
            "178/178 [==============================] - 26s 145ms/step - loss: 0.2742 - mae: 0.3209 - val_loss: 5.7968 - val_mae: 1.8031\n",
            "Epoch 64/250\n",
            "178/178 [==============================] - 26s 145ms/step - loss: 0.2347 - mae: 0.3084 - val_loss: 6.5628 - val_mae: 1.8854\n",
            "Epoch 65/250\n",
            "178/178 [==============================] - 27s 148ms/step - loss: 0.2607 - mae: 0.3124 - val_loss: 5.8817 - val_mae: 1.8065\n",
            "Epoch 66/250\n",
            "178/178 [==============================] - 27s 148ms/step - loss: 0.2245 - mae: 0.3092 - val_loss: 6.1823 - val_mae: 1.8123\n",
            "Epoch 67/250\n",
            "178/178 [==============================] - 27s 147ms/step - loss: 0.2530 - mae: 0.3023 - val_loss: 6.3823 - val_mae: 1.8451\n",
            "Epoch 68/250\n",
            "178/178 [==============================] - 27s 148ms/step - loss: 0.2290 - mae: 0.3029 - val_loss: 6.8992 - val_mae: 1.9611\n",
            "Epoch 69/250\n",
            "178/178 [==============================] - 27s 149ms/step - loss: 0.2360 - mae: 0.3166 - val_loss: 6.0075 - val_mae: 1.8085\n",
            "Epoch 70/250\n",
            "178/178 [==============================] - 27s 148ms/step - loss: 0.2492 - mae: 0.3081 - val_loss: 6.9836 - val_mae: 1.9291\n",
            "Epoch 71/250\n",
            "178/178 [==============================] - 23s 125ms/step - loss: 0.2492 - mae: 0.3218 - val_loss: 8.3518 - val_mae: 2.0917\n",
            "Epoch 72/250\n",
            "178/178 [==============================] - 27s 150ms/step - loss: 0.2378 - mae: 0.3170 - val_loss: 6.7282 - val_mae: 1.9076\n",
            "Epoch 73/250\n",
            "178/178 [==============================] - 27s 148ms/step - loss: 0.2290 - mae: 0.3125 - val_loss: 6.3345 - val_mae: 1.8595\n",
            "Epoch 74/250\n",
            "178/178 [==============================] - 27s 149ms/step - loss: 0.2211 - mae: 0.3082 - val_loss: 6.1422 - val_mae: 1.8324\n",
            "Epoch 75/250\n",
            "178/178 [==============================] - 27s 148ms/step - loss: 0.2039 - mae: 0.2982 - val_loss: 6.3085 - val_mae: 1.8464\n",
            "Epoch 76/250\n",
            "178/178 [==============================] - 27s 149ms/step - loss: 0.1857 - mae: 0.2824 - val_loss: 5.9095 - val_mae: 1.8023\n",
            "Epoch 77/250\n",
            "178/178 [==============================] - 27s 150ms/step - loss: 0.2089 - mae: 0.3017 - val_loss: 6.1011 - val_mae: 1.8174\n",
            "Epoch 78/250\n",
            "178/178 [==============================] - 27s 150ms/step - loss: 0.2485 - mae: 0.3188 - val_loss: 6.3402 - val_mae: 1.8435\n",
            "Epoch 79/250\n",
            "178/178 [==============================] - 27s 150ms/step - loss: 0.2264 - mae: 0.3014 - val_loss: 6.6108 - val_mae: 1.8877\n",
            "Epoch 80/250\n",
            "178/178 [==============================] - 27s 150ms/step - loss: 0.2667 - mae: 0.3145 - val_loss: 6.0430 - val_mae: 1.8143\n",
            "Epoch 81/250\n",
            "178/178 [==============================] - 27s 148ms/step - loss: 0.2917 - mae: 0.3233 - val_loss: 5.8944 - val_mae: 1.7722\n",
            "Epoch 82/250\n",
            "178/178 [==============================] - 27s 150ms/step - loss: 0.2545 - mae: 0.3107 - val_loss: 5.6263 - val_mae: 1.7620\n",
            "Epoch 83/250\n",
            "178/178 [==============================] - 28s 152ms/step - loss: 0.2281 - mae: 0.3017 - val_loss: 6.7426 - val_mae: 1.9076\n",
            "Epoch 84/250\n",
            "178/178 [==============================] - 27s 149ms/step - loss: 0.3209 - mae: 0.3086 - val_loss: 5.9527 - val_mae: 1.8105\n",
            "Epoch 85/250\n",
            "178/178 [==============================] - 27s 149ms/step - loss: 0.2951 - mae: 0.3248 - val_loss: 14.4371 - val_mae: 2.7393\n",
            "Epoch 86/250\n",
            "178/178 [==============================] - 27s 150ms/step - loss: 0.3033 - mae: 0.3499 - val_loss: 5.1655 - val_mae: 1.7131\n",
            "Epoch 87/250\n",
            "178/178 [==============================] - 27s 150ms/step - loss: 0.2708 - mae: 0.3296 - val_loss: 4.6729 - val_mae: 1.6428\n",
            "Epoch 88/250\n",
            "178/178 [==============================] - 27s 150ms/step - loss: 0.2362 - mae: 0.3179 - val_loss: 4.5360 - val_mae: 1.6228\n",
            "Epoch 89/250\n",
            "178/178 [==============================] - 27s 150ms/step - loss: 0.2081 - mae: 0.2941 - val_loss: 4.7531 - val_mae: 1.6495\n",
            "Epoch 90/250\n",
            "178/178 [==============================] - 27s 149ms/step - loss: 0.2030 - mae: 0.2970 - val_loss: 5.1150 - val_mae: 1.7117\n",
            "Epoch 91/250\n",
            "178/178 [==============================] - 27s 151ms/step - loss: 0.2274 - mae: 0.3007 - val_loss: 5.1318 - val_mae: 1.7085\n",
            "Epoch 92/250\n",
            "178/178 [==============================] - 28s 152ms/step - loss: 0.2387 - mae: 0.3110 - val_loss: 5.2875 - val_mae: 1.7308\n",
            "Epoch 93/250\n",
            "178/178 [==============================] - 27s 151ms/step - loss: 0.2103 - mae: 0.2965 - val_loss: 5.3086 - val_mae: 1.7276\n",
            "Epoch 94/250\n",
            "178/178 [==============================] - 27s 150ms/step - loss: 0.2274 - mae: 0.3065 - val_loss: 5.4327 - val_mae: 1.7521\n",
            "Epoch 95/250\n",
            "178/178 [==============================] - 27s 149ms/step - loss: 0.1909 - mae: 0.2909 - val_loss: 5.8299 - val_mae: 1.8231\n",
            "Epoch 96/250\n",
            "178/178 [==============================] - 27s 147ms/step - loss: 0.2196 - mae: 0.3101 - val_loss: 4.3030 - val_mae: 1.5753\n",
            "Epoch 97/250\n",
            "178/178 [==============================] - 27s 149ms/step - loss: 0.2132 - mae: 0.3021 - val_loss: 4.6924 - val_mae: 1.6446\n",
            "Epoch 98/250\n",
            "178/178 [==============================] - 27s 147ms/step - loss: 0.2151 - mae: 0.2972 - val_loss: 4.6998 - val_mae: 1.6525\n",
            "Epoch 99/250\n",
            "178/178 [==============================] - 27s 146ms/step - loss: 0.2490 - mae: 0.3147 - val_loss: 4.5346 - val_mae: 1.6089\n",
            "Epoch 100/250\n",
            "178/178 [==============================] - 27s 147ms/step - loss: 0.2719 - mae: 0.3188 - val_loss: 4.9236 - val_mae: 1.6730\n",
            "Epoch 101/250\n",
            "178/178 [==============================] - 27s 146ms/step - loss: 0.3160 - mae: 0.3258 - val_loss: 4.6618 - val_mae: 1.6137\n",
            "Epoch 102/250\n",
            "178/178 [==============================] - 27s 147ms/step - loss: 0.2374 - mae: 0.3092 - val_loss: 4.7991 - val_mae: 1.6368\n",
            "Epoch 103/250\n",
            "178/178 [==============================] - 27s 146ms/step - loss: 0.6707 - mae: 0.3945 - val_loss: 7.1118 - val_mae: 1.9528\n",
            "Epoch 104/250\n",
            "178/178 [==============================] - 27s 147ms/step - loss: 0.4724 - mae: 0.3695 - val_loss: 5.3594 - val_mae: 1.7128\n",
            "Epoch 105/250\n",
            "178/178 [==============================] - 27s 146ms/step - loss: 0.5045 - mae: 0.3938 - val_loss: 4.9697 - val_mae: 1.6674\n",
            "Epoch 106/250\n",
            "178/178 [==============================] - 27s 147ms/step - loss: 0.3312 - mae: 0.3461 - val_loss: 4.8306 - val_mae: 1.6503\n",
            "Epoch 107/250\n",
            "178/178 [==============================] - 27s 146ms/step - loss: 0.3514 - mae: 0.3399 - val_loss: 5.2770 - val_mae: 1.7232\n",
            "Epoch 108/250\n",
            "178/178 [==============================] - 27s 147ms/step - loss: 0.3594 - mae: 0.3587 - val_loss: 5.7717 - val_mae: 1.7904\n",
            "Epoch 109/250\n",
            "178/178 [==============================] - 23s 126ms/step - loss: 0.2757 - mae: 0.3342 - val_loss: 5.3281 - val_mae: 1.7171\n",
            "Epoch 110/250\n",
            "178/178 [==============================] - 27s 150ms/step - loss: 0.2879 - mae: 0.3267 - val_loss: 4.8645 - val_mae: 1.6488\n",
            "Epoch 111/250\n",
            "178/178 [==============================] - 27s 147ms/step - loss: 0.2893 - mae: 0.3315 - val_loss: 4.7878 - val_mae: 1.6402\n",
            "Epoch 112/250\n",
            "178/178 [==============================] - 27s 149ms/step - loss: 0.2802 - mae: 0.3361 - val_loss: 4.6544 - val_mae: 1.6235\n",
            "Epoch 113/250\n",
            "178/178 [==============================] - 27s 148ms/step - loss: 0.3199 - mae: 0.3348 - val_loss: 4.5519 - val_mae: 1.6121\n",
            "Epoch 114/250\n",
            "178/178 [==============================] - 27s 150ms/step - loss: 0.3151 - mae: 0.3293 - val_loss: 5.4237 - val_mae: 1.7196\n",
            "Epoch 115/250\n",
            "178/178 [==============================] - 27s 149ms/step - loss: 0.3907 - mae: 0.3371 - val_loss: 4.8297 - val_mae: 1.6521\n",
            "Epoch 116/250\n",
            "178/178 [==============================] - 27s 150ms/step - loss: 0.4874 - mae: 0.3581 - val_loss: 4.8738 - val_mae: 1.6638\n",
            "Epoch 117/250\n",
            "178/178 [==============================] - 27s 149ms/step - loss: 0.2688 - mae: 0.3336 - val_loss: 4.8795 - val_mae: 1.6628\n",
            "Epoch 118/250\n",
            "178/178 [==============================] - 27s 147ms/step - loss: 0.2868 - mae: 0.3179 - val_loss: 4.5225 - val_mae: 1.6085\n",
            "Epoch 119/250\n",
            "178/178 [==============================] - 26s 145ms/step - loss: 0.2382 - mae: 0.3074 - val_loss: 4.4245 - val_mae: 1.5921\n",
            "Epoch 120/250\n",
            "178/178 [==============================] - 27s 149ms/step - loss: 0.2683 - mae: 0.3158 - val_loss: 5.1794 - val_mae: 1.7046\n",
            "Epoch 121/250\n",
            "178/178 [==============================] - 27s 150ms/step - loss: 0.2813 - mae: 0.3150 - val_loss: 5.1535 - val_mae: 1.6937\n",
            "Epoch 122/250\n",
            "178/178 [==============================] - 28s 152ms/step - loss: 0.2806 - mae: 0.3138 - val_loss: 4.6613 - val_mae: 1.6367\n",
            "Epoch 123/250\n",
            "178/178 [==============================] - 23s 125ms/step - loss: 0.2537 - mae: 0.3041 - val_loss: 4.5717 - val_mae: 1.6193\n",
            "Epoch 124/250\n",
            "178/178 [==============================] - 27s 150ms/step - loss: 0.2116 - mae: 0.2915 - val_loss: 4.6410 - val_mae: 1.6254\n",
            "Epoch 125/250\n",
            "178/178 [==============================] - 27s 147ms/step - loss: 0.3185 - mae: 0.3170 - val_loss: 5.3011 - val_mae: 1.7112\n",
            "Epoch 126/250\n",
            "178/178 [==============================] - 27s 149ms/step - loss: 0.2705 - mae: 0.3105 - val_loss: 4.7731 - val_mae: 1.6526\n",
            "Epoch 127/250\n",
            "178/178 [==============================] - 27s 147ms/step - loss: 0.2880 - mae: 0.3195 - val_loss: 4.8307 - val_mae: 1.6775\n",
            "Epoch 128/250\n",
            "178/178 [==============================] - 27s 146ms/step - loss: 0.2814 - mae: 0.3198 - val_loss: 4.9998 - val_mae: 1.6912\n",
            "Epoch 129/250\n",
            "178/178 [==============================] - 27s 147ms/step - loss: 0.3098 - mae: 0.3170 - val_loss: 4.8568 - val_mae: 1.6634\n",
            "Epoch 130/250\n",
            "178/178 [==============================] - 27s 148ms/step - loss: 1.0375 - mae: 0.4299 - val_loss: 7.6686 - val_mae: 2.0258\n",
            "Epoch 131/250\n",
            "178/178 [==============================] - 27s 146ms/step - loss: 0.6650 - mae: 0.3726 - val_loss: 5.0879 - val_mae: 1.6896\n",
            "Epoch 132/250\n",
            "178/178 [==============================] - 27s 149ms/step - loss: 0.2358 - mae: 0.3056 - val_loss: 5.1814 - val_mae: 1.7002\n",
            "Epoch 133/250\n",
            "178/178 [==============================] - 27s 149ms/step - loss: 0.2614 - mae: 0.3228 - val_loss: 4.7883 - val_mae: 1.6448\n",
            "Epoch 134/250\n",
            "178/178 [==============================] - 28s 153ms/step - loss: 0.2486 - mae: 0.3110 - val_loss: 5.0400 - val_mae: 1.6772\n",
            "Epoch 135/250\n",
            "178/178 [==============================] - 28s 153ms/step - loss: 0.2202 - mae: 0.3043 - val_loss: 4.8442 - val_mae: 1.6504\n",
            "Epoch 136/250\n",
            "178/178 [==============================] - 28s 153ms/step - loss: 0.2201 - mae: 0.3060 - val_loss: 4.6112 - val_mae: 1.6239\n",
            "Epoch 137/250\n",
            "178/178 [==============================] - 28s 152ms/step - loss: 0.1871 - mae: 0.2916 - val_loss: 4.8546 - val_mae: 1.6489\n",
            "Epoch 138/250\n",
            "178/178 [==============================] - 28s 152ms/step - loss: 0.2344 - mae: 0.3072 - val_loss: 4.7962 - val_mae: 1.6254\n",
            "Epoch 139/250\n",
            "178/178 [==============================] - 27s 150ms/step - loss: 0.2058 - mae: 0.2940 - val_loss: 4.9953 - val_mae: 1.6563\n",
            "Epoch 140/250\n",
            "178/178 [==============================] - 27s 151ms/step - loss: 0.2387 - mae: 0.2980 - val_loss: 4.5795 - val_mae: 1.6138\n",
            "Epoch 141/250\n",
            "178/178 [==============================] - 28s 153ms/step - loss: 0.2236 - mae: 0.2965 - val_loss: 4.9683 - val_mae: 1.6606\n",
            "Epoch 142/250\n",
            "178/178 [==============================] - 28s 153ms/step - loss: 0.2360 - mae: 0.2968 - val_loss: 5.0640 - val_mae: 1.6808\n",
            "Epoch 143/250\n",
            "178/178 [==============================] - 28s 152ms/step - loss: 0.2430 - mae: 0.3097 - val_loss: 5.3734 - val_mae: 1.7366\n",
            "Epoch 144/250\n",
            "178/178 [==============================] - 28s 152ms/step - loss: 0.3063 - mae: 0.3471 - val_loss: 5.2491 - val_mae: 1.7038\n",
            "Epoch 145/250\n",
            "178/178 [==============================] - 27s 150ms/step - loss: 0.3137 - mae: 0.3286 - val_loss: 5.2024 - val_mae: 1.7055\n",
            "Epoch 146/250\n",
            "178/178 [==============================] - 27s 151ms/step - loss: 0.2650 - mae: 0.3160 - val_loss: 5.2657 - val_mae: 1.7109\n",
            "Epoch 147/250\n",
            "178/178 [==============================] - 27s 151ms/step - loss: 0.1929 - mae: 0.2896 - val_loss: 4.8756 - val_mae: 1.6595\n",
            "Epoch 148/250\n",
            "178/178 [==============================] - 27s 149ms/step - loss: 0.2545 - mae: 0.3122 - val_loss: 5.3836 - val_mae: 1.7282\n",
            "Epoch 149/250\n",
            "178/178 [==============================] - 27s 151ms/step - loss: 0.2345 - mae: 0.3170 - val_loss: 4.3556 - val_mae: 1.5594\n",
            "Epoch 150/250\n",
            "178/178 [==============================] - 27s 150ms/step - loss: 0.2681 - mae: 0.3221 - val_loss: 4.5814 - val_mae: 1.6046\n",
            "Epoch 151/250\n",
            "178/178 [==============================] - 27s 151ms/step - loss: 0.2587 - mae: 0.3112 - val_loss: 4.6706 - val_mae: 1.6130\n",
            "Epoch 152/250\n",
            "178/178 [==============================] - 23s 125ms/step - loss: 0.2460 - mae: 0.3033 - val_loss: 4.4367 - val_mae: 1.5794\n",
            "Epoch 153/250\n",
            "178/178 [==============================] - 27s 150ms/step - loss: 0.2262 - mae: 0.3042 - val_loss: 4.5190 - val_mae: 1.5934\n",
            "Epoch 154/250\n",
            "178/178 [==============================] - 27s 148ms/step - loss: 0.2443 - mae: 0.3009 - val_loss: 5.0557 - val_mae: 1.6738\n",
            "Epoch 155/250\n",
            "178/178 [==============================] - 27s 150ms/step - loss: 0.2340 - mae: 0.2982 - val_loss: 5.0515 - val_mae: 1.6728\n",
            "Epoch 156/250\n",
            "178/178 [==============================] - 27s 147ms/step - loss: 0.2086 - mae: 0.2875 - val_loss: 4.7743 - val_mae: 1.6351\n",
            "Epoch 157/250\n",
            "178/178 [==============================] - 23s 127ms/step - loss: 0.2526 - mae: 0.3160 - val_loss: 4.1703 - val_mae: 1.5530\n",
            "Epoch 158/250\n",
            "178/178 [==============================] - 27s 147ms/step - loss: 0.2508 - mae: 0.3036 - val_loss: 4.5175 - val_mae: 1.6078\n",
            "Epoch 159/250\n",
            "178/178 [==============================] - 27s 146ms/step - loss: 0.2009 - mae: 0.2919 - val_loss: 5.1479 - val_mae: 1.6878\n",
            "Epoch 160/250\n",
            "178/178 [==============================] - 27s 147ms/step - loss: 0.2791 - mae: 0.3270 - val_loss: 4.3658 - val_mae: 1.5875\n",
            "Epoch 161/250\n",
            "178/178 [==============================] - 27s 147ms/step - loss: 0.2915 - mae: 0.3279 - val_loss: 4.2442 - val_mae: 1.5733\n",
            "Epoch 162/250\n",
            "178/178 [==============================] - 27s 147ms/step - loss: 0.2194 - mae: 0.3118 - val_loss: 4.4824 - val_mae: 1.6070\n",
            "Epoch 163/250\n",
            "178/178 [==============================] - 27s 146ms/step - loss: 0.2438 - mae: 0.3088 - val_loss: 4.6239 - val_mae: 1.6241\n",
            "Epoch 164/250\n",
            "178/178 [==============================] - 27s 148ms/step - loss: 0.2432 - mae: 0.3031 - val_loss: 4.8863 - val_mae: 1.6605\n",
            "Epoch 165/250\n",
            "178/178 [==============================] - 27s 147ms/step - loss: 0.2872 - mae: 0.3067 - val_loss: 10.9597 - val_mae: 2.3489\n",
            "Epoch 166/250\n",
            "178/178 [==============================] - 27s 148ms/step - loss: 0.4609 - mae: 0.3778 - val_loss: 4.9960 - val_mae: 1.6777\n",
            "Epoch 167/250\n",
            "178/178 [==============================] - 27s 149ms/step - loss: 0.4411 - mae: 0.3291 - val_loss: 4.8591 - val_mae: 1.6559\n",
            "Epoch 168/250\n",
            "178/178 [==============================] - 27s 147ms/step - loss: 0.3700 - mae: 0.3243 - val_loss: 5.0270 - val_mae: 1.6765\n",
            "Epoch 169/250\n",
            "178/178 [==============================] - 27s 147ms/step - loss: 0.4537 - mae: 0.3304 - val_loss: 6.2409 - val_mae: 1.8309\n",
            "Epoch 170/250\n",
            "178/178 [==============================] - 27s 149ms/step - loss: 0.2300 - mae: 0.3050 - val_loss: 5.6888 - val_mae: 1.7655\n",
            "Epoch 171/250\n",
            "178/178 [==============================] - 27s 149ms/step - loss: 0.4606 - mae: 0.3258 - val_loss: 5.7533 - val_mae: 1.7697\n",
            "Epoch 172/250\n",
            "178/178 [==============================] - 27s 147ms/step - loss: 0.4664 - mae: 0.3357 - val_loss: 5.2148 - val_mae: 1.7098\n",
            "Epoch 173/250\n",
            "178/178 [==============================] - 27s 148ms/step - loss: 0.4563 - mae: 0.3375 - val_loss: 5.7387 - val_mae: 1.7804\n",
            "Epoch 174/250\n",
            "178/178 [==============================] - 27s 151ms/step - loss: 0.3457 - mae: 0.3239 - val_loss: 5.0481 - val_mae: 1.6819\n",
            "Epoch 175/250\n",
            "178/178 [==============================] - 27s 147ms/step - loss: 0.4193 - mae: 0.3264 - val_loss: 6.8135 - val_mae: 1.9072\n",
            "Epoch 176/250\n",
            "178/178 [==============================] - 27s 149ms/step - loss: 0.6050 - mae: 0.3593 - val_loss: 9.7413 - val_mae: 1.9551\n",
            "Epoch 177/250\n",
            "178/178 [==============================] - 27s 149ms/step - loss: 0.3060 - mae: 0.3317 - val_loss: 5.1191 - val_mae: 1.6848\n",
            "Epoch 178/250\n",
            "178/178 [==============================] - 27s 147ms/step - loss: 0.3629 - mae: 0.3514 - val_loss: 6.7627 - val_mae: 1.7955\n",
            "Epoch 179/250\n",
            "178/178 [==============================] - 27s 149ms/step - loss: 0.5869 - mae: 0.3714 - val_loss: 11.4909 - val_mae: 2.1931\n",
            "Epoch 180/250\n",
            "178/178 [==============================] - 27s 148ms/step - loss: 0.4312 - mae: 0.3520 - val_loss: 7.8352 - val_mae: 2.0396\n",
            "Epoch 181/250\n",
            "178/178 [==============================] - 27s 149ms/step - loss: 0.4567 - mae: 0.3606 - val_loss: 8.2872 - val_mae: 2.0425\n",
            "Epoch 182/250\n",
            "178/178 [==============================] - 27s 149ms/step - loss: 0.3854 - mae: 0.3439 - val_loss: 7.3026 - val_mae: 1.9482\n",
            "Epoch 183/250\n",
            "178/178 [==============================] - 27s 150ms/step - loss: 0.3836 - mae: 0.3261 - val_loss: 7.4261 - val_mae: 1.9771\n",
            "Epoch 184/250\n",
            "178/178 [==============================] - 27s 149ms/step - loss: 0.3563 - mae: 0.3202 - val_loss: 7.5229 - val_mae: 1.9758\n",
            "Epoch 185/250\n",
            "178/178 [==============================] - 27s 150ms/step - loss: 0.2999 - mae: 0.3103 - val_loss: 7.1662 - val_mae: 1.9313\n",
            "Epoch 186/250\n",
            "178/178 [==============================] - 27s 149ms/step - loss: 0.2747 - mae: 0.3074 - val_loss: 6.3336 - val_mae: 1.8163\n",
            "Epoch 187/250\n",
            "178/178 [==============================] - 27s 148ms/step - loss: 0.2523 - mae: 0.3128 - val_loss: 7.4043 - val_mae: 1.9705\n",
            "Epoch 188/250\n",
            "178/178 [==============================] - 27s 149ms/step - loss: 0.2022 - mae: 0.2903 - val_loss: 7.3850 - val_mae: 1.9701\n",
            "Epoch 189/250\n",
            "178/178 [==============================] - 27s 151ms/step - loss: 0.1913 - mae: 0.2846 - val_loss: 7.6731 - val_mae: 2.0151\n",
            "Epoch 190/250\n",
            "178/178 [==============================] - 27s 150ms/step - loss: 0.1751 - mae: 0.2804 - val_loss: 7.5836 - val_mae: 2.0053\n",
            "Epoch 191/250\n",
            "178/178 [==============================] - 28s 151ms/step - loss: 0.1879 - mae: 0.2865 - val_loss: 6.8334 - val_mae: 1.8998\n",
            "Epoch 192/250\n",
            "178/178 [==============================] - 27s 150ms/step - loss: 0.3204 - mae: 0.3092 - val_loss: 9.6296 - val_mae: 2.0752\n",
            "Epoch 193/250\n",
            "178/178 [==============================] - 27s 150ms/step - loss: 0.2807 - mae: 0.2996 - val_loss: 10.2838 - val_mae: 2.1174\n",
            "Epoch 194/250\n",
            "178/178 [==============================] - 27s 151ms/step - loss: 0.1944 - mae: 0.2858 - val_loss: 7.4440 - val_mae: 1.8585\n",
            "Epoch 195/250\n",
            "178/178 [==============================] - 28s 155ms/step - loss: 0.2194 - mae: 0.2982 - val_loss: 8.0783 - val_mae: 1.9305\n",
            "Epoch 196/250\n",
            "178/178 [==============================] - 28s 152ms/step - loss: 0.3196 - mae: 0.3060 - val_loss: 7.6142 - val_mae: 1.8334\n",
            "Epoch 197/250\n",
            "178/178 [==============================] - 23s 125ms/step - loss: 0.3364 - mae: 0.3182 - val_loss: 7.0772 - val_mae: 1.8550\n",
            "Epoch 198/250\n",
            "178/178 [==============================] - 29s 158ms/step - loss: 0.3640 - mae: 0.3103 - val_loss: 9.9494 - val_mae: 1.9736\n",
            "Epoch 199/250\n",
            "178/178 [==============================] - 28s 155ms/step - loss: 0.2769 - mae: 0.3197 - val_loss: 6.8683 - val_mae: 1.8980\n",
            "Epoch 200/250\n",
            "178/178 [==============================] - 28s 153ms/step - loss: 0.2650 - mae: 0.3191 - val_loss: 6.0094 - val_mae: 1.8034\n",
            "Epoch 201/250\n",
            "178/178 [==============================] - 28s 152ms/step - loss: 0.2871 - mae: 0.3222 - val_loss: 6.5912 - val_mae: 1.8468\n",
            "Epoch 202/250\n",
            "178/178 [==============================] - 28s 152ms/step - loss: 0.2618 - mae: 0.3121 - val_loss: 7.3787 - val_mae: 1.9463\n",
            "Epoch 203/250\n",
            "178/178 [==============================] - 28s 156ms/step - loss: 0.2464 - mae: 0.3033 - val_loss: 6.2314 - val_mae: 1.8180\n",
            "Epoch 204/250\n",
            "178/178 [==============================] - 29s 160ms/step - loss: 0.2121 - mae: 0.2994 - val_loss: 6.7175 - val_mae: 1.8837\n",
            "Epoch 205/250\n",
            "178/178 [==============================] - 29s 160ms/step - loss: 0.2555 - mae: 0.3040 - val_loss: 6.3070 - val_mae: 1.8394\n",
            "Epoch 206/250\n",
            "178/178 [==============================] - 28s 157ms/step - loss: 0.2368 - mae: 0.2969 - val_loss: 6.4142 - val_mae: 1.8477\n",
            "Epoch 207/250\n",
            "178/178 [==============================] - 28s 155ms/step - loss: 0.2101 - mae: 0.2916 - val_loss: 5.8198 - val_mae: 1.7752\n",
            "Epoch 208/250\n",
            "178/178 [==============================] - 28s 155ms/step - loss: 0.2034 - mae: 0.2924 - val_loss: 6.8359 - val_mae: 1.9104\n",
            "Epoch 209/250\n",
            "178/178 [==============================] - 24s 131ms/step - loss: 0.1792 - mae: 0.2797 - val_loss: 6.0759 - val_mae: 1.8138\n",
            "Epoch 210/250\n",
            "178/178 [==============================] - 28s 155ms/step - loss: 0.1636 - mae: 0.2716 - val_loss: 6.5409 - val_mae: 1.8796\n",
            "Epoch 211/250\n",
            "178/178 [==============================] - 28s 156ms/step - loss: 0.1859 - mae: 0.2798 - val_loss: 5.4904 - val_mae: 1.7397\n",
            "Epoch 212/250\n",
            "178/178 [==============================] - 28s 156ms/step - loss: 0.2685 - mae: 0.2968 - val_loss: 6.3638 - val_mae: 1.8394\n",
            "Epoch 213/250\n",
            "178/178 [==============================] - 28s 156ms/step - loss: 0.2167 - mae: 0.2935 - val_loss: 5.9464 - val_mae: 1.8056\n",
            "Epoch 214/250\n",
            "178/178 [==============================] - 29s 160ms/step - loss: 0.2170 - mae: 0.2986 - val_loss: 5.9742 - val_mae: 1.7970\n",
            "Epoch 215/250\n",
            "178/178 [==============================] - 24s 132ms/step - loss: 0.2041 - mae: 0.2881 - val_loss: 5.6781 - val_mae: 1.7636\n",
            "Epoch 216/250\n",
            "178/178 [==============================] - 29s 157ms/step - loss: 0.2136 - mae: 0.2903 - val_loss: 6.7753 - val_mae: 1.8999\n",
            "Epoch 217/250\n",
            "178/178 [==============================] - 30s 167ms/step - loss: 0.2026 - mae: 0.2890 - val_loss: 8.3164 - val_mae: 2.1011\n",
            "Epoch 218/250\n",
            "178/178 [==============================] - 29s 158ms/step - loss: 0.2055 - mae: 0.2950 - val_loss: 7.1303 - val_mae: 1.9529\n",
            "Epoch 219/250\n",
            "178/178 [==============================] - 28s 155ms/step - loss: 0.6738 - mae: 0.4375 - val_loss: 6.3723 - val_mae: 1.8757\n",
            "Epoch 220/250\n",
            "178/178 [==============================] - 29s 157ms/step - loss: 0.7023 - mae: 0.4449 - val_loss: 5.2615 - val_mae: 1.7196\n",
            "Epoch 221/250\n",
            "178/178 [==============================] - 28s 156ms/step - loss: 0.5841 - mae: 0.4228 - val_loss: 5.4754 - val_mae: 1.7438\n",
            "Epoch 222/250\n",
            "178/178 [==============================] - 29s 157ms/step - loss: 0.5728 - mae: 0.4256 - val_loss: 6.0055 - val_mae: 1.8056\n",
            "Epoch 223/250\n",
            "178/178 [==============================] - 28s 152ms/step - loss: 0.4621 - mae: 0.3783 - val_loss: 7.5308 - val_mae: 1.9808\n",
            "Epoch 224/250\n",
            "178/178 [==============================] - 29s 156ms/step - loss: 0.3224 - mae: 0.3469 - val_loss: 7.7738 - val_mae: 2.0039\n",
            "Epoch 225/250\n",
            "178/178 [==============================] - 28s 153ms/step - loss: 0.3259 - mae: 0.3443 - val_loss: 9.8795 - val_mae: 2.2080\n",
            "Epoch 226/250\n",
            "178/178 [==============================] - 28s 150ms/step - loss: 0.2385 - mae: 0.3255 - val_loss: 7.1842 - val_mae: 1.9168\n",
            "Epoch 227/250\n",
            "178/178 [==============================] - 27s 150ms/step - loss: 0.2467 - mae: 0.3269 - val_loss: 12.9252 - val_mae: 2.1231\n",
            "Epoch 228/250\n",
            "178/178 [==============================] - 27s 149ms/step - loss: 0.3200 - mae: 0.3581 - val_loss: 16.4464 - val_mae: 2.4103\n",
            "Epoch 229/250\n",
            "178/178 [==============================] - 27s 149ms/step - loss: 0.2975 - mae: 0.3431 - val_loss: 11.8961 - val_mae: 2.2591\n",
            "Epoch 230/250\n",
            "178/178 [==============================] - 27s 150ms/step - loss: 0.2512 - mae: 0.3305 - val_loss: 7.6969 - val_mae: 1.9925\n",
            "Epoch 231/250\n",
            "178/178 [==============================] - 27s 148ms/step - loss: 0.2601 - mae: 0.3301 - val_loss: 8.1397 - val_mae: 2.0492\n",
            "Epoch 232/250\n",
            "178/178 [==============================] - 27s 149ms/step - loss: 0.2609 - mae: 0.3241 - val_loss: 7.6171 - val_mae: 1.9933\n",
            "Epoch 233/250\n",
            "178/178 [==============================] - 27s 151ms/step - loss: 0.2499 - mae: 0.3219 - val_loss: 7.6260 - val_mae: 1.9792\n",
            "Epoch 234/250\n",
            "178/178 [==============================] - 27s 151ms/step - loss: 0.2461 - mae: 0.3231 - val_loss: 7.7328 - val_mae: 2.0112\n",
            "Epoch 235/250\n",
            "178/178 [==============================] - 28s 152ms/step - loss: 0.2180 - mae: 0.3060 - val_loss: 7.5850 - val_mae: 1.9903\n",
            "Epoch 236/250\n",
            "178/178 [==============================] - 28s 153ms/step - loss: 0.1958 - mae: 0.2896 - val_loss: 7.2907 - val_mae: 1.9791\n",
            "Epoch 237/250\n",
            "178/178 [==============================] - 28s 153ms/step - loss: 0.1858 - mae: 0.2843 - val_loss: 7.1244 - val_mae: 1.9575\n",
            "Epoch 238/250\n",
            "178/178 [==============================] - 28s 153ms/step - loss: 0.2161 - mae: 0.2932 - val_loss: 6.5496 - val_mae: 1.8944\n",
            "Epoch 239/250\n",
            "178/178 [==============================] - 23s 126ms/step - loss: 0.2037 - mae: 0.3006 - val_loss: 5.7508 - val_mae: 1.7903\n",
            "Epoch 240/250\n",
            "178/178 [==============================] - 28s 154ms/step - loss: 0.2161 - mae: 0.3087 - val_loss: 6.0545 - val_mae: 1.8249\n",
            "Epoch 241/250\n",
            "178/178 [==============================] - 28s 152ms/step - loss: 0.2107 - mae: 0.2975 - val_loss: 6.2163 - val_mae: 1.8357\n",
            "Epoch 242/250\n",
            "178/178 [==============================] - 27s 150ms/step - loss: 0.2056 - mae: 0.2900 - val_loss: 6.3005 - val_mae: 1.8740\n",
            "Epoch 243/250\n",
            "178/178 [==============================] - 28s 152ms/step - loss: 0.1941 - mae: 0.2921 - val_loss: 6.5364 - val_mae: 1.8914\n",
            "Epoch 244/250\n",
            "178/178 [==============================] - 28s 152ms/step - loss: 0.2622 - mae: 0.3147 - val_loss: 7.0027 - val_mae: 1.9454\n",
            "Epoch 245/250\n",
            "178/178 [==============================] - 28s 151ms/step - loss: 0.2260 - mae: 0.3017 - val_loss: 7.1830 - val_mae: 1.9615\n",
            "Epoch 246/250\n",
            "178/178 [==============================] - 27s 150ms/step - loss: 0.2299 - mae: 0.2964 - val_loss: 7.1236 - val_mae: 1.9601\n",
            "Epoch 247/250\n",
            "178/178 [==============================] - 23s 127ms/step - loss: 0.2081 - mae: 0.2924 - val_loss: 6.5749 - val_mae: 1.9049\n",
            "Epoch 248/250\n",
            "178/178 [==============================] - 27s 149ms/step - loss: 0.1960 - mae: 0.2907 - val_loss: 6.0092 - val_mae: 1.8224\n",
            "Epoch 249/250\n",
            "178/178 [==============================] - 23s 123ms/step - loss: 0.2056 - mae: 0.2907 - val_loss: 5.3657 - val_mae: 1.7568\n",
            "Epoch 250/250\n",
            "178/178 [==============================] - 27s 149ms/step - loss: 0.1909 - mae: 0.2846 - val_loss: 6.3840 - val_mae: 1.8535\n"
          ]
        }
      ]
    },
    {
      "cell_type": "code",
      "source": [
        "loss = history.history['loss']\n",
        "val_loss = history.history['val_loss']\n",
        "mae = history.history['mae']\n",
        "val_mae = history.history['val_mae']\n",
        "\n",
        "\n",
        "epochs_x = range(len(loss))\n",
        "\n",
        "\n",
        "plt.plot(epochs_x, mae, 'o', color ='darkviolet', label='Training MAE')\n",
        "plt.plot(epochs_x, val_mae, 'k', label='Validation MAE')\n",
        "plt.title('Training and validation MeanAbsoluteError')\n",
        "plt.legend()\n",
        "\n",
        "plt.figure()\n",
        "plt.plot(epochs_x, loss, 'o', color ='darkviolet', label='Training loss')\n",
        "plt.plot(epochs_x, val_loss, 'k', label='Validation loss')\n",
        "plt.title('Training and validation loss')\n",
        "plt.legend()\n",
        "\n",
        "plt.show()"
      ],
      "metadata": {
        "id": "Y3K89-CM-dfg",
        "colab": {
          "base_uri": "https://localhost:8080/",
          "height": 887
        },
        "outputId": "f44d12f5-6c1b-447b-f15d-fc9b39b65cec"
      },
      "execution_count": 19,
      "outputs": [
        {
          "output_type": "display_data",
          "data": {
            "text/plain": [
              "<Figure size 640x480 with 1 Axes>"
            ],
            "image/png": "[encoded data removed]"
          },
          "metadata": {}
        },
        {
          "output_type": "display_data",
          "data": {
            "text/plain": [
              "<Figure size 640x480 with 1 Axes>"
            ],
            "image/png": "[encoded data removed]"
          },
          "metadata": {}
        }
      ]
    },
    {
      "cell_type": "code",
      "source": [],
      "metadata": {
        "id": "sI5JVEwwQsjc"
      },
      "execution_count": 19,
      "outputs": []
    },
    {
      "cell_type": "code",
      "source": [
        "epochs_x"
      ],
      "metadata": {
        "id": "N_sP_ZmSY-Jv",
        "colab": {
          "base_uri": "https://localhost:8080/"
        },
        "outputId": "77ccddd5-e7eb-4156-9581-2cf5de49f779"
      },
      "execution_count": 20,
      "outputs": [
        {
          "output_type": "execute_result",
          "data": {
            "text/plain": [
              "range(0, 250)"
            ]
          },
          "metadata": {},
          "execution_count": 20
        }
      ]
    },
    {
      "cell_type": "markdown",
      "source": [
        "#Download the model\n"
      ],
      "metadata": {
        "id": "R19IJQSYoW7J"
      }
    },
    {
      "cell_type": "code",
      "source": [
        "os.makedirs('/content/drive/My Drive/cut_panoramic/Model', exist_ok=True)\n",
        "model.save('/content/drive/MyDrive/cut_panoramic/Model/Regression/All/14Re_All_1G_1e-4_16_0.2_250_New_Unfreez.h5')"
      ],
      "metadata": {
        "id": "Zed4TdFcG2iJ"
      },
      "execution_count": 21,
      "outputs": []
    },
    {
      "cell_type": "markdown",
      "source": [],
      "metadata": {
        "id": "n5YxZ-5QjQ0-"
      }
    },
    {
      "cell_type": "code",
      "source": [
        "# from google.colab import files\n",
        "# files.download('/content/drive/My Drive/cut_panoramic/Model/1.1_รอบแรก_Flimpano_Male125_250.h5')"
      ],
      "metadata": {
        "id": "P5eMxm1NV-oY"
      },
      "execution_count": 22,
      "outputs": []
    },
    {
      "cell_type": "code",
      "source": [
        "\n"
      ],
      "metadata": {
        "id": "wY_pDlxkRwxS"
      },
      "execution_count": 22,
      "outputs": []
    }
  ]
}