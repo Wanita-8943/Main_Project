{
  "nbformat": 4,
  "nbformat_minor": 0,
  "metadata": {
    "colab": {
      "provenance": [],
      "machine_shape": "hm",
      "include_colab_link": true
    },
    "kernelspec": {
      "name": "python3",
      "display_name": "Python 3"
    },
    "language_info": {
      "name": "python"
    },
    "accelerator": "GPU",
    "gpuClass": "standard"
  },
  "cells": [
    {
      "cell_type": "markdown",
      "metadata": {
        "id": "view-in-github",
        "colab_type": "text"
      },
      "source": [
        "<a href=\"https://colab.research.google.com/github/Wanita-8943/Main_Project/blob/main/A7_Train_Unfreeze.ipynb\" target=\"_parent\"><img src=\"https://colab.research.google.com/assets/colab-badge.svg\" alt=\"Open In Colab\"/></a>"
      ]
    },
    {
      "cell_type": "markdown",
      "source": [
        "#เรียกใช้ CSV"
      ],
      "metadata": {
        "id": "ow7eWoNw6U-c"
      }
    },
    {
      "cell_type": "code",
      "execution_count": 1,
      "metadata": {
        "id": "z8o_VVNXzcL8"
      },
      "outputs": [],
      "source": [
        "import pandas as pd\n",
        "import shutil"
      ]
    },
    {
      "cell_type": "code",
      "source": [
        "from google.colab import drive\n",
        "drive.mount('/content/drive')"
      ],
      "metadata": {
        "colab": {
          "base_uri": "https://localhost:8080/"
        },
        "id": "1_2Fe8u81d5r",
        "outputId": "3ad5104a-c9b8-4f35-ba41-ef1bc16c04cd"
      },
      "execution_count": 2,
      "outputs": [
        {
          "output_type": "stream",
          "name": "stdout",
          "text": [
            "Mounted at /content/drive\n"
          ]
        }
      ]
    },
    {
      "cell_type": "markdown",
      "source": [
        "#Imports"
      ],
      "metadata": {
        "id": "5qxePnnn7TGW"
      }
    },
    {
      "cell_type": "code",
      "source": [
        "from tensorflow.keras import models\n",
        "from tensorflow.keras import layers\n",
        "from tensorflow.keras import optimizers\n",
        "import os\n",
        "import glob\n",
        "import shutil\n",
        "import sys\n",
        "import numpy as np\n",
        "from skimage.io import imread\n",
        "import matplotlib.pyplot as plt\n",
        "from IPython.display import Image\n",
        "%matplotlib inline"
      ],
      "metadata": {
        "id": "D-hCRloc3t39"
      },
      "execution_count": 3,
      "outputs": []
    },
    {
      "cell_type": "code",
      "source": [
        "import tensorflow as tf\n",
        "from tensorflow.keras import Sequential\n",
        "from tensorflow.keras.layers import Dense\n",
        "from tensorflow.keras.optimizers import Adam\n",
        "from tensorflow.keras import backend as K"
      ],
      "metadata": {
        "id": "YZWXwjXeGxZP"
      },
      "execution_count": 4,
      "outputs": []
    },
    {
      "cell_type": "markdown",
      "source": [
        "#กำหนดค่าพารามิเตอร์\n"
      ],
      "metadata": {
        "id": "RooqSdBc7QHC"
      }
    },
    {
      "cell_type": "code",
      "source": [
        "batch_size = 16\n",
        "width = 150\n",
        "height = 150\n",
        "epochs = 250\n",
        "NUM_TRAIN = 2850\n",
        "NUM_TEST = 950\n",
        "dropout_rate = 0.2\n",
        "input_shape = (height, width, 3)"
      ],
      "metadata": {
        "id": "thDb7U9B3xOo"
      },
      "execution_count": 5,
      "outputs": []
    },
    {
      "cell_type": "markdown",
      "source": [
        "#Clone efficientnet repo\n"
      ],
      "metadata": {
        "id": "pumGmy6f3eSW"
      }
    },
    {
      "cell_type": "code",
      "source": [
        "#ดึงข้อมูลใน Github มาใช้\n",
        "import os\n",
        "%cd /content\n",
        "if not os.path.isdir(\"efficientnet_keras_transfer_learning\"):\n",
        " !git clone https://github.com/Wanita-8943/efficientnet_keras_transfer_learning\n",
        "%cd efficientnet_keras_transfer_learning/\n"
      ],
      "metadata": {
        "colab": {
          "base_uri": "https://localhost:8080/"
        },
        "id": "P7iy2f8n16p0",
        "outputId": "bb39cfe0-2c1a-46d6-cce3-6ea961836aae"
      },
      "execution_count": 6,
      "outputs": [
        {
          "output_type": "stream",
          "name": "stdout",
          "text": [
            "/content\n",
            "Cloning into 'efficientnet_keras_transfer_learning'...\n",
            "remote: Enumerating objects: 1085, done.\u001b[K\n",
            "remote: Counting objects: 100% (248/248), done.\u001b[K\n",
            "remote: Compressing objects: 100% (127/127), done.\u001b[K\n",
            "remote: Total 1085 (delta 124), reused 241 (delta 121), pack-reused 837\u001b[K\n",
            "Receiving objects: 100% (1085/1085), 14.09 MiB | 19.11 MiB/s, done.\n",
            "Resolving deltas: 100% (621/621), done.\n",
            "/content/efficientnet_keras_transfer_learning\n"
          ]
        }
      ]
    },
    {
      "cell_type": "code",
      "source": [
        "# Options: EfficientNetB0, EfficientNetB1, EfficientNetB2, EfficientNetB3\n",
        "# Higher the number, the more complex the model is.\n",
        "from efficientnet import EfficientNetB0 as Net\n",
        "from efficientnet import center_crop_and_resize, preprocess_input"
      ],
      "metadata": {
        "id": "tjZBRnfo3bN0"
      },
      "execution_count": 7,
      "outputs": []
    },
    {
      "cell_type": "code",
      "source": [
        "# loading pretrained conv base model\n",
        "# โหลดโมเดล มาโดยตัด output ของโมเดลออก เเต่ยังใช้ input อันเดิม\n",
        "# เเละโหลด weight ของโมเดล มาด้วยที่ชื่อว่า imagenet\n",
        "conv_base = Net(weights='imagenet', include_top=False, input_shape=input_shape)"
      ],
      "metadata": {
        "colab": {
          "base_uri": "https://localhost:8080/"
        },
        "id": "r8BN74_JJdfj",
        "outputId": "433d33db-8b1f-46b6-8478-2419e743bb33"
      },
      "execution_count": 8,
      "outputs": [
        {
          "output_type": "stream",
          "name": "stdout",
          "text": [
            "Downloading data from https://github.com/qubvel/efficientnet/releases/download/v0.0.1/efficientnet-b0_imagenet_1000_notop.h5\n",
            "16717576/16717576 [==============================] - 1s 0us/step\n"
          ]
        }
      ]
    },
    {
      "cell_type": "markdown",
      "source": [
        "#load model\n"
      ],
      "metadata": {
        "id": "PdNWyD-QYkzK"
      }
    },
    {
      "cell_type": "code",
      "source": [
        "import sys\n",
        "sys.path.append('/content/drive/MyDrive/cut_panoramic/Model/Regression/All/6Re_All_1G_1e-4_16_0.2_250_New_Unfreez.h5')\n",
        "\n",
        "from efficientnet.layers import Swish, DropConnect\n",
        "from efficientnet.model import ConvKernalInitializer\n",
        "from tensorflow.keras.utils import get_custom_objects\n",
        "\n",
        "get_custom_objects().update({\n",
        "    'ConvKernalInitializer': ConvKernalInitializer,\n",
        "    'Swish': Swish,\n",
        "    'DropConnect':DropConnect\n",
        "})"
      ],
      "metadata": {
        "id": "_gPnx2UvYf5A"
      },
      "execution_count": 9,
      "outputs": []
    },
    {
      "cell_type": "code",
      "source": [
        "#load model \n",
        "from tensorflow.keras.models import load_model\n",
        "model = load_model('/content/drive/MyDrive/cut_panoramic/Model/Regression/All/6Re_All_1G_1e-4_16_0.2_250_New_Unfreez.h5')\n",
        "height = width = model.input_shape[1]"
      ],
      "metadata": {
        "id": "Nu93WzFUYm9e"
      },
      "execution_count": 10,
      "outputs": []
    },
    {
      "cell_type": "code",
      "source": [
        "model.summary()"
      ],
      "metadata": {
        "id": "gp5EbyyXYvc6",
        "colab": {
          "base_uri": "https://localhost:8080/"
        },
        "outputId": "f1c464f2-2fb2-4706-ba4a-1c366266697b"
      },
      "execution_count": 11,
      "outputs": [
        {
          "output_type": "stream",
          "name": "stdout",
          "text": [
            "Model: \"sequential\"\n",
            "_________________________________________________________________\n",
            " Layer (type)                Output Shape              Param #   \n",
            "=================================================================\n",
            " efficientnet-b0 (Functional  (None, 5, 5, 1280)       4049564   \n",
            " )                                                               \n",
            "                                                                 \n",
            " gap (GlobalMaxPooling2D)    (None, 1280)              0         \n",
            "                                                                 \n",
            " dropout_out (Dropout)       (None, 1280)              0         \n",
            "                                                                 \n",
            " fc_out (Dense)              (None, 19)                24339     \n",
            "                                                                 \n",
            " dense (Dense)               (None, 1)                 20        \n",
            "                                                                 \n",
            "=================================================================\n",
            "Total params: 4,073,923\n",
            "Trainable params: 4,031,907\n",
            "Non-trainable params: 42,016\n",
            "_________________________________________________________________\n"
          ]
        }
      ]
    },
    {
      "cell_type": "code",
      "source": [
        "df = pd.read_csv (r'/content/drive/MyDrive/cut_panoramic/Data/All_Re.csv')\n",
        "df"
      ],
      "metadata": {
        "id": "q1Dc131_Y3uA",
        "colab": {
          "base_uri": "https://localhost:8080/",
          "height": 424
        },
        "outputId": "efaa3a11-49b0-46f8-e713-ee1ff22aa682"
      },
      "execution_count": 12,
      "outputs": [
        {
          "output_type": "execute_result",
          "data": {
            "text/plain": [
              "      Fig_Age  Fig_Person_Sex  Age(year) Class  Class_Re       Filename  \\\n",
              "0           1               1          7  Y07F         1         V1.jpg   \n",
              "1           2               1          7  Y07F         1    Flip_V1.jpg   \n",
              "2           3               2          7  Y07F         1         V2.jpg   \n",
              "3           4               2          7  Y07F         1    Flip_V2.jpg   \n",
              "4           5               3          7  Y07F         1         V3.jpg   \n",
              "...       ...             ...        ...   ...       ...            ...   \n",
              "4745      121              77         25  Y25M        19  Flip_J463.jpg   \n",
              "4746      122              78         25  Y25M        19       J464.jpg   \n",
              "4747      123              78         25  Y25M        19  Flip_J464.jpg   \n",
              "4748      124              79         25  Y25M        19       J465.jpg   \n",
              "4749      125              79         25  Y25M        19  Flip_J465.jpg   \n",
              "\n",
              "                                          Path_filename     Sex Floder  \n",
              "0     /content/drive/My Drive/TVT_Gender/train/Femal...  Female   Both  \n",
              "1     /content/drive/My Drive/TVT_Gender/train/Femal...  Female   Both  \n",
              "2     /content/drive/My Drive/TVT_Gender/train/Femal...  Female   Both  \n",
              "3     /content/drive/My Drive/TVT_Gender/train/Femal...  Female   Both  \n",
              "4     /content/drive/My Drive/TVT_Gender/train/Femal...  Female   Both  \n",
              "...                                                 ...     ...    ...  \n",
              "4745  /content/drive/My Drive/TVT_Gender/test/Male/F...    Male   Both  \n",
              "4746  /content/drive/My Drive/TVT_Gender/test/Male/J...    Male   Both  \n",
              "4747  /content/drive/My Drive/TVT_Gender/test/Male/F...    Male   Both  \n",
              "4748  /content/drive/My Drive/TVT_Gender/test/Male/J...    Male   Both  \n",
              "4749  /content/drive/My Drive/TVT_Gender/test/Male/F...    Male   Both  \n",
              "\n",
              "[4750 rows x 9 columns]"
            ],
            "text/html": [
              "\n",
              "  <div id=\"df-84af3046-12bc-4acf-90f8-48116360fe60\">\n",
              "    <div class=\"colab-df-container\">\n",
              "      <div>\n",
              "<style scoped>\n",
              "    .dataframe tbody tr th:only-of-type {\n",
              "        vertical-align: middle;\n",
              "    }\n",
              "\n",
              "    .dataframe tbody tr th {\n",
              "        vertical-align: top;\n",
              "    }\n",
              "\n",
              "    .dataframe thead th {\n",
              "        text-align: right;\n",
              "    }\n",
              "</style>\n",
              "<table border=\"1\" class=\"dataframe\">\n",
              "  <thead>\n",
              "    <tr style=\"text-align: right;\">\n",
              "      <th></th>\n",
              "      <th>Fig_Age</th>\n",
              "      <th>Fig_Person_Sex</th>\n",
              "      <th>Age(year)</th>\n",
              "      <th>Class</th>\n",
              "      <th>Class_Re</th>\n",
              "      <th>Filename</th>\n",
              "      <th>Path_filename</th>\n",
              "      <th>Sex</th>\n",
              "      <th>Floder</th>\n",
              "    </tr>\n",
              "  </thead>\n",
              "  <tbody>\n",
              "    <tr>\n",
              "      <th>0</th>\n",
              "      <td>1</td>\n",
              "      <td>1</td>\n",
              "      <td>7</td>\n",
              "      <td>Y07F</td>\n",
              "      <td>1</td>\n",
              "      <td>V1.jpg</td>\n",
              "      <td>/content/drive/My Drive/TVT_Gender/train/Femal...</td>\n",
              "      <td>Female</td>\n",
              "      <td>Both</td>\n",
              "    </tr>\n",
              "    <tr>\n",
              "      <th>1</th>\n",
              "      <td>2</td>\n",
              "      <td>1</td>\n",
              "      <td>7</td>\n",
              "      <td>Y07F</td>\n",
              "      <td>1</td>\n",
              "      <td>Flip_V1.jpg</td>\n",
              "      <td>/content/drive/My Drive/TVT_Gender/train/Femal...</td>\n",
              "      <td>Female</td>\n",
              "      <td>Both</td>\n",
              "    </tr>\n",
              "    <tr>\n",
              "      <th>2</th>\n",
              "      <td>3</td>\n",
              "      <td>2</td>\n",
              "      <td>7</td>\n",
              "      <td>Y07F</td>\n",
              "      <td>1</td>\n",
              "      <td>V2.jpg</td>\n",
              "      <td>/content/drive/My Drive/TVT_Gender/train/Femal...</td>\n",
              "      <td>Female</td>\n",
              "      <td>Both</td>\n",
              "    </tr>\n",
              "    <tr>\n",
              "      <th>3</th>\n",
              "      <td>4</td>\n",
              "      <td>2</td>\n",
              "      <td>7</td>\n",
              "      <td>Y07F</td>\n",
              "      <td>1</td>\n",
              "      <td>Flip_V2.jpg</td>\n",
              "      <td>/content/drive/My Drive/TVT_Gender/train/Femal...</td>\n",
              "      <td>Female</td>\n",
              "      <td>Both</td>\n",
              "    </tr>\n",
              "    <tr>\n",
              "      <th>4</th>\n",
              "      <td>5</td>\n",
              "      <td>3</td>\n",
              "      <td>7</td>\n",
              "      <td>Y07F</td>\n",
              "      <td>1</td>\n",
              "      <td>V3.jpg</td>\n",
              "      <td>/content/drive/My Drive/TVT_Gender/train/Femal...</td>\n",
              "      <td>Female</td>\n",
              "      <td>Both</td>\n",
              "    </tr>\n",
              "    <tr>\n",
              "      <th>...</th>\n",
              "      <td>...</td>\n",
              "      <td>...</td>\n",
              "      <td>...</td>\n",
              "      <td>...</td>\n",
              "      <td>...</td>\n",
              "      <td>...</td>\n",
              "      <td>...</td>\n",
              "      <td>...</td>\n",
              "      <td>...</td>\n",
              "    </tr>\n",
              "    <tr>\n",
              "      <th>4745</th>\n",
              "      <td>121</td>\n",
              "      <td>77</td>\n",
              "      <td>25</td>\n",
              "      <td>Y25M</td>\n",
              "      <td>19</td>\n",
              "      <td>Flip_J463.jpg</td>\n",
              "      <td>/content/drive/My Drive/TVT_Gender/test/Male/F...</td>\n",
              "      <td>Male</td>\n",
              "      <td>Both</td>\n",
              "    </tr>\n",
              "    <tr>\n",
              "      <th>4746</th>\n",
              "      <td>122</td>\n",
              "      <td>78</td>\n",
              "      <td>25</td>\n",
              "      <td>Y25M</td>\n",
              "      <td>19</td>\n",
              "      <td>J464.jpg</td>\n",
              "      <td>/content/drive/My Drive/TVT_Gender/test/Male/J...</td>\n",
              "      <td>Male</td>\n",
              "      <td>Both</td>\n",
              "    </tr>\n",
              "    <tr>\n",
              "      <th>4747</th>\n",
              "      <td>123</td>\n",
              "      <td>78</td>\n",
              "      <td>25</td>\n",
              "      <td>Y25M</td>\n",
              "      <td>19</td>\n",
              "      <td>Flip_J464.jpg</td>\n",
              "      <td>/content/drive/My Drive/TVT_Gender/test/Male/F...</td>\n",
              "      <td>Male</td>\n",
              "      <td>Both</td>\n",
              "    </tr>\n",
              "    <tr>\n",
              "      <th>4748</th>\n",
              "      <td>124</td>\n",
              "      <td>79</td>\n",
              "      <td>25</td>\n",
              "      <td>Y25M</td>\n",
              "      <td>19</td>\n",
              "      <td>J465.jpg</td>\n",
              "      <td>/content/drive/My Drive/TVT_Gender/test/Male/J...</td>\n",
              "      <td>Male</td>\n",
              "      <td>Both</td>\n",
              "    </tr>\n",
              "    <tr>\n",
              "      <th>4749</th>\n",
              "      <td>125</td>\n",
              "      <td>79</td>\n",
              "      <td>25</td>\n",
              "      <td>Y25M</td>\n",
              "      <td>19</td>\n",
              "      <td>Flip_J465.jpg</td>\n",
              "      <td>/content/drive/My Drive/TVT_Gender/test/Male/F...</td>\n",
              "      <td>Male</td>\n",
              "      <td>Both</td>\n",
              "    </tr>\n",
              "  </tbody>\n",
              "</table>\n",
              "<p>4750 rows × 9 columns</p>\n",
              "</div>\n",
              "      <button class=\"colab-df-convert\" onclick=\"convertToInteractive('df-84af3046-12bc-4acf-90f8-48116360fe60')\"\n",
              "              title=\"Convert this dataframe to an interactive table.\"\n",
              "              style=\"display:none;\">\n",
              "        \n",
              "  <svg xmlns=\"http://www.w3.org/2000/svg\" height=\"24px\"viewBox=\"0 0 24 24\"\n",
              "       width=\"24px\">\n",
              "    <path d=\"M0 0h24v24H0V0z\" fill=\"none\"/>\n",
              "    <path d=\"M18.56 5.44l.94 2.06.94-2.06 2.06-.94-2.06-.94-.94-2.06-.94 2.06-2.06.94zm-11 1L8.5 8.5l.94-2.06 2.06-.94-2.06-.94L8.5 2.5l-.94 2.06-2.06.94zm10 10l.94 2.06.94-2.06 2.06-.94-2.06-.94-.94-2.06-.94 2.06-2.06.94z\"/><path d=\"M17.41 7.96l-1.37-1.37c-.4-.4-.92-.59-1.43-.59-.52 0-1.04.2-1.43.59L10.3 9.45l-7.72 7.72c-.78.78-.78 2.05 0 2.83L4 21.41c.39.39.9.59 1.41.59.51 0 1.02-.2 1.41-.59l7.78-7.78 2.81-2.81c.8-.78.8-2.07 0-2.86zM5.41 20L4 18.59l7.72-7.72 1.47 1.35L5.41 20z\"/>\n",
              "  </svg>\n",
              "      </button>\n",
              "      \n",
              "  <style>\n",
              "    .colab-df-container {\n",
              "      display:flex;\n",
              "      flex-wrap:wrap;\n",
              "      gap: 12px;\n",
              "    }\n",
              "\n",
              "    .colab-df-convert {\n",
              "      background-color: #E8F0FE;\n",
              "      border: none;\n",
              "      border-radius: 50%;\n",
              "      cursor: pointer;\n",
              "      display: none;\n",
              "      fill: #1967D2;\n",
              "      height: 32px;\n",
              "      padding: 0 0 0 0;\n",
              "      width: 32px;\n",
              "    }\n",
              "\n",
              "    .colab-df-convert:hover {\n",
              "      background-color: #E2EBFA;\n",
              "      box-shadow: 0px 1px 2px rgba(60, 64, 67, 0.3), 0px 1px 3px 1px rgba(60, 64, 67, 0.15);\n",
              "      fill: #174EA6;\n",
              "    }\n",
              "\n",
              "    [theme=dark] .colab-df-convert {\n",
              "      background-color: #3B4455;\n",
              "      fill: #D2E3FC;\n",
              "    }\n",
              "\n",
              "    [theme=dark] .colab-df-convert:hover {\n",
              "      background-color: #434B5C;\n",
              "      box-shadow: 0px 1px 3px 1px rgba(0, 0, 0, 0.15);\n",
              "      filter: drop-shadow(0px 1px 2px rgba(0, 0, 0, 0.3));\n",
              "      fill: #FFFFFF;\n",
              "    }\n",
              "  </style>\n",
              "\n",
              "      <script>\n",
              "        const buttonEl =\n",
              "          document.querySelector('#df-84af3046-12bc-4acf-90f8-48116360fe60 button.colab-df-convert');\n",
              "        buttonEl.style.display =\n",
              "          google.colab.kernel.accessAllowed ? 'block' : 'none';\n",
              "\n",
              "        async function convertToInteractive(key) {\n",
              "          const element = document.querySelector('#df-84af3046-12bc-4acf-90f8-48116360fe60');\n",
              "          const dataTable =\n",
              "            await google.colab.kernel.invokeFunction('convertToInteractive',\n",
              "                                                     [key], {});\n",
              "          if (!dataTable) return;\n",
              "\n",
              "          const docLinkHtml = 'Like what you see? Visit the ' +\n",
              "            '<a target=\"_blank\" href=https://colab.research.google.com/notebooks/data_table.ipynb>data table notebook</a>'\n",
              "            + ' to learn more about interactive tables.';\n",
              "          element.innerHTML = '';\n",
              "          dataTable['output_type'] = 'display_data';\n",
              "          await google.colab.output.renderOutput(dataTable, element);\n",
              "          const docLink = document.createElement('div');\n",
              "          docLink.innerHTML = docLinkHtml;\n",
              "          element.appendChild(docLink);\n",
              "        }\n",
              "      </script>\n",
              "    </div>\n",
              "  </div>\n",
              "  "
            ]
          },
          "metadata": {},
          "execution_count": 12
        }
      ]
    },
    {
      "cell_type": "code",
      "source": [
        "train = df[df['Fig_Age'].between(1,75)]\n",
        "val = df[df['Fig_Age'].between(76,100)]"
      ],
      "metadata": {
        "id": "Z1zBw01Gl8Ac"
      },
      "execution_count": 13,
      "outputs": []
    },
    {
      "cell_type": "code",
      "source": [
        "DATA_PATH = \"/content/drive/My Drive/TVT_Gender\"\n",
        "os.chdir(DATA_PATH)\n",
        "train_dir = os.path.join(DATA_PATH, 'train')\n",
        "print(train_dir)\n",
        "validation_dir = os.path.join(DATA_PATH, 'validation')\n",
        "print(validation_dir)"
      ],
      "metadata": {
        "colab": {
          "base_uri": "https://localhost:8080/"
        },
        "id": "QL0g-8iOnMC4",
        "outputId": "5717dfec-c3c0-493e-b689-9e47e188814a"
      },
      "execution_count": 14,
      "outputs": [
        {
          "output_type": "stream",
          "name": "stdout",
          "text": [
            "/content/drive/My Drive/TVT_Gender/train\n",
            "/content/drive/My Drive/TVT_Gender/validation\n"
          ]
        }
      ]
    },
    {
      "cell_type": "markdown",
      "source": [
        "\n",
        "#Train"
      ],
      "metadata": {
        "id": "bWEnlTSwazL5"
      }
    },
    {
      "cell_type": "code",
      "source": [
        "# Train ด้วย ImageDataGenerator ของ Keras ซึ่งจะเพิ่มข้อมูลเสริมระหว่างการฝึกเพื่อลดโอกาสเกิด overfitting\n",
        "#overfitting เกิดจากข้อมูลที่ซับซ้อนกันเกินไป\n",
        "from tensorflow.keras.preprocessing.image import ImageDataGenerator\n",
        "\n",
        "train_datagen = ImageDataGenerator(\n",
        "      rescale=1./255, #โมเดลส่วนใหญ่ต้องใช้ RGB ในช่วง 0–1\n",
        "      rotation_range=40,\n",
        "      width_shift_range=0.2,\n",
        "      height_shift_range=0.2,\n",
        "      shear_range=0.2,\n",
        "      zoom_range=0.2,\n",
        "      horizontal_flip=True,\n",
        "      fill_mode='nearest')\n",
        "\n",
        "# Note that the validation data should not be augmented!\n",
        "test_datagen = ImageDataGenerator(rescale=1./255)"
      ],
      "metadata": {
        "id": "xGPrsn9no_pa"
      },
      "execution_count": 15,
      "outputs": []
    },
    {
      "cell_type": "code",
      "source": [
        "train_generator = train_datagen.flow_from_dataframe(\n",
        "        dataframe = train,\n",
        "        directory = train_dir,\n",
        "        x_col = 'Path_filename',\n",
        "        y_col = 'Class_Re',\n",
        "        class_mode = 'other',\n",
        "        target_size=(height, width),\n",
        "        batch_size=batch_size)\n",
        "\n",
        "validation_generator = test_datagen.flow_from_dataframe(\n",
        "        dataframe = val,\n",
        "        directory = validation_dir,\n",
        "        x_col = 'Path_filename',\n",
        "        y_col = 'Class_Re',\n",
        "        class_mode = 'other',\n",
        "        target_size=(height, width),\n",
        "        batch_size=batch_size)"
      ],
      "metadata": {
        "colab": {
          "base_uri": "https://localhost:8080/"
        },
        "id": "8nVlmAszntK_",
        "outputId": "1fa2129b-d6fa-492f-a664-cf496441cbbf"
      },
      "execution_count": 16,
      "outputs": [
        {
          "output_type": "stream",
          "name": "stdout",
          "text": [
            "Found 2850 validated image filenames.\n",
            "Found 950 validated image filenames.\n"
          ]
        }
      ]
    },
    {
      "cell_type": "code",
      "source": [
        "model.summary()"
      ],
      "metadata": {
        "colab": {
          "base_uri": "https://localhost:8080/"
        },
        "id": "zzCdn3X4Jm_E",
        "outputId": "6d610242-3ad9-4c60-f86d-674f8a23aa07"
      },
      "execution_count": 17,
      "outputs": [
        {
          "output_type": "stream",
          "name": "stdout",
          "text": [
            "Model: \"sequential\"\n",
            "_________________________________________________________________\n",
            " Layer (type)                Output Shape              Param #   \n",
            "=================================================================\n",
            " efficientnet-b0 (Functional  (None, 5, 5, 1280)       4049564   \n",
            " )                                                               \n",
            "                                                                 \n",
            " gap (GlobalMaxPooling2D)    (None, 1280)              0         \n",
            "                                                                 \n",
            " dropout_out (Dropout)       (None, 1280)              0         \n",
            "                                                                 \n",
            " fc_out (Dense)              (None, 19)                24339     \n",
            "                                                                 \n",
            " dense (Dense)               (None, 1)                 20        \n",
            "                                                                 \n",
            "=================================================================\n",
            "Total params: 4,073,923\n",
            "Trainable params: 4,031,907\n",
            "Non-trainable params: 42,016\n",
            "_________________________________________________________________\n"
          ]
        }
      ]
    },
    {
      "cell_type": "code",
      "source": [
        "model.compile(loss='mse',\n",
        "          optimizer=Adam(learning_rate=1e-4),\n",
        "          metrics=['mae'])\n",
        "history = model.fit_generator(\n",
        "      train_generator,\n",
        "      steps_per_epoch= NUM_TRAIN //batch_size,\n",
        "      epochs=epochs,\n",
        "      validation_data=validation_generator,\n",
        "      validation_steps= NUM_TEST //batch_size,\n",
        "      verbose=1,\n",
        "      use_multiprocessing=True,\n",
        "      workers=4)"
      ],
      "metadata": {
        "id": "N6qUmmF856ZE",
        "outputId": "d2e67da8-8663-43f2-c88a-c4bb46b12d25",
        "colab": {
          "base_uri": "https://localhost:8080/"
        }
      },
      "execution_count": 18,
      "outputs": [
        {
          "output_type": "stream",
          "name": "stderr",
          "text": [
            "<ipython-input-18-f59104fd3985>:4: UserWarning: `Model.fit_generator` is deprecated and will be removed in a future version. Please use `Model.fit`, which supports generators.\n",
            "  history = model.fit_generator(\n"
          ]
        },
        {
          "output_type": "stream",
          "name": "stdout",
          "text": [
            "Epoch 1/250\n",
            "178/178 [==============================] - 840s 4s/step - loss: 0.8837 - mae: 0.6724 - val_loss: 4.8114 - val_mae: 1.6321\n",
            "Epoch 2/250\n",
            "178/178 [==============================] - 27s 149ms/step - loss: 1.0088 - mae: 0.6836 - val_loss: 5.0247 - val_mae: 1.6470\n",
            "Epoch 3/250\n",
            "178/178 [==============================] - 28s 152ms/step - loss: 0.7969 - mae: 0.6466 - val_loss: 5.9087 - val_mae: 1.7700\n",
            "Epoch 4/250\n",
            "178/178 [==============================] - 27s 147ms/step - loss: 0.9599 - mae: 0.6762 - val_loss: 5.1524 - val_mae: 1.6669\n",
            "Epoch 5/250\n",
            "178/178 [==============================] - 27s 146ms/step - loss: 0.8779 - mae: 0.6567 - val_loss: 5.6256 - val_mae: 1.7241\n",
            "Epoch 6/250\n",
            "178/178 [==============================] - 27s 148ms/step - loss: 0.7604 - mae: 0.6265 - val_loss: 5.9875 - val_mae: 1.7902\n",
            "Epoch 7/250\n",
            "178/178 [==============================] - 27s 148ms/step - loss: 0.7861 - mae: 0.6293 - val_loss: 4.9165 - val_mae: 1.6241\n",
            "Epoch 8/250\n",
            "178/178 [==============================] - 27s 148ms/step - loss: 0.8389 - mae: 0.6332 - val_loss: 5.3258 - val_mae: 1.7177\n",
            "Epoch 9/250\n",
            "178/178 [==============================] - 26s 145ms/step - loss: 0.9519 - mae: 0.6578 - val_loss: 5.4802 - val_mae: 1.6923\n",
            "Epoch 10/250\n",
            "178/178 [==============================] - 26s 146ms/step - loss: 0.8245 - mae: 0.6351 - val_loss: 6.4818 - val_mae: 1.8459\n",
            "Epoch 11/250\n",
            "178/178 [==============================] - 27s 146ms/step - loss: 1.2798 - mae: 0.7318 - val_loss: 5.6530 - val_mae: 1.7236\n",
            "Epoch 12/250\n",
            "178/178 [==============================] - 26s 145ms/step - loss: 1.0959 - mae: 0.6997 - val_loss: 4.8182 - val_mae: 1.6085\n",
            "Epoch 13/250\n",
            "178/178 [==============================] - 26s 144ms/step - loss: 0.9866 - mae: 0.6770 - val_loss: 5.0225 - val_mae: 1.6593\n",
            "Epoch 14/250\n",
            "178/178 [==============================] - 27s 146ms/step - loss: 0.9436 - mae: 0.6687 - val_loss: 5.0809 - val_mae: 1.6854\n",
            "Epoch 15/250\n",
            "178/178 [==============================] - 26s 145ms/step - loss: 0.9565 - mae: 0.6830 - val_loss: 4.8106 - val_mae: 1.6415\n",
            "Epoch 16/250\n",
            "178/178 [==============================] - 22s 120ms/step - loss: 0.8281 - mae: 0.6506 - val_loss: 4.2652 - val_mae: 1.5457\n",
            "Epoch 17/250\n",
            "178/178 [==============================] - 23s 123ms/step - loss: 0.8004 - mae: 0.6297 - val_loss: 4.6507 - val_mae: 1.6058\n",
            "Epoch 18/250\n",
            "178/178 [==============================] - 27s 145ms/step - loss: 0.8652 - mae: 0.6461 - val_loss: 4.7436 - val_mae: 1.6354\n",
            "Epoch 19/250\n",
            "178/178 [==============================] - 26s 146ms/step - loss: 0.8133 - mae: 0.6357 - val_loss: 4.5847 - val_mae: 1.5811\n",
            "Epoch 20/250\n",
            "178/178 [==============================] - 27s 147ms/step - loss: 0.8903 - mae: 0.6591 - val_loss: 4.8709 - val_mae: 1.6435\n",
            "Epoch 21/250\n",
            "178/178 [==============================] - 27s 147ms/step - loss: 0.8012 - mae: 0.6462 - val_loss: 5.2207 - val_mae: 1.6805\n",
            "Epoch 22/250\n",
            "178/178 [==============================] - 27s 147ms/step - loss: 0.8351 - mae: 0.6423 - val_loss: 5.5418 - val_mae: 1.7162\n",
            "Epoch 23/250\n",
            "178/178 [==============================] - 27s 146ms/step - loss: 0.6905 - mae: 0.6080 - val_loss: 5.4810 - val_mae: 1.7128\n",
            "Epoch 24/250\n",
            "178/178 [==============================] - 26s 145ms/step - loss: 0.7523 - mae: 0.6125 - val_loss: 5.2817 - val_mae: 1.6747\n",
            "Epoch 25/250\n",
            "178/178 [==============================] - 27s 148ms/step - loss: 0.7356 - mae: 0.6203 - val_loss: 4.8903 - val_mae: 1.6514\n",
            "Epoch 26/250\n",
            "178/178 [==============================] - 26s 145ms/step - loss: 0.7565 - mae: 0.6109 - val_loss: 5.6897 - val_mae: 1.7397\n",
            "Epoch 27/250\n",
            "178/178 [==============================] - 26s 144ms/step - loss: 0.7710 - mae: 0.6216 - val_loss: 5.1678 - val_mae: 1.6730\n",
            "Epoch 28/250\n",
            "178/178 [==============================] - 22s 118ms/step - loss: 0.8389 - mae: 0.6401 - val_loss: 5.2677 - val_mae: 1.7054\n",
            "Epoch 29/250\n",
            "178/178 [==============================] - 27s 149ms/step - loss: 0.7512 - mae: 0.6117 - val_loss: 4.4747 - val_mae: 1.5577\n",
            "Epoch 30/250\n",
            "178/178 [==============================] - 26s 146ms/step - loss: 0.8120 - mae: 0.6089 - val_loss: 5.9642 - val_mae: 1.7831\n",
            "Epoch 31/250\n",
            "178/178 [==============================] - 26s 146ms/step - loss: 0.7047 - mae: 0.5986 - val_loss: 6.6201 - val_mae: 1.8698\n",
            "Epoch 32/250\n",
            "178/178 [==============================] - 28s 153ms/step - loss: 0.7258 - mae: 0.6070 - val_loss: 5.7052 - val_mae: 1.7436\n",
            "Epoch 33/250\n",
            "178/178 [==============================] - 27s 147ms/step - loss: 0.7394 - mae: 0.6062 - val_loss: 5.8679 - val_mae: 1.7303\n",
            "Epoch 34/250\n",
            "178/178 [==============================] - 26s 146ms/step - loss: 1.0148 - mae: 0.6846 - val_loss: 5.0493 - val_mae: 1.6599\n",
            "Epoch 35/250\n",
            "178/178 [==============================] - 26s 146ms/step - loss: 0.8903 - mae: 0.6503 - val_loss: 6.1335 - val_mae: 1.7957\n",
            "Epoch 36/250\n",
            "178/178 [==============================] - 26s 143ms/step - loss: 0.9458 - mae: 0.6599 - val_loss: 4.3611 - val_mae: 1.5613\n",
            "Epoch 37/250\n",
            "178/178 [==============================] - 26s 144ms/step - loss: 0.9206 - mae: 0.6770 - val_loss: 8.0500 - val_mae: 2.0385\n",
            "176/178 [============================>.] - ETA: 0s - loss: 0.9238 - mae: 0.6779Epoch 38/250\n",
            "178/178 [==============================] - 26s 144ms/step - loss: 0.8559 - mae: 0.6484 - val_loss: 7.3725 - val_mae: 1.9407\n",
            "Epoch 39/250\n",
            "178/178 [==============================] - 26s 145ms/step - loss: 0.9142 - mae: 0.6510 - val_loss: 8.8606 - val_mae: 2.1263\n",
            "Epoch 40/250\n",
            "178/178 [==============================] - 26s 144ms/step - loss: 0.8558 - mae: 0.6434 - val_loss: 8.0023 - val_mae: 2.0066\n",
            "Epoch 41/250\n",
            "178/178 [==============================] - 26s 144ms/step - loss: 0.8530 - mae: 0.6401 - val_loss: 7.1952 - val_mae: 1.9084\n",
            "Epoch 42/250\n",
            "178/178 [==============================] - 26s 143ms/step - loss: 0.7664 - mae: 0.6183 - val_loss: 7.2263 - val_mae: 1.9310\n",
            "Epoch 43/250\n",
            "178/178 [==============================] - 27s 148ms/step - loss: 0.7519 - mae: 0.6169 - val_loss: 6.2016 - val_mae: 1.7780\n",
            "Epoch 44/250\n",
            "178/178 [==============================] - 27s 147ms/step - loss: 0.8325 - mae: 0.6386 - val_loss: 6.1164 - val_mae: 1.7841\n",
            "Epoch 45/250\n",
            "178/178 [==============================] - 26s 144ms/step - loss: 0.7846 - mae: 0.6202 - val_loss: 6.8849 - val_mae: 1.8710\n",
            "Epoch 46/250\n",
            "178/178 [==============================] - 26s 144ms/step - loss: 0.8061 - mae: 0.6230 - val_loss: 7.7305 - val_mae: 1.9930\n",
            "Epoch 47/250\n",
            "178/178 [==============================] - 26s 145ms/step - loss: 0.8046 - mae: 0.6233 - val_loss: 6.9021 - val_mae: 1.8678\n",
            "Epoch 48/250\n",
            "178/178 [==============================] - 26s 142ms/step - loss: 0.7354 - mae: 0.6058 - val_loss: 6.1200 - val_mae: 1.7953\n",
            "Epoch 49/250\n",
            "178/178 [==============================] - 22s 118ms/step - loss: 0.7890 - mae: 0.6034 - val_loss: 6.5809 - val_mae: 1.8594\n",
            "Epoch 50/250\n",
            "178/178 [==============================] - 27s 145ms/step - loss: 0.7863 - mae: 0.6077 - val_loss: 5.6775 - val_mae: 1.7354\n",
            "Epoch 51/250\n",
            "178/178 [==============================] - 26s 146ms/step - loss: 0.7677 - mae: 0.6123 - val_loss: 6.7510 - val_mae: 1.8698\n",
            "Epoch 52/250\n",
            "178/178 [==============================] - 26s 144ms/step - loss: 0.7063 - mae: 0.5913 - val_loss: 6.2945 - val_mae: 1.8157\n",
            "Epoch 53/250\n",
            "178/178 [==============================] - 27s 148ms/step - loss: 0.9238 - mae: 0.6441 - val_loss: 5.2664 - val_mae: 1.6713\n",
            "Epoch 54/250\n",
            "178/178 [==============================] - 26s 143ms/step - loss: 0.8170 - mae: 0.6170 - val_loss: 6.3628 - val_mae: 1.8052\n",
            "Epoch 55/250\n",
            "178/178 [==============================] - 26s 143ms/step - loss: 0.8280 - mae: 0.6278 - val_loss: 4.8261 - val_mae: 1.6038\n",
            "Epoch 56/250\n",
            "178/178 [==============================] - 26s 144ms/step - loss: 0.7631 - mae: 0.6035 - val_loss: 4.4146 - val_mae: 1.5692\n",
            "Epoch 57/250\n",
            "178/178 [==============================] - 26s 142ms/step - loss: 0.7886 - mae: 0.6178 - val_loss: 5.9127 - val_mae: 1.7611\n",
            "Epoch 58/250\n",
            "178/178 [==============================] - 26s 144ms/step - loss: 0.7310 - mae: 0.6014 - val_loss: 5.0943 - val_mae: 1.6726\n",
            "Epoch 59/250\n",
            "178/178 [==============================] - 27s 146ms/step - loss: 0.7952 - mae: 0.6055 - val_loss: 6.2193 - val_mae: 1.8078\n",
            "Epoch 60/250\n",
            "178/178 [==============================] - 27s 146ms/step - loss: 0.7939 - mae: 0.6089 - val_loss: 5.8919 - val_mae: 1.7720\n",
            "Epoch 61/250\n",
            "178/178 [==============================] - 27s 148ms/step - loss: 0.6525 - mae: 0.5672 - val_loss: 6.5256 - val_mae: 1.8547\n",
            "Epoch 62/250\n",
            "178/178 [==============================] - 28s 153ms/step - loss: 0.6967 - mae: 0.5852 - val_loss: 5.2546 - val_mae: 1.6883\n",
            "Epoch 63/250\n",
            "178/178 [==============================] - 28s 154ms/step - loss: 0.6828 - mae: 0.5763 - val_loss: 6.2131 - val_mae: 1.8297\n",
            "Epoch 64/250\n",
            "178/178 [==============================] - 27s 149ms/step - loss: 0.7880 - mae: 0.6228 - val_loss: 6.2712 - val_mae: 1.8306\n",
            "Epoch 65/250\n",
            "178/178 [==============================] - 26s 146ms/step - loss: 0.7096 - mae: 0.5901 - val_loss: 6.0595 - val_mae: 1.8195\n",
            "Epoch 66/250\n",
            "178/178 [==============================] - 27s 147ms/step - loss: 0.6437 - mae: 0.5608 - val_loss: 6.1392 - val_mae: 1.8251\n",
            "Epoch 67/250\n",
            "178/178 [==============================] - 26s 145ms/step - loss: 0.7093 - mae: 0.5813 - val_loss: 5.9575 - val_mae: 1.7441\n",
            "Epoch 68/250\n",
            "178/178 [==============================] - 27s 147ms/step - loss: 0.7676 - mae: 0.5920 - val_loss: 4.9904 - val_mae: 1.5872\n",
            "Epoch 69/250\n",
            "178/178 [==============================] - 26s 145ms/step - loss: 0.9212 - mae: 0.6570 - val_loss: 6.6275 - val_mae: 1.7899\n",
            "Epoch 70/250\n",
            "178/178 [==============================] - 26s 143ms/step - loss: 0.8569 - mae: 0.6419 - val_loss: 6.9097 - val_mae: 1.8682\n",
            "Epoch 71/250\n",
            "178/178 [==============================] - 27s 147ms/step - loss: 0.8863 - mae: 0.6371 - val_loss: 6.4815 - val_mae: 1.8048\n",
            "Epoch 72/250\n",
            "178/178 [==============================] - 26s 145ms/step - loss: 0.7756 - mae: 0.6153 - val_loss: 6.5639 - val_mae: 1.8071\n",
            "Epoch 73/250\n",
            "178/178 [==============================] - 26s 145ms/step - loss: 0.8723 - mae: 0.6314 - val_loss: 6.8858 - val_mae: 1.8718\n",
            "Epoch 74/250\n",
            "178/178 [==============================] - 28s 153ms/step - loss: 0.8154 - mae: 0.6212 - val_loss: 7.2617 - val_mae: 1.8946\n",
            "Epoch 75/250\n",
            "178/178 [==============================] - 26s 145ms/step - loss: 0.8032 - mae: 0.6280 - val_loss: 7.2188 - val_mae: 1.8990\n",
            "Epoch 76/250\n",
            "178/178 [==============================] - 26s 146ms/step - loss: 0.7679 - mae: 0.6035 - val_loss: 6.8407 - val_mae: 1.8407\n",
            "Epoch 77/250\n",
            "178/178 [==============================] - 26s 145ms/step - loss: 0.8439 - mae: 0.6090 - val_loss: 5.9987 - val_mae: 1.7565\n",
            "Epoch 78/250\n",
            "178/178 [==============================] - 26s 145ms/step - loss: 0.7527 - mae: 0.5964 - val_loss: 6.6126 - val_mae: 1.8521\n",
            "Epoch 79/250\n",
            "178/178 [==============================] - 26s 143ms/step - loss: 0.6970 - mae: 0.5846 - val_loss: 9.1602 - val_mae: 2.1764\n",
            "Epoch 80/250\n",
            "178/178 [==============================] - 26s 144ms/step - loss: 1.1250 - mae: 0.7278 - val_loss: 6.7955 - val_mae: 1.8683\n",
            "Epoch 81/250\n",
            "178/178 [==============================] - 26s 142ms/step - loss: 3.7837 - mae: 0.9690 - val_loss: 7.0823 - val_mae: 1.8954\n",
            "Epoch 82/250\n",
            "178/178 [==============================] - 26s 143ms/step - loss: 5.4092 - mae: 1.1163 - val_loss: 7.2222 - val_mae: 1.8846\n",
            "Epoch 83/250\n",
            "178/178 [==============================] - 26s 144ms/step - loss: 5.6031 - mae: 1.1103 - val_loss: 7.9727 - val_mae: 2.0041\n",
            "Epoch 84/250\n",
            "178/178 [==============================] - 26s 143ms/step - loss: 5.3657 - mae: 1.0872 - val_loss: 7.6393 - val_mae: 1.9495\n",
            "Epoch 85/250\n",
            "178/178 [==============================] - 22s 122ms/step - loss: 5.2546 - mae: 1.0844 - val_loss: 5.9547 - val_mae: 1.7514\n",
            "Epoch 86/250\n",
            "178/178 [==============================] - 27s 147ms/step - loss: 3.1876 - mae: 0.8922 - val_loss: 5.9265 - val_mae: 1.8040\n",
            "Epoch 87/250\n",
            "178/178 [==============================] - 27s 147ms/step - loss: 0.9661 - mae: 0.6786 - val_loss: 6.4681 - val_mae: 1.8151\n",
            "Epoch 88/250\n",
            "178/178 [==============================] - 26s 144ms/step - loss: 0.9190 - mae: 0.6657 - val_loss: 5.4686 - val_mae: 1.7239\n",
            "Epoch 89/250\n",
            "178/178 [==============================] - 27s 147ms/step - loss: 0.8029 - mae: 0.6400 - val_loss: 6.1444 - val_mae: 1.8151\n",
            "Epoch 90/250\n",
            "178/178 [==============================] - 26s 144ms/step - loss: 0.9059 - mae: 0.6494 - val_loss: 6.6069 - val_mae: 1.8615\n",
            "Epoch 91/250\n",
            "178/178 [==============================] - 26s 143ms/step - loss: 0.8858 - mae: 0.6552 - val_loss: 5.9545 - val_mae: 1.7679\n",
            "Epoch 92/250\n",
            "178/178 [==============================] - 26s 145ms/step - loss: 0.7665 - mae: 0.6129 - val_loss: 6.6116 - val_mae: 1.8541\n",
            "Epoch 93/250\n",
            "178/178 [==============================] - 27s 147ms/step - loss: 0.8527 - mae: 0.6282 - val_loss: 6.0276 - val_mae: 1.7812\n",
            "Epoch 94/250\n",
            "178/178 [==============================] - 26s 145ms/step - loss: 0.8700 - mae: 0.6367 - val_loss: 7.7401 - val_mae: 2.0181\n",
            "Epoch 95/250\n",
            "178/178 [==============================] - 27s 146ms/step - loss: 0.8298 - mae: 0.6368 - val_loss: 6.4645 - val_mae: 1.8330\n",
            "Epoch 96/250\n",
            "178/178 [==============================] - 26s 144ms/step - loss: 0.8882 - mae: 0.6506 - val_loss: 6.2580 - val_mae: 1.8231\n",
            "Epoch 97/250\n",
            "178/178 [==============================] - 26s 143ms/step - loss: 0.7406 - mae: 0.6119 - val_loss: 5.1674 - val_mae: 1.6680\n",
            "Epoch 98/250\n",
            "178/178 [==============================] - 26s 144ms/step - loss: 0.7464 - mae: 0.6114 - val_loss: 6.1713 - val_mae: 1.8547\n",
            "Epoch 99/250\n",
            "178/178 [==============================] - 26s 143ms/step - loss: 0.7853 - mae: 0.6227 - val_loss: 5.9758 - val_mae: 1.7687\n",
            "Epoch 100/250\n",
            "178/178 [==============================] - 26s 144ms/step - loss: 0.7491 - mae: 0.6070 - val_loss: 5.6539 - val_mae: 1.7299\n",
            "Epoch 101/250\n",
            "178/178 [==============================] - 26s 145ms/step - loss: 0.7503 - mae: 0.6120 - val_loss: 4.7589 - val_mae: 1.5850\n",
            "Epoch 102/250\n",
            "178/178 [==============================] - 26s 144ms/step - loss: 0.7500 - mae: 0.6011 - val_loss: 5.0527 - val_mae: 1.6200\n",
            "Epoch 103/250\n",
            "178/178 [==============================] - 26s 144ms/step - loss: 0.8732 - mae: 0.6509 - val_loss: 7.0158 - val_mae: 1.9002\n",
            "Epoch 104/250\n",
            "178/178 [==============================] - 26s 145ms/step - loss: 0.9059 - mae: 0.6532 - val_loss: 6.2788 - val_mae: 1.7917\n",
            "Epoch 105/250\n",
            "178/178 [==============================] - 26s 144ms/step - loss: 0.7911 - mae: 0.6176 - val_loss: 5.5592 - val_mae: 1.7312\n",
            "Epoch 106/250\n",
            "178/178 [==============================] - 23s 126ms/step - loss: 0.7210 - mae: 0.6032 - val_loss: 4.9334 - val_mae: 1.5983\n",
            "Epoch 107/250\n",
            "178/178 [==============================] - 23s 124ms/step - loss: 0.7864 - mae: 0.6097 - val_loss: 6.5136 - val_mae: 1.8548\n",
            "Epoch 108/250\n",
            "178/178 [==============================] - 23s 125ms/step - loss: 0.8105 - mae: 0.6267 - val_loss: 5.5381 - val_mae: 1.6791\n",
            "Epoch 109/250\n",
            "178/178 [==============================] - 26s 145ms/step - loss: 0.8422 - mae: 0.6324 - val_loss: 5.3974 - val_mae: 1.6720\n",
            "Epoch 110/250\n",
            "178/178 [==============================] - 22s 122ms/step - loss: 1.0295 - mae: 0.7059 - val_loss: 4.9021 - val_mae: 1.6415\n",
            "Epoch 111/250\n",
            "178/178 [==============================] - 22s 118ms/step - loss: 1.3341 - mae: 0.7191 - val_loss: 4.7945 - val_mae: 1.6178\n",
            "Epoch 112/250\n",
            "178/178 [==============================] - 27s 148ms/step - loss: 1.1165 - mae: 0.6922 - val_loss: 3.9511 - val_mae: 1.4839\n",
            "Epoch 113/250\n",
            "178/178 [==============================] - 27s 146ms/step - loss: 1.4273 - mae: 0.7746 - val_loss: 5.9769 - val_mae: 1.7756\n",
            "Epoch 114/250\n",
            "178/178 [==============================] - 27s 147ms/step - loss: 1.3416 - mae: 0.7558 - val_loss: 4.9079 - val_mae: 1.6401\n",
            "Epoch 115/250\n",
            "178/178 [==============================] - 27s 147ms/step - loss: 1.1911 - mae: 0.7426 - val_loss: 5.7886 - val_mae: 1.7292\n",
            "Epoch 116/250\n",
            "178/178 [==============================] - 27s 147ms/step - loss: 1.4226 - mae: 0.7739 - val_loss: 4.7893 - val_mae: 1.6535\n",
            "Epoch 117/250\n",
            "178/178 [==============================] - 27s 146ms/step - loss: 1.6983 - mae: 0.8324 - val_loss: 4.9086 - val_mae: 1.6307\n",
            "Epoch 118/250\n",
            "178/178 [==============================] - 27s 148ms/step - loss: 1.4921 - mae: 0.7768 - val_loss: 4.8409 - val_mae: 1.6181\n",
            "Epoch 119/250\n",
            "178/178 [==============================] - 22s 123ms/step - loss: 1.4130 - mae: 0.7512 - val_loss: 5.4285 - val_mae: 1.6515\n",
            "Epoch 120/250\n",
            "178/178 [==============================] - 27s 149ms/step - loss: 1.3206 - mae: 0.7524 - val_loss: 4.3069 - val_mae: 1.5479\n",
            "Epoch 121/250\n",
            "178/178 [==============================] - 27s 146ms/step - loss: 1.4393 - mae: 0.7586 - val_loss: 4.2622 - val_mae: 1.5296\n",
            "Epoch 122/250\n",
            "178/178 [==============================] - 27s 148ms/step - loss: 1.2276 - mae: 0.7294 - val_loss: 4.6212 - val_mae: 1.5893\n",
            "Epoch 123/250\n",
            "178/178 [==============================] - 27s 148ms/step - loss: 1.3164 - mae: 0.7237 - val_loss: 5.1368 - val_mae: 1.6456\n",
            "Epoch 124/250\n",
            "178/178 [==============================] - 27s 146ms/step - loss: 1.3472 - mae: 0.7282 - val_loss: 5.8741 - val_mae: 1.7388\n",
            "Epoch 125/250\n",
            "178/178 [==============================] - 27s 147ms/step - loss: 1.4707 - mae: 0.7512 - val_loss: 4.9935 - val_mae: 1.6233\n",
            "Epoch 126/250\n",
            "178/178 [==============================] - 28s 153ms/step - loss: 1.2634 - mae: 0.7263 - val_loss: 4.5316 - val_mae: 1.5611\n",
            "Epoch 127/250\n",
            "178/178 [==============================] - 27s 146ms/step - loss: 1.2261 - mae: 0.7122 - val_loss: 5.3633 - val_mae: 1.6733\n",
            "Epoch 128/250\n",
            "178/178 [==============================] - 22s 120ms/step - loss: 1.1014 - mae: 0.6957 - val_loss: 5.6299 - val_mae: 1.7002\n",
            "Epoch 129/250\n",
            "178/178 [==============================] - 26s 145ms/step - loss: 1.1648 - mae: 0.7034 - val_loss: 5.1991 - val_mae: 1.6403\n",
            "Epoch 130/250\n",
            "178/178 [==============================] - 26s 144ms/step - loss: 1.3666 - mae: 0.7505 - val_loss: 5.3333 - val_mae: 1.6775\n",
            "Epoch 131/250\n",
            "178/178 [==============================] - 26s 145ms/step - loss: 1.3931 - mae: 0.7595 - val_loss: 5.3403 - val_mae: 1.6618\n",
            "Epoch 132/250\n",
            "178/178 [==============================] - 26s 144ms/step - loss: 1.4281 - mae: 0.7545 - val_loss: 5.7047 - val_mae: 1.7045\n",
            "Epoch 133/250\n",
            "178/178 [==============================] - 26s 143ms/step - loss: 1.3027 - mae: 0.7199 - val_loss: 6.8494 - val_mae: 1.8337\n",
            "Epoch 134/250\n",
            "178/178 [==============================] - 26s 144ms/step - loss: 1.1923 - mae: 0.7056 - val_loss: 7.0554 - val_mae: 1.8711\n",
            "Epoch 135/250\n",
            "178/178 [==============================] - 26s 144ms/step - loss: 1.2498 - mae: 0.6994 - val_loss: 6.3464 - val_mae: 1.7796\n",
            "Epoch 136/250\n",
            "178/178 [==============================] - 26s 144ms/step - loss: 1.1936 - mae: 0.6939 - val_loss: 5.4828 - val_mae: 1.6949\n",
            "Epoch 137/250\n",
            "178/178 [==============================] - 27s 146ms/step - loss: 1.2479 - mae: 0.7109 - val_loss: 4.4998 - val_mae: 1.5339\n",
            "Epoch 138/250\n",
            "178/178 [==============================] - 26s 144ms/step - loss: 1.1808 - mae: 0.6920 - val_loss: 6.8901 - val_mae: 1.8443\n",
            "Epoch 139/250\n",
            "178/178 [==============================] - 26s 143ms/step - loss: 1.2459 - mae: 0.7120 - val_loss: 5.8771 - val_mae: 1.7889\n",
            "Epoch 140/250\n",
            "178/178 [==============================] - 26s 144ms/step - loss: 1.1215 - mae: 0.6944 - val_loss: 6.6308 - val_mae: 1.8528\n",
            "Epoch 141/250\n",
            "178/178 [==============================] - 26s 144ms/step - loss: 0.9664 - mae: 0.6628 - val_loss: 6.5010 - val_mae: 1.8138\n",
            "Epoch 142/250\n",
            "178/178 [==============================] - 26s 144ms/step - loss: 0.9204 - mae: 0.6321 - val_loss: 6.1434 - val_mae: 1.7712\n",
            "Epoch 143/250\n",
            "178/178 [==============================] - 26s 144ms/step - loss: 0.9737 - mae: 0.6508 - val_loss: 6.5606 - val_mae: 1.8317\n",
            "Epoch 144/250\n",
            "178/178 [==============================] - 26s 145ms/step - loss: 0.8847 - mae: 0.6339 - val_loss: 5.6196 - val_mae: 1.7107\n",
            "Epoch 145/250\n",
            "178/178 [==============================] - 27s 149ms/step - loss: 1.0204 - mae: 0.6771 - val_loss: 5.7532 - val_mae: 1.7140\n",
            "Epoch 146/250\n",
            "178/178 [==============================] - 27s 147ms/step - loss: 0.8418 - mae: 0.6375 - val_loss: 4.6716 - val_mae: 1.5458\n",
            "Epoch 147/250\n",
            "178/178 [==============================] - 28s 153ms/step - loss: 0.7995 - mae: 0.6275 - val_loss: 5.4201 - val_mae: 1.6868\n",
            "Epoch 148/250\n",
            "178/178 [==============================] - 27s 150ms/step - loss: 0.9198 - mae: 0.6495 - val_loss: 5.1705 - val_mae: 1.6260\n",
            "Epoch 149/250\n",
            "178/178 [==============================] - 27s 148ms/step - loss: 0.8037 - mae: 0.6219 - val_loss: 5.5829 - val_mae: 1.6940\n",
            "Epoch 150/250\n",
            "178/178 [==============================] - 27s 146ms/step - loss: 1.0124 - mae: 0.7008 - val_loss: 6.1722 - val_mae: 1.7436\n",
            "Epoch 151/250\n",
            "178/178 [==============================] - 26s 146ms/step - loss: 0.8519 - mae: 0.6442 - val_loss: 7.2880 - val_mae: 1.9457\n",
            "Epoch 152/250\n",
            "178/178 [==============================] - 27s 146ms/step - loss: 1.0400 - mae: 0.6886 - val_loss: 6.4543 - val_mae: 1.8254\n",
            "Epoch 153/250\n",
            "178/178 [==============================] - 27s 146ms/step - loss: 0.8902 - mae: 0.6397 - val_loss: 5.5125 - val_mae: 1.6905\n",
            "Epoch 154/250\n",
            "178/178 [==============================] - 27s 146ms/step - loss: 0.9437 - mae: 0.6471 - val_loss: 5.7853 - val_mae: 1.7414\n",
            "Epoch 155/250\n",
            "178/178 [==============================] - 27s 146ms/step - loss: 0.8651 - mae: 0.6378 - val_loss: 5.8089 - val_mae: 1.7523\n",
            "Epoch 156/250\n",
            "178/178 [==============================] - 26s 146ms/step - loss: 0.8921 - mae: 0.6493 - val_loss: 5.9439 - val_mae: 1.7970\n",
            "Epoch 157/250\n",
            "178/178 [==============================] - 27s 150ms/step - loss: 1.2105 - mae: 0.7056 - val_loss: 5.7008 - val_mae: 1.7284\n",
            "Epoch 158/250\n",
            "178/178 [==============================] - 26s 145ms/step - loss: 0.9216 - mae: 0.6376 - val_loss: 5.5944 - val_mae: 1.7011\n",
            "Epoch 159/250\n",
            "178/178 [==============================] - 27s 148ms/step - loss: 0.9727 - mae: 0.6553 - val_loss: 5.3959 - val_mae: 1.6661\n",
            "Epoch 160/250\n",
            "178/178 [==============================] - 27s 146ms/step - loss: 1.0377 - mae: 0.6590 - val_loss: 6.8089 - val_mae: 1.8916\n",
            "Epoch 161/250\n",
            "178/178 [==============================] - 27s 146ms/step - loss: 1.0765 - mae: 0.6776 - val_loss: 6.2580 - val_mae: 1.7792\n",
            "Epoch 162/250\n",
            "178/178 [==============================] - 27s 147ms/step - loss: 1.3558 - mae: 0.7295 - val_loss: 5.5250 - val_mae: 1.7088\n",
            "Epoch 163/250\n",
            "178/178 [==============================] - 27s 149ms/step - loss: 1.2128 - mae: 0.6974 - val_loss: 5.6680 - val_mae: 1.7130\n",
            "Epoch 164/250\n",
            "178/178 [==============================] - 27s 148ms/step - loss: 1.3599 - mae: 0.7366 - val_loss: 6.2983 - val_mae: 1.7891\n",
            "Epoch 165/250\n",
            "178/178 [==============================] - 27s 147ms/step - loss: 1.0886 - mae: 0.6981 - val_loss: 5.8767 - val_mae: 1.7192\n",
            "Epoch 166/250\n",
            "178/178 [==============================] - 27s 147ms/step - loss: 1.1585 - mae: 0.6950 - val_loss: 5.0799 - val_mae: 1.6201\n",
            "Epoch 167/250\n",
            "178/178 [==============================] - 27s 147ms/step - loss: 1.0457 - mae: 0.6755 - val_loss: 5.3589 - val_mae: 1.6428\n",
            "Epoch 168/250\n",
            "178/178 [==============================] - 27s 146ms/step - loss: 1.0074 - mae: 0.6714 - val_loss: 6.3139 - val_mae: 1.7932\n",
            "Epoch 169/250\n",
            "178/178 [==============================] - 26s 144ms/step - loss: 1.0482 - mae: 0.6746 - val_loss: 5.7438 - val_mae: 1.6929\n",
            "Epoch 170/250\n",
            "178/178 [==============================] - 26s 144ms/step - loss: 0.9193 - mae: 0.6486 - val_loss: 5.9254 - val_mae: 1.7211\n",
            "Epoch 171/250\n",
            "178/178 [==============================] - 26s 145ms/step - loss: 0.9366 - mae: 0.6611 - val_loss: 5.8838 - val_mae: 1.7301\n",
            "Epoch 172/250\n",
            "178/178 [==============================] - 26s 146ms/step - loss: 0.8602 - mae: 0.6471 - val_loss: 5.8620 - val_mae: 1.7149\n",
            "Epoch 173/250\n",
            "178/178 [==============================] - 26s 145ms/step - loss: 0.8702 - mae: 0.6358 - val_loss: 5.2263 - val_mae: 1.6180\n",
            "Epoch 174/250\n",
            "178/178 [==============================] - 27s 147ms/step - loss: 0.9302 - mae: 0.6304 - val_loss: 5.2351 - val_mae: 1.6378\n",
            "Epoch 175/250\n",
            "178/178 [==============================] - 26s 146ms/step - loss: 0.8163 - mae: 0.6084 - val_loss: 5.8147 - val_mae: 1.7081\n",
            "Epoch 176/250\n",
            "178/178 [==============================] - 26s 145ms/step - loss: 0.8696 - mae: 0.6305 - val_loss: 5.5603 - val_mae: 1.6870\n",
            "Epoch 177/250\n",
            "178/178 [==============================] - 26s 145ms/step - loss: 0.8297 - mae: 0.6143 - val_loss: 5.3799 - val_mae: 1.6623\n",
            "Epoch 178/250\n",
            "178/178 [==============================] - 28s 153ms/step - loss: 0.9176 - mae: 0.6308 - val_loss: 5.5596 - val_mae: 1.6890\n",
            "Epoch 179/250\n",
            "178/178 [==============================] - 23s 125ms/step - loss: 0.7971 - mae: 0.5994 - val_loss: 5.5072 - val_mae: 1.6987\n",
            "Epoch 180/250\n",
            "178/178 [==============================] - 23s 125ms/step - loss: 0.9570 - mae: 0.6265 - val_loss: 6.1160 - val_mae: 1.7223\n",
            "Epoch 181/250\n",
            "178/178 [==============================] - 26s 146ms/step - loss: 0.8083 - mae: 0.6076 - val_loss: 4.5736 - val_mae: 1.5329\n",
            "Epoch 182/250\n",
            "178/178 [==============================] - 26s 145ms/step - loss: 0.8635 - mae: 0.6044 - val_loss: 4.1449 - val_mae: 1.4843\n",
            "Epoch 183/250\n",
            "178/178 [==============================] - 26s 146ms/step - loss: 0.9289 - mae: 0.6290 - val_loss: 5.2635 - val_mae: 1.6553\n",
            "Epoch 184/250\n",
            "178/178 [==============================] - 26s 145ms/step - loss: 0.8262 - mae: 0.6185 - val_loss: 5.0335 - val_mae: 1.6398\n",
            "Epoch 185/250\n",
            "178/178 [==============================] - 26s 145ms/step - loss: 0.8659 - mae: 0.6161 - val_loss: 5.6233 - val_mae: 1.7030\n",
            "Epoch 186/250\n",
            "178/178 [==============================] - 26s 146ms/step - loss: 0.8760 - mae: 0.6434 - val_loss: 5.6415 - val_mae: 1.6904\n",
            "Epoch 187/250\n",
            "178/178 [==============================] - 26s 145ms/step - loss: 0.8222 - mae: 0.6312 - val_loss: 6.0342 - val_mae: 1.7517\n",
            "Epoch 188/250\n",
            "178/178 [==============================] - 26s 145ms/step - loss: 0.9188 - mae: 0.6379 - val_loss: 6.1651 - val_mae: 1.7825\n",
            "Epoch 189/250\n",
            "178/178 [==============================] - 22s 123ms/step - loss: 0.8194 - mae: 0.6286 - val_loss: 4.6980 - val_mae: 1.5618\n",
            "Epoch 190/250\n",
            "178/178 [==============================] - 27s 145ms/step - loss: 0.8329 - mae: 0.6204 - val_loss: 5.0939 - val_mae: 1.6277\n",
            "Epoch 191/250\n",
            "178/178 [==============================] - 26s 145ms/step - loss: 0.9275 - mae: 0.6520 - val_loss: 4.4084 - val_mae: 1.5304\n",
            "Epoch 192/250\n",
            "178/178 [==============================] - 26s 145ms/step - loss: 0.8340 - mae: 0.6212 - val_loss: 4.7830 - val_mae: 1.5979\n",
            "Epoch 193/250\n",
            "178/178 [==============================] - 26s 145ms/step - loss: 0.8268 - mae: 0.6097 - val_loss: 4.4115 - val_mae: 1.5401\n",
            "Epoch 194/250\n",
            "178/178 [==============================] - 27s 147ms/step - loss: 0.8014 - mae: 0.6029 - val_loss: 4.7711 - val_mae: 1.6056\n",
            "Epoch 195/250\n",
            "178/178 [==============================] - 27s 148ms/step - loss: 0.7312 - mae: 0.5902 - val_loss: 4.7196 - val_mae: 1.5909\n",
            "Epoch 196/250\n",
            "178/178 [==============================] - 27s 146ms/step - loss: 0.7170 - mae: 0.5927 - val_loss: 5.2830 - val_mae: 1.6688\n",
            "Epoch 197/250\n",
            "178/178 [==============================] - 27s 147ms/step - loss: 0.7294 - mae: 0.5928 - val_loss: 5.0445 - val_mae: 1.6352\n",
            "Epoch 198/250\n",
            "178/178 [==============================] - 28s 154ms/step - loss: 0.7819 - mae: 0.6177 - val_loss: 5.1358 - val_mae: 1.6301\n",
            "178/178 [==============================] - ETA: 0s - loss: 0.7819 - mae: 0.6177Epoch 199/250\n",
            "178/178 [==============================] - 27s 147ms/step - loss: 0.7843 - mae: 0.6028 - val_loss: 5.0739 - val_mae: 1.6306\n",
            "Epoch 200/250\n",
            "178/178 [==============================] - 22s 119ms/step - loss: 0.8239 - mae: 0.6161 - val_loss: 5.5178 - val_mae: 1.6731\n",
            "Epoch 201/250\n",
            "178/178 [==============================] - 27s 146ms/step - loss: 0.7646 - mae: 0.5927 - val_loss: 5.4196 - val_mae: 1.6762\n",
            "Epoch 202/250\n",
            "178/178 [==============================] - 26s 144ms/step - loss: 0.8702 - mae: 0.6246 - val_loss: 5.9016 - val_mae: 1.7351\n",
            "Epoch 203/250\n",
            "178/178 [==============================] - 27s 147ms/step - loss: 0.9615 - mae: 0.6015 - val_loss: 4.9517 - val_mae: 1.6187\n",
            "Epoch 204/250\n",
            "178/178 [==============================] - 27s 146ms/step - loss: 0.8417 - mae: 0.6143 - val_loss: 5.5967 - val_mae: 1.7171\n",
            "Epoch 205/250\n",
            "178/178 [==============================] - 27s 147ms/step - loss: 0.9624 - mae: 0.6322 - val_loss: 5.9713 - val_mae: 1.7372\n",
            "Epoch 206/250\n",
            "178/178 [==============================] - 27s 146ms/step - loss: 0.9235 - mae: 0.6153 - val_loss: 6.0347 - val_mae: 1.7405\n",
            "Epoch 207/250\n",
            "178/178 [==============================] - 26s 145ms/step - loss: 0.8216 - mae: 0.6072 - val_loss: 5.0978 - val_mae: 1.6422\n",
            "Epoch 208/250\n",
            "178/178 [==============================] - 26s 145ms/step - loss: 0.7686 - mae: 0.5899 - val_loss: 5.2669 - val_mae: 1.6622\n",
            "Epoch 209/250\n",
            "178/178 [==============================] - 27s 146ms/step - loss: 0.8699 - mae: 0.6105 - val_loss: 5.2558 - val_mae: 1.6439\n",
            "Epoch 210/250\n",
            "178/178 [==============================] - 27s 149ms/step - loss: 0.7942 - mae: 0.6089 - val_loss: 5.5429 - val_mae: 1.6890\n",
            "Epoch 211/250\n",
            "178/178 [==============================] - 27s 148ms/step - loss: 0.7975 - mae: 0.6119 - val_loss: 6.1739 - val_mae: 1.7606\n",
            "Epoch 212/250\n",
            "178/178 [==============================] - 27s 146ms/step - loss: 0.8196 - mae: 0.6071 - val_loss: 5.4197 - val_mae: 1.6840\n",
            "Epoch 213/250\n",
            "178/178 [==============================] - 26s 146ms/step - loss: 0.7521 - mae: 0.5913 - val_loss: 5.4754 - val_mae: 1.6823\n",
            "Epoch 214/250\n",
            "178/178 [==============================] - 27s 151ms/step - loss: 0.8394 - mae: 0.6016 - val_loss: 7.2010 - val_mae: 1.9421\n",
            "Epoch 215/250\n",
            "178/178 [==============================] - 27s 149ms/step - loss: 1.0754 - mae: 0.6726 - val_loss: 4.4797 - val_mae: 1.5665\n",
            "Epoch 216/250\n",
            "178/178 [==============================] - 27s 149ms/step - loss: 0.8424 - mae: 0.6123 - val_loss: 5.1827 - val_mae: 1.6351\n",
            "Epoch 217/250\n",
            "178/178 [==============================] - 27s 151ms/step - loss: 0.8573 - mae: 0.6164 - val_loss: 4.8748 - val_mae: 1.6185\n",
            "Epoch 218/250\n",
            "178/178 [==============================] - 27s 149ms/step - loss: 0.7307 - mae: 0.5879 - val_loss: 4.5420 - val_mae: 1.5552\n",
            "Epoch 219/250\n",
            "178/178 [==============================] - 27s 148ms/step - loss: 0.7136 - mae: 0.5764 - val_loss: 4.8608 - val_mae: 1.6033\n",
            "Epoch 220/250\n",
            "178/178 [==============================] - 27s 148ms/step - loss: 0.7907 - mae: 0.5953 - val_loss: 5.4187 - val_mae: 1.6865\n",
            "Epoch 221/250\n",
            "178/178 [==============================] - 27s 147ms/step - loss: 0.7639 - mae: 0.5963 - val_loss: 6.1725 - val_mae: 1.7543\n",
            "Epoch 222/250\n",
            "178/178 [==============================] - 27s 147ms/step - loss: 0.7973 - mae: 0.5818 - val_loss: 5.9039 - val_mae: 1.7278\n",
            "Epoch 223/250\n",
            "178/178 [==============================] - 27s 147ms/step - loss: 0.8648 - mae: 0.5802 - val_loss: 5.0062 - val_mae: 1.5967\n",
            "Epoch 224/250\n",
            "178/178 [==============================] - 27s 147ms/step - loss: 0.7826 - mae: 0.5765 - val_loss: 5.6319 - val_mae: 1.7134\n",
            "Epoch 225/250\n",
            "178/178 [==============================] - 27s 150ms/step - loss: 0.7326 - mae: 0.5676 - val_loss: 5.7714 - val_mae: 1.7036\n",
            "Epoch 226/250\n",
            "178/178 [==============================] - 27s 147ms/step - loss: 0.6110 - mae: 0.5470 - val_loss: 5.9625 - val_mae: 1.7257\n",
            "Epoch 227/250\n",
            "178/178 [==============================] - 28s 154ms/step - loss: 0.6316 - mae: 0.5506 - val_loss: 5.2127 - val_mae: 1.6552\n",
            "Epoch 228/250\n",
            "178/178 [==============================] - 27s 149ms/step - loss: 0.6546 - mae: 0.5457 - val_loss: 5.7500 - val_mae: 1.7156\n",
            "Epoch 229/250\n",
            "178/178 [==============================] - 27s 147ms/step - loss: 0.6291 - mae: 0.5603 - val_loss: 5.2252 - val_mae: 1.6614\n",
            "Epoch 230/250\n",
            "178/178 [==============================] - 23s 125ms/step - loss: 0.6461 - mae: 0.5641 - val_loss: 6.1452 - val_mae: 1.7978\n",
            "Epoch 231/250\n",
            "178/178 [==============================] - 26s 145ms/step - loss: 0.6833 - mae: 0.5499 - val_loss: 5.5466 - val_mae: 1.7088\n",
            "Epoch 232/250\n",
            "178/178 [==============================] - 27s 146ms/step - loss: 0.6268 - mae: 0.5296 - val_loss: 6.1288 - val_mae: 1.7834\n",
            "Epoch 233/250\n",
            "178/178 [==============================] - 26s 146ms/step - loss: 0.7017 - mae: 0.5541 - val_loss: 6.5987 - val_mae: 1.8289\n",
            "Epoch 234/250\n",
            "178/178 [==============================] - 26s 145ms/step - loss: 0.7627 - mae: 0.5904 - val_loss: 5.8693 - val_mae: 1.7504\n",
            "Epoch 235/250\n",
            "178/178 [==============================] - 26s 144ms/step - loss: 0.7209 - mae: 0.5674 - val_loss: 5.5687 - val_mae: 1.7039\n",
            "Epoch 236/250\n",
            "178/178 [==============================] - 26s 143ms/step - loss: 0.6733 - mae: 0.5614 - val_loss: 5.1664 - val_mae: 1.6580\n",
            "Epoch 237/250\n",
            "178/178 [==============================] - 27s 150ms/step - loss: 0.8269 - mae: 0.6129 - val_loss: 6.1541 - val_mae: 1.7645\n",
            "Epoch 238/250\n",
            "178/178 [==============================] - 26s 145ms/step - loss: 0.8366 - mae: 0.6236 - val_loss: 4.9748 - val_mae: 1.6530\n",
            "Epoch 239/250\n",
            "178/178 [==============================] - 27s 147ms/step - loss: 0.7111 - mae: 0.5873 - val_loss: 7.0608 - val_mae: 1.9219\n",
            "Epoch 240/250\n",
            "178/178 [==============================] - 27s 148ms/step - loss: 0.7247 - mae: 0.5797 - val_loss: 6.4775 - val_mae: 1.8369\n",
            "Epoch 241/250\n",
            "178/178 [==============================] - 27s 146ms/step - loss: 0.7590 - mae: 0.5914 - val_loss: 7.0808 - val_mae: 1.8916\n",
            "Epoch 242/250\n",
            "178/178 [==============================] - 27s 146ms/step - loss: 0.8064 - mae: 0.5890 - val_loss: 5.5525 - val_mae: 1.7095\n",
            "Epoch 243/250\n",
            "178/178 [==============================] - 27s 147ms/step - loss: 0.7128 - mae: 0.5770 - val_loss: 5.3490 - val_mae: 1.6846\n",
            "Epoch 244/250\n",
            "178/178 [==============================] - 27s 146ms/step - loss: 0.8898 - mae: 0.6141 - val_loss: 6.9194 - val_mae: 1.8574\n",
            "Epoch 245/250\n",
            "178/178 [==============================] - 22s 122ms/step - loss: 1.1109 - mae: 0.6669 - val_loss: 5.2068 - val_mae: 1.6438\n",
            "Epoch 246/250\n",
            "178/178 [==============================] - 27s 145ms/step - loss: 0.9041 - mae: 0.6240 - val_loss: 5.2348 - val_mae: 1.6648\n",
            "Epoch 247/250\n",
            "178/178 [==============================] - 26s 145ms/step - loss: 0.9919 - mae: 0.6269 - val_loss: 4.9340 - val_mae: 1.6068\n",
            "Epoch 248/250\n",
            "178/178 [==============================] - 26s 145ms/step - loss: 0.8521 - mae: 0.6057 - val_loss: 5.4351 - val_mae: 1.6904\n",
            "Epoch 249/250\n",
            "178/178 [==============================] - 26s 144ms/step - loss: 0.8770 - mae: 0.6100 - val_loss: 4.4145 - val_mae: 1.5720\n",
            "Epoch 250/250\n",
            "178/178 [==============================] - 26s 145ms/step - loss: 0.7531 - mae: 0.5977 - val_loss: 4.5826 - val_mae: 1.5605\n"
          ]
        }
      ]
    },
    {
      "cell_type": "code",
      "source": [
        "loss = history.history['loss']\n",
        "val_loss = history.history['val_loss']\n",
        "mae = history.history['mae']\n",
        "val_mae = history.history['val_mae']\n",
        "\n",
        "\n",
        "epochs_x = range(len(loss))\n",
        "\n",
        "\n",
        "plt.plot(epochs_x, mae, 'o', color ='darkviolet', label='Training MAE')\n",
        "plt.plot(epochs_x, val_mae, 'k', label='Validation MAE')\n",
        "plt.title('Training and validation MeanAbsoluteError')\n",
        "plt.legend()\n",
        "\n",
        "plt.figure()\n",
        "plt.plot(epochs_x, loss, 'o', color ='darkviolet', label='Training loss')\n",
        "plt.plot(epochs_x, val_loss, 'k', label='Validation loss')\n",
        "plt.title('Training and validation loss')\n",
        "plt.legend()\n",
        "\n",
        "plt.show()"
      ],
      "metadata": {
        "id": "Y3K89-CM-dfg",
        "colab": {
          "base_uri": "https://localhost:8080/",
          "height": 887
        },
        "outputId": "db0c2694-142b-4951-ec8f-9abfb3c09381"
      },
      "execution_count": 19,
      "outputs": [
        {
          "output_type": "display_data",
          "data": {
            "text/plain": [
              "<Figure size 640x480 with 1 Axes>"
            ],
            "image/png": "[encoded data removed]"
          },
          "metadata": {}
        },
        {
          "output_type": "display_data",
          "data": {
            "text/plain": [
              "<Figure size 640x480 with 1 Axes>"
            ],
            "image/png": "[encoded data removed]"
          },
          "metadata": {}
        }
      ]
    },
    {
      "cell_type": "code",
      "source": [],
      "metadata": {
        "id": "sI5JVEwwQsjc"
      },
      "execution_count": 19,
      "outputs": []
    },
    {
      "cell_type": "code",
      "source": [
        "epochs_x"
      ],
      "metadata": {
        "id": "N_sP_ZmSY-Jv",
        "colab": {
          "base_uri": "https://localhost:8080/"
        },
        "outputId": "50fc2c20-294f-431c-9569-47bab4eac941"
      },
      "execution_count": 20,
      "outputs": [
        {
          "output_type": "execute_result",
          "data": {
            "text/plain": [
              "range(0, 250)"
            ]
          },
          "metadata": {},
          "execution_count": 20
        }
      ]
    },
    {
      "cell_type": "markdown",
      "source": [
        "#Download the model\n"
      ],
      "metadata": {
        "id": "R19IJQSYoW7J"
      }
    },
    {
      "cell_type": "code",
      "source": [
        "os.makedirs('/content/drive/My Drive/cut_panoramic/Model', exist_ok=True)\n",
        "model.save('/content/drive/MyDrive/cut_panoramic/Model/Regression/All/7Re_All_1G_1e-4_16_0.2_250_New_Unfreez.h5')"
      ],
      "metadata": {
        "id": "Zed4TdFcG2iJ"
      },
      "execution_count": 21,
      "outputs": []
    },
    {
      "cell_type": "markdown",
      "source": [],
      "metadata": {
        "id": "n5YxZ-5QjQ0-"
      }
    },
    {
      "cell_type": "code",
      "source": [
        "# from google.colab import files\n",
        "# files.download('/content/drive/My Drive/cut_panoramic/Model/1.1_รอบแรก_Flimpano_Male125_250.h5')"
      ],
      "metadata": {
        "id": "P5eMxm1NV-oY"
      },
      "execution_count": 22,
      "outputs": []
    },
    {
      "cell_type": "code",
      "source": [
        "\n"
      ],
      "metadata": {
        "id": "wY_pDlxkRwxS"
      },
      "execution_count": 22,
      "outputs": []
    }
  ]
}