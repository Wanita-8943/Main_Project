{
  "nbformat": 4,
  "nbformat_minor": 0,
  "metadata": {
    "colab": {
      "provenance": [],
      "machine_shape": "hm",
      "include_colab_link": true
    },
    "kernelspec": {
      "name": "python3",
      "display_name": "Python 3"
    },
    "language_info": {
      "name": "python"
    },
    "accelerator": "GPU",
    "gpuClass": "standard"
  },
  "cells": [
    {
      "cell_type": "markdown",
      "metadata": {
        "id": "view-in-github",
        "colab_type": "text"
      },
      "source": [
        "<a href=\"https://colab.research.google.com/github/Wanita-8943/Main_Project/blob/main/A8_Train_Unfreeze.ipynb\" target=\"_parent\"><img src=\"https://colab.research.google.com/assets/colab-badge.svg\" alt=\"Open In Colab\"/></a>"
      ]
    },
    {
      "cell_type": "markdown",
      "source": [
        "#เรียกใช้ CSV"
      ],
      "metadata": {
        "id": "ow7eWoNw6U-c"
      }
    },
    {
      "cell_type": "code",
      "execution_count": 1,
      "metadata": {
        "id": "z8o_VVNXzcL8"
      },
      "outputs": [],
      "source": [
        "import pandas as pd\n",
        "import shutil"
      ]
    },
    {
      "cell_type": "code",
      "source": [
        "from google.colab import drive\n",
        "drive.mount('/content/drive')"
      ],
      "metadata": {
        "colab": {
          "base_uri": "https://localhost:8080/"
        },
        "id": "1_2Fe8u81d5r",
        "outputId": "24b9f124-88d4-4c25-f807-df87e3cde870"
      },
      "execution_count": 2,
      "outputs": [
        {
          "output_type": "stream",
          "name": "stdout",
          "text": [
            "Mounted at /content/drive\n"
          ]
        }
      ]
    },
    {
      "cell_type": "markdown",
      "source": [
        "#Imports"
      ],
      "metadata": {
        "id": "5qxePnnn7TGW"
      }
    },
    {
      "cell_type": "code",
      "source": [
        "from tensorflow.keras import models\n",
        "from tensorflow.keras import layers\n",
        "from tensorflow.keras import optimizers\n",
        "import os\n",
        "import glob\n",
        "import shutil\n",
        "import sys\n",
        "import numpy as np\n",
        "from skimage.io import imread\n",
        "import matplotlib.pyplot as plt\n",
        "from IPython.display import Image\n",
        "%matplotlib inline"
      ],
      "metadata": {
        "id": "D-hCRloc3t39"
      },
      "execution_count": 3,
      "outputs": []
    },
    {
      "cell_type": "code",
      "source": [
        "import tensorflow as tf\n",
        "from tensorflow.keras import Sequential\n",
        "from tensorflow.keras.layers import Dense\n",
        "from tensorflow.keras.optimizers import Adam\n",
        "from tensorflow.keras import backend as K"
      ],
      "metadata": {
        "id": "YZWXwjXeGxZP"
      },
      "execution_count": 4,
      "outputs": []
    },
    {
      "cell_type": "markdown",
      "source": [
        "#กำหนดค่าพารามิเตอร์\n"
      ],
      "metadata": {
        "id": "RooqSdBc7QHC"
      }
    },
    {
      "cell_type": "code",
      "source": [
        "batch_size = 16\n",
        "width = 150\n",
        "height = 150\n",
        "epochs = 250\n",
        "NUM_TRAIN = 2850\n",
        "NUM_TEST = 950\n",
        "dropout_rate = 0.2\n",
        "input_shape = (height, width, 3)"
      ],
      "metadata": {
        "id": "thDb7U9B3xOo"
      },
      "execution_count": 5,
      "outputs": []
    },
    {
      "cell_type": "markdown",
      "source": [
        "#Clone efficientnet repo\n"
      ],
      "metadata": {
        "id": "pumGmy6f3eSW"
      }
    },
    {
      "cell_type": "code",
      "source": [
        "#ดึงข้อมูลใน Github มาใช้\n",
        "import os\n",
        "%cd /content\n",
        "if not os.path.isdir(\"efficientnet_keras_transfer_learning\"):\n",
        " !git clone https://github.com/Wanita-8943/efficientnet_keras_transfer_learning\n",
        "%cd efficientnet_keras_transfer_learning/\n"
      ],
      "metadata": {
        "colab": {
          "base_uri": "https://localhost:8080/"
        },
        "id": "P7iy2f8n16p0",
        "outputId": "0755e726-a8fc-41fe-ea54-96b7de0e024a"
      },
      "execution_count": 6,
      "outputs": [
        {
          "output_type": "stream",
          "name": "stdout",
          "text": [
            "/content\n",
            "Cloning into 'efficientnet_keras_transfer_learning'...\n",
            "remote: Enumerating objects: 1085, done.\u001b[K\n",
            "remote: Counting objects: 100% (248/248), done.\u001b[K\n",
            "remote: Compressing objects: 100% (127/127), done.\u001b[K\n",
            "remote: Total 1085 (delta 124), reused 241 (delta 121), pack-reused 837\u001b[K\n",
            "Receiving objects: 100% (1085/1085), 14.09 MiB | 18.79 MiB/s, done.\n",
            "Resolving deltas: 100% (621/621), done.\n",
            "/content/efficientnet_keras_transfer_learning\n"
          ]
        }
      ]
    },
    {
      "cell_type": "code",
      "source": [
        "# Options: EfficientNetB0, EfficientNetB1, EfficientNetB2, EfficientNetB3\n",
        "# Higher the number, the more complex the model is.\n",
        "from efficientnet import EfficientNetB0 as Net\n",
        "from efficientnet import center_crop_and_resize, preprocess_input"
      ],
      "metadata": {
        "id": "tjZBRnfo3bN0"
      },
      "execution_count": 7,
      "outputs": []
    },
    {
      "cell_type": "code",
      "source": [
        "# loading pretrained conv base model\n",
        "# โหลดโมเดล มาโดยตัด output ของโมเดลออก เเต่ยังใช้ input อันเดิม\n",
        "# เเละโหลด weight ของโมเดล มาด้วยที่ชื่อว่า imagenet\n",
        "conv_base = Net(weights='imagenet', include_top=False, input_shape=input_shape)"
      ],
      "metadata": {
        "colab": {
          "base_uri": "https://localhost:8080/"
        },
        "id": "r8BN74_JJdfj",
        "outputId": "7ba26f1e-725d-4dfd-ff62-f870a938cf5c"
      },
      "execution_count": 8,
      "outputs": [
        {
          "output_type": "stream",
          "name": "stdout",
          "text": [
            "Downloading data from https://github.com/qubvel/efficientnet/releases/download/v0.0.1/efficientnet-b0_imagenet_1000_notop.h5\n",
            "16717576/16717576 [==============================] - 1s 0us/step\n"
          ]
        }
      ]
    },
    {
      "cell_type": "markdown",
      "source": [
        "#load model\n"
      ],
      "metadata": {
        "id": "PdNWyD-QYkzK"
      }
    },
    {
      "cell_type": "code",
      "source": [
        "import sys\n",
        "sys.path.append('/content/drive/MyDrive/cut_panoramic/Model/Regression/All/7Re_All_1G_1e-4_16_0.2_250_New_Unfreez.h5')\n",
        "\n",
        "from efficientnet.layers import Swish, DropConnect\n",
        "from efficientnet.model import ConvKernalInitializer\n",
        "from tensorflow.keras.utils import get_custom_objects\n",
        "\n",
        "get_custom_objects().update({\n",
        "    'ConvKernalInitializer': ConvKernalInitializer,\n",
        "    'Swish': Swish,\n",
        "    'DropConnect':DropConnect\n",
        "})"
      ],
      "metadata": {
        "id": "_gPnx2UvYf5A"
      },
      "execution_count": 9,
      "outputs": []
    },
    {
      "cell_type": "code",
      "source": [
        "#load model \n",
        "from tensorflow.keras.models import load_model\n",
        "model = load_model('/content/drive/MyDrive/cut_panoramic/Model/Regression/All/7Re_All_1G_1e-4_16_0.2_250_New_Unfreez.h5')\n",
        "height = width = model.input_shape[1]"
      ],
      "metadata": {
        "id": "Nu93WzFUYm9e"
      },
      "execution_count": 10,
      "outputs": []
    },
    {
      "cell_type": "code",
      "source": [
        "model.summary()"
      ],
      "metadata": {
        "id": "gp5EbyyXYvc6",
        "colab": {
          "base_uri": "https://localhost:8080/"
        },
        "outputId": "118f85fc-d84d-42f4-ccd1-d60c7f64fe9a"
      },
      "execution_count": 11,
      "outputs": [
        {
          "output_type": "stream",
          "name": "stdout",
          "text": [
            "Model: \"sequential\"\n",
            "_________________________________________________________________\n",
            " Layer (type)                Output Shape              Param #   \n",
            "=================================================================\n",
            " efficientnet-b0 (Functional  (None, 5, 5, 1280)       4049564   \n",
            " )                                                               \n",
            "                                                                 \n",
            " gap (GlobalMaxPooling2D)    (None, 1280)              0         \n",
            "                                                                 \n",
            " dropout_out (Dropout)       (None, 1280)              0         \n",
            "                                                                 \n",
            " fc_out (Dense)              (None, 19)                24339     \n",
            "                                                                 \n",
            " dense (Dense)               (None, 1)                 20        \n",
            "                                                                 \n",
            "=================================================================\n",
            "Total params: 4,073,923\n",
            "Trainable params: 4,031,907\n",
            "Non-trainable params: 42,016\n",
            "_________________________________________________________________\n"
          ]
        }
      ]
    },
    {
      "cell_type": "code",
      "source": [
        "df = pd.read_csv (r'/content/drive/MyDrive/cut_panoramic/Data/All_Re.csv')\n",
        "df"
      ],
      "metadata": {
        "id": "q1Dc131_Y3uA",
        "colab": {
          "base_uri": "https://localhost:8080/",
          "height": 419
        },
        "outputId": "0c387db0-ced7-489c-f11a-d02e200f974e"
      },
      "execution_count": 12,
      "outputs": [
        {
          "output_type": "execute_result",
          "data": {
            "text/plain": [
              "      Fig_Age  Fig_Person_Sex  Age(year) Class  Class_Re       Filename  \\\n",
              "0           1               1          7  Y07F         1         V1.jpg   \n",
              "1           2               1          7  Y07F         1    Flip_V1.jpg   \n",
              "2           3               2          7  Y07F         1         V2.jpg   \n",
              "3           4               2          7  Y07F         1    Flip_V2.jpg   \n",
              "4           5               3          7  Y07F         1         V3.jpg   \n",
              "...       ...             ...        ...   ...       ...            ...   \n",
              "4745      121              77         25  Y25M        19  Flip_J463.jpg   \n",
              "4746      122              78         25  Y25M        19       J464.jpg   \n",
              "4747      123              78         25  Y25M        19  Flip_J464.jpg   \n",
              "4748      124              79         25  Y25M        19       J465.jpg   \n",
              "4749      125              79         25  Y25M        19  Flip_J465.jpg   \n",
              "\n",
              "                                          Path_filename     Sex Floder  \n",
              "0     /content/drive/My Drive/TVT_Gender/train/Femal...  Female   Both  \n",
              "1     /content/drive/My Drive/TVT_Gender/train/Femal...  Female   Both  \n",
              "2     /content/drive/My Drive/TVT_Gender/train/Femal...  Female   Both  \n",
              "3     /content/drive/My Drive/TVT_Gender/train/Femal...  Female   Both  \n",
              "4     /content/drive/My Drive/TVT_Gender/train/Femal...  Female   Both  \n",
              "...                                                 ...     ...    ...  \n",
              "4745  /content/drive/My Drive/TVT_Gender/test/Male/F...    Male   Both  \n",
              "4746  /content/drive/My Drive/TVT_Gender/test/Male/J...    Male   Both  \n",
              "4747  /content/drive/My Drive/TVT_Gender/test/Male/F...    Male   Both  \n",
              "4748  /content/drive/My Drive/TVT_Gender/test/Male/J...    Male   Both  \n",
              "4749  /content/drive/My Drive/TVT_Gender/test/Male/F...    Male   Both  \n",
              "\n",
              "[4750 rows x 9 columns]"
            ],
            "text/html": [
              "\n",
              "  <div id=\"df-894560b6-fec3-4658-bada-dc31eb4528fb\">\n",
              "    <div class=\"colab-df-container\">\n",
              "      <div>\n",
              "<style scoped>\n",
              "    .dataframe tbody tr th:only-of-type {\n",
              "        vertical-align: middle;\n",
              "    }\n",
              "\n",
              "    .dataframe tbody tr th {\n",
              "        vertical-align: top;\n",
              "    }\n",
              "\n",
              "    .dataframe thead th {\n",
              "        text-align: right;\n",
              "    }\n",
              "</style>\n",
              "<table border=\"1\" class=\"dataframe\">\n",
              "  <thead>\n",
              "    <tr style=\"text-align: right;\">\n",
              "      <th></th>\n",
              "      <th>Fig_Age</th>\n",
              "      <th>Fig_Person_Sex</th>\n",
              "      <th>Age(year)</th>\n",
              "      <th>Class</th>\n",
              "      <th>Class_Re</th>\n",
              "      <th>Filename</th>\n",
              "      <th>Path_filename</th>\n",
              "      <th>Sex</th>\n",
              "      <th>Floder</th>\n",
              "    </tr>\n",
              "  </thead>\n",
              "  <tbody>\n",
              "    <tr>\n",
              "      <th>0</th>\n",
              "      <td>1</td>\n",
              "      <td>1</td>\n",
              "      <td>7</td>\n",
              "      <td>Y07F</td>\n",
              "      <td>1</td>\n",
              "      <td>V1.jpg</td>\n",
              "      <td>/content/drive/My Drive/TVT_Gender/train/Femal...</td>\n",
              "      <td>Female</td>\n",
              "      <td>Both</td>\n",
              "    </tr>\n",
              "    <tr>\n",
              "      <th>1</th>\n",
              "      <td>2</td>\n",
              "      <td>1</td>\n",
              "      <td>7</td>\n",
              "      <td>Y07F</td>\n",
              "      <td>1</td>\n",
              "      <td>Flip_V1.jpg</td>\n",
              "      <td>/content/drive/My Drive/TVT_Gender/train/Femal...</td>\n",
              "      <td>Female</td>\n",
              "      <td>Both</td>\n",
              "    </tr>\n",
              "    <tr>\n",
              "      <th>2</th>\n",
              "      <td>3</td>\n",
              "      <td>2</td>\n",
              "      <td>7</td>\n",
              "      <td>Y07F</td>\n",
              "      <td>1</td>\n",
              "      <td>V2.jpg</td>\n",
              "      <td>/content/drive/My Drive/TVT_Gender/train/Femal...</td>\n",
              "      <td>Female</td>\n",
              "      <td>Both</td>\n",
              "    </tr>\n",
              "    <tr>\n",
              "      <th>3</th>\n",
              "      <td>4</td>\n",
              "      <td>2</td>\n",
              "      <td>7</td>\n",
              "      <td>Y07F</td>\n",
              "      <td>1</td>\n",
              "      <td>Flip_V2.jpg</td>\n",
              "      <td>/content/drive/My Drive/TVT_Gender/train/Femal...</td>\n",
              "      <td>Female</td>\n",
              "      <td>Both</td>\n",
              "    </tr>\n",
              "    <tr>\n",
              "      <th>4</th>\n",
              "      <td>5</td>\n",
              "      <td>3</td>\n",
              "      <td>7</td>\n",
              "      <td>Y07F</td>\n",
              "      <td>1</td>\n",
              "      <td>V3.jpg</td>\n",
              "      <td>/content/drive/My Drive/TVT_Gender/train/Femal...</td>\n",
              "      <td>Female</td>\n",
              "      <td>Both</td>\n",
              "    </tr>\n",
              "    <tr>\n",
              "      <th>...</th>\n",
              "      <td>...</td>\n",
              "      <td>...</td>\n",
              "      <td>...</td>\n",
              "      <td>...</td>\n",
              "      <td>...</td>\n",
              "      <td>...</td>\n",
              "      <td>...</td>\n",
              "      <td>...</td>\n",
              "      <td>...</td>\n",
              "    </tr>\n",
              "    <tr>\n",
              "      <th>4745</th>\n",
              "      <td>121</td>\n",
              "      <td>77</td>\n",
              "      <td>25</td>\n",
              "      <td>Y25M</td>\n",
              "      <td>19</td>\n",
              "      <td>Flip_J463.jpg</td>\n",
              "      <td>/content/drive/My Drive/TVT_Gender/test/Male/F...</td>\n",
              "      <td>Male</td>\n",
              "      <td>Both</td>\n",
              "    </tr>\n",
              "    <tr>\n",
              "      <th>4746</th>\n",
              "      <td>122</td>\n",
              "      <td>78</td>\n",
              "      <td>25</td>\n",
              "      <td>Y25M</td>\n",
              "      <td>19</td>\n",
              "      <td>J464.jpg</td>\n",
              "      <td>/content/drive/My Drive/TVT_Gender/test/Male/J...</td>\n",
              "      <td>Male</td>\n",
              "      <td>Both</td>\n",
              "    </tr>\n",
              "    <tr>\n",
              "      <th>4747</th>\n",
              "      <td>123</td>\n",
              "      <td>78</td>\n",
              "      <td>25</td>\n",
              "      <td>Y25M</td>\n",
              "      <td>19</td>\n",
              "      <td>Flip_J464.jpg</td>\n",
              "      <td>/content/drive/My Drive/TVT_Gender/test/Male/F...</td>\n",
              "      <td>Male</td>\n",
              "      <td>Both</td>\n",
              "    </tr>\n",
              "    <tr>\n",
              "      <th>4748</th>\n",
              "      <td>124</td>\n",
              "      <td>79</td>\n",
              "      <td>25</td>\n",
              "      <td>Y25M</td>\n",
              "      <td>19</td>\n",
              "      <td>J465.jpg</td>\n",
              "      <td>/content/drive/My Drive/TVT_Gender/test/Male/J...</td>\n",
              "      <td>Male</td>\n",
              "      <td>Both</td>\n",
              "    </tr>\n",
              "    <tr>\n",
              "      <th>4749</th>\n",
              "      <td>125</td>\n",
              "      <td>79</td>\n",
              "      <td>25</td>\n",
              "      <td>Y25M</td>\n",
              "      <td>19</td>\n",
              "      <td>Flip_J465.jpg</td>\n",
              "      <td>/content/drive/My Drive/TVT_Gender/test/Male/F...</td>\n",
              "      <td>Male</td>\n",
              "      <td>Both</td>\n",
              "    </tr>\n",
              "  </tbody>\n",
              "</table>\n",
              "<p>4750 rows × 9 columns</p>\n",
              "</div>\n",
              "      <button class=\"colab-df-convert\" onclick=\"convertToInteractive('df-894560b6-fec3-4658-bada-dc31eb4528fb')\"\n",
              "              title=\"Convert this dataframe to an interactive table.\"\n",
              "              style=\"display:none;\">\n",
              "        \n",
              "  <svg xmlns=\"http://www.w3.org/2000/svg\" height=\"24px\"viewBox=\"0 0 24 24\"\n",
              "       width=\"24px\">\n",
              "    <path d=\"M0 0h24v24H0V0z\" fill=\"none\"/>\n",
              "    <path d=\"M18.56 5.44l.94 2.06.94-2.06 2.06-.94-2.06-.94-.94-2.06-.94 2.06-2.06.94zm-11 1L8.5 8.5l.94-2.06 2.06-.94-2.06-.94L8.5 2.5l-.94 2.06-2.06.94zm10 10l.94 2.06.94-2.06 2.06-.94-2.06-.94-.94-2.06-.94 2.06-2.06.94z\"/><path d=\"M17.41 7.96l-1.37-1.37c-.4-.4-.92-.59-1.43-.59-.52 0-1.04.2-1.43.59L10.3 9.45l-7.72 7.72c-.78.78-.78 2.05 0 2.83L4 21.41c.39.39.9.59 1.41.59.51 0 1.02-.2 1.41-.59l7.78-7.78 2.81-2.81c.8-.78.8-2.07 0-2.86zM5.41 20L4 18.59l7.72-7.72 1.47 1.35L5.41 20z\"/>\n",
              "  </svg>\n",
              "      </button>\n",
              "      \n",
              "  <style>\n",
              "    .colab-df-container {\n",
              "      display:flex;\n",
              "      flex-wrap:wrap;\n",
              "      gap: 12px;\n",
              "    }\n",
              "\n",
              "    .colab-df-convert {\n",
              "      background-color: #E8F0FE;\n",
              "      border: none;\n",
              "      border-radius: 50%;\n",
              "      cursor: pointer;\n",
              "      display: none;\n",
              "      fill: #1967D2;\n",
              "      height: 32px;\n",
              "      padding: 0 0 0 0;\n",
              "      width: 32px;\n",
              "    }\n",
              "\n",
              "    .colab-df-convert:hover {\n",
              "      background-color: #E2EBFA;\n",
              "      box-shadow: 0px 1px 2px rgba(60, 64, 67, 0.3), 0px 1px 3px 1px rgba(60, 64, 67, 0.15);\n",
              "      fill: #174EA6;\n",
              "    }\n",
              "\n",
              "    [theme=dark] .colab-df-convert {\n",
              "      background-color: #3B4455;\n",
              "      fill: #D2E3FC;\n",
              "    }\n",
              "\n",
              "    [theme=dark] .colab-df-convert:hover {\n",
              "      background-color: #434B5C;\n",
              "      box-shadow: 0px 1px 3px 1px rgba(0, 0, 0, 0.15);\n",
              "      filter: drop-shadow(0px 1px 2px rgba(0, 0, 0, 0.3));\n",
              "      fill: #FFFFFF;\n",
              "    }\n",
              "  </style>\n",
              "\n",
              "      <script>\n",
              "        const buttonEl =\n",
              "          document.querySelector('#df-894560b6-fec3-4658-bada-dc31eb4528fb button.colab-df-convert');\n",
              "        buttonEl.style.display =\n",
              "          google.colab.kernel.accessAllowed ? 'block' : 'none';\n",
              "\n",
              "        async function convertToInteractive(key) {\n",
              "          const element = document.querySelector('#df-894560b6-fec3-4658-bada-dc31eb4528fb');\n",
              "          const dataTable =\n",
              "            await google.colab.kernel.invokeFunction('convertToInteractive',\n",
              "                                                     [key], {});\n",
              "          if (!dataTable) return;\n",
              "\n",
              "          const docLinkHtml = 'Like what you see? Visit the ' +\n",
              "            '<a target=\"_blank\" href=https://colab.research.google.com/notebooks/data_table.ipynb>data table notebook</a>'\n",
              "            + ' to learn more about interactive tables.';\n",
              "          element.innerHTML = '';\n",
              "          dataTable['output_type'] = 'display_data';\n",
              "          await google.colab.output.renderOutput(dataTable, element);\n",
              "          const docLink = document.createElement('div');\n",
              "          docLink.innerHTML = docLinkHtml;\n",
              "          element.appendChild(docLink);\n",
              "        }\n",
              "      </script>\n",
              "    </div>\n",
              "  </div>\n",
              "  "
            ]
          },
          "metadata": {},
          "execution_count": 12
        }
      ]
    },
    {
      "cell_type": "code",
      "source": [
        "train = df[df['Fig_Age'].between(1,75)]\n",
        "val = df[df['Fig_Age'].between(76,100)]"
      ],
      "metadata": {
        "id": "Z1zBw01Gl8Ac"
      },
      "execution_count": 13,
      "outputs": []
    },
    {
      "cell_type": "code",
      "source": [
        "DATA_PATH = \"/content/drive/My Drive/TVT_Gender\"\n",
        "os.chdir(DATA_PATH)\n",
        "train_dir = os.path.join(DATA_PATH, 'train')\n",
        "print(train_dir)\n",
        "validation_dir = os.path.join(DATA_PATH, 'validation')\n",
        "print(validation_dir)"
      ],
      "metadata": {
        "colab": {
          "base_uri": "https://localhost:8080/"
        },
        "id": "QL0g-8iOnMC4",
        "outputId": "799cdc68-49d0-4fb7-cd4b-e9b0d2525c17"
      },
      "execution_count": 14,
      "outputs": [
        {
          "output_type": "stream",
          "name": "stdout",
          "text": [
            "/content/drive/My Drive/TVT_Gender/train\n",
            "/content/drive/My Drive/TVT_Gender/validation\n"
          ]
        }
      ]
    },
    {
      "cell_type": "markdown",
      "source": [
        "\n",
        "#Train"
      ],
      "metadata": {
        "id": "bWEnlTSwazL5"
      }
    },
    {
      "cell_type": "code",
      "source": [
        "# Train ด้วย ImageDataGenerator ของ Keras ซึ่งจะเพิ่มข้อมูลเสริมระหว่างการฝึกเพื่อลดโอกาสเกิด overfitting\n",
        "#overfitting เกิดจากข้อมูลที่ซับซ้อนกันเกินไป\n",
        "from tensorflow.keras.preprocessing.image import ImageDataGenerator\n",
        "\n",
        "train_datagen = ImageDataGenerator(\n",
        "      rescale=1./255, #โมเดลส่วนใหญ่ต้องใช้ RGB ในช่วง 0–1\n",
        "      rotation_range=40,\n",
        "      width_shift_range=0.2,\n",
        "      height_shift_range=0.2,\n",
        "      shear_range=0.2,\n",
        "      zoom_range=0.2,\n",
        "      horizontal_flip=True,\n",
        "      fill_mode='nearest')\n",
        "\n",
        "# Note that the validation data should not be augmented!\n",
        "test_datagen = ImageDataGenerator(rescale=1./255)"
      ],
      "metadata": {
        "id": "xGPrsn9no_pa"
      },
      "execution_count": 15,
      "outputs": []
    },
    {
      "cell_type": "code",
      "source": [
        "train_generator = train_datagen.flow_from_dataframe(\n",
        "        dataframe = train,\n",
        "        directory = train_dir,\n",
        "        x_col = 'Path_filename',\n",
        "        y_col = 'Class_Re',\n",
        "        class_mode = 'other',\n",
        "        target_size=(height, width),\n",
        "        batch_size=batch_size)\n",
        "\n",
        "validation_generator = test_datagen.flow_from_dataframe(\n",
        "        dataframe = val,\n",
        "        directory = validation_dir,\n",
        "        x_col = 'Path_filename',\n",
        "        y_col = 'Class_Re',\n",
        "        class_mode = 'other',\n",
        "        target_size=(height, width),\n",
        "        batch_size=batch_size)"
      ],
      "metadata": {
        "colab": {
          "base_uri": "https://localhost:8080/"
        },
        "id": "8nVlmAszntK_",
        "outputId": "bbd1645a-14c4-4dcf-94e3-0760b1a3de7e"
      },
      "execution_count": 16,
      "outputs": [
        {
          "output_type": "stream",
          "name": "stdout",
          "text": [
            "Found 2850 validated image filenames.\n",
            "Found 950 validated image filenames.\n"
          ]
        }
      ]
    },
    {
      "cell_type": "code",
      "source": [
        "model.summary()"
      ],
      "metadata": {
        "colab": {
          "base_uri": "https://localhost:8080/"
        },
        "id": "zzCdn3X4Jm_E",
        "outputId": "07b2271a-ccf2-4205-ab28-9c160e8789e1"
      },
      "execution_count": 17,
      "outputs": [
        {
          "output_type": "stream",
          "name": "stdout",
          "text": [
            "Model: \"sequential\"\n",
            "_________________________________________________________________\n",
            " Layer (type)                Output Shape              Param #   \n",
            "=================================================================\n",
            " efficientnet-b0 (Functional  (None, 5, 5, 1280)       4049564   \n",
            " )                                                               \n",
            "                                                                 \n",
            " gap (GlobalMaxPooling2D)    (None, 1280)              0         \n",
            "                                                                 \n",
            " dropout_out (Dropout)       (None, 1280)              0         \n",
            "                                                                 \n",
            " fc_out (Dense)              (None, 19)                24339     \n",
            "                                                                 \n",
            " dense (Dense)               (None, 1)                 20        \n",
            "                                                                 \n",
            "=================================================================\n",
            "Total params: 4,073,923\n",
            "Trainable params: 4,031,907\n",
            "Non-trainable params: 42,016\n",
            "_________________________________________________________________\n"
          ]
        }
      ]
    },
    {
      "cell_type": "code",
      "source": [
        "model.compile(loss='mse',\n",
        "          optimizer=Adam(learning_rate=1e-4),\n",
        "          metrics=['mae'])\n",
        "history = model.fit_generator(\n",
        "      train_generator,\n",
        "      steps_per_epoch= NUM_TRAIN //batch_size,\n",
        "      epochs=epochs,\n",
        "      validation_data=validation_generator,\n",
        "      validation_steps= NUM_TEST //batch_size,\n",
        "      verbose=1,\n",
        "      use_multiprocessing=True,\n",
        "      workers=4)"
      ],
      "metadata": {
        "id": "N6qUmmF856ZE",
        "outputId": "04b2fe49-3846-465d-ff53-7e2ab8d4d080",
        "colab": {
          "base_uri": "https://localhost:8080/"
        }
      },
      "execution_count": 18,
      "outputs": [
        {
          "output_type": "stream",
          "name": "stderr",
          "text": [
            "<ipython-input-18-f59104fd3985>:4: UserWarning: `Model.fit_generator` is deprecated and will be removed in a future version. Please use `Model.fit`, which supports generators.\n",
            "  history = model.fit_generator(\n"
          ]
        },
        {
          "output_type": "stream",
          "name": "stdout",
          "text": [
            "Epoch 1/250\n",
            "178/178 [==============================] - 796s 4s/step - loss: 0.7930 - mae: 0.5900 - val_loss: 4.7272 - val_mae: 1.5866\n",
            "Epoch 2/250\n",
            "178/178 [==============================] - 26s 143ms/step - loss: 0.7776 - mae: 0.5751 - val_loss: 5.8768 - val_mae: 1.7806\n",
            "Epoch 3/250\n",
            "178/178 [==============================] - 26s 142ms/step - loss: 0.7060 - mae: 0.5677 - val_loss: 5.5799 - val_mae: 1.7282\n",
            "Epoch 4/250\n",
            "178/178 [==============================] - 26s 144ms/step - loss: 0.7756 - mae: 0.5831 - val_loss: 5.2138 - val_mae: 1.6622\n",
            "Epoch 5/250\n",
            "178/178 [==============================] - 26s 145ms/step - loss: 0.8896 - mae: 0.5976 - val_loss: 4.9692 - val_mae: 1.6280\n",
            "Epoch 6/250\n",
            "178/178 [==============================] - 26s 144ms/step - loss: 0.9416 - mae: 0.6354 - val_loss: 4.7032 - val_mae: 1.5784\n",
            "Epoch 7/250\n",
            "178/178 [==============================] - 26s 146ms/step - loss: 0.7677 - mae: 0.5982 - val_loss: 4.9022 - val_mae: 1.6054\n",
            "Epoch 8/250\n",
            "178/178 [==============================] - 26s 144ms/step - loss: 0.7435 - mae: 0.5929 - val_loss: 4.8388 - val_mae: 1.5975\n",
            "Epoch 9/250\n",
            "178/178 [==============================] - 26s 144ms/step - loss: 0.7037 - mae: 0.5780 - val_loss: 4.5824 - val_mae: 1.5634\n",
            "Epoch 10/250\n",
            "178/178 [==============================] - 26s 143ms/step - loss: 0.8106 - mae: 0.5907 - val_loss: 4.5112 - val_mae: 1.5536\n",
            "Epoch 11/250\n",
            "178/178 [==============================] - 26s 144ms/step - loss: 0.8036 - mae: 0.5755 - val_loss: 4.4533 - val_mae: 1.5533\n",
            "Epoch 12/250\n",
            "178/178 [==============================] - 26s 142ms/step - loss: 0.7320 - mae: 0.5639 - val_loss: 4.3809 - val_mae: 1.5647\n",
            "Epoch 13/250\n",
            "178/178 [==============================] - 26s 143ms/step - loss: 0.7191 - mae: 0.5624 - val_loss: 4.4742 - val_mae: 1.5800\n",
            "Epoch 14/250\n",
            "178/178 [==============================] - 26s 143ms/step - loss: 0.7788 - mae: 0.5910 - val_loss: 4.9621 - val_mae: 1.6214\n",
            "Epoch 15/250\n",
            "178/178 [==============================] - 26s 144ms/step - loss: 0.9043 - mae: 0.6303 - val_loss: 4.8980 - val_mae: 1.6121\n",
            "Epoch 16/250\n",
            "178/178 [==============================] - 26s 144ms/step - loss: 0.7105 - mae: 0.5797 - val_loss: 4.7426 - val_mae: 1.5907\n",
            "Epoch 17/250\n",
            "178/178 [==============================] - 26s 142ms/step - loss: 0.7799 - mae: 0.5891 - val_loss: 7.4860 - val_mae: 1.8805\n",
            "Epoch 18/250\n",
            "178/178 [==============================] - 27s 146ms/step - loss: 1.0296 - mae: 0.6969 - val_loss: 6.7001 - val_mae: 1.8237\n",
            "Epoch 19/250\n",
            "178/178 [==============================] - 26s 145ms/step - loss: 0.9926 - mae: 0.6750 - val_loss: 8.2027 - val_mae: 2.0065\n",
            "Epoch 20/250\n",
            "178/178 [==============================] - 26s 144ms/step - loss: 0.9430 - mae: 0.6635 - val_loss: 7.8717 - val_mae: 1.9690\n",
            "Epoch 21/250\n",
            "178/178 [==============================] - 26s 145ms/step - loss: 1.0608 - mae: 0.6680 - val_loss: 7.8443 - val_mae: 1.9626\n",
            "Epoch 22/250\n",
            "178/178 [==============================] - 26s 143ms/step - loss: 0.8569 - mae: 0.6354 - val_loss: 7.1881 - val_mae: 1.8755\n",
            "Epoch 23/250\n",
            "178/178 [==============================] - 26s 143ms/step - loss: 0.8978 - mae: 0.6590 - val_loss: 7.5754 - val_mae: 1.9175\n",
            "Epoch 24/250\n",
            "178/178 [==============================] - 26s 143ms/step - loss: 0.9617 - mae: 0.6645 - val_loss: 7.6046 - val_mae: 1.9345\n",
            "Epoch 25/250\n",
            "178/178 [==============================] - 27s 149ms/step - loss: 0.9425 - mae: 0.6604 - val_loss: 14.7466 - val_mae: 2.7787\n",
            "Epoch 26/250\n",
            "178/178 [==============================] - 23s 127ms/step - loss: 1.1738 - mae: 0.7285 - val_loss: 9.5670 - val_mae: 2.2092\n",
            "Epoch 27/250\n",
            "178/178 [==============================] - 28s 155ms/step - loss: 1.2158 - mae: 0.7183 - val_loss: 9.4288 - val_mae: 2.1555\n",
            "Epoch 28/250\n",
            "178/178 [==============================] - 28s 157ms/step - loss: 1.0021 - mae: 0.6976 - val_loss: 9.0472 - val_mae: 2.0842\n",
            "Epoch 29/250\n",
            "178/178 [==============================] - 27s 150ms/step - loss: 0.9454 - mae: 0.6715 - val_loss: 8.8923 - val_mae: 2.1088\n",
            "Epoch 30/250\n",
            "178/178 [==============================] - 27s 147ms/step - loss: 0.9621 - mae: 0.6588 - val_loss: 8.8303 - val_mae: 2.1024\n",
            "Epoch 31/250\n",
            "178/178 [==============================] - 27s 148ms/step - loss: 0.9031 - mae: 0.6571 - val_loss: 8.0023 - val_mae: 1.9877\n",
            "Epoch 32/250\n",
            "178/178 [==============================] - 27s 147ms/step - loss: 0.9525 - mae: 0.6684 - val_loss: 7.5325 - val_mae: 1.9177\n",
            "Epoch 33/250\n",
            "178/178 [==============================] - 27s 147ms/step - loss: 0.8679 - mae: 0.6427 - val_loss: 7.9365 - val_mae: 1.9926\n",
            "Epoch 34/250\n",
            "178/178 [==============================] - 27s 146ms/step - loss: 0.8921 - mae: 0.6318 - val_loss: 8.1265 - val_mae: 2.0137\n",
            "Epoch 35/250\n",
            "178/178 [==============================] - 26s 146ms/step - loss: 0.9301 - mae: 0.6366 - val_loss: 8.6460 - val_mae: 2.0877\n",
            "Epoch 36/250\n",
            "178/178 [==============================] - 27s 146ms/step - loss: 0.8726 - mae: 0.6292 - val_loss: 8.1031 - val_mae: 2.0076\n",
            "Epoch 37/250\n",
            "178/178 [==============================] - 26s 146ms/step - loss: 0.8433 - mae: 0.6156 - val_loss: 6.9182 - val_mae: 1.8664\n",
            "Epoch 38/250\n",
            "178/178 [==============================] - 21s 117ms/step - loss: 0.7891 - mae: 0.6106 - val_loss: 7.3479 - val_mae: 1.9169\n",
            "Epoch 39/250\n",
            "178/178 [==============================] - 27s 149ms/step - loss: 0.9106 - mae: 0.6504 - val_loss: 9.4551 - val_mae: 2.2461\n",
            "Epoch 40/250\n",
            "178/178 [==============================] - 27s 148ms/step - loss: 1.0855 - mae: 0.6498 - val_loss: 8.7127 - val_mae: 2.1409\n",
            "Epoch 41/250\n",
            "178/178 [==============================] - 27s 148ms/step - loss: 0.9429 - mae: 0.6411 - val_loss: 7.9265 - val_mae: 1.9974\n",
            "Epoch 42/250\n",
            "178/178 [==============================] - 27s 150ms/step - loss: 0.9509 - mae: 0.6536 - val_loss: 7.5092 - val_mae: 1.9465\n",
            "Epoch 43/250\n",
            "178/178 [==============================] - 27s 147ms/step - loss: 1.0025 - mae: 0.6405 - val_loss: 7.7815 - val_mae: 1.9905\n",
            "Epoch 44/250\n",
            "178/178 [==============================] - 26s 146ms/step - loss: 0.9167 - mae: 0.6423 - val_loss: 7.3856 - val_mae: 1.9311\n",
            "Epoch 45/250\n",
            "178/178 [==============================] - 26s 145ms/step - loss: 0.8541 - mae: 0.6152 - val_loss: 6.6982 - val_mae: 1.8360\n",
            "Epoch 46/250\n",
            "178/178 [==============================] - 26s 144ms/step - loss: 0.8301 - mae: 0.6050 - val_loss: 6.9444 - val_mae: 1.8778\n",
            "Epoch 47/250\n",
            "178/178 [==============================] - 26s 143ms/step - loss: 0.9571 - mae: 0.6535 - val_loss: 6.9061 - val_mae: 1.8856\n",
            "Epoch 48/250\n",
            "178/178 [==============================] - 26s 144ms/step - loss: 0.9344 - mae: 0.6165 - val_loss: 7.0495 - val_mae: 1.9161\n",
            "Epoch 49/250\n",
            "178/178 [==============================] - 26s 142ms/step - loss: 0.8521 - mae: 0.6082 - val_loss: 7.6556 - val_mae: 1.9825\n",
            "Epoch 50/250\n",
            "178/178 [==============================] - 26s 145ms/step - loss: 0.7935 - mae: 0.6034 - val_loss: 7.5395 - val_mae: 1.9697\n",
            "Epoch 51/250\n",
            "178/178 [==============================] - 26s 143ms/step - loss: 0.7807 - mae: 0.5923 - val_loss: 6.9191 - val_mae: 1.8933\n",
            "Epoch 52/250\n",
            "178/178 [==============================] - 26s 143ms/step - loss: 0.8562 - mae: 0.6042 - val_loss: 7.8032 - val_mae: 1.9875\n",
            "Epoch 53/250\n",
            "178/178 [==============================] - 26s 145ms/step - loss: 0.7935 - mae: 0.5990 - val_loss: 7.6193 - val_mae: 1.9797\n",
            "Epoch 54/250\n",
            "178/178 [==============================] - 26s 146ms/step - loss: 0.8107 - mae: 0.5908 - val_loss: 6.8325 - val_mae: 1.8622\n",
            "Epoch 55/250\n",
            "178/178 [==============================] - 27s 149ms/step - loss: 0.8808 - mae: 0.5960 - val_loss: 7.0402 - val_mae: 1.8688\n",
            "Epoch 56/250\n",
            "178/178 [==============================] - 26s 144ms/step - loss: 0.7555 - mae: 0.5843 - val_loss: 6.8368 - val_mae: 1.8498\n",
            "Epoch 57/250\n",
            "178/178 [==============================] - 26s 145ms/step - loss: 0.6963 - mae: 0.5680 - val_loss: 6.7641 - val_mae: 1.8596\n",
            "Epoch 58/250\n",
            "178/178 [==============================] - 26s 144ms/step - loss: 0.6763 - mae: 0.5597 - val_loss: 7.7170 - val_mae: 1.9760\n",
            "Epoch 59/250\n",
            "178/178 [==============================] - 26s 143ms/step - loss: 0.6954 - mae: 0.5575 - val_loss: 7.3476 - val_mae: 1.9303\n",
            "Epoch 60/250\n",
            "178/178 [==============================] - 26s 144ms/step - loss: 0.7431 - mae: 0.5779 - val_loss: 7.0792 - val_mae: 1.9072\n",
            "Epoch 61/250\n",
            "178/178 [==============================] - 26s 144ms/step - loss: 0.7034 - mae: 0.5702 - val_loss: 5.5085 - val_mae: 1.6828\n",
            "Epoch 62/250\n",
            "178/178 [==============================] - 28s 152ms/step - loss: 0.7159 - mae: 0.5754 - val_loss: 5.4404 - val_mae: 1.6867\n",
            "Epoch 63/250\n",
            "178/178 [==============================] - 26s 146ms/step - loss: 0.8190 - mae: 0.5778 - val_loss: 7.1653 - val_mae: 1.9019\n",
            "Epoch 64/250\n",
            "178/178 [==============================] - 26s 144ms/step - loss: 0.7027 - mae: 0.5655 - val_loss: 6.6428 - val_mae: 1.8449\n",
            "Epoch 65/250\n",
            "178/178 [==============================] - 26s 144ms/step - loss: 0.7546 - mae: 0.5664 - val_loss: 6.7017 - val_mae: 1.8131\n",
            "Epoch 66/250\n",
            "178/178 [==============================] - 27s 146ms/step - loss: 0.6789 - mae: 0.5758 - val_loss: 5.9701 - val_mae: 1.7664\n",
            "Epoch 67/250\n",
            "178/178 [==============================] - 26s 145ms/step - loss: 0.8425 - mae: 0.5756 - val_loss: 6.6714 - val_mae: 1.8502\n",
            "Epoch 68/250\n",
            "178/178 [==============================] - 26s 146ms/step - loss: 0.8074 - mae: 0.5841 - val_loss: 5.3877 - val_mae: 1.6719\n",
            "Epoch 69/250\n",
            "178/178 [==============================] - 27s 149ms/step - loss: 0.7018 - mae: 0.5706 - val_loss: 6.0282 - val_mae: 1.7502\n",
            "Epoch 70/250\n",
            "178/178 [==============================] - 27s 146ms/step - loss: 0.6709 - mae: 0.5527 - val_loss: 6.8053 - val_mae: 1.8569\n",
            "Epoch 71/250\n",
            "178/178 [==============================] - 27s 147ms/step - loss: 0.7618 - mae: 0.5706 - val_loss: 5.9701 - val_mae: 1.7623\n",
            "Epoch 72/250\n",
            "178/178 [==============================] - 27s 148ms/step - loss: 0.7071 - mae: 0.5754 - val_loss: 6.5611 - val_mae: 1.8316\n",
            "Epoch 73/250\n",
            "178/178 [==============================] - 27s 147ms/step - loss: 0.7282 - mae: 0.5649 - val_loss: 7.4215 - val_mae: 1.9864\n",
            "Epoch 74/250\n",
            "178/178 [==============================] - 27s 147ms/step - loss: 0.6376 - mae: 0.5530 - val_loss: 7.1977 - val_mae: 1.9284\n",
            "Epoch 75/250\n",
            "178/178 [==============================] - 27s 147ms/step - loss: 0.6783 - mae: 0.5402 - val_loss: 6.3853 - val_mae: 1.8095\n",
            "Epoch 76/250\n",
            "178/178 [==============================] - 27s 147ms/step - loss: 0.5979 - mae: 0.5321 - val_loss: 6.1225 - val_mae: 1.8061\n",
            "Epoch 77/250\n",
            "178/178 [==============================] - 26s 146ms/step - loss: 0.6977 - mae: 0.5417 - val_loss: 6.4260 - val_mae: 1.8381\n",
            "Epoch 78/250\n",
            "178/178 [==============================] - 27s 146ms/step - loss: 0.7762 - mae: 0.5490 - val_loss: 5.9176 - val_mae: 1.7596\n",
            "Epoch 79/250\n",
            "178/178 [==============================] - 26s 144ms/step - loss: 0.6610 - mae: 0.5304 - val_loss: 7.1572 - val_mae: 1.9112\n",
            "Epoch 80/250\n",
            "178/178 [==============================] - 26s 145ms/step - loss: 0.7007 - mae: 0.5419 - val_loss: 5.7573 - val_mae: 1.7246\n",
            "Epoch 81/250\n",
            "178/178 [==============================] - 26s 144ms/step - loss: 0.5797 - mae: 0.5219 - val_loss: 5.5971 - val_mae: 1.7231\n",
            "Epoch 82/250\n",
            "178/178 [==============================] - 26s 145ms/step - loss: 0.6656 - mae: 0.5296 - val_loss: 6.4879 - val_mae: 1.8405\n",
            "Epoch 83/250\n",
            "178/178 [==============================] - 26s 144ms/step - loss: 0.7752 - mae: 0.5500 - val_loss: 6.3330 - val_mae: 1.7942\n",
            "Epoch 84/250\n",
            "178/178 [==============================] - 26s 144ms/step - loss: 0.6385 - mae: 0.5483 - val_loss: 5.3251 - val_mae: 1.6752\n",
            "Epoch 85/250\n",
            "178/178 [==============================] - 26s 144ms/step - loss: 0.6927 - mae: 0.5486 - val_loss: 5.6634 - val_mae: 1.7391\n",
            "Epoch 86/250\n",
            "178/178 [==============================] - 26s 144ms/step - loss: 0.7728 - mae: 0.5721 - val_loss: 4.9968 - val_mae: 1.6126\n",
            "Epoch 87/250\n",
            "178/178 [==============================] - 27s 148ms/step - loss: 0.6906 - mae: 0.5755 - val_loss: 5.7955 - val_mae: 1.7226\n",
            "Epoch 88/250\n",
            "178/178 [==============================] - 26s 145ms/step - loss: 0.6875 - mae: 0.5478 - val_loss: 6.6002 - val_mae: 1.8146\n",
            "Epoch 89/250\n",
            "178/178 [==============================] - 26s 144ms/step - loss: 0.7961 - mae: 0.5758 - val_loss: 6.5995 - val_mae: 1.8079\n",
            "Epoch 90/250\n",
            "178/178 [==============================] - 26s 144ms/step - loss: 0.8900 - mae: 0.5924 - val_loss: 5.8813 - val_mae: 1.7338\n",
            "Epoch 91/250\n",
            "178/178 [==============================] - 26s 144ms/step - loss: 0.8951 - mae: 0.5898 - val_loss: 5.3039 - val_mae: 1.6475\n",
            "Epoch 92/250\n",
            "178/178 [==============================] - 26s 143ms/step - loss: 0.7613 - mae: 0.5543 - val_loss: 5.3637 - val_mae: 1.6825\n",
            "Epoch 93/250\n",
            "178/178 [==============================] - 26s 143ms/step - loss: 0.7699 - mae: 0.5724 - val_loss: 6.3492 - val_mae: 1.8003\n",
            "Epoch 94/250\n",
            "178/178 [==============================] - 26s 144ms/step - loss: 0.7480 - mae: 0.5531 - val_loss: 5.2024 - val_mae: 1.6385\n",
            "Epoch 95/250\n",
            "178/178 [==============================] - 26s 143ms/step - loss: 0.8312 - mae: 0.5483 - val_loss: 5.8143 - val_mae: 1.7191\n",
            "Epoch 96/250\n",
            "178/178 [==============================] - 26s 143ms/step - loss: 0.9851 - mae: 0.6326 - val_loss: 6.8300 - val_mae: 1.8408\n",
            "Epoch 97/250\n",
            "178/178 [==============================] - 26s 144ms/step - loss: 1.0017 - mae: 0.6188 - val_loss: 5.2416 - val_mae: 1.6205\n",
            "Epoch 98/250\n",
            "178/178 [==============================] - 26s 144ms/step - loss: 0.8405 - mae: 0.5859 - val_loss: 6.7010 - val_mae: 1.8336\n",
            "Epoch 99/250\n",
            "178/178 [==============================] - 26s 144ms/step - loss: 1.0896 - mae: 0.6341 - val_loss: 6.4583 - val_mae: 1.7909\n",
            "Epoch 100/250\n",
            "178/178 [==============================] - 26s 143ms/step - loss: 1.2746 - mae: 0.6351 - val_loss: 5.3404 - val_mae: 1.6567\n",
            "Epoch 101/250\n",
            "178/178 [==============================] - 26s 144ms/step - loss: 0.9132 - mae: 0.5958 - val_loss: 5.5192 - val_mae: 1.6520\n",
            "Epoch 102/250\n",
            "178/178 [==============================] - 26s 144ms/step - loss: 1.1753 - mae: 0.6242 - val_loss: 5.6086 - val_mae: 1.6998\n",
            "Epoch 103/250\n",
            "178/178 [==============================] - 26s 145ms/step - loss: 1.1047 - mae: 0.6307 - val_loss: 6.1252 - val_mae: 1.7535\n",
            "Epoch 104/250\n",
            "178/178 [==============================] - 26s 143ms/step - loss: 1.0616 - mae: 0.6122 - val_loss: 6.0093 - val_mae: 1.7411\n",
            "Epoch 105/250\n",
            "178/178 [==============================] - 26s 144ms/step - loss: 1.0951 - mae: 0.6314 - val_loss: 5.3856 - val_mae: 1.6410\n",
            "Epoch 106/250\n",
            "178/178 [==============================] - 26s 144ms/step - loss: 0.8891 - mae: 0.6155 - val_loss: 6.1084 - val_mae: 1.7627\n",
            "Epoch 107/250\n",
            "178/178 [==============================] - 26s 144ms/step - loss: 0.7544 - mae: 0.5678 - val_loss: 5.7857 - val_mae: 1.7136\n",
            "Epoch 108/250\n",
            "178/178 [==============================] - 26s 146ms/step - loss: 0.8210 - mae: 0.5856 - val_loss: 5.4753 - val_mae: 1.6418\n",
            "Epoch 109/250\n",
            "178/178 [==============================] - 27s 146ms/step - loss: 0.8033 - mae: 0.5762 - val_loss: 4.9529 - val_mae: 1.5778\n",
            "Epoch 110/250\n",
            "178/178 [==============================] - 26s 146ms/step - loss: 0.8869 - mae: 0.6094 - val_loss: 6.2504 - val_mae: 1.7706\n",
            "Epoch 111/250\n",
            "178/178 [==============================] - 26s 144ms/step - loss: 0.9124 - mae: 0.6038 - val_loss: 5.2346 - val_mae: 1.6240\n",
            "Epoch 112/250\n",
            "178/178 [==============================] - 26s 146ms/step - loss: 0.7692 - mae: 0.5833 - val_loss: 5.2720 - val_mae: 1.6304\n",
            "Epoch 113/250\n",
            "178/178 [==============================] - 26s 144ms/step - loss: 0.7608 - mae: 0.5771 - val_loss: 4.9135 - val_mae: 1.6048\n",
            "Epoch 114/250\n",
            "178/178 [==============================] - 26s 143ms/step - loss: 0.8254 - mae: 0.6092 - val_loss: 5.7571 - val_mae: 1.7295\n",
            "Epoch 115/250\n",
            "178/178 [==============================] - 26s 145ms/step - loss: 0.8306 - mae: 0.6029 - val_loss: 5.6321 - val_mae: 1.7241\n",
            "Epoch 116/250\n",
            "178/178 [==============================] - 26s 145ms/step - loss: 0.7995 - mae: 0.6027 - val_loss: 4.8356 - val_mae: 1.6051\n",
            "Epoch 117/250\n",
            "178/178 [==============================] - 23s 124ms/step - loss: 0.7477 - mae: 0.5862 - val_loss: 5.0237 - val_mae: 1.6403\n",
            "Epoch 118/250\n",
            "178/178 [==============================] - 27s 146ms/step - loss: 0.7592 - mae: 0.5639 - val_loss: 5.5194 - val_mae: 1.6930\n",
            "Epoch 119/250\n",
            "178/178 [==============================] - 27s 146ms/step - loss: 0.7064 - mae: 0.5636 - val_loss: 5.5994 - val_mae: 1.7025\n",
            "Epoch 120/250\n",
            "178/178 [==============================] - 26s 145ms/step - loss: 0.7550 - mae: 0.5786 - val_loss: 5.4296 - val_mae: 1.6653\n",
            "Epoch 121/250\n",
            "178/178 [==============================] - 27s 149ms/step - loss: 0.6635 - mae: 0.5455 - val_loss: 5.6592 - val_mae: 1.6984\n",
            "Epoch 122/250\n",
            "178/178 [==============================] - 27s 146ms/step - loss: 0.7599 - mae: 0.5891 - val_loss: 5.7043 - val_mae: 1.7034\n",
            "Epoch 123/250\n",
            "178/178 [==============================] - 26s 144ms/step - loss: 0.7730 - mae: 0.5621 - val_loss: 5.4734 - val_mae: 1.6703\n",
            "Epoch 124/250\n",
            "178/178 [==============================] - 26s 144ms/step - loss: 0.6449 - mae: 0.5409 - val_loss: 5.7485 - val_mae: 1.7288\n",
            "Epoch 125/250\n",
            "178/178 [==============================] - 26s 146ms/step - loss: 0.6436 - mae: 0.5441 - val_loss: 6.1674 - val_mae: 1.7657\n",
            "Epoch 126/250\n",
            "178/178 [==============================] - 26s 144ms/step - loss: 0.6214 - mae: 0.5384 - val_loss: 5.9998 - val_mae: 1.7335\n",
            "Epoch 127/250\n",
            "178/178 [==============================] - 27s 147ms/step - loss: 0.6322 - mae: 0.5312 - val_loss: 5.7592 - val_mae: 1.7398\n",
            "Epoch 128/250\n",
            "178/178 [==============================] - 27s 147ms/step - loss: 0.6661 - mae: 0.5520 - val_loss: 5.1132 - val_mae: 1.6565\n",
            "Epoch 129/250\n",
            "178/178 [==============================] - 26s 143ms/step - loss: 0.7284 - mae: 0.5567 - val_loss: 5.1490 - val_mae: 1.6799\n",
            "Epoch 130/250\n",
            "178/178 [==============================] - 27s 148ms/step - loss: 0.6920 - mae: 0.5596 - val_loss: 5.5188 - val_mae: 1.6977\n",
            "Epoch 131/250\n",
            "178/178 [==============================] - 27s 146ms/step - loss: 0.7194 - mae: 0.5529 - val_loss: 5.3470 - val_mae: 1.6890\n",
            "Epoch 132/250\n",
            "178/178 [==============================] - 26s 145ms/step - loss: 0.6652 - mae: 0.5484 - val_loss: 5.5918 - val_mae: 1.7138\n",
            "Epoch 133/250\n",
            "178/178 [==============================] - 27s 147ms/step - loss: 0.7261 - mae: 0.5489 - val_loss: 6.2764 - val_mae: 1.8197\n",
            "Epoch 134/250\n",
            "178/178 [==============================] - 26s 145ms/step - loss: 0.6775 - mae: 0.5525 - val_loss: 6.1044 - val_mae: 1.7879\n",
            "Epoch 135/250\n",
            "178/178 [==============================] - 26s 144ms/step - loss: 0.7835 - mae: 0.5791 - val_loss: 5.8412 - val_mae: 1.7373\n",
            "Epoch 136/250\n",
            "178/178 [==============================] - 23s 124ms/step - loss: 0.7856 - mae: 0.5812 - val_loss: 5.9356 - val_mae: 1.7338\n",
            "Epoch 137/250\n",
            "178/178 [==============================] - 27s 148ms/step - loss: 0.7681 - mae: 0.5727 - val_loss: 5.4111 - val_mae: 1.7022\n",
            "Epoch 138/250\n",
            "178/178 [==============================] - 27s 146ms/step - loss: 0.7149 - mae: 0.5709 - val_loss: 5.1037 - val_mae: 1.6692\n",
            "Epoch 139/250\n",
            "178/178 [==============================] - 27s 147ms/step - loss: 0.8096 - mae: 0.5858 - val_loss: 5.2583 - val_mae: 1.6974\n",
            "Epoch 140/250\n",
            "178/178 [==============================] - 26s 145ms/step - loss: 0.7292 - mae: 0.5649 - val_loss: 5.3316 - val_mae: 1.6958\n",
            "Epoch 141/250\n",
            "178/178 [==============================] - 27s 148ms/step - loss: 0.8162 - mae: 0.5875 - val_loss: 4.9425 - val_mae: 1.6250\n",
            "Epoch 142/250\n",
            "178/178 [==============================] - 27s 146ms/step - loss: 0.7409 - mae: 0.5614 - val_loss: 5.4468 - val_mae: 1.6787\n",
            "Epoch 143/250\n",
            "178/178 [==============================] - 28s 152ms/step - loss: 0.6964 - mae: 0.5604 - val_loss: 5.5904 - val_mae: 1.7396\n",
            "Epoch 144/250\n",
            "178/178 [==============================] - 27s 147ms/step - loss: 0.7497 - mae: 0.5519 - val_loss: 5.1743 - val_mae: 1.6573\n",
            "Epoch 145/250\n",
            "178/178 [==============================] - 27s 148ms/step - loss: 0.7756 - mae: 0.5758 - val_loss: 4.1910 - val_mae: 1.4905\n",
            "Epoch 146/250\n",
            "178/178 [==============================] - 26s 144ms/step - loss: 0.7650 - mae: 0.5798 - val_loss: 5.2011 - val_mae: 1.6811\n",
            "Epoch 147/250\n",
            "178/178 [==============================] - 27s 149ms/step - loss: 0.8399 - mae: 0.5986 - val_loss: 6.1430 - val_mae: 1.7636\n",
            "Epoch 148/250\n",
            "178/178 [==============================] - 27s 146ms/step - loss: 0.9028 - mae: 0.6125 - val_loss: 6.8234 - val_mae: 1.8613\n",
            "Epoch 149/250\n",
            "178/178 [==============================] - 26s 144ms/step - loss: 0.8898 - mae: 0.6308 - val_loss: 6.7920 - val_mae: 1.8629\n",
            "Epoch 150/250\n",
            "178/178 [==============================] - 26s 146ms/step - loss: 0.8326 - mae: 0.6132 - val_loss: 6.7175 - val_mae: 1.8591\n",
            "Epoch 151/250\n",
            "178/178 [==============================] - 26s 146ms/step - loss: 0.8651 - mae: 0.6132 - val_loss: 7.8078 - val_mae: 1.9773\n",
            "Epoch 152/250\n",
            "178/178 [==============================] - 27s 150ms/step - loss: 0.7800 - mae: 0.5645 - val_loss: 7.3061 - val_mae: 1.9125\n",
            "Epoch 153/250\n",
            "178/178 [==============================] - 27s 146ms/step - loss: 0.7407 - mae: 0.5749 - val_loss: 6.9233 - val_mae: 1.8746\n",
            "Epoch 154/250\n",
            "178/178 [==============================] - 26s 145ms/step - loss: 0.7114 - mae: 0.5567 - val_loss: 6.4948 - val_mae: 1.8357\n",
            "Epoch 155/250\n",
            "178/178 [==============================] - 26s 145ms/step - loss: 0.9486 - mae: 0.6070 - val_loss: 6.4021 - val_mae: 1.8460\n",
            "Epoch 156/250\n",
            "178/178 [==============================] - 26s 145ms/step - loss: 0.8504 - mae: 0.5883 - val_loss: 5.6206 - val_mae: 1.6982\n",
            "Epoch 157/250\n",
            "178/178 [==============================] - 26s 146ms/step - loss: 1.0657 - mae: 0.6071 - val_loss: 6.8987 - val_mae: 1.8877\n",
            "Epoch 158/250\n",
            "178/178 [==============================] - 23s 124ms/step - loss: 6.9028 - mae: 1.1694 - val_loss: 7.5051 - val_mae: 1.9492\n",
            "Epoch 159/250\n",
            "178/178 [==============================] - 26s 145ms/step - loss: 6.6194 - mae: 1.1138 - val_loss: 6.6070 - val_mae: 1.8137\n",
            "Epoch 160/250\n",
            "178/178 [==============================] - 26s 145ms/step - loss: 6.3056 - mae: 1.0951 - val_loss: 6.6613 - val_mae: 1.8362\n",
            "Epoch 161/250\n",
            "178/178 [==============================] - 27s 146ms/step - loss: 6.2605 - mae: 1.0713 - val_loss: 5.5739 - val_mae: 1.7109\n",
            "Epoch 162/250\n",
            "178/178 [==============================] - 26s 143ms/step - loss: 6.2397 - mae: 1.0824 - val_loss: 6.5869 - val_mae: 1.8380\n",
            "Epoch 163/250\n",
            "178/178 [==============================] - 23s 123ms/step - loss: 6.3269 - mae: 1.0653 - val_loss: 5.4851 - val_mae: 1.7149\n",
            "Epoch 164/250\n",
            "178/178 [==============================] - 27s 150ms/step - loss: 5.8330 - mae: 1.0322 - val_loss: 6.2449 - val_mae: 1.8080\n",
            "Epoch 165/250\n",
            "178/178 [==============================] - 27s 148ms/step - loss: 5.3412 - mae: 1.0328 - val_loss: 5.3646 - val_mae: 1.7317\n",
            "Epoch 166/250\n",
            "178/178 [==============================] - 27s 149ms/step - loss: 5.5115 - mae: 1.0319 - val_loss: 5.9201 - val_mae: 1.7682\n",
            "Epoch 167/250\n",
            "178/178 [==============================] - 27s 148ms/step - loss: 5.6718 - mae: 1.0368 - val_loss: 5.1395 - val_mae: 1.6648\n",
            "Epoch 168/250\n",
            "178/178 [==============================] - 27s 149ms/step - loss: 5.5014 - mae: 1.0141 - val_loss: 5.6006 - val_mae: 1.7181\n",
            "Epoch 169/250\n",
            "178/178 [==============================] - 27s 150ms/step - loss: 5.6264 - mae: 1.0290 - val_loss: 5.7321 - val_mae: 1.7160\n",
            "Epoch 170/250\n",
            "178/178 [==============================] - 27s 147ms/step - loss: 6.0720 - mae: 1.0646 - val_loss: 5.4966 - val_mae: 1.6936\n",
            "Epoch 171/250\n",
            "178/178 [==============================] - 27s 147ms/step - loss: 5.8403 - mae: 1.0491 - val_loss: 5.4696 - val_mae: 1.6914\n",
            "Epoch 172/250\n",
            "178/178 [==============================] - 27s 149ms/step - loss: 5.8923 - mae: 1.0632 - val_loss: 6.4028 - val_mae: 1.7994\n",
            "Epoch 173/250\n",
            "178/178 [==============================] - 27s 150ms/step - loss: 6.0425 - mae: 1.0589 - val_loss: 6.2799 - val_mae: 1.8261\n",
            "Epoch 174/250\n",
            "178/178 [==============================] - 27s 149ms/step - loss: 5.7282 - mae: 1.0319 - val_loss: 5.7865 - val_mae: 1.7571\n",
            "Epoch 175/250\n",
            "178/178 [==============================] - 27s 150ms/step - loss: 5.4575 - mae: 1.0370 - val_loss: 5.9865 - val_mae: 1.8035\n",
            "Epoch 176/250\n",
            "178/178 [==============================] - 27s 149ms/step - loss: 5.3734 - mae: 1.0661 - val_loss: 6.0394 - val_mae: 1.7787\n",
            "Epoch 177/250\n",
            "178/178 [==============================] - 27s 149ms/step - loss: 5.2480 - mae: 1.0573 - val_loss: 5.6600 - val_mae: 1.7423\n",
            "Epoch 178/250\n",
            "178/178 [==============================] - 27s 149ms/step - loss: 5.1897 - mae: 1.0361 - val_loss: 5.6568 - val_mae: 1.7527\n",
            "Epoch 179/250\n",
            "178/178 [==============================] - 27s 149ms/step - loss: 2.4862 - mae: 0.8189 - val_loss: 5.3209 - val_mae: 1.7036\n",
            "Epoch 180/250\n",
            "178/178 [==============================] - 26s 145ms/step - loss: 1.2822 - mae: 0.6940 - val_loss: 5.1660 - val_mae: 1.6751\n",
            "Epoch 181/250\n",
            "178/178 [==============================] - 26s 146ms/step - loss: 1.3395 - mae: 0.6807 - val_loss: 5.1435 - val_mae: 1.6752\n",
            "Epoch 182/250\n",
            "178/178 [==============================] - 26s 145ms/step - loss: 1.2234 - mae: 0.6698 - val_loss: 5.7657 - val_mae: 1.7440\n",
            "Epoch 183/250\n",
            "178/178 [==============================] - 27s 147ms/step - loss: 1.1807 - mae: 0.6659 - val_loss: 4.9805 - val_mae: 1.6405\n",
            "Epoch 184/250\n",
            "178/178 [==============================] - 27s 147ms/step - loss: 1.2841 - mae: 0.6801 - val_loss: 5.0225 - val_mae: 1.6553\n",
            "Epoch 185/250\n",
            "178/178 [==============================] - 26s 146ms/step - loss: 1.2569 - mae: 0.6675 - val_loss: 5.1873 - val_mae: 1.6843\n",
            "Epoch 186/250\n",
            "178/178 [==============================] - 27s 146ms/step - loss: 1.2080 - mae: 0.6727 - val_loss: 5.4368 - val_mae: 1.7038\n",
            "Epoch 187/250\n",
            "178/178 [==============================] - 26s 146ms/step - loss: 1.1539 - mae: 0.6491 - val_loss: 5.3246 - val_mae: 1.6914\n",
            "Epoch 188/250\n",
            "178/178 [==============================] - 27s 147ms/step - loss: 1.2235 - mae: 0.6646 - val_loss: 5.4467 - val_mae: 1.7109\n",
            "Epoch 189/250\n",
            "178/178 [==============================] - 26s 144ms/step - loss: 0.9044 - mae: 0.6223 - val_loss: 5.6341 - val_mae: 1.7282\n",
            "Epoch 190/250\n",
            "178/178 [==============================] - 27s 147ms/step - loss: 0.9003 - mae: 0.6061 - val_loss: 5.8023 - val_mae: 1.7452\n",
            "Epoch 191/250\n",
            "178/178 [==============================] - 27s 148ms/step - loss: 1.2457 - mae: 0.6683 - val_loss: 5.5568 - val_mae: 1.7323\n",
            "Epoch 192/250\n",
            "178/178 [==============================] - 26s 144ms/step - loss: 0.9977 - mae: 0.6298 - val_loss: 5.4661 - val_mae: 1.7095\n",
            "Epoch 193/250\n",
            "178/178 [==============================] - 27s 147ms/step - loss: 1.1455 - mae: 0.6602 - val_loss: 5.3941 - val_mae: 1.7016\n",
            "Epoch 194/250\n",
            "178/178 [==============================] - 26s 145ms/step - loss: 0.9802 - mae: 0.6346 - val_loss: 11.2762 - val_mae: 2.4619\n",
            "Epoch 195/250\n",
            "178/178 [==============================] - 22s 121ms/step - loss: 1.0348 - mae: 0.6642 - val_loss: 7.2571 - val_mae: 1.9366\n",
            "Epoch 196/250\n",
            "178/178 [==============================] - 26s 143ms/step - loss: 1.0649 - mae: 0.6461 - val_loss: 6.6987 - val_mae: 1.8567\n",
            "Epoch 197/250\n",
            "178/178 [==============================] - 26s 143ms/step - loss: 0.9574 - mae: 0.6442 - val_loss: 6.6527 - val_mae: 1.8513\n",
            "Epoch 198/250\n",
            "178/178 [==============================] - 27s 145ms/step - loss: 0.9104 - mae: 0.6379 - val_loss: 7.3931 - val_mae: 1.9367\n",
            "Epoch 199/250\n",
            "178/178 [==============================] - 27s 146ms/step - loss: 0.8663 - mae: 0.6151 - val_loss: 7.6396 - val_mae: 1.9832\n",
            "Epoch 200/250\n",
            "178/178 [==============================] - 26s 145ms/step - loss: 0.8485 - mae: 0.6283 - val_loss: 6.8038 - val_mae: 1.8864\n",
            "Epoch 201/250\n",
            "178/178 [==============================] - 26s 143ms/step - loss: 0.8451 - mae: 0.6086 - val_loss: 8.8621 - val_mae: 2.1632\n",
            "Epoch 202/250\n",
            "178/178 [==============================] - 27s 147ms/step - loss: 0.9329 - mae: 0.6387 - val_loss: 6.7002 - val_mae: 1.8860\n",
            "Epoch 203/250\n",
            "178/178 [==============================] - 26s 144ms/step - loss: 0.8691 - mae: 0.6213 - val_loss: 6.2875 - val_mae: 1.8211\n",
            "Epoch 204/250\n",
            "178/178 [==============================] - 27s 147ms/step - loss: 0.7480 - mae: 0.5855 - val_loss: 5.9414 - val_mae: 1.7927\n",
            "Epoch 205/250\n",
            "178/178 [==============================] - 27s 146ms/step - loss: 0.8394 - mae: 0.6065 - val_loss: 6.1455 - val_mae: 1.8017\n",
            "Epoch 206/250\n",
            "178/178 [==============================] - 26s 145ms/step - loss: 0.7821 - mae: 0.5923 - val_loss: 6.6413 - val_mae: 1.8769\n",
            "Epoch 207/250\n",
            "178/178 [==============================] - 26s 144ms/step - loss: 0.7917 - mae: 0.5947 - val_loss: 6.3731 - val_mae: 1.8419\n",
            "Epoch 208/250\n",
            "178/178 [==============================] - 26s 146ms/step - loss: 0.7708 - mae: 0.5936 - val_loss: 6.1473 - val_mae: 1.8351\n",
            "Epoch 209/250\n",
            "178/178 [==============================] - 26s 145ms/step - loss: 0.7994 - mae: 0.5978 - val_loss: 8.5811 - val_mae: 2.1094\n",
            "Epoch 210/250\n",
            "178/178 [==============================] - 26s 146ms/step - loss: 0.7992 - mae: 0.6006 - val_loss: 6.2600 - val_mae: 1.8323\n",
            "Epoch 211/250\n",
            "178/178 [==============================] - 26s 145ms/step - loss: 1.0208 - mae: 0.6245 - val_loss: 6.4071 - val_mae: 1.8669\n",
            "Epoch 212/250\n",
            "178/178 [==============================] - 26s 144ms/step - loss: 0.7180 - mae: 0.5692 - val_loss: 7.2830 - val_mae: 1.9795\n",
            "Epoch 213/250\n",
            "178/178 [==============================] - 27s 147ms/step - loss: 0.7791 - mae: 0.5874 - val_loss: 6.4928 - val_mae: 1.8450\n",
            "Epoch 214/250\n",
            "178/178 [==============================] - 26s 144ms/step - loss: 0.7994 - mae: 0.5887 - val_loss: 6.5602 - val_mae: 1.8818\n",
            "Epoch 215/250\n",
            "178/178 [==============================] - 26s 144ms/step - loss: 0.7450 - mae: 0.5798 - val_loss: 6.2893 - val_mae: 1.8478\n",
            "Epoch 216/250\n",
            "178/178 [==============================] - 26s 145ms/step - loss: 0.9137 - mae: 0.6354 - val_loss: 5.8508 - val_mae: 1.7966\n",
            "Epoch 217/250\n",
            "178/178 [==============================] - 26s 145ms/step - loss: 0.8694 - mae: 0.6219 - val_loss: 6.6737 - val_mae: 1.8855\n",
            "Epoch 218/250\n",
            "178/178 [==============================] - 27s 150ms/step - loss: 0.8197 - mae: 0.6058 - val_loss: 6.9125 - val_mae: 1.9101\n",
            "Epoch 219/250\n",
            "178/178 [==============================] - 28s 153ms/step - loss: 0.8598 - mae: 0.6132 - val_loss: 6.0868 - val_mae: 1.8406\n",
            "Epoch 220/250\n",
            "178/178 [==============================] - 27s 146ms/step - loss: 0.7658 - mae: 0.5761 - val_loss: 6.5369 - val_mae: 1.8912\n",
            "Epoch 221/250\n",
            "178/178 [==============================] - 26s 145ms/step - loss: 0.7979 - mae: 0.5947 - val_loss: 6.4218 - val_mae: 1.8634\n",
            "Epoch 222/250\n",
            "178/178 [==============================] - 26s 145ms/step - loss: 0.7204 - mae: 0.5757 - val_loss: 6.2012 - val_mae: 1.8393\n",
            "Epoch 223/250\n",
            "178/178 [==============================] - 26s 145ms/step - loss: 0.7430 - mae: 0.5824 - val_loss: 6.2422 - val_mae: 1.8351\n",
            "Epoch 224/250\n",
            "178/178 [==============================] - 26s 144ms/step - loss: 0.7177 - mae: 0.5691 - val_loss: 6.8199 - val_mae: 1.9318\n",
            "Epoch 225/250\n",
            "178/178 [==============================] - 26s 145ms/step - loss: 0.8791 - mae: 0.6051 - val_loss: 6.1870 - val_mae: 1.8377\n",
            "Epoch 226/250\n",
            "178/178 [==============================] - 26s 146ms/step - loss: 0.7795 - mae: 0.5813 - val_loss: 6.0322 - val_mae: 1.8118\n",
            "Epoch 227/250\n",
            "178/178 [==============================] - 26s 145ms/step - loss: 0.8186 - mae: 0.5892 - val_loss: 6.2541 - val_mae: 1.8417\n",
            "Epoch 228/250\n",
            "178/178 [==============================] - 26s 145ms/step - loss: 0.7591 - mae: 0.5802 - val_loss: 5.6052 - val_mae: 1.7407\n",
            "Epoch 229/250\n",
            "178/178 [==============================] - 27s 146ms/step - loss: 0.6986 - mae: 0.5597 - val_loss: 6.6106 - val_mae: 1.8777\n",
            "Epoch 230/250\n",
            "178/178 [==============================] - 26s 145ms/step - loss: 0.6946 - mae: 0.5626 - val_loss: 5.8835 - val_mae: 1.7958\n",
            "Epoch 231/250\n",
            "178/178 [==============================] - 23s 124ms/step - loss: 0.7485 - mae: 0.5701 - val_loss: 5.9332 - val_mae: 1.7969\n",
            "Epoch 232/250\n",
            "178/178 [==============================] - 27s 151ms/step - loss: 0.6905 - mae: 0.5556 - val_loss: 6.0358 - val_mae: 1.8488\n",
            "Epoch 233/250\n",
            "178/178 [==============================] - 27s 148ms/step - loss: 0.7604 - mae: 0.6020 - val_loss: 5.8014 - val_mae: 1.7712\n",
            "Epoch 234/250\n",
            "178/178 [==============================] - 27s 146ms/step - loss: 0.7866 - mae: 0.6001 - val_loss: 5.8213 - val_mae: 1.7943\n",
            "Epoch 235/250\n",
            "178/178 [==============================] - 27s 148ms/step - loss: 0.7439 - mae: 0.5823 - val_loss: 5.4375 - val_mae: 1.7413\n",
            "Epoch 236/250\n",
            "178/178 [==============================] - 27s 146ms/step - loss: 0.7726 - mae: 0.5858 - val_loss: 6.0236 - val_mae: 1.8125\n",
            "Epoch 237/250\n",
            "178/178 [==============================] - 27s 148ms/step - loss: 0.7198 - mae: 0.5754 - val_loss: 5.8994 - val_mae: 1.7853\n",
            "Epoch 238/250\n",
            "178/178 [==============================] - 27s 147ms/step - loss: 0.8662 - mae: 0.5949 - val_loss: 6.4058 - val_mae: 1.8388\n",
            "Epoch 239/250\n",
            "178/178 [==============================] - 27s 151ms/step - loss: 0.7552 - mae: 0.5864 - val_loss: 6.9067 - val_mae: 1.8847\n",
            "Epoch 240/250\n",
            "178/178 [==============================] - 27s 149ms/step - loss: 0.8063 - mae: 0.6037 - val_loss: 7.0036 - val_mae: 1.8995\n",
            "Epoch 241/250\n",
            "178/178 [==============================] - 27s 146ms/step - loss: 0.7738 - mae: 0.5751 - val_loss: 8.1762 - val_mae: 2.0320\n",
            "Epoch 242/250\n",
            "178/178 [==============================] - 23s 124ms/step - loss: 0.8848 - mae: 0.6064 - val_loss: 12.5789 - val_mae: 2.4749\n",
            "Epoch 243/250\n",
            "178/178 [==============================] - 23s 124ms/step - loss: 0.9360 - mae: 0.6321 - val_loss: 8.3790 - val_mae: 2.0702\n",
            "Epoch 244/250\n",
            "178/178 [==============================] - 26s 144ms/step - loss: 0.8259 - mae: 0.5966 - val_loss: 6.6958 - val_mae: 1.8659\n",
            "Epoch 245/250\n",
            "178/178 [==============================] - 26s 145ms/step - loss: 1.0423 - mae: 0.6379 - val_loss: 6.2583 - val_mae: 1.8525\n",
            "Epoch 246/250\n",
            "178/178 [==============================] - 26s 145ms/step - loss: 1.0230 - mae: 0.6428 - val_loss: 5.9616 - val_mae: 1.7742\n",
            "Epoch 247/250\n",
            "178/178 [==============================] - 26s 145ms/step - loss: 1.0036 - mae: 0.6546 - val_loss: 7.1541 - val_mae: 1.9327\n",
            "Epoch 248/250\n",
            "178/178 [==============================] - 26s 145ms/step - loss: 0.9785 - mae: 0.6241 - val_loss: 6.6592 - val_mae: 1.8594\n",
            "Epoch 249/250\n",
            "178/178 [==============================] - 26s 145ms/step - loss: 0.9225 - mae: 0.6182 - val_loss: 6.4192 - val_mae: 1.8176\n",
            "Epoch 250/250\n",
            "178/178 [==============================] - 27s 146ms/step - loss: 0.9106 - mae: 0.6152 - val_loss: 7.6080 - val_mae: 1.9854\n"
          ]
        }
      ]
    },
    {
      "cell_type": "code",
      "source": [
        "loss = history.history['loss']\n",
        "val_loss = history.history['val_loss']\n",
        "mae = history.history['mae']\n",
        "val_mae = history.history['val_mae']\n",
        "\n",
        "\n",
        "epochs_x = range(len(loss))\n",
        "\n",
        "\n",
        "plt.plot(epochs_x, mae, 'o', color ='darkviolet', label='Training MAE')\n",
        "plt.plot(epochs_x, val_mae, 'k', label='Validation MAE')\n",
        "plt.title('Training and validation MeanAbsoluteError')\n",
        "plt.legend()\n",
        "\n",
        "plt.figure()\n",
        "plt.plot(epochs_x, loss, 'o', color ='darkviolet', label='Training loss')\n",
        "plt.plot(epochs_x, val_loss, 'k', label='Validation loss')\n",
        "plt.title('Training and validation loss')\n",
        "plt.legend()\n",
        "\n",
        "plt.show()"
      ],
      "metadata": {
        "id": "Y3K89-CM-dfg",
        "colab": {
          "base_uri": "https://localhost:8080/",
          "height": 887
        },
        "outputId": "8450df35-cdd4-40df-df93-d2740d64cf9f"
      },
      "execution_count": 19,
      "outputs": [
        {
          "output_type": "display_data",
          "data": {
            "text/plain": [
              "<Figure size 640x480 with 1 Axes>"
            ],
            "image/png": "[encoded data removed]"
          },
          "metadata": {}
        },
        {
          "output_type": "display_data",
          "data": {
            "text/plain": [
              "<Figure size 640x480 with 1 Axes>"
            ],
            "image/png": "[encoded data removed]"
          },
          "metadata": {}
        }
      ]
    },
    {
      "cell_type": "code",
      "source": [],
      "metadata": {
        "id": "sI5JVEwwQsjc"
      },
      "execution_count": 19,
      "outputs": []
    },
    {
      "cell_type": "code",
      "source": [
        "epochs_x"
      ],
      "metadata": {
        "id": "N_sP_ZmSY-Jv",
        "colab": {
          "base_uri": "https://localhost:8080/"
        },
        "outputId": "37269289-d9b6-4d2d-b08d-d561a788aae2"
      },
      "execution_count": 20,
      "outputs": [
        {
          "output_type": "execute_result",
          "data": {
            "text/plain": [
              "range(0, 250)"
            ]
          },
          "metadata": {},
          "execution_count": 20
        }
      ]
    },
    {
      "cell_type": "markdown",
      "source": [
        "#Download the model\n"
      ],
      "metadata": {
        "id": "R19IJQSYoW7J"
      }
    },
    {
      "cell_type": "code",
      "source": [
        "os.makedirs('/content/drive/My Drive/cut_panoramic/Model', exist_ok=True)\n",
        "model.save('/content/drive/MyDrive/cut_panoramic/Model/Regression/All/8Re_All_1G_1e-4_16_0.2_250_New_Unfreez.h5')"
      ],
      "metadata": {
        "id": "Zed4TdFcG2iJ"
      },
      "execution_count": 21,
      "outputs": []
    },
    {
      "cell_type": "markdown",
      "source": [],
      "metadata": {
        "id": "n5YxZ-5QjQ0-"
      }
    },
    {
      "cell_type": "code",
      "source": [
        "# from google.colab import files\n",
        "# files.download('/content/drive/My Drive/cut_panoramic/Model/1.1_รอบแรก_Flimpano_Male125_250.h5')"
      ],
      "metadata": {
        "id": "P5eMxm1NV-oY"
      },
      "execution_count": 22,
      "outputs": []
    },
    {
      "cell_type": "code",
      "source": [
        "\n"
      ],
      "metadata": {
        "id": "wY_pDlxkRwxS"
      },
      "execution_count": 22,
      "outputs": []
    }
  ]
}