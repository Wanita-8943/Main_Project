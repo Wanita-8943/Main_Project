{
  "nbformat": 4,
  "nbformat_minor": 0,
  "metadata": {
    "colab": {
      "provenance": [],
      "machine_shape": "hm",
      "include_colab_link": true
    },
    "kernelspec": {
      "name": "python3",
      "display_name": "Python 3"
    },
    "language_info": {
      "name": "python"
    },
    "accelerator": "GPU",
    "gpuClass": "premium"
  },
  "cells": [
    {
      "cell_type": "markdown",
      "metadata": {
        "id": "view-in-github",
        "colab_type": "text"
      },
      "source": [
        "<a href=\"https://colab.research.google.com/github/Wanita-8943/Main_Project/blob/main/A10_Train_Unfreeze.ipynb\" target=\"_parent\"><img src=\"https://colab.research.google.com/assets/colab-badge.svg\" alt=\"Open In Colab\"/></a>"
      ]
    },
    {
      "cell_type": "markdown",
      "source": [
        "#เรียกใช้ CSV"
      ],
      "metadata": {
        "id": "ow7eWoNw6U-c"
      }
    },
    {
      "cell_type": "code",
      "execution_count": 1,
      "metadata": {
        "id": "z8o_VVNXzcL8"
      },
      "outputs": [],
      "source": [
        "import pandas as pd\n",
        "import shutil"
      ]
    },
    {
      "cell_type": "code",
      "source": [
        "from google.colab import drive\n",
        "drive.mount('/content/drive')"
      ],
      "metadata": {
        "colab": {
          "base_uri": "https://localhost:8080/"
        },
        "id": "1_2Fe8u81d5r",
        "outputId": "71776a22-33c2-4c56-ab7e-889401089034"
      },
      "execution_count": 2,
      "outputs": [
        {
          "output_type": "stream",
          "name": "stdout",
          "text": [
            "Mounted at /content/drive\n"
          ]
        }
      ]
    },
    {
      "cell_type": "markdown",
      "source": [
        "#Imports"
      ],
      "metadata": {
        "id": "5qxePnnn7TGW"
      }
    },
    {
      "cell_type": "code",
      "source": [
        "from tensorflow.keras import models\n",
        "from tensorflow.keras import layers\n",
        "from tensorflow.keras import optimizers\n",
        "import os\n",
        "import glob\n",
        "import shutil\n",
        "import sys\n",
        "import numpy as np\n",
        "from skimage.io import imread\n",
        "import matplotlib.pyplot as plt\n",
        "from IPython.display import Image\n",
        "%matplotlib inline"
      ],
      "metadata": {
        "id": "D-hCRloc3t39"
      },
      "execution_count": 3,
      "outputs": []
    },
    {
      "cell_type": "code",
      "source": [
        "import tensorflow as tf\n",
        "from tensorflow.keras import Sequential\n",
        "from tensorflow.keras.layers import Dense\n",
        "from tensorflow.keras.optimizers import Adam\n",
        "from tensorflow.keras import backend as K"
      ],
      "metadata": {
        "id": "YZWXwjXeGxZP"
      },
      "execution_count": 4,
      "outputs": []
    },
    {
      "cell_type": "markdown",
      "source": [
        "#กำหนดค่าพารามิเตอร์\n"
      ],
      "metadata": {
        "id": "RooqSdBc7QHC"
      }
    },
    {
      "cell_type": "code",
      "source": [
        "batch_size = 16\n",
        "width = 150\n",
        "height = 150\n",
        "epochs = 250\n",
        "NUM_TRAIN = 2850\n",
        "NUM_TEST = 950\n",
        "dropout_rate = 0.2\n",
        "input_shape = (height, width, 3)"
      ],
      "metadata": {
        "id": "thDb7U9B3xOo"
      },
      "execution_count": 5,
      "outputs": []
    },
    {
      "cell_type": "markdown",
      "source": [
        "#Clone efficientnet repo\n"
      ],
      "metadata": {
        "id": "pumGmy6f3eSW"
      }
    },
    {
      "cell_type": "code",
      "source": [
        "#ดึงข้อมูลใน Github มาใช้\n",
        "import os\n",
        "%cd /content\n",
        "if not os.path.isdir(\"efficientnet_keras_transfer_learning\"):\n",
        " !git clone https://github.com/Wanita-8943/efficientnet_keras_transfer_learning\n",
        "%cd efficientnet_keras_transfer_learning/\n"
      ],
      "metadata": {
        "colab": {
          "base_uri": "https://localhost:8080/"
        },
        "id": "P7iy2f8n16p0",
        "outputId": "1c7a7f4a-fd8c-478a-a5ad-a342e684d340"
      },
      "execution_count": 6,
      "outputs": [
        {
          "output_type": "stream",
          "name": "stdout",
          "text": [
            "/content\n",
            "Cloning into 'efficientnet_keras_transfer_learning'...\n",
            "remote: Enumerating objects: 1085, done.\u001b[K\n",
            "remote: Counting objects: 100% (248/248), done.\u001b[K\n",
            "remote: Compressing objects: 100% (127/127), done.\u001b[K\n",
            "remote: Total 1085 (delta 124), reused 241 (delta 121), pack-reused 837\u001b[K\n",
            "Receiving objects: 100% (1085/1085), 14.09 MiB | 20.07 MiB/s, done.\n",
            "Resolving deltas: 100% (621/621), done.\n",
            "/content/efficientnet_keras_transfer_learning\n"
          ]
        }
      ]
    },
    {
      "cell_type": "code",
      "source": [
        "# Options: EfficientNetB0, EfficientNetB1, EfficientNetB2, EfficientNetB3\n",
        "# Higher the number, the more complex the model is.\n",
        "from efficientnet import EfficientNetB0 as Net\n",
        "from efficientnet import center_crop_and_resize, preprocess_input"
      ],
      "metadata": {
        "id": "tjZBRnfo3bN0"
      },
      "execution_count": 7,
      "outputs": []
    },
    {
      "cell_type": "code",
      "source": [
        "# loading pretrained conv base model\n",
        "# โหลดโมเดล มาโดยตัด output ของโมเดลออก เเต่ยังใช้ input อันเดิม\n",
        "# เเละโหลด weight ของโมเดล มาด้วยที่ชื่อว่า imagenet\n",
        "conv_base = Net(weights='imagenet', include_top=False, input_shape=input_shape)"
      ],
      "metadata": {
        "colab": {
          "base_uri": "https://localhost:8080/"
        },
        "id": "r8BN74_JJdfj",
        "outputId": "8b04e803-5df2-42f6-f3a7-88d43bceb166"
      },
      "execution_count": 8,
      "outputs": [
        {
          "output_type": "stream",
          "name": "stdout",
          "text": [
            "Downloading data from https://github.com/qubvel/efficientnet/releases/download/v0.0.1/efficientnet-b0_imagenet_1000_notop.h5\n",
            "16717576/16717576 [==============================] - 0s 0us/step\n"
          ]
        }
      ]
    },
    {
      "cell_type": "markdown",
      "source": [
        "#load model\n"
      ],
      "metadata": {
        "id": "PdNWyD-QYkzK"
      }
    },
    {
      "cell_type": "code",
      "source": [
        "import sys\n",
        "sys.path.append('/content/drive/MyDrive/cut_panoramic/Model/Regression/All/9Re_All_1G_1e-4_16_0.2_250_New_Unfreez.h5')\n",
        "\n",
        "from efficientnet.layers import Swish, DropConnect\n",
        "from efficientnet.model import ConvKernalInitializer\n",
        "from tensorflow.keras.utils import get_custom_objects\n",
        "\n",
        "get_custom_objects().update({\n",
        "    'ConvKernalInitializer': ConvKernalInitializer,\n",
        "    'Swish': Swish,\n",
        "    'DropConnect':DropConnect\n",
        "})"
      ],
      "metadata": {
        "id": "_gPnx2UvYf5A"
      },
      "execution_count": 9,
      "outputs": []
    },
    {
      "cell_type": "code",
      "source": [
        "#load model \n",
        "from tensorflow.keras.models import load_model\n",
        "model = load_model('/content/drive/MyDrive/cut_panoramic/Model/Regression/All/9Re_All_1G_1e-4_16_0.2_250_New_Unfreez.h5')\n",
        "height = width = model.input_shape[1]"
      ],
      "metadata": {
        "id": "Nu93WzFUYm9e"
      },
      "execution_count": 10,
      "outputs": []
    },
    {
      "cell_type": "code",
      "source": [
        "model.summary()"
      ],
      "metadata": {
        "id": "gp5EbyyXYvc6",
        "colab": {
          "base_uri": "https://localhost:8080/"
        },
        "outputId": "6db1cae6-60df-4254-c8e0-aa63ad089452"
      },
      "execution_count": 11,
      "outputs": [
        {
          "output_type": "stream",
          "name": "stdout",
          "text": [
            "Model: \"sequential\"\n",
            "_________________________________________________________________\n",
            " Layer (type)                Output Shape              Param #   \n",
            "=================================================================\n",
            " efficientnet-b0 (Functional  (None, 5, 5, 1280)       4049564   \n",
            " )                                                               \n",
            "                                                                 \n",
            " gap (GlobalMaxPooling2D)    (None, 1280)              0         \n",
            "                                                                 \n",
            " dropout_out (Dropout)       (None, 1280)              0         \n",
            "                                                                 \n",
            " fc_out (Dense)              (None, 19)                24339     \n",
            "                                                                 \n",
            " dense (Dense)               (None, 1)                 20        \n",
            "                                                                 \n",
            "=================================================================\n",
            "Total params: 4,073,923\n",
            "Trainable params: 4,031,907\n",
            "Non-trainable params: 42,016\n",
            "_________________________________________________________________\n"
          ]
        }
      ]
    },
    {
      "cell_type": "code",
      "source": [
        "df = pd.read_csv (r'/content/drive/MyDrive/cut_panoramic/Data/All_Re.csv')\n",
        "df"
      ],
      "metadata": {
        "id": "q1Dc131_Y3uA",
        "colab": {
          "base_uri": "https://localhost:8080/",
          "height": 423
        },
        "outputId": "48e6fcfc-c65c-4cce-d037-4e1cb408e3e8"
      },
      "execution_count": 12,
      "outputs": [
        {
          "output_type": "execute_result",
          "data": {
            "text/plain": [
              "      Fig_Age  Fig_Person_Sex  Age(year) Class  Class_Re       Filename  \\\n",
              "0           1               1          7  Y07F         1         V1.jpg   \n",
              "1           2               1          7  Y07F         1    Flip_V1.jpg   \n",
              "2           3               2          7  Y07F         1         V2.jpg   \n",
              "3           4               2          7  Y07F         1    Flip_V2.jpg   \n",
              "4           5               3          7  Y07F         1         V3.jpg   \n",
              "...       ...             ...        ...   ...       ...            ...   \n",
              "4745      121              77         25  Y25M        19  Flip_J463.jpg   \n",
              "4746      122              78         25  Y25M        19       J464.jpg   \n",
              "4747      123              78         25  Y25M        19  Flip_J464.jpg   \n",
              "4748      124              79         25  Y25M        19       J465.jpg   \n",
              "4749      125              79         25  Y25M        19  Flip_J465.jpg   \n",
              "\n",
              "                                          Path_filename     Sex Floder  \n",
              "0     /content/drive/My Drive/TVT_Gender/train/Femal...  Female   Both  \n",
              "1     /content/drive/My Drive/TVT_Gender/train/Femal...  Female   Both  \n",
              "2     /content/drive/My Drive/TVT_Gender/train/Femal...  Female   Both  \n",
              "3     /content/drive/My Drive/TVT_Gender/train/Femal...  Female   Both  \n",
              "4     /content/drive/My Drive/TVT_Gender/train/Femal...  Female   Both  \n",
              "...                                                 ...     ...    ...  \n",
              "4745  /content/drive/My Drive/TVT_Gender/test/Male/F...    Male   Both  \n",
              "4746  /content/drive/My Drive/TVT_Gender/test/Male/J...    Male   Both  \n",
              "4747  /content/drive/My Drive/TVT_Gender/test/Male/F...    Male   Both  \n",
              "4748  /content/drive/My Drive/TVT_Gender/test/Male/J...    Male   Both  \n",
              "4749  /content/drive/My Drive/TVT_Gender/test/Male/F...    Male   Both  \n",
              "\n",
              "[4750 rows x 9 columns]"
            ],
            "text/html": [
              "\n",
              "  <div id=\"df-8d7ccd39-1244-48d2-b8c5-b9b356e699d4\">\n",
              "    <div class=\"colab-df-container\">\n",
              "      <div>\n",
              "<style scoped>\n",
              "    .dataframe tbody tr th:only-of-type {\n",
              "        vertical-align: middle;\n",
              "    }\n",
              "\n",
              "    .dataframe tbody tr th {\n",
              "        vertical-align: top;\n",
              "    }\n",
              "\n",
              "    .dataframe thead th {\n",
              "        text-align: right;\n",
              "    }\n",
              "</style>\n",
              "<table border=\"1\" class=\"dataframe\">\n",
              "  <thead>\n",
              "    <tr style=\"text-align: right;\">\n",
              "      <th></th>\n",
              "      <th>Fig_Age</th>\n",
              "      <th>Fig_Person_Sex</th>\n",
              "      <th>Age(year)</th>\n",
              "      <th>Class</th>\n",
              "      <th>Class_Re</th>\n",
              "      <th>Filename</th>\n",
              "      <th>Path_filename</th>\n",
              "      <th>Sex</th>\n",
              "      <th>Floder</th>\n",
              "    </tr>\n",
              "  </thead>\n",
              "  <tbody>\n",
              "    <tr>\n",
              "      <th>0</th>\n",
              "      <td>1</td>\n",
              "      <td>1</td>\n",
              "      <td>7</td>\n",
              "      <td>Y07F</td>\n",
              "      <td>1</td>\n",
              "      <td>V1.jpg</td>\n",
              "      <td>/content/drive/My Drive/TVT_Gender/train/Femal...</td>\n",
              "      <td>Female</td>\n",
              "      <td>Both</td>\n",
              "    </tr>\n",
              "    <tr>\n",
              "      <th>1</th>\n",
              "      <td>2</td>\n",
              "      <td>1</td>\n",
              "      <td>7</td>\n",
              "      <td>Y07F</td>\n",
              "      <td>1</td>\n",
              "      <td>Flip_V1.jpg</td>\n",
              "      <td>/content/drive/My Drive/TVT_Gender/train/Femal...</td>\n",
              "      <td>Female</td>\n",
              "      <td>Both</td>\n",
              "    </tr>\n",
              "    <tr>\n",
              "      <th>2</th>\n",
              "      <td>3</td>\n",
              "      <td>2</td>\n",
              "      <td>7</td>\n",
              "      <td>Y07F</td>\n",
              "      <td>1</td>\n",
              "      <td>V2.jpg</td>\n",
              "      <td>/content/drive/My Drive/TVT_Gender/train/Femal...</td>\n",
              "      <td>Female</td>\n",
              "      <td>Both</td>\n",
              "    </tr>\n",
              "    <tr>\n",
              "      <th>3</th>\n",
              "      <td>4</td>\n",
              "      <td>2</td>\n",
              "      <td>7</td>\n",
              "      <td>Y07F</td>\n",
              "      <td>1</td>\n",
              "      <td>Flip_V2.jpg</td>\n",
              "      <td>/content/drive/My Drive/TVT_Gender/train/Femal...</td>\n",
              "      <td>Female</td>\n",
              "      <td>Both</td>\n",
              "    </tr>\n",
              "    <tr>\n",
              "      <th>4</th>\n",
              "      <td>5</td>\n",
              "      <td>3</td>\n",
              "      <td>7</td>\n",
              "      <td>Y07F</td>\n",
              "      <td>1</td>\n",
              "      <td>V3.jpg</td>\n",
              "      <td>/content/drive/My Drive/TVT_Gender/train/Femal...</td>\n",
              "      <td>Female</td>\n",
              "      <td>Both</td>\n",
              "    </tr>\n",
              "    <tr>\n",
              "      <th>...</th>\n",
              "      <td>...</td>\n",
              "      <td>...</td>\n",
              "      <td>...</td>\n",
              "      <td>...</td>\n",
              "      <td>...</td>\n",
              "      <td>...</td>\n",
              "      <td>...</td>\n",
              "      <td>...</td>\n",
              "      <td>...</td>\n",
              "    </tr>\n",
              "    <tr>\n",
              "      <th>4745</th>\n",
              "      <td>121</td>\n",
              "      <td>77</td>\n",
              "      <td>25</td>\n",
              "      <td>Y25M</td>\n",
              "      <td>19</td>\n",
              "      <td>Flip_J463.jpg</td>\n",
              "      <td>/content/drive/My Drive/TVT_Gender/test/Male/F...</td>\n",
              "      <td>Male</td>\n",
              "      <td>Both</td>\n",
              "    </tr>\n",
              "    <tr>\n",
              "      <th>4746</th>\n",
              "      <td>122</td>\n",
              "      <td>78</td>\n",
              "      <td>25</td>\n",
              "      <td>Y25M</td>\n",
              "      <td>19</td>\n",
              "      <td>J464.jpg</td>\n",
              "      <td>/content/drive/My Drive/TVT_Gender/test/Male/J...</td>\n",
              "      <td>Male</td>\n",
              "      <td>Both</td>\n",
              "    </tr>\n",
              "    <tr>\n",
              "      <th>4747</th>\n",
              "      <td>123</td>\n",
              "      <td>78</td>\n",
              "      <td>25</td>\n",
              "      <td>Y25M</td>\n",
              "      <td>19</td>\n",
              "      <td>Flip_J464.jpg</td>\n",
              "      <td>/content/drive/My Drive/TVT_Gender/test/Male/F...</td>\n",
              "      <td>Male</td>\n",
              "      <td>Both</td>\n",
              "    </tr>\n",
              "    <tr>\n",
              "      <th>4748</th>\n",
              "      <td>124</td>\n",
              "      <td>79</td>\n",
              "      <td>25</td>\n",
              "      <td>Y25M</td>\n",
              "      <td>19</td>\n",
              "      <td>J465.jpg</td>\n",
              "      <td>/content/drive/My Drive/TVT_Gender/test/Male/J...</td>\n",
              "      <td>Male</td>\n",
              "      <td>Both</td>\n",
              "    </tr>\n",
              "    <tr>\n",
              "      <th>4749</th>\n",
              "      <td>125</td>\n",
              "      <td>79</td>\n",
              "      <td>25</td>\n",
              "      <td>Y25M</td>\n",
              "      <td>19</td>\n",
              "      <td>Flip_J465.jpg</td>\n",
              "      <td>/content/drive/My Drive/TVT_Gender/test/Male/F...</td>\n",
              "      <td>Male</td>\n",
              "      <td>Both</td>\n",
              "    </tr>\n",
              "  </tbody>\n",
              "</table>\n",
              "<p>4750 rows × 9 columns</p>\n",
              "</div>\n",
              "      <button class=\"colab-df-convert\" onclick=\"convertToInteractive('df-8d7ccd39-1244-48d2-b8c5-b9b356e699d4')\"\n",
              "              title=\"Convert this dataframe to an interactive table.\"\n",
              "              style=\"display:none;\">\n",
              "        \n",
              "  <svg xmlns=\"http://www.w3.org/2000/svg\" height=\"24px\"viewBox=\"0 0 24 24\"\n",
              "       width=\"24px\">\n",
              "    <path d=\"M0 0h24v24H0V0z\" fill=\"none\"/>\n",
              "    <path d=\"M18.56 5.44l.94 2.06.94-2.06 2.06-.94-2.06-.94-.94-2.06-.94 2.06-2.06.94zm-11 1L8.5 8.5l.94-2.06 2.06-.94-2.06-.94L8.5 2.5l-.94 2.06-2.06.94zm10 10l.94 2.06.94-2.06 2.06-.94-2.06-.94-.94-2.06-.94 2.06-2.06.94z\"/><path d=\"M17.41 7.96l-1.37-1.37c-.4-.4-.92-.59-1.43-.59-.52 0-1.04.2-1.43.59L10.3 9.45l-7.72 7.72c-.78.78-.78 2.05 0 2.83L4 21.41c.39.39.9.59 1.41.59.51 0 1.02-.2 1.41-.59l7.78-7.78 2.81-2.81c.8-.78.8-2.07 0-2.86zM5.41 20L4 18.59l7.72-7.72 1.47 1.35L5.41 20z\"/>\n",
              "  </svg>\n",
              "      </button>\n",
              "      \n",
              "  <style>\n",
              "    .colab-df-container {\n",
              "      display:flex;\n",
              "      flex-wrap:wrap;\n",
              "      gap: 12px;\n",
              "    }\n",
              "\n",
              "    .colab-df-convert {\n",
              "      background-color: #E8F0FE;\n",
              "      border: none;\n",
              "      border-radius: 50%;\n",
              "      cursor: pointer;\n",
              "      display: none;\n",
              "      fill: #1967D2;\n",
              "      height: 32px;\n",
              "      padding: 0 0 0 0;\n",
              "      width: 32px;\n",
              "    }\n",
              "\n",
              "    .colab-df-convert:hover {\n",
              "      background-color: #E2EBFA;\n",
              "      box-shadow: 0px 1px 2px rgba(60, 64, 67, 0.3), 0px 1px 3px 1px rgba(60, 64, 67, 0.15);\n",
              "      fill: #174EA6;\n",
              "    }\n",
              "\n",
              "    [theme=dark] .colab-df-convert {\n",
              "      background-color: #3B4455;\n",
              "      fill: #D2E3FC;\n",
              "    }\n",
              "\n",
              "    [theme=dark] .colab-df-convert:hover {\n",
              "      background-color: #434B5C;\n",
              "      box-shadow: 0px 1px 3px 1px rgba(0, 0, 0, 0.15);\n",
              "      filter: drop-shadow(0px 1px 2px rgba(0, 0, 0, 0.3));\n",
              "      fill: #FFFFFF;\n",
              "    }\n",
              "  </style>\n",
              "\n",
              "      <script>\n",
              "        const buttonEl =\n",
              "          document.querySelector('#df-8d7ccd39-1244-48d2-b8c5-b9b356e699d4 button.colab-df-convert');\n",
              "        buttonEl.style.display =\n",
              "          google.colab.kernel.accessAllowed ? 'block' : 'none';\n",
              "\n",
              "        async function convertToInteractive(key) {\n",
              "          const element = document.querySelector('#df-8d7ccd39-1244-48d2-b8c5-b9b356e699d4');\n",
              "          const dataTable =\n",
              "            await google.colab.kernel.invokeFunction('convertToInteractive',\n",
              "                                                     [key], {});\n",
              "          if (!dataTable) return;\n",
              "\n",
              "          const docLinkHtml = 'Like what you see? Visit the ' +\n",
              "            '<a target=\"_blank\" href=https://colab.research.google.com/notebooks/data_table.ipynb>data table notebook</a>'\n",
              "            + ' to learn more about interactive tables.';\n",
              "          element.innerHTML = '';\n",
              "          dataTable['output_type'] = 'display_data';\n",
              "          await google.colab.output.renderOutput(dataTable, element);\n",
              "          const docLink = document.createElement('div');\n",
              "          docLink.innerHTML = docLinkHtml;\n",
              "          element.appendChild(docLink);\n",
              "        }\n",
              "      </script>\n",
              "    </div>\n",
              "  </div>\n",
              "  "
            ]
          },
          "metadata": {},
          "execution_count": 12
        }
      ]
    },
    {
      "cell_type": "code",
      "source": [
        "train = df[df['Fig_Age'].between(1,75)]\n",
        "val = df[df['Fig_Age'].between(76,100)]"
      ],
      "metadata": {
        "id": "Z1zBw01Gl8Ac"
      },
      "execution_count": 13,
      "outputs": []
    },
    {
      "cell_type": "code",
      "source": [
        "DATA_PATH = \"/content/drive/My Drive/TVT_Gender\"\n",
        "os.chdir(DATA_PATH)\n",
        "train_dir = os.path.join(DATA_PATH, 'train')\n",
        "print(train_dir)\n",
        "validation_dir = os.path.join(DATA_PATH, 'validation')\n",
        "print(validation_dir)"
      ],
      "metadata": {
        "colab": {
          "base_uri": "https://localhost:8080/"
        },
        "id": "QL0g-8iOnMC4",
        "outputId": "6507b6c5-aca9-4bc0-9da2-f79d1e51bbca"
      },
      "execution_count": 14,
      "outputs": [
        {
          "output_type": "stream",
          "name": "stdout",
          "text": [
            "/content/drive/My Drive/TVT_Gender/train\n",
            "/content/drive/My Drive/TVT_Gender/validation\n"
          ]
        }
      ]
    },
    {
      "cell_type": "markdown",
      "source": [
        "\n",
        "#Train"
      ],
      "metadata": {
        "id": "bWEnlTSwazL5"
      }
    },
    {
      "cell_type": "code",
      "source": [
        "# Train ด้วย ImageDataGenerator ของ Keras ซึ่งจะเพิ่มข้อมูลเสริมระหว่างการฝึกเพื่อลดโอกาสเกิด overfitting\n",
        "#overfitting เกิดจากข้อมูลที่ซับซ้อนกันเกินไป\n",
        "from tensorflow.keras.preprocessing.image import ImageDataGenerator\n",
        "\n",
        "train_datagen = ImageDataGenerator(\n",
        "      rescale=1./255, #โมเดลส่วนใหญ่ต้องใช้ RGB ในช่วง 0–1\n",
        "      rotation_range=40,\n",
        "      width_shift_range=0.2,\n",
        "      height_shift_range=0.2,\n",
        "      shear_range=0.2,\n",
        "      zoom_range=0.2,\n",
        "      horizontal_flip=True,\n",
        "      fill_mode='nearest')\n",
        "\n",
        "# Note that the validation data should not be augmented!\n",
        "test_datagen = ImageDataGenerator(rescale=1./255)"
      ],
      "metadata": {
        "id": "xGPrsn9no_pa"
      },
      "execution_count": 15,
      "outputs": []
    },
    {
      "cell_type": "code",
      "source": [
        "train_generator = train_datagen.flow_from_dataframe(\n",
        "        dataframe = train,\n",
        "        directory = train_dir,\n",
        "        x_col = 'Path_filename',\n",
        "        y_col = 'Class_Re',\n",
        "        class_mode = 'other',\n",
        "        target_size=(height, width),\n",
        "        batch_size=batch_size)\n",
        "\n",
        "validation_generator = test_datagen.flow_from_dataframe(\n",
        "        dataframe = val,\n",
        "        directory = validation_dir,\n",
        "        x_col = 'Path_filename',\n",
        "        y_col = 'Class_Re',\n",
        "        class_mode = 'other',\n",
        "        target_size=(height, width),\n",
        "        batch_size=batch_size)"
      ],
      "metadata": {
        "colab": {
          "base_uri": "https://localhost:8080/"
        },
        "id": "8nVlmAszntK_",
        "outputId": "b8d68628-88be-4ca2-a9c5-169ca978ee09"
      },
      "execution_count": 16,
      "outputs": [
        {
          "output_type": "stream",
          "name": "stdout",
          "text": [
            "Found 2850 validated image filenames.\n",
            "Found 950 validated image filenames.\n"
          ]
        }
      ]
    },
    {
      "cell_type": "code",
      "source": [
        "model.summary()"
      ],
      "metadata": {
        "colab": {
          "base_uri": "https://localhost:8080/"
        },
        "id": "zzCdn3X4Jm_E",
        "outputId": "b277b6cf-939f-4583-ac1a-aa519793bc8d"
      },
      "execution_count": 17,
      "outputs": [
        {
          "output_type": "stream",
          "name": "stdout",
          "text": [
            "Model: \"sequential\"\n",
            "_________________________________________________________________\n",
            " Layer (type)                Output Shape              Param #   \n",
            "=================================================================\n",
            " efficientnet-b0 (Functional  (None, 5, 5, 1280)       4049564   \n",
            " )                                                               \n",
            "                                                                 \n",
            " gap (GlobalMaxPooling2D)    (None, 1280)              0         \n",
            "                                                                 \n",
            " dropout_out (Dropout)       (None, 1280)              0         \n",
            "                                                                 \n",
            " fc_out (Dense)              (None, 19)                24339     \n",
            "                                                                 \n",
            " dense (Dense)               (None, 1)                 20        \n",
            "                                                                 \n",
            "=================================================================\n",
            "Total params: 4,073,923\n",
            "Trainable params: 4,031,907\n",
            "Non-trainable params: 42,016\n",
            "_________________________________________________________________\n"
          ]
        }
      ]
    },
    {
      "cell_type": "code",
      "source": [
        "model.compile(loss='mse',\n",
        "          optimizer=Adam(learning_rate=1e-4),\n",
        "          metrics=['mae'])\n",
        "history = model.fit_generator(\n",
        "      train_generator,\n",
        "      steps_per_epoch= NUM_TRAIN //batch_size,\n",
        "      epochs=epochs,\n",
        "      validation_data=validation_generator,\n",
        "      validation_steps= NUM_TEST //batch_size,\n",
        "      verbose=1,\n",
        "      use_multiprocessing=True,\n",
        "      workers=4)"
      ],
      "metadata": {
        "id": "N6qUmmF856ZE",
        "outputId": "003d8135-9034-47a3-da41-fd1016dddfd8",
        "colab": {
          "base_uri": "https://localhost:8080/"
        }
      },
      "execution_count": 18,
      "outputs": [
        {
          "output_type": "stream",
          "name": "stderr",
          "text": [
            "<ipython-input-18-f59104fd3985>:4: UserWarning: `Model.fit_generator` is deprecated and will be removed in a future version. Please use `Model.fit`, which supports generators.\n",
            "  history = model.fit_generator(\n"
          ]
        },
        {
          "output_type": "stream",
          "name": "stdout",
          "text": [
            "Epoch 1/250\n",
            "178/178 [==============================] - 384s 2s/step - loss: 0.7442 - mae: 0.5643 - val_loss: 4.7933 - val_mae: 1.6465\n",
            "Epoch 2/250\n",
            "178/178 [==============================] - 18s 98ms/step - loss: 0.8024 - mae: 0.5759 - val_loss: 4.6289 - val_mae: 1.5866\n",
            "Epoch 3/250\n",
            "178/178 [==============================] - 18s 98ms/step - loss: 0.7315 - mae: 0.5535 - val_loss: 5.2495 - val_mae: 1.6648\n",
            "Epoch 4/250\n",
            "178/178 [==============================] - 18s 99ms/step - loss: 0.6648 - mae: 0.5311 - val_loss: 4.7846 - val_mae: 1.6086\n",
            "Epoch 5/250\n",
            "178/178 [==============================] - 18s 98ms/step - loss: 0.6309 - mae: 0.5294 - val_loss: 5.1268 - val_mae: 1.6617\n",
            "Epoch 6/250\n",
            "178/178 [==============================] - 18s 99ms/step - loss: 0.7082 - mae: 0.5433 - val_loss: 5.4859 - val_mae: 1.7257\n",
            "Epoch 7/250\n",
            "178/178 [==============================] - 18s 98ms/step - loss: 0.7342 - mae: 0.5598 - val_loss: 5.0825 - val_mae: 1.6625\n",
            "Epoch 8/250\n",
            "178/178 [==============================] - 18s 99ms/step - loss: 0.6231 - mae: 0.5229 - val_loss: 5.2911 - val_mae: 1.6713\n",
            "Epoch 9/250\n",
            "178/178 [==============================] - 18s 100ms/step - loss: 0.6235 - mae: 0.5179 - val_loss: 5.5837 - val_mae: 1.7175\n",
            "Epoch 10/250\n",
            "178/178 [==============================] - 18s 99ms/step - loss: 0.8808 - mae: 0.5861 - val_loss: 5.5277 - val_mae: 1.7339\n",
            "Epoch 11/250\n",
            "178/178 [==============================] - 18s 99ms/step - loss: 1.0347 - mae: 0.6153 - val_loss: 7.6712 - val_mae: 1.9885\n",
            "Epoch 12/250\n",
            "178/178 [==============================] - 18s 99ms/step - loss: 1.8736 - mae: 0.7811 - val_loss: 5.3455 - val_mae: 1.6812\n",
            "Epoch 13/250\n",
            "178/178 [==============================] - 18s 98ms/step - loss: 1.7132 - mae: 0.7574 - val_loss: 5.7404 - val_mae: 1.7670\n",
            "Epoch 14/250\n",
            "178/178 [==============================] - 18s 100ms/step - loss: 1.0595 - mae: 0.6263 - val_loss: 5.6437 - val_mae: 1.7222\n",
            "Epoch 15/250\n",
            "178/178 [==============================] - 18s 99ms/step - loss: 1.2897 - mae: 0.6838 - val_loss: 5.4256 - val_mae: 1.7245\n",
            "Epoch 16/250\n",
            "178/178 [==============================] - 18s 99ms/step - loss: 1.8322 - mae: 0.7850 - val_loss: 6.1595 - val_mae: 1.8536\n",
            "Epoch 17/250\n",
            "178/178 [==============================] - 18s 99ms/step - loss: 1.8050 - mae: 0.7735 - val_loss: 6.3692 - val_mae: 1.8869\n",
            "Epoch 18/250\n",
            "178/178 [==============================] - 18s 99ms/step - loss: 1.6058 - mae: 0.7335 - val_loss: 6.8025 - val_mae: 1.9543\n",
            "Epoch 19/250\n",
            "178/178 [==============================] - 18s 99ms/step - loss: 1.6560 - mae: 0.7214 - val_loss: 7.1493 - val_mae: 1.9652\n",
            "Epoch 20/250\n",
            "178/178 [==============================] - 18s 99ms/step - loss: 1.7154 - mae: 0.7515 - val_loss: 8.4137 - val_mae: 2.2224\n",
            "Epoch 21/250\n",
            "178/178 [==============================] - 18s 99ms/step - loss: 1.7595 - mae: 0.7690 - val_loss: 7.3094 - val_mae: 2.0653\n",
            "Epoch 22/250\n",
            "178/178 [==============================] - 18s 99ms/step - loss: 2.0294 - mae: 0.8543 - val_loss: 16.3835 - val_mae: 2.8891\n",
            "Epoch 23/250\n",
            "178/178 [==============================] - 18s 99ms/step - loss: 2.2237 - mae: 0.8818 - val_loss: 10.9347 - val_mae: 2.3409\n",
            "Epoch 24/250\n",
            "178/178 [==============================] - 18s 99ms/step - loss: 1.8836 - mae: 0.8416 - val_loss: 11.7871 - val_mae: 2.4760\n",
            "Epoch 25/250\n",
            "178/178 [==============================] - 18s 98ms/step - loss: 1.6151 - mae: 0.7938 - val_loss: 9.8665 - val_mae: 2.2590\n",
            "Epoch 26/250\n",
            "178/178 [==============================] - 18s 99ms/step - loss: 1.5148 - mae: 0.7846 - val_loss: 9.5139 - val_mae: 2.2151\n",
            "Epoch 27/250\n",
            "178/178 [==============================] - 18s 98ms/step - loss: 1.5797 - mae: 0.7834 - val_loss: 9.5055 - val_mae: 2.2253\n",
            "Epoch 28/250\n",
            "178/178 [==============================] - 18s 99ms/step - loss: 1.6115 - mae: 0.7719 - val_loss: 7.7606 - val_mae: 2.0078\n",
            "Epoch 29/250\n",
            "178/178 [==============================] - 18s 98ms/step - loss: 1.7299 - mae: 0.8057 - val_loss: 7.0464 - val_mae: 1.9283\n",
            "Epoch 30/250\n",
            "178/178 [==============================] - 18s 99ms/step - loss: 1.6303 - mae: 0.7770 - val_loss: 8.0477 - val_mae: 2.0407\n",
            "Epoch 31/250\n",
            "178/178 [==============================] - 18s 99ms/step - loss: 1.5786 - mae: 0.7748 - val_loss: 8.5630 - val_mae: 2.0895\n",
            "Epoch 32/250\n",
            "178/178 [==============================] - 18s 98ms/step - loss: 1.8475 - mae: 0.8056 - val_loss: 6.8819 - val_mae: 1.9149\n",
            "Epoch 33/250\n",
            "178/178 [==============================] - 18s 99ms/step - loss: 1.6008 - mae: 0.7689 - val_loss: 6.4222 - val_mae: 1.8697\n",
            "Epoch 34/250\n",
            "178/178 [==============================] - 18s 99ms/step - loss: 1.5521 - mae: 0.7686 - val_loss: 6.4395 - val_mae: 1.8857\n",
            "Epoch 35/250\n",
            "178/178 [==============================] - 18s 99ms/step - loss: 1.4567 - mae: 0.7431 - val_loss: 6.0928 - val_mae: 1.8592\n",
            "Epoch 36/250\n",
            "178/178 [==============================] - 18s 99ms/step - loss: 1.2245 - mae: 0.7024 - val_loss: 6.4206 - val_mae: 1.8533\n",
            "Epoch 37/250\n",
            "178/178 [==============================] - 18s 98ms/step - loss: 1.1384 - mae: 0.6769 - val_loss: 6.6084 - val_mae: 1.8856\n",
            "Epoch 38/250\n",
            "178/178 [==============================] - 18s 99ms/step - loss: 0.9432 - mae: 0.6277 - val_loss: 6.3555 - val_mae: 1.8637\n",
            "Epoch 39/250\n",
            "178/178 [==============================] - 18s 98ms/step - loss: 1.2414 - mae: 0.6804 - val_loss: 7.5447 - val_mae: 2.0154\n",
            "Epoch 40/250\n",
            "178/178 [==============================] - 18s 98ms/step - loss: 1.1779 - mae: 0.6690 - val_loss: 6.4187 - val_mae: 1.8658\n",
            "Epoch 41/250\n",
            "178/178 [==============================] - 13s 72ms/step - loss: 1.2106 - mae: 0.6516 - val_loss: 6.6283 - val_mae: 1.8859\n",
            "Epoch 42/250\n",
            "178/178 [==============================] - 18s 99ms/step - loss: 0.8916 - mae: 0.6135 - val_loss: 6.6841 - val_mae: 1.9053\n",
            "Epoch 43/250\n",
            "178/178 [==============================] - 18s 99ms/step - loss: 0.8328 - mae: 0.5927 - val_loss: 6.5141 - val_mae: 1.8728\n",
            "Epoch 44/250\n",
            "178/178 [==============================] - 18s 100ms/step - loss: 0.9954 - mae: 0.6339 - val_loss: 6.8721 - val_mae: 1.9135\n",
            "Epoch 45/250\n",
            "178/178 [==============================] - 18s 100ms/step - loss: 0.8544 - mae: 0.6011 - val_loss: 6.6753 - val_mae: 1.8900\n",
            "Epoch 46/250\n",
            "178/178 [==============================] - 18s 98ms/step - loss: 0.9440 - mae: 0.6177 - val_loss: 6.3468 - val_mae: 1.8546\n",
            "Epoch 47/250\n",
            "178/178 [==============================] - 18s 99ms/step - loss: 1.3035 - mae: 0.6478 - val_loss: 9.4010 - val_mae: 2.1156\n",
            "Epoch 48/250\n",
            "178/178 [==============================] - 18s 99ms/step - loss: 1.7784 - mae: 0.7607 - val_loss: 6.9366 - val_mae: 1.9634\n",
            "Epoch 49/250\n",
            "178/178 [==============================] - 18s 100ms/step - loss: 1.5374 - mae: 0.7607 - val_loss: 8.6343 - val_mae: 2.1548\n",
            "Epoch 50/250\n",
            "178/178 [==============================] - 18s 98ms/step - loss: 1.3426 - mae: 0.7378 - val_loss: 7.1544 - val_mae: 1.9789\n",
            "Epoch 51/250\n",
            "178/178 [==============================] - 18s 99ms/step - loss: 1.2188 - mae: 0.7024 - val_loss: 7.7104 - val_mae: 2.0184\n",
            "Epoch 52/250\n",
            "178/178 [==============================] - 18s 99ms/step - loss: 1.6761 - mae: 0.7945 - val_loss: 8.3496 - val_mae: 2.0653\n",
            "Epoch 53/250\n",
            "178/178 [==============================] - 18s 98ms/step - loss: 1.4073 - mae: 0.7535 - val_loss: 7.5175 - val_mae: 1.9887\n",
            "Epoch 54/250\n",
            "178/178 [==============================] - 18s 99ms/step - loss: 1.4168 - mae: 0.7534 - val_loss: 10.0575 - val_mae: 2.2648\n",
            "Epoch 55/250\n",
            "178/178 [==============================] - 18s 98ms/step - loss: 1.1455 - mae: 0.6993 - val_loss: 5.3891 - val_mae: 1.7299\n",
            "Epoch 56/250\n",
            "178/178 [==============================] - 18s 99ms/step - loss: 0.9124 - mae: 0.6430 - val_loss: 6.7721 - val_mae: 1.9138\n",
            "Epoch 57/250\n",
            "178/178 [==============================] - 18s 99ms/step - loss: 0.9666 - mae: 0.6362 - val_loss: 6.8098 - val_mae: 1.9238\n",
            "Epoch 58/250\n",
            "178/178 [==============================] - 18s 99ms/step - loss: 0.7893 - mae: 0.6023 - val_loss: 6.6830 - val_mae: 1.9049\n",
            "Epoch 59/250\n",
            "178/178 [==============================] - 18s 99ms/step - loss: 0.7409 - mae: 0.5984 - val_loss: 6.5071 - val_mae: 1.8810\n",
            "Epoch 60/250\n",
            "178/178 [==============================] - 18s 98ms/step - loss: 0.8096 - mae: 0.5941 - val_loss: 6.0839 - val_mae: 1.8153\n",
            "Epoch 61/250\n",
            "178/178 [==============================] - 18s 98ms/step - loss: 0.7565 - mae: 0.5904 - val_loss: 6.6377 - val_mae: 1.8792\n",
            "Epoch 62/250\n",
            "178/178 [==============================] - 18s 98ms/step - loss: 0.7986 - mae: 0.6114 - val_loss: 6.3285 - val_mae: 1.8374\n",
            "Epoch 63/250\n",
            "178/178 [==============================] - 18s 98ms/step - loss: 0.8375 - mae: 0.6070 - val_loss: 6.6800 - val_mae: 1.8714\n",
            "Epoch 64/250\n",
            "178/178 [==============================] - 18s 98ms/step - loss: 0.6795 - mae: 0.5763 - val_loss: 5.9340 - val_mae: 1.7882\n",
            "Epoch 65/250\n",
            "178/178 [==============================] - 18s 98ms/step - loss: 0.6835 - mae: 0.5602 - val_loss: 6.1874 - val_mae: 1.8274\n",
            "Epoch 66/250\n",
            "178/178 [==============================] - 18s 98ms/step - loss: 0.7607 - mae: 0.5812 - val_loss: 5.4984 - val_mae: 1.7304\n",
            "Epoch 67/250\n",
            "178/178 [==============================] - 18s 98ms/step - loss: 0.6852 - mae: 0.5673 - val_loss: 6.3814 - val_mae: 1.8592\n",
            "Epoch 68/250\n",
            "178/178 [==============================] - 18s 98ms/step - loss: 0.7401 - mae: 0.5767 - val_loss: 6.1694 - val_mae: 1.8194\n",
            "Epoch 69/250\n",
            "178/178 [==============================] - 18s 98ms/step - loss: 0.6549 - mae: 0.5572 - val_loss: 5.7307 - val_mae: 1.7397\n",
            "Epoch 70/250\n",
            "178/178 [==============================] - 18s 98ms/step - loss: 0.7486 - mae: 0.5689 - val_loss: 6.1144 - val_mae: 1.7876\n",
            "Epoch 71/250\n",
            "178/178 [==============================] - 18s 99ms/step - loss: 0.8054 - mae: 0.6098 - val_loss: 7.6432 - val_mae: 2.0035\n",
            "Epoch 72/250\n",
            "178/178 [==============================] - 18s 99ms/step - loss: 0.8473 - mae: 0.6321 - val_loss: 7.5152 - val_mae: 1.9859\n",
            "Epoch 73/250\n",
            "178/178 [==============================] - 18s 99ms/step - loss: 0.7721 - mae: 0.5930 - val_loss: 5.9017 - val_mae: 1.7790\n",
            "Epoch 74/250\n",
            "178/178 [==============================] - 18s 98ms/step - loss: 0.6820 - mae: 0.5614 - val_loss: 5.8209 - val_mae: 1.7788\n",
            "Epoch 75/250\n",
            "178/178 [==============================] - 18s 98ms/step - loss: 0.7261 - mae: 0.5644 - val_loss: 6.2314 - val_mae: 1.8284\n",
            "Epoch 76/250\n",
            "178/178 [==============================] - 18s 98ms/step - loss: 0.7413 - mae: 0.5697 - val_loss: 6.1602 - val_mae: 1.8013\n",
            "Epoch 77/250\n",
            "178/178 [==============================] - 18s 98ms/step - loss: 0.6964 - mae: 0.5509 - val_loss: 5.3091 - val_mae: 1.7215\n",
            "Epoch 78/250\n",
            "178/178 [==============================] - 18s 99ms/step - loss: 0.7111 - mae: 0.5592 - val_loss: 5.7205 - val_mae: 1.7734\n",
            "Epoch 79/250\n",
            "178/178 [==============================] - 18s 99ms/step - loss: 0.6885 - mae: 0.5472 - val_loss: 6.2130 - val_mae: 1.8287\n",
            "Epoch 80/250\n",
            "178/178 [==============================] - 18s 99ms/step - loss: 0.8162 - mae: 0.5930 - val_loss: 5.7571 - val_mae: 1.7545\n",
            "Epoch 81/250\n",
            "178/178 [==============================] - 13s 72ms/step - loss: 0.6849 - mae: 0.5563 - val_loss: 6.0904 - val_mae: 1.8031\n",
            "Epoch 82/250\n",
            "178/178 [==============================] - 18s 98ms/step - loss: 0.7418 - mae: 0.5744 - val_loss: 6.6190 - val_mae: 1.9099\n",
            "Epoch 83/250\n",
            "178/178 [==============================] - 18s 98ms/step - loss: 0.8461 - mae: 0.6064 - val_loss: 5.4526 - val_mae: 1.7309\n",
            "Epoch 84/250\n",
            "178/178 [==============================] - 18s 98ms/step - loss: 0.9501 - mae: 0.6250 - val_loss: 7.8337 - val_mae: 2.0486\n",
            "Epoch 85/250\n",
            "178/178 [==============================] - 18s 98ms/step - loss: 1.0423 - mae: 0.6584 - val_loss: 5.8029 - val_mae: 1.7945\n",
            "Epoch 86/250\n",
            "178/178 [==============================] - 18s 99ms/step - loss: 0.9159 - mae: 0.6338 - val_loss: 4.6918 - val_mae: 1.6310\n",
            "Epoch 87/250\n",
            "178/178 [==============================] - 18s 99ms/step - loss: 0.7639 - mae: 0.6070 - val_loss: 5.3400 - val_mae: 1.7425\n",
            "Epoch 88/250\n",
            "178/178 [==============================] - 18s 98ms/step - loss: 0.6812 - mae: 0.5892 - val_loss: 6.1490 - val_mae: 1.8334\n",
            "Epoch 89/250\n",
            "178/178 [==============================] - 18s 99ms/step - loss: 0.6636 - mae: 0.5695 - val_loss: 5.9173 - val_mae: 1.7887\n",
            "Epoch 90/250\n",
            "178/178 [==============================] - 18s 98ms/step - loss: 0.6676 - mae: 0.5716 - val_loss: 6.5153 - val_mae: 1.8505\n",
            "Epoch 91/250\n",
            "178/178 [==============================] - 18s 98ms/step - loss: 0.6382 - mae: 0.5825 - val_loss: 6.7083 - val_mae: 1.9292\n",
            "Epoch 92/250\n",
            "178/178 [==============================] - 18s 98ms/step - loss: 0.7158 - mae: 0.5654 - val_loss: 5.6771 - val_mae: 1.7590\n",
            "Epoch 93/250\n",
            "178/178 [==============================] - 18s 98ms/step - loss: 0.7378 - mae: 0.5885 - val_loss: 7.4365 - val_mae: 1.9375\n",
            "Epoch 94/250\n",
            "178/178 [==============================] - 13s 71ms/step - loss: 0.6017 - mae: 0.5511 - val_loss: 8.1625 - val_mae: 2.0349\n",
            "Epoch 95/250\n",
            "178/178 [==============================] - 18s 99ms/step - loss: 0.6774 - mae: 0.5508 - val_loss: 7.4952 - val_mae: 1.9548\n",
            "Epoch 96/250\n",
            "178/178 [==============================] - 18s 98ms/step - loss: 0.5901 - mae: 0.5387 - val_loss: 6.5383 - val_mae: 1.8343\n",
            "Epoch 97/250\n",
            "178/178 [==============================] - 18s 99ms/step - loss: 0.8541 - mae: 0.6087 - val_loss: 7.6068 - val_mae: 1.9834\n",
            "Epoch 98/250\n",
            "178/178 [==============================] - 18s 99ms/step - loss: 0.7359 - mae: 0.5891 - val_loss: 5.3140 - val_mae: 1.6932\n",
            "Epoch 99/250\n",
            "178/178 [==============================] - 18s 100ms/step - loss: 0.7173 - mae: 0.5900 - val_loss: 5.1112 - val_mae: 1.6357\n",
            "Epoch 100/250\n",
            "178/178 [==============================] - 18s 98ms/step - loss: 0.6766 - mae: 0.5581 - val_loss: 4.6713 - val_mae: 1.5766\n",
            "Epoch 101/250\n",
            "178/178 [==============================] - 18s 99ms/step - loss: 0.6927 - mae: 0.5713 - val_loss: 4.9455 - val_mae: 1.6297\n",
            "Epoch 102/250\n",
            "178/178 [==============================] - 18s 98ms/step - loss: 0.6603 - mae: 0.5414 - val_loss: 5.0653 - val_mae: 1.6438\n",
            "Epoch 103/250\n",
            "178/178 [==============================] - 18s 98ms/step - loss: 0.7539 - mae: 0.5818 - val_loss: 6.2046 - val_mae: 1.7531\n",
            "Epoch 104/250\n",
            "178/178 [==============================] - 18s 98ms/step - loss: 0.5940 - mae: 0.5302 - val_loss: 6.2193 - val_mae: 1.7629\n",
            "Epoch 105/250\n",
            "178/178 [==============================] - 18s 98ms/step - loss: 0.7102 - mae: 0.5653 - val_loss: 6.0882 - val_mae: 1.7849\n",
            "Epoch 106/250\n",
            "178/178 [==============================] - 18s 98ms/step - loss: 0.6738 - mae: 0.5498 - val_loss: 6.0351 - val_mae: 1.7757\n",
            "Epoch 107/250\n",
            "178/178 [==============================] - 18s 98ms/step - loss: 0.7839 - mae: 0.6061 - val_loss: 4.6339 - val_mae: 1.6078\n",
            "Epoch 108/250\n",
            "178/178 [==============================] - 18s 99ms/step - loss: 0.7310 - mae: 0.6041 - val_loss: 5.4583 - val_mae: 1.7457\n",
            "Epoch 109/250\n",
            "178/178 [==============================] - 18s 99ms/step - loss: 0.7072 - mae: 0.5956 - val_loss: 5.6328 - val_mae: 1.7564\n",
            "Epoch 110/250\n",
            "178/178 [==============================] - 18s 98ms/step - loss: 0.7509 - mae: 0.6004 - val_loss: 4.9692 - val_mae: 1.6775\n",
            "Epoch 111/250\n",
            "178/178 [==============================] - 18s 99ms/step - loss: 0.7250 - mae: 0.6020 - val_loss: 5.9190 - val_mae: 1.8178\n",
            "Epoch 112/250\n",
            "178/178 [==============================] - 18s 98ms/step - loss: 0.8038 - mae: 0.6300 - val_loss: 9.7689 - val_mae: 2.3768\n",
            "Epoch 113/250\n",
            "178/178 [==============================] - 18s 98ms/step - loss: 0.7401 - mae: 0.6137 - val_loss: 6.6370 - val_mae: 1.9613\n",
            "Epoch 114/250\n",
            "178/178 [==============================] - 18s 98ms/step - loss: 0.7826 - mae: 0.6129 - val_loss: 6.8538 - val_mae: 1.9866\n",
            "Epoch 115/250\n",
            "178/178 [==============================] - 18s 100ms/step - loss: 0.6816 - mae: 0.5789 - val_loss: 6.6390 - val_mae: 1.9618\n",
            "Epoch 116/250\n",
            "178/178 [==============================] - 18s 98ms/step - loss: 0.7050 - mae: 0.5927 - val_loss: 5.4401 - val_mae: 1.7625\n",
            "Epoch 117/250\n",
            "178/178 [==============================] - 18s 98ms/step - loss: 0.6891 - mae: 0.5786 - val_loss: 6.2115 - val_mae: 1.8584\n",
            "Epoch 118/250\n",
            "178/178 [==============================] - 18s 99ms/step - loss: 0.5858 - mae: 0.5480 - val_loss: 6.1589 - val_mae: 1.8654\n",
            "Epoch 119/250\n",
            "178/178 [==============================] - 18s 100ms/step - loss: 0.5552 - mae: 0.5327 - val_loss: 4.7866 - val_mae: 1.6767\n",
            "Epoch 120/250\n",
            "178/178 [==============================] - 18s 98ms/step - loss: 0.5948 - mae: 0.5616 - val_loss: 5.1772 - val_mae: 1.7020\n",
            "Epoch 121/250\n",
            "178/178 [==============================] - 18s 98ms/step - loss: 0.5732 - mae: 0.5521 - val_loss: 4.9762 - val_mae: 1.6774\n",
            "Epoch 122/250\n",
            "178/178 [==============================] - 18s 99ms/step - loss: 0.5469 - mae: 0.5375 - val_loss: 4.8228 - val_mae: 1.6385\n",
            "Epoch 123/250\n",
            "178/178 [==============================] - 18s 98ms/step - loss: 0.5914 - mae: 0.5505 - val_loss: 5.7928 - val_mae: 1.7635\n",
            "Epoch 124/250\n",
            "178/178 [==============================] - 13s 71ms/step - loss: 0.6060 - mae: 0.5527 - val_loss: 5.2993 - val_mae: 1.6946\n",
            "Epoch 125/250\n",
            "178/178 [==============================] - 18s 99ms/step - loss: 0.5360 - mae: 0.5246 - val_loss: 5.3080 - val_mae: 1.7155\n",
            "Epoch 126/250\n",
            "178/178 [==============================] - 18s 99ms/step - loss: 0.5282 - mae: 0.5214 - val_loss: 6.1265 - val_mae: 1.8069\n",
            "Epoch 127/250\n",
            "178/178 [==============================] - 18s 99ms/step - loss: 0.5167 - mae: 0.5225 - val_loss: 5.4993 - val_mae: 1.7299\n",
            "Epoch 128/250\n",
            "178/178 [==============================] - 18s 99ms/step - loss: 0.6463 - mae: 0.5703 - val_loss: 5.2711 - val_mae: 1.7212\n",
            "Epoch 129/250\n",
            "178/178 [==============================] - 18s 99ms/step - loss: 0.7250 - mae: 0.5721 - val_loss: 5.7779 - val_mae: 1.7792\n",
            "Epoch 130/250\n",
            "178/178 [==============================] - 18s 99ms/step - loss: 0.7235 - mae: 0.5651 - val_loss: 5.2784 - val_mae: 1.6969\n",
            "Epoch 131/250\n",
            "178/178 [==============================] - 18s 100ms/step - loss: 0.6575 - mae: 0.5544 - val_loss: 5.1649 - val_mae: 1.7013\n",
            "Epoch 132/250\n",
            "178/178 [==============================] - 18s 100ms/step - loss: 0.6425 - mae: 0.5471 - val_loss: 5.4952 - val_mae: 1.7304\n",
            "Epoch 133/250\n",
            "178/178 [==============================] - 18s 100ms/step - loss: 0.6533 - mae: 0.5404 - val_loss: 5.4034 - val_mae: 1.7131\n",
            "Epoch 134/250\n",
            "178/178 [==============================] - 18s 99ms/step - loss: 0.6873 - mae: 0.5591 - val_loss: 5.8747 - val_mae: 1.7622\n",
            "Epoch 135/250\n",
            "178/178 [==============================] - 18s 99ms/step - loss: 0.7477 - mae: 0.5730 - val_loss: 6.4081 - val_mae: 1.8354\n",
            "Epoch 136/250\n",
            "178/178 [==============================] - 18s 100ms/step - loss: 0.6407 - mae: 0.5434 - val_loss: 5.1729 - val_mae: 1.6778\n",
            "Epoch 137/250\n",
            "178/178 [==============================] - 18s 99ms/step - loss: 0.6413 - mae: 0.5401 - val_loss: 6.0383 - val_mae: 1.7728\n",
            "Epoch 138/250\n",
            "178/178 [==============================] - 13s 71ms/step - loss: 0.6636 - mae: 0.5468 - val_loss: 5.2384 - val_mae: 1.6820\n",
            "Epoch 139/250\n",
            "178/178 [==============================] - 18s 99ms/step - loss: 0.6327 - mae: 0.5422 - val_loss: 5.8251 - val_mae: 1.7431\n",
            "Epoch 140/250\n",
            "178/178 [==============================] - 18s 99ms/step - loss: 0.6450 - mae: 0.5418 - val_loss: 12.8149 - val_mae: 2.6307\n",
            "Epoch 141/250\n",
            "178/178 [==============================] - 18s 99ms/step - loss: 0.8510 - mae: 0.5994 - val_loss: 5.4770 - val_mae: 1.7291\n",
            "Epoch 142/250\n",
            "178/178 [==============================] - 18s 99ms/step - loss: 0.6565 - mae: 0.5608 - val_loss: 4.9966 - val_mae: 1.6533\n",
            "Epoch 143/250\n",
            "178/178 [==============================] - 18s 99ms/step - loss: 0.6409 - mae: 0.5367 - val_loss: 5.3154 - val_mae: 1.7046\n",
            "Epoch 144/250\n",
            "178/178 [==============================] - 18s 98ms/step - loss: 0.5639 - mae: 0.5161 - val_loss: 5.0445 - val_mae: 1.6589\n",
            "Epoch 145/250\n",
            "178/178 [==============================] - 18s 98ms/step - loss: 0.6300 - mae: 0.5261 - val_loss: 5.3905 - val_mae: 1.7266\n",
            "Epoch 146/250\n",
            "178/178 [==============================] - 18s 99ms/step - loss: 0.5506 - mae: 0.5149 - val_loss: 4.7168 - val_mae: 1.5913\n",
            "Epoch 147/250\n",
            "178/178 [==============================] - 18s 100ms/step - loss: 0.6111 - mae: 0.5225 - val_loss: 5.6147 - val_mae: 1.7620\n",
            "Epoch 148/250\n",
            "178/178 [==============================] - 18s 100ms/step - loss: 0.6299 - mae: 0.5291 - val_loss: 5.6986 - val_mae: 1.7503\n",
            "Epoch 149/250\n",
            "178/178 [==============================] - 18s 100ms/step - loss: 0.5806 - mae: 0.5243 - val_loss: 6.8099 - val_mae: 1.8866\n",
            "Epoch 150/250\n",
            "178/178 [==============================] - 18s 99ms/step - loss: 0.9822 - mae: 0.5724 - val_loss: 5.8159 - val_mae: 1.7641\n",
            "Epoch 151/250\n",
            "178/178 [==============================] - 18s 99ms/step - loss: 0.7397 - mae: 0.5490 - val_loss: 6.3954 - val_mae: 1.8131\n",
            "Epoch 152/250\n",
            "178/178 [==============================] - 18s 99ms/step - loss: 0.6722 - mae: 0.5345 - val_loss: 6.0865 - val_mae: 1.7725\n",
            "Epoch 153/250\n",
            "178/178 [==============================] - 18s 98ms/step - loss: 0.7730 - mae: 0.5469 - val_loss: 5.3635 - val_mae: 1.6952\n",
            "Epoch 154/250\n",
            "178/178 [==============================] - 18s 99ms/step - loss: 0.8226 - mae: 0.5385 - val_loss: 4.8136 - val_mae: 1.6313\n",
            "Epoch 155/250\n",
            "178/178 [==============================] - 18s 100ms/step - loss: 0.7586 - mae: 0.5433 - val_loss: 5.4534 - val_mae: 1.7091\n",
            "Epoch 156/250\n",
            "178/178 [==============================] - 18s 100ms/step - loss: 0.6278 - mae: 0.5363 - val_loss: 5.0913 - val_mae: 1.6523\n",
            "Epoch 157/250\n",
            "178/178 [==============================] - 18s 99ms/step - loss: 0.5806 - mae: 0.5188 - val_loss: 5.2740 - val_mae: 1.6950\n",
            "Epoch 158/250\n",
            "178/178 [==============================] - 18s 99ms/step - loss: 0.4754 - mae: 0.4983 - val_loss: 5.4236 - val_mae: 1.7048\n",
            "Epoch 159/250\n",
            "178/178 [==============================] - 18s 98ms/step - loss: 0.5034 - mae: 0.5027 - val_loss: 4.1705 - val_mae: 1.5227\n",
            "Epoch 160/250\n",
            "178/178 [==============================] - 18s 98ms/step - loss: 0.5185 - mae: 0.4985 - val_loss: 3.8029 - val_mae: 1.4783\n",
            "Epoch 161/250\n",
            "178/178 [==============================] - 18s 100ms/step - loss: 0.6236 - mae: 0.5206 - val_loss: 4.7921 - val_mae: 1.6377\n",
            "Epoch 162/250\n",
            "178/178 [==============================] - 18s 99ms/step - loss: 0.5892 - mae: 0.5218 - val_loss: 4.6211 - val_mae: 1.5713\n",
            "Epoch 163/250\n",
            "178/178 [==============================] - 18s 99ms/step - loss: 0.5083 - mae: 0.4858 - val_loss: 5.4067 - val_mae: 1.6805\n",
            "Epoch 164/250\n",
            "178/178 [==============================] - 18s 100ms/step - loss: 0.5726 - mae: 0.5107 - val_loss: 6.0702 - val_mae: 1.7799\n",
            "Epoch 165/250\n",
            "178/178 [==============================] - 18s 99ms/step - loss: 0.5153 - mae: 0.5068 - val_loss: 4.8849 - val_mae: 1.5990\n",
            "Epoch 166/250\n",
            "178/178 [==============================] - 18s 99ms/step - loss: 0.6488 - mae: 0.5285 - val_loss: 4.6080 - val_mae: 1.5698\n",
            "Epoch 167/250\n",
            "178/178 [==============================] - 18s 99ms/step - loss: 0.5979 - mae: 0.5158 - val_loss: 5.3005 - val_mae: 1.6705\n",
            "Epoch 168/250\n",
            "178/178 [==============================] - 18s 98ms/step - loss: 0.5982 - mae: 0.5249 - val_loss: 5.1349 - val_mae: 1.6475\n",
            "Epoch 169/250\n",
            "178/178 [==============================] - 18s 100ms/step - loss: 0.6450 - mae: 0.5409 - val_loss: 5.6700 - val_mae: 1.7369\n",
            "Epoch 170/250\n",
            "178/178 [==============================] - 18s 99ms/step - loss: 0.5759 - mae: 0.5291 - val_loss: 4.7791 - val_mae: 1.6137\n",
            "Epoch 171/250\n",
            "178/178 [==============================] - 18s 99ms/step - loss: 0.5494 - mae: 0.5134 - val_loss: 5.1263 - val_mae: 1.6556\n",
            "Epoch 172/250\n",
            "178/178 [==============================] - 18s 99ms/step - loss: 0.5722 - mae: 0.5116 - val_loss: 4.8351 - val_mae: 1.6118\n",
            "Epoch 173/250\n",
            "178/178 [==============================] - 18s 100ms/step - loss: 0.5242 - mae: 0.4993 - val_loss: 5.4539 - val_mae: 1.7101\n",
            "Epoch 174/250\n",
            "178/178 [==============================] - 18s 99ms/step - loss: 0.5188 - mae: 0.4977 - val_loss: 4.7453 - val_mae: 1.6061\n",
            "Epoch 175/250\n",
            "178/178 [==============================] - 18s 100ms/step - loss: 0.5661 - mae: 0.5178 - val_loss: 4.7072 - val_mae: 1.6268\n",
            "Epoch 176/250\n",
            "178/178 [==============================] - 18s 99ms/step - loss: 0.7417 - mae: 0.5560 - val_loss: 4.7760 - val_mae: 1.6532\n",
            "Epoch 177/250\n",
            "178/178 [==============================] - 18s 98ms/step - loss: 0.6204 - mae: 0.5320 - val_loss: 5.0438 - val_mae: 1.6702\n",
            "Epoch 178/250\n",
            "178/178 [==============================] - 18s 100ms/step - loss: 0.6320 - mae: 0.5306 - val_loss: 5.5288 - val_mae: 1.7003\n",
            "Epoch 179/250\n",
            "178/178 [==============================] - 18s 100ms/step - loss: 0.6234 - mae: 0.5109 - val_loss: 5.6132 - val_mae: 1.7424\n",
            "Epoch 180/250\n",
            "178/178 [==============================] - 18s 100ms/step - loss: 0.7088 - mae: 0.5478 - val_loss: 5.6286 - val_mae: 1.7624\n",
            "Epoch 181/250\n",
            "178/178 [==============================] - 18s 100ms/step - loss: 0.6654 - mae: 0.5253 - val_loss: 4.7240 - val_mae: 1.6198\n",
            "Epoch 182/250\n",
            "178/178 [==============================] - 18s 100ms/step - loss: 0.6812 - mae: 0.5250 - val_loss: 5.0412 - val_mae: 1.6763\n",
            "Epoch 183/250\n",
            "178/178 [==============================] - 18s 99ms/step - loss: 0.5886 - mae: 0.5213 - val_loss: 5.4527 - val_mae: 1.7324\n",
            "Epoch 184/250\n",
            "178/178 [==============================] - 18s 100ms/step - loss: 0.6462 - mae: 0.5185 - val_loss: 5.3934 - val_mae: 1.7272\n",
            "Epoch 185/250\n",
            "178/178 [==============================] - 18s 99ms/step - loss: 0.5523 - mae: 0.5002 - val_loss: 5.9410 - val_mae: 1.8180\n",
            "Epoch 186/250\n",
            "178/178 [==============================] - 18s 99ms/step - loss: 0.5625 - mae: 0.4862 - val_loss: 5.3792 - val_mae: 1.7232\n",
            "Epoch 187/250\n",
            "178/178 [==============================] - 18s 99ms/step - loss: 0.5351 - mae: 0.4846 - val_loss: 4.6514 - val_mae: 1.6136\n",
            "Epoch 188/250\n",
            "178/178 [==============================] - 18s 99ms/step - loss: 0.5669 - mae: 0.4869 - val_loss: 5.7662 - val_mae: 1.7575\n",
            "Epoch 189/250\n",
            "178/178 [==============================] - 18s 100ms/step - loss: 0.5353 - mae: 0.4909 - val_loss: 6.0671 - val_mae: 1.7924\n",
            "Epoch 190/250\n",
            "178/178 [==============================] - 18s 101ms/step - loss: 0.5528 - mae: 0.4877 - val_loss: 5.5789 - val_mae: 1.7502\n",
            "Epoch 191/250\n",
            "178/178 [==============================] - 18s 100ms/step - loss: 0.5071 - mae: 0.4881 - val_loss: 5.5308 - val_mae: 1.7425\n",
            "Epoch 192/250\n",
            "178/178 [==============================] - 18s 99ms/step - loss: 0.5539 - mae: 0.5016 - val_loss: 5.2131 - val_mae: 1.6672\n",
            "Epoch 193/250\n",
            "178/178 [==============================] - 18s 99ms/step - loss: 0.4867 - mae: 0.4953 - val_loss: 5.0926 - val_mae: 1.6623\n",
            "Epoch 194/250\n",
            "178/178 [==============================] - 18s 100ms/step - loss: 0.5253 - mae: 0.4933 - val_loss: 5.6024 - val_mae: 1.7332\n",
            "Epoch 195/250\n",
            "178/178 [==============================] - 18s 99ms/step - loss: 0.4871 - mae: 0.4987 - val_loss: 4.9023 - val_mae: 1.6406\n",
            "Epoch 196/250\n",
            "178/178 [==============================] - 18s 100ms/step - loss: 0.5052 - mae: 0.4936 - val_loss: 9.3038 - val_mae: 2.1509\n",
            "Epoch 197/250\n",
            "178/178 [==============================] - 18s 100ms/step - loss: 0.5522 - mae: 0.4910 - val_loss: 7.2639 - val_mae: 1.8961\n",
            "Epoch 198/250\n",
            "178/178 [==============================] - 18s 100ms/step - loss: 0.5317 - mae: 0.4784 - val_loss: 5.8515 - val_mae: 1.7404\n",
            "Epoch 199/250\n",
            "178/178 [==============================] - 18s 100ms/step - loss: 0.4787 - mae: 0.4774 - val_loss: 8.0376 - val_mae: 1.9574\n",
            "Epoch 200/250\n",
            "178/178 [==============================] - 18s 100ms/step - loss: 0.5206 - mae: 0.4852 - val_loss: 5.9355 - val_mae: 1.7895\n",
            "Epoch 201/250\n",
            "178/178 [==============================] - 18s 99ms/step - loss: 0.5015 - mae: 0.4849 - val_loss: 5.7371 - val_mae: 1.7528\n",
            "Epoch 202/250\n",
            "178/178 [==============================] - 18s 100ms/step - loss: 0.5139 - mae: 0.4836 - val_loss: 5.8718 - val_mae: 1.7602\n",
            "Epoch 203/250\n",
            "178/178 [==============================] - 18s 99ms/step - loss: 0.5073 - mae: 0.4921 - val_loss: 3.8539 - val_mae: 1.4958\n",
            "Epoch 204/250\n",
            "178/178 [==============================] - 18s 100ms/step - loss: 0.5719 - mae: 0.5197 - val_loss: 5.3635 - val_mae: 1.6148\n",
            "Epoch 205/250\n",
            "178/178 [==============================] - 18s 100ms/step - loss: 0.6778 - mae: 0.5316 - val_loss: 4.6024 - val_mae: 1.6073\n",
            "Epoch 206/250\n",
            "178/178 [==============================] - 18s 100ms/step - loss: 0.5731 - mae: 0.5037 - val_loss: 7.9806 - val_mae: 1.8432\n",
            "Epoch 207/250\n",
            "178/178 [==============================] - 18s 99ms/step - loss: 0.6336 - mae: 0.5521 - val_loss: 5.4540 - val_mae: 1.6759\n",
            "Epoch 208/250\n",
            "178/178 [==============================] - 18s 99ms/step - loss: 0.8270 - mae: 0.6375 - val_loss: 4.3007 - val_mae: 1.5186\n",
            "Epoch 209/250\n",
            "178/178 [==============================] - 18s 100ms/step - loss: 0.7216 - mae: 0.5679 - val_loss: 4.3709 - val_mae: 1.5508\n",
            "Epoch 210/250\n",
            "178/178 [==============================] - 18s 99ms/step - loss: 0.7322 - mae: 0.5782 - val_loss: 4.7228 - val_mae: 1.5940\n",
            "Epoch 211/250\n",
            "178/178 [==============================] - 18s 100ms/step - loss: 0.8271 - mae: 0.6027 - val_loss: 4.4504 - val_mae: 1.5636\n",
            "Epoch 212/250\n",
            "178/178 [==============================] - 18s 99ms/step - loss: 0.7998 - mae: 0.5938 - val_loss: 4.2634 - val_mae: 1.5511\n",
            "Epoch 213/250\n",
            "178/178 [==============================] - 18s 99ms/step - loss: 0.7134 - mae: 0.5834 - val_loss: 4.4185 - val_mae: 1.5769\n",
            "Epoch 214/250\n",
            "178/178 [==============================] - 18s 99ms/step - loss: 0.6065 - mae: 0.5493 - val_loss: 4.5837 - val_mae: 1.5936\n",
            "Epoch 215/250\n",
            "178/178 [==============================] - 18s 100ms/step - loss: 0.6462 - mae: 0.5577 - val_loss: 4.9255 - val_mae: 1.6576\n",
            "Epoch 216/250\n",
            "178/178 [==============================] - 18s 99ms/step - loss: 0.5704 - mae: 0.5295 - val_loss: 4.8155 - val_mae: 1.6548\n",
            "Epoch 217/250\n",
            "178/178 [==============================] - 18s 100ms/step - loss: 0.5801 - mae: 0.5212 - val_loss: 5.4091 - val_mae: 1.7051\n",
            "Epoch 218/250\n",
            "178/178 [==============================] - 18s 100ms/step - loss: 0.5414 - mae: 0.5255 - val_loss: 4.5419 - val_mae: 1.6397\n",
            "Epoch 219/250\n",
            "178/178 [==============================] - 18s 100ms/step - loss: 0.5678 - mae: 0.5292 - val_loss: 6.1427 - val_mae: 1.8515\n",
            "Epoch 220/250\n",
            "178/178 [==============================] - 18s 99ms/step - loss: 0.6026 - mae: 0.5358 - val_loss: 5.0063 - val_mae: 1.7139\n",
            "Epoch 221/250\n",
            "178/178 [==============================] - 18s 100ms/step - loss: 0.5680 - mae: 0.5287 - val_loss: 4.5139 - val_mae: 1.6351\n",
            "Epoch 222/250\n",
            "178/178 [==============================] - 18s 99ms/step - loss: 0.5313 - mae: 0.5190 - val_loss: 4.4954 - val_mae: 1.6122\n",
            "Epoch 223/250\n",
            "178/178 [==============================] - 18s 100ms/step - loss: 0.5179 - mae: 0.5016 - val_loss: 4.7320 - val_mae: 1.6571\n",
            "Epoch 224/250\n",
            "178/178 [==============================] - 18s 101ms/step - loss: 0.5219 - mae: 0.5120 - val_loss: 4.6526 - val_mae: 1.6337\n",
            "Epoch 225/250\n",
            "178/178 [==============================] - 18s 100ms/step - loss: 0.4961 - mae: 0.5123 - val_loss: 4.6468 - val_mae: 1.6180\n",
            "Epoch 226/250\n",
            "178/178 [==============================] - 18s 100ms/step - loss: 0.5711 - mae: 0.5345 - val_loss: 5.7211 - val_mae: 1.6979\n",
            "Epoch 227/250\n",
            "178/178 [==============================] - 18s 100ms/step - loss: 0.9420 - mae: 0.6563 - val_loss: 4.6730 - val_mae: 1.5627\n",
            "Epoch 228/250\n",
            "178/178 [==============================] - 18s 99ms/step - loss: 0.7654 - mae: 0.5723 - val_loss: 5.1004 - val_mae: 1.6819\n",
            "Epoch 229/250\n",
            "178/178 [==============================] - 18s 99ms/step - loss: 0.6652 - mae: 0.5642 - val_loss: 14.8025 - val_mae: 2.2700\n",
            "Epoch 230/250\n",
            "178/178 [==============================] - 18s 100ms/step - loss: 0.6849 - mae: 0.5512 - val_loss: 4.8319 - val_mae: 1.6388\n",
            "Epoch 231/250\n",
            "178/178 [==============================] - 18s 99ms/step - loss: 0.7748 - mae: 0.5564 - val_loss: 4.8249 - val_mae: 1.6369\n",
            "Epoch 232/250\n",
            "178/178 [==============================] - 18s 99ms/step - loss: 0.6423 - mae: 0.5200 - val_loss: 4.7057 - val_mae: 1.6395\n",
            "Epoch 233/250\n",
            "178/178 [==============================] - 18s 98ms/step - loss: 0.6711 - mae: 0.5164 - val_loss: 4.7645 - val_mae: 1.6300\n",
            "Epoch 234/250\n",
            "178/178 [==============================] - 18s 99ms/step - loss: 0.6268 - mae: 0.5072 - val_loss: 4.7749 - val_mae: 1.6508\n",
            "Epoch 235/250\n",
            "178/178 [==============================] - 18s 100ms/step - loss: 0.5782 - mae: 0.5160 - val_loss: 5.4567 - val_mae: 1.8029\n",
            "Epoch 236/250\n",
            "178/178 [==============================] - 18s 98ms/step - loss: 0.5274 - mae: 0.5202 - val_loss: 5.8309 - val_mae: 1.8573\n",
            "Epoch 237/250\n",
            "178/178 [==============================] - 18s 99ms/step - loss: 0.6647 - mae: 0.5203 - val_loss: 5.1593 - val_mae: 1.7551\n",
            "Epoch 238/250\n",
            "178/178 [==============================] - 18s 99ms/step - loss: 0.4900 - mae: 0.5018 - val_loss: 5.6390 - val_mae: 1.8168\n",
            "Epoch 239/250\n",
            "178/178 [==============================] - 18s 98ms/step - loss: 0.5113 - mae: 0.5248 - val_loss: 5.0240 - val_mae: 1.7180\n",
            "Epoch 240/250\n",
            "178/178 [==============================] - 18s 100ms/step - loss: 0.5815 - mae: 0.5014 - val_loss: 5.0424 - val_mae: 1.7249\n",
            "Epoch 241/250\n",
            "178/178 [==============================] - 18s 99ms/step - loss: 0.5558 - mae: 0.5092 - val_loss: 4.7771 - val_mae: 1.6657\n",
            "Epoch 242/250\n",
            "178/178 [==============================] - 18s 99ms/step - loss: 0.6564 - mae: 0.5103 - val_loss: 4.9586 - val_mae: 1.7025\n",
            "Epoch 243/250\n",
            "178/178 [==============================] - 18s 100ms/step - loss: 0.5557 - mae: 0.5079 - val_loss: 5.2357 - val_mae: 1.7397\n",
            "Epoch 244/250\n",
            "178/178 [==============================] - 18s 99ms/step - loss: 0.6186 - mae: 0.5033 - val_loss: 5.2530 - val_mae: 1.7413\n",
            "Epoch 245/250\n",
            "178/178 [==============================] - 18s 98ms/step - loss: 0.4846 - mae: 0.4986 - val_loss: 7.7364 - val_mae: 2.1068\n",
            "Epoch 246/250\n",
            "178/178 [==============================] - 18s 99ms/step - loss: 0.5618 - mae: 0.5266 - val_loss: 6.8704 - val_mae: 1.9186\n",
            "Epoch 247/250\n",
            "178/178 [==============================] - 18s 99ms/step - loss: 0.4964 - mae: 0.5000 - val_loss: 5.7954 - val_mae: 1.7898\n",
            "Epoch 248/250\n",
            "178/178 [==============================] - 18s 98ms/step - loss: 0.5045 - mae: 0.4875 - val_loss: 5.5854 - val_mae: 1.7793\n",
            "Epoch 249/250\n",
            "178/178 [==============================] - 18s 99ms/step - loss: 0.4598 - mae: 0.4850 - val_loss: 5.2626 - val_mae: 1.7214\n",
            "Epoch 250/250\n",
            "178/178 [==============================] - 18s 99ms/step - loss: 0.4237 - mae: 0.4722 - val_loss: 5.1032 - val_mae: 1.7121\n"
          ]
        }
      ]
    },
    {
      "cell_type": "code",
      "source": [
        "loss = history.history['loss']\n",
        "val_loss = history.history['val_loss']\n",
        "mae = history.history['mae']\n",
        "val_mae = history.history['val_mae']\n",
        "\n",
        "\n",
        "epochs_x = range(len(loss))\n",
        "\n",
        "\n",
        "plt.plot(epochs_x, mae, 'o', color ='darkviolet', label='Training MAE')\n",
        "plt.plot(epochs_x, val_mae, 'k', label='Validation MAE')\n",
        "plt.title('Training and validation MeanAbsoluteError')\n",
        "plt.legend()\n",
        "\n",
        "plt.figure()\n",
        "plt.plot(epochs_x, loss, 'o', color ='darkviolet', label='Training loss')\n",
        "plt.plot(epochs_x, val_loss, 'k', label='Validation loss')\n",
        "plt.title('Training and validation loss')\n",
        "plt.legend()\n",
        "\n",
        "plt.show()"
      ],
      "metadata": {
        "id": "Y3K89-CM-dfg",
        "colab": {
          "base_uri": "https://localhost:8080/",
          "height": 887
        },
        "outputId": "fd120ea1-8ac8-4876-c93c-aacd6c983c71"
      },
      "execution_count": 19,
      "outputs": [
        {
          "output_type": "display_data",
          "data": {
            "text/plain": [
              "<Figure size 640x480 with 1 Axes>"
            ],
            "image/png": "[encoded data removed]"
          },
          "metadata": {}
        },
        {
          "output_type": "display_data",
          "data": {
            "text/plain": [
              "<Figure size 640x480 with 1 Axes>"
            ],
            "image/png": "[encoded data removed]"
          },
          "metadata": {}
        }
      ]
    },
    {
      "cell_type": "code",
      "source": [],
      "metadata": {
        "id": "sI5JVEwwQsjc"
      },
      "execution_count": 19,
      "outputs": []
    },
    {
      "cell_type": "code",
      "source": [
        "epochs_x"
      ],
      "metadata": {
        "id": "N_sP_ZmSY-Jv",
        "colab": {
          "base_uri": "https://localhost:8080/"
        },
        "outputId": "5645a5ba-f634-4165-b2da-ccf92366f0a8"
      },
      "execution_count": 20,
      "outputs": [
        {
          "output_type": "execute_result",
          "data": {
            "text/plain": [
              "range(0, 250)"
            ]
          },
          "metadata": {},
          "execution_count": 20
        }
      ]
    },
    {
      "cell_type": "markdown",
      "source": [
        "#Download the model\n"
      ],
      "metadata": {
        "id": "R19IJQSYoW7J"
      }
    },
    {
      "cell_type": "code",
      "source": [
        "os.makedirs('/content/drive/My Drive/cut_panoramic/Model', exist_ok=True)\n",
        "model.save('/content/drive/MyDrive/cut_panoramic/Model/Regression/All/10Re_All_1G_1e-4_16_0.2_250_New_Unfreez.h5')"
      ],
      "metadata": {
        "id": "Zed4TdFcG2iJ"
      },
      "execution_count": 21,
      "outputs": []
    },
    {
      "cell_type": "markdown",
      "source": [],
      "metadata": {
        "id": "n5YxZ-5QjQ0-"
      }
    },
    {
      "cell_type": "code",
      "source": [
        "# from google.colab import files\n",
        "# files.download('/content/drive/My Drive/cut_panoramic/Model/1.1_รอบแรก_Flimpano_Male125_250.h5')"
      ],
      "metadata": {
        "id": "P5eMxm1NV-oY"
      },
      "execution_count": 22,
      "outputs": []
    },
    {
      "cell_type": "code",
      "source": [
        "\n"
      ],
      "metadata": {
        "id": "wY_pDlxkRwxS"
      },
      "execution_count": 22,
      "outputs": []
    }
  ]
}