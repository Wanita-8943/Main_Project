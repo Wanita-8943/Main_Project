{
  "cells": [
    {
      "cell_type": "markdown",
      "metadata": {
        "id": "view-in-github",
        "colab_type": "text"
      },
      "source": [
        "<a href=\"https://colab.research.google.com/github/Wanita-8943/Main_Project/blob/main/AC3_AllAge_Unfreeze_250.ipynb\" target=\"_parent\"><img src=\"https://colab.research.google.com/assets/colab-badge.svg\" alt=\"Open In Colab\"/></a>"
      ]
    },
    {
      "cell_type": "markdown",
      "metadata": {
        "id": "ow7eWoNw6U-c"
      },
      "source": [
        "#เรียกใช้ CSV"
      ]
    },
    {
      "cell_type": "code",
      "execution_count": 1,
      "metadata": {
        "id": "z8o_VVNXzcL8"
      },
      "outputs": [],
      "source": [
        "import pandas as pd\n",
        "import shutil"
      ]
    },
    {
      "cell_type": "code",
      "execution_count": 2,
      "metadata": {
        "id": "1_2Fe8u81d5r",
        "colab": {
          "base_uri": "https://localhost:8080/"
        },
        "outputId": "d6ffd814-d7b0-4708-989f-4498e34251e1"
      },
      "outputs": [
        {
          "output_type": "stream",
          "name": "stdout",
          "text": [
            "Mounted at /content/drive\n"
          ]
        }
      ],
      "source": [
        "from google.colab import drive\n",
        "drive.mount('/content/drive')"
      ]
    },
    {
      "cell_type": "code",
      "execution_count": 3,
      "metadata": {
        "id": "mbLFqTO1ze9O",
        "colab": {
          "base_uri": "https://localhost:8080/",
          "height": 424
        },
        "outputId": "e97846e9-97e2-4a99-b0b0-e3fcbc5f7af8"
      },
      "outputs": [
        {
          "output_type": "execute_result",
          "data": {
            "text/plain": [
              "      Fig_Age  Fig_Person_Sex  Age(year) Class  Class_Re       Filename  \\\n",
              "0           1               1          7   Y07         0         V1.jpg   \n",
              "1           2               1          7   Y07         0    Flip_V1.jpg   \n",
              "2           3               2          7   Y07         0         V2.jpg   \n",
              "3           4               2          7   Y07         0    Flip_V2.jpg   \n",
              "4           5               3          7   Y07         0         V3.jpg   \n",
              "...       ...             ...        ...   ...       ...            ...   \n",
              "4745      121              77         25   Y25        18  Flip_J463.jpg   \n",
              "4746      122              78         25   Y25        18       J464.jpg   \n",
              "4747      123              78         25   Y25        18  Flip_J464.jpg   \n",
              "4748      124              79         25   Y25        18       J465.jpg   \n",
              "4749      125              79         25   Y25        18  Flip_J465.jpg   \n",
              "\n",
              "                                          Path_filename     Sex Floder  \n",
              "0     /content/drive/My Drive/TVT_All_Age/train/Y07/...  Female   Both  \n",
              "1     /content/drive/My Drive/TVT_All_Age/train/Y07/...  Female   Both  \n",
              "2     /content/drive/My Drive/TVT_All_Age/train/Y07/...  Female   Both  \n",
              "3     /content/drive/My Drive/TVT_All_Age/train/Y07/...  Female   Both  \n",
              "4     /content/drive/My Drive/TVT_All_Age/train/Y07/...  Female   Both  \n",
              "...                                                 ...     ...    ...  \n",
              "4745  /content/drive/My Drive/TVT_All_Age/test/Y25/F...    Male   Both  \n",
              "4746  /content/drive/My Drive/TVT_All_Age/test/Y25/J...    Male   Both  \n",
              "4747  /content/drive/My Drive/TVT_All_Age/test/Y25/F...    Male   Both  \n",
              "4748  /content/drive/My Drive/TVT_All_Age/test/Y25/J...    Male   Both  \n",
              "4749  /content/drive/My Drive/TVT_All_Age/test/Y25/F...    Male   Both  \n",
              "\n",
              "[4750 rows x 9 columns]"
            ],
            "text/html": [
              "\n",
              "  <div id=\"df-15d1b0ee-e0dd-465b-aeaf-056d9aff8e05\">\n",
              "    <div class=\"colab-df-container\">\n",
              "      <div>\n",
              "<style scoped>\n",
              "    .dataframe tbody tr th:only-of-type {\n",
              "        vertical-align: middle;\n",
              "    }\n",
              "\n",
              "    .dataframe tbody tr th {\n",
              "        vertical-align: top;\n",
              "    }\n",
              "\n",
              "    .dataframe thead th {\n",
              "        text-align: right;\n",
              "    }\n",
              "</style>\n",
              "<table border=\"1\" class=\"dataframe\">\n",
              "  <thead>\n",
              "    <tr style=\"text-align: right;\">\n",
              "      <th></th>\n",
              "      <th>Fig_Age</th>\n",
              "      <th>Fig_Person_Sex</th>\n",
              "      <th>Age(year)</th>\n",
              "      <th>Class</th>\n",
              "      <th>Class_Re</th>\n",
              "      <th>Filename</th>\n",
              "      <th>Path_filename</th>\n",
              "      <th>Sex</th>\n",
              "      <th>Floder</th>\n",
              "    </tr>\n",
              "  </thead>\n",
              "  <tbody>\n",
              "    <tr>\n",
              "      <th>0</th>\n",
              "      <td>1</td>\n",
              "      <td>1</td>\n",
              "      <td>7</td>\n",
              "      <td>Y07</td>\n",
              "      <td>0</td>\n",
              "      <td>V1.jpg</td>\n",
              "      <td>/content/drive/My Drive/TVT_All_Age/train/Y07/...</td>\n",
              "      <td>Female</td>\n",
              "      <td>Both</td>\n",
              "    </tr>\n",
              "    <tr>\n",
              "      <th>1</th>\n",
              "      <td>2</td>\n",
              "      <td>1</td>\n",
              "      <td>7</td>\n",
              "      <td>Y07</td>\n",
              "      <td>0</td>\n",
              "      <td>Flip_V1.jpg</td>\n",
              "      <td>/content/drive/My Drive/TVT_All_Age/train/Y07/...</td>\n",
              "      <td>Female</td>\n",
              "      <td>Both</td>\n",
              "    </tr>\n",
              "    <tr>\n",
              "      <th>2</th>\n",
              "      <td>3</td>\n",
              "      <td>2</td>\n",
              "      <td>7</td>\n",
              "      <td>Y07</td>\n",
              "      <td>0</td>\n",
              "      <td>V2.jpg</td>\n",
              "      <td>/content/drive/My Drive/TVT_All_Age/train/Y07/...</td>\n",
              "      <td>Female</td>\n",
              "      <td>Both</td>\n",
              "    </tr>\n",
              "    <tr>\n",
              "      <th>3</th>\n",
              "      <td>4</td>\n",
              "      <td>2</td>\n",
              "      <td>7</td>\n",
              "      <td>Y07</td>\n",
              "      <td>0</td>\n",
              "      <td>Flip_V2.jpg</td>\n",
              "      <td>/content/drive/My Drive/TVT_All_Age/train/Y07/...</td>\n",
              "      <td>Female</td>\n",
              "      <td>Both</td>\n",
              "    </tr>\n",
              "    <tr>\n",
              "      <th>4</th>\n",
              "      <td>5</td>\n",
              "      <td>3</td>\n",
              "      <td>7</td>\n",
              "      <td>Y07</td>\n",
              "      <td>0</td>\n",
              "      <td>V3.jpg</td>\n",
              "      <td>/content/drive/My Drive/TVT_All_Age/train/Y07/...</td>\n",
              "      <td>Female</td>\n",
              "      <td>Both</td>\n",
              "    </tr>\n",
              "    <tr>\n",
              "      <th>...</th>\n",
              "      <td>...</td>\n",
              "      <td>...</td>\n",
              "      <td>...</td>\n",
              "      <td>...</td>\n",
              "      <td>...</td>\n",
              "      <td>...</td>\n",
              "      <td>...</td>\n",
              "      <td>...</td>\n",
              "      <td>...</td>\n",
              "    </tr>\n",
              "    <tr>\n",
              "      <th>4745</th>\n",
              "      <td>121</td>\n",
              "      <td>77</td>\n",
              "      <td>25</td>\n",
              "      <td>Y25</td>\n",
              "      <td>18</td>\n",
              "      <td>Flip_J463.jpg</td>\n",
              "      <td>/content/drive/My Drive/TVT_All_Age/test/Y25/F...</td>\n",
              "      <td>Male</td>\n",
              "      <td>Both</td>\n",
              "    </tr>\n",
              "    <tr>\n",
              "      <th>4746</th>\n",
              "      <td>122</td>\n",
              "      <td>78</td>\n",
              "      <td>25</td>\n",
              "      <td>Y25</td>\n",
              "      <td>18</td>\n",
              "      <td>J464.jpg</td>\n",
              "      <td>/content/drive/My Drive/TVT_All_Age/test/Y25/J...</td>\n",
              "      <td>Male</td>\n",
              "      <td>Both</td>\n",
              "    </tr>\n",
              "    <tr>\n",
              "      <th>4747</th>\n",
              "      <td>123</td>\n",
              "      <td>78</td>\n",
              "      <td>25</td>\n",
              "      <td>Y25</td>\n",
              "      <td>18</td>\n",
              "      <td>Flip_J464.jpg</td>\n",
              "      <td>/content/drive/My Drive/TVT_All_Age/test/Y25/F...</td>\n",
              "      <td>Male</td>\n",
              "      <td>Both</td>\n",
              "    </tr>\n",
              "    <tr>\n",
              "      <th>4748</th>\n",
              "      <td>124</td>\n",
              "      <td>79</td>\n",
              "      <td>25</td>\n",
              "      <td>Y25</td>\n",
              "      <td>18</td>\n",
              "      <td>J465.jpg</td>\n",
              "      <td>/content/drive/My Drive/TVT_All_Age/test/Y25/J...</td>\n",
              "      <td>Male</td>\n",
              "      <td>Both</td>\n",
              "    </tr>\n",
              "    <tr>\n",
              "      <th>4749</th>\n",
              "      <td>125</td>\n",
              "      <td>79</td>\n",
              "      <td>25</td>\n",
              "      <td>Y25</td>\n",
              "      <td>18</td>\n",
              "      <td>Flip_J465.jpg</td>\n",
              "      <td>/content/drive/My Drive/TVT_All_Age/test/Y25/F...</td>\n",
              "      <td>Male</td>\n",
              "      <td>Both</td>\n",
              "    </tr>\n",
              "  </tbody>\n",
              "</table>\n",
              "<p>4750 rows × 9 columns</p>\n",
              "</div>\n",
              "      <button class=\"colab-df-convert\" onclick=\"convertToInteractive('df-15d1b0ee-e0dd-465b-aeaf-056d9aff8e05')\"\n",
              "              title=\"Convert this dataframe to an interactive table.\"\n",
              "              style=\"display:none;\">\n",
              "        \n",
              "  <svg xmlns=\"http://www.w3.org/2000/svg\" height=\"24px\"viewBox=\"0 0 24 24\"\n",
              "       width=\"24px\">\n",
              "    <path d=\"M0 0h24v24H0V0z\" fill=\"none\"/>\n",
              "    <path d=\"M18.56 5.44l.94 2.06.94-2.06 2.06-.94-2.06-.94-.94-2.06-.94 2.06-2.06.94zm-11 1L8.5 8.5l.94-2.06 2.06-.94-2.06-.94L8.5 2.5l-.94 2.06-2.06.94zm10 10l.94 2.06.94-2.06 2.06-.94-2.06-.94-.94-2.06-.94 2.06-2.06.94z\"/><path d=\"M17.41 7.96l-1.37-1.37c-.4-.4-.92-.59-1.43-.59-.52 0-1.04.2-1.43.59L10.3 9.45l-7.72 7.72c-.78.78-.78 2.05 0 2.83L4 21.41c.39.39.9.59 1.41.59.51 0 1.02-.2 1.41-.59l7.78-7.78 2.81-2.81c.8-.78.8-2.07 0-2.86zM5.41 20L4 18.59l7.72-7.72 1.47 1.35L5.41 20z\"/>\n",
              "  </svg>\n",
              "      </button>\n",
              "      \n",
              "  <style>\n",
              "    .colab-df-container {\n",
              "      display:flex;\n",
              "      flex-wrap:wrap;\n",
              "      gap: 12px;\n",
              "    }\n",
              "\n",
              "    .colab-df-convert {\n",
              "      background-color: #E8F0FE;\n",
              "      border: none;\n",
              "      border-radius: 50%;\n",
              "      cursor: pointer;\n",
              "      display: none;\n",
              "      fill: #1967D2;\n",
              "      height: 32px;\n",
              "      padding: 0 0 0 0;\n",
              "      width: 32px;\n",
              "    }\n",
              "\n",
              "    .colab-df-convert:hover {\n",
              "      background-color: #E2EBFA;\n",
              "      box-shadow: 0px 1px 2px rgba(60, 64, 67, 0.3), 0px 1px 3px 1px rgba(60, 64, 67, 0.15);\n",
              "      fill: #174EA6;\n",
              "    }\n",
              "\n",
              "    [theme=dark] .colab-df-convert {\n",
              "      background-color: #3B4455;\n",
              "      fill: #D2E3FC;\n",
              "    }\n",
              "\n",
              "    [theme=dark] .colab-df-convert:hover {\n",
              "      background-color: #434B5C;\n",
              "      box-shadow: 0px 1px 3px 1px rgba(0, 0, 0, 0.15);\n",
              "      filter: drop-shadow(0px 1px 2px rgba(0, 0, 0, 0.3));\n",
              "      fill: #FFFFFF;\n",
              "    }\n",
              "  </style>\n",
              "\n",
              "      <script>\n",
              "        const buttonEl =\n",
              "          document.querySelector('#df-15d1b0ee-e0dd-465b-aeaf-056d9aff8e05 button.colab-df-convert');\n",
              "        buttonEl.style.display =\n",
              "          google.colab.kernel.accessAllowed ? 'block' : 'none';\n",
              "\n",
              "        async function convertToInteractive(key) {\n",
              "          const element = document.querySelector('#df-15d1b0ee-e0dd-465b-aeaf-056d9aff8e05');\n",
              "          const dataTable =\n",
              "            await google.colab.kernel.invokeFunction('convertToInteractive',\n",
              "                                                     [key], {});\n",
              "          if (!dataTable) return;\n",
              "\n",
              "          const docLinkHtml = 'Like what you see? Visit the ' +\n",
              "            '<a target=\"_blank\" href=https://colab.research.google.com/notebooks/data_table.ipynb>data table notebook</a>'\n",
              "            + ' to learn more about interactive tables.';\n",
              "          element.innerHTML = '';\n",
              "          dataTable['output_type'] = 'display_data';\n",
              "          await google.colab.output.renderOutput(dataTable, element);\n",
              "          const docLink = document.createElement('div');\n",
              "          docLink.innerHTML = docLinkHtml;\n",
              "          element.appendChild(docLink);\n",
              "        }\n",
              "      </script>\n",
              "    </div>\n",
              "  </div>\n",
              "  "
            ]
          },
          "metadata": {},
          "execution_count": 3
        }
      ],
      "source": [
        "df = pd.read_csv (r'/content/drive/MyDrive/cut_panoramic/Data/New_All_Age_0.csv')\n",
        "df"
      ]
    },
    {
      "cell_type": "markdown",
      "metadata": {
        "id": "5qxePnnn7TGW"
      },
      "source": [
        "#Imports"
      ]
    },
    {
      "cell_type": "code",
      "execution_count": 4,
      "metadata": {
        "id": "D-hCRloc3t39"
      },
      "outputs": [],
      "source": [
        "from tensorflow.keras import models\n",
        "from tensorflow.keras import layers\n",
        "from tensorflow.keras import optimizers\n",
        "import os\n",
        "import glob\n",
        "import shutil\n",
        "import sys\n",
        "import numpy as np\n",
        "from skimage.io import imread\n",
        "import matplotlib.pyplot as plt\n",
        "from IPython.display import Image\n",
        "%matplotlib inline"
      ]
    },
    {
      "cell_type": "markdown",
      "metadata": {
        "id": "RooqSdBc7QHC"
      },
      "source": [
        "#กำหนดค่าพารามิเตอร์\n"
      ]
    },
    {
      "cell_type": "code",
      "execution_count": 5,
      "metadata": {
        "id": "thDb7U9B3xOo"
      },
      "outputs": [],
      "source": [
        "batch_size = 16\n",
        "width = 150\n",
        "height = 150\n",
        "epochs = 250\n",
        "NUM_TRAIN = 2850\n",
        "NUM_TEST = 950\n",
        "dropout_rate = 0.2\n",
        "input_shape = (height, width, 3)"
      ]
    },
    {
      "cell_type": "markdown",
      "metadata": {
        "id": "pumGmy6f3eSW"
      },
      "source": [
        "#Clone efficientnet repo\n"
      ]
    },
    {
      "cell_type": "code",
      "execution_count": 6,
      "metadata": {
        "colab": {
          "base_uri": "https://localhost:8080/"
        },
        "id": "P7iy2f8n16p0",
        "outputId": "9733398f-82ec-4d3b-edde-6b7a52449479"
      },
      "outputs": [
        {
          "output_type": "stream",
          "name": "stdout",
          "text": [
            "/content\n",
            "Cloning into 'efficientnet_keras_transfer_learning'...\n",
            "remote: Enumerating objects: 1079, done.\u001b[K\n",
            "remote: Counting objects: 100% (242/242), done.\u001b[K\n",
            "remote: Compressing objects: 100% (121/121), done.\u001b[K\n",
            "remote: Total 1079 (delta 121), reused 241 (delta 121), pack-reused 837\u001b[K\n",
            "Receiving objects: 100% (1079/1079), 13.94 MiB | 20.28 MiB/s, done.\n",
            "Resolving deltas: 100% (618/618), done.\n",
            "/content/efficientnet_keras_transfer_learning\n"
          ]
        }
      ],
      "source": [
        "#ดึงข้อมูลใน Github มาใช้\n",
        "import os\n",
        "%cd /content\n",
        "if not os.path.isdir(\"efficientnet_keras_transfer_learning\"):\n",
        " !git clone https://github.com/Wanita-8943/efficientnet_keras_transfer_learning\n",
        "%cd efficientnet_keras_transfer_learning/\n"
      ]
    },
    {
      "cell_type": "code",
      "execution_count": 7,
      "metadata": {
        "id": "Gqg_EUxrKkcK"
      },
      "outputs": [],
      "source": [
        "# Options: EfficientNetB0, EfficientNetB1, EfficientNetB2, EfficientNetB3\n",
        "# Higher the number, the more complex the model is.\n",
        "from efficientnet import EfficientNetB0 as Net\n",
        "from efficientnet import center_crop_and_resize, preprocess_input"
      ]
    },
    {
      "cell_type": "code",
      "source": [
        "# loading pretrained conv base model\n",
        "# โหลดโมเดล มาโดยตัด output ของโมเดลออก เเต่ยังใช้ input อันเดิม\n",
        "# เเละโหลด weight ของโมเดล มาด้วยที่ชื่อว่า imagenet\n",
        "conv_base = Net(weights='imagenet', include_top=False, input_shape=input_shape)"
      ],
      "metadata": {
        "colab": {
          "base_uri": "https://localhost:8080/"
        },
        "id": "sjq4AxnfPMPF",
        "outputId": "98de7a13-6103-462c-d885-a7ab0e2c7f9a"
      },
      "execution_count": 8,
      "outputs": [
        {
          "output_type": "stream",
          "name": "stderr",
          "text": [
            "WARNING:tensorflow:From /usr/local/lib/python3.9/dist-packages/tensorflow/python/autograph/pyct/static_analysis/liveness.py:83: Analyzer.lamba_check (from tensorflow.python.autograph.pyct.static_analysis.liveness) is deprecated and will be removed after 2023-09-23.\n",
            "Instructions for updating:\n",
            "Lambda fuctions will be no more assumed to be used in the statement where they are used, or at least in the same block. https://github.com/tensorflow/tensorflow/issues/56089\n"
          ]
        },
        {
          "output_type": "stream",
          "name": "stdout",
          "text": [
            "Downloading data from https://github.com/qubvel/efficientnet/releases/download/v0.0.1/efficientnet-b0_imagenet_1000_notop.h5\n",
            "16717576/16717576 [==============================] - 0s 0us/step\n"
          ]
        }
      ]
    },
    {
      "cell_type": "markdown",
      "source": [
        "#load model \n"
      ],
      "metadata": {
        "id": "Jqlg5Z7X5MlQ"
      }
    },
    {
      "cell_type": "code",
      "source": [
        "\n",
        "import sys\n",
        "sys.path.append('/content/drive/MyDrive/cut_panoramic/Model/Classification/All_Age/AC2_AllAge_Freeze_250.h5')\n",
        "\n",
        "from efficientnet.layers import Swish, DropConnect\n",
        "from efficientnet.model import ConvKernalInitializer\n",
        "from tensorflow.keras.utils import get_custom_objects\n",
        "\n",
        "get_custom_objects().update({\n",
        "    'ConvKernalInitializer': ConvKernalInitializer,\n",
        "    'Swish': Swish,\n",
        "    'DropConnect':DropConnect\n",
        "})\n",
        "    "
      ],
      "metadata": {
        "id": "CS9-uI0G5JDO"
      },
      "execution_count": 9,
      "outputs": []
    },
    {
      "cell_type": "code",
      "source": [
        "#load model \n",
        "from tensorflow.keras.models import load_model\n",
        "model = load_model('/content/drive/MyDrive/cut_panoramic/Model/Classification/All_Age/AC2_AllAge_Freeze_250.h5')\n",
        "height = width = model.input_shape[1]"
      ],
      "metadata": {
        "id": "X8ZC22Qe5J4Q"
      },
      "execution_count": 10,
      "outputs": []
    },
    {
      "cell_type": "code",
      "execution_count": 11,
      "metadata": {
        "colab": {
          "base_uri": "https://localhost:8080/"
        },
        "id": "NadBB12251jh",
        "outputId": "8aceeaf2-5d9a-4556-8c10-67985ad85d78"
      },
      "outputs": [
        {
          "output_type": "stream",
          "name": "stdout",
          "text": [
            "Model: \"sequential\"\n",
            "_________________________________________________________________\n",
            " Layer (type)                Output Shape              Param #   \n",
            "=================================================================\n",
            " efficientnet-b0 (Functional  (None, 5, 5, 1280)       4049564   \n",
            " )                                                               \n",
            "                                                                 \n",
            " gap (GlobalMaxPooling2D)    (None, 1280)              0         \n",
            "                                                                 \n",
            " dropout_out (Dropout)       (None, 1280)              0         \n",
            "                                                                 \n",
            " fc_out (Dense)              (None, 19)                24339     \n",
            "                                                                 \n",
            "=================================================================\n",
            "Total params: 4,073,903\n",
            "Trainable params: 24,339\n",
            "Non-trainable params: 4,049,564\n",
            "_________________________________________________________________\n"
          ]
        }
      ],
      "source": [
        "model.summary()"
      ]
    },
    {
      "cell_type": "code",
      "source": [
        "# multiply_16\n",
        "# set 'multiply_16' and following layers trainable\n",
        "model.trainable = True\n",
        "\n",
        "set_trainable = False\n",
        "for layer in conv_base.layers:\n",
        "    if layer.name == 'multiply_16':\n",
        "        set_trainable = True\n",
        "    if set_trainable:\n",
        "        layer.trainable = True\n",
        "    else:\n",
        "        layer.trainable = False  "
      ],
      "metadata": {
        "id": "lBYpecYxPfq5"
      },
      "execution_count": 12,
      "outputs": []
    },
    {
      "cell_type": "code",
      "source": [
        "model.summary()"
      ],
      "metadata": {
        "colab": {
          "base_uri": "https://localhost:8080/"
        },
        "id": "QpOX8Bk0Pjt1",
        "outputId": "c8955cff-11b6-4596-dbd1-558c5e4a3964"
      },
      "execution_count": 13,
      "outputs": [
        {
          "output_type": "stream",
          "name": "stdout",
          "text": [
            "Model: \"sequential\"\n",
            "_________________________________________________________________\n",
            " Layer (type)                Output Shape              Param #   \n",
            "=================================================================\n",
            " efficientnet-b0 (Functional  (None, 5, 5, 1280)       4049564   \n",
            " )                                                               \n",
            "                                                                 \n",
            " gap (GlobalMaxPooling2D)    (None, 1280)              0         \n",
            "                                                                 \n",
            " dropout_out (Dropout)       (None, 1280)              0         \n",
            "                                                                 \n",
            " fc_out (Dense)              (None, 19)                24339     \n",
            "                                                                 \n",
            "=================================================================\n",
            "Total params: 4,073,903\n",
            "Trainable params: 4,031,887\n",
            "Non-trainable params: 42,016\n",
            "_________________________________________________________________\n"
          ]
        }
      ]
    },
    {
      "cell_type": "markdown",
      "metadata": {
        "id": "J36J9EAE7qSB"
      },
      "source": [
        "#สร้างโฟลเดอร์ Train Valodation และ Test"
      ]
    },
    {
      "cell_type": "code",
      "execution_count": 14,
      "metadata": {
        "id": "nqCFbjRQ3okB"
      },
      "outputs": [],
      "source": [
        "base_dir = '/content/drive/MyDrive/TVT_All_Age'\n",
        "os.makedirs(base_dir, exist_ok=True)\n",
        "\n",
        "# Directories for our training,\n",
        "# validation and test splits\n",
        "train_dir = os.path.join(base_dir, 'train')\n",
        "os.makedirs(train_dir, exist_ok=True)\n",
        "validation_dir = os.path.join(base_dir, 'validation')\n",
        "os.makedirs(validation_dir, exist_ok=True)\n",
        "test_dir = os.path.join(base_dir, 'test')\n",
        "os.makedirs(test_dir, exist_ok=True)"
      ]
    },
    {
      "cell_type": "markdown",
      "metadata": {
        "id": "bWEnlTSwazL5"
      },
      "source": [
        "\n",
        "#Train"
      ]
    },
    {
      "cell_type": "code",
      "execution_count": 15,
      "metadata": {
        "colab": {
          "base_uri": "https://localhost:8080/"
        },
        "id": "xGPrsn9no_pa",
        "outputId": "8b05a3fd-d73b-41ad-f2b9-a2c0e7c423bc"
      },
      "outputs": [
        {
          "output_type": "stream",
          "name": "stdout",
          "text": [
            "Found 2850 images belonging to 19 classes.\n",
            "Found 950 images belonging to 19 classes.\n"
          ]
        }
      ],
      "source": [
        "# Train ด้วย ImageDataGenerator ของ Keras ซึ่งจะเพิ่มข้อมูลเสริมระหว่างการฝึกเพื่อลดโอกาสเกิด overfitting\n",
        "#overfitting เกิดจากข้อมูลที่ซับซ้อนกันเกินไป\n",
        "from tensorflow.keras.preprocessing.image import ImageDataGenerator\n",
        "\n",
        "train_datagen = ImageDataGenerator(\n",
        "      rescale=1./255, #โมเดลส่วนใหญ่ต้องใช้ RGB ในช่วง 0–1\n",
        "      rotation_range=40,\n",
        "      width_shift_range=0.2,\n",
        "      height_shift_range=0.2,\n",
        "      shear_range=0.2,\n",
        "      zoom_range=0.2,\n",
        "      horizontal_flip=True,\n",
        "      fill_mode='nearest')\n",
        "\n",
        "# Note that the validation data should not be augmented!\n",
        "test_datagen = ImageDataGenerator(rescale=1./255)\n",
        "\n",
        "train_generator = train_datagen.flow_from_directory(\n",
        "        # This is the target directory #ไดเรกเป้าหมาย\n",
        "        train_dir,\n",
        "        # รูปภาพทั้งหมดจะถูกปรับขนาดตามความสูงและความกว้างของเป้าหมาย\n",
        "        target_size=(height, width),\n",
        "        batch_size=batch_size,\n",
        "        # Since we use categorical_crossentropy loss, we need categorical labels\n",
        "        #เนื่องจากเราใช้ categorical_crossentropy loss เราจึงต้องมีป้ายกำกับตามหมวดหมู่\n",
        "        class_mode='categorical')\n",
        "\n",
        "validation_generator = test_datagen.flow_from_directory( #การดึงภาพจาก Directory มาเข้าโมเดล \n",
        "        validation_dir,\n",
        "        target_size=(height, width),\n",
        "        batch_size=batch_size,\n",
        "        class_mode='categorical')"
      ]
    },
    {
      "cell_type": "code",
      "execution_count": 16,
      "metadata": {
        "colab": {
          "base_uri": "https://localhost:8080/"
        },
        "id": "N6qUmmF856ZE",
        "outputId": "db3c7eed-efff-4690-c181-8c3f5883d66f"
      },
      "outputs": [
        {
          "output_type": "stream",
          "name": "stderr",
          "text": [
            "<ipython-input-16-caa7b37242a8>:1: UserWarning: `Model.fit_generator` is deprecated and will be removed in a future version. Please use `Model.fit`, which supports generators.\n",
            "  history = model.fit_generator(\n"
          ]
        },
        {
          "output_type": "stream",
          "name": "stdout",
          "text": [
            "Epoch 1/250\n",
            "178/178 [==============================] - 612s 3s/step - loss: 2.6919 - acc: 0.2421 - val_loss: 4.0006 - val_acc: 0.2150\n",
            "Epoch 2/250\n",
            "178/178 [==============================] - 19s 106ms/step - loss: 2.5956 - acc: 0.2424 - val_loss: 4.2768 - val_acc: 0.1706\n",
            "Epoch 3/250\n",
            "178/178 [==============================] - 23s 128ms/step - loss: 2.6016 - acc: 0.2339 - val_loss: 3.9830 - val_acc: 0.1716\n",
            "Epoch 4/250\n",
            "178/178 [==============================] - 23s 129ms/step - loss: 2.5837 - acc: 0.2428 - val_loss: 4.1075 - val_acc: 0.1981\n",
            "Epoch 5/250\n",
            "178/178 [==============================] - 24s 130ms/step - loss: 2.6127 - acc: 0.2283 - val_loss: 4.3134 - val_acc: 0.1758\n",
            "Epoch 6/250\n",
            "178/178 [==============================] - 23s 128ms/step - loss: 2.7095 - acc: 0.2290 - val_loss: 4.2536 - val_acc: 0.1843\n",
            "Epoch 7/250\n",
            "178/178 [==============================] - 23s 128ms/step - loss: 2.5146 - acc: 0.2541 - val_loss: 4.1885 - val_acc: 0.1801\n",
            "Epoch 8/250\n",
            "178/178 [==============================] - 23s 129ms/step - loss: 2.6030 - acc: 0.2449 - val_loss: 4.2914 - val_acc: 0.1748\n",
            "Epoch 9/250\n",
            "178/178 [==============================] - 24s 131ms/step - loss: 2.6250 - acc: 0.2322 - val_loss: 4.3314 - val_acc: 0.1780\n",
            "Epoch 10/250\n",
            "178/178 [==============================] - 23s 128ms/step - loss: 2.6182 - acc: 0.2463 - val_loss: 4.2401 - val_acc: 0.1854\n",
            "Epoch 11/250\n",
            "178/178 [==============================] - 23s 126ms/step - loss: 2.6186 - acc: 0.2481 - val_loss: 4.2674 - val_acc: 0.1886\n",
            "Epoch 12/250\n",
            "178/178 [==============================] - 23s 127ms/step - loss: 2.6665 - acc: 0.2481 - val_loss: 4.0984 - val_acc: 0.1875\n",
            "Epoch 13/250\n",
            "178/178 [==============================] - 23s 127ms/step - loss: 2.6208 - acc: 0.2463 - val_loss: 4.2215 - val_acc: 0.1843\n",
            "Epoch 14/250\n",
            "178/178 [==============================] - 23s 129ms/step - loss: 2.5940 - acc: 0.2495 - val_loss: 4.1243 - val_acc: 0.1907\n",
            "Epoch 15/250\n",
            "178/178 [==============================] - 24s 131ms/step - loss: 2.7348 - acc: 0.2347 - val_loss: 4.2173 - val_acc: 0.1886\n",
            "Epoch 16/250\n",
            "178/178 [==============================] - 23s 127ms/step - loss: 2.6487 - acc: 0.2466 - val_loss: 4.3124 - val_acc: 0.1737\n",
            "Epoch 17/250\n",
            "178/178 [==============================] - 23s 127ms/step - loss: 2.6087 - acc: 0.2442 - val_loss: 4.2598 - val_acc: 0.1801\n",
            "Epoch 18/250\n",
            "178/178 [==============================] - 23s 128ms/step - loss: 2.6892 - acc: 0.2477 - val_loss: 4.3513 - val_acc: 0.1801\n",
            "Epoch 19/250\n",
            "178/178 [==============================] - 19s 105ms/step - loss: 2.5886 - acc: 0.2498 - val_loss: 4.0522 - val_acc: 0.1960\n",
            "Epoch 20/250\n",
            "178/178 [==============================] - 23s 128ms/step - loss: 2.6308 - acc: 0.2375 - val_loss: 4.3309 - val_acc: 0.1790\n",
            "Epoch 21/250\n",
            "178/178 [==============================] - 23s 129ms/step - loss: 2.6954 - acc: 0.2382 - val_loss: 4.1520 - val_acc: 0.1960\n",
            "Epoch 22/250\n",
            "178/178 [==============================] - 23s 130ms/step - loss: 2.6086 - acc: 0.2495 - val_loss: 4.2178 - val_acc: 0.1992\n",
            "Epoch 23/250\n",
            "178/178 [==============================] - 23s 127ms/step - loss: 2.6844 - acc: 0.2481 - val_loss: 4.2962 - val_acc: 0.1769\n",
            "Epoch 24/250\n",
            "178/178 [==============================] - 23s 128ms/step - loss: 2.7064 - acc: 0.2399 - val_loss: 4.3626 - val_acc: 0.1727\n",
            "Epoch 25/250\n",
            "178/178 [==============================] - 20s 109ms/step - loss: 2.6827 - acc: 0.2378 - val_loss: 4.1914 - val_acc: 0.1801\n",
            "Epoch 26/250\n",
            "178/178 [==============================] - 19s 104ms/step - loss: 2.6330 - acc: 0.2354 - val_loss: 4.1759 - val_acc: 0.1801\n",
            "Epoch 27/250\n",
            "178/178 [==============================] - 25s 135ms/step - loss: 2.6666 - acc: 0.2463 - val_loss: 4.2797 - val_acc: 0.1981\n",
            "Epoch 28/250\n",
            "178/178 [==============================] - 24s 130ms/step - loss: 2.5975 - acc: 0.2526 - val_loss: 4.3067 - val_acc: 0.1801\n",
            "Epoch 29/250\n",
            "178/178 [==============================] - 23s 127ms/step - loss: 2.5947 - acc: 0.2431 - val_loss: 4.1942 - val_acc: 0.1716\n",
            "Epoch 30/250\n",
            "178/178 [==============================] - 23s 128ms/step - loss: 2.6432 - acc: 0.2406 - val_loss: 4.4896 - val_acc: 0.1758\n",
            "Epoch 31/250\n",
            "178/178 [==============================] - 24s 130ms/step - loss: 2.6006 - acc: 0.2474 - val_loss: 4.2975 - val_acc: 0.1748\n",
            "Epoch 32/250\n",
            "178/178 [==============================] - 23s 129ms/step - loss: 2.6360 - acc: 0.2435 - val_loss: 4.1517 - val_acc: 0.1727\n",
            "Epoch 33/250\n",
            "178/178 [==============================] - 19s 107ms/step - loss: 2.6357 - acc: 0.2445 - val_loss: 4.2013 - val_acc: 0.1674\n",
            "Epoch 34/250\n",
            "178/178 [==============================] - 24s 130ms/step - loss: 2.6381 - acc: 0.2438 - val_loss: 4.1679 - val_acc: 0.1748\n",
            "Epoch 35/250\n",
            "178/178 [==============================] - 23s 129ms/step - loss: 2.6529 - acc: 0.2371 - val_loss: 4.2924 - val_acc: 0.1907\n",
            "Epoch 36/250\n",
            "178/178 [==============================] - 23s 128ms/step - loss: 2.6558 - acc: 0.2301 - val_loss: 4.1937 - val_acc: 0.1822\n",
            "Epoch 37/250\n",
            "178/178 [==============================] - 23s 127ms/step - loss: 2.6945 - acc: 0.2329 - val_loss: 4.1180 - val_acc: 0.1727\n",
            "Epoch 38/250\n",
            "178/178 [==============================] - 24s 131ms/step - loss: 2.6330 - acc: 0.2332 - val_loss: 4.4811 - val_acc: 0.1568\n",
            "Epoch 39/250\n",
            "178/178 [==============================] - 23s 128ms/step - loss: 2.6409 - acc: 0.2371 - val_loss: 4.2381 - val_acc: 0.1928\n",
            "Epoch 40/250\n",
            "178/178 [==============================] - 23s 127ms/step - loss: 2.6721 - acc: 0.2375 - val_loss: 4.3805 - val_acc: 0.1748\n",
            "Epoch 41/250\n",
            "178/178 [==============================] - 23s 127ms/step - loss: 2.6928 - acc: 0.2435 - val_loss: 4.2517 - val_acc: 0.1642\n",
            "Epoch 42/250\n",
            "178/178 [==============================] - 24s 130ms/step - loss: 2.6393 - acc: 0.2354 - val_loss: 4.3053 - val_acc: 0.1801\n",
            "Epoch 43/250\n",
            "178/178 [==============================] - 23s 130ms/step - loss: 2.6650 - acc: 0.2364 - val_loss: 4.3880 - val_acc: 0.1811\n",
            "Epoch 44/250\n",
            "178/178 [==============================] - 23s 127ms/step - loss: 2.6395 - acc: 0.2488 - val_loss: 4.3102 - val_acc: 0.1716\n",
            "Epoch 45/250\n",
            "178/178 [==============================] - 23s 127ms/step - loss: 2.6758 - acc: 0.2368 - val_loss: 4.2243 - val_acc: 0.1748\n",
            "Epoch 46/250\n",
            "178/178 [==============================] - 24s 130ms/step - loss: 2.7401 - acc: 0.2361 - val_loss: 4.2042 - val_acc: 0.1896\n",
            "Epoch 47/250\n",
            "178/178 [==============================] - 24s 131ms/step - loss: 2.6246 - acc: 0.2378 - val_loss: 4.4445 - val_acc: 0.1992\n",
            "Epoch 48/250\n",
            "178/178 [==============================] - 23s 128ms/step - loss: 2.6390 - acc: 0.2392 - val_loss: 4.1351 - val_acc: 0.1780\n",
            "Epoch 49/250\n",
            "178/178 [==============================] - 23s 128ms/step - loss: 2.6722 - acc: 0.2435 - val_loss: 4.3360 - val_acc: 0.1727\n",
            "Epoch 50/250\n",
            "178/178 [==============================] - 19s 103ms/step - loss: 2.7220 - acc: 0.2368 - val_loss: 4.5672 - val_acc: 0.1769\n",
            "Epoch 51/250\n",
            "178/178 [==============================] - 24s 129ms/step - loss: 2.7012 - acc: 0.2396 - val_loss: 4.4214 - val_acc: 0.1737\n",
            "Epoch 52/250\n",
            "178/178 [==============================] - 19s 106ms/step - loss: 2.6356 - acc: 0.2456 - val_loss: 4.2902 - val_acc: 0.1811\n",
            "Epoch 53/250\n",
            "178/178 [==============================] - 24s 130ms/step - loss: 2.6579 - acc: 0.2421 - val_loss: 4.4007 - val_acc: 0.1896\n",
            "Epoch 54/250\n",
            "178/178 [==============================] - 23s 128ms/step - loss: 2.6166 - acc: 0.2272 - val_loss: 4.3674 - val_acc: 0.1854\n",
            "Epoch 55/250\n",
            "178/178 [==============================] - 23s 129ms/step - loss: 2.6679 - acc: 0.2332 - val_loss: 4.4201 - val_acc: 0.1737\n",
            "Epoch 56/250\n",
            "178/178 [==============================] - 23s 127ms/step - loss: 2.6326 - acc: 0.2364 - val_loss: 4.2694 - val_acc: 0.1737\n",
            "Epoch 57/250\n",
            "178/178 [==============================] - 19s 102ms/step - loss: 2.6197 - acc: 0.2481 - val_loss: 4.1267 - val_acc: 0.1917\n",
            "Epoch 58/250\n",
            "178/178 [==============================] - 24s 131ms/step - loss: 2.7060 - acc: 0.2350 - val_loss: 4.2640 - val_acc: 0.1706\n",
            "Epoch 59/250\n",
            "178/178 [==============================] - 23s 128ms/step - loss: 2.6915 - acc: 0.2361 - val_loss: 4.4257 - val_acc: 0.1674\n",
            "Epoch 60/250\n",
            "178/178 [==============================] - 23s 129ms/step - loss: 2.7322 - acc: 0.2382 - val_loss: 4.2190 - val_acc: 0.1886\n",
            "Epoch 61/250\n",
            "178/178 [==============================] - 23s 128ms/step - loss: 2.6074 - acc: 0.2484 - val_loss: 4.5369 - val_acc: 0.1769\n",
            "Epoch 62/250\n",
            "178/178 [==============================] - 24s 133ms/step - loss: 2.7068 - acc: 0.2371 - val_loss: 4.3527 - val_acc: 0.1907\n",
            "Epoch 63/250\n",
            "178/178 [==============================] - 23s 126ms/step - loss: 2.6114 - acc: 0.2329 - val_loss: 4.5902 - val_acc: 0.1674\n",
            "Epoch 64/250\n",
            "178/178 [==============================] - 23s 128ms/step - loss: 2.7238 - acc: 0.2399 - val_loss: 4.3773 - val_acc: 0.1769\n",
            "Epoch 65/250\n",
            "178/178 [==============================] - 23s 127ms/step - loss: 2.5930 - acc: 0.2396 - val_loss: 4.3567 - val_acc: 0.1780\n",
            "Epoch 66/250\n",
            "178/178 [==============================] - 23s 128ms/step - loss: 2.6028 - acc: 0.2456 - val_loss: 4.4347 - val_acc: 0.1568\n",
            "Epoch 67/250\n",
            "178/178 [==============================] - 23s 128ms/step - loss: 2.7658 - acc: 0.2385 - val_loss: 4.1754 - val_acc: 0.1833\n",
            "Epoch 68/250\n",
            "178/178 [==============================] - 24s 132ms/step - loss: 2.6910 - acc: 0.2248 - val_loss: 4.4211 - val_acc: 0.1727\n",
            "Epoch 69/250\n",
            "178/178 [==============================] - 23s 127ms/step - loss: 2.6591 - acc: 0.2484 - val_loss: 4.2207 - val_acc: 0.1780\n",
            "Epoch 70/250\n",
            "178/178 [==============================] - 23s 127ms/step - loss: 2.6654 - acc: 0.2361 - val_loss: 4.2176 - val_acc: 0.1811\n",
            "Epoch 71/250\n",
            "178/178 [==============================] - 23s 128ms/step - loss: 2.6566 - acc: 0.2421 - val_loss: 4.3241 - val_acc: 0.1716\n",
            "Epoch 72/250\n",
            "178/178 [==============================] - 24s 135ms/step - loss: 2.7197 - acc: 0.2297 - val_loss: 4.2089 - val_acc: 0.1695\n",
            "Epoch 73/250\n",
            "178/178 [==============================] - 23s 128ms/step - loss: 2.7219 - acc: 0.2322 - val_loss: 4.0471 - val_acc: 0.1706\n",
            "Epoch 74/250\n",
            "178/178 [==============================] - 23s 127ms/step - loss: 2.6935 - acc: 0.2488 - val_loss: 4.3531 - val_acc: 0.1790\n",
            "Epoch 75/250\n",
            "178/178 [==============================] - 23s 128ms/step - loss: 2.6838 - acc: 0.2241 - val_loss: 4.1809 - val_acc: 0.1769\n",
            "Epoch 76/250\n",
            "178/178 [==============================] - 24s 132ms/step - loss: 2.7635 - acc: 0.2234 - val_loss: 4.2499 - val_acc: 0.1758\n",
            "Epoch 77/250\n",
            "178/178 [==============================] - 23s 129ms/step - loss: 2.7668 - acc: 0.2382 - val_loss: 4.3083 - val_acc: 0.1769\n",
            "Epoch 78/250\n",
            "178/178 [==============================] - 23s 127ms/step - loss: 2.7248 - acc: 0.2385 - val_loss: 4.3815 - val_acc: 0.1917\n",
            "Epoch 79/250\n",
            "178/178 [==============================] - 19s 106ms/step - loss: 2.7297 - acc: 0.2304 - val_loss: 4.2510 - val_acc: 0.1811\n",
            "Epoch 80/250\n",
            "178/178 [==============================] - 23s 129ms/step - loss: 2.6936 - acc: 0.2403 - val_loss: 4.5152 - val_acc: 0.1822\n",
            "Epoch 81/250\n",
            "178/178 [==============================] - 23s 127ms/step - loss: 2.6576 - acc: 0.2435 - val_loss: 4.2828 - val_acc: 0.1864\n",
            "Epoch 82/250\n",
            "178/178 [==============================] - 20s 108ms/step - loss: 2.7515 - acc: 0.2421 - val_loss: 4.2925 - val_acc: 0.1833\n",
            "Epoch 83/250\n",
            "178/178 [==============================] - 23s 128ms/step - loss: 2.6861 - acc: 0.2375 - val_loss: 4.3614 - val_acc: 0.1949\n",
            "Epoch 84/250\n",
            "178/178 [==============================] - 23s 128ms/step - loss: 2.6811 - acc: 0.2414 - val_loss: 4.3839 - val_acc: 0.1748\n",
            "Epoch 85/250\n",
            "178/178 [==============================] - 24s 130ms/step - loss: 2.6999 - acc: 0.2350 - val_loss: 4.3777 - val_acc: 0.1769\n",
            "Epoch 86/250\n",
            "178/178 [==============================] - 24s 132ms/step - loss: 2.7104 - acc: 0.2466 - val_loss: 4.6259 - val_acc: 0.1727\n",
            "Epoch 87/250\n",
            "178/178 [==============================] - 24s 134ms/step - loss: 2.6604 - acc: 0.2548 - val_loss: 4.3027 - val_acc: 0.1939\n",
            "Epoch 88/250\n",
            "178/178 [==============================] - 20s 108ms/step - loss: 2.7071 - acc: 0.2424 - val_loss: 4.5404 - val_acc: 0.1684\n",
            "Epoch 89/250\n",
            "178/178 [==============================] - 24s 132ms/step - loss: 2.7105 - acc: 0.2495 - val_loss: 4.5561 - val_acc: 0.1568\n",
            "Epoch 90/250\n",
            "178/178 [==============================] - 24s 135ms/step - loss: 2.7369 - acc: 0.2403 - val_loss: 4.4554 - val_acc: 0.1727\n",
            "Epoch 91/250\n",
            "178/178 [==============================] - 24s 130ms/step - loss: 2.6708 - acc: 0.2382 - val_loss: 4.5651 - val_acc: 0.1589\n",
            "Epoch 92/250\n",
            "178/178 [==============================] - 24s 130ms/step - loss: 2.6821 - acc: 0.2445 - val_loss: 4.4761 - val_acc: 0.1801\n",
            "Epoch 93/250\n",
            "178/178 [==============================] - 23s 128ms/step - loss: 2.8063 - acc: 0.2442 - val_loss: 4.5150 - val_acc: 0.1737\n",
            "Epoch 94/250\n",
            "178/178 [==============================] - 24s 131ms/step - loss: 2.7127 - acc: 0.2385 - val_loss: 4.4372 - val_acc: 0.1801\n",
            "Epoch 95/250\n",
            "178/178 [==============================] - 24s 132ms/step - loss: 2.7119 - acc: 0.2491 - val_loss: 4.5250 - val_acc: 0.1822\n",
            "Epoch 96/250\n",
            "178/178 [==============================] - 23s 128ms/step - loss: 2.7358 - acc: 0.2442 - val_loss: 4.3009 - val_acc: 0.1737\n",
            "Epoch 97/250\n",
            "178/178 [==============================] - 19s 107ms/step - loss: 2.6651 - acc: 0.2311 - val_loss: 4.5001 - val_acc: 0.1525\n",
            "Epoch 98/250\n",
            "178/178 [==============================] - 24s 133ms/step - loss: 2.8009 - acc: 0.2385 - val_loss: 4.5439 - val_acc: 0.1758\n",
            "Epoch 99/250\n",
            "178/178 [==============================] - 23s 129ms/step - loss: 2.6954 - acc: 0.2424 - val_loss: 4.5286 - val_acc: 0.1748\n",
            "Epoch 100/250\n",
            "178/178 [==============================] - 23s 129ms/step - loss: 2.7055 - acc: 0.2308 - val_loss: 4.6528 - val_acc: 0.1833\n",
            "Epoch 101/250\n",
            "178/178 [==============================] - 24s 129ms/step - loss: 2.7154 - acc: 0.2403 - val_loss: 4.5108 - val_acc: 0.1684\n",
            "Epoch 102/250\n",
            "178/178 [==============================] - 24s 133ms/step - loss: 2.6801 - acc: 0.2470 - val_loss: 4.4007 - val_acc: 0.1695\n",
            "Epoch 103/250\n",
            "178/178 [==============================] - 23s 128ms/step - loss: 2.7202 - acc: 0.2406 - val_loss: 4.3806 - val_acc: 0.1833\n",
            "Epoch 104/250\n",
            "178/178 [==============================] - 24s 134ms/step - loss: 2.7544 - acc: 0.2495 - val_loss: 4.4908 - val_acc: 0.1896\n",
            "Epoch 105/250\n",
            "178/178 [==============================] - 23s 127ms/step - loss: 2.7708 - acc: 0.2403 - val_loss: 4.4534 - val_acc: 0.1875\n",
            "Epoch 106/250\n",
            "178/178 [==============================] - 23s 127ms/step - loss: 2.6994 - acc: 0.2403 - val_loss: 4.4379 - val_acc: 0.1992\n",
            "Epoch 107/250\n",
            "178/178 [==============================] - 23s 128ms/step - loss: 2.8258 - acc: 0.2417 - val_loss: 4.3647 - val_acc: 0.1822\n",
            "Epoch 108/250\n",
            "178/178 [==============================] - 24s 135ms/step - loss: 2.6671 - acc: 0.2488 - val_loss: 4.5241 - val_acc: 0.1981\n",
            "Epoch 109/250\n",
            "178/178 [==============================] - 23s 127ms/step - loss: 2.7441 - acc: 0.2438 - val_loss: 4.3389 - val_acc: 0.1780\n",
            "Epoch 110/250\n",
            "178/178 [==============================] - 23s 127ms/step - loss: 2.8222 - acc: 0.2396 - val_loss: 4.4143 - val_acc: 0.1833\n",
            "Epoch 111/250\n",
            "178/178 [==============================] - 23s 128ms/step - loss: 2.6898 - acc: 0.2304 - val_loss: 4.4280 - val_acc: 0.1790\n",
            "Epoch 112/250\n",
            "178/178 [==============================] - 24s 134ms/step - loss: 2.7049 - acc: 0.2643 - val_loss: 4.3585 - val_acc: 0.1843\n",
            "Epoch 113/250\n",
            "178/178 [==============================] - 23s 130ms/step - loss: 2.7267 - acc: 0.2382 - val_loss: 4.4420 - val_acc: 0.1674\n",
            "Epoch 114/250\n",
            "178/178 [==============================] - 20s 108ms/step - loss: 2.7317 - acc: 0.2325 - val_loss: 4.4954 - val_acc: 0.1716\n",
            "Epoch 115/250\n",
            "178/178 [==============================] - 24s 135ms/step - loss: 2.6916 - acc: 0.2421 - val_loss: 4.6799 - val_acc: 0.1695\n",
            "Epoch 116/250\n",
            "178/178 [==============================] - 23s 128ms/step - loss: 2.7520 - acc: 0.2375 - val_loss: 4.4358 - val_acc: 0.1642\n",
            "Epoch 117/250\n",
            "178/178 [==============================] - 23s 128ms/step - loss: 2.7458 - acc: 0.2382 - val_loss: 4.4212 - val_acc: 0.1706\n",
            "Epoch 118/250\n",
            "178/178 [==============================] - 23s 128ms/step - loss: 2.7877 - acc: 0.2315 - val_loss: 4.3265 - val_acc: 0.1716\n",
            "Epoch 119/250\n",
            "178/178 [==============================] - 24s 132ms/step - loss: 2.7400 - acc: 0.2392 - val_loss: 4.3021 - val_acc: 0.1833\n",
            "Epoch 120/250\n",
            "178/178 [==============================] - 24s 131ms/step - loss: 2.7686 - acc: 0.2431 - val_loss: 4.4374 - val_acc: 0.1727\n",
            "Epoch 121/250\n",
            "178/178 [==============================] - 23s 129ms/step - loss: 2.7689 - acc: 0.2294 - val_loss: 4.3646 - val_acc: 0.1769\n",
            "Epoch 122/250\n",
            "178/178 [==============================] - 23s 128ms/step - loss: 2.8514 - acc: 0.2188 - val_loss: 4.2589 - val_acc: 0.1758\n",
            "Epoch 123/250\n",
            "178/178 [==============================] - 24s 131ms/step - loss: 2.8315 - acc: 0.2315 - val_loss: 4.5083 - val_acc: 0.1663\n",
            "Epoch 124/250\n",
            "178/178 [==============================] - 24s 132ms/step - loss: 2.7628 - acc: 0.2237 - val_loss: 4.5003 - val_acc: 0.1875\n",
            "Epoch 125/250\n",
            "178/178 [==============================] - 23s 129ms/step - loss: 2.7272 - acc: 0.2347 - val_loss: 4.7350 - val_acc: 0.1716\n",
            "Epoch 126/250\n",
            "178/178 [==============================] - 23s 127ms/step - loss: 2.7419 - acc: 0.2428 - val_loss: 4.7263 - val_acc: 0.1790\n",
            "Epoch 127/250\n",
            "178/178 [==============================] - 23s 128ms/step - loss: 2.7537 - acc: 0.2474 - val_loss: 4.5505 - val_acc: 0.1833\n",
            "Epoch 128/250\n",
            "178/178 [==============================] - 24s 132ms/step - loss: 2.8252 - acc: 0.2548 - val_loss: 4.5721 - val_acc: 0.1758\n",
            "Epoch 129/250\n",
            "178/178 [==============================] - 23s 127ms/step - loss: 2.7083 - acc: 0.2357 - val_loss: 4.5074 - val_acc: 0.1790\n",
            "Epoch 130/250\n",
            "178/178 [==============================] - 23s 128ms/step - loss: 2.7531 - acc: 0.2212 - val_loss: 4.6295 - val_acc: 0.1875\n",
            "Epoch 131/250\n",
            "178/178 [==============================] - 19s 101ms/step - loss: 2.7781 - acc: 0.2477 - val_loss: 4.4656 - val_acc: 0.1790\n",
            "Epoch 132/250\n",
            "178/178 [==============================] - 23s 128ms/step - loss: 2.8060 - acc: 0.2382 - val_loss: 4.5093 - val_acc: 0.1801\n",
            "Epoch 133/250\n",
            "178/178 [==============================] - 23s 127ms/step - loss: 2.8350 - acc: 0.2371 - val_loss: 4.5353 - val_acc: 0.1917\n",
            "Epoch 134/250\n",
            "178/178 [==============================] - 23s 128ms/step - loss: 2.6787 - acc: 0.2385 - val_loss: 4.5803 - val_acc: 0.1917\n",
            "Epoch 135/250\n",
            "178/178 [==============================] - 24s 131ms/step - loss: 2.7119 - acc: 0.2474 - val_loss: 4.8659 - val_acc: 0.1684\n",
            "Epoch 136/250\n",
            "178/178 [==============================] - 24s 131ms/step - loss: 2.8019 - acc: 0.2290 - val_loss: 4.8973 - val_acc: 0.1653\n",
            "Epoch 137/250\n",
            "178/178 [==============================] - 23s 128ms/step - loss: 2.7969 - acc: 0.2435 - val_loss: 4.4531 - val_acc: 0.1716\n",
            "Epoch 138/250\n",
            "178/178 [==============================] - 23s 129ms/step - loss: 2.7472 - acc: 0.2361 - val_loss: 4.5298 - val_acc: 0.1854\n",
            "Epoch 139/250\n",
            "178/178 [==============================] - 24s 130ms/step - loss: 2.7729 - acc: 0.2382 - val_loss: 4.4103 - val_acc: 0.1917\n",
            "Epoch 140/250\n",
            "178/178 [==============================] - 24s 132ms/step - loss: 2.8687 - acc: 0.2438 - val_loss: 4.7680 - val_acc: 0.1758\n",
            "Epoch 141/250\n",
            "178/178 [==============================] - 23s 129ms/step - loss: 2.8152 - acc: 0.2272 - val_loss: 4.2462 - val_acc: 0.1907\n",
            "Epoch 142/250\n",
            "178/178 [==============================] - 23s 128ms/step - loss: 2.8038 - acc: 0.2435 - val_loss: 4.3645 - val_acc: 0.1801\n",
            "Epoch 143/250\n",
            "178/178 [==============================] - 23s 127ms/step - loss: 2.8156 - acc: 0.2361 - val_loss: 4.6898 - val_acc: 0.1695\n",
            "Epoch 144/250\n",
            "178/178 [==============================] - 24s 133ms/step - loss: 2.8145 - acc: 0.2435 - val_loss: 4.5962 - val_acc: 0.1769\n",
            "Epoch 145/250\n",
            "178/178 [==============================] - 23s 128ms/step - loss: 2.8131 - acc: 0.2290 - val_loss: 4.4772 - val_acc: 0.1674\n",
            "Epoch 146/250\n",
            "178/178 [==============================] - 23s 129ms/step - loss: 2.7010 - acc: 0.2445 - val_loss: 4.6507 - val_acc: 0.1811\n",
            "Epoch 147/250\n",
            "178/178 [==============================] - 19s 107ms/step - loss: 2.8051 - acc: 0.2272 - val_loss: 4.6206 - val_acc: 0.1663\n",
            "Epoch 148/250\n",
            "178/178 [==============================] - 24s 131ms/step - loss: 2.7640 - acc: 0.2361 - val_loss: 4.6051 - val_acc: 0.2034\n",
            "Epoch 149/250\n",
            "178/178 [==============================] - 24s 134ms/step - loss: 2.7685 - acc: 0.2354 - val_loss: 4.6619 - val_acc: 0.1716\n",
            "Epoch 150/250\n",
            "178/178 [==============================] - 23s 128ms/step - loss: 2.8150 - acc: 0.2202 - val_loss: 4.6180 - val_acc: 0.1748\n",
            "Epoch 151/250\n",
            "178/178 [==============================] - 23s 128ms/step - loss: 2.7382 - acc: 0.2343 - val_loss: 4.7259 - val_acc: 0.1801\n",
            "Epoch 152/250\n",
            "178/178 [==============================] - 20s 107ms/step - loss: 2.7872 - acc: 0.2357 - val_loss: 4.5491 - val_acc: 0.1981\n",
            "Epoch 153/250\n",
            "178/178 [==============================] - 23s 129ms/step - loss: 2.7033 - acc: 0.2459 - val_loss: 4.5979 - val_acc: 0.1674\n",
            "Epoch 154/250\n",
            "178/178 [==============================] - 23s 129ms/step - loss: 2.8744 - acc: 0.2339 - val_loss: 4.4827 - val_acc: 0.1748\n",
            "Epoch 155/250\n",
            "178/178 [==============================] - 24s 130ms/step - loss: 2.8140 - acc: 0.2279 - val_loss: 4.7581 - val_acc: 0.1684\n",
            "Epoch 156/250\n",
            "178/178 [==============================] - 24s 132ms/step - loss: 2.8001 - acc: 0.2212 - val_loss: 4.7931 - val_acc: 0.1801\n",
            "Epoch 157/250\n",
            "178/178 [==============================] - 24s 130ms/step - loss: 2.8002 - acc: 0.2318 - val_loss: 4.6065 - val_acc: 0.1769\n",
            "Epoch 158/250\n",
            "178/178 [==============================] - 23s 128ms/step - loss: 2.7190 - acc: 0.2389 - val_loss: 4.6250 - val_acc: 0.1822\n",
            "Epoch 159/250\n",
            "178/178 [==============================] - 23s 128ms/step - loss: 2.8614 - acc: 0.2212 - val_loss: 4.9232 - val_acc: 0.1790\n",
            "Epoch 160/250\n",
            "178/178 [==============================] - 24s 130ms/step - loss: 2.8295 - acc: 0.2364 - val_loss: 4.8505 - val_acc: 0.1864\n",
            "Epoch 161/250\n",
            "178/178 [==============================] - 24s 133ms/step - loss: 2.8126 - acc: 0.2385 - val_loss: 4.5999 - val_acc: 0.1854\n",
            "Epoch 162/250\n",
            "178/178 [==============================] - 23s 129ms/step - loss: 2.7190 - acc: 0.2371 - val_loss: 4.7951 - val_acc: 0.1758\n",
            "Epoch 163/250\n",
            "178/178 [==============================] - 23s 130ms/step - loss: 2.8718 - acc: 0.2343 - val_loss: 4.5565 - val_acc: 0.1886\n",
            "Epoch 164/250\n",
            "178/178 [==============================] - 24s 129ms/step - loss: 2.8835 - acc: 0.2403 - val_loss: 4.7654 - val_acc: 0.1854\n",
            "Epoch 165/250\n",
            "178/178 [==============================] - 24s 134ms/step - loss: 2.8118 - acc: 0.2590 - val_loss: 4.7156 - val_acc: 0.1684\n",
            "Epoch 166/250\n",
            "178/178 [==============================] - 24s 131ms/step - loss: 2.8216 - acc: 0.2428 - val_loss: 4.5454 - val_acc: 0.1864\n",
            "Epoch 167/250\n",
            "178/178 [==============================] - 23s 129ms/step - loss: 2.7925 - acc: 0.2399 - val_loss: 4.9461 - val_acc: 0.1854\n",
            "Epoch 168/250\n",
            "178/178 [==============================] - 23s 129ms/step - loss: 2.8458 - acc: 0.2389 - val_loss: 5.1267 - val_acc: 0.1758\n",
            "Epoch 169/250\n",
            "178/178 [==============================] - 24s 132ms/step - loss: 2.9210 - acc: 0.2438 - val_loss: 4.8231 - val_acc: 0.1811\n",
            "Epoch 170/250\n",
            "178/178 [==============================] - 24s 134ms/step - loss: 2.8378 - acc: 0.2396 - val_loss: 4.6292 - val_acc: 0.1727\n",
            "Epoch 171/250\n",
            "178/178 [==============================] - 23s 129ms/step - loss: 2.8995 - acc: 0.2350 - val_loss: 4.7440 - val_acc: 0.1737\n",
            "Epoch 172/250\n",
            "178/178 [==============================] - 20s 109ms/step - loss: 2.8287 - acc: 0.2294 - val_loss: 4.4990 - val_acc: 0.1907\n",
            "Epoch 173/250\n",
            "178/178 [==============================] - 24s 135ms/step - loss: 2.8190 - acc: 0.2304 - val_loss: 4.6046 - val_acc: 0.1875\n",
            "Epoch 174/250\n",
            "178/178 [==============================] - 23s 129ms/step - loss: 2.8141 - acc: 0.2262 - val_loss: 4.6048 - val_acc: 0.1875\n",
            "Epoch 175/250\n",
            "178/178 [==============================] - 23s 127ms/step - loss: 2.8195 - acc: 0.2368 - val_loss: 4.5172 - val_acc: 0.1769\n",
            "Epoch 176/250\n",
            "178/178 [==============================] - 24s 129ms/step - loss: 2.9105 - acc: 0.2339 - val_loss: 4.4994 - val_acc: 0.1780\n",
            "Epoch 177/250\n",
            "178/178 [==============================] - 24s 133ms/step - loss: 2.7936 - acc: 0.2431 - val_loss: 4.9205 - val_acc: 0.1748\n",
            "Epoch 178/250\n",
            "178/178 [==============================] - 23s 128ms/step - loss: 2.7995 - acc: 0.2375 - val_loss: 5.0575 - val_acc: 0.1536\n",
            "Epoch 179/250\n",
            "178/178 [==============================] - 23s 128ms/step - loss: 2.7765 - acc: 0.2431 - val_loss: 4.8800 - val_acc: 0.1631\n",
            "Epoch 180/250\n",
            "178/178 [==============================] - 23s 129ms/step - loss: 2.8360 - acc: 0.2219 - val_loss: 4.7503 - val_acc: 0.1663\n",
            "Epoch 181/250\n",
            "178/178 [==============================] - 24s 131ms/step - loss: 2.7064 - acc: 0.2498 - val_loss: 4.9038 - val_acc: 0.1769\n",
            "Epoch 182/250\n",
            "178/178 [==============================] - 24s 130ms/step - loss: 2.7131 - acc: 0.2322 - val_loss: 5.0183 - val_acc: 0.1706\n",
            "Epoch 183/250\n",
            "178/178 [==============================] - 23s 128ms/step - loss: 2.8115 - acc: 0.2364 - val_loss: 5.0183 - val_acc: 0.1748\n",
            "Epoch 184/250\n",
            "178/178 [==============================] - 23s 127ms/step - loss: 2.8368 - acc: 0.2262 - val_loss: 4.8272 - val_acc: 0.1684\n",
            "Epoch 185/250\n",
            "178/178 [==============================] - 23s 129ms/step - loss: 2.8239 - acc: 0.2378 - val_loss: 4.8549 - val_acc: 0.1695\n",
            "Epoch 186/250\n",
            "178/178 [==============================] - 24s 134ms/step - loss: 2.8478 - acc: 0.2216 - val_loss: 4.8185 - val_acc: 0.1706\n",
            "Epoch 187/250\n",
            "178/178 [==============================] - 23s 128ms/step - loss: 2.8266 - acc: 0.2322 - val_loss: 4.6504 - val_acc: 0.1578\n",
            "Epoch 188/250\n",
            "178/178 [==============================] - 23s 128ms/step - loss: 2.8703 - acc: 0.2276 - val_loss: 4.7232 - val_acc: 0.1621\n",
            "Epoch 189/250\n",
            "178/178 [==============================] - 23s 127ms/step - loss: 2.8712 - acc: 0.2258 - val_loss: 4.7418 - val_acc: 0.1663\n",
            "Epoch 190/250\n",
            "178/178 [==============================] - 24s 132ms/step - loss: 2.8365 - acc: 0.2389 - val_loss: 4.9229 - val_acc: 0.1748\n",
            "Epoch 191/250\n",
            "178/178 [==============================] - 23s 129ms/step - loss: 2.8607 - acc: 0.2325 - val_loss: 4.8292 - val_acc: 0.1653\n",
            "Epoch 192/250\n",
            "178/178 [==============================] - 23s 127ms/step - loss: 2.7356 - acc: 0.2431 - val_loss: 4.7941 - val_acc: 0.1769\n",
            "Epoch 193/250\n",
            "178/178 [==============================] - 23s 127ms/step - loss: 2.8439 - acc: 0.2459 - val_loss: 4.8810 - val_acc: 0.1758\n",
            "Epoch 194/250\n",
            "178/178 [==============================] - 24s 133ms/step - loss: 2.7476 - acc: 0.2452 - val_loss: 4.7832 - val_acc: 0.1833\n",
            "Epoch 195/250\n",
            "178/178 [==============================] - 23s 127ms/step - loss: 2.7258 - acc: 0.2385 - val_loss: 4.8708 - val_acc: 0.1822\n",
            "Epoch 196/250\n",
            "178/178 [==============================] - 23s 129ms/step - loss: 2.7750 - acc: 0.2505 - val_loss: 4.7996 - val_acc: 0.1769\n",
            "Epoch 197/250\n",
            "178/178 [==============================] - 23s 127ms/step - loss: 2.7098 - acc: 0.2428 - val_loss: 4.6819 - val_acc: 0.1653\n",
            "Epoch 198/250\n",
            "178/178 [==============================] - 20s 108ms/step - loss: 2.8451 - acc: 0.2424 - val_loss: 4.6674 - val_acc: 0.1801\n",
            "Epoch 199/250\n",
            "178/178 [==============================] - 19s 102ms/step - loss: 2.8142 - acc: 0.2350 - val_loss: 4.9729 - val_acc: 0.1727\n",
            "Epoch 200/250\n",
            "178/178 [==============================] - 23s 128ms/step - loss: 2.8205 - acc: 0.2385 - val_loss: 4.6740 - val_acc: 0.1716\n",
            "Epoch 201/250\n",
            "178/178 [==============================] - 19s 103ms/step - loss: 2.9034 - acc: 0.2403 - val_loss: 4.7958 - val_acc: 0.1653\n",
            "Epoch 202/250\n",
            "178/178 [==============================] - 24s 132ms/step - loss: 2.7380 - acc: 0.2347 - val_loss: 4.7929 - val_acc: 0.1769\n",
            "Epoch 203/250\n",
            "178/178 [==============================] - 23s 128ms/step - loss: 2.8514 - acc: 0.2368 - val_loss: 4.7052 - val_acc: 0.1790\n",
            "Epoch 204/250\n",
            "178/178 [==============================] - 23s 127ms/step - loss: 2.8776 - acc: 0.2276 - val_loss: 4.8677 - val_acc: 0.1822\n",
            "Epoch 205/250\n",
            "178/178 [==============================] - 23s 128ms/step - loss: 2.7836 - acc: 0.2459 - val_loss: 4.6261 - val_acc: 0.1886\n",
            "Epoch 206/250\n",
            "178/178 [==============================] - 24s 132ms/step - loss: 2.7467 - acc: 0.2438 - val_loss: 4.9206 - val_acc: 0.1716\n",
            "Epoch 207/250\n",
            "178/178 [==============================] - 23s 129ms/step - loss: 2.8463 - acc: 0.2438 - val_loss: 4.7476 - val_acc: 0.1716\n",
            "Epoch 208/250\n",
            "178/178 [==============================] - 24s 130ms/step - loss: 3.0122 - acc: 0.2230 - val_loss: 4.9648 - val_acc: 0.1748\n",
            "Epoch 209/250\n",
            "178/178 [==============================] - 23s 127ms/step - loss: 2.8927 - acc: 0.2350 - val_loss: 4.6399 - val_acc: 0.1864\n",
            "Epoch 210/250\n",
            "178/178 [==============================] - 24s 130ms/step - loss: 2.8652 - acc: 0.2414 - val_loss: 4.6560 - val_acc: 0.1939\n",
            "Epoch 211/250\n",
            "178/178 [==============================] - 24s 133ms/step - loss: 2.8451 - acc: 0.2343 - val_loss: 4.5826 - val_acc: 0.1653\n",
            "Epoch 212/250\n",
            "178/178 [==============================] - 23s 128ms/step - loss: 2.8273 - acc: 0.2347 - val_loss: 5.0553 - val_acc: 0.1621\n",
            "Epoch 213/250\n",
            "178/178 [==============================] - 23s 126ms/step - loss: 2.7974 - acc: 0.2406 - val_loss: 4.7461 - val_acc: 0.1706\n",
            "Epoch 214/250\n",
            "178/178 [==============================] - 24s 129ms/step - loss: 2.8556 - acc: 0.2371 - val_loss: 4.7457 - val_acc: 0.1790\n",
            "Epoch 215/250\n",
            "178/178 [==============================] - 24s 132ms/step - loss: 2.8196 - acc: 0.2474 - val_loss: 4.5875 - val_acc: 0.1642\n",
            "Epoch 216/250\n",
            "178/178 [==============================] - 23s 128ms/step - loss: 2.7838 - acc: 0.2308 - val_loss: 4.9667 - val_acc: 0.1684\n",
            "Epoch 217/250\n",
            "178/178 [==============================] - 24s 130ms/step - loss: 2.8099 - acc: 0.2265 - val_loss: 5.0996 - val_acc: 0.1727\n",
            "Epoch 218/250\n",
            "178/178 [==============================] - 20s 111ms/step - loss: 2.8522 - acc: 0.2336 - val_loss: 4.6544 - val_acc: 0.1568\n",
            "Epoch 219/250\n",
            "178/178 [==============================] - 24s 130ms/step - loss: 2.7532 - acc: 0.2318 - val_loss: 4.9147 - val_acc: 0.1663\n",
            "Epoch 220/250\n",
            "178/178 [==============================] - 25s 136ms/step - loss: 2.9377 - acc: 0.2452 - val_loss: 4.7959 - val_acc: 0.1780\n",
            "Epoch 221/250\n",
            "178/178 [==============================] - 25s 137ms/step - loss: 2.9018 - acc: 0.2357 - val_loss: 4.6913 - val_acc: 0.1716\n",
            "Epoch 222/250\n",
            "178/178 [==============================] - 23s 128ms/step - loss: 2.8795 - acc: 0.2371 - val_loss: 4.8807 - val_acc: 0.1716\n",
            "Epoch 223/250\n",
            "178/178 [==============================] - 23s 128ms/step - loss: 2.8310 - acc: 0.2477 - val_loss: 4.8199 - val_acc: 0.1653\n",
            "Epoch 224/250\n",
            "178/178 [==============================] - 23s 128ms/step - loss: 2.8034 - acc: 0.2484 - val_loss: 4.9909 - val_acc: 0.1684\n",
            "Epoch 225/250\n",
            "178/178 [==============================] - 24s 132ms/step - loss: 2.9216 - acc: 0.2283 - val_loss: 4.8496 - val_acc: 0.1589\n",
            "Epoch 226/250\n",
            "178/178 [==============================] - 23s 129ms/step - loss: 2.9328 - acc: 0.2378 - val_loss: 4.8570 - val_acc: 0.1801\n",
            "Epoch 227/250\n",
            "178/178 [==============================] - 23s 127ms/step - loss: 2.8818 - acc: 0.2403 - val_loss: 4.7811 - val_acc: 0.1578\n",
            "Epoch 228/250\n",
            "178/178 [==============================] - 23s 128ms/step - loss: 2.8588 - acc: 0.2329 - val_loss: 4.8986 - val_acc: 0.1653\n",
            "Epoch 229/250\n",
            "178/178 [==============================] - 24s 132ms/step - loss: 2.9295 - acc: 0.2406 - val_loss: 4.7332 - val_acc: 0.1621\n",
            "Epoch 230/250\n",
            "178/178 [==============================] - 23s 128ms/step - loss: 2.8616 - acc: 0.2329 - val_loss: 4.8137 - val_acc: 0.1642\n",
            "Epoch 231/250\n",
            "178/178 [==============================] - 23s 129ms/step - loss: 2.8660 - acc: 0.2572 - val_loss: 4.6927 - val_acc: 0.1790\n",
            "Epoch 232/250\n",
            "178/178 [==============================] - 23s 128ms/step - loss: 2.9131 - acc: 0.2255 - val_loss: 4.7554 - val_acc: 0.1653\n",
            "Epoch 233/250\n",
            "178/178 [==============================] - 24s 132ms/step - loss: 2.8108 - acc: 0.2258 - val_loss: 4.9231 - val_acc: 0.1737\n",
            "Epoch 234/250\n",
            "178/178 [==============================] - 23s 127ms/step - loss: 2.8913 - acc: 0.2512 - val_loss: 4.9180 - val_acc: 0.1854\n",
            "Epoch 235/250\n",
            "178/178 [==============================] - 23s 128ms/step - loss: 2.8304 - acc: 0.2343 - val_loss: 4.9591 - val_acc: 0.1642\n",
            "Epoch 236/250\n",
            "178/178 [==============================] - 23s 128ms/step - loss: 2.8667 - acc: 0.2456 - val_loss: 4.8363 - val_acc: 0.1578\n",
            "Epoch 237/250\n",
            "178/178 [==============================] - 23s 129ms/step - loss: 2.8066 - acc: 0.2445 - val_loss: 5.0355 - val_acc: 0.1621\n",
            "Epoch 238/250\n",
            "178/178 [==============================] - 23s 129ms/step - loss: 2.8654 - acc: 0.2347 - val_loss: 4.9719 - val_acc: 0.1600\n",
            "Epoch 239/250\n",
            "178/178 [==============================] - 24s 133ms/step - loss: 2.8903 - acc: 0.2421 - val_loss: 4.9565 - val_acc: 0.1907\n",
            "Epoch 240/250\n",
            "178/178 [==============================] - 24s 131ms/step - loss: 2.8683 - acc: 0.2406 - val_loss: 4.8367 - val_acc: 0.1621\n",
            "Epoch 241/250\n",
            "178/178 [==============================] - 23s 129ms/step - loss: 2.9036 - acc: 0.2276 - val_loss: 4.6506 - val_acc: 0.1811\n",
            "Epoch 242/250\n",
            "178/178 [==============================] - 23s 129ms/step - loss: 2.8858 - acc: 0.2364 - val_loss: 4.7637 - val_acc: 0.1822\n",
            "Epoch 243/250\n",
            "178/178 [==============================] - 24s 130ms/step - loss: 2.9569 - acc: 0.2354 - val_loss: 4.8466 - val_acc: 0.1833\n",
            "Epoch 244/250\n",
            "178/178 [==============================] - 24s 134ms/step - loss: 2.8936 - acc: 0.2421 - val_loss: 4.8559 - val_acc: 0.1674\n",
            "Epoch 245/250\n",
            "178/178 [==============================] - 23s 127ms/step - loss: 2.8508 - acc: 0.2438 - val_loss: 4.9372 - val_acc: 0.1833\n",
            "Epoch 246/250\n",
            "178/178 [==============================] - 23s 129ms/step - loss: 2.8682 - acc: 0.2435 - val_loss: 4.6030 - val_acc: 0.1864\n",
            "Epoch 247/250\n",
            "178/178 [==============================] - 24s 130ms/step - loss: 2.8458 - acc: 0.2481 - val_loss: 4.9272 - val_acc: 0.1790\n",
            "Epoch 248/250\n",
            "178/178 [==============================] - 24s 134ms/step - loss: 2.8239 - acc: 0.2526 - val_loss: 4.6976 - val_acc: 0.1886\n",
            "Epoch 249/250\n",
            "178/178 [==============================] - 23s 128ms/step - loss: 2.8447 - acc: 0.2357 - val_loss: 5.0925 - val_acc: 0.1674\n",
            "Epoch 250/250\n",
            "178/178 [==============================] - 23s 128ms/step - loss: 2.8378 - acc: 0.2311 - val_loss: 5.1052 - val_acc: 0.1758\n"
          ]
        }
      ],
      "source": [
        "history = model.fit_generator(\n",
        "      train_generator,\n",
        "      steps_per_epoch= NUM_TRAIN //batch_size,\n",
        "      epochs=epochs,\n",
        "      validation_data=validation_generator,\n",
        "      validation_steps= NUM_TEST //batch_size,\n",
        "      verbose=1,\n",
        "      use_multiprocessing=True,\n",
        "      workers=4)"
      ]
    },
    {
      "cell_type": "code",
      "execution_count": 17,
      "metadata": {
        "id": "Y3K89-CM-dfg",
        "colab": {
          "base_uri": "https://localhost:8080/",
          "height": 545
        },
        "outputId": "7059388d-42ea-4158-cd34-9d1ca4ed7b51"
      },
      "outputs": [
        {
          "output_type": "display_data",
          "data": {
            "text/plain": [
              "<Figure size 432x288 with 1 Axes>"
            ],
            "image/png": "[encoded data removed]"
          },
          "metadata": {
            "needs_background": "light"
          }
        },
        {
          "output_type": "display_data",
          "data": {
            "text/plain": [
              "<Figure size 432x288 with 1 Axes>"
            ],
            "image/png": "[encoded data removed]"
          },
          "metadata": {
            "needs_background": "light"
          }
        }
      ],
      "source": [
        "acc = history.history['acc']\n",
        "val_acc = history.history['val_acc']\n",
        "loss = history.history['loss']\n",
        "val_loss = history.history['val_loss']\n",
        "\n",
        "epochs_x = range(len(acc))\n",
        "\n",
        "plt.plot(epochs_x, acc, 'ro', label='Training acc')\n",
        "plt.plot(epochs_x, val_acc, 'k', label='Validation acc')\n",
        "plt.title('Training and validation accuracy')\n",
        "plt.legend()\n",
        "\n",
        "plt.figure()\n",
        "\n",
        "plt.plot(epochs_x, loss, 'ro', label='Training loss')\n",
        "plt.plot(epochs_x, val_loss, 'k', label='Validation loss')\n",
        "plt.title('Training and validation loss')\n",
        "plt.legend()\n",
        "\n",
        "plt.show()"
      ]
    },
    {
      "cell_type": "markdown",
      "metadata": {
        "id": "R19IJQSYoW7J"
      },
      "source": [
        "#Download the model\n"
      ]
    },
    {
      "cell_type": "code",
      "execution_count": 18,
      "metadata": {
        "id": "Zed4TdFcG2iJ"
      },
      "outputs": [],
      "source": [
        "os.makedirs('/content/drive/My Drive/cut_panoramic/Model', exist_ok=True)\n",
        "model.save('/content/drive/MyDrive/cut_panoramic/Model/Classification/All_Age/AC3_AllAge_Unfreeze_250.h5')"
      ]
    },
    {
      "cell_type": "code",
      "execution_count": 19,
      "metadata": {
        "id": "P5eMxm1NV-oY",
        "colab": {
          "base_uri": "https://localhost:8080/",
          "height": 17
        },
        "outputId": "f9c10a23-7dc7-40ef-d3f6-ccbb97041423"
      },
      "outputs": [
        {
          "output_type": "display_data",
          "data": {
            "text/plain": [
              "<IPython.core.display.Javascript object>"
            ],
            "application/javascript": [
              "\n",
              "    async function download(id, filename, size) {\n",
              "      if (!google.colab.kernel.accessAllowed) {\n",
              "        return;\n",
              "      }\n",
              "      const div = document.createElement('div');\n",
              "      const label = document.createElement('label');\n",
              "      label.textContent = `Downloading \"${filename}\": `;\n",
              "      div.appendChild(label);\n",
              "      const progress = document.createElement('progress');\n",
              "      progress.max = size;\n",
              "      div.appendChild(progress);\n",
              "      document.body.appendChild(div);\n",
              "\n",
              "      const buffers = [];\n",
              "      let downloaded = 0;\n",
              "\n",
              "      const channel = await google.colab.kernel.comms.open(id);\n",
              "      // Send a message to notify the kernel that we're ready.\n",
              "      channel.send({})\n",
              "\n",
              "      for await (const message of channel.messages) {\n",
              "        // Send a message to notify the kernel that we're ready.\n",
              "        channel.send({})\n",
              "        if (message.buffers) {\n",
              "          for (const buffer of message.buffers) {\n",
              "            buffers.push(buffer);\n",
              "            downloaded += buffer.byteLength;\n",
              "            progress.value = downloaded;\n",
              "          }\n",
              "        }\n",
              "      }\n",
              "      const blob = new Blob(buffers, {type: 'application/binary'});\n",
              "      const a = document.createElement('a');\n",
              "      a.href = window.URL.createObjectURL(blob);\n",
              "      a.download = filename;\n",
              "      div.appendChild(a);\n",
              "      a.click();\n",
              "      div.remove();\n",
              "    }\n",
              "  "
            ]
          },
          "metadata": {}
        },
        {
          "output_type": "display_data",
          "data": {
            "text/plain": [
              "<IPython.core.display.Javascript object>"
            ],
            "application/javascript": [
              "download(\"download_cd8cbd37-30c4-4fba-bfe6-fd29db6d8075\", \"AC3_AllAge_Unfreeze_250.h5\", 16778608)"
            ]
          },
          "metadata": {}
        }
      ],
      "source": [
        "from google.colab import files\n",
        "files.download('/content/drive/MyDrive/cut_panoramic/Model/Classification/All_Age/AC3_AllAge_Unfreeze_250.h5')"
      ]
    },
    {
      "cell_type": "code",
      "execution_count": 19,
      "metadata": {
        "id": "xlsuaFIUVriv"
      },
      "outputs": [],
      "source": []
    }
  ],
  "metadata": {
    "colab": {
      "provenance": [],
      "machine_shape": "hm",
      "include_colab_link": true
    },
    "kernelspec": {
      "display_name": "Python 3",
      "name": "python3"
    },
    "language_info": {
      "name": "python"
    },
    "accelerator": "GPU",
    "gpuClass": "standard"
  },
  "nbformat": 4,
  "nbformat_minor": 0
}