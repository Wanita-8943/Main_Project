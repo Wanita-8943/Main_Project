{
  "nbformat": 4,
  "nbformat_minor": 0,
  "metadata": {
    "colab": {
      "provenance": [],
      "machine_shape": "hm",
      "include_colab_link": true
    },
    "kernelspec": {
      "name": "python3",
      "display_name": "Python 3"
    },
    "language_info": {
      "name": "python"
    },
    "accelerator": "GPU",
    "gpuClass": "standard"
  },
  "cells": [
    {
      "cell_type": "markdown",
      "metadata": {
        "id": "view-in-github",
        "colab_type": "text"
      },
      "source": [
        "<a href=\"https://colab.research.google.com/github/Wanita-8943/Main_Project/blob/main/A13_Train_Unfreeze.ipynb\" target=\"_parent\"><img src=\"https://colab.research.google.com/assets/colab-badge.svg\" alt=\"Open In Colab\"/></a>"
      ]
    },
    {
      "cell_type": "markdown",
      "source": [
        "#เรียกใช้ CSV"
      ],
      "metadata": {
        "id": "ow7eWoNw6U-c"
      }
    },
    {
      "cell_type": "code",
      "execution_count": 1,
      "metadata": {
        "id": "z8o_VVNXzcL8"
      },
      "outputs": [],
      "source": [
        "import pandas as pd\n",
        "import shutil"
      ]
    },
    {
      "cell_type": "code",
      "source": [
        "from google.colab import drive\n",
        "drive.mount('/content/drive')"
      ],
      "metadata": {
        "colab": {
          "base_uri": "https://localhost:8080/"
        },
        "id": "1_2Fe8u81d5r",
        "outputId": "af85fe40-d6f2-4e5c-e023-a0a0862ef416"
      },
      "execution_count": 2,
      "outputs": [
        {
          "output_type": "stream",
          "name": "stdout",
          "text": [
            "Mounted at /content/drive\n"
          ]
        }
      ]
    },
    {
      "cell_type": "markdown",
      "source": [
        "#Imports"
      ],
      "metadata": {
        "id": "5qxePnnn7TGW"
      }
    },
    {
      "cell_type": "code",
      "source": [
        "from tensorflow.keras import models\n",
        "from tensorflow.keras import layers\n",
        "from tensorflow.keras import optimizers\n",
        "import os\n",
        "import glob\n",
        "import shutil\n",
        "import sys\n",
        "import numpy as np\n",
        "from skimage.io import imread\n",
        "import matplotlib.pyplot as plt\n",
        "from IPython.display import Image\n",
        "%matplotlib inline"
      ],
      "metadata": {
        "id": "D-hCRloc3t39"
      },
      "execution_count": 3,
      "outputs": []
    },
    {
      "cell_type": "code",
      "source": [
        "import tensorflow as tf\n",
        "from tensorflow.keras import Sequential\n",
        "from tensorflow.keras.layers import Dense\n",
        "from tensorflow.keras.optimizers import Adam\n",
        "from tensorflow.keras import backend as K"
      ],
      "metadata": {
        "id": "YZWXwjXeGxZP"
      },
      "execution_count": 4,
      "outputs": []
    },
    {
      "cell_type": "markdown",
      "source": [
        "#กำหนดค่าพารามิเตอร์\n"
      ],
      "metadata": {
        "id": "RooqSdBc7QHC"
      }
    },
    {
      "cell_type": "code",
      "source": [
        "batch_size = 16\n",
        "width = 150\n",
        "height = 150\n",
        "epochs = 250\n",
        "NUM_TRAIN = 2850\n",
        "NUM_TEST = 950\n",
        "dropout_rate = 0.2\n",
        "input_shape = (height, width, 3)"
      ],
      "metadata": {
        "id": "thDb7U9B3xOo"
      },
      "execution_count": 5,
      "outputs": []
    },
    {
      "cell_type": "markdown",
      "source": [
        "#Clone efficientnet repo\n"
      ],
      "metadata": {
        "id": "pumGmy6f3eSW"
      }
    },
    {
      "cell_type": "code",
      "source": [
        "#ดึงข้อมูลใน Github มาใช้\n",
        "import os\n",
        "%cd /content\n",
        "if not os.path.isdir(\"efficientnet_keras_transfer_learning\"):\n",
        " !git clone https://github.com/Wanita-8943/efficientnet_keras_transfer_learning\n",
        "%cd efficientnet_keras_transfer_learning/\n"
      ],
      "metadata": {
        "colab": {
          "base_uri": "https://localhost:8080/"
        },
        "id": "P7iy2f8n16p0",
        "outputId": "0eb2f6d2-7e0f-467a-e449-d7a0421ad927"
      },
      "execution_count": 6,
      "outputs": [
        {
          "output_type": "stream",
          "name": "stdout",
          "text": [
            "/content\n",
            "Cloning into 'efficientnet_keras_transfer_learning'...\n",
            "remote: Enumerating objects: 1085, done.\u001b[K\n",
            "remote: Counting objects: 100% (248/248), done.\u001b[K\n",
            "remote: Compressing objects: 100% (127/127), done.\u001b[K\n",
            "remote: Total 1085 (delta 124), reused 241 (delta 121), pack-reused 837\u001b[K\n",
            "Receiving objects: 100% (1085/1085), 14.09 MiB | 18.08 MiB/s, done.\n",
            "Resolving deltas: 100% (621/621), done.\n",
            "/content/efficientnet_keras_transfer_learning\n"
          ]
        }
      ]
    },
    {
      "cell_type": "code",
      "source": [
        "# Options: EfficientNetB0, EfficientNetB1, EfficientNetB2, EfficientNetB3\n",
        "# Higher the number, the more complex the model is.\n",
        "from efficientnet import EfficientNetB0 as Net\n",
        "from efficientnet import center_crop_and_resize, preprocess_input"
      ],
      "metadata": {
        "id": "tjZBRnfo3bN0"
      },
      "execution_count": 7,
      "outputs": []
    },
    {
      "cell_type": "code",
      "source": [
        "# loading pretrained conv base model\n",
        "# โหลดโมเดล มาโดยตัด output ของโมเดลออก เเต่ยังใช้ input อันเดิม\n",
        "# เเละโหลด weight ของโมเดล มาด้วยที่ชื่อว่า imagenet\n",
        "conv_base = Net(weights='imagenet', include_top=False, input_shape=input_shape)"
      ],
      "metadata": {
        "colab": {
          "base_uri": "https://localhost:8080/"
        },
        "id": "r8BN74_JJdfj",
        "outputId": "3a8e9263-8ecf-45ec-d99f-af702f4f13d3"
      },
      "execution_count": 8,
      "outputs": [
        {
          "output_type": "stream",
          "name": "stdout",
          "text": [
            "Downloading data from https://github.com/qubvel/efficientnet/releases/download/v0.0.1/efficientnet-b0_imagenet_1000_notop.h5\n",
            "16717576/16717576 [==============================] - 6s 0us/step\n"
          ]
        }
      ]
    },
    {
      "cell_type": "markdown",
      "source": [
        "#load model\n"
      ],
      "metadata": {
        "id": "PdNWyD-QYkzK"
      }
    },
    {
      "cell_type": "code",
      "source": [
        "import sys\n",
        "sys.path.append('/content/drive/MyDrive/cut_panoramic/Model/Regression/All/12Re_All_1G_1e-4_16_0.2_250_New_Unfreez.h5')\n",
        "\n",
        "from efficientnet.layers import Swish, DropConnect\n",
        "from efficientnet.model import ConvKernalInitializer\n",
        "from tensorflow.keras.utils import get_custom_objects\n",
        "\n",
        "get_custom_objects().update({\n",
        "    'ConvKernalInitializer': ConvKernalInitializer,\n",
        "    'Swish': Swish,\n",
        "    'DropConnect':DropConnect\n",
        "})"
      ],
      "metadata": {
        "id": "_gPnx2UvYf5A"
      },
      "execution_count": 9,
      "outputs": []
    },
    {
      "cell_type": "code",
      "source": [
        "#load model \n",
        "from tensorflow.keras.models import load_model\n",
        "model = load_model('/content/drive/MyDrive/cut_panoramic/Model/Regression/All/12Re_All_1G_1e-4_16_0.2_250_New_Unfreez.h5')\n",
        "height = width = model.input_shape[1]"
      ],
      "metadata": {
        "id": "Nu93WzFUYm9e"
      },
      "execution_count": 10,
      "outputs": []
    },
    {
      "cell_type": "code",
      "source": [
        "model.summary()"
      ],
      "metadata": {
        "id": "gp5EbyyXYvc6",
        "colab": {
          "base_uri": "https://localhost:8080/"
        },
        "outputId": "a1fe2695-83d3-4569-cfbd-1926eea6e241"
      },
      "execution_count": 11,
      "outputs": [
        {
          "output_type": "stream",
          "name": "stdout",
          "text": [
            "Model: \"sequential\"\n",
            "_________________________________________________________________\n",
            " Layer (type)                Output Shape              Param #   \n",
            "=================================================================\n",
            " efficientnet-b0 (Functional  (None, 5, 5, 1280)       4049564   \n",
            " )                                                               \n",
            "                                                                 \n",
            " gap (GlobalMaxPooling2D)    (None, 1280)              0         \n",
            "                                                                 \n",
            " dropout_out (Dropout)       (None, 1280)              0         \n",
            "                                                                 \n",
            " fc_out (Dense)              (None, 19)                24339     \n",
            "                                                                 \n",
            " dense (Dense)               (None, 1)                 20        \n",
            "                                                                 \n",
            "=================================================================\n",
            "Total params: 4,073,923\n",
            "Trainable params: 4,031,907\n",
            "Non-trainable params: 42,016\n",
            "_________________________________________________________________\n"
          ]
        }
      ]
    },
    {
      "cell_type": "code",
      "source": [
        "df = pd.read_csv (r'/content/drive/MyDrive/cut_panoramic/Data/All_Re.csv')\n",
        "df"
      ],
      "metadata": {
        "id": "q1Dc131_Y3uA",
        "colab": {
          "base_uri": "https://localhost:8080/",
          "height": 423
        },
        "outputId": "e4b73822-f2ae-4d71-8e2a-4bda322eace9"
      },
      "execution_count": 12,
      "outputs": [
        {
          "output_type": "execute_result",
          "data": {
            "text/plain": [
              "      Fig_Age  Fig_Person_Sex  Age(year) Class  Class_Re       Filename  \\\n",
              "0           1               1          7  Y07F         1         V1.jpg   \n",
              "1           2               1          7  Y07F         1    Flip_V1.jpg   \n",
              "2           3               2          7  Y07F         1         V2.jpg   \n",
              "3           4               2          7  Y07F         1    Flip_V2.jpg   \n",
              "4           5               3          7  Y07F         1         V3.jpg   \n",
              "...       ...             ...        ...   ...       ...            ...   \n",
              "4745      121              77         25  Y25M        19  Flip_J463.jpg   \n",
              "4746      122              78         25  Y25M        19       J464.jpg   \n",
              "4747      123              78         25  Y25M        19  Flip_J464.jpg   \n",
              "4748      124              79         25  Y25M        19       J465.jpg   \n",
              "4749      125              79         25  Y25M        19  Flip_J465.jpg   \n",
              "\n",
              "                                          Path_filename     Sex Floder  \n",
              "0     /content/drive/My Drive/TVT_Gender/train/Femal...  Female   Both  \n",
              "1     /content/drive/My Drive/TVT_Gender/train/Femal...  Female   Both  \n",
              "2     /content/drive/My Drive/TVT_Gender/train/Femal...  Female   Both  \n",
              "3     /content/drive/My Drive/TVT_Gender/train/Femal...  Female   Both  \n",
              "4     /content/drive/My Drive/TVT_Gender/train/Femal...  Female   Both  \n",
              "...                                                 ...     ...    ...  \n",
              "4745  /content/drive/My Drive/TVT_Gender/test/Male/F...    Male   Both  \n",
              "4746  /content/drive/My Drive/TVT_Gender/test/Male/J...    Male   Both  \n",
              "4747  /content/drive/My Drive/TVT_Gender/test/Male/F...    Male   Both  \n",
              "4748  /content/drive/My Drive/TVT_Gender/test/Male/J...    Male   Both  \n",
              "4749  /content/drive/My Drive/TVT_Gender/test/Male/F...    Male   Both  \n",
              "\n",
              "[4750 rows x 9 columns]"
            ],
            "text/html": [
              "\n",
              "  <div id=\"df-f07889a9-71d0-4f0d-ad5f-3e01b55b9416\">\n",
              "    <div class=\"colab-df-container\">\n",
              "      <div>\n",
              "<style scoped>\n",
              "    .dataframe tbody tr th:only-of-type {\n",
              "        vertical-align: middle;\n",
              "    }\n",
              "\n",
              "    .dataframe tbody tr th {\n",
              "        vertical-align: top;\n",
              "    }\n",
              "\n",
              "    .dataframe thead th {\n",
              "        text-align: right;\n",
              "    }\n",
              "</style>\n",
              "<table border=\"1\" class=\"dataframe\">\n",
              "  <thead>\n",
              "    <tr style=\"text-align: right;\">\n",
              "      <th></th>\n",
              "      <th>Fig_Age</th>\n",
              "      <th>Fig_Person_Sex</th>\n",
              "      <th>Age(year)</th>\n",
              "      <th>Class</th>\n",
              "      <th>Class_Re</th>\n",
              "      <th>Filename</th>\n",
              "      <th>Path_filename</th>\n",
              "      <th>Sex</th>\n",
              "      <th>Floder</th>\n",
              "    </tr>\n",
              "  </thead>\n",
              "  <tbody>\n",
              "    <tr>\n",
              "      <th>0</th>\n",
              "      <td>1</td>\n",
              "      <td>1</td>\n",
              "      <td>7</td>\n",
              "      <td>Y07F</td>\n",
              "      <td>1</td>\n",
              "      <td>V1.jpg</td>\n",
              "      <td>/content/drive/My Drive/TVT_Gender/train/Femal...</td>\n",
              "      <td>Female</td>\n",
              "      <td>Both</td>\n",
              "    </tr>\n",
              "    <tr>\n",
              "      <th>1</th>\n",
              "      <td>2</td>\n",
              "      <td>1</td>\n",
              "      <td>7</td>\n",
              "      <td>Y07F</td>\n",
              "      <td>1</td>\n",
              "      <td>Flip_V1.jpg</td>\n",
              "      <td>/content/drive/My Drive/TVT_Gender/train/Femal...</td>\n",
              "      <td>Female</td>\n",
              "      <td>Both</td>\n",
              "    </tr>\n",
              "    <tr>\n",
              "      <th>2</th>\n",
              "      <td>3</td>\n",
              "      <td>2</td>\n",
              "      <td>7</td>\n",
              "      <td>Y07F</td>\n",
              "      <td>1</td>\n",
              "      <td>V2.jpg</td>\n",
              "      <td>/content/drive/My Drive/TVT_Gender/train/Femal...</td>\n",
              "      <td>Female</td>\n",
              "      <td>Both</td>\n",
              "    </tr>\n",
              "    <tr>\n",
              "      <th>3</th>\n",
              "      <td>4</td>\n",
              "      <td>2</td>\n",
              "      <td>7</td>\n",
              "      <td>Y07F</td>\n",
              "      <td>1</td>\n",
              "      <td>Flip_V2.jpg</td>\n",
              "      <td>/content/drive/My Drive/TVT_Gender/train/Femal...</td>\n",
              "      <td>Female</td>\n",
              "      <td>Both</td>\n",
              "    </tr>\n",
              "    <tr>\n",
              "      <th>4</th>\n",
              "      <td>5</td>\n",
              "      <td>3</td>\n",
              "      <td>7</td>\n",
              "      <td>Y07F</td>\n",
              "      <td>1</td>\n",
              "      <td>V3.jpg</td>\n",
              "      <td>/content/drive/My Drive/TVT_Gender/train/Femal...</td>\n",
              "      <td>Female</td>\n",
              "      <td>Both</td>\n",
              "    </tr>\n",
              "    <tr>\n",
              "      <th>...</th>\n",
              "      <td>...</td>\n",
              "      <td>...</td>\n",
              "      <td>...</td>\n",
              "      <td>...</td>\n",
              "      <td>...</td>\n",
              "      <td>...</td>\n",
              "      <td>...</td>\n",
              "      <td>...</td>\n",
              "      <td>...</td>\n",
              "    </tr>\n",
              "    <tr>\n",
              "      <th>4745</th>\n",
              "      <td>121</td>\n",
              "      <td>77</td>\n",
              "      <td>25</td>\n",
              "      <td>Y25M</td>\n",
              "      <td>19</td>\n",
              "      <td>Flip_J463.jpg</td>\n",
              "      <td>/content/drive/My Drive/TVT_Gender/test/Male/F...</td>\n",
              "      <td>Male</td>\n",
              "      <td>Both</td>\n",
              "    </tr>\n",
              "    <tr>\n",
              "      <th>4746</th>\n",
              "      <td>122</td>\n",
              "      <td>78</td>\n",
              "      <td>25</td>\n",
              "      <td>Y25M</td>\n",
              "      <td>19</td>\n",
              "      <td>J464.jpg</td>\n",
              "      <td>/content/drive/My Drive/TVT_Gender/test/Male/J...</td>\n",
              "      <td>Male</td>\n",
              "      <td>Both</td>\n",
              "    </tr>\n",
              "    <tr>\n",
              "      <th>4747</th>\n",
              "      <td>123</td>\n",
              "      <td>78</td>\n",
              "      <td>25</td>\n",
              "      <td>Y25M</td>\n",
              "      <td>19</td>\n",
              "      <td>Flip_J464.jpg</td>\n",
              "      <td>/content/drive/My Drive/TVT_Gender/test/Male/F...</td>\n",
              "      <td>Male</td>\n",
              "      <td>Both</td>\n",
              "    </tr>\n",
              "    <tr>\n",
              "      <th>4748</th>\n",
              "      <td>124</td>\n",
              "      <td>79</td>\n",
              "      <td>25</td>\n",
              "      <td>Y25M</td>\n",
              "      <td>19</td>\n",
              "      <td>J465.jpg</td>\n",
              "      <td>/content/drive/My Drive/TVT_Gender/test/Male/J...</td>\n",
              "      <td>Male</td>\n",
              "      <td>Both</td>\n",
              "    </tr>\n",
              "    <tr>\n",
              "      <th>4749</th>\n",
              "      <td>125</td>\n",
              "      <td>79</td>\n",
              "      <td>25</td>\n",
              "      <td>Y25M</td>\n",
              "      <td>19</td>\n",
              "      <td>Flip_J465.jpg</td>\n",
              "      <td>/content/drive/My Drive/TVT_Gender/test/Male/F...</td>\n",
              "      <td>Male</td>\n",
              "      <td>Both</td>\n",
              "    </tr>\n",
              "  </tbody>\n",
              "</table>\n",
              "<p>4750 rows × 9 columns</p>\n",
              "</div>\n",
              "      <button class=\"colab-df-convert\" onclick=\"convertToInteractive('df-f07889a9-71d0-4f0d-ad5f-3e01b55b9416')\"\n",
              "              title=\"Convert this dataframe to an interactive table.\"\n",
              "              style=\"display:none;\">\n",
              "        \n",
              "  <svg xmlns=\"http://www.w3.org/2000/svg\" height=\"24px\"viewBox=\"0 0 24 24\"\n",
              "       width=\"24px\">\n",
              "    <path d=\"M0 0h24v24H0V0z\" fill=\"none\"/>\n",
              "    <path d=\"M18.56 5.44l.94 2.06.94-2.06 2.06-.94-2.06-.94-.94-2.06-.94 2.06-2.06.94zm-11 1L8.5 8.5l.94-2.06 2.06-.94-2.06-.94L8.5 2.5l-.94 2.06-2.06.94zm10 10l.94 2.06.94-2.06 2.06-.94-2.06-.94-.94-2.06-.94 2.06-2.06.94z\"/><path d=\"M17.41 7.96l-1.37-1.37c-.4-.4-.92-.59-1.43-.59-.52 0-1.04.2-1.43.59L10.3 9.45l-7.72 7.72c-.78.78-.78 2.05 0 2.83L4 21.41c.39.39.9.59 1.41.59.51 0 1.02-.2 1.41-.59l7.78-7.78 2.81-2.81c.8-.78.8-2.07 0-2.86zM5.41 20L4 18.59l7.72-7.72 1.47 1.35L5.41 20z\"/>\n",
              "  </svg>\n",
              "      </button>\n",
              "      \n",
              "  <style>\n",
              "    .colab-df-container {\n",
              "      display:flex;\n",
              "      flex-wrap:wrap;\n",
              "      gap: 12px;\n",
              "    }\n",
              "\n",
              "    .colab-df-convert {\n",
              "      background-color: #E8F0FE;\n",
              "      border: none;\n",
              "      border-radius: 50%;\n",
              "      cursor: pointer;\n",
              "      display: none;\n",
              "      fill: #1967D2;\n",
              "      height: 32px;\n",
              "      padding: 0 0 0 0;\n",
              "      width: 32px;\n",
              "    }\n",
              "\n",
              "    .colab-df-convert:hover {\n",
              "      background-color: #E2EBFA;\n",
              "      box-shadow: 0px 1px 2px rgba(60, 64, 67, 0.3), 0px 1px 3px 1px rgba(60, 64, 67, 0.15);\n",
              "      fill: #174EA6;\n",
              "    }\n",
              "\n",
              "    [theme=dark] .colab-df-convert {\n",
              "      background-color: #3B4455;\n",
              "      fill: #D2E3FC;\n",
              "    }\n",
              "\n",
              "    [theme=dark] .colab-df-convert:hover {\n",
              "      background-color: #434B5C;\n",
              "      box-shadow: 0px 1px 3px 1px rgba(0, 0, 0, 0.15);\n",
              "      filter: drop-shadow(0px 1px 2px rgba(0, 0, 0, 0.3));\n",
              "      fill: #FFFFFF;\n",
              "    }\n",
              "  </style>\n",
              "\n",
              "      <script>\n",
              "        const buttonEl =\n",
              "          document.querySelector('#df-f07889a9-71d0-4f0d-ad5f-3e01b55b9416 button.colab-df-convert');\n",
              "        buttonEl.style.display =\n",
              "          google.colab.kernel.accessAllowed ? 'block' : 'none';\n",
              "\n",
              "        async function convertToInteractive(key) {\n",
              "          const element = document.querySelector('#df-f07889a9-71d0-4f0d-ad5f-3e01b55b9416');\n",
              "          const dataTable =\n",
              "            await google.colab.kernel.invokeFunction('convertToInteractive',\n",
              "                                                     [key], {});\n",
              "          if (!dataTable) return;\n",
              "\n",
              "          const docLinkHtml = 'Like what you see? Visit the ' +\n",
              "            '<a target=\"_blank\" href=https://colab.research.google.com/notebooks/data_table.ipynb>data table notebook</a>'\n",
              "            + ' to learn more about interactive tables.';\n",
              "          element.innerHTML = '';\n",
              "          dataTable['output_type'] = 'display_data';\n",
              "          await google.colab.output.renderOutput(dataTable, element);\n",
              "          const docLink = document.createElement('div');\n",
              "          docLink.innerHTML = docLinkHtml;\n",
              "          element.appendChild(docLink);\n",
              "        }\n",
              "      </script>\n",
              "    </div>\n",
              "  </div>\n",
              "  "
            ]
          },
          "metadata": {},
          "execution_count": 12
        }
      ]
    },
    {
      "cell_type": "code",
      "source": [
        "train = df[df['Fig_Age'].between(1,75)]\n",
        "val = df[df['Fig_Age'].between(76,100)]"
      ],
      "metadata": {
        "id": "Z1zBw01Gl8Ac"
      },
      "execution_count": 13,
      "outputs": []
    },
    {
      "cell_type": "code",
      "source": [
        "DATA_PATH = \"/content/drive/My Drive/TVT_Gender\"\n",
        "os.chdir(DATA_PATH)\n",
        "train_dir = os.path.join(DATA_PATH, 'train')\n",
        "print(train_dir)\n",
        "validation_dir = os.path.join(DATA_PATH, 'validation')\n",
        "print(validation_dir)"
      ],
      "metadata": {
        "colab": {
          "base_uri": "https://localhost:8080/"
        },
        "id": "QL0g-8iOnMC4",
        "outputId": "b7b882f0-688a-4788-b7d5-876443d0c137"
      },
      "execution_count": 14,
      "outputs": [
        {
          "output_type": "stream",
          "name": "stdout",
          "text": [
            "/content/drive/My Drive/TVT_Gender/train\n",
            "/content/drive/My Drive/TVT_Gender/validation\n"
          ]
        }
      ]
    },
    {
      "cell_type": "markdown",
      "source": [
        "\n",
        "#Train"
      ],
      "metadata": {
        "id": "bWEnlTSwazL5"
      }
    },
    {
      "cell_type": "code",
      "source": [
        "# Train ด้วย ImageDataGenerator ของ Keras ซึ่งจะเพิ่มข้อมูลเสริมระหว่างการฝึกเพื่อลดโอกาสเกิด overfitting\n",
        "#overfitting เกิดจากข้อมูลที่ซับซ้อนกันเกินไป\n",
        "from tensorflow.keras.preprocessing.image import ImageDataGenerator\n",
        "\n",
        "train_datagen = ImageDataGenerator(\n",
        "      rescale=1./255, #โมเดลส่วนใหญ่ต้องใช้ RGB ในช่วง 0–1\n",
        "      rotation_range=40,\n",
        "      width_shift_range=0.2,\n",
        "      height_shift_range=0.2,\n",
        "      shear_range=0.2,\n",
        "      zoom_range=0.2,\n",
        "      horizontal_flip=True,\n",
        "      fill_mode='nearest')\n",
        "\n",
        "# Note that the validation data should not be augmented!\n",
        "test_datagen = ImageDataGenerator(rescale=1./255)"
      ],
      "metadata": {
        "id": "xGPrsn9no_pa"
      },
      "execution_count": 15,
      "outputs": []
    },
    {
      "cell_type": "code",
      "source": [
        "train_generator = train_datagen.flow_from_dataframe(\n",
        "        dataframe = train,\n",
        "        directory = train_dir,\n",
        "        x_col = 'Path_filename',\n",
        "        y_col = 'Class_Re',\n",
        "        class_mode = 'other',\n",
        "        target_size=(height, width),\n",
        "        batch_size=batch_size)\n",
        "\n",
        "validation_generator = test_datagen.flow_from_dataframe(\n",
        "        dataframe = val,\n",
        "        directory = validation_dir,\n",
        "        x_col = 'Path_filename',\n",
        "        y_col = 'Class_Re',\n",
        "        class_mode = 'other',\n",
        "        target_size=(height, width),\n",
        "        batch_size=batch_size)"
      ],
      "metadata": {
        "colab": {
          "base_uri": "https://localhost:8080/"
        },
        "id": "8nVlmAszntK_",
        "outputId": "7e402242-fc5d-4773-b968-1888825243e8"
      },
      "execution_count": 16,
      "outputs": [
        {
          "output_type": "stream",
          "name": "stdout",
          "text": [
            "Found 2850 validated image filenames.\n",
            "Found 950 validated image filenames.\n"
          ]
        }
      ]
    },
    {
      "cell_type": "code",
      "source": [
        "model.summary()"
      ],
      "metadata": {
        "colab": {
          "base_uri": "https://localhost:8080/"
        },
        "id": "zzCdn3X4Jm_E",
        "outputId": "8f0ddf69-9280-4849-db53-781080d91e30"
      },
      "execution_count": 17,
      "outputs": [
        {
          "output_type": "stream",
          "name": "stdout",
          "text": [
            "Model: \"sequential\"\n",
            "_________________________________________________________________\n",
            " Layer (type)                Output Shape              Param #   \n",
            "=================================================================\n",
            " efficientnet-b0 (Functional  (None, 5, 5, 1280)       4049564   \n",
            " )                                                               \n",
            "                                                                 \n",
            " gap (GlobalMaxPooling2D)    (None, 1280)              0         \n",
            "                                                                 \n",
            " dropout_out (Dropout)       (None, 1280)              0         \n",
            "                                                                 \n",
            " fc_out (Dense)              (None, 19)                24339     \n",
            "                                                                 \n",
            " dense (Dense)               (None, 1)                 20        \n",
            "                                                                 \n",
            "=================================================================\n",
            "Total params: 4,073,923\n",
            "Trainable params: 4,031,907\n",
            "Non-trainable params: 42,016\n",
            "_________________________________________________________________\n"
          ]
        }
      ]
    },
    {
      "cell_type": "code",
      "source": [
        "model.compile(loss='mse',\n",
        "          optimizer=Adam(learning_rate=1e-4),\n",
        "          metrics=['mae'])\n",
        "history = model.fit_generator(\n",
        "      train_generator,\n",
        "      steps_per_epoch= NUM_TRAIN //batch_size,\n",
        "      epochs=epochs,\n",
        "      validation_data=validation_generator,\n",
        "      validation_steps= NUM_TEST //batch_size,\n",
        "      verbose=1,\n",
        "      use_multiprocessing=True,\n",
        "      workers=4)"
      ],
      "metadata": {
        "id": "N6qUmmF856ZE",
        "outputId": "cbdc372e-d530-4eb8-84cd-3c68b2b1f769",
        "colab": {
          "base_uri": "https://localhost:8080/"
        }
      },
      "execution_count": 18,
      "outputs": [
        {
          "output_type": "stream",
          "name": "stderr",
          "text": [
            "<ipython-input-18-f59104fd3985>:4: UserWarning: `Model.fit_generator` is deprecated and will be removed in a future version. Please use `Model.fit`, which supports generators.\n",
            "  history = model.fit_generator(\n"
          ]
        },
        {
          "output_type": "stream",
          "name": "stdout",
          "text": [
            "Epoch 1/250\n",
            "178/178 [==============================] - 474s 2s/step - loss: 0.5062 - mae: 0.3811 - val_loss: 14.4083 - val_mae: 2.1448\n",
            "Epoch 2/250\n",
            "178/178 [==============================] - 27s 148ms/step - loss: 0.2908 - mae: 0.3555 - val_loss: 15.4564 - val_mae: 2.2588\n",
            "Epoch 3/250\n",
            "178/178 [==============================] - 24s 128ms/step - loss: 0.2956 - mae: 0.3431 - val_loss: 13.8125 - val_mae: 2.1002\n",
            "Epoch 4/250\n",
            "178/178 [==============================] - 28s 152ms/step - loss: 0.3174 - mae: 0.3511 - val_loss: 6.7397 - val_mae: 1.8986\n",
            "Epoch 5/250\n",
            "178/178 [==============================] - 27s 151ms/step - loss: 0.3709 - mae: 0.3678 - val_loss: 4.5498 - val_mae: 1.5979\n",
            "Epoch 6/250\n",
            "178/178 [==============================] - 28s 152ms/step - loss: 0.2654 - mae: 0.3441 - val_loss: 4.3647 - val_mae: 1.5805\n",
            "Epoch 7/250\n",
            "178/178 [==============================] - 28s 153ms/step - loss: 0.3582 - mae: 0.3611 - val_loss: 6.6298 - val_mae: 1.8865\n",
            "Epoch 8/250\n",
            "178/178 [==============================] - 27s 151ms/step - loss: 0.4555 - mae: 0.3605 - val_loss: 6.1044 - val_mae: 1.7935\n",
            "Epoch 9/250\n",
            "178/178 [==============================] - 27s 149ms/step - loss: 0.3264 - mae: 0.3627 - val_loss: 4.0034 - val_mae: 1.5283\n",
            "Epoch 10/250\n",
            "178/178 [==============================] - 27s 150ms/step - loss: 0.3820 - mae: 0.3734 - val_loss: 4.5464 - val_mae: 1.6001\n",
            "Epoch 11/250\n",
            "178/178 [==============================] - 27s 150ms/step - loss: 0.2712 - mae: 0.3510 - val_loss: 4.7269 - val_mae: 1.6284\n",
            "Epoch 12/250\n",
            "178/178 [==============================] - 28s 153ms/step - loss: 0.4430 - mae: 0.3567 - val_loss: 4.4919 - val_mae: 1.6027\n",
            "Epoch 13/250\n",
            "178/178 [==============================] - 28s 152ms/step - loss: 0.3913 - mae: 0.3560 - val_loss: 4.7697 - val_mae: 1.6575\n",
            "Epoch 14/250\n",
            "178/178 [==============================] - 27s 151ms/step - loss: 0.3559 - mae: 0.3493 - val_loss: 4.6188 - val_mae: 1.6114\n",
            "Epoch 15/250\n",
            "178/178 [==============================] - 28s 152ms/step - loss: 0.3710 - mae: 0.3426 - val_loss: 4.6885 - val_mae: 1.6198\n",
            "Epoch 16/250\n",
            "178/178 [==============================] - 28s 154ms/step - loss: 0.4500 - mae: 0.3660 - val_loss: 4.2489 - val_mae: 1.5831\n",
            "Epoch 17/250\n",
            "178/178 [==============================] - 30s 164ms/step - loss: 1.9692 - mae: 0.6766 - val_loss: 4.5123 - val_mae: 1.5992\n",
            "Epoch 18/250\n",
            "178/178 [==============================] - 29s 162ms/step - loss: 1.8249 - mae: 0.6472 - val_loss: 4.1508 - val_mae: 1.5454\n",
            "Epoch 19/250\n",
            "178/178 [==============================] - 29s 162ms/step - loss: 1.1205 - mae: 0.5356 - val_loss: 4.2275 - val_mae: 1.5536\n",
            "Epoch 20/250\n",
            "178/178 [==============================] - 30s 163ms/step - loss: 1.0911 - mae: 0.5036 - val_loss: 4.4858 - val_mae: 1.5895\n",
            "Epoch 21/250\n",
            "178/178 [==============================] - 29s 161ms/step - loss: 1.2737 - mae: 0.5204 - val_loss: 4.6435 - val_mae: 1.6087\n",
            "Epoch 22/250\n",
            "178/178 [==============================] - 29s 158ms/step - loss: 2.1164 - mae: 0.6104 - val_loss: 4.7382 - val_mae: 1.6304\n",
            "Epoch 23/250\n",
            "178/178 [==============================] - 28s 155ms/step - loss: 1.6689 - mae: 0.5589 - val_loss: 4.9323 - val_mae: 1.6193\n",
            "Epoch 24/250\n",
            "178/178 [==============================] - 29s 161ms/step - loss: 1.1483 - mae: 0.5099 - val_loss: 5.1908 - val_mae: 1.6609\n",
            "Epoch 25/250\n",
            "178/178 [==============================] - 29s 161ms/step - loss: 0.7353 - mae: 0.4539 - val_loss: 5.2756 - val_mae: 1.6954\n",
            "Epoch 26/250\n",
            "178/178 [==============================] - 30s 162ms/step - loss: 0.5035 - mae: 0.4360 - val_loss: 5.0552 - val_mae: 1.6452\n",
            "Epoch 27/250\n",
            "178/178 [==============================] - 30s 164ms/step - loss: 0.4992 - mae: 0.4235 - val_loss: 4.9311 - val_mae: 1.6149\n",
            "Epoch 28/250\n",
            "178/178 [==============================] - 28s 156ms/step - loss: 0.5107 - mae: 0.4303 - val_loss: 5.1257 - val_mae: 1.6179\n",
            "Epoch 29/250\n",
            "178/178 [==============================] - 29s 157ms/step - loss: 0.4530 - mae: 0.4165 - val_loss: 10.8255 - val_mae: 1.9614\n",
            "Epoch 30/250\n",
            "178/178 [==============================] - 29s 162ms/step - loss: 0.5609 - mae: 0.4503 - val_loss: 5.0679 - val_mae: 1.6602\n",
            "Epoch 31/250\n",
            "178/178 [==============================] - 29s 160ms/step - loss: 0.3922 - mae: 0.4244 - val_loss: 4.8838 - val_mae: 1.6254\n",
            "Epoch 32/250\n",
            "178/178 [==============================] - 29s 160ms/step - loss: 0.4900 - mae: 0.4345 - val_loss: 4.7259 - val_mae: 1.6110\n",
            "Epoch 33/250\n",
            "178/178 [==============================] - 29s 161ms/step - loss: 0.3984 - mae: 0.4118 - val_loss: 5.0153 - val_mae: 1.6453\n",
            "Epoch 34/250\n",
            "178/178 [==============================] - 29s 159ms/step - loss: 0.4700 - mae: 0.4415 - val_loss: 4.7533 - val_mae: 1.6235\n",
            "Epoch 35/250\n",
            "178/178 [==============================] - 29s 160ms/step - loss: 0.4875 - mae: 0.4228 - val_loss: 4.8977 - val_mae: 1.6446\n",
            "Epoch 36/250\n",
            "178/178 [==============================] - 30s 166ms/step - loss: 0.4472 - mae: 0.4165 - val_loss: 4.9560 - val_mae: 1.6620\n",
            "Epoch 37/250\n",
            "178/178 [==============================] - 25s 140ms/step - loss: 0.4753 - mae: 0.4143 - val_loss: 4.8950 - val_mae: 1.6571\n",
            "Epoch 38/250\n",
            "178/178 [==============================] - 30s 165ms/step - loss: 0.3934 - mae: 0.4061 - val_loss: 4.7356 - val_mae: 1.6240\n",
            "Epoch 39/250\n",
            "178/178 [==============================] - 30s 167ms/step - loss: 0.4081 - mae: 0.4114 - val_loss: 4.6467 - val_mae: 1.6118\n",
            "Epoch 40/250\n",
            "178/178 [==============================] - 30s 162ms/step - loss: 0.3484 - mae: 0.3954 - val_loss: 4.9590 - val_mae: 1.6598\n",
            "Epoch 41/250\n",
            "178/178 [==============================] - 28s 154ms/step - loss: 0.3364 - mae: 0.3908 - val_loss: 4.7569 - val_mae: 1.6295\n",
            "Epoch 42/250\n",
            "178/178 [==============================] - 29s 157ms/step - loss: 0.4377 - mae: 0.4046 - val_loss: 4.8357 - val_mae: 1.6410\n",
            "Epoch 43/250\n",
            "178/178 [==============================] - 29s 159ms/step - loss: 0.3552 - mae: 0.3737 - val_loss: 4.8081 - val_mae: 1.6407\n",
            "Epoch 44/250\n",
            "178/178 [==============================] - 29s 159ms/step - loss: 0.3542 - mae: 0.3834 - val_loss: 4.8098 - val_mae: 1.6567\n",
            "Epoch 45/250\n",
            "178/178 [==============================] - 25s 136ms/step - loss: 0.3581 - mae: 0.3850 - val_loss: 4.8233 - val_mae: 1.6580\n",
            "Epoch 46/250\n",
            "178/178 [==============================] - 30s 164ms/step - loss: 0.2822 - mae: 0.3684 - val_loss: 4.9556 - val_mae: 1.6686\n",
            "Epoch 47/250\n",
            "178/178 [==============================] - 29s 158ms/step - loss: 0.4659 - mae: 0.4047 - val_loss: 4.3210 - val_mae: 1.5755\n",
            "Epoch 48/250\n",
            "178/178 [==============================] - 29s 159ms/step - loss: 0.4295 - mae: 0.4080 - val_loss: 4.5320 - val_mae: 1.6086\n",
            "Epoch 49/250\n",
            "178/178 [==============================] - 29s 158ms/step - loss: 0.4683 - mae: 0.4054 - val_loss: 4.3434 - val_mae: 1.5899\n",
            "Epoch 50/250\n",
            "178/178 [==============================] - 24s 134ms/step - loss: 0.5879 - mae: 0.4525 - val_loss: 4.2805 - val_mae: 1.5642\n",
            "Epoch 51/250\n",
            "178/178 [==============================] - 29s 158ms/step - loss: 0.4321 - mae: 0.4269 - val_loss: 4.3125 - val_mae: 1.5858\n",
            "Epoch 52/250\n",
            "178/178 [==============================] - 29s 159ms/step - loss: 0.4172 - mae: 0.4127 - val_loss: 4.4140 - val_mae: 1.6026\n",
            "Epoch 53/250\n",
            "178/178 [==============================] - 29s 161ms/step - loss: 0.4428 - mae: 0.4157 - val_loss: 4.2717 - val_mae: 1.5726\n",
            "Epoch 54/250\n",
            "178/178 [==============================] - 29s 160ms/step - loss: 0.4584 - mae: 0.4080 - val_loss: 4.4665 - val_mae: 1.6029\n",
            "Epoch 55/250\n",
            "178/178 [==============================] - 29s 159ms/step - loss: 0.4375 - mae: 0.3982 - val_loss: 4.6308 - val_mae: 1.6339\n",
            "Epoch 56/250\n",
            "178/178 [==============================] - 28s 157ms/step - loss: 0.4622 - mae: 0.4201 - val_loss: 4.8396 - val_mae: 1.6549\n",
            "Epoch 57/250\n",
            "178/178 [==============================] - 28s 156ms/step - loss: 0.4132 - mae: 0.4037 - val_loss: 4.8616 - val_mae: 1.6595\n",
            "Epoch 58/250\n",
            "178/178 [==============================] - 29s 158ms/step - loss: 0.4227 - mae: 0.4037 - val_loss: 5.0512 - val_mae: 1.6856\n",
            "Epoch 59/250\n",
            "178/178 [==============================] - 29s 159ms/step - loss: 0.3519 - mae: 0.3845 - val_loss: 4.8529 - val_mae: 1.6594\n",
            "Epoch 60/250\n",
            "178/178 [==============================] - 29s 158ms/step - loss: 0.3605 - mae: 0.3905 - val_loss: 5.0282 - val_mae: 1.6731\n",
            "Epoch 61/250\n",
            "178/178 [==============================] - 29s 158ms/step - loss: 0.4401 - mae: 0.3932 - val_loss: 4.9157 - val_mae: 1.6647\n",
            "Epoch 62/250\n",
            "178/178 [==============================] - 29s 158ms/step - loss: 0.3035 - mae: 0.3742 - val_loss: 4.5251 - val_mae: 1.5986\n",
            "Epoch 63/250\n",
            "178/178 [==============================] - 24s 130ms/step - loss: 0.3854 - mae: 0.3886 - val_loss: 4.2806 - val_mae: 1.5552\n",
            "Epoch 64/250\n",
            "178/178 [==============================] - 29s 157ms/step - loss: 0.3612 - mae: 0.3796 - val_loss: 4.6272 - val_mae: 1.6434\n",
            "Epoch 65/250\n",
            "178/178 [==============================] - 29s 159ms/step - loss: 0.3648 - mae: 0.3812 - val_loss: 5.2329 - val_mae: 1.7258\n",
            "Epoch 66/250\n",
            "178/178 [==============================] - 30s 164ms/step - loss: 0.3229 - mae: 0.3695 - val_loss: 5.0677 - val_mae: 1.6768\n",
            "Epoch 67/250\n",
            "178/178 [==============================] - 29s 159ms/step - loss: 0.3140 - mae: 0.3743 - val_loss: 6.0536 - val_mae: 1.8483\n",
            "Epoch 68/250\n",
            "178/178 [==============================] - 29s 157ms/step - loss: 0.3211 - mae: 0.3748 - val_loss: 5.0319 - val_mae: 1.6805\n",
            "Epoch 69/250\n",
            "178/178 [==============================] - 28s 155ms/step - loss: 0.3599 - mae: 0.4006 - val_loss: 4.7789 - val_mae: 1.6566\n",
            "Epoch 70/250\n",
            "178/178 [==============================] - 23s 128ms/step - loss: 0.3133 - mae: 0.3738 - val_loss: 5.5081 - val_mae: 1.7863\n",
            "Epoch 71/250\n",
            "178/178 [==============================] - 28s 152ms/step - loss: 0.3996 - mae: 0.4032 - val_loss: 4.8304 - val_mae: 1.6886\n",
            "Epoch 72/250\n",
            "178/178 [==============================] - 28s 154ms/step - loss: 0.4092 - mae: 0.4045 - val_loss: 4.7076 - val_mae: 1.6689\n",
            "Epoch 73/250\n",
            "178/178 [==============================] - 29s 159ms/step - loss: 0.3728 - mae: 0.3949 - val_loss: 5.6734 - val_mae: 1.7920\n",
            "Epoch 74/250\n",
            "178/178 [==============================] - 29s 158ms/step - loss: 0.4603 - mae: 0.4147 - val_loss: 5.3337 - val_mae: 1.7215\n",
            "Epoch 75/250\n",
            "178/178 [==============================] - 29s 159ms/step - loss: 0.4494 - mae: 0.4147 - val_loss: 5.5417 - val_mae: 1.7808\n",
            "Epoch 76/250\n",
            "178/178 [==============================] - 29s 160ms/step - loss: 0.3849 - mae: 0.4074 - val_loss: 5.4861 - val_mae: 1.7416\n",
            "Epoch 77/250\n",
            "178/178 [==============================] - 29s 158ms/step - loss: 0.3336 - mae: 0.3889 - val_loss: 5.7809 - val_mae: 1.7909\n",
            "Epoch 78/250\n",
            "178/178 [==============================] - 29s 158ms/step - loss: 0.3072 - mae: 0.3767 - val_loss: 6.7564 - val_mae: 1.9860\n",
            "Epoch 79/250\n",
            "178/178 [==============================] - 29s 158ms/step - loss: 0.2910 - mae: 0.3692 - val_loss: 5.7138 - val_mae: 1.7900\n",
            "Epoch 80/250\n",
            "178/178 [==============================] - 29s 158ms/step - loss: 0.2887 - mae: 0.3612 - val_loss: 5.8067 - val_mae: 1.7996\n",
            "Epoch 81/250\n",
            "178/178 [==============================] - 29s 158ms/step - loss: 0.2974 - mae: 0.3748 - val_loss: 7.0354 - val_mae: 2.0023\n",
            "Epoch 82/250\n",
            "178/178 [==============================] - 25s 135ms/step - loss: 0.3321 - mae: 0.3668 - val_loss: 6.0847 - val_mae: 1.8690\n",
            "Epoch 83/250\n",
            "178/178 [==============================] - 29s 155ms/step - loss: 0.2762 - mae: 0.3511 - val_loss: 5.2644 - val_mae: 1.6921\n",
            "Epoch 84/250\n",
            "178/178 [==============================] - 29s 157ms/step - loss: 0.2648 - mae: 0.3547 - val_loss: 5.6066 - val_mae: 1.7352\n",
            "Epoch 85/250\n",
            "178/178 [==============================] - 30s 168ms/step - loss: 0.2799 - mae: 0.3571 - val_loss: 5.1791 - val_mae: 1.6717\n",
            "Epoch 86/250\n",
            "178/178 [==============================] - 29s 159ms/step - loss: 0.3041 - mae: 0.3722 - val_loss: 6.2922 - val_mae: 1.8900\n",
            "Epoch 87/250\n",
            "178/178 [==============================] - 29s 160ms/step - loss: 0.3196 - mae: 0.3741 - val_loss: 5.3680 - val_mae: 1.7305\n",
            "Epoch 88/250\n",
            "178/178 [==============================] - 29s 160ms/step - loss: 0.3374 - mae: 0.3895 - val_loss: 5.5350 - val_mae: 1.7721\n",
            "Epoch 89/250\n",
            "178/178 [==============================] - 29s 159ms/step - loss: 0.3757 - mae: 0.3986 - val_loss: 5.6953 - val_mae: 1.8051\n",
            "Epoch 90/250\n",
            "178/178 [==============================] - 29s 160ms/step - loss: 0.2931 - mae: 0.3574 - val_loss: 6.2102 - val_mae: 1.8498\n",
            "Epoch 91/250\n",
            "178/178 [==============================] - 29s 159ms/step - loss: 0.2724 - mae: 0.3556 - val_loss: 5.3687 - val_mae: 1.7424\n",
            "Epoch 92/250\n",
            "178/178 [==============================] - 29s 157ms/step - loss: 0.2467 - mae: 0.3424 - val_loss: 5.7097 - val_mae: 1.7874\n",
            "Epoch 93/250\n",
            "178/178 [==============================] - 29s 157ms/step - loss: 0.2515 - mae: 0.3371 - val_loss: 5.5039 - val_mae: 1.7633\n",
            "Epoch 94/250\n",
            "178/178 [==============================] - 28s 153ms/step - loss: 0.2716 - mae: 0.3473 - val_loss: 5.3347 - val_mae: 1.7273\n",
            "Epoch 95/250\n",
            "178/178 [==============================] - 28s 154ms/step - loss: 0.2550 - mae: 0.3466 - val_loss: 5.0055 - val_mae: 1.6897\n",
            "Epoch 96/250\n",
            "178/178 [==============================] - 29s 158ms/step - loss: 0.2574 - mae: 0.3333 - val_loss: 5.2961 - val_mae: 1.7277\n",
            "Epoch 97/250\n",
            "178/178 [==============================] - 29s 160ms/step - loss: 0.3224 - mae: 0.3471 - val_loss: 5.2636 - val_mae: 1.7127\n",
            "Epoch 98/250\n",
            "178/178 [==============================] - 30s 166ms/step - loss: 0.2837 - mae: 0.3419 - val_loss: 5.2866 - val_mae: 1.7294\n",
            "Epoch 99/250\n",
            "178/178 [==============================] - 29s 161ms/step - loss: 0.2873 - mae: 0.3562 - val_loss: 5.1189 - val_mae: 1.7045\n",
            "Epoch 100/250\n",
            "178/178 [==============================] - 29s 160ms/step - loss: 0.3207 - mae: 0.3763 - val_loss: 7.3436 - val_mae: 2.0970\n",
            "Epoch 101/250\n",
            "178/178 [==============================] - 29s 161ms/step - loss: 0.2959 - mae: 0.3628 - val_loss: 7.3401 - val_mae: 2.0674\n",
            "Epoch 102/250\n",
            "178/178 [==============================] - 29s 159ms/step - loss: 0.3362 - mae: 0.3594 - val_loss: 7.8947 - val_mae: 2.1930\n",
            "Epoch 103/250\n",
            "178/178 [==============================] - 29s 160ms/step - loss: 0.2503 - mae: 0.3409 - val_loss: 5.8229 - val_mae: 1.8222\n",
            "Epoch 104/250\n",
            "178/178 [==============================] - 29s 158ms/step - loss: 0.2547 - mae: 0.3458 - val_loss: 6.4551 - val_mae: 1.9198\n",
            "Epoch 105/250\n",
            "178/178 [==============================] - 29s 161ms/step - loss: 0.3504 - mae: 0.3767 - val_loss: 5.3567 - val_mae: 1.7348\n",
            "Epoch 106/250\n",
            "178/178 [==============================] - 28s 154ms/step - loss: 0.3537 - mae: 0.3715 - val_loss: 5.2601 - val_mae: 1.7128\n",
            "Epoch 107/250\n",
            "178/178 [==============================] - 28s 152ms/step - loss: 0.3012 - mae: 0.3570 - val_loss: 5.4059 - val_mae: 1.7554\n",
            "Epoch 108/250\n",
            "178/178 [==============================] - 28s 154ms/step - loss: 0.3285 - mae: 0.3656 - val_loss: 4.7594 - val_mae: 1.6248\n",
            "Epoch 109/250\n",
            "178/178 [==============================] - 28s 156ms/step - loss: 0.2951 - mae: 0.3499 - val_loss: 6.0036 - val_mae: 1.8598\n",
            "Epoch 110/250\n",
            "178/178 [==============================] - 29s 157ms/step - loss: 0.3180 - mae: 0.3526 - val_loss: 4.9631 - val_mae: 1.6956\n",
            "Epoch 111/250\n",
            "178/178 [==============================] - 29s 157ms/step - loss: 0.4390 - mae: 0.3691 - val_loss: 5.2882 - val_mae: 1.7475\n",
            "Epoch 112/250\n",
            "178/178 [==============================] - 29s 158ms/step - loss: 0.3329 - mae: 0.3738 - val_loss: 4.6479 - val_mae: 1.6335\n",
            "Epoch 113/250\n",
            "178/178 [==============================] - 29s 159ms/step - loss: 0.3647 - mae: 0.3823 - val_loss: 4.8979 - val_mae: 1.6744\n",
            "Epoch 114/250\n",
            "178/178 [==============================] - 29s 159ms/step - loss: 0.3195 - mae: 0.3596 - val_loss: 4.8176 - val_mae: 1.6521\n",
            "Epoch 115/250\n",
            "178/178 [==============================] - 29s 160ms/step - loss: 0.2719 - mae: 0.3488 - val_loss: 4.8823 - val_mae: 1.6709\n",
            "Epoch 116/250\n",
            "178/178 [==============================] - 29s 158ms/step - loss: 0.3306 - mae: 0.3539 - val_loss: 4.7067 - val_mae: 1.6291\n",
            "Epoch 117/250\n",
            "178/178 [==============================] - 29s 160ms/step - loss: 0.3557 - mae: 0.3574 - val_loss: 5.1642 - val_mae: 1.7212\n",
            "Epoch 118/250\n",
            "178/178 [==============================] - 24s 131ms/step - loss: 0.2687 - mae: 0.3499 - val_loss: 5.2008 - val_mae: 1.7472\n",
            "Epoch 119/250\n",
            "178/178 [==============================] - 29s 155ms/step - loss: 0.2932 - mae: 0.3525 - val_loss: 6.2704 - val_mae: 1.9067\n",
            "Epoch 120/250\n",
            "178/178 [==============================] - 29s 158ms/step - loss: 0.2947 - mae: 0.3518 - val_loss: 6.9574 - val_mae: 2.0664\n",
            "Epoch 121/250\n",
            "178/178 [==============================] - 28s 157ms/step - loss: 0.2368 - mae: 0.3334 - val_loss: 5.8788 - val_mae: 1.8817\n",
            "Epoch 122/250\n",
            "178/178 [==============================] - 29s 157ms/step - loss: 0.2560 - mae: 0.3283 - val_loss: 6.1025 - val_mae: 1.8758\n",
            "Epoch 123/250\n",
            "178/178 [==============================] - 29s 159ms/step - loss: 0.2417 - mae: 0.3303 - val_loss: 5.8816 - val_mae: 1.8311\n",
            "Epoch 124/250\n",
            "178/178 [==============================] - 29s 159ms/step - loss: 0.2573 - mae: 0.3254 - val_loss: 5.6867 - val_mae: 1.8171\n",
            "Epoch 125/250\n",
            "178/178 [==============================] - 29s 162ms/step - loss: 0.2765 - mae: 0.3380 - val_loss: 5.8284 - val_mae: 1.8151\n",
            "Epoch 126/250\n",
            "178/178 [==============================] - 29s 159ms/step - loss: 0.2314 - mae: 0.3261 - val_loss: 5.3842 - val_mae: 1.7525\n",
            "Epoch 127/250\n",
            "178/178 [==============================] - 29s 159ms/step - loss: 0.2586 - mae: 0.3284 - val_loss: 6.2463 - val_mae: 1.8741\n",
            "Epoch 128/250\n",
            "178/178 [==============================] - 29s 160ms/step - loss: 0.2163 - mae: 0.3198 - val_loss: 7.4955 - val_mae: 2.0388\n",
            "Epoch 129/250\n",
            "178/178 [==============================] - 29s 160ms/step - loss: 0.2900 - mae: 0.3499 - val_loss: 8.4441 - val_mae: 2.1118\n",
            "Epoch 130/250\n",
            "178/178 [==============================] - 24s 129ms/step - loss: 0.2390 - mae: 0.3296 - val_loss: 6.0830 - val_mae: 1.8441\n",
            "Epoch 131/250\n",
            "178/178 [==============================] - 29s 159ms/step - loss: 0.3092 - mae: 0.3310 - val_loss: 6.8065 - val_mae: 1.9208\n",
            "Epoch 132/250\n",
            "178/178 [==============================] - 29s 158ms/step - loss: 0.3476 - mae: 0.3738 - val_loss: 6.9562 - val_mae: 1.9308\n",
            "Epoch 133/250\n",
            "178/178 [==============================] - 29s 158ms/step - loss: 0.3341 - mae: 0.3654 - val_loss: 6.1833 - val_mae: 1.8621\n",
            "Epoch 134/250\n",
            "178/178 [==============================] - 29s 158ms/step - loss: 0.3058 - mae: 0.3487 - val_loss: 5.4444 - val_mae: 1.7402\n",
            "Epoch 135/250\n",
            "178/178 [==============================] - 29s 159ms/step - loss: 0.3153 - mae: 0.3435 - val_loss: 4.7404 - val_mae: 1.6380\n",
            "Epoch 136/250\n",
            "178/178 [==============================] - 29s 161ms/step - loss: 0.2839 - mae: 0.3404 - val_loss: 5.0333 - val_mae: 1.7015\n",
            "Epoch 137/250\n",
            "178/178 [==============================] - 29s 159ms/step - loss: 0.2657 - mae: 0.3356 - val_loss: 5.8007 - val_mae: 1.7771\n",
            "Epoch 138/250\n",
            "178/178 [==============================] - 29s 158ms/step - loss: 0.2812 - mae: 0.3393 - val_loss: 6.0312 - val_mae: 1.7991\n",
            "Epoch 139/250\n",
            "178/178 [==============================] - 29s 158ms/step - loss: 0.3245 - mae: 0.3404 - val_loss: 5.8281 - val_mae: 1.7910\n",
            "Epoch 140/250\n",
            "178/178 [==============================] - 28s 154ms/step - loss: 0.3294 - mae: 0.3400 - val_loss: 6.9851 - val_mae: 1.9298\n",
            "Epoch 141/250\n",
            "178/178 [==============================] - 28s 156ms/step - loss: 0.2856 - mae: 0.3446 - val_loss: 6.1507 - val_mae: 1.8346\n",
            "Epoch 142/250\n",
            "178/178 [==============================] - 28s 157ms/step - loss: 0.2676 - mae: 0.3468 - val_loss: 6.3683 - val_mae: 1.8348\n",
            "Epoch 143/250\n",
            "178/178 [==============================] - 29s 160ms/step - loss: 0.3039 - mae: 0.3358 - val_loss: 5.6602 - val_mae: 1.7488\n",
            "Epoch 144/250\n",
            "178/178 [==============================] - 29s 159ms/step - loss: 0.2732 - mae: 0.3378 - val_loss: 6.9179 - val_mae: 1.9408\n",
            "Epoch 145/250\n",
            "178/178 [==============================] - 25s 139ms/step - loss: 0.5068 - mae: 0.4105 - val_loss: 9.2754 - val_mae: 2.2408\n",
            "Epoch 146/250\n",
            "178/178 [==============================] - 29s 162ms/step - loss: 0.3833 - mae: 0.3948 - val_loss: 5.6953 - val_mae: 1.7747\n",
            "Epoch 147/250\n",
            "178/178 [==============================] - 25s 135ms/step - loss: 0.3950 - mae: 0.4073 - val_loss: 6.1341 - val_mae: 1.8521\n",
            "Epoch 148/250\n",
            "178/178 [==============================] - 28s 155ms/step - loss: 0.3102 - mae: 0.3743 - val_loss: 5.9609 - val_mae: 1.8111\n",
            "Epoch 149/250\n",
            "178/178 [==============================] - 29s 161ms/step - loss: 0.3209 - mae: 0.3604 - val_loss: 6.7030 - val_mae: 1.9019\n",
            "Epoch 150/250\n",
            "178/178 [==============================] - 30s 163ms/step - loss: 0.3121 - mae: 0.3619 - val_loss: 7.6004 - val_mae: 2.1384\n",
            "Epoch 151/250\n",
            "178/178 [==============================] - 30s 164ms/step - loss: 0.2983 - mae: 0.3508 - val_loss: 6.1508 - val_mae: 1.8601\n",
            "Epoch 152/250\n",
            "178/178 [==============================] - 30s 163ms/step - loss: 0.2910 - mae: 0.3543 - val_loss: 7.1780 - val_mae: 2.0064\n",
            "Epoch 153/250\n",
            "178/178 [==============================] - 29s 160ms/step - loss: 0.2382 - mae: 0.3332 - val_loss: 6.2689 - val_mae: 1.8919\n",
            "Epoch 154/250\n",
            "178/178 [==============================] - 29s 162ms/step - loss: 0.3681 - mae: 0.3897 - val_loss: 5.1049 - val_mae: 1.7192\n",
            "Epoch 155/250\n",
            "178/178 [==============================] - 29s 161ms/step - loss: 0.2916 - mae: 0.3600 - val_loss: 6.0340 - val_mae: 1.8707\n",
            "Epoch 156/250\n",
            "178/178 [==============================] - 29s 158ms/step - loss: 0.3022 - mae: 0.3476 - val_loss: 8.3559 - val_mae: 2.2492\n",
            "Epoch 157/250\n",
            "178/178 [==============================] - 28s 155ms/step - loss: 0.3151 - mae: 0.3639 - val_loss: 5.6363 - val_mae: 1.7735\n",
            "Epoch 158/250\n",
            "178/178 [==============================] - 28s 153ms/step - loss: 0.2653 - mae: 0.3361 - val_loss: 6.4208 - val_mae: 1.9346\n",
            "Epoch 159/250\n",
            "178/178 [==============================] - 28s 155ms/step - loss: 0.2644 - mae: 0.3464 - val_loss: 8.1968 - val_mae: 2.2551\n",
            "Epoch 160/250\n",
            "178/178 [==============================] - 29s 158ms/step - loss: 0.2460 - mae: 0.3294 - val_loss: 6.5709 - val_mae: 1.9476\n",
            "Epoch 161/250\n",
            "178/178 [==============================] - 29s 160ms/step - loss: 0.2469 - mae: 0.3312 - val_loss: 7.3933 - val_mae: 2.0495\n",
            "Epoch 162/250\n",
            "178/178 [==============================] - 29s 160ms/step - loss: 0.3030 - mae: 0.3596 - val_loss: 6.6007 - val_mae: 2.0016\n",
            "Epoch 163/250\n",
            "178/178 [==============================] - 30s 166ms/step - loss: 0.2465 - mae: 0.3311 - val_loss: 6.3383 - val_mae: 1.9497\n",
            "Epoch 164/250\n",
            "178/178 [==============================] - 29s 161ms/step - loss: 0.2810 - mae: 0.3365 - val_loss: 6.6050 - val_mae: 2.0031\n",
            "Epoch 165/250\n",
            "178/178 [==============================] - 29s 160ms/step - loss: 0.2318 - mae: 0.3331 - val_loss: 6.9560 - val_mae: 2.0517\n",
            "Epoch 166/250\n",
            "178/178 [==============================] - 29s 160ms/step - loss: 0.2718 - mae: 0.3350 - val_loss: 5.8060 - val_mae: 1.8425\n",
            "Epoch 167/250\n",
            "178/178 [==============================] - 29s 159ms/step - loss: 0.2458 - mae: 0.3218 - val_loss: 5.4903 - val_mae: 1.7620\n",
            "Epoch 168/250\n",
            "178/178 [==============================] - 29s 159ms/step - loss: 0.2380 - mae: 0.3281 - val_loss: 5.5049 - val_mae: 1.7492\n",
            "Epoch 169/250\n",
            "178/178 [==============================] - 29s 158ms/step - loss: 0.2353 - mae: 0.3125 - val_loss: 7.0135 - val_mae: 2.0144\n",
            "Epoch 170/250\n",
            "178/178 [==============================] - 29s 160ms/step - loss: 0.2770 - mae: 0.3416 - val_loss: 7.3827 - val_mae: 2.0375\n",
            "Epoch 171/250\n",
            "178/178 [==============================] - 28s 154ms/step - loss: 0.2699 - mae: 0.3409 - val_loss: 6.9881 - val_mae: 1.9987\n",
            "Epoch 172/250\n",
            "178/178 [==============================] - 28s 154ms/step - loss: 0.2986 - mae: 0.3572 - val_loss: 11.5505 - val_mae: 2.5573\n",
            "Epoch 173/250\n",
            "178/178 [==============================] - 28s 154ms/step - loss: 0.2425 - mae: 0.3316 - val_loss: 6.5513 - val_mae: 1.8871\n",
            "Epoch 174/250\n",
            "178/178 [==============================] - 29s 157ms/step - loss: 0.2280 - mae: 0.3199 - val_loss: 6.5951 - val_mae: 1.9126\n",
            "Epoch 175/250\n",
            "178/178 [==============================] - 29s 160ms/step - loss: 0.2196 - mae: 0.3115 - val_loss: 6.2739 - val_mae: 1.8386\n",
            "Epoch 176/250\n",
            "178/178 [==============================] - 29s 160ms/step - loss: 0.2979 - mae: 0.3223 - val_loss: 6.3381 - val_mae: 1.8365\n",
            "Epoch 177/250\n",
            "178/178 [==============================] - 29s 160ms/step - loss: 0.2360 - mae: 0.3191 - val_loss: 5.7976 - val_mae: 1.7828\n",
            "Epoch 178/250\n",
            "178/178 [==============================] - 29s 160ms/step - loss: 0.2454 - mae: 0.3180 - val_loss: 6.0833 - val_mae: 1.7967\n",
            "Epoch 179/250\n",
            "178/178 [==============================] - 24s 132ms/step - loss: 0.2392 - mae: 0.3165 - val_loss: 4.3182 - val_mae: 1.6113\n",
            "Epoch 180/250\n",
            "178/178 [==============================] - 28s 155ms/step - loss: 0.2534 - mae: 0.3214 - val_loss: 6.4874 - val_mae: 1.9450\n",
            "Epoch 181/250\n",
            "178/178 [==============================] - 29s 159ms/step - loss: 0.2354 - mae: 0.3164 - val_loss: 6.9830 - val_mae: 2.0318\n",
            "Epoch 182/250\n",
            "178/178 [==============================] - 29s 158ms/step - loss: 0.2437 - mae: 0.3283 - val_loss: 5.4188 - val_mae: 1.7543\n",
            "Epoch 183/250\n",
            "178/178 [==============================] - 25s 135ms/step - loss: 0.2439 - mae: 0.3144 - val_loss: 5.8850 - val_mae: 1.8206\n",
            "Epoch 184/250\n",
            "178/178 [==============================] - 29s 160ms/step - loss: 0.6383 - mae: 0.4200 - val_loss: 5.9618 - val_mae: 1.7848\n",
            "Epoch 185/250\n",
            "178/178 [==============================] - 29s 160ms/step - loss: 0.3884 - mae: 0.4009 - val_loss: 10.6516 - val_mae: 2.2954\n",
            "Epoch 186/250\n",
            "178/178 [==============================] - 29s 160ms/step - loss: 0.3304 - mae: 0.3718 - val_loss: 9.5709 - val_mae: 2.2228\n",
            "Epoch 187/250\n",
            "178/178 [==============================] - 29s 159ms/step - loss: 0.2940 - mae: 0.3619 - val_loss: 8.7017 - val_mae: 2.1510\n",
            "Epoch 188/250\n",
            "178/178 [==============================] - 29s 158ms/step - loss: 0.2788 - mae: 0.3453 - val_loss: 8.7358 - val_mae: 2.1789\n",
            "Epoch 189/250\n",
            "178/178 [==============================] - 29s 161ms/step - loss: 0.2968 - mae: 0.3597 - val_loss: 8.8015 - val_mae: 2.1226\n",
            "Epoch 190/250\n",
            "178/178 [==============================] - 29s 161ms/step - loss: 0.3162 - mae: 0.3651 - val_loss: 11.1090 - val_mae: 2.3959\n",
            "Epoch 191/250\n",
            "178/178 [==============================] - 29s 160ms/step - loss: 0.2457 - mae: 0.3284 - val_loss: 10.0066 - val_mae: 2.2552\n",
            "Epoch 192/250\n",
            "178/178 [==============================] - 29s 157ms/step - loss: 0.2616 - mae: 0.3328 - val_loss: 9.4911 - val_mae: 2.2553\n",
            "Epoch 193/250\n",
            "178/178 [==============================] - 28s 155ms/step - loss: 0.2780 - mae: 0.3456 - val_loss: 10.2649 - val_mae: 2.3601\n",
            "Epoch 194/250\n",
            "178/178 [==============================] - 28s 154ms/step - loss: 0.2805 - mae: 0.3539 - val_loss: 6.8511 - val_mae: 1.9407\n",
            "Epoch 195/250\n",
            "178/178 [==============================] - 28s 155ms/step - loss: 0.2449 - mae: 0.3356 - val_loss: 5.7274 - val_mae: 1.7840\n",
            "Epoch 196/250\n",
            "178/178 [==============================] - 28s 157ms/step - loss: 0.2647 - mae: 0.3408 - val_loss: 6.3732 - val_mae: 1.9673\n",
            "Epoch 197/250\n",
            "178/178 [==============================] - 29s 158ms/step - loss: 0.3574 - mae: 0.3753 - val_loss: 5.1059 - val_mae: 1.7067\n",
            "Epoch 198/250\n",
            "178/178 [==============================] - 29s 161ms/step - loss: 0.2568 - mae: 0.3477 - val_loss: 5.2417 - val_mae: 1.7388\n",
            "Epoch 199/250\n",
            "178/178 [==============================] - 29s 160ms/step - loss: 0.2556 - mae: 0.3445 - val_loss: 6.4847 - val_mae: 1.9480\n",
            "Epoch 200/250\n",
            "178/178 [==============================] - 29s 158ms/step - loss: 0.2472 - mae: 0.3367 - val_loss: 6.5671 - val_mae: 1.9987\n",
            "Epoch 201/250\n",
            "178/178 [==============================] - 30s 164ms/step - loss: 0.2243 - mae: 0.3204 - val_loss: 5.9964 - val_mae: 1.8717\n",
            "Epoch 202/250\n",
            "178/178 [==============================] - 25s 138ms/step - loss: 0.2793 - mae: 0.3330 - val_loss: 9.1179 - val_mae: 2.3294\n",
            "Epoch 203/250\n",
            "178/178 [==============================] - 30s 162ms/step - loss: 0.2290 - mae: 0.3190 - val_loss: 8.4071 - val_mae: 2.2544\n",
            "Epoch 204/250\n",
            "178/178 [==============================] - 29s 158ms/step - loss: 0.2423 - mae: 0.3209 - val_loss: 9.0991 - val_mae: 2.3359\n",
            "Epoch 205/250\n",
            "178/178 [==============================] - 28s 155ms/step - loss: 0.2382 - mae: 0.3204 - val_loss: 8.4984 - val_mae: 2.2199\n",
            "Epoch 206/250\n",
            "178/178 [==============================] - 28s 155ms/step - loss: 0.2514 - mae: 0.3199 - val_loss: 7.6194 - val_mae: 2.0286\n",
            "Epoch 207/250\n",
            "178/178 [==============================] - 28s 154ms/step - loss: 0.2545 - mae: 0.3312 - val_loss: 6.9697 - val_mae: 1.9791\n",
            "Epoch 208/250\n",
            "178/178 [==============================] - 23s 127ms/step - loss: 0.2332 - mae: 0.3158 - val_loss: 9.5176 - val_mae: 2.3204\n",
            "Epoch 209/250\n",
            "178/178 [==============================] - 28s 150ms/step - loss: 0.2459 - mae: 0.3264 - val_loss: 10.6089 - val_mae: 2.4341\n",
            "Epoch 210/250\n",
            "178/178 [==============================] - 27s 149ms/step - loss: 0.2512 - mae: 0.3304 - val_loss: 17.7136 - val_mae: 2.6484\n",
            "Epoch 211/250\n",
            "178/178 [==============================] - 27s 148ms/step - loss: 0.2688 - mae: 0.3382 - val_loss: 6.0514 - val_mae: 1.8337\n",
            "Epoch 212/250\n",
            "178/178 [==============================] - 27s 149ms/step - loss: 0.2611 - mae: 0.3396 - val_loss: 5.6554 - val_mae: 1.8165\n",
            "Epoch 213/250\n",
            "178/178 [==============================] - 27s 149ms/step - loss: 0.2517 - mae: 0.3270 - val_loss: 6.2848 - val_mae: 1.9104\n",
            "Epoch 214/250\n",
            "178/178 [==============================] - 27s 150ms/step - loss: 0.2335 - mae: 0.3217 - val_loss: 6.0684 - val_mae: 1.8787\n",
            "Epoch 215/250\n",
            "178/178 [==============================] - 27s 150ms/step - loss: 0.2136 - mae: 0.3057 - val_loss: 5.4031 - val_mae: 1.7667\n",
            "Epoch 216/250\n",
            "178/178 [==============================] - 27s 150ms/step - loss: 0.2113 - mae: 0.3128 - val_loss: 5.8197 - val_mae: 1.8441\n",
            "Epoch 217/250\n",
            "178/178 [==============================] - 23s 128ms/step - loss: 0.2541 - mae: 0.3179 - val_loss: 5.8578 - val_mae: 1.8511\n",
            "Epoch 218/250\n",
            "178/178 [==============================] - 27s 147ms/step - loss: 0.2004 - mae: 0.3038 - val_loss: 6.1596 - val_mae: 1.8954\n",
            "Epoch 219/250\n",
            "178/178 [==============================] - 27s 147ms/step - loss: 0.1854 - mae: 0.2946 - val_loss: 6.0138 - val_mae: 1.8486\n",
            "Epoch 220/250\n",
            "178/178 [==============================] - 27s 146ms/step - loss: 0.2246 - mae: 0.3079 - val_loss: 5.7981 - val_mae: 1.8463\n",
            "Epoch 221/250\n",
            "178/178 [==============================] - 23s 127ms/step - loss: 0.2064 - mae: 0.2980 - val_loss: 5.3086 - val_mae: 1.7515\n",
            "Epoch 222/250\n",
            "178/178 [==============================] - 28s 153ms/step - loss: 0.2134 - mae: 0.3044 - val_loss: 5.6517 - val_mae: 1.7777\n",
            "Epoch 223/250\n",
            "178/178 [==============================] - 28s 153ms/step - loss: 0.3167 - mae: 0.3326 - val_loss: 7.2017 - val_mae: 2.0569\n",
            "Epoch 224/250\n",
            "178/178 [==============================] - 28s 154ms/step - loss: 0.2346 - mae: 0.3120 - val_loss: 5.7649 - val_mae: 1.7705\n",
            "Epoch 225/250\n",
            "178/178 [==============================] - 28s 153ms/step - loss: 0.2014 - mae: 0.2987 - val_loss: 5.5850 - val_mae: 1.7476\n",
            "Epoch 226/250\n",
            "178/178 [==============================] - 28s 153ms/step - loss: 0.2035 - mae: 0.3025 - val_loss: 5.3086 - val_mae: 1.7104\n",
            "Epoch 227/250\n",
            "178/178 [==============================] - 28s 153ms/step - loss: 0.2440 - mae: 0.3269 - val_loss: 5.3811 - val_mae: 1.7527\n",
            "Epoch 228/250\n",
            "178/178 [==============================] - 28s 153ms/step - loss: 0.2188 - mae: 0.3116 - val_loss: 6.0421 - val_mae: 1.8453\n",
            "Epoch 229/250\n",
            "178/178 [==============================] - 28s 153ms/step - loss: 0.3388 - mae: 0.3208 - val_loss: 5.6614 - val_mae: 1.7596\n",
            "Epoch 230/250\n",
            "178/178 [==============================] - 24s 133ms/step - loss: 0.3956 - mae: 0.3252 - val_loss: 6.2343 - val_mae: 1.8170\n",
            "Epoch 231/250\n",
            "178/178 [==============================] - 28s 153ms/step - loss: 0.3439 - mae: 0.3263 - val_loss: 6.6701 - val_mae: 1.9195\n",
            "Epoch 232/250\n",
            "178/178 [==============================] - 28s 155ms/step - loss: 0.3360 - mae: 0.3205 - val_loss: 7.5550 - val_mae: 2.0267\n",
            "Epoch 233/250\n",
            "178/178 [==============================] - 28s 156ms/step - loss: 0.3188 - mae: 0.3153 - val_loss: 5.6460 - val_mae: 1.7681\n",
            "Epoch 234/250\n",
            "178/178 [==============================] - 28s 155ms/step - loss: 0.2486 - mae: 0.3142 - val_loss: 7.0728 - val_mae: 1.9558\n",
            "Epoch 235/250\n",
            "178/178 [==============================] - 28s 154ms/step - loss: 0.2543 - mae: 0.3153 - val_loss: 6.3749 - val_mae: 1.8745\n",
            "Epoch 236/250\n",
            "178/178 [==============================] - 28s 154ms/step - loss: 0.2661 - mae: 0.3137 - val_loss: 6.5951 - val_mae: 1.9137\n",
            "Epoch 237/250\n",
            "178/178 [==============================] - 28s 153ms/step - loss: 0.3038 - mae: 0.3243 - val_loss: 5.1782 - val_mae: 1.7382\n",
            "Epoch 238/250\n",
            "178/178 [==============================] - 28s 154ms/step - loss: 0.2754 - mae: 0.3241 - val_loss: 6.8790 - val_mae: 2.0147\n",
            "Epoch 239/250\n",
            "178/178 [==============================] - 28s 153ms/step - loss: 0.2403 - mae: 0.3185 - val_loss: 30.6100 - val_mae: 3.1910\n",
            "Epoch 240/250\n",
            "178/178 [==============================] - 28s 153ms/step - loss: 0.2582 - mae: 0.3241 - val_loss: 22.5195 - val_mae: 2.8191\n",
            "Epoch 241/250\n",
            "178/178 [==============================] - 28s 155ms/step - loss: 0.2858 - mae: 0.3310 - val_loss: 5.0050 - val_mae: 1.6876\n",
            "Epoch 242/250\n",
            "178/178 [==============================] - 28s 154ms/step - loss: 0.2718 - mae: 0.3114 - val_loss: 5.4338 - val_mae: 1.7183\n",
            "Epoch 243/250\n",
            "178/178 [==============================] - 24s 129ms/step - loss: 0.2498 - mae: 0.3096 - val_loss: 5.6380 - val_mae: 1.7611\n",
            "Epoch 244/250\n",
            "178/178 [==============================] - 27s 150ms/step - loss: 0.2099 - mae: 0.2986 - val_loss: 5.1385 - val_mae: 1.6910\n",
            "Epoch 245/250\n",
            "178/178 [==============================] - 27s 150ms/step - loss: 0.2318 - mae: 0.3015 - val_loss: 5.4948 - val_mae: 1.7354\n",
            "Epoch 246/250\n",
            "178/178 [==============================] - 27s 149ms/step - loss: 0.2543 - mae: 0.2976 - val_loss: 5.3207 - val_mae: 1.7029\n",
            "Epoch 247/250\n",
            "178/178 [==============================] - 28s 153ms/step - loss: 0.3510 - mae: 0.3389 - val_loss: 4.2056 - val_mae: 1.5483\n",
            "Epoch 248/250\n",
            "178/178 [==============================] - 28s 154ms/step - loss: 0.3704 - mae: 0.3381 - val_loss: 5.7916 - val_mae: 1.7251\n",
            "Epoch 249/250\n",
            "178/178 [==============================] - 28s 155ms/step - loss: 0.4731 - mae: 0.3764 - val_loss: 7.4374 - val_mae: 1.9674\n",
            "Epoch 250/250\n",
            "178/178 [==============================] - 28s 153ms/step - loss: 0.3119 - mae: 0.3537 - val_loss: 8.1211 - val_mae: 2.1030\n"
          ]
        }
      ]
    },
    {
      "cell_type": "code",
      "source": [
        "loss = history.history['loss']\n",
        "val_loss = history.history['val_loss']\n",
        "mae = history.history['mae']\n",
        "val_mae = history.history['val_mae']\n",
        "\n",
        "\n",
        "epochs_x = range(len(loss))\n",
        "\n",
        "\n",
        "plt.plot(epochs_x, mae, 'o', color ='darkviolet', label='Training MAE')\n",
        "plt.plot(epochs_x, val_mae, 'k', label='Validation MAE')\n",
        "plt.title('Training and validation MeanAbsoluteError')\n",
        "plt.legend()\n",
        "\n",
        "plt.figure()\n",
        "plt.plot(epochs_x, loss, 'o', color ='darkviolet', label='Training loss')\n",
        "plt.plot(epochs_x, val_loss, 'k', label='Validation loss')\n",
        "plt.title('Training and validation loss')\n",
        "plt.legend()\n",
        "\n",
        "plt.show()"
      ],
      "metadata": {
        "id": "Y3K89-CM-dfg",
        "colab": {
          "base_uri": "https://localhost:8080/",
          "height": 887
        },
        "outputId": "505f1761-f59c-4c4c-9dcb-0dc5448ca67e"
      },
      "execution_count": 19,
      "outputs": [
        {
          "output_type": "display_data",
          "data": {
            "text/plain": [
              "<Figure size 640x480 with 1 Axes>"
            ],
            "image/png": "[encoded data removed]"
          },
          "metadata": {}
        },
        {
          "output_type": "display_data",
          "data": {
            "text/plain": [
              "<Figure size 640x480 with 1 Axes>"
            ],
            "image/png": "[encoded data removed]"
          },
          "metadata": {}
        }
      ]
    },
    {
      "cell_type": "code",
      "source": [],
      "metadata": {
        "id": "sI5JVEwwQsjc"
      },
      "execution_count": 19,
      "outputs": []
    },
    {
      "cell_type": "code",
      "source": [
        "epochs_x"
      ],
      "metadata": {
        "id": "N_sP_ZmSY-Jv",
        "colab": {
          "base_uri": "https://localhost:8080/"
        },
        "outputId": "de40d311-aee4-4ab1-e10c-edaf8c580966"
      },
      "execution_count": 20,
      "outputs": [
        {
          "output_type": "execute_result",
          "data": {
            "text/plain": [
              "range(0, 250)"
            ]
          },
          "metadata": {},
          "execution_count": 20
        }
      ]
    },
    {
      "cell_type": "markdown",
      "source": [
        "#Download the model\n"
      ],
      "metadata": {
        "id": "R19IJQSYoW7J"
      }
    },
    {
      "cell_type": "code",
      "source": [
        "os.makedirs('/content/drive/My Drive/cut_panoramic/Model', exist_ok=True)\n",
        "model.save('/content/drive/MyDrive/cut_panoramic/Model/Regression/All/13Re_All_1G_1e-4_16_0.2_250_New_Unfreez.h5')"
      ],
      "metadata": {
        "id": "Zed4TdFcG2iJ"
      },
      "execution_count": 21,
      "outputs": []
    },
    {
      "cell_type": "markdown",
      "source": [],
      "metadata": {
        "id": "n5YxZ-5QjQ0-"
      }
    },
    {
      "cell_type": "code",
      "source": [
        "# from google.colab import files\n",
        "# files.download('/content/drive/My Drive/cut_panoramic/Model/1.1_รอบแรก_Flimpano_Male125_250.h5')"
      ],
      "metadata": {
        "id": "P5eMxm1NV-oY"
      },
      "execution_count": 22,
      "outputs": []
    },
    {
      "cell_type": "code",
      "source": [
        "\n"
      ],
      "metadata": {
        "id": "wY_pDlxkRwxS"
      },
      "execution_count": 22,
      "outputs": []
    }
  ]
}