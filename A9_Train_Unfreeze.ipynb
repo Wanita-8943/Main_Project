{
  "nbformat": 4,
  "nbformat_minor": 0,
  "metadata": {
    "colab": {
      "provenance": [],
      "machine_shape": "hm",
      "include_colab_link": true
    },
    "kernelspec": {
      "name": "python3",
      "display_name": "Python 3"
    },
    "language_info": {
      "name": "python"
    },
    "accelerator": "GPU",
    "gpuClass": "premium"
  },
  "cells": [
    {
      "cell_type": "markdown",
      "metadata": {
        "id": "view-in-github",
        "colab_type": "text"
      },
      "source": [
        "<a href=\"https://colab.research.google.com/github/Wanita-8943/Main_Project/blob/main/A9_Train_Unfreeze.ipynb\" target=\"_parent\"><img src=\"https://colab.research.google.com/assets/colab-badge.svg\" alt=\"Open In Colab\"/></a>"
      ]
    },
    {
      "cell_type": "markdown",
      "source": [
        "#เรียกใช้ CSV"
      ],
      "metadata": {
        "id": "ow7eWoNw6U-c"
      }
    },
    {
      "cell_type": "code",
      "execution_count": 1,
      "metadata": {
        "id": "z8o_VVNXzcL8"
      },
      "outputs": [],
      "source": [
        "import pandas as pd\n",
        "import shutil"
      ]
    },
    {
      "cell_type": "code",
      "source": [
        "from google.colab import drive\n",
        "drive.mount('/content/drive')"
      ],
      "metadata": {
        "colab": {
          "base_uri": "https://localhost:8080/"
        },
        "id": "1_2Fe8u81d5r",
        "outputId": "f4852ac8-16d4-47c5-dff0-446c5b01363b"
      },
      "execution_count": 2,
      "outputs": [
        {
          "output_type": "stream",
          "name": "stdout",
          "text": [
            "Mounted at /content/drive\n"
          ]
        }
      ]
    },
    {
      "cell_type": "markdown",
      "source": [
        "#Imports"
      ],
      "metadata": {
        "id": "5qxePnnn7TGW"
      }
    },
    {
      "cell_type": "code",
      "source": [
        "from tensorflow.keras import models\n",
        "from tensorflow.keras import layers\n",
        "from tensorflow.keras import optimizers\n",
        "import os\n",
        "import glob\n",
        "import shutil\n",
        "import sys\n",
        "import numpy as np\n",
        "from skimage.io import imread\n",
        "import matplotlib.pyplot as plt\n",
        "from IPython.display import Image\n",
        "%matplotlib inline"
      ],
      "metadata": {
        "id": "D-hCRloc3t39"
      },
      "execution_count": 3,
      "outputs": []
    },
    {
      "cell_type": "code",
      "source": [
        "import tensorflow as tf\n",
        "from tensorflow.keras import Sequential\n",
        "from tensorflow.keras.layers import Dense\n",
        "from tensorflow.keras.optimizers import Adam\n",
        "from tensorflow.keras import backend as K"
      ],
      "metadata": {
        "id": "YZWXwjXeGxZP"
      },
      "execution_count": 4,
      "outputs": []
    },
    {
      "cell_type": "markdown",
      "source": [
        "#กำหนดค่าพารามิเตอร์\n"
      ],
      "metadata": {
        "id": "RooqSdBc7QHC"
      }
    },
    {
      "cell_type": "code",
      "source": [
        "batch_size = 16\n",
        "width = 150\n",
        "height = 150\n",
        "epochs = 250\n",
        "NUM_TRAIN = 2850\n",
        "NUM_TEST = 950\n",
        "dropout_rate = 0.2\n",
        "input_shape = (height, width, 3)"
      ],
      "metadata": {
        "id": "thDb7U9B3xOo"
      },
      "execution_count": 5,
      "outputs": []
    },
    {
      "cell_type": "markdown",
      "source": [
        "#Clone efficientnet repo\n"
      ],
      "metadata": {
        "id": "pumGmy6f3eSW"
      }
    },
    {
      "cell_type": "code",
      "source": [
        "#ดึงข้อมูลใน Github มาใช้\n",
        "import os\n",
        "%cd /content\n",
        "if not os.path.isdir(\"efficientnet_keras_transfer_learning\"):\n",
        " !git clone https://github.com/Wanita-8943/efficientnet_keras_transfer_learning\n",
        "%cd efficientnet_keras_transfer_learning/\n"
      ],
      "metadata": {
        "colab": {
          "base_uri": "https://localhost:8080/"
        },
        "id": "P7iy2f8n16p0",
        "outputId": "ee9f6c2d-75d7-46dc-e89d-7524befb66fc"
      },
      "execution_count": 6,
      "outputs": [
        {
          "output_type": "stream",
          "name": "stdout",
          "text": [
            "/content\n",
            "Cloning into 'efficientnet_keras_transfer_learning'...\n",
            "remote: Enumerating objects: 1085, done.\u001b[K\n",
            "remote: Counting objects: 100% (248/248), done.\u001b[K\n",
            "remote: Compressing objects: 100% (127/127), done.\u001b[K\n",
            "remote: Total 1085 (delta 124), reused 241 (delta 121), pack-reused 837\u001b[K\n",
            "Receiving objects: 100% (1085/1085), 14.09 MiB | 16.78 MiB/s, done.\n",
            "Resolving deltas: 100% (621/621), done.\n",
            "/content/efficientnet_keras_transfer_learning\n"
          ]
        }
      ]
    },
    {
      "cell_type": "code",
      "source": [
        "# Options: EfficientNetB0, EfficientNetB1, EfficientNetB2, EfficientNetB3\n",
        "# Higher the number, the more complex the model is.\n",
        "from efficientnet import EfficientNetB0 as Net\n",
        "from efficientnet import center_crop_and_resize, preprocess_input"
      ],
      "metadata": {
        "id": "tjZBRnfo3bN0"
      },
      "execution_count": 7,
      "outputs": []
    },
    {
      "cell_type": "code",
      "source": [
        "# loading pretrained conv base model\n",
        "# โหลดโมเดล มาโดยตัด output ของโมเดลออก เเต่ยังใช้ input อันเดิม\n",
        "# เเละโหลด weight ของโมเดล มาด้วยที่ชื่อว่า imagenet\n",
        "conv_base = Net(weights='imagenet', include_top=False, input_shape=input_shape)"
      ],
      "metadata": {
        "colab": {
          "base_uri": "https://localhost:8080/"
        },
        "id": "r8BN74_JJdfj",
        "outputId": "bba8d954-a7ce-4ad0-8bf0-ba78ff3734a0"
      },
      "execution_count": 8,
      "outputs": [
        {
          "output_type": "stream",
          "name": "stdout",
          "text": [
            "Downloading data from https://github.com/qubvel/efficientnet/releases/download/v0.0.1/efficientnet-b0_imagenet_1000_notop.h5\n",
            "16717576/16717576 [==============================] - 1s 0us/step\n"
          ]
        }
      ]
    },
    {
      "cell_type": "markdown",
      "source": [
        "#load model\n"
      ],
      "metadata": {
        "id": "PdNWyD-QYkzK"
      }
    },
    {
      "cell_type": "code",
      "source": [
        "import sys\n",
        "sys.path.append('/content/drive/MyDrive/cut_panoramic/Model/Regression/All/8Re_All_1G_1e-4_16_0.2_250_New_Unfreez.h5')\n",
        "\n",
        "from efficientnet.layers import Swish, DropConnect\n",
        "from efficientnet.model import ConvKernalInitializer\n",
        "from tensorflow.keras.utils import get_custom_objects\n",
        "\n",
        "get_custom_objects().update({\n",
        "    'ConvKernalInitializer': ConvKernalInitializer,\n",
        "    'Swish': Swish,\n",
        "    'DropConnect':DropConnect\n",
        "})"
      ],
      "metadata": {
        "id": "_gPnx2UvYf5A"
      },
      "execution_count": 9,
      "outputs": []
    },
    {
      "cell_type": "code",
      "source": [
        "#load model \n",
        "from tensorflow.keras.models import load_model\n",
        "model = load_model('/content/drive/MyDrive/cut_panoramic/Model/Regression/All/8Re_All_1G_1e-4_16_0.2_250_New_Unfreez.h5')\n",
        "height = width = model.input_shape[1]"
      ],
      "metadata": {
        "id": "Nu93WzFUYm9e"
      },
      "execution_count": 10,
      "outputs": []
    },
    {
      "cell_type": "code",
      "source": [
        "model.summary()"
      ],
      "metadata": {
        "id": "gp5EbyyXYvc6",
        "colab": {
          "base_uri": "https://localhost:8080/"
        },
        "outputId": "43e510a6-cea9-4c55-ea7d-809b3c4bc55d"
      },
      "execution_count": 11,
      "outputs": [
        {
          "output_type": "stream",
          "name": "stdout",
          "text": [
            "Model: \"sequential\"\n",
            "_________________________________________________________________\n",
            " Layer (type)                Output Shape              Param #   \n",
            "=================================================================\n",
            " efficientnet-b0 (Functional  (None, 5, 5, 1280)       4049564   \n",
            " )                                                               \n",
            "                                                                 \n",
            " gap (GlobalMaxPooling2D)    (None, 1280)              0         \n",
            "                                                                 \n",
            " dropout_out (Dropout)       (None, 1280)              0         \n",
            "                                                                 \n",
            " fc_out (Dense)              (None, 19)                24339     \n",
            "                                                                 \n",
            " dense (Dense)               (None, 1)                 20        \n",
            "                                                                 \n",
            "=================================================================\n",
            "Total params: 4,073,923\n",
            "Trainable params: 4,031,907\n",
            "Non-trainable params: 42,016\n",
            "_________________________________________________________________\n"
          ]
        }
      ]
    },
    {
      "cell_type": "code",
      "source": [
        "df = pd.read_csv (r'/content/drive/MyDrive/cut_panoramic/Data/All_Re.csv')\n",
        "df"
      ],
      "metadata": {
        "id": "q1Dc131_Y3uA",
        "colab": {
          "base_uri": "https://localhost:8080/",
          "height": 423
        },
        "outputId": "da6a163e-1851-460e-9911-1b9b9b6da166"
      },
      "execution_count": 12,
      "outputs": [
        {
          "output_type": "execute_result",
          "data": {
            "text/plain": [
              "      Fig_Age  Fig_Person_Sex  Age(year) Class  Class_Re       Filename  \\\n",
              "0           1               1          7  Y07F         1         V1.jpg   \n",
              "1           2               1          7  Y07F         1    Flip_V1.jpg   \n",
              "2           3               2          7  Y07F         1         V2.jpg   \n",
              "3           4               2          7  Y07F         1    Flip_V2.jpg   \n",
              "4           5               3          7  Y07F         1         V3.jpg   \n",
              "...       ...             ...        ...   ...       ...            ...   \n",
              "4745      121              77         25  Y25M        19  Flip_J463.jpg   \n",
              "4746      122              78         25  Y25M        19       J464.jpg   \n",
              "4747      123              78         25  Y25M        19  Flip_J464.jpg   \n",
              "4748      124              79         25  Y25M        19       J465.jpg   \n",
              "4749      125              79         25  Y25M        19  Flip_J465.jpg   \n",
              "\n",
              "                                          Path_filename     Sex Floder  \n",
              "0     /content/drive/My Drive/TVT_Gender/train/Femal...  Female   Both  \n",
              "1     /content/drive/My Drive/TVT_Gender/train/Femal...  Female   Both  \n",
              "2     /content/drive/My Drive/TVT_Gender/train/Femal...  Female   Both  \n",
              "3     /content/drive/My Drive/TVT_Gender/train/Femal...  Female   Both  \n",
              "4     /content/drive/My Drive/TVT_Gender/train/Femal...  Female   Both  \n",
              "...                                                 ...     ...    ...  \n",
              "4745  /content/drive/My Drive/TVT_Gender/test/Male/F...    Male   Both  \n",
              "4746  /content/drive/My Drive/TVT_Gender/test/Male/J...    Male   Both  \n",
              "4747  /content/drive/My Drive/TVT_Gender/test/Male/F...    Male   Both  \n",
              "4748  /content/drive/My Drive/TVT_Gender/test/Male/J...    Male   Both  \n",
              "4749  /content/drive/My Drive/TVT_Gender/test/Male/F...    Male   Both  \n",
              "\n",
              "[4750 rows x 9 columns]"
            ],
            "text/html": [
              "\n",
              "  <div id=\"df-8eca649a-b501-4760-bc8b-93f44435d3c2\">\n",
              "    <div class=\"colab-df-container\">\n",
              "      <div>\n",
              "<style scoped>\n",
              "    .dataframe tbody tr th:only-of-type {\n",
              "        vertical-align: middle;\n",
              "    }\n",
              "\n",
              "    .dataframe tbody tr th {\n",
              "        vertical-align: top;\n",
              "    }\n",
              "\n",
              "    .dataframe thead th {\n",
              "        text-align: right;\n",
              "    }\n",
              "</style>\n",
              "<table border=\"1\" class=\"dataframe\">\n",
              "  <thead>\n",
              "    <tr style=\"text-align: right;\">\n",
              "      <th></th>\n",
              "      <th>Fig_Age</th>\n",
              "      <th>Fig_Person_Sex</th>\n",
              "      <th>Age(year)</th>\n",
              "      <th>Class</th>\n",
              "      <th>Class_Re</th>\n",
              "      <th>Filename</th>\n",
              "      <th>Path_filename</th>\n",
              "      <th>Sex</th>\n",
              "      <th>Floder</th>\n",
              "    </tr>\n",
              "  </thead>\n",
              "  <tbody>\n",
              "    <tr>\n",
              "      <th>0</th>\n",
              "      <td>1</td>\n",
              "      <td>1</td>\n",
              "      <td>7</td>\n",
              "      <td>Y07F</td>\n",
              "      <td>1</td>\n",
              "      <td>V1.jpg</td>\n",
              "      <td>/content/drive/My Drive/TVT_Gender/train/Femal...</td>\n",
              "      <td>Female</td>\n",
              "      <td>Both</td>\n",
              "    </tr>\n",
              "    <tr>\n",
              "      <th>1</th>\n",
              "      <td>2</td>\n",
              "      <td>1</td>\n",
              "      <td>7</td>\n",
              "      <td>Y07F</td>\n",
              "      <td>1</td>\n",
              "      <td>Flip_V1.jpg</td>\n",
              "      <td>/content/drive/My Drive/TVT_Gender/train/Femal...</td>\n",
              "      <td>Female</td>\n",
              "      <td>Both</td>\n",
              "    </tr>\n",
              "    <tr>\n",
              "      <th>2</th>\n",
              "      <td>3</td>\n",
              "      <td>2</td>\n",
              "      <td>7</td>\n",
              "      <td>Y07F</td>\n",
              "      <td>1</td>\n",
              "      <td>V2.jpg</td>\n",
              "      <td>/content/drive/My Drive/TVT_Gender/train/Femal...</td>\n",
              "      <td>Female</td>\n",
              "      <td>Both</td>\n",
              "    </tr>\n",
              "    <tr>\n",
              "      <th>3</th>\n",
              "      <td>4</td>\n",
              "      <td>2</td>\n",
              "      <td>7</td>\n",
              "      <td>Y07F</td>\n",
              "      <td>1</td>\n",
              "      <td>Flip_V2.jpg</td>\n",
              "      <td>/content/drive/My Drive/TVT_Gender/train/Femal...</td>\n",
              "      <td>Female</td>\n",
              "      <td>Both</td>\n",
              "    </tr>\n",
              "    <tr>\n",
              "      <th>4</th>\n",
              "      <td>5</td>\n",
              "      <td>3</td>\n",
              "      <td>7</td>\n",
              "      <td>Y07F</td>\n",
              "      <td>1</td>\n",
              "      <td>V3.jpg</td>\n",
              "      <td>/content/drive/My Drive/TVT_Gender/train/Femal...</td>\n",
              "      <td>Female</td>\n",
              "      <td>Both</td>\n",
              "    </tr>\n",
              "    <tr>\n",
              "      <th>...</th>\n",
              "      <td>...</td>\n",
              "      <td>...</td>\n",
              "      <td>...</td>\n",
              "      <td>...</td>\n",
              "      <td>...</td>\n",
              "      <td>...</td>\n",
              "      <td>...</td>\n",
              "      <td>...</td>\n",
              "      <td>...</td>\n",
              "    </tr>\n",
              "    <tr>\n",
              "      <th>4745</th>\n",
              "      <td>121</td>\n",
              "      <td>77</td>\n",
              "      <td>25</td>\n",
              "      <td>Y25M</td>\n",
              "      <td>19</td>\n",
              "      <td>Flip_J463.jpg</td>\n",
              "      <td>/content/drive/My Drive/TVT_Gender/test/Male/F...</td>\n",
              "      <td>Male</td>\n",
              "      <td>Both</td>\n",
              "    </tr>\n",
              "    <tr>\n",
              "      <th>4746</th>\n",
              "      <td>122</td>\n",
              "      <td>78</td>\n",
              "      <td>25</td>\n",
              "      <td>Y25M</td>\n",
              "      <td>19</td>\n",
              "      <td>J464.jpg</td>\n",
              "      <td>/content/drive/My Drive/TVT_Gender/test/Male/J...</td>\n",
              "      <td>Male</td>\n",
              "      <td>Both</td>\n",
              "    </tr>\n",
              "    <tr>\n",
              "      <th>4747</th>\n",
              "      <td>123</td>\n",
              "      <td>78</td>\n",
              "      <td>25</td>\n",
              "      <td>Y25M</td>\n",
              "      <td>19</td>\n",
              "      <td>Flip_J464.jpg</td>\n",
              "      <td>/content/drive/My Drive/TVT_Gender/test/Male/F...</td>\n",
              "      <td>Male</td>\n",
              "      <td>Both</td>\n",
              "    </tr>\n",
              "    <tr>\n",
              "      <th>4748</th>\n",
              "      <td>124</td>\n",
              "      <td>79</td>\n",
              "      <td>25</td>\n",
              "      <td>Y25M</td>\n",
              "      <td>19</td>\n",
              "      <td>J465.jpg</td>\n",
              "      <td>/content/drive/My Drive/TVT_Gender/test/Male/J...</td>\n",
              "      <td>Male</td>\n",
              "      <td>Both</td>\n",
              "    </tr>\n",
              "    <tr>\n",
              "      <th>4749</th>\n",
              "      <td>125</td>\n",
              "      <td>79</td>\n",
              "      <td>25</td>\n",
              "      <td>Y25M</td>\n",
              "      <td>19</td>\n",
              "      <td>Flip_J465.jpg</td>\n",
              "      <td>/content/drive/My Drive/TVT_Gender/test/Male/F...</td>\n",
              "      <td>Male</td>\n",
              "      <td>Both</td>\n",
              "    </tr>\n",
              "  </tbody>\n",
              "</table>\n",
              "<p>4750 rows × 9 columns</p>\n",
              "</div>\n",
              "      <button class=\"colab-df-convert\" onclick=\"convertToInteractive('df-8eca649a-b501-4760-bc8b-93f44435d3c2')\"\n",
              "              title=\"Convert this dataframe to an interactive table.\"\n",
              "              style=\"display:none;\">\n",
              "        \n",
              "  <svg xmlns=\"http://www.w3.org/2000/svg\" height=\"24px\"viewBox=\"0 0 24 24\"\n",
              "       width=\"24px\">\n",
              "    <path d=\"M0 0h24v24H0V0z\" fill=\"none\"/>\n",
              "    <path d=\"M18.56 5.44l.94 2.06.94-2.06 2.06-.94-2.06-.94-.94-2.06-.94 2.06-2.06.94zm-11 1L8.5 8.5l.94-2.06 2.06-.94-2.06-.94L8.5 2.5l-.94 2.06-2.06.94zm10 10l.94 2.06.94-2.06 2.06-.94-2.06-.94-.94-2.06-.94 2.06-2.06.94z\"/><path d=\"M17.41 7.96l-1.37-1.37c-.4-.4-.92-.59-1.43-.59-.52 0-1.04.2-1.43.59L10.3 9.45l-7.72 7.72c-.78.78-.78 2.05 0 2.83L4 21.41c.39.39.9.59 1.41.59.51 0 1.02-.2 1.41-.59l7.78-7.78 2.81-2.81c.8-.78.8-2.07 0-2.86zM5.41 20L4 18.59l7.72-7.72 1.47 1.35L5.41 20z\"/>\n",
              "  </svg>\n",
              "      </button>\n",
              "      \n",
              "  <style>\n",
              "    .colab-df-container {\n",
              "      display:flex;\n",
              "      flex-wrap:wrap;\n",
              "      gap: 12px;\n",
              "    }\n",
              "\n",
              "    .colab-df-convert {\n",
              "      background-color: #E8F0FE;\n",
              "      border: none;\n",
              "      border-radius: 50%;\n",
              "      cursor: pointer;\n",
              "      display: none;\n",
              "      fill: #1967D2;\n",
              "      height: 32px;\n",
              "      padding: 0 0 0 0;\n",
              "      width: 32px;\n",
              "    }\n",
              "\n",
              "    .colab-df-convert:hover {\n",
              "      background-color: #E2EBFA;\n",
              "      box-shadow: 0px 1px 2px rgba(60, 64, 67, 0.3), 0px 1px 3px 1px rgba(60, 64, 67, 0.15);\n",
              "      fill: #174EA6;\n",
              "    }\n",
              "\n",
              "    [theme=dark] .colab-df-convert {\n",
              "      background-color: #3B4455;\n",
              "      fill: #D2E3FC;\n",
              "    }\n",
              "\n",
              "    [theme=dark] .colab-df-convert:hover {\n",
              "      background-color: #434B5C;\n",
              "      box-shadow: 0px 1px 3px 1px rgba(0, 0, 0, 0.15);\n",
              "      filter: drop-shadow(0px 1px 2px rgba(0, 0, 0, 0.3));\n",
              "      fill: #FFFFFF;\n",
              "    }\n",
              "  </style>\n",
              "\n",
              "      <script>\n",
              "        const buttonEl =\n",
              "          document.querySelector('#df-8eca649a-b501-4760-bc8b-93f44435d3c2 button.colab-df-convert');\n",
              "        buttonEl.style.display =\n",
              "          google.colab.kernel.accessAllowed ? 'block' : 'none';\n",
              "\n",
              "        async function convertToInteractive(key) {\n",
              "          const element = document.querySelector('#df-8eca649a-b501-4760-bc8b-93f44435d3c2');\n",
              "          const dataTable =\n",
              "            await google.colab.kernel.invokeFunction('convertToInteractive',\n",
              "                                                     [key], {});\n",
              "          if (!dataTable) return;\n",
              "\n",
              "          const docLinkHtml = 'Like what you see? Visit the ' +\n",
              "            '<a target=\"_blank\" href=https://colab.research.google.com/notebooks/data_table.ipynb>data table notebook</a>'\n",
              "            + ' to learn more about interactive tables.';\n",
              "          element.innerHTML = '';\n",
              "          dataTable['output_type'] = 'display_data';\n",
              "          await google.colab.output.renderOutput(dataTable, element);\n",
              "          const docLink = document.createElement('div');\n",
              "          docLink.innerHTML = docLinkHtml;\n",
              "          element.appendChild(docLink);\n",
              "        }\n",
              "      </script>\n",
              "    </div>\n",
              "  </div>\n",
              "  "
            ]
          },
          "metadata": {},
          "execution_count": 12
        }
      ]
    },
    {
      "cell_type": "code",
      "source": [
        "train = df[df['Fig_Age'].between(1,75)]\n",
        "val = df[df['Fig_Age'].between(76,100)]"
      ],
      "metadata": {
        "id": "Z1zBw01Gl8Ac"
      },
      "execution_count": 13,
      "outputs": []
    },
    {
      "cell_type": "code",
      "source": [
        "DATA_PATH = \"/content/drive/My Drive/TVT_Gender\"\n",
        "os.chdir(DATA_PATH)\n",
        "train_dir = os.path.join(DATA_PATH, 'train')\n",
        "print(train_dir)\n",
        "validation_dir = os.path.join(DATA_PATH, 'validation')\n",
        "print(validation_dir)"
      ],
      "metadata": {
        "colab": {
          "base_uri": "https://localhost:8080/"
        },
        "id": "QL0g-8iOnMC4",
        "outputId": "7defc16b-895c-4fa6-f177-73f5126bc2a5"
      },
      "execution_count": 14,
      "outputs": [
        {
          "output_type": "stream",
          "name": "stdout",
          "text": [
            "/content/drive/My Drive/TVT_Gender/train\n",
            "/content/drive/My Drive/TVT_Gender/validation\n"
          ]
        }
      ]
    },
    {
      "cell_type": "markdown",
      "source": [
        "\n",
        "#Train"
      ],
      "metadata": {
        "id": "bWEnlTSwazL5"
      }
    },
    {
      "cell_type": "code",
      "source": [
        "# Train ด้วย ImageDataGenerator ของ Keras ซึ่งจะเพิ่มข้อมูลเสริมระหว่างการฝึกเพื่อลดโอกาสเกิด overfitting\n",
        "#overfitting เกิดจากข้อมูลที่ซับซ้อนกันเกินไป\n",
        "from tensorflow.keras.preprocessing.image import ImageDataGenerator\n",
        "\n",
        "train_datagen = ImageDataGenerator(\n",
        "      rescale=1./255, #โมเดลส่วนใหญ่ต้องใช้ RGB ในช่วง 0–1\n",
        "      rotation_range=40,\n",
        "      width_shift_range=0.2,\n",
        "      height_shift_range=0.2,\n",
        "      shear_range=0.2,\n",
        "      zoom_range=0.2,\n",
        "      horizontal_flip=True,\n",
        "      fill_mode='nearest')\n",
        "\n",
        "# Note that the validation data should not be augmented!\n",
        "test_datagen = ImageDataGenerator(rescale=1./255)"
      ],
      "metadata": {
        "id": "xGPrsn9no_pa"
      },
      "execution_count": 15,
      "outputs": []
    },
    {
      "cell_type": "code",
      "source": [
        "train_generator = train_datagen.flow_from_dataframe(\n",
        "        dataframe = train,\n",
        "        directory = train_dir,\n",
        "        x_col = 'Path_filename',\n",
        "        y_col = 'Class_Re',\n",
        "        class_mode = 'other',\n",
        "        target_size=(height, width),\n",
        "        batch_size=batch_size)\n",
        "\n",
        "validation_generator = test_datagen.flow_from_dataframe(\n",
        "        dataframe = val,\n",
        "        directory = validation_dir,\n",
        "        x_col = 'Path_filename',\n",
        "        y_col = 'Class_Re',\n",
        "        class_mode = 'other',\n",
        "        target_size=(height, width),\n",
        "        batch_size=batch_size)"
      ],
      "metadata": {
        "colab": {
          "base_uri": "https://localhost:8080/"
        },
        "id": "8nVlmAszntK_",
        "outputId": "e4b290b7-1bf1-4732-ac34-42bd7efecddd"
      },
      "execution_count": 16,
      "outputs": [
        {
          "output_type": "stream",
          "name": "stdout",
          "text": [
            "Found 2850 validated image filenames.\n",
            "Found 950 validated image filenames.\n"
          ]
        }
      ]
    },
    {
      "cell_type": "code",
      "source": [
        "model.summary()"
      ],
      "metadata": {
        "colab": {
          "base_uri": "https://localhost:8080/"
        },
        "id": "zzCdn3X4Jm_E",
        "outputId": "eca31c65-2f23-4018-eef5-f3697b583860"
      },
      "execution_count": 17,
      "outputs": [
        {
          "output_type": "stream",
          "name": "stdout",
          "text": [
            "Model: \"sequential\"\n",
            "_________________________________________________________________\n",
            " Layer (type)                Output Shape              Param #   \n",
            "=================================================================\n",
            " efficientnet-b0 (Functional  (None, 5, 5, 1280)       4049564   \n",
            " )                                                               \n",
            "                                                                 \n",
            " gap (GlobalMaxPooling2D)    (None, 1280)              0         \n",
            "                                                                 \n",
            " dropout_out (Dropout)       (None, 1280)              0         \n",
            "                                                                 \n",
            " fc_out (Dense)              (None, 19)                24339     \n",
            "                                                                 \n",
            " dense (Dense)               (None, 1)                 20        \n",
            "                                                                 \n",
            "=================================================================\n",
            "Total params: 4,073,923\n",
            "Trainable params: 4,031,907\n",
            "Non-trainable params: 42,016\n",
            "_________________________________________________________________\n"
          ]
        }
      ]
    },
    {
      "cell_type": "code",
      "source": [
        "model.compile(loss='mse',\n",
        "          optimizer=Adam(learning_rate=1e-4),\n",
        "          metrics=['mae'])\n",
        "history = model.fit_generator(\n",
        "      train_generator,\n",
        "      steps_per_epoch= NUM_TRAIN //batch_size,\n",
        "      epochs=epochs,\n",
        "      validation_data=validation_generator,\n",
        "      validation_steps= NUM_TEST //batch_size,\n",
        "      verbose=1,\n",
        "      use_multiprocessing=True,\n",
        "      workers=4)"
      ],
      "metadata": {
        "id": "N6qUmmF856ZE",
        "outputId": "cd5306e9-874b-40b3-d292-e63d0f498541",
        "colab": {
          "base_uri": "https://localhost:8080/"
        }
      },
      "execution_count": 18,
      "outputs": [
        {
          "output_type": "stream",
          "name": "stderr",
          "text": [
            "<ipython-input-18-f59104fd3985>:4: UserWarning: `Model.fit_generator` is deprecated and will be removed in a future version. Please use `Model.fit`, which supports generators.\n",
            "  history = model.fit_generator(\n"
          ]
        },
        {
          "output_type": "stream",
          "name": "stdout",
          "text": [
            "Epoch 1/250\n",
            "178/178 [==============================] - 827s 4s/step - loss: 0.8914 - mae: 0.6095 - val_loss: 5.2711 - val_mae: 1.6722\n",
            "Epoch 2/250\n",
            "178/178 [==============================] - 18s 100ms/step - loss: 0.7950 - mae: 0.5899 - val_loss: 5.4829 - val_mae: 1.7058\n",
            "Epoch 3/250\n",
            "178/178 [==============================] - 18s 100ms/step - loss: 0.8272 - mae: 0.6008 - val_loss: 8.7039 - val_mae: 2.1480\n",
            "Epoch 4/250\n",
            "178/178 [==============================] - 18s 99ms/step - loss: 0.6670 - mae: 0.5537 - val_loss: 7.2804 - val_mae: 1.9189\n",
            "Epoch 5/250\n",
            "178/178 [==============================] - 18s 99ms/step - loss: 0.8202 - mae: 0.6013 - val_loss: 6.4599 - val_mae: 1.8000\n",
            "Epoch 6/250\n",
            "178/178 [==============================] - 18s 99ms/step - loss: 0.8752 - mae: 0.6278 - val_loss: 7.0133 - val_mae: 1.8841\n",
            "Epoch 7/250\n",
            "178/178 [==============================] - 18s 99ms/step - loss: 0.8636 - mae: 0.6175 - val_loss: 7.3129 - val_mae: 1.9267\n",
            "Epoch 8/250\n",
            "178/178 [==============================] - 18s 99ms/step - loss: 0.8493 - mae: 0.6215 - val_loss: 6.5217 - val_mae: 1.8267\n",
            "Epoch 9/250\n",
            "178/178 [==============================] - 18s 100ms/step - loss: 0.7813 - mae: 0.6020 - val_loss: 6.0431 - val_mae: 1.7739\n",
            "Epoch 10/250\n",
            "178/178 [==============================] - 18s 99ms/step - loss: 0.8172 - mae: 0.5926 - val_loss: 5.8160 - val_mae: 1.7455\n",
            "Epoch 11/250\n",
            "178/178 [==============================] - 18s 99ms/step - loss: 0.8274 - mae: 0.5934 - val_loss: 7.0132 - val_mae: 1.8942\n",
            "Epoch 12/250\n",
            "178/178 [==============================] - 18s 99ms/step - loss: 0.7219 - mae: 0.5745 - val_loss: 6.2251 - val_mae: 1.7819\n",
            "Epoch 13/250\n",
            "178/178 [==============================] - 18s 99ms/step - loss: 0.8421 - mae: 0.5876 - val_loss: 6.4028 - val_mae: 1.7989\n",
            "Epoch 14/250\n",
            "178/178 [==============================] - 18s 100ms/step - loss: 0.7510 - mae: 0.5891 - val_loss: 7.3019 - val_mae: 1.9395\n",
            "Epoch 15/250\n",
            "178/178 [==============================] - 18s 100ms/step - loss: 0.8267 - mae: 0.5786 - val_loss: 6.3669 - val_mae: 1.8198\n",
            "Epoch 16/250\n",
            "178/178 [==============================] - 18s 100ms/step - loss: 0.6873 - mae: 0.5592 - val_loss: 5.8070 - val_mae: 1.7714\n",
            "Epoch 17/250\n",
            "178/178 [==============================] - 18s 100ms/step - loss: 0.6939 - mae: 0.5451 - val_loss: 5.9305 - val_mae: 1.7635\n",
            "Epoch 18/250\n",
            "178/178 [==============================] - 18s 100ms/step - loss: 0.6778 - mae: 0.5491 - val_loss: 6.3564 - val_mae: 1.8386\n",
            "Epoch 19/250\n",
            "178/178 [==============================] - 18s 100ms/step - loss: 0.6227 - mae: 0.5317 - val_loss: 6.4384 - val_mae: 1.8230\n",
            "Epoch 20/250\n",
            "178/178 [==============================] - 18s 100ms/step - loss: 0.7560 - mae: 0.5519 - val_loss: 6.7803 - val_mae: 1.8497\n",
            "Epoch 21/250\n",
            "178/178 [==============================] - 18s 100ms/step - loss: 0.6211 - mae: 0.5345 - val_loss: 5.2628 - val_mae: 1.6600\n",
            "Epoch 22/250\n",
            "178/178 [==============================] - 18s 100ms/step - loss: 0.8533 - mae: 0.5924 - val_loss: 6.8994 - val_mae: 1.9060\n",
            "Epoch 23/250\n",
            "178/178 [==============================] - 18s 99ms/step - loss: 0.7795 - mae: 0.5803 - val_loss: 5.6847 - val_mae: 1.7410\n",
            "Epoch 24/250\n",
            "178/178 [==============================] - 18s 100ms/step - loss: 0.7900 - mae: 0.5867 - val_loss: 4.8929 - val_mae: 1.6252\n",
            "Epoch 25/250\n",
            "178/178 [==============================] - 18s 100ms/step - loss: 0.7849 - mae: 0.5690 - val_loss: 5.3629 - val_mae: 1.6943\n",
            "Epoch 26/250\n",
            "178/178 [==============================] - 18s 101ms/step - loss: 0.6992 - mae: 0.5530 - val_loss: 5.5706 - val_mae: 1.7050\n",
            "Epoch 27/250\n",
            "178/178 [==============================] - 18s 101ms/step - loss: 0.7389 - mae: 0.5522 - val_loss: 5.5264 - val_mae: 1.7085\n",
            "Epoch 28/250\n",
            "178/178 [==============================] - 18s 100ms/step - loss: 0.6517 - mae: 0.5447 - val_loss: 4.9341 - val_mae: 1.6387\n",
            "Epoch 29/250\n",
            "178/178 [==============================] - 13s 72ms/step - loss: 0.6293 - mae: 0.5273 - val_loss: 5.6391 - val_mae: 1.7496\n",
            "Epoch 30/250\n",
            "178/178 [==============================] - 18s 100ms/step - loss: 0.6430 - mae: 0.5199 - val_loss: 5.9848 - val_mae: 1.7845\n",
            "Epoch 31/250\n",
            "178/178 [==============================] - 18s 99ms/step - loss: 0.7176 - mae: 0.5516 - val_loss: 4.7381 - val_mae: 1.6084\n",
            "Epoch 32/250\n",
            "178/178 [==============================] - 18s 100ms/step - loss: 0.7385 - mae: 0.5439 - val_loss: 4.9327 - val_mae: 1.6447\n",
            "Epoch 33/250\n",
            "178/178 [==============================] - 18s 100ms/step - loss: 0.6251 - mae: 0.5294 - val_loss: 5.2262 - val_mae: 1.6694\n",
            "Epoch 34/250\n",
            "178/178 [==============================] - 18s 99ms/step - loss: 0.6217 - mae: 0.5232 - val_loss: 5.7737 - val_mae: 1.7487\n",
            "Epoch 35/250\n",
            "178/178 [==============================] - 18s 100ms/step - loss: 0.6083 - mae: 0.5143 - val_loss: 5.3491 - val_mae: 1.6903\n",
            "Epoch 36/250\n",
            "178/178 [==============================] - 18s 100ms/step - loss: 0.6035 - mae: 0.5145 - val_loss: 4.6935 - val_mae: 1.5834\n",
            "Epoch 37/250\n",
            "178/178 [==============================] - 18s 100ms/step - loss: 0.6221 - mae: 0.5215 - val_loss: 5.2307 - val_mae: 1.6708\n",
            "Epoch 38/250\n",
            "178/178 [==============================] - 18s 100ms/step - loss: 0.5684 - mae: 0.5115 - val_loss: 5.7620 - val_mae: 1.7470\n",
            "Epoch 39/250\n",
            "178/178 [==============================] - 18s 100ms/step - loss: 0.6577 - mae: 0.5239 - val_loss: 5.7895 - val_mae: 1.7534\n",
            "Epoch 40/250\n",
            "178/178 [==============================] - 18s 101ms/step - loss: 0.7227 - mae: 0.5527 - val_loss: 5.0568 - val_mae: 1.6393\n",
            "Epoch 41/250\n",
            "178/178 [==============================] - 18s 100ms/step - loss: 0.8387 - mae: 0.5718 - val_loss: 6.4308 - val_mae: 1.8650\n",
            "Epoch 42/250\n",
            "178/178 [==============================] - 18s 100ms/step - loss: 1.1185 - mae: 0.6728 - val_loss: 6.6074 - val_mae: 1.8503\n",
            "Epoch 43/250\n",
            "178/178 [==============================] - 18s 100ms/step - loss: 1.0321 - mae: 0.6335 - val_loss: 8.4234 - val_mae: 2.0325\n",
            "Epoch 44/250\n",
            "178/178 [==============================] - 18s 100ms/step - loss: 0.8886 - mae: 0.5888 - val_loss: 7.3183 - val_mae: 1.9117\n",
            "Epoch 45/250\n",
            "178/178 [==============================] - 18s 99ms/step - loss: 0.9526 - mae: 0.5984 - val_loss: 6.3030 - val_mae: 1.7993\n",
            "Epoch 46/250\n",
            "178/178 [==============================] - 18s 100ms/step - loss: 0.7894 - mae: 0.5789 - val_loss: 6.1068 - val_mae: 1.8078\n",
            "Epoch 47/250\n",
            "178/178 [==============================] - 18s 99ms/step - loss: 0.9367 - mae: 0.5805 - val_loss: 6.4880 - val_mae: 1.8333\n",
            "Epoch 48/250\n",
            "178/178 [==============================] - 18s 100ms/step - loss: 1.0758 - mae: 0.6548 - val_loss: 5.0350 - val_mae: 1.6721\n",
            "Epoch 49/250\n",
            "178/178 [==============================] - 18s 99ms/step - loss: 0.9683 - mae: 0.6414 - val_loss: 6.3816 - val_mae: 1.8526\n",
            "Epoch 50/250\n",
            "178/178 [==============================] - 18s 99ms/step - loss: 0.8814 - mae: 0.6207 - val_loss: 6.6121 - val_mae: 1.9128\n",
            "Epoch 51/250\n",
            "178/178 [==============================] - 18s 99ms/step - loss: 1.0942 - mae: 0.6426 - val_loss: 6.3556 - val_mae: 1.8558\n",
            "Epoch 52/250\n",
            "178/178 [==============================] - 18s 99ms/step - loss: 0.8533 - mae: 0.5946 - val_loss: 6.9456 - val_mae: 1.9449\n",
            "Epoch 53/250\n",
            "178/178 [==============================] - 18s 99ms/step - loss: 0.9119 - mae: 0.6081 - val_loss: 6.7372 - val_mae: 1.8828\n",
            "Epoch 54/250\n",
            "178/178 [==============================] - 18s 99ms/step - loss: 0.8963 - mae: 0.5918 - val_loss: 7.6866 - val_mae: 1.9879\n",
            "Epoch 55/250\n",
            "178/178 [==============================] - 18s 100ms/step - loss: 0.8278 - mae: 0.5925 - val_loss: 6.8210 - val_mae: 1.9126\n",
            "Epoch 56/250\n",
            "178/178 [==============================] - 18s 100ms/step - loss: 0.7610 - mae: 0.5790 - val_loss: 6.3555 - val_mae: 1.8270\n",
            "Epoch 57/250\n",
            "178/178 [==============================] - 18s 100ms/step - loss: 0.7425 - mae: 0.5821 - val_loss: 6.5613 - val_mae: 1.8563\n",
            "Epoch 58/250\n",
            "178/178 [==============================] - 18s 100ms/step - loss: 0.8035 - mae: 0.5713 - val_loss: 6.3842 - val_mae: 1.8153\n",
            "Epoch 59/250\n",
            "178/178 [==============================] - 18s 99ms/step - loss: 0.7755 - mae: 0.5819 - val_loss: 5.6289 - val_mae: 1.7301\n",
            "Epoch 60/250\n",
            "178/178 [==============================] - 18s 101ms/step - loss: 0.8393 - mae: 0.5963 - val_loss: 6.5008 - val_mae: 1.8519\n",
            "Epoch 61/250\n",
            "178/178 [==============================] - 18s 100ms/step - loss: 0.8481 - mae: 0.5856 - val_loss: 6.8643 - val_mae: 1.9051\n",
            "Epoch 62/250\n",
            "178/178 [==============================] - 18s 102ms/step - loss: 0.7607 - mae: 0.5673 - val_loss: 7.2104 - val_mae: 1.9182\n",
            "Epoch 63/250\n",
            "178/178 [==============================] - 19s 103ms/step - loss: 0.7307 - mae: 0.5613 - val_loss: 7.7107 - val_mae: 1.9885\n",
            "Epoch 64/250\n",
            "178/178 [==============================] - 19s 104ms/step - loss: 0.7554 - mae: 0.5716 - val_loss: 8.1938 - val_mae: 2.0472\n",
            "Epoch 65/250\n",
            "178/178 [==============================] - 18s 100ms/step - loss: 0.8828 - mae: 0.5927 - val_loss: 7.5387 - val_mae: 1.9982\n",
            "Epoch 66/250\n",
            "178/178 [==============================] - 18s 100ms/step - loss: 0.7379 - mae: 0.5578 - val_loss: 7.1850 - val_mae: 1.9338\n",
            "Epoch 67/250\n",
            "178/178 [==============================] - 18s 100ms/step - loss: 0.8669 - mae: 0.5772 - val_loss: 7.3058 - val_mae: 1.9530\n",
            "Epoch 68/250\n",
            "178/178 [==============================] - 18s 101ms/step - loss: 0.6976 - mae: 0.5633 - val_loss: 6.6709 - val_mae: 1.8702\n",
            "Epoch 69/250\n",
            "178/178 [==============================] - 18s 101ms/step - loss: 0.7484 - mae: 0.5533 - val_loss: 6.6034 - val_mae: 1.8616\n",
            "Epoch 70/250\n",
            "178/178 [==============================] - 18s 101ms/step - loss: 0.7331 - mae: 0.5504 - val_loss: 7.3721 - val_mae: 1.9480\n",
            "Epoch 71/250\n",
            "178/178 [==============================] - 18s 99ms/step - loss: 0.7894 - mae: 0.5627 - val_loss: 7.0548 - val_mae: 1.8948\n",
            "Epoch 72/250\n",
            "178/178 [==============================] - 18s 99ms/step - loss: 0.7892 - mae: 0.5642 - val_loss: 7.2511 - val_mae: 1.9190\n",
            "Epoch 73/250\n",
            "178/178 [==============================] - 18s 100ms/step - loss: 0.6952 - mae: 0.5627 - val_loss: 6.2853 - val_mae: 1.7819\n",
            "Epoch 74/250\n",
            "178/178 [==============================] - 18s 100ms/step - loss: 0.6955 - mae: 0.5546 - val_loss: 6.1574 - val_mae: 1.7713\n",
            "Epoch 75/250\n",
            "178/178 [==============================] - 18s 99ms/step - loss: 0.6811 - mae: 0.5404 - val_loss: 6.3598 - val_mae: 1.7953\n",
            "Epoch 76/250\n",
            "178/178 [==============================] - 18s 100ms/step - loss: 0.8423 - mae: 0.6005 - val_loss: 6.3275 - val_mae: 1.7810\n",
            "Epoch 77/250\n",
            "178/178 [==============================] - 18s 100ms/step - loss: 0.7766 - mae: 0.5754 - val_loss: 6.8112 - val_mae: 1.8524\n",
            "Epoch 78/250\n",
            "178/178 [==============================] - 18s 100ms/step - loss: 0.6926 - mae: 0.5517 - val_loss: 7.9493 - val_mae: 1.9627\n",
            "Epoch 79/250\n",
            "178/178 [==============================] - 18s 99ms/step - loss: 0.7834 - mae: 0.5737 - val_loss: 6.4385 - val_mae: 1.7847\n",
            "Epoch 80/250\n",
            "178/178 [==============================] - 18s 100ms/step - loss: 0.6833 - mae: 0.5479 - val_loss: 6.7896 - val_mae: 1.8509\n",
            "Epoch 81/250\n",
            "178/178 [==============================] - 18s 101ms/step - loss: 0.7456 - mae: 0.5537 - val_loss: 6.2489 - val_mae: 1.7944\n",
            "Epoch 82/250\n",
            "178/178 [==============================] - 18s 100ms/step - loss: 0.6446 - mae: 0.5342 - val_loss: 5.9680 - val_mae: 1.7713\n",
            "Epoch 83/250\n",
            "178/178 [==============================] - 18s 100ms/step - loss: 0.6671 - mae: 0.5301 - val_loss: 5.8709 - val_mae: 1.7542\n",
            "Epoch 84/250\n",
            "178/178 [==============================] - 18s 100ms/step - loss: 0.6475 - mae: 0.5304 - val_loss: 5.9346 - val_mae: 1.7717\n",
            "Epoch 85/250\n",
            "178/178 [==============================] - 18s 100ms/step - loss: 0.6215 - mae: 0.5231 - val_loss: 6.7241 - val_mae: 1.8560\n",
            "Epoch 86/250\n",
            "178/178 [==============================] - 18s 99ms/step - loss: 0.6611 - mae: 0.5321 - val_loss: 6.1761 - val_mae: 1.7906\n",
            "Epoch 87/250\n",
            "178/178 [==============================] - 18s 100ms/step - loss: 0.6104 - mae: 0.5210 - val_loss: 5.5859 - val_mae: 1.7196\n",
            "Epoch 88/250\n",
            "178/178 [==============================] - 18s 100ms/step - loss: 0.6020 - mae: 0.5207 - val_loss: 6.8056 - val_mae: 1.8798\n",
            "Epoch 89/250\n",
            "178/178 [==============================] - 18s 99ms/step - loss: 0.6061 - mae: 0.5100 - val_loss: 6.1144 - val_mae: 1.7838\n",
            "Epoch 90/250\n",
            "178/178 [==============================] - 18s 100ms/step - loss: 0.6479 - mae: 0.5316 - val_loss: 7.2438 - val_mae: 1.9206\n",
            "Epoch 91/250\n",
            "178/178 [==============================] - 18s 100ms/step - loss: 0.7218 - mae: 0.5526 - val_loss: 7.0682 - val_mae: 1.8985\n",
            "Epoch 92/250\n",
            "178/178 [==============================] - 18s 100ms/step - loss: 0.6254 - mae: 0.5254 - val_loss: 6.8421 - val_mae: 1.8854\n",
            "Epoch 93/250\n",
            "178/178 [==============================] - 18s 99ms/step - loss: 0.5907 - mae: 0.5185 - val_loss: 7.2174 - val_mae: 1.9217\n",
            "Epoch 94/250\n",
            "178/178 [==============================] - 18s 101ms/step - loss: 0.6091 - mae: 0.5179 - val_loss: 6.6663 - val_mae: 1.8508\n",
            "Epoch 95/250\n",
            "178/178 [==============================] - 18s 100ms/step - loss: 0.6582 - mae: 0.5413 - val_loss: 6.7185 - val_mae: 1.8474\n",
            "Epoch 96/250\n",
            "178/178 [==============================] - 18s 100ms/step - loss: 0.6955 - mae: 0.5463 - val_loss: 6.2436 - val_mae: 1.8083\n",
            "Epoch 97/250\n",
            "178/178 [==============================] - 18s 100ms/step - loss: 0.6942 - mae: 0.5402 - val_loss: 6.2749 - val_mae: 1.8046\n",
            "Epoch 98/250\n",
            "178/178 [==============================] - 18s 99ms/step - loss: 0.6752 - mae: 0.5284 - val_loss: 6.7040 - val_mae: 1.8342\n",
            "Epoch 99/250\n",
            "178/178 [==============================] - 18s 100ms/step - loss: 0.5924 - mae: 0.5125 - val_loss: 6.7216 - val_mae: 1.8510\n",
            "Epoch 100/250\n",
            "178/178 [==============================] - 18s 99ms/step - loss: 0.6268 - mae: 0.5198 - val_loss: 6.2854 - val_mae: 1.8152\n",
            "Epoch 101/250\n",
            "178/178 [==============================] - 18s 100ms/step - loss: 0.6704 - mae: 0.5287 - val_loss: 6.3977 - val_mae: 1.8131\n",
            "Epoch 102/250\n",
            "178/178 [==============================] - 18s 100ms/step - loss: 0.7605 - mae: 0.5733 - val_loss: 8.2662 - val_mae: 2.0272\n",
            "Epoch 103/250\n",
            "178/178 [==============================] - 18s 101ms/step - loss: 0.8319 - mae: 0.5861 - val_loss: 6.9531 - val_mae: 1.8646\n",
            "Epoch 104/250\n",
            "178/178 [==============================] - 18s 100ms/step - loss: 0.8593 - mae: 0.5828 - val_loss: 5.5885 - val_mae: 1.7138\n",
            "Epoch 105/250\n",
            "178/178 [==============================] - 18s 100ms/step - loss: 0.8743 - mae: 0.5721 - val_loss: 5.9721 - val_mae: 1.7519\n",
            "Epoch 106/250\n",
            "178/178 [==============================] - 18s 100ms/step - loss: 0.8832 - mae: 0.5757 - val_loss: 6.0949 - val_mae: 1.7691\n",
            "Epoch 107/250\n",
            "178/178 [==============================] - 18s 100ms/step - loss: 0.8363 - mae: 0.5693 - val_loss: 5.6276 - val_mae: 1.7057\n",
            "Epoch 108/250\n",
            "178/178 [==============================] - 18s 100ms/step - loss: 0.6384 - mae: 0.5314 - val_loss: 6.1131 - val_mae: 1.7621\n",
            "Epoch 109/250\n",
            "178/178 [==============================] - 14s 74ms/step - loss: 0.6529 - mae: 0.5216 - val_loss: 6.1482 - val_mae: 1.7518\n",
            "Epoch 110/250\n",
            "178/178 [==============================] - 18s 101ms/step - loss: 0.6447 - mae: 0.5105 - val_loss: 6.9843 - val_mae: 1.8606\n",
            "Epoch 111/250\n",
            "178/178 [==============================] - 18s 101ms/step - loss: 0.8053 - mae: 0.5490 - val_loss: 9.2413 - val_mae: 2.1502\n",
            "Epoch 112/250\n",
            "178/178 [==============================] - 18s 100ms/step - loss: 0.8535 - mae: 0.5959 - val_loss: 8.0351 - val_mae: 1.9771\n",
            "Epoch 113/250\n",
            "178/178 [==============================] - 18s 100ms/step - loss: 0.8899 - mae: 0.5822 - val_loss: 5.8789 - val_mae: 1.7163\n",
            "Epoch 114/250\n",
            "178/178 [==============================] - 18s 100ms/step - loss: 1.0139 - mae: 0.6176 - val_loss: 4.7102 - val_mae: 1.5764\n",
            "Epoch 115/250\n",
            "178/178 [==============================] - 18s 100ms/step - loss: 0.9902 - mae: 0.6050 - val_loss: 5.2580 - val_mae: 1.6642\n",
            "Epoch 116/250\n",
            "178/178 [==============================] - 18s 100ms/step - loss: 1.1868 - mae: 0.6395 - val_loss: 5.0290 - val_mae: 1.6448\n",
            "Epoch 117/250\n",
            "178/178 [==============================] - 18s 100ms/step - loss: 1.1257 - mae: 0.6486 - val_loss: 5.4558 - val_mae: 1.6993\n",
            "Epoch 118/250\n",
            "178/178 [==============================] - 18s 100ms/step - loss: 1.1525 - mae: 0.6575 - val_loss: 7.9672 - val_mae: 2.0043\n",
            "Epoch 119/250\n",
            "178/178 [==============================] - 18s 100ms/step - loss: 0.9655 - mae: 0.6136 - val_loss: 6.2151 - val_mae: 1.7688\n",
            "Epoch 120/250\n",
            "178/178 [==============================] - 19s 104ms/step - loss: 1.0622 - mae: 0.6321 - val_loss: 7.3660 - val_mae: 1.9183\n",
            "Epoch 121/250\n",
            "178/178 [==============================] - 19s 104ms/step - loss: 1.2405 - mae: 0.6490 - val_loss: 6.9015 - val_mae: 1.8853\n",
            "Epoch 122/250\n",
            "178/178 [==============================] - 19s 103ms/step - loss: 1.2053 - mae: 0.6384 - val_loss: 6.3091 - val_mae: 1.8057\n",
            "Epoch 123/250\n",
            "178/178 [==============================] - 19s 104ms/step - loss: 1.0718 - mae: 0.6144 - val_loss: 6.1574 - val_mae: 1.7991\n",
            "Epoch 124/250\n",
            "178/178 [==============================] - 18s 101ms/step - loss: 1.3018 - mae: 0.6428 - val_loss: 4.8415 - val_mae: 1.6412\n",
            "Epoch 125/250\n",
            "178/178 [==============================] - 18s 100ms/step - loss: 1.1508 - mae: 0.6347 - val_loss: 6.3362 - val_mae: 1.8178\n",
            "Epoch 126/250\n",
            "178/178 [==============================] - 18s 100ms/step - loss: 1.1932 - mae: 0.6225 - val_loss: 7.1850 - val_mae: 1.9027\n",
            "Epoch 127/250\n",
            "178/178 [==============================] - 18s 100ms/step - loss: 1.1256 - mae: 0.6095 - val_loss: 6.1478 - val_mae: 1.7865\n",
            "Epoch 128/250\n",
            "178/178 [==============================] - 18s 100ms/step - loss: 1.2099 - mae: 0.6323 - val_loss: 5.4141 - val_mae: 1.6962\n",
            "Epoch 129/250\n",
            "178/178 [==============================] - 18s 100ms/step - loss: 1.1524 - mae: 0.6200 - val_loss: 6.1932 - val_mae: 1.7824\n",
            "Epoch 130/250\n",
            "178/178 [==============================] - 18s 100ms/step - loss: 1.0147 - mae: 0.6111 - val_loss: 6.1804 - val_mae: 1.7655\n",
            "Epoch 131/250\n",
            "178/178 [==============================] - 18s 100ms/step - loss: 1.1146 - mae: 0.6349 - val_loss: 6.7658 - val_mae: 1.8701\n",
            "Epoch 132/250\n",
            "178/178 [==============================] - 18s 100ms/step - loss: 1.2324 - mae: 0.6382 - val_loss: 6.8839 - val_mae: 1.8724\n",
            "Epoch 133/250\n",
            "178/178 [==============================] - 18s 100ms/step - loss: 1.0183 - mae: 0.6106 - val_loss: 6.9099 - val_mae: 1.8591\n",
            "Epoch 134/250\n",
            "178/178 [==============================] - 18s 99ms/step - loss: 1.2212 - mae: 0.6521 - val_loss: 6.4632 - val_mae: 1.8042\n",
            "Epoch 135/250\n",
            "178/178 [==============================] - 18s 100ms/step - loss: 1.2262 - mae: 0.6395 - val_loss: 5.7578 - val_mae: 1.7080\n",
            "Epoch 136/250\n",
            "178/178 [==============================] - 18s 100ms/step - loss: 1.2154 - mae: 0.6235 - val_loss: 5.8264 - val_mae: 1.7214\n",
            "Epoch 137/250\n",
            "178/178 [==============================] - 18s 99ms/step - loss: 1.2080 - mae: 0.6104 - val_loss: 6.9273 - val_mae: 1.8482\n",
            "Epoch 138/250\n",
            "178/178 [==============================] - 18s 99ms/step - loss: 1.0943 - mae: 0.6018 - val_loss: 7.0442 - val_mae: 1.8765\n",
            "Epoch 139/250\n",
            "178/178 [==============================] - 18s 100ms/step - loss: 1.2402 - mae: 0.6370 - val_loss: 4.6103 - val_mae: 1.5666\n",
            "Epoch 140/250\n",
            "178/178 [==============================] - 18s 100ms/step - loss: 1.2378 - mae: 0.6334 - val_loss: 4.8124 - val_mae: 1.5974\n",
            "Epoch 141/250\n",
            "178/178 [==============================] - 18s 100ms/step - loss: 1.0010 - mae: 0.5987 - val_loss: 4.5169 - val_mae: 1.5278\n",
            "Epoch 142/250\n",
            "178/178 [==============================] - 18s 100ms/step - loss: 0.8452 - mae: 0.5938 - val_loss: 4.8127 - val_mae: 1.5919\n",
            "Epoch 143/250\n",
            "178/178 [==============================] - 18s 101ms/step - loss: 1.1108 - mae: 0.6677 - val_loss: 5.1449 - val_mae: 1.6290\n",
            "Epoch 144/250\n",
            "178/178 [==============================] - 18s 100ms/step - loss: 1.0444 - mae: 0.6330 - val_loss: 5.8361 - val_mae: 1.7132\n",
            "Epoch 145/250\n",
            "178/178 [==============================] - 18s 100ms/step - loss: 1.1264 - mae: 0.6397 - val_loss: 5.3021 - val_mae: 1.6592\n",
            "Epoch 146/250\n",
            "178/178 [==============================] - 18s 99ms/step - loss: 1.1926 - mae: 0.6520 - val_loss: 5.6900 - val_mae: 1.6818\n",
            "Epoch 147/250\n",
            "178/178 [==============================] - 18s 100ms/step - loss: 1.2167 - mae: 0.6330 - val_loss: 5.4826 - val_mae: 1.6749\n",
            "Epoch 148/250\n",
            "178/178 [==============================] - 18s 100ms/step - loss: 1.0971 - mae: 0.6287 - val_loss: 4.7456 - val_mae: 1.5734\n",
            "Epoch 149/250\n",
            "178/178 [==============================] - 18s 101ms/step - loss: 0.8848 - mae: 0.6000 - val_loss: 5.0482 - val_mae: 1.6077\n",
            "Epoch 150/250\n",
            "178/178 [==============================] - 18s 101ms/step - loss: 1.1675 - mae: 0.6210 - val_loss: 5.2044 - val_mae: 1.6137\n",
            "Epoch 151/250\n",
            "178/178 [==============================] - 18s 100ms/step - loss: 0.9880 - mae: 0.6141 - val_loss: 5.7310 - val_mae: 1.6688\n",
            "Epoch 152/250\n",
            "178/178 [==============================] - 18s 100ms/step - loss: 0.9828 - mae: 0.5818 - val_loss: 5.5859 - val_mae: 1.6715\n",
            "Epoch 153/250\n",
            "178/178 [==============================] - 18s 101ms/step - loss: 1.0425 - mae: 0.6099 - val_loss: 5.6223 - val_mae: 1.6886\n",
            "Epoch 154/250\n",
            "178/178 [==============================] - 18s 100ms/step - loss: 0.8886 - mae: 0.5826 - val_loss: 6.1652 - val_mae: 1.7492\n",
            "Epoch 155/250\n",
            "178/178 [==============================] - 18s 100ms/step - loss: 0.9783 - mae: 0.5929 - val_loss: 5.3198 - val_mae: 1.6737\n",
            "Epoch 156/250\n",
            "178/178 [==============================] - 18s 100ms/step - loss: 0.9102 - mae: 0.5874 - val_loss: 5.4287 - val_mae: 1.6680\n",
            "Epoch 157/250\n",
            "178/178 [==============================] - 18s 100ms/step - loss: 0.9269 - mae: 0.5985 - val_loss: 5.2946 - val_mae: 1.6531\n",
            "Epoch 158/250\n",
            "178/178 [==============================] - 18s 100ms/step - loss: 0.8532 - mae: 0.5862 - val_loss: 6.3088 - val_mae: 1.7690\n",
            "Epoch 159/250\n",
            "178/178 [==============================] - 18s 100ms/step - loss: 0.8858 - mae: 0.5870 - val_loss: 6.2241 - val_mae: 1.7711\n",
            "Epoch 160/250\n",
            "178/178 [==============================] - 18s 99ms/step - loss: 0.7604 - mae: 0.5559 - val_loss: 5.9316 - val_mae: 1.7240\n",
            "Epoch 161/250\n",
            "178/178 [==============================] - 18s 100ms/step - loss: 1.3541 - mae: 0.6736 - val_loss: 5.8430 - val_mae: 1.7150\n",
            "Epoch 162/250\n",
            "178/178 [==============================] - 18s 100ms/step - loss: 1.3640 - mae: 0.6710 - val_loss: 6.0398 - val_mae: 1.7528\n",
            "Epoch 163/250\n",
            "178/178 [==============================] - 18s 100ms/step - loss: 1.3873 - mae: 0.6517 - val_loss: 5.8478 - val_mae: 1.7512\n",
            "Epoch 164/250\n",
            "178/178 [==============================] - 18s 100ms/step - loss: 1.3914 - mae: 0.6806 - val_loss: 7.1227 - val_mae: 1.9083\n",
            "Epoch 165/250\n",
            "178/178 [==============================] - 18s 100ms/step - loss: 1.1204 - mae: 0.6440 - val_loss: 7.5598 - val_mae: 1.9498\n",
            "Epoch 166/250\n",
            "178/178 [==============================] - 18s 101ms/step - loss: 0.9978 - mae: 0.6210 - val_loss: 5.5006 - val_mae: 1.6814\n",
            "Epoch 167/250\n",
            "178/178 [==============================] - 18s 100ms/step - loss: 1.0340 - mae: 0.6256 - val_loss: 5.9457 - val_mae: 1.7487\n",
            "Epoch 168/250\n",
            "178/178 [==============================] - 18s 101ms/step - loss: 0.9968 - mae: 0.6002 - val_loss: 7.2361 - val_mae: 1.9086\n",
            "Epoch 169/250\n",
            "178/178 [==============================] - 18s 100ms/step - loss: 1.0525 - mae: 0.6284 - val_loss: 6.5569 - val_mae: 1.8206\n",
            "Epoch 170/250\n",
            "178/178 [==============================] - 18s 101ms/step - loss: 1.0788 - mae: 0.6150 - val_loss: 5.2786 - val_mae: 1.6725\n",
            "Epoch 171/250\n",
            "178/178 [==============================] - 18s 100ms/step - loss: 0.9981 - mae: 0.6106 - val_loss: 6.0215 - val_mae: 1.7648\n",
            "Epoch 172/250\n",
            "178/178 [==============================] - 18s 100ms/step - loss: 1.0396 - mae: 0.6050 - val_loss: 6.2012 - val_mae: 1.7986\n",
            "Epoch 173/250\n",
            "178/178 [==============================] - 18s 100ms/step - loss: 0.9354 - mae: 0.6034 - val_loss: 5.7278 - val_mae: 1.7388\n",
            "Epoch 174/250\n",
            "178/178 [==============================] - 18s 100ms/step - loss: 0.9619 - mae: 0.5915 - val_loss: 5.7749 - val_mae: 1.7245\n",
            "Epoch 175/250\n",
            "178/178 [==============================] - 18s 100ms/step - loss: 0.9656 - mae: 0.6078 - val_loss: 5.7414 - val_mae: 1.7114\n",
            "Epoch 176/250\n",
            "178/178 [==============================] - 18s 100ms/step - loss: 0.9092 - mae: 0.5924 - val_loss: 6.1237 - val_mae: 1.7848\n",
            "Epoch 177/250\n",
            "178/178 [==============================] - 18s 101ms/step - loss: 0.9857 - mae: 0.5973 - val_loss: 6.6045 - val_mae: 1.8348\n",
            "Epoch 178/250\n",
            "178/178 [==============================] - 19s 102ms/step - loss: 0.9899 - mae: 0.6055 - val_loss: 6.5126 - val_mae: 1.8325\n",
            "Epoch 179/250\n",
            "178/178 [==============================] - 18s 100ms/step - loss: 1.0337 - mae: 0.6031 - val_loss: 5.8847 - val_mae: 1.7382\n",
            "Epoch 180/250\n",
            "178/178 [==============================] - 18s 100ms/step - loss: 0.9584 - mae: 0.5871 - val_loss: 5.7085 - val_mae: 1.7155\n",
            "Epoch 181/250\n",
            "178/178 [==============================] - 18s 100ms/step - loss: 0.8691 - mae: 0.5691 - val_loss: 6.8683 - val_mae: 1.8609\n",
            "Epoch 182/250\n",
            "178/178 [==============================] - 18s 100ms/step - loss: 0.7559 - mae: 0.5495 - val_loss: 7.7806 - val_mae: 1.9787\n",
            "Epoch 183/250\n",
            "178/178 [==============================] - 18s 100ms/step - loss: 0.7431 - mae: 0.5677 - val_loss: 7.4754 - val_mae: 1.9248\n",
            "Epoch 184/250\n",
            "178/178 [==============================] - 18s 100ms/step - loss: 0.9033 - mae: 0.6123 - val_loss: 5.9644 - val_mae: 1.7510\n",
            "Epoch 185/250\n",
            "178/178 [==============================] - 18s 100ms/step - loss: 0.8400 - mae: 0.5845 - val_loss: 5.4988 - val_mae: 1.6834\n",
            "Epoch 186/250\n",
            "178/178 [==============================] - 18s 100ms/step - loss: 0.8711 - mae: 0.5795 - val_loss: 6.4123 - val_mae: 1.7764\n",
            "Epoch 187/250\n",
            "178/178 [==============================] - 18s 100ms/step - loss: 0.7771 - mae: 0.5725 - val_loss: 5.1014 - val_mae: 1.6628\n",
            "Epoch 188/250\n",
            "178/178 [==============================] - 18s 100ms/step - loss: 0.8243 - mae: 0.5764 - val_loss: 6.1109 - val_mae: 1.7619\n",
            "Epoch 189/250\n",
            "178/178 [==============================] - 18s 100ms/step - loss: 0.7584 - mae: 0.5586 - val_loss: 6.6749 - val_mae: 1.8554\n",
            "Epoch 190/250\n",
            "178/178 [==============================] - 18s 100ms/step - loss: 0.6525 - mae: 0.5425 - val_loss: 6.3921 - val_mae: 1.8126\n",
            "Epoch 191/250\n",
            "178/178 [==============================] - 18s 100ms/step - loss: 0.7099 - mae: 0.5426 - val_loss: 7.1690 - val_mae: 1.8952\n",
            "Epoch 192/250\n",
            "178/178 [==============================] - 18s 99ms/step - loss: 0.6667 - mae: 0.5420 - val_loss: 6.2045 - val_mae: 1.7809\n",
            "Epoch 193/250\n",
            "178/178 [==============================] - 18s 99ms/step - loss: 0.7717 - mae: 0.5470 - val_loss: 10.3293 - val_mae: 2.2848\n",
            "Epoch 194/250\n",
            "178/178 [==============================] - 18s 100ms/step - loss: 0.7941 - mae: 0.5812 - val_loss: 7.6392 - val_mae: 1.9607\n",
            "Epoch 195/250\n",
            "178/178 [==============================] - 18s 100ms/step - loss: 0.7447 - mae: 0.5563 - val_loss: 5.7273 - val_mae: 1.7204\n",
            "Epoch 196/250\n",
            "178/178 [==============================] - 18s 100ms/step - loss: 0.7161 - mae: 0.5564 - val_loss: 5.4444 - val_mae: 1.6980\n",
            "Epoch 197/250\n",
            "178/178 [==============================] - 18s 100ms/step - loss: 0.6981 - mae: 0.5447 - val_loss: 5.9296 - val_mae: 1.7647\n",
            "Epoch 198/250\n",
            "178/178 [==============================] - 18s 100ms/step - loss: 0.7508 - mae: 0.5488 - val_loss: 5.5335 - val_mae: 1.6912\n",
            "Epoch 199/250\n",
            "178/178 [==============================] - 18s 100ms/step - loss: 0.6512 - mae: 0.5280 - val_loss: 5.0959 - val_mae: 1.6507\n",
            "Epoch 200/250\n",
            "178/178 [==============================] - 18s 101ms/step - loss: 0.8841 - mae: 0.5746 - val_loss: 5.7868 - val_mae: 1.7497\n",
            "Epoch 201/250\n",
            "178/178 [==============================] - 18s 100ms/step - loss: 0.7990 - mae: 0.5658 - val_loss: 5.9989 - val_mae: 1.7675\n",
            "Epoch 202/250\n",
            "178/178 [==============================] - 18s 100ms/step - loss: 0.8396 - mae: 0.5623 - val_loss: 4.9512 - val_mae: 1.6060\n",
            "Epoch 203/250\n",
            "178/178 [==============================] - 19s 101ms/step - loss: 0.7968 - mae: 0.5597 - val_loss: 5.6217 - val_mae: 1.7170\n",
            "Epoch 204/250\n",
            "178/178 [==============================] - 18s 100ms/step - loss: 0.7063 - mae: 0.5448 - val_loss: 5.5295 - val_mae: 1.7011\n",
            "Epoch 205/250\n",
            "178/178 [==============================] - 18s 101ms/step - loss: 0.6982 - mae: 0.5597 - val_loss: 4.6727 - val_mae: 1.6069\n",
            "Epoch 206/250\n",
            "178/178 [==============================] - 18s 101ms/step - loss: 0.8441 - mae: 0.5712 - val_loss: 8.1566 - val_mae: 2.0598\n",
            "Epoch 207/250\n",
            "178/178 [==============================] - 18s 100ms/step - loss: 0.8522 - mae: 0.5988 - val_loss: 6.2602 - val_mae: 1.8142\n",
            "Epoch 208/250\n",
            "178/178 [==============================] - 18s 100ms/step - loss: 0.8582 - mae: 0.6109 - val_loss: 5.7757 - val_mae: 1.7445\n",
            "Epoch 209/250\n",
            "178/178 [==============================] - 18s 100ms/step - loss: 0.8554 - mae: 0.5991 - val_loss: 5.9973 - val_mae: 1.7806\n",
            "Epoch 210/250\n",
            "178/178 [==============================] - 18s 101ms/step - loss: 0.9995 - mae: 0.6155 - val_loss: 6.5218 - val_mae: 1.8179\n",
            "Epoch 211/250\n",
            "178/178 [==============================] - 18s 100ms/step - loss: 0.8134 - mae: 0.5902 - val_loss: 6.5943 - val_mae: 1.8251\n",
            "Epoch 212/250\n",
            "178/178 [==============================] - 18s 101ms/step - loss: 1.1548 - mae: 0.6657 - val_loss: 7.4993 - val_mae: 1.9395\n",
            "Epoch 213/250\n",
            "178/178 [==============================] - 18s 100ms/step - loss: 1.2420 - mae: 0.6913 - val_loss: 5.3055 - val_mae: 1.6735\n",
            "Epoch 214/250\n",
            "178/178 [==============================] - 18s 101ms/step - loss: 1.0740 - mae: 0.6596 - val_loss: 7.0497 - val_mae: 1.8839\n",
            "Epoch 215/250\n",
            "178/178 [==============================] - 19s 101ms/step - loss: 1.0351 - mae: 0.6529 - val_loss: 6.4690 - val_mae: 1.7982\n",
            "Epoch 216/250\n",
            "178/178 [==============================] - 18s 101ms/step - loss: 1.0194 - mae: 0.6385 - val_loss: 6.1133 - val_mae: 1.7690\n",
            "Epoch 217/250\n",
            "178/178 [==============================] - 18s 101ms/step - loss: 0.9944 - mae: 0.6219 - val_loss: 6.3917 - val_mae: 1.8192\n",
            "Epoch 218/250\n",
            "178/178 [==============================] - 18s 101ms/step - loss: 0.8878 - mae: 0.6110 - val_loss: 5.5926 - val_mae: 1.7244\n",
            "Epoch 219/250\n",
            "178/178 [==============================] - 18s 100ms/step - loss: 1.0258 - mae: 0.6237 - val_loss: 5.9920 - val_mae: 1.7772\n",
            "Epoch 220/250\n",
            "178/178 [==============================] - 19s 102ms/step - loss: 0.8373 - mae: 0.5922 - val_loss: 5.7506 - val_mae: 1.7513\n",
            "Epoch 221/250\n",
            "178/178 [==============================] - 19s 102ms/step - loss: 0.9294 - mae: 0.6075 - val_loss: 4.5234 - val_mae: 1.5764\n",
            "Epoch 222/250\n",
            "178/178 [==============================] - 19s 102ms/step - loss: 0.9187 - mae: 0.6042 - val_loss: 4.8438 - val_mae: 1.6360\n",
            "Epoch 223/250\n",
            "178/178 [==============================] - 19s 101ms/step - loss: 0.8971 - mae: 0.5941 - val_loss: 4.4388 - val_mae: 1.5770\n",
            "Epoch 224/250\n",
            "178/178 [==============================] - 18s 100ms/step - loss: 1.0624 - mae: 0.6293 - val_loss: 4.5494 - val_mae: 1.6050\n",
            "Epoch 225/250\n",
            "178/178 [==============================] - 18s 101ms/step - loss: 1.0291 - mae: 0.6329 - val_loss: 5.8703 - val_mae: 1.7787\n",
            "Epoch 226/250\n",
            "178/178 [==============================] - 18s 101ms/step - loss: 1.0061 - mae: 0.6219 - val_loss: 5.2097 - val_mae: 1.6943\n",
            "Epoch 227/250\n",
            "178/178 [==============================] - 18s 101ms/step - loss: 1.3144 - mae: 0.6506 - val_loss: 5.0354 - val_mae: 1.6710\n",
            "Epoch 228/250\n",
            "178/178 [==============================] - 18s 101ms/step - loss: 1.0002 - mae: 0.6178 - val_loss: 5.0236 - val_mae: 1.6571\n",
            "Epoch 229/250\n",
            "178/178 [==============================] - 18s 101ms/step - loss: 1.0943 - mae: 0.6118 - val_loss: 6.8958 - val_mae: 1.9420\n",
            "Epoch 230/250\n",
            "178/178 [==============================] - 18s 99ms/step - loss: 0.9206 - mae: 0.6148 - val_loss: 6.0165 - val_mae: 1.7994\n",
            "Epoch 231/250\n",
            "178/178 [==============================] - 18s 101ms/step - loss: 0.9663 - mae: 0.6073 - val_loss: 5.5474 - val_mae: 1.7353\n",
            "Epoch 232/250\n",
            "178/178 [==============================] - 18s 100ms/step - loss: 0.9411 - mae: 0.5988 - val_loss: 6.3801 - val_mae: 1.8219\n",
            "Epoch 233/250\n",
            "178/178 [==============================] - 18s 101ms/step - loss: 0.9189 - mae: 0.6084 - val_loss: 5.0675 - val_mae: 1.6660\n",
            "Epoch 234/250\n",
            "178/178 [==============================] - 18s 101ms/step - loss: 1.1014 - mae: 0.6522 - val_loss: 7.8157 - val_mae: 1.9971\n",
            "Epoch 235/250\n",
            "178/178 [==============================] - 18s 100ms/step - loss: 1.3071 - mae: 0.6608 - val_loss: 5.7977 - val_mae: 1.7347\n",
            "Epoch 236/250\n",
            "178/178 [==============================] - 18s 100ms/step - loss: 1.2078 - mae: 0.6607 - val_loss: 5.7298 - val_mae: 1.7284\n",
            "Epoch 237/250\n",
            "178/178 [==============================] - 18s 101ms/step - loss: 1.0762 - mae: 0.6350 - val_loss: 5.4551 - val_mae: 1.7014\n",
            "Epoch 238/250\n",
            "178/178 [==============================] - 18s 101ms/step - loss: 1.4505 - mae: 0.6835 - val_loss: 5.3912 - val_mae: 1.6645\n",
            "Epoch 239/250\n",
            "178/178 [==============================] - 18s 101ms/step - loss: 1.3075 - mae: 0.6739 - val_loss: 5.4476 - val_mae: 1.6553\n",
            "Epoch 240/250\n",
            "178/178 [==============================] - 18s 101ms/step - loss: 1.2754 - mae: 0.6614 - val_loss: 5.0029 - val_mae: 1.6187\n",
            "Epoch 241/250\n",
            "178/178 [==============================] - 18s 101ms/step - loss: 1.2161 - mae: 0.6477 - val_loss: 4.8763 - val_mae: 1.5931\n",
            "Epoch 242/250\n",
            "178/178 [==============================] - 18s 100ms/step - loss: 1.0030 - mae: 0.6245 - val_loss: 5.2656 - val_mae: 1.6590\n",
            "Epoch 243/250\n",
            "178/178 [==============================] - 19s 101ms/step - loss: 0.8972 - mae: 0.5880 - val_loss: 5.0081 - val_mae: 1.6191\n",
            "Epoch 244/250\n",
            "178/178 [==============================] - 18s 100ms/step - loss: 0.9114 - mae: 0.6053 - val_loss: 5.4996 - val_mae: 1.6976\n",
            "Epoch 245/250\n",
            "178/178 [==============================] - 18s 100ms/step - loss: 0.8576 - mae: 0.6051 - val_loss: 5.7402 - val_mae: 1.7250\n",
            "Epoch 246/250\n",
            "178/178 [==============================] - 18s 100ms/step - loss: 0.7467 - mae: 0.5776 - val_loss: 5.3237 - val_mae: 1.6839\n",
            "Epoch 247/250\n",
            "178/178 [==============================] - 18s 100ms/step - loss: 0.7812 - mae: 0.5736 - val_loss: 5.4283 - val_mae: 1.6697\n",
            "Epoch 248/250\n",
            "178/178 [==============================] - 18s 100ms/step - loss: 0.8097 - mae: 0.5953 - val_loss: 5.4915 - val_mae: 1.6927\n",
            "Epoch 249/250\n",
            "178/178 [==============================] - 18s 101ms/step - loss: 0.8565 - mae: 0.5884 - val_loss: 5.1457 - val_mae: 1.6540\n",
            "Epoch 250/250\n",
            "178/178 [==============================] - 18s 101ms/step - loss: 0.7979 - mae: 0.5756 - val_loss: 4.7024 - val_mae: 1.5873\n"
          ]
        }
      ]
    },
    {
      "cell_type": "code",
      "source": [
        "loss = history.history['loss']\n",
        "val_loss = history.history['val_loss']\n",
        "mae = history.history['mae']\n",
        "val_mae = history.history['val_mae']\n",
        "\n",
        "\n",
        "epochs_x = range(len(loss))\n",
        "\n",
        "\n",
        "plt.plot(epochs_x, mae, 'o', color ='darkviolet', label='Training MAE')\n",
        "plt.plot(epochs_x, val_mae, 'k', label='Validation MAE')\n",
        "plt.title('Training and validation MeanAbsoluteError')\n",
        "plt.legend()\n",
        "\n",
        "plt.figure()\n",
        "plt.plot(epochs_x, loss, 'o', color ='darkviolet', label='Training loss')\n",
        "plt.plot(epochs_x, val_loss, 'k', label='Validation loss')\n",
        "plt.title('Training and validation loss')\n",
        "plt.legend()\n",
        "\n",
        "plt.show()"
      ],
      "metadata": {
        "id": "Y3K89-CM-dfg",
        "colab": {
          "base_uri": "https://localhost:8080/",
          "height": 887
        },
        "outputId": "a900fc31-0ada-4ef9-956c-3193e06800ee"
      },
      "execution_count": 19,
      "outputs": [
        {
          "output_type": "display_data",
          "data": {
            "text/plain": [
              "<Figure size 640x480 with 1 Axes>"
            ],
            "image/png": "[encoded data removed]"
          },
          "metadata": {}
        },
        {
          "output_type": "display_data",
          "data": {
            "text/plain": [
              "<Figure size 640x480 with 1 Axes>"
            ],
            "image/png": "[encoded data removed]"
          },
          "metadata": {}
        }
      ]
    },
    {
      "cell_type": "code",
      "source": [],
      "metadata": {
        "id": "sI5JVEwwQsjc"
      },
      "execution_count": 19,
      "outputs": []
    },
    {
      "cell_type": "code",
      "source": [
        "epochs_x"
      ],
      "metadata": {
        "id": "N_sP_ZmSY-Jv",
        "colab": {
          "base_uri": "https://localhost:8080/"
        },
        "outputId": "a04e5525-3f86-46e6-ba73-c076d19f5058"
      },
      "execution_count": 20,
      "outputs": [
        {
          "output_type": "execute_result",
          "data": {
            "text/plain": [
              "range(0, 250)"
            ]
          },
          "metadata": {},
          "execution_count": 20
        }
      ]
    },
    {
      "cell_type": "markdown",
      "source": [
        "#Download the model\n"
      ],
      "metadata": {
        "id": "R19IJQSYoW7J"
      }
    },
    {
      "cell_type": "code",
      "source": [
        "os.makedirs('/content/drive/My Drive/cut_panoramic/Model', exist_ok=True)\n",
        "model.save('/content/drive/MyDrive/cut_panoramic/Model/Regression/All/9Re_All_1G_1e-4_16_0.2_250_New_Unfreez.h5')"
      ],
      "metadata": {
        "id": "Zed4TdFcG2iJ"
      },
      "execution_count": 21,
      "outputs": []
    },
    {
      "cell_type": "markdown",
      "source": [],
      "metadata": {
        "id": "n5YxZ-5QjQ0-"
      }
    },
    {
      "cell_type": "code",
      "source": [
        "# from google.colab import files\n",
        "# files.download('/content/drive/My Drive/cut_panoramic/Model/1.1_รอบแรก_Flimpano_Male125_250.h5')"
      ],
      "metadata": {
        "id": "P5eMxm1NV-oY"
      },
      "execution_count": 22,
      "outputs": []
    },
    {
      "cell_type": "code",
      "source": [
        "\n"
      ],
      "metadata": {
        "id": "wY_pDlxkRwxS"
      },
      "execution_count": 22,
      "outputs": []
    }
  ]
}