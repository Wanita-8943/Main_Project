{
  "nbformat": 4,
  "nbformat_minor": 0,
  "metadata": {
    "colab": {
      "provenance": [],
      "include_colab_link": true
    },
    "kernelspec": {
      "name": "python3",
      "display_name": "Python 3"
    },
    "language_info": {
      "name": "python"
    },
    "accelerator": "GPU",
    "gpuClass": "premium"
  },
  "cells": [
    {
      "cell_type": "markdown",
      "metadata": {
        "id": "view-in-github",
        "colab_type": "text"
      },
      "source": [
        "<a href=\"https://colab.research.google.com/github/Wanita-8943/Main_Project/blob/main/A6_Train_Unfreeze.ipynb\" target=\"_parent\"><img src=\"https://colab.research.google.com/assets/colab-badge.svg\" alt=\"Open In Colab\"/></a>"
      ]
    },
    {
      "cell_type": "markdown",
      "source": [
        "#เรียกใช้ CSV"
      ],
      "metadata": {
        "id": "ow7eWoNw6U-c"
      }
    },
    {
      "cell_type": "code",
      "execution_count": 1,
      "metadata": {
        "id": "z8o_VVNXzcL8"
      },
      "outputs": [],
      "source": [
        "import pandas as pd\n",
        "import shutil"
      ]
    },
    {
      "cell_type": "code",
      "source": [
        "from google.colab import drive\n",
        "drive.mount('/content/drive')"
      ],
      "metadata": {
        "colab": {
          "base_uri": "https://localhost:8080/"
        },
        "id": "1_2Fe8u81d5r",
        "outputId": "00096bbb-3d57-4763-8e46-d26b21167bb2"
      },
      "execution_count": 2,
      "outputs": [
        {
          "output_type": "stream",
          "name": "stdout",
          "text": [
            "Mounted at /content/drive\n"
          ]
        }
      ]
    },
    {
      "cell_type": "markdown",
      "source": [
        "#Imports"
      ],
      "metadata": {
        "id": "5qxePnnn7TGW"
      }
    },
    {
      "cell_type": "code",
      "source": [
        "from tensorflow.keras import models\n",
        "from tensorflow.keras import layers\n",
        "from tensorflow.keras import optimizers\n",
        "import os\n",
        "import glob\n",
        "import shutil\n",
        "import sys\n",
        "import numpy as np\n",
        "from skimage.io import imread\n",
        "import matplotlib.pyplot as plt\n",
        "from IPython.display import Image\n",
        "%matplotlib inline"
      ],
      "metadata": {
        "id": "D-hCRloc3t39"
      },
      "execution_count": 3,
      "outputs": []
    },
    {
      "cell_type": "code",
      "source": [
        "import tensorflow as tf\n",
        "from tensorflow.keras import Sequential\n",
        "from tensorflow.keras.layers import Dense\n",
        "from tensorflow.keras.optimizers import Adam\n",
        "from tensorflow.keras import backend as K"
      ],
      "metadata": {
        "id": "YZWXwjXeGxZP"
      },
      "execution_count": 4,
      "outputs": []
    },
    {
      "cell_type": "markdown",
      "source": [
        "#กำหนดค่าพารามิเตอร์\n"
      ],
      "metadata": {
        "id": "RooqSdBc7QHC"
      }
    },
    {
      "cell_type": "code",
      "source": [
        "batch_size = 16\n",
        "width = 150\n",
        "height = 150\n",
        "epochs = 250\n",
        "NUM_TRAIN = 2850\n",
        "NUM_TEST = 950\n",
        "dropout_rate = 0.2\n",
        "input_shape = (height, width, 3)"
      ],
      "metadata": {
        "id": "thDb7U9B3xOo"
      },
      "execution_count": 5,
      "outputs": []
    },
    {
      "cell_type": "markdown",
      "source": [
        "#Clone efficientnet repo\n"
      ],
      "metadata": {
        "id": "pumGmy6f3eSW"
      }
    },
    {
      "cell_type": "code",
      "source": [
        "#ดึงข้อมูลใน Github มาใช้\n",
        "import os\n",
        "%cd /content\n",
        "if not os.path.isdir(\"efficientnet_keras_transfer_learning\"):\n",
        " !git clone https://github.com/Wanita-8943/efficientnet_keras_transfer_learning\n",
        "%cd efficientnet_keras_transfer_learning/\n"
      ],
      "metadata": {
        "colab": {
          "base_uri": "https://localhost:8080/"
        },
        "id": "P7iy2f8n16p0",
        "outputId": "ff027436-a710-427b-bd9d-fcd92ef9b2b3"
      },
      "execution_count": 6,
      "outputs": [
        {
          "output_type": "stream",
          "name": "stdout",
          "text": [
            "/content\n",
            "Cloning into 'efficientnet_keras_transfer_learning'...\n",
            "remote: Enumerating objects: 1067, done.\u001b[K\n",
            "remote: Counting objects: 100% (230/230), done.\u001b[K\n",
            "remote: Compressing objects: 100% (151/151), done.\u001b[K\n",
            "remote: Total 1067 (delta 114), reused 161 (delta 79), pack-reused 837\u001b[K\n",
            "Receiving objects: 100% (1067/1067), 13.93 MiB | 36.85 MiB/s, done.\n",
            "Resolving deltas: 100% (611/611), done.\n",
            "/content/efficientnet_keras_transfer_learning\n"
          ]
        }
      ]
    },
    {
      "cell_type": "code",
      "source": [
        "# Options: EfficientNetB0, EfficientNetB1, EfficientNetB2, EfficientNetB3\n",
        "# Higher the number, the more complex the model is.\n",
        "from efficientnet import EfficientNetB0 as Net\n",
        "from efficientnet import center_crop_and_resize, preprocess_input"
      ],
      "metadata": {
        "id": "tjZBRnfo3bN0"
      },
      "execution_count": 7,
      "outputs": []
    },
    {
      "cell_type": "code",
      "source": [
        "# loading pretrained conv base model\n",
        "# โหลดโมเดล มาโดยตัด output ของโมเดลออก เเต่ยังใช้ input อันเดิม\n",
        "# เเละโหลด weight ของโมเดล มาด้วยที่ชื่อว่า imagenet\n",
        "conv_base = Net(weights='imagenet', include_top=False, input_shape=input_shape)"
      ],
      "metadata": {
        "colab": {
          "base_uri": "https://localhost:8080/"
        },
        "id": "r8BN74_JJdfj",
        "outputId": "d72cd328-3e57-46e2-9482-24d3af2b74a5"
      },
      "execution_count": 8,
      "outputs": [
        {
          "output_type": "stream",
          "name": "stderr",
          "text": [
            "WARNING:tensorflow:From /usr/local/lib/python3.9/dist-packages/tensorflow/python/autograph/pyct/static_analysis/liveness.py:83: Analyzer.lamba_check (from tensorflow.python.autograph.pyct.static_analysis.liveness) is deprecated and will be removed after 2023-09-23.\n",
            "Instructions for updating:\n",
            "Lambda fuctions will be no more assumed to be used in the statement where they are used, or at least in the same block. https://github.com/tensorflow/tensorflow/issues/56089\n"
          ]
        },
        {
          "output_type": "stream",
          "name": "stdout",
          "text": [
            "Downloading data from https://github.com/qubvel/efficientnet/releases/download/v0.0.1/efficientnet-b0_imagenet_1000_notop.h5\n",
            "16717576/16717576 [==============================] - 0s 0us/step\n"
          ]
        }
      ]
    },
    {
      "cell_type": "markdown",
      "source": [
        "#load model\n"
      ],
      "metadata": {
        "id": "PdNWyD-QYkzK"
      }
    },
    {
      "cell_type": "code",
      "source": [
        "import sys\n",
        "sys.path.append('/content/drive/MyDrive/cut_panoramic/Model/Regression/All/5Re_All_1G_1e-4_16_0.2_250_New_Unfreez.h5')\n",
        "\n",
        "from efficientnet.layers import Swish, DropConnect\n",
        "from efficientnet.model import ConvKernalInitializer\n",
        "from tensorflow.keras.utils import get_custom_objects\n",
        "\n",
        "get_custom_objects().update({\n",
        "    'ConvKernalInitializer': ConvKernalInitializer,\n",
        "    'Swish': Swish,\n",
        "    'DropConnect':DropConnect\n",
        "})"
      ],
      "metadata": {
        "id": "_gPnx2UvYf5A"
      },
      "execution_count": 9,
      "outputs": []
    },
    {
      "cell_type": "code",
      "source": [
        "#load model \n",
        "from tensorflow.keras.models import load_model\n",
        "model = load_model('/content/drive/MyDrive/cut_panoramic/Model/Regression/All/5Re_All_1G_1e-4_16_0.2_250_New_Unfreez.h5')\n",
        "height = width = model.input_shape[1]"
      ],
      "metadata": {
        "id": "Nu93WzFUYm9e"
      },
      "execution_count": 10,
      "outputs": []
    },
    {
      "cell_type": "code",
      "source": [
        "model.summary()"
      ],
      "metadata": {
        "id": "gp5EbyyXYvc6",
        "colab": {
          "base_uri": "https://localhost:8080/"
        },
        "outputId": "65c04589-23f6-4d2b-be3c-7c705ab48e55"
      },
      "execution_count": 11,
      "outputs": [
        {
          "output_type": "stream",
          "name": "stdout",
          "text": [
            "Model: \"sequential\"\n",
            "_________________________________________________________________\n",
            " Layer (type)                Output Shape              Param #   \n",
            "=================================================================\n",
            " efficientnet-b0 (Functional  (None, 5, 5, 1280)       4049564   \n",
            " )                                                               \n",
            "                                                                 \n",
            " gap (GlobalMaxPooling2D)    (None, 1280)              0         \n",
            "                                                                 \n",
            " dropout_out (Dropout)       (None, 1280)              0         \n",
            "                                                                 \n",
            " fc_out (Dense)              (None, 19)                24339     \n",
            "                                                                 \n",
            " dense (Dense)               (None, 1)                 20        \n",
            "                                                                 \n",
            "=================================================================\n",
            "Total params: 4,073,923\n",
            "Trainable params: 4,031,907\n",
            "Non-trainable params: 42,016\n",
            "_________________________________________________________________\n"
          ]
        }
      ]
    },
    {
      "cell_type": "code",
      "source": [
        "df = pd.read_csv (r'/content/drive/MyDrive/cut_panoramic/Data/All_Re.csv')\n",
        "df"
      ],
      "metadata": {
        "id": "q1Dc131_Y3uA",
        "colab": {
          "base_uri": "https://localhost:8080/",
          "height": 661
        },
        "outputId": "08efd4c9-9a08-4868-fe04-52c7d86bc7a1"
      },
      "execution_count": 12,
      "outputs": [
        {
          "output_type": "execute_result",
          "data": {
            "text/plain": [
              "      Fig_Age  Fig_Person_Sex  Age(year) Class  Class_Re       Filename  \\\n",
              "0           1               1          7  Y07F         1         V1.jpg   \n",
              "1           2               1          7  Y07F         1    Flip_V1.jpg   \n",
              "2           3               2          7  Y07F         1         V2.jpg   \n",
              "3           4               2          7  Y07F         1    Flip_V2.jpg   \n",
              "4           5               3          7  Y07F         1         V3.jpg   \n",
              "...       ...             ...        ...   ...       ...            ...   \n",
              "4745      121              77         25  Y25M        19  Flip_J463.jpg   \n",
              "4746      122              78         25  Y25M        19       J464.jpg   \n",
              "4747      123              78         25  Y25M        19  Flip_J464.jpg   \n",
              "4748      124              79         25  Y25M        19       J465.jpg   \n",
              "4749      125              79         25  Y25M        19  Flip_J465.jpg   \n",
              "\n",
              "                                          Path_filename     Sex Floder  \n",
              "0     /content/drive/My Drive/TVT_Gender/train/Femal...  Female   Both  \n",
              "1     /content/drive/My Drive/TVT_Gender/train/Femal...  Female   Both  \n",
              "2     /content/drive/My Drive/TVT_Gender/train/Femal...  Female   Both  \n",
              "3     /content/drive/My Drive/TVT_Gender/train/Femal...  Female   Both  \n",
              "4     /content/drive/My Drive/TVT_Gender/train/Femal...  Female   Both  \n",
              "...                                                 ...     ...    ...  \n",
              "4745  /content/drive/My Drive/TVT_Gender/test/Male/F...    Male   Both  \n",
              "4746  /content/drive/My Drive/TVT_Gender/test/Male/J...    Male   Both  \n",
              "4747  /content/drive/My Drive/TVT_Gender/test/Male/F...    Male   Both  \n",
              "4748  /content/drive/My Drive/TVT_Gender/test/Male/J...    Male   Both  \n",
              "4749  /content/drive/My Drive/TVT_Gender/test/Male/F...    Male   Both  \n",
              "\n",
              "[4750 rows x 9 columns]"
            ],
            "text/html": [
              "\n",
              "  <div id=\"df-10eccb5b-bbe2-4731-9eca-4b15e5ef788c\">\n",
              "    <div class=\"colab-df-container\">\n",
              "      <div>\n",
              "<style scoped>\n",
              "    .dataframe tbody tr th:only-of-type {\n",
              "        vertical-align: middle;\n",
              "    }\n",
              "\n",
              "    .dataframe tbody tr th {\n",
              "        vertical-align: top;\n",
              "    }\n",
              "\n",
              "    .dataframe thead th {\n",
              "        text-align: right;\n",
              "    }\n",
              "</style>\n",
              "<table border=\"1\" class=\"dataframe\">\n",
              "  <thead>\n",
              "    <tr style=\"text-align: right;\">\n",
              "      <th></th>\n",
              "      <th>Fig_Age</th>\n",
              "      <th>Fig_Person_Sex</th>\n",
              "      <th>Age(year)</th>\n",
              "      <th>Class</th>\n",
              "      <th>Class_Re</th>\n",
              "      <th>Filename</th>\n",
              "      <th>Path_filename</th>\n",
              "      <th>Sex</th>\n",
              "      <th>Floder</th>\n",
              "    </tr>\n",
              "  </thead>\n",
              "  <tbody>\n",
              "    <tr>\n",
              "      <th>0</th>\n",
              "      <td>1</td>\n",
              "      <td>1</td>\n",
              "      <td>7</td>\n",
              "      <td>Y07F</td>\n",
              "      <td>1</td>\n",
              "      <td>V1.jpg</td>\n",
              "      <td>/content/drive/My Drive/TVT_Gender/train/Femal...</td>\n",
              "      <td>Female</td>\n",
              "      <td>Both</td>\n",
              "    </tr>\n",
              "    <tr>\n",
              "      <th>1</th>\n",
              "      <td>2</td>\n",
              "      <td>1</td>\n",
              "      <td>7</td>\n",
              "      <td>Y07F</td>\n",
              "      <td>1</td>\n",
              "      <td>Flip_V1.jpg</td>\n",
              "      <td>/content/drive/My Drive/TVT_Gender/train/Femal...</td>\n",
              "      <td>Female</td>\n",
              "      <td>Both</td>\n",
              "    </tr>\n",
              "    <tr>\n",
              "      <th>2</th>\n",
              "      <td>3</td>\n",
              "      <td>2</td>\n",
              "      <td>7</td>\n",
              "      <td>Y07F</td>\n",
              "      <td>1</td>\n",
              "      <td>V2.jpg</td>\n",
              "      <td>/content/drive/My Drive/TVT_Gender/train/Femal...</td>\n",
              "      <td>Female</td>\n",
              "      <td>Both</td>\n",
              "    </tr>\n",
              "    <tr>\n",
              "      <th>3</th>\n",
              "      <td>4</td>\n",
              "      <td>2</td>\n",
              "      <td>7</td>\n",
              "      <td>Y07F</td>\n",
              "      <td>1</td>\n",
              "      <td>Flip_V2.jpg</td>\n",
              "      <td>/content/drive/My Drive/TVT_Gender/train/Femal...</td>\n",
              "      <td>Female</td>\n",
              "      <td>Both</td>\n",
              "    </tr>\n",
              "    <tr>\n",
              "      <th>4</th>\n",
              "      <td>5</td>\n",
              "      <td>3</td>\n",
              "      <td>7</td>\n",
              "      <td>Y07F</td>\n",
              "      <td>1</td>\n",
              "      <td>V3.jpg</td>\n",
              "      <td>/content/drive/My Drive/TVT_Gender/train/Femal...</td>\n",
              "      <td>Female</td>\n",
              "      <td>Both</td>\n",
              "    </tr>\n",
              "    <tr>\n",
              "      <th>...</th>\n",
              "      <td>...</td>\n",
              "      <td>...</td>\n",
              "      <td>...</td>\n",
              "      <td>...</td>\n",
              "      <td>...</td>\n",
              "      <td>...</td>\n",
              "      <td>...</td>\n",
              "      <td>...</td>\n",
              "      <td>...</td>\n",
              "    </tr>\n",
              "    <tr>\n",
              "      <th>4745</th>\n",
              "      <td>121</td>\n",
              "      <td>77</td>\n",
              "      <td>25</td>\n",
              "      <td>Y25M</td>\n",
              "      <td>19</td>\n",
              "      <td>Flip_J463.jpg</td>\n",
              "      <td>/content/drive/My Drive/TVT_Gender/test/Male/F...</td>\n",
              "      <td>Male</td>\n",
              "      <td>Both</td>\n",
              "    </tr>\n",
              "    <tr>\n",
              "      <th>4746</th>\n",
              "      <td>122</td>\n",
              "      <td>78</td>\n",
              "      <td>25</td>\n",
              "      <td>Y25M</td>\n",
              "      <td>19</td>\n",
              "      <td>J464.jpg</td>\n",
              "      <td>/content/drive/My Drive/TVT_Gender/test/Male/J...</td>\n",
              "      <td>Male</td>\n",
              "      <td>Both</td>\n",
              "    </tr>\n",
              "    <tr>\n",
              "      <th>4747</th>\n",
              "      <td>123</td>\n",
              "      <td>78</td>\n",
              "      <td>25</td>\n",
              "      <td>Y25M</td>\n",
              "      <td>19</td>\n",
              "      <td>Flip_J464.jpg</td>\n",
              "      <td>/content/drive/My Drive/TVT_Gender/test/Male/F...</td>\n",
              "      <td>Male</td>\n",
              "      <td>Both</td>\n",
              "    </tr>\n",
              "    <tr>\n",
              "      <th>4748</th>\n",
              "      <td>124</td>\n",
              "      <td>79</td>\n",
              "      <td>25</td>\n",
              "      <td>Y25M</td>\n",
              "      <td>19</td>\n",
              "      <td>J465.jpg</td>\n",
              "      <td>/content/drive/My Drive/TVT_Gender/test/Male/J...</td>\n",
              "      <td>Male</td>\n",
              "      <td>Both</td>\n",
              "    </tr>\n",
              "    <tr>\n",
              "      <th>4749</th>\n",
              "      <td>125</td>\n",
              "      <td>79</td>\n",
              "      <td>25</td>\n",
              "      <td>Y25M</td>\n",
              "      <td>19</td>\n",
              "      <td>Flip_J465.jpg</td>\n",
              "      <td>/content/drive/My Drive/TVT_Gender/test/Male/F...</td>\n",
              "      <td>Male</td>\n",
              "      <td>Both</td>\n",
              "    </tr>\n",
              "  </tbody>\n",
              "</table>\n",
              "<p>4750 rows × 9 columns</p>\n",
              "</div>\n",
              "      <button class=\"colab-df-convert\" onclick=\"convertToInteractive('df-10eccb5b-bbe2-4731-9eca-4b15e5ef788c')\"\n",
              "              title=\"Convert this dataframe to an interactive table.\"\n",
              "              style=\"display:none;\">\n",
              "        \n",
              "  <svg xmlns=\"http://www.w3.org/2000/svg\" height=\"24px\"viewBox=\"0 0 24 24\"\n",
              "       width=\"24px\">\n",
              "    <path d=\"M0 0h24v24H0V0z\" fill=\"none\"/>\n",
              "    <path d=\"M18.56 5.44l.94 2.06.94-2.06 2.06-.94-2.06-.94-.94-2.06-.94 2.06-2.06.94zm-11 1L8.5 8.5l.94-2.06 2.06-.94-2.06-.94L8.5 2.5l-.94 2.06-2.06.94zm10 10l.94 2.06.94-2.06 2.06-.94-2.06-.94-.94-2.06-.94 2.06-2.06.94z\"/><path d=\"M17.41 7.96l-1.37-1.37c-.4-.4-.92-.59-1.43-.59-.52 0-1.04.2-1.43.59L10.3 9.45l-7.72 7.72c-.78.78-.78 2.05 0 2.83L4 21.41c.39.39.9.59 1.41.59.51 0 1.02-.2 1.41-.59l7.78-7.78 2.81-2.81c.8-.78.8-2.07 0-2.86zM5.41 20L4 18.59l7.72-7.72 1.47 1.35L5.41 20z\"/>\n",
              "  </svg>\n",
              "      </button>\n",
              "      \n",
              "  <style>\n",
              "    .colab-df-container {\n",
              "      display:flex;\n",
              "      flex-wrap:wrap;\n",
              "      gap: 12px;\n",
              "    }\n",
              "\n",
              "    .colab-df-convert {\n",
              "      background-color: #E8F0FE;\n",
              "      border: none;\n",
              "      border-radius: 50%;\n",
              "      cursor: pointer;\n",
              "      display: none;\n",
              "      fill: #1967D2;\n",
              "      height: 32px;\n",
              "      padding: 0 0 0 0;\n",
              "      width: 32px;\n",
              "    }\n",
              "\n",
              "    .colab-df-convert:hover {\n",
              "      background-color: #E2EBFA;\n",
              "      box-shadow: 0px 1px 2px rgba(60, 64, 67, 0.3), 0px 1px 3px 1px rgba(60, 64, 67, 0.15);\n",
              "      fill: #174EA6;\n",
              "    }\n",
              "\n",
              "    [theme=dark] .colab-df-convert {\n",
              "      background-color: #3B4455;\n",
              "      fill: #D2E3FC;\n",
              "    }\n",
              "\n",
              "    [theme=dark] .colab-df-convert:hover {\n",
              "      background-color: #434B5C;\n",
              "      box-shadow: 0px 1px 3px 1px rgba(0, 0, 0, 0.15);\n",
              "      filter: drop-shadow(0px 1px 2px rgba(0, 0, 0, 0.3));\n",
              "      fill: #FFFFFF;\n",
              "    }\n",
              "  </style>\n",
              "\n",
              "      <script>\n",
              "        const buttonEl =\n",
              "          document.querySelector('#df-10eccb5b-bbe2-4731-9eca-4b15e5ef788c button.colab-df-convert');\n",
              "        buttonEl.style.display =\n",
              "          google.colab.kernel.accessAllowed ? 'block' : 'none';\n",
              "\n",
              "        async function convertToInteractive(key) {\n",
              "          const element = document.querySelector('#df-10eccb5b-bbe2-4731-9eca-4b15e5ef788c');\n",
              "          const dataTable =\n",
              "            await google.colab.kernel.invokeFunction('convertToInteractive',\n",
              "                                                     [key], {});\n",
              "          if (!dataTable) return;\n",
              "\n",
              "          const docLinkHtml = 'Like what you see? Visit the ' +\n",
              "            '<a target=\"_blank\" href=https://colab.research.google.com/notebooks/data_table.ipynb>data table notebook</a>'\n",
              "            + ' to learn more about interactive tables.';\n",
              "          element.innerHTML = '';\n",
              "          dataTable['output_type'] = 'display_data';\n",
              "          await google.colab.output.renderOutput(dataTable, element);\n",
              "          const docLink = document.createElement('div');\n",
              "          docLink.innerHTML = docLinkHtml;\n",
              "          element.appendChild(docLink);\n",
              "        }\n",
              "      </script>\n",
              "    </div>\n",
              "  </div>\n",
              "  "
            ]
          },
          "metadata": {},
          "execution_count": 12
        }
      ]
    },
    {
      "cell_type": "code",
      "source": [
        "train = df[df['Fig_Age'].between(1,75)]\n",
        "val = df[df['Fig_Age'].between(76,100)]"
      ],
      "metadata": {
        "id": "Z1zBw01Gl8Ac"
      },
      "execution_count": 13,
      "outputs": []
    },
    {
      "cell_type": "code",
      "source": [
        "DATA_PATH = \"/content/drive/My Drive/TVT_Gender\"\n",
        "os.chdir(DATA_PATH)\n",
        "train_dir = os.path.join(DATA_PATH, 'train')\n",
        "print(train_dir)\n",
        "validation_dir = os.path.join(DATA_PATH, 'validation')\n",
        "print(validation_dir)"
      ],
      "metadata": {
        "colab": {
          "base_uri": "https://localhost:8080/"
        },
        "id": "QL0g-8iOnMC4",
        "outputId": "620f449a-0d74-4da1-d96a-49fb1c9afe6f"
      },
      "execution_count": 14,
      "outputs": [
        {
          "output_type": "stream",
          "name": "stdout",
          "text": [
            "/content/drive/My Drive/TVT_Gender/train\n",
            "/content/drive/My Drive/TVT_Gender/validation\n"
          ]
        }
      ]
    },
    {
      "cell_type": "markdown",
      "source": [
        "\n",
        "#Train"
      ],
      "metadata": {
        "id": "bWEnlTSwazL5"
      }
    },
    {
      "cell_type": "code",
      "source": [
        "# Train ด้วย ImageDataGenerator ของ Keras ซึ่งจะเพิ่มข้อมูลเสริมระหว่างการฝึกเพื่อลดโอกาสเกิด overfitting\n",
        "#overfitting เกิดจากข้อมูลที่ซับซ้อนกันเกินไป\n",
        "from tensorflow.keras.preprocessing.image import ImageDataGenerator\n",
        "\n",
        "train_datagen = ImageDataGenerator(\n",
        "      rescale=1./255, #โมเดลส่วนใหญ่ต้องใช้ RGB ในช่วง 0–1\n",
        "      rotation_range=40,\n",
        "      width_shift_range=0.2,\n",
        "      height_shift_range=0.2,\n",
        "      shear_range=0.2,\n",
        "      zoom_range=0.2,\n",
        "      horizontal_flip=True,\n",
        "      fill_mode='nearest')\n",
        "\n",
        "# Note that the validation data should not be augmented!\n",
        "test_datagen = ImageDataGenerator(rescale=1./255)"
      ],
      "metadata": {
        "id": "xGPrsn9no_pa"
      },
      "execution_count": 15,
      "outputs": []
    },
    {
      "cell_type": "code",
      "source": [
        "train_generator = train_datagen.flow_from_dataframe(\n",
        "        dataframe = train,\n",
        "        directory = train_dir,\n",
        "        x_col = 'Path_filename',\n",
        "        y_col = 'Class_Re',\n",
        "        class_mode = 'other',\n",
        "        target_size=(height, width),\n",
        "        batch_size=batch_size)\n",
        "\n",
        "validation_generator = test_datagen.flow_from_dataframe(\n",
        "        dataframe = val,\n",
        "        directory = validation_dir,\n",
        "        x_col = 'Path_filename',\n",
        "        y_col = 'Class_Re',\n",
        "        class_mode = 'other',\n",
        "        target_size=(height, width),\n",
        "        batch_size=batch_size)"
      ],
      "metadata": {
        "colab": {
          "base_uri": "https://localhost:8080/"
        },
        "id": "8nVlmAszntK_",
        "outputId": "80334f60-598c-4e73-de19-882871d81b04"
      },
      "execution_count": 16,
      "outputs": [
        {
          "output_type": "stream",
          "name": "stdout",
          "text": [
            "Found 2850 validated image filenames.\n",
            "Found 950 validated image filenames.\n"
          ]
        }
      ]
    },
    {
      "cell_type": "code",
      "source": [
        "model.summary()"
      ],
      "metadata": {
        "colab": {
          "base_uri": "https://localhost:8080/"
        },
        "id": "zzCdn3X4Jm_E",
        "outputId": "89b5d103-89c0-4768-ba3f-bb81fb015f50"
      },
      "execution_count": 17,
      "outputs": [
        {
          "output_type": "stream",
          "name": "stdout",
          "text": [
            "Model: \"sequential\"\n",
            "_________________________________________________________________\n",
            " Layer (type)                Output Shape              Param #   \n",
            "=================================================================\n",
            " efficientnet-b0 (Functional  (None, 5, 5, 1280)       4049564   \n",
            " )                                                               \n",
            "                                                                 \n",
            " gap (GlobalMaxPooling2D)    (None, 1280)              0         \n",
            "                                                                 \n",
            " dropout_out (Dropout)       (None, 1280)              0         \n",
            "                                                                 \n",
            " fc_out (Dense)              (None, 19)                24339     \n",
            "                                                                 \n",
            " dense (Dense)               (None, 1)                 20        \n",
            "                                                                 \n",
            "=================================================================\n",
            "Total params: 4,073,923\n",
            "Trainable params: 4,031,907\n",
            "Non-trainable params: 42,016\n",
            "_________________________________________________________________\n"
          ]
        }
      ]
    },
    {
      "cell_type": "code",
      "source": [
        "model.compile(loss='mse',\n",
        "          optimizer=Adam(learning_rate=1e-4),\n",
        "          metrics=['mae'])\n",
        "history = model.fit_generator(\n",
        "      train_generator,\n",
        "      steps_per_epoch= NUM_TRAIN //batch_size,\n",
        "      epochs=epochs,\n",
        "      validation_data=validation_generator,\n",
        "      validation_steps= NUM_TEST //batch_size,\n",
        "      verbose=1,\n",
        "      use_multiprocessing=True,\n",
        "      workers=4)"
      ],
      "metadata": {
        "id": "N6qUmmF856ZE",
        "outputId": "c2a048c3-d787-4271-b679-3d52249819d3",
        "colab": {
          "base_uri": "https://localhost:8080/"
        }
      },
      "execution_count": 18,
      "outputs": [
        {
          "output_type": "stream",
          "name": "stderr",
          "text": [
            "<ipython-input-18-f59104fd3985>:4: UserWarning: `Model.fit_generator` is deprecated and will be removed in a future version. Please use `Model.fit`, which supports generators.\n",
            "  history = model.fit_generator(\n"
          ]
        },
        {
          "output_type": "stream",
          "name": "stdout",
          "text": [
            "Epoch 1/250\n",
            "178/178 [==============================] - 235s 1s/step - loss: 1.0677 - mae: 0.7401 - val_loss: 5.6143 - val_mae: 1.7159\n",
            "Epoch 2/250\n",
            "178/178 [==============================] - 18s 102ms/step - loss: 0.9842 - mae: 0.7371 - val_loss: 5.2510 - val_mae: 1.6949\n",
            "Epoch 3/250\n",
            "178/178 [==============================] - 18s 100ms/step - loss: 0.9211 - mae: 0.7266 - val_loss: 5.7280 - val_mae: 1.7547\n",
            "Epoch 4/250\n",
            "178/178 [==============================] - 18s 101ms/step - loss: 1.2351 - mae: 0.8021 - val_loss: 6.9665 - val_mae: 1.9155\n",
            "Epoch 5/250\n",
            "178/178 [==============================] - 19s 102ms/step - loss: 1.1939 - mae: 0.7926 - val_loss: 6.3980 - val_mae: 1.8442\n",
            "Epoch 6/250\n",
            "178/178 [==============================] - 18s 101ms/step - loss: 1.1093 - mae: 0.7540 - val_loss: 6.3081 - val_mae: 1.8086\n",
            "Epoch 7/250\n",
            "178/178 [==============================] - 14s 75ms/step - loss: 1.0158 - mae: 0.7458 - val_loss: 5.3208 - val_mae: 1.6844\n",
            "Epoch 8/250\n",
            "178/178 [==============================] - 19s 102ms/step - loss: 1.1249 - mae: 0.7584 - val_loss: 6.0789 - val_mae: 1.7866\n",
            "Epoch 9/250\n",
            "178/178 [==============================] - 18s 101ms/step - loss: 0.8940 - mae: 0.7118 - val_loss: 6.0291 - val_mae: 1.8059\n",
            "Epoch 10/250\n",
            "178/178 [==============================] - 19s 102ms/step - loss: 0.9854 - mae: 0.7255 - val_loss: 6.2664 - val_mae: 1.8252\n",
            "Epoch 11/250\n",
            "178/178 [==============================] - 18s 102ms/step - loss: 1.0137 - mae: 0.7441 - val_loss: 5.7436 - val_mae: 1.7303\n",
            "Epoch 12/250\n",
            "178/178 [==============================] - 19s 101ms/step - loss: 0.8716 - mae: 0.7016 - val_loss: 4.9924 - val_mae: 1.6350\n",
            "Epoch 13/250\n",
            "178/178 [==============================] - 18s 101ms/step - loss: 1.0383 - mae: 0.7333 - val_loss: 4.4390 - val_mae: 1.5592\n",
            "Epoch 14/250\n",
            "178/178 [==============================] - 18s 101ms/step - loss: 1.0197 - mae: 0.7382 - val_loss: 5.0592 - val_mae: 1.6656\n",
            "Epoch 15/250\n",
            "178/178 [==============================] - 18s 101ms/step - loss: 0.8894 - mae: 0.6997 - val_loss: 4.9060 - val_mae: 1.6260\n",
            "Epoch 16/250\n",
            "178/178 [==============================] - 18s 101ms/step - loss: 0.8976 - mae: 0.7005 - val_loss: 4.5470 - val_mae: 1.5839\n",
            "Epoch 17/250\n",
            "178/178 [==============================] - 19s 102ms/step - loss: 0.8321 - mae: 0.6782 - val_loss: 5.5749 - val_mae: 1.7318\n",
            "Epoch 18/250\n",
            "178/178 [==============================] - 19s 102ms/step - loss: 0.8168 - mae: 0.6696 - val_loss: 5.4635 - val_mae: 1.7439\n",
            "Epoch 19/250\n",
            "178/178 [==============================] - 18s 101ms/step - loss: 0.9362 - mae: 0.6853 - val_loss: 4.8999 - val_mae: 1.6339\n",
            "Epoch 20/250\n",
            "178/178 [==============================] - 19s 102ms/step - loss: 1.0281 - mae: 0.7283 - val_loss: 4.1309 - val_mae: 1.5249\n",
            "Epoch 21/250\n",
            "178/178 [==============================] - 18s 101ms/step - loss: 0.8737 - mae: 0.6974 - val_loss: 5.5684 - val_mae: 1.7401\n",
            "Epoch 22/250\n",
            "178/178 [==============================] - 14s 75ms/step - loss: 0.8563 - mae: 0.6921 - val_loss: 4.8329 - val_mae: 1.6415\n",
            "Epoch 23/250\n",
            "178/178 [==============================] - 19s 102ms/step - loss: 0.8675 - mae: 0.6822 - val_loss: 5.4685 - val_mae: 1.7533\n",
            "Epoch 24/250\n",
            "178/178 [==============================] - 18s 101ms/step - loss: 0.8195 - mae: 0.6780 - val_loss: 4.9435 - val_mae: 1.6364\n",
            "Epoch 25/250\n",
            "178/178 [==============================] - 18s 101ms/step - loss: 0.7958 - mae: 0.6722 - val_loss: 5.7533 - val_mae: 1.7755\n",
            "Epoch 26/250\n",
            "178/178 [==============================] - 18s 101ms/step - loss: 0.8172 - mae: 0.6674 - val_loss: 4.7429 - val_mae: 1.6008\n",
            "Epoch 27/250\n",
            "178/178 [==============================] - 19s 102ms/step - loss: 0.7273 - mae: 0.6408 - val_loss: 4.8841 - val_mae: 1.6429\n",
            "Epoch 28/250\n",
            "178/178 [==============================] - 19s 102ms/step - loss: 0.7701 - mae: 0.6528 - val_loss: 4.2261 - val_mae: 1.5324\n",
            "Epoch 29/250\n",
            "178/178 [==============================] - 18s 101ms/step - loss: 1.1672 - mae: 0.7724 - val_loss: 4.9563 - val_mae: 1.6700\n",
            "Epoch 30/250\n",
            "178/178 [==============================] - 19s 102ms/step - loss: 1.2073 - mae: 0.7883 - val_loss: 5.1743 - val_mae: 1.6885\n",
            "Epoch 31/250\n",
            "178/178 [==============================] - 19s 102ms/step - loss: 1.2803 - mae: 0.7896 - val_loss: 4.8762 - val_mae: 1.6368\n",
            "Epoch 32/250\n",
            "178/178 [==============================] - 19s 101ms/step - loss: 1.0902 - mae: 0.7416 - val_loss: 5.3738 - val_mae: 1.7235\n",
            "Epoch 33/250\n",
            "178/178 [==============================] - 19s 102ms/step - loss: 1.0495 - mae: 0.7348 - val_loss: 5.3669 - val_mae: 1.7218\n",
            "Epoch 34/250\n",
            "178/178 [==============================] - 19s 102ms/step - loss: 1.0266 - mae: 0.7295 - val_loss: 4.8487 - val_mae: 1.6371\n",
            "Epoch 35/250\n",
            "178/178 [==============================] - 19s 102ms/step - loss: 1.0043 - mae: 0.7278 - val_loss: 5.6958 - val_mae: 1.7593\n",
            "Epoch 36/250\n",
            "178/178 [==============================] - 18s 101ms/step - loss: 1.0148 - mae: 0.7280 - val_loss: 5.0731 - val_mae: 1.6690\n",
            "Epoch 37/250\n",
            "178/178 [==============================] - 19s 103ms/step - loss: 1.0054 - mae: 0.7221 - val_loss: 3.8020 - val_mae: 1.4807\n",
            "Epoch 38/250\n",
            "178/178 [==============================] - 18s 101ms/step - loss: 0.9888 - mae: 0.7171 - val_loss: 4.7313 - val_mae: 1.6210\n",
            "Epoch 39/250\n",
            "178/178 [==============================] - 19s 101ms/step - loss: 0.8824 - mae: 0.6923 - val_loss: 4.9578 - val_mae: 1.6688\n",
            "Epoch 40/250\n",
            "178/178 [==============================] - 19s 102ms/step - loss: 0.9111 - mae: 0.6981 - val_loss: 4.8406 - val_mae: 1.6591\n",
            "Epoch 41/250\n",
            "178/178 [==============================] - 19s 102ms/step - loss: 0.8453 - mae: 0.6904 - val_loss: 5.7184 - val_mae: 1.7968\n",
            "Epoch 42/250\n",
            "178/178 [==============================] - 19s 102ms/step - loss: 1.0563 - mae: 0.7377 - val_loss: 5.8240 - val_mae: 1.7951\n",
            "Epoch 43/250\n",
            "178/178 [==============================] - 19s 102ms/step - loss: 0.8952 - mae: 0.6998 - val_loss: 5.1767 - val_mae: 1.6956\n",
            "Epoch 44/250\n",
            "178/178 [==============================] - 19s 101ms/step - loss: 0.8329 - mae: 0.6841 - val_loss: 4.6654 - val_mae: 1.6072\n",
            "Epoch 45/250\n",
            "178/178 [==============================] - 19s 102ms/step - loss: 0.7978 - mae: 0.6652 - val_loss: 4.8890 - val_mae: 1.6441\n",
            "Epoch 46/250\n",
            "178/178 [==============================] - 19s 102ms/step - loss: 0.8585 - mae: 0.6875 - val_loss: 5.2647 - val_mae: 1.7089\n",
            "Epoch 47/250\n",
            "178/178 [==============================] - 18s 101ms/step - loss: 0.8397 - mae: 0.6632 - val_loss: 5.0409 - val_mae: 1.6627\n",
            "Epoch 48/250\n",
            "178/178 [==============================] - 18s 101ms/step - loss: 0.8575 - mae: 0.6864 - val_loss: 5.0552 - val_mae: 1.6719\n",
            "Epoch 49/250\n",
            "178/178 [==============================] - 14s 76ms/step - loss: 0.9125 - mae: 0.6949 - val_loss: 5.1499 - val_mae: 1.6890\n",
            "Epoch 50/250\n",
            "178/178 [==============================] - 19s 101ms/step - loss: 0.8790 - mae: 0.6760 - val_loss: 5.2023 - val_mae: 1.7007\n",
            "Epoch 51/250\n",
            "178/178 [==============================] - 19s 102ms/step - loss: 0.8006 - mae: 0.6644 - val_loss: 5.2389 - val_mae: 1.6945\n",
            "Epoch 52/250\n",
            "178/178 [==============================] - 14s 76ms/step - loss: 0.8062 - mae: 0.6608 - val_loss: 5.2178 - val_mae: 1.6943\n",
            "Epoch 53/250\n",
            "178/178 [==============================] - 19s 102ms/step - loss: 0.7894 - mae: 0.6518 - val_loss: 5.2990 - val_mae: 1.6996\n",
            "Epoch 54/250\n",
            "178/178 [==============================] - 19s 102ms/step - loss: 1.0468 - mae: 0.7261 - val_loss: 6.0509 - val_mae: 1.7920\n",
            "Epoch 55/250\n",
            "178/178 [==============================] - 19s 102ms/step - loss: 1.0525 - mae: 0.7292 - val_loss: 5.4578 - val_mae: 1.7262\n",
            "Epoch 56/250\n",
            "178/178 [==============================] - 19s 104ms/step - loss: 1.0019 - mae: 0.7129 - val_loss: 5.3046 - val_mae: 1.7042\n",
            "Epoch 57/250\n",
            "178/178 [==============================] - 19s 102ms/step - loss: 0.9516 - mae: 0.7041 - val_loss: 5.2202 - val_mae: 1.6865\n",
            "Epoch 58/250\n",
            "178/178 [==============================] - 19s 103ms/step - loss: 0.9402 - mae: 0.6938 - val_loss: 5.5559 - val_mae: 1.7350\n",
            "Epoch 59/250\n",
            "178/178 [==============================] - 19s 102ms/step - loss: 0.9224 - mae: 0.6995 - val_loss: 5.4291 - val_mae: 1.7172\n",
            "Epoch 60/250\n",
            "178/178 [==============================] - 19s 102ms/step - loss: 0.8541 - mae: 0.6775 - val_loss: 6.2020 - val_mae: 1.8305\n",
            "Epoch 61/250\n",
            "178/178 [==============================] - 19s 103ms/step - loss: 0.8786 - mae: 0.6616 - val_loss: 4.6812 - val_mae: 1.6295\n",
            "Epoch 62/250\n",
            "178/178 [==============================] - 19s 102ms/step - loss: 0.8442 - mae: 0.6651 - val_loss: 5.0932 - val_mae: 1.6593\n",
            "Epoch 63/250\n",
            "178/178 [==============================] - 19s 102ms/step - loss: 0.7770 - mae: 0.6542 - val_loss: 4.9045 - val_mae: 1.6507\n",
            "Epoch 64/250\n",
            "178/178 [==============================] - 19s 102ms/step - loss: 0.8997 - mae: 0.6956 - val_loss: 6.4307 - val_mae: 1.8487\n",
            "Epoch 65/250\n",
            "178/178 [==============================] - 19s 102ms/step - loss: 0.8371 - mae: 0.6817 - val_loss: 6.2733 - val_mae: 1.8401\n",
            "Epoch 66/250\n",
            "178/178 [==============================] - 19s 102ms/step - loss: 0.7873 - mae: 0.6593 - val_loss: 6.4276 - val_mae: 1.8751\n",
            "Epoch 67/250\n",
            "178/178 [==============================] - 19s 103ms/step - loss: 0.7941 - mae: 0.6582 - val_loss: 5.2437 - val_mae: 1.6865\n",
            "Epoch 68/250\n",
            "178/178 [==============================] - 19s 102ms/step - loss: 0.7149 - mae: 0.6353 - val_loss: 4.9989 - val_mae: 1.6711\n",
            "Epoch 69/250\n",
            "178/178 [==============================] - 19s 102ms/step - loss: 0.7109 - mae: 0.6363 - val_loss: 5.1560 - val_mae: 1.6688\n",
            "Epoch 70/250\n",
            "178/178 [==============================] - 19s 102ms/step - loss: 0.8367 - mae: 0.6540 - val_loss: 5.4869 - val_mae: 1.7050\n",
            "Epoch 71/250\n",
            "178/178 [==============================] - 19s 102ms/step - loss: 0.7885 - mae: 0.6508 - val_loss: 4.4037 - val_mae: 1.5497\n",
            "Epoch 72/250\n",
            "178/178 [==============================] - 19s 102ms/step - loss: 0.8110 - mae: 0.6600 - val_loss: 5.4954 - val_mae: 1.7191\n",
            "Epoch 73/250\n",
            "178/178 [==============================] - 19s 102ms/step - loss: 0.7154 - mae: 0.6263 - val_loss: 5.7155 - val_mae: 1.7549\n",
            "Epoch 74/250\n",
            "178/178 [==============================] - 19s 103ms/step - loss: 0.8478 - mae: 0.6486 - val_loss: 4.8626 - val_mae: 1.6405\n",
            "Epoch 75/250\n",
            "178/178 [==============================] - 19s 104ms/step - loss: 0.7089 - mae: 0.6214 - val_loss: 5.4143 - val_mae: 1.7109\n",
            "Epoch 76/250\n",
            "178/178 [==============================] - 19s 103ms/step - loss: 0.7399 - mae: 0.6277 - val_loss: 5.4682 - val_mae: 1.7416\n",
            "Epoch 77/250\n",
            "178/178 [==============================] - 19s 103ms/step - loss: 0.7999 - mae: 0.6534 - val_loss: 5.5762 - val_mae: 1.7346\n",
            "Epoch 78/250\n",
            "178/178 [==============================] - 19s 105ms/step - loss: 0.9351 - mae: 0.7051 - val_loss: 6.5374 - val_mae: 1.9275\n",
            "Epoch 79/250\n",
            "178/178 [==============================] - 19s 104ms/step - loss: 0.9688 - mae: 0.7101 - val_loss: 5.4330 - val_mae: 1.7318\n",
            "Epoch 80/250\n",
            "178/178 [==============================] - 19s 103ms/step - loss: 1.0146 - mae: 0.7073 - val_loss: 5.9101 - val_mae: 1.7997\n",
            "Epoch 81/250\n",
            "178/178 [==============================] - 19s 105ms/step - loss: 0.9201 - mae: 0.6843 - val_loss: 5.0506 - val_mae: 1.6826\n",
            "Epoch 82/250\n",
            "178/178 [==============================] - 19s 103ms/step - loss: 0.9151 - mae: 0.6845 - val_loss: 4.9497 - val_mae: 1.6506\n",
            "Epoch 83/250\n",
            "178/178 [==============================] - 19s 103ms/step - loss: 0.9560 - mae: 0.7009 - val_loss: 5.0154 - val_mae: 1.6660\n",
            "Epoch 84/250\n",
            "178/178 [==============================] - 19s 104ms/step - loss: 0.8731 - mae: 0.6671 - val_loss: 5.0813 - val_mae: 1.6731\n",
            "Epoch 85/250\n",
            "178/178 [==============================] - 19s 105ms/step - loss: 0.8551 - mae: 0.6616 - val_loss: 5.3288 - val_mae: 1.7187\n",
            "Epoch 86/250\n",
            "178/178 [==============================] - 19s 103ms/step - loss: 0.7903 - mae: 0.6446 - val_loss: 5.5654 - val_mae: 1.7606\n",
            "Epoch 87/250\n",
            "178/178 [==============================] - 19s 105ms/step - loss: 0.7507 - mae: 0.6468 - val_loss: 5.5379 - val_mae: 1.7512\n",
            "Epoch 88/250\n",
            "178/178 [==============================] - 19s 104ms/step - loss: 0.7751 - mae: 0.6531 - val_loss: 5.2839 - val_mae: 1.7022\n",
            "Epoch 89/250\n",
            "178/178 [==============================] - 19s 103ms/step - loss: 0.9386 - mae: 0.7007 - val_loss: 5.3143 - val_mae: 1.6998\n",
            "Epoch 90/250\n",
            "178/178 [==============================] - 19s 104ms/step - loss: 1.0477 - mae: 0.7254 - val_loss: 8.3758 - val_mae: 2.0717\n",
            "Epoch 91/250\n",
            "178/178 [==============================] - 14s 77ms/step - loss: 0.8335 - mae: 0.6732 - val_loss: 6.6036 - val_mae: 1.8644\n",
            "Epoch 92/250\n",
            "178/178 [==============================] - 19s 104ms/step - loss: 0.8617 - mae: 0.6716 - val_loss: 6.2722 - val_mae: 1.8121\n",
            "Epoch 93/250\n",
            "178/178 [==============================] - 19s 105ms/step - loss: 0.9473 - mae: 0.6892 - val_loss: 6.1508 - val_mae: 1.7984\n",
            "Epoch 94/250\n",
            "178/178 [==============================] - 19s 104ms/step - loss: 0.9161 - mae: 0.6816 - val_loss: 5.0696 - val_mae: 1.6796\n",
            "Epoch 95/250\n",
            "178/178 [==============================] - 19s 104ms/step - loss: 0.8695 - mae: 0.6750 - val_loss: 5.7964 - val_mae: 1.7771\n",
            "Epoch 96/250\n",
            "178/178 [==============================] - 14s 78ms/step - loss: 0.7807 - mae: 0.6546 - val_loss: 5.6584 - val_mae: 1.7368\n",
            "Epoch 97/250\n",
            "178/178 [==============================] - 19s 102ms/step - loss: 0.8452 - mae: 0.6635 - val_loss: 5.4522 - val_mae: 1.7129\n",
            "Epoch 98/250\n",
            "178/178 [==============================] - 19s 102ms/step - loss: 0.7756 - mae: 0.6447 - val_loss: 5.2726 - val_mae: 1.6798\n",
            "Epoch 99/250\n",
            "178/178 [==============================] - 19s 103ms/step - loss: 0.8071 - mae: 0.6491 - val_loss: 5.4354 - val_mae: 1.7097\n",
            "Epoch 100/250\n",
            "178/178 [==============================] - 19s 102ms/step - loss: 0.7162 - mae: 0.6237 - val_loss: 5.1972 - val_mae: 1.6745\n",
            "Epoch 101/250\n",
            "178/178 [==============================] - 19s 102ms/step - loss: 0.8446 - mae: 0.6636 - val_loss: 6.1928 - val_mae: 1.8049\n",
            "Epoch 102/250\n",
            "178/178 [==============================] - 19s 103ms/step - loss: 0.7447 - mae: 0.6341 - val_loss: 6.3842 - val_mae: 1.8263\n",
            "Epoch 103/250\n",
            "178/178 [==============================] - 19s 102ms/step - loss: 0.7238 - mae: 0.6242 - val_loss: 5.3644 - val_mae: 1.6879\n",
            "Epoch 104/250\n",
            "178/178 [==============================] - 14s 75ms/step - loss: 0.7662 - mae: 0.6324 - val_loss: 5.6979 - val_mae: 1.7414\n",
            "Epoch 105/250\n",
            "178/178 [==============================] - 19s 103ms/step - loss: 0.8418 - mae: 0.6489 - val_loss: 4.8339 - val_mae: 1.6234\n",
            "Epoch 106/250\n",
            "178/178 [==============================] - 19s 103ms/step - loss: 0.7823 - mae: 0.6352 - val_loss: 4.8438 - val_mae: 1.6295\n",
            "Epoch 107/250\n",
            "178/178 [==============================] - 19s 103ms/step - loss: 0.7864 - mae: 0.6352 - val_loss: 5.5705 - val_mae: 1.7484\n",
            "Epoch 108/250\n",
            "178/178 [==============================] - 19s 102ms/step - loss: 0.7976 - mae: 0.6411 - val_loss: 6.0351 - val_mae: 1.7806\n",
            "Epoch 109/250\n",
            "178/178 [==============================] - 19s 103ms/step - loss: 0.8418 - mae: 0.6349 - val_loss: 7.8981 - val_mae: 2.0341\n",
            "Epoch 110/250\n",
            "178/178 [==============================] - 19s 103ms/step - loss: 1.0078 - mae: 0.7286 - val_loss: 10.1267 - val_mae: 2.2368\n",
            "Epoch 111/250\n",
            "178/178 [==============================] - 19s 102ms/step - loss: 0.9101 - mae: 0.6885 - val_loss: 7.3302 - val_mae: 1.9222\n",
            "Epoch 112/250\n",
            "178/178 [==============================] - 19s 102ms/step - loss: 0.8275 - mae: 0.6639 - val_loss: 6.7740 - val_mae: 1.8470\n",
            "Epoch 113/250\n",
            "178/178 [==============================] - 19s 103ms/step - loss: 0.7991 - mae: 0.6761 - val_loss: 6.0527 - val_mae: 1.7796\n",
            "Epoch 114/250\n",
            "178/178 [==============================] - 19s 103ms/step - loss: 0.8296 - mae: 0.6751 - val_loss: 6.2427 - val_mae: 1.8125\n",
            "Epoch 115/250\n",
            "178/178 [==============================] - 19s 103ms/step - loss: 0.8156 - mae: 0.6498 - val_loss: 5.9995 - val_mae: 1.7868\n",
            "Epoch 116/250\n",
            "178/178 [==============================] - 19s 103ms/step - loss: 0.7687 - mae: 0.6439 - val_loss: 5.9912 - val_mae: 1.7987\n",
            "Epoch 117/250\n",
            "178/178 [==============================] - 19s 103ms/step - loss: 0.8897 - mae: 0.6690 - val_loss: 5.9395 - val_mae: 1.7830\n",
            "Epoch 118/250\n",
            "178/178 [==============================] - 19s 103ms/step - loss: 0.8208 - mae: 0.6456 - val_loss: 5.4350 - val_mae: 1.7147\n",
            "Epoch 119/250\n",
            "178/178 [==============================] - 19s 103ms/step - loss: 0.7708 - mae: 0.6397 - val_loss: 5.4512 - val_mae: 1.7208\n",
            "Epoch 120/250\n",
            "178/178 [==============================] - 19s 103ms/step - loss: 0.9310 - mae: 0.6886 - val_loss: 4.9063 - val_mae: 1.6151\n",
            "Epoch 121/250\n",
            "178/178 [==============================] - 19s 103ms/step - loss: 0.9507 - mae: 0.6917 - val_loss: 5.6139 - val_mae: 1.7206\n",
            "Epoch 122/250\n",
            "178/178 [==============================] - 19s 103ms/step - loss: 0.8390 - mae: 0.6474 - val_loss: 4.9719 - val_mae: 1.6298\n",
            "Epoch 123/250\n",
            "178/178 [==============================] - 19s 103ms/step - loss: 0.9415 - mae: 0.6656 - val_loss: 5.7259 - val_mae: 1.7257\n",
            "Epoch 124/250\n",
            "178/178 [==============================] - 19s 104ms/step - loss: 0.8970 - mae: 0.6739 - val_loss: 3.7721 - val_mae: 1.4500\n",
            "Epoch 125/250\n",
            "178/178 [==============================] - 19s 102ms/step - loss: 0.9269 - mae: 0.6678 - val_loss: 4.0107 - val_mae: 1.4879\n",
            "Epoch 126/250\n",
            "178/178 [==============================] - 19s 103ms/step - loss: 1.0265 - mae: 0.7101 - val_loss: 5.4455 - val_mae: 1.6861\n",
            "Epoch 127/250\n",
            "178/178 [==============================] - 19s 102ms/step - loss: 1.0931 - mae: 0.7494 - val_loss: 5.2704 - val_mae: 1.6708\n",
            "Epoch 128/250\n",
            "178/178 [==============================] - 19s 103ms/step - loss: 1.0595 - mae: 0.7278 - val_loss: 5.2647 - val_mae: 1.6528\n",
            "Epoch 129/250\n",
            "178/178 [==============================] - 19s 103ms/step - loss: 0.9524 - mae: 0.7014 - val_loss: 5.5865 - val_mae: 1.7220\n",
            "Epoch 130/250\n",
            "178/178 [==============================] - 19s 103ms/step - loss: 0.9245 - mae: 0.6957 - val_loss: 5.0595 - val_mae: 1.6351\n",
            "Epoch 131/250\n",
            "178/178 [==============================] - 19s 103ms/step - loss: 0.9343 - mae: 0.6891 - val_loss: 5.6942 - val_mae: 1.7126\n",
            "Epoch 132/250\n",
            "178/178 [==============================] - 19s 103ms/step - loss: 0.8962 - mae: 0.6768 - val_loss: 5.0251 - val_mae: 1.6381\n",
            "Epoch 133/250\n",
            "178/178 [==============================] - 19s 102ms/step - loss: 0.8320 - mae: 0.6641 - val_loss: 6.8969 - val_mae: 1.9088\n",
            "Epoch 134/250\n",
            "178/178 [==============================] - 19s 103ms/step - loss: 0.9792 - mae: 0.7043 - val_loss: 6.5140 - val_mae: 1.8258\n",
            "Epoch 135/250\n",
            "178/178 [==============================] - 19s 103ms/step - loss: 0.9370 - mae: 0.6802 - val_loss: 5.6135 - val_mae: 1.7312\n",
            "Epoch 136/250\n",
            "178/178 [==============================] - 19s 104ms/step - loss: 0.8660 - mae: 0.6754 - val_loss: 5.8427 - val_mae: 1.7591\n",
            "Epoch 137/250\n",
            "178/178 [==============================] - 19s 103ms/step - loss: 0.8193 - mae: 0.6632 - val_loss: 4.9908 - val_mae: 1.6640\n",
            "Epoch 138/250\n",
            "178/178 [==============================] - 19s 103ms/step - loss: 0.8258 - mae: 0.6561 - val_loss: 5.4041 - val_mae: 1.7037\n",
            "Epoch 139/250\n",
            "178/178 [==============================] - 14s 79ms/step - loss: 0.8181 - mae: 0.6416 - val_loss: 5.6658 - val_mae: 1.7469\n",
            "Epoch 140/250\n",
            "178/178 [==============================] - 19s 106ms/step - loss: 0.8700 - mae: 0.6671 - val_loss: 6.7993 - val_mae: 1.9302\n",
            "Epoch 141/250\n",
            "178/178 [==============================] - 19s 103ms/step - loss: 0.9664 - mae: 0.7129 - val_loss: 5.7778 - val_mae: 1.7911\n",
            "Epoch 142/250\n",
            "178/178 [==============================] - 19s 103ms/step - loss: 0.8979 - mae: 0.6659 - val_loss: 5.2341 - val_mae: 1.7216\n",
            "Epoch 143/250\n",
            "178/178 [==============================] - 19s 103ms/step - loss: 0.8317 - mae: 0.6601 - val_loss: 5.3195 - val_mae: 1.7101\n",
            "Epoch 144/250\n",
            "178/178 [==============================] - 19s 102ms/step - loss: 0.8102 - mae: 0.6494 - val_loss: 6.3260 - val_mae: 1.8520\n",
            "Epoch 145/250\n",
            "178/178 [==============================] - 19s 104ms/step - loss: 0.7846 - mae: 0.6539 - val_loss: 6.0226 - val_mae: 1.8099\n",
            "Epoch 146/250\n",
            "178/178 [==============================] - 19s 103ms/step - loss: 0.7518 - mae: 0.6399 - val_loss: 5.0660 - val_mae: 1.6692\n",
            "Epoch 147/250\n",
            "178/178 [==============================] - 19s 103ms/step - loss: 0.7646 - mae: 0.6386 - val_loss: 5.4657 - val_mae: 1.7293\n",
            "Epoch 148/250\n",
            "178/178 [==============================] - 19s 104ms/step - loss: 0.7462 - mae: 0.6346 - val_loss: 5.2489 - val_mae: 1.6976\n",
            "Epoch 149/250\n",
            "178/178 [==============================] - 19s 103ms/step - loss: 0.7674 - mae: 0.6344 - val_loss: 4.2531 - val_mae: 1.5595\n",
            "Epoch 150/250\n",
            "178/178 [==============================] - 19s 103ms/step - loss: 0.7655 - mae: 0.6339 - val_loss: 4.9399 - val_mae: 1.6523\n",
            "Epoch 151/250\n",
            "178/178 [==============================] - 19s 104ms/step - loss: 0.7208 - mae: 0.6192 - val_loss: 5.1033 - val_mae: 1.6894\n",
            "Epoch 152/250\n",
            "178/178 [==============================] - 19s 103ms/step - loss: 0.7579 - mae: 0.6321 - val_loss: 5.6058 - val_mae: 1.7447\n",
            "Epoch 153/250\n",
            "178/178 [==============================] - 19s 103ms/step - loss: 0.7908 - mae: 0.6393 - val_loss: 4.1916 - val_mae: 1.5314\n",
            "Epoch 154/250\n",
            "178/178 [==============================] - 19s 103ms/step - loss: 0.7373 - mae: 0.6222 - val_loss: 5.2688 - val_mae: 1.7121\n",
            "Epoch 155/250\n",
            "178/178 [==============================] - 19s 103ms/step - loss: 0.7090 - mae: 0.6259 - val_loss: 5.1021 - val_mae: 1.6641\n",
            "Epoch 156/250\n",
            "178/178 [==============================] - 19s 103ms/step - loss: 0.7954 - mae: 0.6449 - val_loss: 5.5554 - val_mae: 1.7338\n",
            "Epoch 157/250\n",
            "178/178 [==============================] - 19s 103ms/step - loss: 0.9220 - mae: 0.6668 - val_loss: 4.5711 - val_mae: 1.5489\n",
            "Epoch 158/250\n",
            "178/178 [==============================] - 19s 103ms/step - loss: 0.9063 - mae: 0.6739 - val_loss: 5.3088 - val_mae: 1.6593\n",
            "Epoch 159/250\n",
            "178/178 [==============================] - 19s 103ms/step - loss: 0.9039 - mae: 0.6770 - val_loss: 5.7871 - val_mae: 1.7363\n",
            "Epoch 160/250\n",
            "178/178 [==============================] - 19s 103ms/step - loss: 0.7661 - mae: 0.6372 - val_loss: 6.6605 - val_mae: 1.8555\n",
            "Epoch 161/250\n",
            "178/178 [==============================] - 19s 104ms/step - loss: 0.8222 - mae: 0.6572 - val_loss: 5.8553 - val_mae: 1.7647\n",
            "Epoch 162/250\n",
            "178/178 [==============================] - 19s 103ms/step - loss: 0.7830 - mae: 0.6456 - val_loss: 5.4436 - val_mae: 1.6824\n",
            "Epoch 163/250\n",
            "178/178 [==============================] - 19s 103ms/step - loss: 0.8043 - mae: 0.6524 - val_loss: 5.5715 - val_mae: 1.7290\n",
            "Epoch 164/250\n",
            "178/178 [==============================] - 19s 103ms/step - loss: 0.7277 - mae: 0.6279 - val_loss: 5.5656 - val_mae: 1.7033\n",
            "Epoch 165/250\n",
            "178/178 [==============================] - 19s 103ms/step - loss: 0.6737 - mae: 0.6135 - val_loss: 5.1787 - val_mae: 1.6588\n",
            "Epoch 166/250\n",
            "178/178 [==============================] - 19s 103ms/step - loss: 0.6801 - mae: 0.6075 - val_loss: 5.8171 - val_mae: 1.7535\n",
            "Epoch 167/250\n",
            "178/178 [==============================] - 19s 104ms/step - loss: 0.7525 - mae: 0.6147 - val_loss: 5.5422 - val_mae: 1.6956\n",
            "Epoch 168/250\n",
            "178/178 [==============================] - 19s 103ms/step - loss: 0.6957 - mae: 0.6141 - val_loss: 5.0767 - val_mae: 1.6487\n",
            "Epoch 169/250\n",
            "178/178 [==============================] - 19s 106ms/step - loss: 0.8075 - mae: 0.6394 - val_loss: 5.6837 - val_mae: 1.7279\n",
            "Epoch 170/250\n",
            "178/178 [==============================] - 19s 106ms/step - loss: 0.7857 - mae: 0.6384 - val_loss: 6.8342 - val_mae: 1.8735\n",
            "Epoch 171/250\n",
            "178/178 [==============================] - 19s 106ms/step - loss: 0.7447 - mae: 0.6251 - val_loss: 6.6405 - val_mae: 1.8641\n",
            "Epoch 172/250\n",
            "178/178 [==============================] - 19s 104ms/step - loss: 0.7015 - mae: 0.6051 - val_loss: 6.7305 - val_mae: 1.8617\n",
            "Epoch 173/250\n",
            "178/178 [==============================] - 19s 105ms/step - loss: 0.6506 - mae: 0.5926 - val_loss: 6.4986 - val_mae: 1.8390\n",
            "Epoch 174/250\n",
            "178/178 [==============================] - 19s 104ms/step - loss: 0.6935 - mae: 0.6053 - val_loss: 5.7647 - val_mae: 1.7126\n",
            "Epoch 175/250\n",
            "178/178 [==============================] - 19s 104ms/step - loss: 0.6723 - mae: 0.5946 - val_loss: 6.5493 - val_mae: 1.8370\n",
            "Epoch 176/250\n",
            "178/178 [==============================] - 19s 105ms/step - loss: 0.6966 - mae: 0.6058 - val_loss: 5.3847 - val_mae: 1.6970\n",
            "Epoch 177/250\n",
            "178/178 [==============================] - 19s 105ms/step - loss: 0.7384 - mae: 0.6176 - val_loss: 5.5666 - val_mae: 1.7096\n",
            "Epoch 178/250\n",
            "178/178 [==============================] - 19s 104ms/step - loss: 0.7171 - mae: 0.6042 - val_loss: 5.3963 - val_mae: 1.6856\n",
            "Epoch 179/250\n",
            "178/178 [==============================] - 19s 104ms/step - loss: 0.7936 - mae: 0.6342 - val_loss: 5.2469 - val_mae: 1.7016\n",
            "Epoch 180/250\n",
            "178/178 [==============================] - 19s 104ms/step - loss: 1.2488 - mae: 0.7674 - val_loss: 7.7530 - val_mae: 2.0332\n",
            "Epoch 181/250\n",
            "178/178 [==============================] - 19s 104ms/step - loss: 1.1657 - mae: 0.7431 - val_loss: 7.5287 - val_mae: 1.9964\n",
            "Epoch 182/250\n",
            "178/178 [==============================] - 19s 104ms/step - loss: 1.2254 - mae: 0.7614 - val_loss: 7.5749 - val_mae: 1.9687\n",
            "Epoch 183/250\n",
            "178/178 [==============================] - 19s 105ms/step - loss: 1.0445 - mae: 0.7162 - val_loss: 7.0187 - val_mae: 1.9056\n",
            "Epoch 184/250\n",
            "178/178 [==============================] - 19s 105ms/step - loss: 1.2657 - mae: 0.7569 - val_loss: 7.1181 - val_mae: 1.8381\n",
            "Epoch 185/250\n",
            "178/178 [==============================] - 19s 103ms/step - loss: 1.5830 - mae: 0.8410 - val_loss: 5.1664 - val_mae: 1.6644\n",
            "Epoch 186/250\n",
            "178/178 [==============================] - 19s 104ms/step - loss: 1.4636 - mae: 0.7878 - val_loss: 5.4772 - val_mae: 1.6867\n",
            "Epoch 187/250\n",
            "178/178 [==============================] - 19s 103ms/step - loss: 1.2477 - mae: 0.7543 - val_loss: 5.5871 - val_mae: 1.7114\n",
            "Epoch 188/250\n",
            "178/178 [==============================] - 19s 103ms/step - loss: 1.1301 - mae: 0.7472 - val_loss: 5.2787 - val_mae: 1.6774\n",
            "Epoch 189/250\n",
            "178/178 [==============================] - 19s 104ms/step - loss: 1.1503 - mae: 0.7411 - val_loss: 4.7963 - val_mae: 1.6122\n",
            "Epoch 190/250\n",
            "178/178 [==============================] - 19s 103ms/step - loss: 1.0269 - mae: 0.7152 - val_loss: 5.8696 - val_mae: 1.7717\n",
            "Epoch 191/250\n",
            "178/178 [==============================] - 19s 103ms/step - loss: 1.0241 - mae: 0.7128 - val_loss: 5.3222 - val_mae: 1.6792\n",
            "Epoch 192/250\n",
            "178/178 [==============================] - 19s 103ms/step - loss: 1.0226 - mae: 0.7132 - val_loss: 5.3766 - val_mae: 1.7075\n",
            "Epoch 193/250\n",
            "178/178 [==============================] - 19s 104ms/step - loss: 0.9524 - mae: 0.6783 - val_loss: 5.3941 - val_mae: 1.6814\n",
            "Epoch 194/250\n",
            "178/178 [==============================] - 19s 104ms/step - loss: 0.9356 - mae: 0.6846 - val_loss: 5.7022 - val_mae: 1.7302\n",
            "Epoch 195/250\n",
            "178/178 [==============================] - 19s 103ms/step - loss: 1.0456 - mae: 0.6942 - val_loss: 6.0590 - val_mae: 1.7823\n",
            "Epoch 196/250\n",
            "178/178 [==============================] - 19s 104ms/step - loss: 1.0020 - mae: 0.6869 - val_loss: 5.2597 - val_mae: 1.6728\n",
            "Epoch 197/250\n",
            "178/178 [==============================] - 19s 102ms/step - loss: 0.9174 - mae: 0.6618 - val_loss: 4.8187 - val_mae: 1.6131\n",
            "Epoch 198/250\n",
            "178/178 [==============================] - 19s 104ms/step - loss: 0.8965 - mae: 0.6639 - val_loss: 5.1083 - val_mae: 1.6612\n",
            "Epoch 199/250\n",
            "178/178 [==============================] - 19s 104ms/step - loss: 1.0897 - mae: 0.7387 - val_loss: 4.9118 - val_mae: 1.6530\n",
            "Epoch 200/250\n",
            "178/178 [==============================] - 19s 104ms/step - loss: 1.0823 - mae: 0.7264 - val_loss: 4.8617 - val_mae: 1.6119\n",
            "Epoch 201/250\n",
            "178/178 [==============================] - 19s 104ms/step - loss: 0.9020 - mae: 0.6925 - val_loss: 5.6984 - val_mae: 1.7388\n",
            "Epoch 202/250\n",
            "178/178 [==============================] - 19s 104ms/step - loss: 1.0036 - mae: 0.6991 - val_loss: 5.0633 - val_mae: 1.6569\n",
            "Epoch 203/250\n",
            "178/178 [==============================] - 19s 104ms/step - loss: 0.9372 - mae: 0.6854 - val_loss: 6.3083 - val_mae: 1.7655\n",
            "Epoch 204/250\n",
            "178/178 [==============================] - 19s 103ms/step - loss: 0.8644 - mae: 0.6533 - val_loss: 6.4730 - val_mae: 1.8194\n",
            "Epoch 205/250\n",
            "178/178 [==============================] - 19s 103ms/step - loss: 1.2594 - mae: 0.7673 - val_loss: 7.6824 - val_mae: 1.9649\n",
            "Epoch 206/250\n",
            "178/178 [==============================] - 19s 103ms/step - loss: 0.9516 - mae: 0.6952 - val_loss: 6.0690 - val_mae: 1.7557\n",
            "Epoch 207/250\n",
            "178/178 [==============================] - 19s 104ms/step - loss: 0.8587 - mae: 0.6620 - val_loss: 6.1195 - val_mae: 1.7662\n",
            "Epoch 208/250\n",
            "178/178 [==============================] - 19s 103ms/step - loss: 0.8891 - mae: 0.6736 - val_loss: 6.2601 - val_mae: 1.7804\n",
            "Epoch 209/250\n",
            "178/178 [==============================] - 19s 104ms/step - loss: 0.8184 - mae: 0.6516 - val_loss: 6.4400 - val_mae: 1.8098\n",
            "Epoch 210/250\n",
            "178/178 [==============================] - 19s 104ms/step - loss: 0.8867 - mae: 0.6561 - val_loss: 5.8056 - val_mae: 1.7384\n",
            "Epoch 211/250\n",
            "178/178 [==============================] - 19s 104ms/step - loss: 1.0058 - mae: 0.6764 - val_loss: 5.5940 - val_mae: 1.7029\n",
            "Epoch 212/250\n",
            "178/178 [==============================] - 19s 104ms/step - loss: 1.2796 - mae: 0.7370 - val_loss: 5.8679 - val_mae: 1.7444\n",
            "Epoch 213/250\n",
            "178/178 [==============================] - 19s 103ms/step - loss: 1.1271 - mae: 0.7236 - val_loss: 5.1038 - val_mae: 1.6438\n",
            "Epoch 214/250\n",
            "178/178 [==============================] - 19s 103ms/step - loss: 1.0557 - mae: 0.7094 - val_loss: 5.0384 - val_mae: 1.6439\n",
            "Epoch 215/250\n",
            "178/178 [==============================] - 19s 104ms/step - loss: 0.9305 - mae: 0.6950 - val_loss: 5.3885 - val_mae: 1.7029\n",
            "Epoch 216/250\n",
            "178/178 [==============================] - 19s 103ms/step - loss: 0.9893 - mae: 0.6835 - val_loss: 6.3221 - val_mae: 1.8397\n",
            "Epoch 217/250\n",
            "178/178 [==============================] - 19s 103ms/step - loss: 0.9032 - mae: 0.6728 - val_loss: 5.9957 - val_mae: 1.7766\n",
            "Epoch 218/250\n",
            "178/178 [==============================] - 19s 104ms/step - loss: 0.8767 - mae: 0.6755 - val_loss: 5.1619 - val_mae: 1.6787\n",
            "Epoch 219/250\n",
            "178/178 [==============================] - 19s 103ms/step - loss: 0.8274 - mae: 0.6613 - val_loss: 5.1371 - val_mae: 1.6659\n",
            "Epoch 220/250\n",
            "178/178 [==============================] - 19s 103ms/step - loss: 0.9301 - mae: 0.6603 - val_loss: 6.6702 - val_mae: 1.8835\n",
            "Epoch 221/250\n",
            "178/178 [==============================] - 19s 104ms/step - loss: 0.7933 - mae: 0.6477 - val_loss: 6.2545 - val_mae: 1.8175\n",
            "Epoch 222/250\n",
            "178/178 [==============================] - 19s 103ms/step - loss: 0.9171 - mae: 0.6697 - val_loss: 6.0196 - val_mae: 1.8032\n",
            "Epoch 223/250\n",
            "178/178 [==============================] - 19s 103ms/step - loss: 0.7645 - mae: 0.6387 - val_loss: 6.1846 - val_mae: 1.8271\n",
            "Epoch 224/250\n",
            "178/178 [==============================] - 19s 104ms/step - loss: 0.8859 - mae: 0.6612 - val_loss: 6.3686 - val_mae: 1.8539\n",
            "Epoch 225/250\n",
            "178/178 [==============================] - 19s 106ms/step - loss: 1.2410 - mae: 0.7283 - val_loss: 5.0865 - val_mae: 1.6589\n",
            "Epoch 226/250\n",
            "178/178 [==============================] - 19s 106ms/step - loss: 1.2155 - mae: 0.7410 - val_loss: 5.3896 - val_mae: 1.6915\n",
            "Epoch 227/250\n",
            "178/178 [==============================] - 19s 106ms/step - loss: 1.1163 - mae: 0.7148 - val_loss: 5.9864 - val_mae: 1.7991\n",
            "Epoch 228/250\n",
            "178/178 [==============================] - 19s 105ms/step - loss: 0.9516 - mae: 0.6968 - val_loss: 6.1410 - val_mae: 1.8175\n",
            "Epoch 229/250\n",
            "178/178 [==============================] - 19s 105ms/step - loss: 1.1518 - mae: 0.7200 - val_loss: 5.9754 - val_mae: 1.8156\n",
            "Epoch 230/250\n",
            "178/178 [==============================] - 19s 105ms/step - loss: 0.8373 - mae: 0.6676 - val_loss: 5.3451 - val_mae: 1.7171\n",
            "Epoch 231/250\n",
            "178/178 [==============================] - 19s 104ms/step - loss: 0.8864 - mae: 0.6790 - val_loss: 5.6690 - val_mae: 1.7763\n",
            "Epoch 232/250\n",
            "178/178 [==============================] - 19s 106ms/step - loss: 0.9562 - mae: 0.6829 - val_loss: 6.3652 - val_mae: 1.8755\n",
            "Epoch 233/250\n",
            "178/178 [==============================] - 19s 106ms/step - loss: 0.8709 - mae: 0.6615 - val_loss: 5.9686 - val_mae: 1.7970\n",
            "Epoch 234/250\n",
            "178/178 [==============================] - 19s 105ms/step - loss: 1.0274 - mae: 0.7157 - val_loss: 7.7189 - val_mae: 2.0667\n",
            "Epoch 235/250\n",
            "178/178 [==============================] - 19s 105ms/step - loss: 1.2131 - mae: 0.7602 - val_loss: 4.5400 - val_mae: 1.6004\n",
            "Epoch 236/250\n",
            "178/178 [==============================] - 19s 105ms/step - loss: 1.0754 - mae: 0.7232 - val_loss: 5.2572 - val_mae: 1.7030\n",
            "Epoch 237/250\n",
            "178/178 [==============================] - 19s 104ms/step - loss: 1.1147 - mae: 0.7281 - val_loss: 5.9339 - val_mae: 1.7795\n",
            "Epoch 238/250\n",
            "178/178 [==============================] - 19s 106ms/step - loss: 0.9319 - mae: 0.6770 - val_loss: 5.3476 - val_mae: 1.7324\n",
            "Epoch 239/250\n",
            "178/178 [==============================] - 19s 105ms/step - loss: 0.9643 - mae: 0.6877 - val_loss: 5.5670 - val_mae: 1.7516\n",
            "Epoch 240/250\n",
            "178/178 [==============================] - 14s 78ms/step - loss: 0.8901 - mae: 0.6629 - val_loss: 4.9669 - val_mae: 1.6656\n",
            "Epoch 241/250\n",
            "178/178 [==============================] - 19s 103ms/step - loss: 0.8852 - mae: 0.6661 - val_loss: 5.3470 - val_mae: 1.7133\n",
            "Epoch 242/250\n",
            "178/178 [==============================] - 19s 104ms/step - loss: 0.9219 - mae: 0.6776 - val_loss: 5.2531 - val_mae: 1.6918\n",
            "Epoch 243/250\n",
            "178/178 [==============================] - 19s 104ms/step - loss: 0.9534 - mae: 0.6812 - val_loss: 6.2341 - val_mae: 1.8414\n",
            "Epoch 244/250\n",
            "178/178 [==============================] - 19s 105ms/step - loss: 0.8174 - mae: 0.6526 - val_loss: 4.7642 - val_mae: 1.6048\n",
            "Epoch 245/250\n",
            "178/178 [==============================] - 19s 105ms/step - loss: 0.8656 - mae: 0.6597 - val_loss: 4.9466 - val_mae: 1.6280\n",
            "Epoch 246/250\n",
            "178/178 [==============================] - 19s 104ms/step - loss: 1.2814 - mae: 0.7596 - val_loss: 5.6420 - val_mae: 1.7709\n",
            "Epoch 247/250\n",
            "178/178 [==============================] - 19s 103ms/step - loss: 1.1081 - mae: 0.7359 - val_loss: 5.9609 - val_mae: 1.8123\n",
            "Epoch 248/250\n",
            "178/178 [==============================] - 19s 104ms/step - loss: 0.9880 - mae: 0.6931 - val_loss: 5.5537 - val_mae: 1.7345\n",
            "Epoch 249/250\n",
            "178/178 [==============================] - 19s 104ms/step - loss: 0.9265 - mae: 0.6721 - val_loss: 5.2570 - val_mae: 1.6813\n",
            "Epoch 250/250\n",
            "178/178 [==============================] - 19s 103ms/step - loss: 0.9298 - mae: 0.6708 - val_loss: 5.3988 - val_mae: 1.7528\n"
          ]
        }
      ]
    },
    {
      "cell_type": "code",
      "source": [
        "loss = history.history['loss']\n",
        "val_loss = history.history['val_loss']\n",
        "mae = history.history['mae']\n",
        "val_mae = history.history['val_mae']\n",
        "\n",
        "\n",
        "epochs_x = range(len(loss))\n",
        "\n",
        "\n",
        "plt.plot(epochs_x, mae, 'o', color ='darkviolet', label='Training MAE')\n",
        "plt.plot(epochs_x, val_mae, 'k', label='Validation MAE')\n",
        "plt.title('Training and validation MeanAbsoluteError')\n",
        "plt.legend()\n",
        "\n",
        "plt.figure()\n",
        "plt.plot(epochs_x, loss, 'o', color ='darkviolet', label='Training loss')\n",
        "plt.plot(epochs_x, val_loss, 'k', label='Validation loss')\n",
        "plt.title('Training and validation loss')\n",
        "plt.legend()\n",
        "\n",
        "plt.show()"
      ],
      "metadata": {
        "id": "Y3K89-CM-dfg",
        "colab": {
          "base_uri": "https://localhost:8080/",
          "height": 545
        },
        "outputId": "162d2bc4-9610-47f6-fef4-b3a2950593f1"
      },
      "execution_count": 19,
      "outputs": [
        {
          "output_type": "display_data",
          "data": {
            "text/plain": [
              "<Figure size 432x288 with 1 Axes>"
            ],
            "image/png": "[encoded data removed]"
          },
          "metadata": {
            "needs_background": "light"
          }
        },
        {
          "output_type": "display_data",
          "data": {
            "text/plain": [
              "<Figure size 432x288 with 1 Axes>"
            ],
            "image/png": "[encoded data removed]"
          },
          "metadata": {
            "needs_background": "light"
          }
        }
      ]
    },
    {
      "cell_type": "code",
      "source": [],
      "metadata": {
        "id": "sI5JVEwwQsjc"
      },
      "execution_count": 19,
      "outputs": []
    },
    {
      "cell_type": "code",
      "source": [
        "epochs_x"
      ],
      "metadata": {
        "id": "N_sP_ZmSY-Jv",
        "colab": {
          "base_uri": "https://localhost:8080/"
        },
        "outputId": "947571c2-a764-4175-d2a6-4f8a48c3db15"
      },
      "execution_count": 20,
      "outputs": [
        {
          "output_type": "execute_result",
          "data": {
            "text/plain": [
              "range(0, 250)"
            ]
          },
          "metadata": {},
          "execution_count": 20
        }
      ]
    },
    {
      "cell_type": "markdown",
      "source": [
        "#Download the model\n"
      ],
      "metadata": {
        "id": "R19IJQSYoW7J"
      }
    },
    {
      "cell_type": "code",
      "source": [
        "os.makedirs('/content/drive/My Drive/cut_panoramic/Model', exist_ok=True)\n",
        "model.save('/content/drive/MyDrive/cut_panoramic/Model/Regression/All/6Re_All_1G_1e-4_16_0.2_250_New_Unfreez.h5')"
      ],
      "metadata": {
        "id": "Zed4TdFcG2iJ"
      },
      "execution_count": 21,
      "outputs": []
    },
    {
      "cell_type": "markdown",
      "source": [],
      "metadata": {
        "id": "n5YxZ-5QjQ0-"
      }
    },
    {
      "cell_type": "code",
      "source": [
        "# from google.colab import files\n",
        "# files.download('/content/drive/My Drive/cut_panoramic/Model/1.1_รอบแรก_Flimpano_Male125_250.h5')"
      ],
      "metadata": {
        "id": "P5eMxm1NV-oY"
      },
      "execution_count": 22,
      "outputs": []
    },
    {
      "cell_type": "code",
      "source": [
        "\n"
      ],
      "metadata": {
        "id": "wY_pDlxkRwxS"
      },
      "execution_count": 22,
      "outputs": []
    }
  ]
}